{
 "cells": [
  {
   "cell_type": "markdown",
   "id": "28eec46b-c69d-4c26-af68-7c443aea2b94",
   "metadata": {},
   "source": [
    "Here's how we use sqlite3 to connect to an SQLite database in Python:"
   ]
  },
  {
   "cell_type": "code",
   "execution_count": 1,
   "id": "fdb43dce-dfe9-42b8-95c0-8fe5d788c25d",
   "metadata": {},
   "outputs": [],
   "source": [
    "import sqlite3\n",
    "from sqlite3 import Error"
   ]
  },
  {
   "cell_type": "code",
   "execution_count": 2,
   "id": "47f3e5cc-f7a8-4909-84ef-6188f48e66da",
   "metadata": {},
   "outputs": [],
   "source": [
    "def create_connection(path):\n",
    "    connection = None\n",
    "    try:\n",
    "        connection = sqlite3.connect(path)\n",
    "        print(\"Connection to SQLite DB successful\")\n",
    "    except Error as e:\n",
    "        print(f\"The error '{e}' occurred\")\n",
    "        \n",
    "    return connection"
   ]
  },
  {
   "cell_type": "code",
   "execution_count": 3,
   "id": "3e8a5429-ef96-4fd3-99ab-e5edfcb95ade",
   "metadata": {},
   "outputs": [
    {
     "name": "stdout",
     "output_type": "stream",
     "text": [
      "Connection to SQLite DB successful\n"
     ]
    }
   ],
   "source": [
    "connection = create_connection(\"sm_app.sqlite\")"
   ]
  },
  {
   "cell_type": "markdown",
   "id": "31049c8e-8bd5-434f-a807-e888a2935074",
   "metadata": {},
   "source": [
    "To execute queries in SQLite, use cursor.execute(). In this section, we'll define a function execute_query() that uses this method. Our function will accept the connection object and a query string, which we'll pass to cursor.execute()."
   ]
  },
  {
   "cell_type": "code",
   "execution_count": 5,
   "id": "24012bdd-70ea-496b-8fe6-a72c666c88d8",
   "metadata": {},
   "outputs": [],
   "source": [
    "# define execute_query function"
   ]
  },
  {
   "cell_type": "code",
   "execution_count": 4,
   "id": "e8e7c625-b7c8-4380-aa2b-e145a128a8a6",
   "metadata": {},
   "outputs": [],
   "source": [
    "def execute_query(connection, query):\n",
    "    cursor = connection.cursor()\n",
    "    try:\n",
    "        cursor.execute(query)\n",
    "        connection.commit()\n",
    "        print(\"Query executed successfully\")\n",
    "    except Error as e:\n",
    "        print(f\"The error '{e}' occured\")"
   ]
  },
  {
   "cell_type": "code",
   "execution_count": 6,
   "id": "4805d361-f62d-4486-807e-71d6e297d25d",
   "metadata": {},
   "outputs": [],
   "source": [
    "# write query"
   ]
  },
  {
   "cell_type": "code",
   "execution_count": 7,
   "id": "06099952-1597-47b4-9205-50008ac5f5a9",
   "metadata": {},
   "outputs": [],
   "source": [
    "create_users_table = \"\"\"\n",
    "CREATE TABLE IF NOT EXISTS users (\n",
    "    id INTEGER PRIMARY KEY AUTOINCREMENT,\n",
    "    name TEXT NOT NULL,\n",
    "    age INTEGER,\n",
    "    gender TEXT,\n",
    "    nationality TEXT\n",
    ");\n",
    "\"\"\""
   ]
  },
  {
   "cell_type": "code",
   "execution_count": 8,
   "id": "8f942343-8ade-4234-a14f-4a3da12bcca1",
   "metadata": {},
   "outputs": [],
   "source": [
    "# call execute_query function"
   ]
  },
  {
   "cell_type": "code",
   "execution_count": 9,
   "id": "99450c75-e4b7-4cf2-a70f-363aad505ce0",
   "metadata": {},
   "outputs": [
    {
     "name": "stdout",
     "output_type": "stream",
     "text": [
      "Query executed successfully\n"
     ]
    }
   ],
   "source": [
    "execute_query(connection, create_users_table)"
   ]
  },
  {
   "cell_type": "code",
   "execution_count": 10,
   "id": "752013f1-a3dc-4342-b968-03cbc576a38f",
   "metadata": {},
   "outputs": [],
   "source": [
    "create_posts_table = \"\"\"\n",
    "CREATE TABLE IF NOT EXISTS posts(\n",
    "  id INTEGER PRIMARY KEY AUTOINCREMENT, \n",
    "  title TEXT NOT NULL, \n",
    "  description TEXT NOT NULL, \n",
    "  user_id INTEGER NOT NULL, \n",
    "  FOREIGN KEY (user_id) REFERENCES users (id)\n",
    ");\n",
    "\"\"\""
   ]
  },
  {
   "cell_type": "code",
   "execution_count": 11,
   "id": "ce16697e-1ffa-4be3-ae02-52b70b949810",
   "metadata": {},
   "outputs": [
    {
     "name": "stdout",
     "output_type": "stream",
     "text": [
      "Query executed successfully\n"
     ]
    }
   ],
   "source": [
    "execute_query(connection, create_posts_table)"
   ]
  },
  {
   "cell_type": "code",
   "execution_count": 12,
   "id": "4bbbe00f-b285-43e7-9882-e2ca32e79698",
   "metadata": {},
   "outputs": [],
   "source": [
    "create_comments_table = \"\"\"\n",
    "CREATE TABLE IF NOT EXISTS comments (\n",
    "  id INTEGER PRIMARY KEY AUTOINCREMENT, \n",
    "  text TEXT NOT NULL, \n",
    "  user_id INTEGER NOT NULL, \n",
    "  post_id INTEGER NOT NULL, \n",
    "  FOREIGN KEY (user_id) REFERENCES users (id) FOREIGN KEY (post_id) REFERENCES posts (id)\n",
    ");\n",
    "\"\"\"\n",
    "\n",
    "create_likes_table = \"\"\"\n",
    "CREATE TABLE IF NOT EXISTS likes (\n",
    "  id INTEGER PRIMARY KEY AUTOINCREMENT, \n",
    "  user_id INTEGER NOT NULL, \n",
    "  post_id integer NOT NULL, \n",
    "  FOREIGN KEY (user_id) REFERENCES users (id) FOREIGN KEY (post_id) REFERENCES posts (id)\n",
    ");\n",
    "\"\"\""
   ]
  },
  {
   "cell_type": "code",
   "execution_count": 13,
   "id": "3b4e4999-9c4c-408a-94e9-9e7fa8f0461a",
   "metadata": {},
   "outputs": [
    {
     "name": "stdout",
     "output_type": "stream",
     "text": [
      "Query executed successfully\n",
      "Query executed successfully\n"
     ]
    }
   ],
   "source": [
    "execute_query(connection, create_comments_table)\n",
    "execute_query(connection, create_likes_table)"
   ]
  },
  {
   "cell_type": "code",
   "execution_count": 14,
   "id": "526a89a7-1bdc-4805-822b-da546b029415",
   "metadata": {},
   "outputs": [],
   "source": [
    "# insert records into tables"
   ]
  },
  {
   "cell_type": "code",
   "execution_count": 17,
   "id": "490b10f7-152f-425e-ad8e-cb7be971e71b",
   "metadata": {},
   "outputs": [],
   "source": [
    "create_users = \"\"\"\n",
    "INSERT INTO\n",
    "    users (name, age, gender, nationality)\n",
    "VALUES\n",
    "    ('James', 25, 'male', 'USA'),\n",
    "    ('Leila', 32, 'female', 'France'),\n",
    "    ('Brigette', 35, 'female', 'England'),\n",
    "    ('Mike', 40, 'male', 'Denmark'),\n",
    "    ('Elizabeth', 21, 'female', 'Canada');\n",
    "\"\"\""
   ]
  },
  {
   "cell_type": "code",
   "execution_count": 18,
   "id": "d2c7b578-7411-43a5-b753-d7926f7ea359",
   "metadata": {},
   "outputs": [
    {
     "name": "stdout",
     "output_type": "stream",
     "text": [
      "Query executed successfully\n"
     ]
    }
   ],
   "source": [
    "execute_query(connection, create_users)"
   ]
  },
  {
   "cell_type": "code",
   "execution_count": 19,
   "id": "b046e93f-e3d1-4e83-a0cd-43ac01114648",
   "metadata": {},
   "outputs": [
    {
     "name": "stdout",
     "output_type": "stream",
     "text": [
      "Query executed successfully\n"
     ]
    }
   ],
   "source": [
    "create_posts = \"\"\"\n",
    "INSERT INTO\n",
    "  posts (title, description, user_id)\n",
    "VALUES\n",
    "  (\"Happy\", \"I am feeling very happy today\", 1),\n",
    "  (\"Hot Weather\", \"The weather is very hot today\", 2),\n",
    "  (\"Help\", \"I need some help with my work\", 2),\n",
    "  (\"Great News\", \"I am getting married\", 1),\n",
    "  (\"Interesting Game\", \"It was a fantastic game of tennis\", 5),\n",
    "  (\"Party\", \"Anyone up for a late-night party today?\", 3);\n",
    "\"\"\"\n",
    "\n",
    "execute_query(connection, create_posts)  "
   ]
  },
  {
   "cell_type": "code",
   "execution_count": 20,
   "id": "524de522-d120-4395-bd34-5faae2ecd633",
   "metadata": {},
   "outputs": [
    {
     "name": "stdout",
     "output_type": "stream",
     "text": [
      "Query executed successfully\n",
      "Query executed successfully\n"
     ]
    }
   ],
   "source": [
    "create_comments = \"\"\"\n",
    "INSERT INTO\n",
    "  comments (text, user_id, post_id)\n",
    "VALUES\n",
    "  ('Count me in', 1, 6),\n",
    "  ('What sort of help?', 5, 3),\n",
    "  ('Congrats buddy', 2, 4),\n",
    "  ('I was rooting for Nadal though', 4, 5),\n",
    "  ('Help with your thesis?', 2, 3),\n",
    "  ('Many congratulations', 5, 4);\n",
    "\"\"\"\n",
    "\n",
    "create_likes = \"\"\"\n",
    "INSERT INTO\n",
    "  likes (user_id, post_id)\n",
    "VALUES\n",
    "  (1, 6),\n",
    "  (2, 3),\n",
    "  (1, 5),\n",
    "  (5, 4),\n",
    "  (2, 4),\n",
    "  (4, 2),\n",
    "  (3, 6);\n",
    "\"\"\"\n",
    "\n",
    "execute_query(connection, create_comments)\n",
    "execute_query(connection, create_likes) "
   ]
  },
  {
   "cell_type": "code",
   "execution_count": 21,
   "id": "d129f603-cdf1-42bf-84fb-6774d2fdbe31",
   "metadata": {},
   "outputs": [],
   "source": [
    "# create a function called execute_read_query() to select records using SQLite"
   ]
  },
  {
   "cell_type": "code",
   "execution_count": 27,
   "id": "1bf49f8f-25fd-4f93-8942-b8a21e3eafcf",
   "metadata": {},
   "outputs": [],
   "source": [
    "def execute_read_query(connection, query):\n",
    "    cursor = connection.cursor()\n",
    "    result = None\n",
    "    try:\n",
    "        cursor.execute(query)\n",
    "        result = cursor.fetchall()\n",
    "        return result\n",
    "    except Error as e:\n",
    "        print(f\"The error '{e}' occurred\")"
   ]
  },
  {
   "cell_type": "code",
   "execution_count": 28,
   "id": "9d78ddf7-7563-4e16-9a00-31c72b2d1d7e",
   "metadata": {},
   "outputs": [],
   "source": [
    "# select all records from the users table:"
   ]
  },
  {
   "cell_type": "code",
   "execution_count": 29,
   "id": "87811834-83ba-455d-97d5-f240eec18c0e",
   "metadata": {},
   "outputs": [
    {
     "name": "stdout",
     "output_type": "stream",
     "text": [
      "(1, 'James', 25, 'male', 'USA')\n",
      "(2, 'Leila', 32, 'female', 'France')\n",
      "(3, 'Brigette', 35, 'female', 'England')\n",
      "(4, 'Mike', 40, 'male', 'Denmark')\n",
      "(5, 'Elizabeth', 21, 'female', 'Canada')\n"
     ]
    }
   ],
   "source": [
    "select_users = \"SELECT * from users\"\n",
    "users = execute_read_query(connection, select_users)\n",
    "\n",
    "for user in users:\n",
    "    print(user)"
   ]
  },
  {
   "cell_type": "code",
   "execution_count": 30,
   "id": "238ff75e-39c4-4a55-a5ac-c4a1ce179c0a",
   "metadata": {},
   "outputs": [],
   "source": [
    "# update table records"
   ]
  },
  {
   "cell_type": "code",
   "execution_count": 32,
   "id": "6eda023b-e72b-498e-80b6-47dfcbe8ba8e",
   "metadata": {},
   "outputs": [
    {
     "name": "stdout",
     "output_type": "stream",
     "text": [
      "Query executed successfully\n"
     ]
    }
   ],
   "source": [
    "update_post_description = \"\"\"\n",
    "UPDATE\n",
    "    posts\n",
    "SET\n",
    "    description = \"The weather has become pleasant now\"\n",
    "WHERE\n",
    "    id = 2\n",
    "\"\"\"\n",
    "\n",
    "execute_query(connection, update_post_description)"
   ]
  },
  {
   "cell_type": "code",
   "execution_count": 33,
   "id": "8b065cd8-0a50-414e-85b7-b51a528c5323",
   "metadata": {},
   "outputs": [],
   "source": [
    "# Deleting Table Records"
   ]
  },
  {
   "cell_type": "code",
   "execution_count": 34,
   "id": "10afc0d2-7017-4190-adf9-19ea0125cabe",
   "metadata": {},
   "outputs": [
    {
     "name": "stdout",
     "output_type": "stream",
     "text": [
      "Query executed successfully\n"
     ]
    }
   ],
   "source": [
    "delete_comment = \"DELETE FROM comments WHERE id = 5\"\n",
    "execute_query(connection, delete_comment)"
   ]
  },
  {
   "cell_type": "code",
   "execution_count": 41,
   "id": "1a5e0069-bdf7-4da6-8d0d-b73519322f9b",
   "metadata": {},
   "outputs": [
    {
     "name": "stdout",
     "output_type": "stream",
     "text": [
      "(1, 'Count me in', 1, 6)\n",
      "(2, 'What sort of help?', 5, 3)\n",
      "(3, 'Congrats buddy', 2, 4)\n",
      "(4, 'I was rooting for Nadal though', 4, 5)\n",
      "(6, 'Many congratulations', 5, 4)\n"
     ]
    }
   ],
   "source": [
    "select_comments = \"SELECT * from comments\"\n",
    "comments = execute_read_query(connection, select_comments)\n",
    "\n",
    "for comment in comments:\n",
    "    print(comment)"
   ]
  },
  {
   "cell_type": "code",
   "execution_count": null,
   "id": "47a01b8e-9b69-47a4-98f9-0adb0bd9bd9b",
   "metadata": {},
   "outputs": [],
   "source": []
  }
 ],
 "metadata": {
  "kernelspec": {
   "display_name": "Python 3 (ipykernel)",
   "language": "python",
   "name": "python3"
  },
  "language_info": {
   "codemirror_mode": {
    "name": "ipython",
    "version": 3
   },
   "file_extension": ".py",
   "mimetype": "text/x-python",
   "name": "python",
   "nbconvert_exporter": "python",
   "pygments_lexer": "ipython3",
   "version": "3.9.13"
  }
 },
 "nbformat": 4,
 "nbformat_minor": 5
}
