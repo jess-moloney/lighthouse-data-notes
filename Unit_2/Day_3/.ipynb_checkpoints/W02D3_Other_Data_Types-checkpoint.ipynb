{
  "cells": [
    {
      "cell_type": "markdown",
      "metadata": {
        "id": "U3nJTACiCDeB"
      },
      "source": [
        "## Lighthouse Labs\n",
        "### W2D3 Other Data Types\n",
        "\n",
        "Instructor: Mark Cassar\n",
        "Original Notebook: Socorro Dominguez  "
      ]
    },
    {
      "cell_type": "markdown",
      "metadata": {
        "id": "k1YsgP_LCDeD"
      },
      "source": [
        "## Agenda\n",
        "* Tabular data and tidy data \n",
        "* Other data types\n",
        "    - JSON\n",
        "    - XML\n",
        "    - HTML\n",
        "    - XLSX\n",
        "    - Text\n",
        "    - Images"
      ]
    },
    {
      "cell_type": "markdown",
      "metadata": {
        "id": "7yvTxLBaCDeD"
      },
      "source": [
        "## What is tabular data?\n",
        "- each row is a single observation\n",
        "- variables are in columns\n",
        "\n",
        "## What is tidy data? \n",
        "\n",
        "- This concept stems from a paper written by renowned data scientist Hadley Wickham in 2014.\n",
        "\n",
        "- We tidy our data so that we can create a standard across multiple analysis tools. It changes the focus from figuring out the logistics of how the data is structured, to answering the actual analysis question being asked."
      ]
    },
    {
      "cell_type": "markdown",
      "metadata": {
        "id": "Nc3YKKneCDeE"
      },
      "source": [
        "Tidy data satisfies the following three criteria:\n",
        "\n",
        "- Each row is a single observation,\n",
        "- Each variable is a single column, and\n",
        "- Each value is a single cell (i.e., its row, column position in the dataframe is not shared with another value)"
      ]
    },
    {
      "cell_type": "markdown",
      "metadata": {
        "id": "4dVWzegQCDeE"
      },
      "source": [
        "## Tidy data\n",
        "\n",
        "<img src=\"https://d33wubrfki0l68.cloudfront.net/6f1ddb544fc5c69a2478e444ab8112fb0eea23f8/91adc/images/tidy-1.png\" width=\"800\" />\n",
        "\n",
        "What is a variable and an observation may depend on your immediate goal."
      ]
    },
    {
      "cell_type": "markdown",
      "metadata": {
        "id": "vMlIqUrpCDeE"
      },
      "source": [
        "## Example 1: Is this tidy? \n",
        "*Examples source: https://garrettgman.github.io/tidying/*\n",
        "\n",
        "\n",
        "| country | year  | cases_per_capita |\n",
        "|---------|-------|---|\n",
        "| Afghanistan | 1999|      745/19987071\n",
        "|Afghanistan |2000    | 2666/20595360\n",
        "|      Brazil |1999|   37737/172006362\n",
        "|      Brazil |2000  | 80488/174504898\n",
        "|      China |1999| 212258/1272915272\n",
        "|      China |2000 |213766/1280428583"
      ]
    },
    {
      "cell_type": "markdown",
      "metadata": {
        "id": "3fYrzzTtCDeF"
      },
      "source": [
        "## Example 2: Is this tidy?\n",
        "\n",
        "| country | cases (year=1999) | cases (year=2000)| population (year=1999) | population (year=2000)|\n",
        "|---------|-------|-------|-------|-------|\n",
        "| Afghanistan |   745 |  2666 |  19987071 |  20595360 |\n",
        "|  Brazil | 37737 | 80488 | 172006362 | 174504898 |\n",
        "|  China | 212258 | 213766 | 1272915272 | 1280428583 |"
      ]
    },
    {
      "cell_type": "markdown",
      "metadata": {
        "id": "cxGBKZ67CDeF"
      },
      "source": [
        "## Example 3: Is this tidy?\n",
        "\n",
        "\n",
        "| country | year  | cases | population |\n",
        "|---------|-------|-------|------------|\n",
        "| Afghanistan | 1999  |  745  | 19987071|\n",
        "| Afghanistan | 2000 |  2666 |  20595360|\n",
        "|Brazil |1999 | 37737  |172006362|\n",
        "| Brazil| 2000 | 80488 | 174504898|\n",
        "| China | 1999 | 212258 |1272915272|\n",
        "|  China |2000 | 213766 | 1280428583|"
      ]
    },
    {
      "cell_type": "markdown",
      "metadata": {
        "id": "BG6wvcImCDeG"
      },
      "source": [
        "## Example 4: Is this tidy?\n",
        "\n",
        "\n",
        "| country | year  | key | value |\n",
        "|---------|-------|-------|------------|\n",
        "|Afghanistan |1999 |     cases   |     745\n",
        "| Afghanistan |1999| population  | 19987071\n",
        "|  Afghanistan |2000|      cases |      2666\n",
        "|  Afghanistan| 2000| population |  20595360\n",
        "|       Brazil| 1999|      cases |     37737\n",
        "|       Brazil |1999| population | 172006362\n",
        "|       Brazil| 2000|      cases  |    80488\n",
        "|       Brazil |2000| population | 174504898\n",
        "|        China |1999|      cases  |   212258\n",
        "|       China |1999| population |1272915272\n",
        "|       China |2000|      cases |    213766\n",
        "|       China |2000| population| 1280428583"
      ]
    },
    {
      "cell_type": "markdown",
      "metadata": {
        "id": "xdodISQDCDeH"
      },
      "source": [
        "**Dataset 3** is much easier to work with than the others. \n",
        "\n",
        "To work with the other datasets you need to take extra steps, making your code harder to write, and concepts harder to understand.  \n",
        "\n",
        "The energy you need to manage a poor layout will increase with the size of your data. \n",
        "\n",
        "Avoid these difficulties by converting your data into a tidy format at the start of your analysis."
      ]
    },
    {
      "cell_type": "markdown",
      "metadata": {
        "id": "IWwzpGXkCDeI"
      },
      "source": [
        "## What other types of data are useful to data scientists?\n",
        "\n",
        "\n",
        "| Data Type | Example | What are we trying to use it for? |\n",
        "|:-|:---------------------|:--------------------------------------------|\n",
        "| Text         | Tweets, scripts, books | Sentiment analysis, other NLP |\n",
        "| JSON or XML  | Parsing APIs | Gather data, data ingestion process, trend analysis, forecasting |\n",
        "| HTML         |Web scraping| Get prices of different products, Facebook / LinkedIn contacts and work history|\n",
        "| Images       |Computer vision|Self-driving cars, X-rays - diagnostics|\n",
        "\n",
        "- Text: will be covered in more detail when we're doing Natural Language Processing (NLP)\n",
        "- JSON: we will talk about nested JSON file today.\n",
        "- XML and HTML: We saw the basics and we'll talk more about it today.\n",
        "- Images: will be covered in more detail when we're doing Convolutional Neural Networks (CNNs)"
      ]
    },
    {
      "cell_type": "markdown",
      "metadata": {
        "id": "uSJNlpqlCDeI"
      },
      "source": [
        "## Different data, different tools\n",
        "\n",
        "* Tabular data: `pandas`, `SQL`\n",
        "* XML and HTML: `xml`\n",
        "* JSON: `json`\n",
        "* HTML - other alternatives: `BeautifulSoup` \n",
        "* Images - CNNs - Keras, PyTorch, TensorFlow\n",
        "* Sequences - LSTMs - Keras, PyTorch, TensorFlow\n",
        "* Text - nltk, SpaCy, Keras, PyTorch, TensorFlow\n"
      ]
    },
    {
      "cell_type": "markdown",
      "metadata": {
        "id": "EyXQn81RCDeI"
      },
      "source": [
        "## Tabular data using pandas\n"
      ]
    },
    {
      "cell_type": "code",
      "execution_count": null,
      "metadata": {
        "id": "DHt5-3vCCDeI"
      },
      "outputs": [],
      "source": [
        "import pandas as pd\n",
        "import openpyxl"
      ]
    },
    {
      "cell_type": "code",
      "execution_count": null,
      "metadata": {
        "id": "gOV-UHgeCDeJ"
      },
      "outputs": [],
      "source": [
        "wine_csv = pd.read_excel('data/wine.xlsx')\n",
        "wine_csv"
      ]
    },
    {
      "cell_type": "code",
      "execution_count": null,
      "metadata": {
        "scrolled": true,
        "id": "RPyQxboLCDeJ"
      },
      "outputs": [],
      "source": [
        "wine_xlsx = pd.read_excel('data/wine.xlsx', engine = 'openpyxl')\n",
        "wine_xlsx"
      ]
    },
    {
      "cell_type": "markdown",
      "metadata": {
        "id": "az537pXDCDeJ"
      },
      "source": [
        "## Python and Excel\n",
        "- They are complementary! It's not a competition.\n",
        "- Uses for both\n",
        "- For example:"
      ]
    },
    {
      "cell_type": "code",
      "execution_count": null,
      "metadata": {
        "id": "Yx2vbxqtCDeK"
      },
      "outputs": [],
      "source": [
        "wine_2 = pd.read_excel('data/wine_2.xlsx', engine = 'openpyxl')\n",
        "wine_2"
      ]
    },
    {
      "cell_type": "markdown",
      "metadata": {
        "id": "1Uq1Z_A6CDeK"
      },
      "source": [
        "- What's wrong? What happens when we open the file?\n"
      ]
    },
    {
      "cell_type": "markdown",
      "metadata": {
        "id": "svF5Jap9CDeK"
      },
      "source": [
        "## Tab 1\n",
        "![tab1](img/Tab1.png)"
      ]
    },
    {
      "cell_type": "markdown",
      "metadata": {
        "id": "XzOLBL13CDeK"
      },
      "source": [
        "## Tab 2\n",
        "![tab2](img/Tab2.png)"
      ]
    },
    {
      "cell_type": "markdown",
      "metadata": {
        "id": "h5sTnDFKCDeK"
      },
      "source": [
        "## Python and Excel ... continued\n",
        "- After opening the file, we know that the useful data is on Sheet 2"
      ]
    },
    {
      "cell_type": "code",
      "execution_count": null,
      "metadata": {
        "id": "cZf0tvyqCDeK"
      },
      "outputs": [],
      "source": [
        "wine_2 = pd.read_excel('data/wine_2.xlsx', sheet_name='DATA', engine = 'openpyxl') \n",
        "wine_2"
      ]
    },
    {
      "cell_type": "markdown",
      "metadata": {
        "id": "Pzbvs4A-CDeK"
      },
      "source": [
        "## Data Science intro to XML and HTML\n",
        "- hierarchical collection of elements\n",
        "- element consists of start tag, content and end tag, and attributes\n",
        "- tags have names and are delimited with `<` and `>`; end tag with `</`\n",
        "- attributes added after the tag name within `<` and `>`\n",
        "\n",
        "For example: `<country>` \"Canada\" `</country>`\n",
        "- `country` is the tag\n",
        "- `name=\"Canada\"` is an attribute\n",
        "\n",
        "**HTML is just XML for webpages.** \n"
      ]
    },
    {
      "cell_type": "markdown",
      "metadata": {
        "tags": [],
        "id": "qdOpkvpkCDeL"
      },
      "source": [
        "## Let's see a HTML example\n",
        "\n",
        "Let's take a look at an example: https://en.wikipedia.org/wiki/List_of_FIFA_World_Cup_winners\n",
        "- Use inspect page to see HTML, F12 for Windows Users\n",
        "- Explain header, body, tags etc."
      ]
    },
    {
      "cell_type": "code",
      "execution_count": null,
      "metadata": {
        "id": "yX3GnUZzCDeL"
      },
      "outputs": [],
      "source": [
        "from bs4 import BeautifulSoup\n",
        "import requests"
      ]
    },
    {
      "cell_type": "code",
      "execution_count": null,
      "metadata": {
        "id": "r1-06veECDeL"
      },
      "outputs": [],
      "source": [
        "scrape_url = 'https://canada.ca/en/services/science.html'\n",
        "page = requests.get(scrape_url)\n",
        "soup = BeautifulSoup(page.content, 'html.parser')\n",
        "soup"
      ]
    },
    {
      "cell_type": "code",
      "execution_count": null,
      "metadata": {
        "id": "YPHT52w-CDeL"
      },
      "outputs": [],
      "source": [
        "soup.find_all('p')"
      ]
    },
    {
      "cell_type": "code",
      "execution_count": null,
      "metadata": {
        "id": "QIYi0iZuCDeL"
      },
      "outputs": [],
      "source": [
        "for item in soup.find_all('p'):\n",
        "    print(item.get_text())\n",
        "    print('\\n')"
      ]
    },
    {
      "cell_type": "markdown",
      "metadata": {
        "id": "rxA400bWCDeL"
      },
      "source": [
        "### XML   \n",
        "• hierarchical description of tagged data  \n",
        "\n",
        "```\n",
        "<library>\n",
        "<book>\n",
        "<title name='For Whom the Bell Tolls'>\n",
        "<author>\n",
        "Ernest Hemingway\n",
        "</author>\n",
        "</book>\n",
        "<book>\n",
        "<title>\n",
        "The Stranger\n",
        "</title>\n",
        "<author>\n",
        "Albert Camus\n",
        "</author>\n",
        "</book>\n",
        "</library>\n",
        "```"
      ]
    },
    {
      "cell_type": "markdown",
      "metadata": {
        "id": "zKFAxTMJCDeL"
      },
      "source": [
        "## XML\n",
        "- Let's take a look at an XML file\n",
        "- We use the `xml` package to work with XML"
      ]
    },
    {
      "cell_type": "code",
      "execution_count": null,
      "metadata": {
        "id": "oaR9E3BwCDeL"
      },
      "outputs": [],
      "source": [
        "import xml.etree.ElementTree as et"
      ]
    },
    {
      "cell_type": "code",
      "execution_count": null,
      "metadata": {
        "id": "Q9uN2HiICDeL"
      },
      "outputs": [],
      "source": [
        "# parses the XML so that it figures out the \"tree\" of tags\n",
        "tree = et.parse('data/data.xml')\n",
        "tree"
      ]
    },
    {
      "cell_type": "code",
      "execution_count": null,
      "metadata": {
        "id": "QFOBwvILCDeM"
      },
      "outputs": [],
      "source": [
        "# get to the root tag of the file\n",
        "root = tree.getroot()\n",
        "root"
      ]
    },
    {
      "cell_type": "code",
      "execution_count": null,
      "metadata": {
        "id": "eb55wFgRCDeM"
      },
      "outputs": [],
      "source": [
        "root.tag"
      ]
    },
    {
      "cell_type": "markdown",
      "metadata": {
        "id": "OLiIaRO8CDeM"
      },
      "source": [
        "From the root, we can begin to navigate the tree"
      ]
    },
    {
      "cell_type": "code",
      "execution_count": null,
      "metadata": {
        "id": "Mnvi-Qb9CDeM"
      },
      "outputs": [],
      "source": [
        "# get root tag\n",
        "print(\"What is the root tag:\", root.tag)\n",
        "\n",
        "# get root attributes\n",
        "print(\"Attributes of the root tag:\", root.attrib)\n",
        "\n",
        "# get number of \"children\"\n",
        "print(\"Number of children:\", len(root))"
      ]
    },
    {
      "cell_type": "code",
      "execution_count": null,
      "metadata": {
        "id": "02bEyo7NCDeM"
      },
      "outputs": [],
      "source": [
        "for i, child in enumerate(root):\n",
        "    print(f\"Child {i}: {child.tag}\")\n",
        "    for gc in child:\n",
        "        print(f\"\\t\\t{gc.tag}\")"
      ]
    },
    {
      "cell_type": "code",
      "execution_count": null,
      "metadata": {
        "id": "SNkoM3mTCDeM"
      },
      "outputs": [],
      "source": [
        "# printing out the children of root\n",
        "for idx in range(len(root)):\n",
        "    print(\"tag:\", root[idx].tag, \"| attribute:\", root[idx].attrib)"
      ]
    },
    {
      "cell_type": "code",
      "execution_count": null,
      "metadata": {
        "id": "Z_R2RkwPCDeM"
      },
      "outputs": [],
      "source": [
        "x = root[0].attrib\n",
        "x['name']"
      ]
    },
    {
      "cell_type": "code",
      "execution_count": null,
      "metadata": {
        "id": "s5hfosaaCDeM"
      },
      "outputs": [],
      "source": [
        "country3 = root[2]\n",
        "\n",
        "neighbour = country3[3]\n",
        "neighbour.attrib\n",
        "\n",
        "gdppc = country3[2]\n",
        "gdppc\n",
        "\n",
        "print(country3.attrib)\n",
        "print(gdppc.tag, \":\", gdppc.text)\n",
        "print(neighbour.attrib)\n",
        "\n"
      ]
    },
    {
      "cell_type": "code",
      "execution_count": null,
      "metadata": {
        "id": "xNhiruHBCDeM"
      },
      "outputs": [],
      "source": [
        "import xmltodict, json\n",
        "\n",
        "obj = xmltodict.parse(\"\"\"\n",
        "<employees>\n",
        "    <employee>\n",
        "        <name>Dave</name>\n",
        "        <role>Sale Assistant</role>\n",
        "        <age>34</age>\n",
        "    </employee>\n",
        "</employees>\n",
        "\"\"\")\n",
        "print(json.dumps(obj))"
      ]
    },
    {
      "cell_type": "markdown",
      "metadata": {
        "id": "T1kbJdSsCDeN"
      },
      "source": [
        "## JSON\n",
        "\n",
        "Here's some sample JSON: https://raw.githubusercontent.com/chrisalbon/simulated_datasets/master/data.json"
      ]
    },
    {
      "cell_type": "markdown",
      "metadata": {
        "id": "yfc8zkbzCDeN"
      },
      "source": [
        "[JSON Plug-in](https://chrome.google.com/webstore/detail/json-formatter/bcjindcccaagfpapjjmafapmmgkkhgoa?hl=en)"
      ]
    },
    {
      "cell_type": "code",
      "execution_count": null,
      "metadata": {
        "id": "xa-efffNCDeN"
      },
      "outputs": [],
      "source": [
        "# You can read from the URL too!!\n",
        "url = 'https://raw.githubusercontent.com/chrisalbon/simulated_datasets/master/data.json'\n",
        "json_data = pd.read_json(url)\n",
        "json_data"
      ]
    },
    {
      "cell_type": "markdown",
      "metadata": {
        "id": "J5FE-a96CDeN"
      },
      "source": [
        "## JSON ... continued\n",
        "- `pd.read_json` doesn't work so well with nested JSON...\n",
        "- Let's take a look at what a nested JSON is: https://raw.githubusercontent.com/chrisalbon/simulated_datasets/master/data.json"
      ]
    },
    {
      "cell_type": "code",
      "execution_count": null,
      "metadata": {
        "scrolled": true,
        "id": "CqrNaW_2CDeN"
      },
      "outputs": [],
      "source": [
        "# an error happens when you run this cell\n",
        "import pandas as pd \n",
        "from IPython.display import JSON\n",
        "nested_json = pd.read_json('data/nested.json')\n",
        "nested_json"
      ]
    },
    {
      "cell_type": "markdown",
      "metadata": {
        "id": "U_yK3ilaCDeN"
      },
      "source": [
        "Instead, you can try this:"
      ]
    },
    {
      "cell_type": "code",
      "execution_count": null,
      "metadata": {
        "scrolled": true,
        "id": "Jz5IRAfFCDeN"
      },
      "outputs": [],
      "source": [
        "import pprint\n",
        "import json\n",
        "\n",
        "with open('data/nested.json') as file:\n",
        "    nested_json = json.load(file)\n",
        "\n",
        "nested_json"
      ]
    },
    {
      "cell_type": "code",
      "execution_count": null,
      "metadata": {
        "id": "tjRBJVL6CDeN"
      },
      "outputs": [],
      "source": [
        "pprint.pprint(nested_json)"
      ]
    },
    {
      "cell_type": "code",
      "execution_count": null,
      "metadata": {
        "id": "7rSeIBxJCDeN"
      },
      "outputs": [],
      "source": [
        "# Just Jupyter Lab\n",
        "from IPython.display import JSON\n",
        "JSON(nested_json)"
      ]
    },
    {
      "cell_type": "markdown",
      "metadata": {
        "id": "S9PcMnShCDeN"
      },
      "source": [
        "- What is the type?"
      ]
    },
    {
      "cell_type": "code",
      "execution_count": null,
      "metadata": {
        "id": "vFxxNIW1CDeN"
      },
      "outputs": [],
      "source": [
        "type(nested_json)"
      ]
    },
    {
      "cell_type": "markdown",
      "metadata": {
        "id": "Y2MUWQqHCDeN"
      },
      "source": [
        "## Nested JSON "
      ]
    },
    {
      "cell_type": "code",
      "execution_count": null,
      "metadata": {
        "id": "Qni4OfvzCDeO"
      },
      "outputs": [],
      "source": [
        "pd.json_normalize(nested_json)"
      ]
    },
    {
      "cell_type": "code",
      "execution_count": null,
      "metadata": {
        "id": "-8V8PNwBCDeO"
      },
      "outputs": [],
      "source": [
        "blog = pd.json_normalize(nested_json, record_path='blog')\n",
        "blog.head()"
      ]
    },
    {
      "cell_type": "code",
      "execution_count": null,
      "metadata": {
        "id": "whzsSMGRCDeO"
      },
      "outputs": [],
      "source": [
        "article = pd.json_normalize(nested_json, record_path ='article')\n",
        "article.head()"
      ]
    },
    {
      "cell_type": "code",
      "execution_count": null,
      "metadata": {
        "id": "DrAhpvijCDeO"
      },
      "outputs": [],
      "source": [
        "nested_json2 = nested_json['article']\n",
        "nested_json2"
      ]
    },
    {
      "cell_type": "code",
      "execution_count": null,
      "metadata": {
        "id": "yF0aIJ9BCDeO"
      },
      "outputs": [],
      "source": [
        "nested_json2"
      ]
    },
    {
      "cell_type": "code",
      "execution_count": null,
      "metadata": {
        "id": "LKnhGIOSCDeO"
      },
      "outputs": [],
      "source": [
        "pd.json_normalize(nested_json2)"
      ]
    },
    {
      "cell_type": "code",
      "execution_count": null,
      "metadata": {
        "id": "aYM2OQGgCDeO"
      },
      "outputs": [],
      "source": [
        "data = [{\"state\": \"Florida\", \n",
        "        \"shortname\": \"FL\",\n",
        "        \"info\": {\"governor\": \"Rick Scott\", \"governor_2\": \"John Doe\"},\n",
        "        \"counties\": [{\"name\": \"Dade\", \"population\": 12345},\n",
        "                     {\"name\": \"Broward\", \"population\": 40000},\n",
        "                     {\"name\": \"Palm Beach\", \"population\": 60000}]},\n",
        "       {\"state\": \"Ohio\",\n",
        "        \"shortname\": \"OH\",\n",
        "        \"info\": {\"governor\": \"John Kasich\"},\n",
        "        \"counties\": [{\"name\": \"Summit\", \"population\": 1234},\n",
        "                     {\"name\": \"Cuyahoga\", \"population\": 1337}]}]"
      ]
    },
    {
      "cell_type": "code",
      "execution_count": null,
      "metadata": {
        "id": "lUAF6Pb3CDeO"
      },
      "outputs": [],
      "source": [
        "pd.json_normalize(data)"
      ]
    },
    {
      "cell_type": "code",
      "execution_count": null,
      "metadata": {
        "id": "GImLOvp0CDeO"
      },
      "outputs": [],
      "source": [
        "pd.json_normalize(data=data, meta=['state', 'shortname'])"
      ]
    },
    {
      "cell_type": "code",
      "execution_count": null,
      "metadata": {
        "scrolled": true,
        "id": "NCT2eh-aCDeO"
      },
      "outputs": [],
      "source": [
        "pd.json_normalize(data=data, record_path='counties', meta=['state', 'shortname'])"
      ]
    },
    {
      "cell_type": "code",
      "execution_count": null,
      "metadata": {
        "id": "xWMtWO7JCDeO"
      },
      "outputs": [],
      "source": [
        "pd.json_normalize(data=data, record_path=['counties'], meta=['state', 'shortname', ['info', 'governor']])"
      ]
    },
    {
      "cell_type": "markdown",
      "metadata": {
        "id": "uuYo7F34CDeO"
      },
      "source": [
        "## Text"
      ]
    },
    {
      "cell_type": "code",
      "execution_count": null,
      "metadata": {
        "id": "W6UjSfuqCDeP"
      },
      "outputs": [],
      "source": [
        "with open('data/sample.txt', 'r') as f:\n",
        "    emma = f.readlines()"
      ]
    },
    {
      "cell_type": "code",
      "execution_count": null,
      "metadata": {
        "id": "UtllMo7aCDeP"
      },
      "outputs": [],
      "source": [
        "emma"
      ]
    },
    {
      "cell_type": "code",
      "execution_count": null,
      "metadata": {
        "id": "Vo1wB7xqCDeP"
      },
      "outputs": [],
      "source": [
        "import nltk"
      ]
    },
    {
      "cell_type": "code",
      "execution_count": null,
      "metadata": {
        "id": "xeDNl9_wCDeP"
      },
      "outputs": [],
      "source": [
        "tokens = nltk.word_tokenize(emma[0])\n",
        "tokens"
      ]
    },
    {
      "cell_type": "code",
      "execution_count": null,
      "metadata": {
        "id": "bRHLoOSkCDeP"
      },
      "outputs": [],
      "source": [
        "set(tokens)"
      ]
    },
    {
      "cell_type": "code",
      "execution_count": null,
      "metadata": {
        "id": "2RWv3-URCDeP"
      },
      "outputs": [],
      "source": [
        "from tensorflow.keras.layers import TextVectorization\n",
        "\n",
        "max_tokens = 200\n",
        "max_length = 10\n",
        "\n",
        "text_vectorization = TextVectorization(\n",
        "    max_tokens=max_tokens,\n",
        "    output_mode=\"int\",\n",
        "    output_sequence_length=max_length,\n",
        ")\n",
        "\n",
        "text_vectorization.adapt(emma)"
      ]
    },
    {
      "cell_type": "code",
      "execution_count": null,
      "metadata": {
        "id": "WYzRE1ugCDeP"
      },
      "outputs": [],
      "source": [
        "text_vectorization.get_vocabulary()"
      ]
    },
    {
      "cell_type": "code",
      "execution_count": null,
      "metadata": {
        "id": "oEXts5wiCDeP"
      },
      "outputs": [],
      "source": [
        "raw_text_data = ([\n",
        "    [\"Emma was always there.\"],\n",
        "])\n",
        "\n",
        "text_vectorization(raw_text_data)"
      ]
    },
    {
      "cell_type": "markdown",
      "metadata": {
        "id": "K6N70UYRCDeP"
      },
      "source": [
        "## Images"
      ]
    },
    {
      "cell_type": "code",
      "execution_count": null,
      "metadata": {
        "id": "4fxmZJRyUine"
      },
      "outputs": [],
      "source": [
        "from tensorflow.keras.datasets import cifar10"
      ]
    },
    {
      "cell_type": "code",
      "execution_count": null,
      "metadata": {
        "id": "UXuDR6tGUinh",
        "tags": []
      },
      "outputs": [],
      "source": [
        "(train_images, train_labels), (test_images, test_labels) = cifar10.load_data()"
      ]
    },
    {
      "cell_type": "code",
      "execution_count": null,
      "metadata": {
        "id": "t8p5GNjPCDeP"
      },
      "outputs": [],
      "source": [
        "train_images.shape"
      ]
    },
    {
      "cell_type": "code",
      "execution_count": null,
      "metadata": {
        "id": "pQ1flicrCDeP"
      },
      "outputs": [],
      "source": [
        "import matplotlib.pyplot as plt\n",
        "\n",
        "plt.imshow(train_images[40])"
      ]
    },
    {
      "cell_type": "markdown",
      "metadata": {
        "id": "StGY2dPNCDeQ"
      },
      "source": [
        "## Functions that help you Tidy your Data\n",
        "- Review on your own after class\n",
        "\n",
        "\n",
        "* pd.pivot() - Return reshaped DataFrame organized by given index / column values. \n",
        "* pd.pivot_table()\n",
        "* pd.melt()  - Unpivot a DataFrame from wide to long format, optionally leaving identifiers set.\n",
        "* pd.stack() - Stack the prescribed level(s) from columns to index.\n",
        "* pd.unstack() - Returns a DataFrame having a new level of column labels whose inner-most level consists of the pivoted index labels."
      ]
    },
    {
      "cell_type": "code",
      "execution_count": null,
      "metadata": {
        "id": "pnv5P2AhCDeQ"
      },
      "outputs": [],
      "source": [
        "import pandas as pd\n",
        "import numpy as np\n",
        "\n",
        "tuples = list(zip(*[['bar', 'bar', 'baz', 'baz', 'foo', 'foo', 'qux', 'qux'],\n",
        "                   ['one', 'two','one', 'two','one', 'two','one', 'two']]))\n",
        "tuples"
      ]
    },
    {
      "cell_type": "code",
      "execution_count": null,
      "metadata": {
        "id": "k5ARLMOnCDeQ"
      },
      "outputs": [],
      "source": [
        "index = pd.MultiIndex.from_tuples(tuples, names = ['first', 'second'])\n",
        "index"
      ]
    },
    {
      "cell_type": "code",
      "execution_count": null,
      "metadata": {
        "id": "hVYNbjTVCDeQ"
      },
      "outputs": [],
      "source": [
        "import numpy as np\n",
        "stacked = pd.DataFrame(np.random.randn(8,2), index = index, columns=['A', 'B'])\n",
        "stacked"
      ]
    },
    {
      "cell_type": "code",
      "execution_count": null,
      "metadata": {
        "id": "VK9G_XCFCDeQ"
      },
      "outputs": [],
      "source": [
        "stacked.unstack()"
      ]
    },
    {
      "cell_type": "code",
      "execution_count": null,
      "metadata": {
        "id": "ARBmaMlxCDeQ"
      },
      "outputs": [],
      "source": [
        "# Level(s) of index to unstack, can pass level name.\n",
        "stacked.unstack('first')"
      ]
    },
    {
      "cell_type": "code",
      "execution_count": null,
      "metadata": {
        "id": "pbcpJ63GCDeQ"
      },
      "outputs": [],
      "source": [
        "df = pd.DataFrame({\"A\": [\"foo\", \"foo\", \"foo\", \"foo\", \"foo\",\n",
        "                         \"bar\", \"bar\", \"bar\", \"bar\"],\n",
        "                   \"B\": [\"one\", \"one\", \"one\", \"two\", \"two\",\n",
        "                         \"one\", \"one\", \"two\", \"two\"],\n",
        "                   \"C\": [\"small\", \"large\", \"large\", \"small\",\n",
        "                         \"small\", \"large\", \"small\", \"small\",\n",
        "                         \"large\"],\n",
        "                   \"D\": [1, 2, 2, 3, 3, 4, 5, 6, 7],\n",
        "                   \"E\": [2, 4, 5, 5, 6, 6, 8, 9, 9]})"
      ]
    },
    {
      "cell_type": "code",
      "execution_count": null,
      "metadata": {
        "id": "7DZtmq7xCDeQ"
      },
      "outputs": [],
      "source": [
        "df"
      ]
    },
    {
      "cell_type": "code",
      "execution_count": null,
      "metadata": {
        "id": "L__ml6QoCDeQ"
      },
      "outputs": [],
      "source": [
        "pd.pivot_table(df, values='D', index=['A', 'B'],\n",
        "                    columns=['C'], aggfunc=np.sum)"
      ]
    }
  ],
  "metadata": {
    "celltoolbar": "Slideshow",
    "kernelspec": {
      "display_name": "Python 3 (ipykernel)",
      "language": "python",
      "name": "python3"
    },
    "language_info": {
      "codemirror_mode": {
        "name": "ipython",
        "version": 3
      },
      "file_extension": ".py",
      "mimetype": "text/x-python",
      "name": "python",
      "nbconvert_exporter": "python",
      "pygments_lexer": "ipython3",
      "version": "3.7.13"
    },
    "colab": {
      "provenance": []
    }
  },
  "nbformat": 4,
  "nbformat_minor": 0
}