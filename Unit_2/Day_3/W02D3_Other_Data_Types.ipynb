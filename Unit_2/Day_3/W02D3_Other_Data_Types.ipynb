{
 "cells": [
  {
   "cell_type": "markdown",
   "metadata": {
    "id": "U3nJTACiCDeB"
   },
   "source": [
    "## Lighthouse Labs\n",
    "### W2D3 Other Data Types\n",
    "\n",
    "Instructor: Mark Cassar\n",
    "Original Notebook: Socorro Dominguez  "
   ]
  },
  {
   "cell_type": "markdown",
   "metadata": {
    "id": "k1YsgP_LCDeD"
   },
   "source": [
    "## Agenda\n",
    "* Tabular data and tidy data \n",
    "* Other data types\n",
    "    - JSON\n",
    "    - XML\n",
    "    - HTML\n",
    "    - XLSX\n",
    "    - Text\n",
    "    - Images"
   ]
  },
  {
   "cell_type": "markdown",
   "metadata": {
    "id": "7yvTxLBaCDeD"
   },
   "source": [
    "## What is tabular data?\n",
    "- each row is a single observation\n",
    "- variables are in columns\n",
    "\n",
    "## What is tidy data? \n",
    "\n",
    "- This concept stems from a paper written by renowned data scientist Hadley Wickham in 2014.\n",
    "\n",
    "- We tidy our data so that we can create a standard across multiple analysis tools. It changes the focus from figuring out the logistics of how the data is structured, to answering the actual analysis question being asked."
   ]
  },
  {
   "cell_type": "markdown",
   "metadata": {
    "id": "Nc3YKKneCDeE"
   },
   "source": [
    "Tidy data satisfies the following three criteria:\n",
    "\n",
    "- Each row is a single observation,\n",
    "- Each variable is a single column, and\n",
    "- Each value is a single cell (i.e., its row, column position in the dataframe is not shared with another value)"
   ]
  },
  {
   "cell_type": "markdown",
   "metadata": {
    "id": "4dVWzegQCDeE"
   },
   "source": [
    "## Tidy data\n",
    "\n",
    "<img src=\"https://d33wubrfki0l68.cloudfront.net/6f1ddb544fc5c69a2478e444ab8112fb0eea23f8/91adc/images/tidy-1.png\" width=\"800\" />\n",
    "\n",
    "What is a variable and an observation may depend on your immediate goal."
   ]
  },
  {
   "cell_type": "markdown",
   "metadata": {
    "id": "vMlIqUrpCDeE"
   },
   "source": [
    "## Example 1: Is this tidy? \n",
    "*Examples source: https://garrettgman.github.io/tidying/*\n",
    "\n",
    "\n",
    "| country | year  | cases_per_capita |\n",
    "|---------|-------|---|\n",
    "| Afghanistan | 1999|      745/19987071\n",
    "|Afghanistan |2000    | 2666/20595360\n",
    "|      Brazil |1999|   37737/172006362\n",
    "|      Brazil |2000  | 80488/174504898\n",
    "|      China |1999| 212258/1272915272\n",
    "|      China |2000 |213766/1280428583"
   ]
  },
  {
   "cell_type": "markdown",
   "metadata": {
    "id": "3fYrzzTtCDeF"
   },
   "source": [
    "## Example 2: Is this tidy?\n",
    "\n",
    "| country | cases (year=1999) | cases (year=2000)| population (year=1999) | population (year=2000)|\n",
    "|---------|-------|-------|-------|-------|\n",
    "| Afghanistan |   745 |  2666 |  19987071 |  20595360 |\n",
    "|  Brazil | 37737 | 80488 | 172006362 | 174504898 |\n",
    "|  China | 212258 | 213766 | 1272915272 | 1280428583 |"
   ]
  },
  {
   "cell_type": "markdown",
   "metadata": {
    "id": "cxGBKZ67CDeF"
   },
   "source": [
    "## Example 3: Is this tidy?\n",
    "\n",
    "\n",
    "| country | year  | cases | population |\n",
    "|---------|-------|-------|------------|\n",
    "| Afghanistan | 1999  |  745  | 19987071|\n",
    "| Afghanistan | 2000 |  2666 |  20595360|\n",
    "|Brazil |1999 | 37737  |172006362|\n",
    "| Brazil| 2000 | 80488 | 174504898|\n",
    "| China | 1999 | 212258 |1272915272|\n",
    "|  China |2000 | 213766 | 1280428583|"
   ]
  },
  {
   "cell_type": "markdown",
   "metadata": {
    "id": "BG6wvcImCDeG"
   },
   "source": [
    "## Example 4: Is this tidy?\n",
    "\n",
    "\n",
    "| country | year  | key | value |\n",
    "|---------|-------|-------|------------|\n",
    "|Afghanistan |1999 |     cases   |     745\n",
    "| Afghanistan |1999| population  | 19987071\n",
    "|  Afghanistan |2000|      cases |      2666\n",
    "|  Afghanistan| 2000| population |  20595360\n",
    "|       Brazil| 1999|      cases |     37737\n",
    "|       Brazil |1999| population | 172006362\n",
    "|       Brazil| 2000|      cases  |    80488\n",
    "|       Brazil |2000| population | 174504898\n",
    "|        China |1999|      cases  |   212258\n",
    "|       China |1999| population |1272915272\n",
    "|       China |2000|      cases |    213766\n",
    "|       China |2000| population| 1280428583"
   ]
  },
  {
   "cell_type": "markdown",
   "metadata": {
    "id": "xdodISQDCDeH"
   },
   "source": [
    "**Dataset 3** is much easier to work with than the others. \n",
    "\n",
    "To work with the other datasets you need to take extra steps, making your code harder to write, and concepts harder to understand.  \n",
    "\n",
    "The energy you need to manage a poor layout will increase with the size of your data. \n",
    "\n",
    "Avoid these difficulties by converting your data into a tidy format at the start of your analysis."
   ]
  },
  {
   "cell_type": "markdown",
   "metadata": {
    "id": "IWwzpGXkCDeI"
   },
   "source": [
    "## What other types of data are useful to data scientists?\n",
    "\n",
    "\n",
    "| Data Type | Example | What are we trying to use it for? |\n",
    "|:-|:---------------------|:--------------------------------------------|\n",
    "| Text         | Tweets, scripts, books | Sentiment analysis, other NLP |\n",
    "| JSON or XML  | Parsing APIs | Gather data, data ingestion process, trend analysis, forecasting |\n",
    "| HTML         |Web scraping| Get prices of different products, Facebook / LinkedIn contacts and work history|\n",
    "| Images       |Computer vision|Self-driving cars, X-rays - diagnostics|\n",
    "\n",
    "- Text: will be covered in more detail when we're doing Natural Language Processing (NLP)\n",
    "- JSON: we will talk about nested JSON file today.\n",
    "- XML and HTML: We saw the basics and we'll talk more about it today.\n",
    "- Images: will be covered in more detail when we're doing Convolutional Neural Networks (CNNs)"
   ]
  },
  {
   "cell_type": "markdown",
   "metadata": {
    "id": "uSJNlpqlCDeI"
   },
   "source": [
    "## Different data, different tools\n",
    "\n",
    "* Tabular data: `pandas`, `SQL`\n",
    "* XML and HTML: `xml`\n",
    "* JSON: `json`\n",
    "* HTML - other alternatives: `BeautifulSoup` \n",
    "* Images - CNNs - Keras, PyTorch, TensorFlow\n",
    "* Sequences - LSTMs - Keras, PyTorch, TensorFlow\n",
    "* Text - nltk, SpaCy, Keras, PyTorch, TensorFlow\n"
   ]
  },
  {
   "cell_type": "markdown",
   "metadata": {
    "id": "EyXQn81RCDeI"
   },
   "source": [
    "## Tabular data using pandas\n"
   ]
  },
  {
   "cell_type": "code",
   "execution_count": 2,
   "metadata": {},
   "outputs": [
    {
     "name": "stdout",
     "output_type": "stream",
     "text": [
      "Defaulting to user installation because normal site-packages is not writeable\n",
      "Collecting openpyxl\n",
      "  Downloading openpyxl-3.0.10-py2.py3-none-any.whl (242 kB)\n",
      "     ------------------------------------ 242.1/242.1 kB 825.3 kB/s eta 0:00:00\n",
      "Collecting et-xmlfile\n",
      "  Downloading et_xmlfile-1.1.0-py3-none-any.whl (4.7 kB)\n",
      "Installing collected packages: et-xmlfile, openpyxl\n",
      "Successfully installed et-xmlfile-1.1.0 openpyxl-3.0.10\n"
     ]
    }
   ],
   "source": [
    "!pip install openpyxl"
   ]
  },
  {
   "cell_type": "code",
   "execution_count": 3,
   "metadata": {
    "id": "DHt5-3vCCDeI"
   },
   "outputs": [],
   "source": [
    "import pandas as pd\n",
    "import openpyxl"
   ]
  },
  {
   "cell_type": "code",
   "execution_count": 5,
   "metadata": {
    "id": "gOV-UHgeCDeJ"
   },
   "outputs": [
    {
     "data": {
      "text/html": [
       "<div>\n",
       "<style scoped>\n",
       "    .dataframe tbody tr th:only-of-type {\n",
       "        vertical-align: middle;\n",
       "    }\n",
       "\n",
       "    .dataframe tbody tr th {\n",
       "        vertical-align: top;\n",
       "    }\n",
       "\n",
       "    .dataframe thead th {\n",
       "        text-align: right;\n",
       "    }\n",
       "</style>\n",
       "<table border=\"1\" class=\"dataframe\">\n",
       "  <thead>\n",
       "    <tr style=\"text-align: right;\">\n",
       "      <th></th>\n",
       "      <th>Bottle</th>\n",
       "      <th>Grape</th>\n",
       "      <th>Origin</th>\n",
       "      <th>Alcohol</th>\n",
       "      <th>pH</th>\n",
       "      <th>Colour</th>\n",
       "      <th>Aroma</th>\n",
       "    </tr>\n",
       "  </thead>\n",
       "  <tbody>\n",
       "    <tr>\n",
       "      <th>0</th>\n",
       "      <td>1</td>\n",
       "      <td>Chardonnay</td>\n",
       "      <td>Australia</td>\n",
       "      <td>14.23</td>\n",
       "      <td>3.51</td>\n",
       "      <td>White</td>\n",
       "      <td>Floral</td>\n",
       "    </tr>\n",
       "    <tr>\n",
       "      <th>1</th>\n",
       "      <td>2</td>\n",
       "      <td>Pinot Grigio</td>\n",
       "      <td>Italy</td>\n",
       "      <td>13.20</td>\n",
       "      <td>3.30</td>\n",
       "      <td>White</td>\n",
       "      <td>Fruity</td>\n",
       "    </tr>\n",
       "    <tr>\n",
       "      <th>2</th>\n",
       "      <td>3</td>\n",
       "      <td>Pinot Blanc</td>\n",
       "      <td>France</td>\n",
       "      <td>13.16</td>\n",
       "      <td>3.16</td>\n",
       "      <td>White</td>\n",
       "      <td>Citrus</td>\n",
       "    </tr>\n",
       "    <tr>\n",
       "      <th>3</th>\n",
       "      <td>4</td>\n",
       "      <td>Shiraz</td>\n",
       "      <td>Chile</td>\n",
       "      <td>14.91</td>\n",
       "      <td>3.39</td>\n",
       "      <td>Red</td>\n",
       "      <td>Berry</td>\n",
       "    </tr>\n",
       "    <tr>\n",
       "      <th>4</th>\n",
       "      <td>5</td>\n",
       "      <td>Malbec</td>\n",
       "      <td>Argentina</td>\n",
       "      <td>13.83</td>\n",
       "      <td>3.28</td>\n",
       "      <td>Red</td>\n",
       "      <td>Fruity</td>\n",
       "    </tr>\n",
       "  </tbody>\n",
       "</table>\n",
       "</div>"
      ],
      "text/plain": [
       "   Bottle         Grape     Origin  Alcohol    pH Colour   Aroma\n",
       "0       1    Chardonnay  Australia    14.23  3.51  White  Floral\n",
       "1       2  Pinot Grigio      Italy    13.20  3.30  White  Fruity\n",
       "2       3   Pinot Blanc     France    13.16  3.16  White  Citrus\n",
       "3       4        Shiraz      Chile    14.91  3.39    Red   Berry\n",
       "4       5        Malbec  Argentina    13.83  3.28    Red  Fruity"
      ]
     },
     "execution_count": 5,
     "metadata": {},
     "output_type": "execute_result"
    }
   ],
   "source": [
    "wine_csv = pd.read_excel('data/wine.xlsx')\n",
    "wine_csv"
   ]
  },
  {
   "cell_type": "code",
   "execution_count": 6,
   "metadata": {
    "id": "RPyQxboLCDeJ",
    "scrolled": true
   },
   "outputs": [
    {
     "data": {
      "text/html": [
       "<div>\n",
       "<style scoped>\n",
       "    .dataframe tbody tr th:only-of-type {\n",
       "        vertical-align: middle;\n",
       "    }\n",
       "\n",
       "    .dataframe tbody tr th {\n",
       "        vertical-align: top;\n",
       "    }\n",
       "\n",
       "    .dataframe thead th {\n",
       "        text-align: right;\n",
       "    }\n",
       "</style>\n",
       "<table border=\"1\" class=\"dataframe\">\n",
       "  <thead>\n",
       "    <tr style=\"text-align: right;\">\n",
       "      <th></th>\n",
       "      <th>Bottle</th>\n",
       "      <th>Grape</th>\n",
       "      <th>Origin</th>\n",
       "      <th>Alcohol</th>\n",
       "      <th>pH</th>\n",
       "      <th>Colour</th>\n",
       "      <th>Aroma</th>\n",
       "    </tr>\n",
       "  </thead>\n",
       "  <tbody>\n",
       "    <tr>\n",
       "      <th>0</th>\n",
       "      <td>1</td>\n",
       "      <td>Chardonnay</td>\n",
       "      <td>Australia</td>\n",
       "      <td>14.23</td>\n",
       "      <td>3.51</td>\n",
       "      <td>White</td>\n",
       "      <td>Floral</td>\n",
       "    </tr>\n",
       "    <tr>\n",
       "      <th>1</th>\n",
       "      <td>2</td>\n",
       "      <td>Pinot Grigio</td>\n",
       "      <td>Italy</td>\n",
       "      <td>13.20</td>\n",
       "      <td>3.30</td>\n",
       "      <td>White</td>\n",
       "      <td>Fruity</td>\n",
       "    </tr>\n",
       "    <tr>\n",
       "      <th>2</th>\n",
       "      <td>3</td>\n",
       "      <td>Pinot Blanc</td>\n",
       "      <td>France</td>\n",
       "      <td>13.16</td>\n",
       "      <td>3.16</td>\n",
       "      <td>White</td>\n",
       "      <td>Citrus</td>\n",
       "    </tr>\n",
       "    <tr>\n",
       "      <th>3</th>\n",
       "      <td>4</td>\n",
       "      <td>Shiraz</td>\n",
       "      <td>Chile</td>\n",
       "      <td>14.91</td>\n",
       "      <td>3.39</td>\n",
       "      <td>Red</td>\n",
       "      <td>Berry</td>\n",
       "    </tr>\n",
       "    <tr>\n",
       "      <th>4</th>\n",
       "      <td>5</td>\n",
       "      <td>Malbec</td>\n",
       "      <td>Argentina</td>\n",
       "      <td>13.83</td>\n",
       "      <td>3.28</td>\n",
       "      <td>Red</td>\n",
       "      <td>Fruity</td>\n",
       "    </tr>\n",
       "  </tbody>\n",
       "</table>\n",
       "</div>"
      ],
      "text/plain": [
       "   Bottle         Grape     Origin  Alcohol    pH Colour   Aroma\n",
       "0       1    Chardonnay  Australia    14.23  3.51  White  Floral\n",
       "1       2  Pinot Grigio      Italy    13.20  3.30  White  Fruity\n",
       "2       3   Pinot Blanc     France    13.16  3.16  White  Citrus\n",
       "3       4        Shiraz      Chile    14.91  3.39    Red   Berry\n",
       "4       5        Malbec  Argentina    13.83  3.28    Red  Fruity"
      ]
     },
     "execution_count": 6,
     "metadata": {},
     "output_type": "execute_result"
    }
   ],
   "source": [
    "wine_xlsx = pd.read_excel('data/wine.xlsx', engine = 'openpyxl')\n",
    "wine_xlsx"
   ]
  },
  {
   "cell_type": "markdown",
   "metadata": {
    "id": "az537pXDCDeJ",
    "tags": []
   },
   "source": [
    "## Python and Excel\n",
    "- They are complementary! It's not a competition.\n",
    "- Uses for both\n",
    "- For example:"
   ]
  },
  {
   "cell_type": "code",
   "execution_count": 7,
   "metadata": {
    "id": "Yx2vbxqtCDeK"
   },
   "outputs": [
    {
     "data": {
      "text/html": [
       "<div>\n",
       "<style scoped>\n",
       "    .dataframe tbody tr th:only-of-type {\n",
       "        vertical-align: middle;\n",
       "    }\n",
       "\n",
       "    .dataframe tbody tr th {\n",
       "        vertical-align: top;\n",
       "    }\n",
       "\n",
       "    .dataframe thead th {\n",
       "        text-align: right;\n",
       "    }\n",
       "</style>\n",
       "<table border=\"1\" class=\"dataframe\">\n",
       "  <thead>\n",
       "    <tr style=\"text-align: right;\">\n",
       "      <th></th>\n",
       "      <th>This workbook contains data for different wines</th>\n",
       "    </tr>\n",
       "  </thead>\n",
       "  <tbody>\n",
       "    <tr>\n",
       "      <th>0</th>\n",
       "      <td>Created by John Smith</td>\n",
       "    </tr>\n",
       "  </tbody>\n",
       "</table>\n",
       "</div>"
      ],
      "text/plain": [
       "  This workbook contains data for different wines\n",
       "0                           Created by John Smith"
      ]
     },
     "execution_count": 7,
     "metadata": {},
     "output_type": "execute_result"
    }
   ],
   "source": [
    "wine_2 = pd.read_excel('data/wine_2.xlsx', engine = 'openpyxl')\n",
    "wine_2"
   ]
  },
  {
   "cell_type": "markdown",
   "metadata": {
    "id": "1Uq1Z_A6CDeK"
   },
   "source": [
    "- What's wrong? What happens when we open the file?\n"
   ]
  },
  {
   "cell_type": "markdown",
   "metadata": {
    "id": "svF5Jap9CDeK"
   },
   "source": [
    "## Tab 1\n",
    "![tab1](img/Tab1.png)"
   ]
  },
  {
   "cell_type": "markdown",
   "metadata": {
    "id": "XzOLBL13CDeK"
   },
   "source": [
    "## Tab 2\n",
    "![tab2](img/Tab2.png)"
   ]
  },
  {
   "cell_type": "markdown",
   "metadata": {
    "id": "h5sTnDFKCDeK"
   },
   "source": [
    "## Python and Excel ... continued\n",
    "- After opening the file, we know that the useful data is on Sheet 2"
   ]
  },
  {
   "cell_type": "code",
   "execution_count": 8,
   "metadata": {
    "id": "cZf0tvyqCDeK"
   },
   "outputs": [
    {
     "data": {
      "text/html": [
       "<div>\n",
       "<style scoped>\n",
       "    .dataframe tbody tr th:only-of-type {\n",
       "        vertical-align: middle;\n",
       "    }\n",
       "\n",
       "    .dataframe tbody tr th {\n",
       "        vertical-align: top;\n",
       "    }\n",
       "\n",
       "    .dataframe thead th {\n",
       "        text-align: right;\n",
       "    }\n",
       "</style>\n",
       "<table border=\"1\" class=\"dataframe\">\n",
       "  <thead>\n",
       "    <tr style=\"text-align: right;\">\n",
       "      <th></th>\n",
       "      <th>Bottle</th>\n",
       "      <th>Grape</th>\n",
       "      <th>Origin</th>\n",
       "      <th>Alcohol</th>\n",
       "      <th>pH</th>\n",
       "      <th>Colour</th>\n",
       "      <th>Aroma</th>\n",
       "    </tr>\n",
       "  </thead>\n",
       "  <tbody>\n",
       "    <tr>\n",
       "      <th>0</th>\n",
       "      <td>1</td>\n",
       "      <td>Chardonnay</td>\n",
       "      <td>Australia</td>\n",
       "      <td>14.23</td>\n",
       "      <td>3.51</td>\n",
       "      <td>White</td>\n",
       "      <td>Floral</td>\n",
       "    </tr>\n",
       "    <tr>\n",
       "      <th>1</th>\n",
       "      <td>2</td>\n",
       "      <td>Pinot Grigio</td>\n",
       "      <td>Italy</td>\n",
       "      <td>13.20</td>\n",
       "      <td>3.30</td>\n",
       "      <td>White</td>\n",
       "      <td>Fruity</td>\n",
       "    </tr>\n",
       "    <tr>\n",
       "      <th>2</th>\n",
       "      <td>3</td>\n",
       "      <td>Pinot Blanc</td>\n",
       "      <td>France</td>\n",
       "      <td>13.16</td>\n",
       "      <td>3.16</td>\n",
       "      <td>White</td>\n",
       "      <td>Citrus</td>\n",
       "    </tr>\n",
       "    <tr>\n",
       "      <th>3</th>\n",
       "      <td>4</td>\n",
       "      <td>Shiraz</td>\n",
       "      <td>Chile</td>\n",
       "      <td>14.91</td>\n",
       "      <td>3.39</td>\n",
       "      <td>Red</td>\n",
       "      <td>Berry</td>\n",
       "    </tr>\n",
       "    <tr>\n",
       "      <th>4</th>\n",
       "      <td>5</td>\n",
       "      <td>Malbec</td>\n",
       "      <td>Argentina</td>\n",
       "      <td>13.83</td>\n",
       "      <td>3.28</td>\n",
       "      <td>Red</td>\n",
       "      <td>Fruity</td>\n",
       "    </tr>\n",
       "  </tbody>\n",
       "</table>\n",
       "</div>"
      ],
      "text/plain": [
       "   Bottle         Grape     Origin  Alcohol    pH Colour   Aroma\n",
       "0       1    Chardonnay  Australia    14.23  3.51  White  Floral\n",
       "1       2  Pinot Grigio      Italy    13.20  3.30  White  Fruity\n",
       "2       3   Pinot Blanc     France    13.16  3.16  White  Citrus\n",
       "3       4        Shiraz      Chile    14.91  3.39    Red   Berry\n",
       "4       5        Malbec  Argentina    13.83  3.28    Red  Fruity"
      ]
     },
     "execution_count": 8,
     "metadata": {},
     "output_type": "execute_result"
    }
   ],
   "source": [
    "wine_2 = pd.read_excel('data/wine_2.xlsx', sheet_name='DATA', engine = 'openpyxl') \n",
    "wine_2"
   ]
  },
  {
   "cell_type": "markdown",
   "metadata": {
    "id": "Pzbvs4A-CDeK"
   },
   "source": [
    "## Data Science intro to XML and HTML\n",
    "- hierarchical collection of elements\n",
    "- element consists of start tag, content and end tag, and attributes\n",
    "- tags have names and are delimited with `<` and `>`; end tag with `</`\n",
    "- attributes added after the tag name within `<` and `>`\n",
    "\n",
    "For example: `<country>` \"Canada\" `</country>`\n",
    "- `country` is the tag\n",
    "- `name=\"Canada\"` is an attribute\n",
    "\n",
    "**HTML is just XML for webpages.** \n"
   ]
  },
  {
   "cell_type": "markdown",
   "metadata": {
    "id": "qdOpkvpkCDeL",
    "tags": []
   },
   "source": [
    "## Let's see a HTML example\n",
    "\n",
    "Let's take a look at an example: https://en.wikipedia.org/wiki/List_of_FIFA_World_Cup_winners\n",
    "- Use inspect page to see HTML, F12 for Windows Users\n",
    "- Explain header, body, tags etc."
   ]
  },
  {
   "cell_type": "code",
   "execution_count": 9,
   "metadata": {
    "id": "yX3GnUZzCDeL"
   },
   "outputs": [],
   "source": [
    "from bs4 import BeautifulSoup\n",
    "import requests"
   ]
  },
  {
   "cell_type": "code",
   "execution_count": 10,
   "metadata": {
    "collapsed": true,
    "id": "r1-06veECDeL",
    "jupyter": {
     "outputs_hidden": true
    },
    "tags": []
   },
   "outputs": [
    {
     "data": {
      "text/plain": [
       "<!DOCTYPE html>\n",
       "\n",
       "<html class=\"no-js\" dir=\"ltr\" lang=\"en\" xmlns=\"http://www.w3.org/1999/xhtml\">\n",
       "<head prefix=\"og: http://ogp.me/ns#\">\n",
       "<meta content=\"IE=edge\" http-equiv=\"X-UA-Compatible\"/>\n",
       "<meta charset=\"utf-8\"/>\n",
       "<title>Science and innovation - Canada.ca</title>\n",
       "<meta content=\"width=device-width,initial-scale=1\" name=\"viewport\"/>\n",
       "<link href=\"http://purl.org/dc/terms/\" rel=\"schema.dcterms\"/>\n",
       "<link href=\"https://www.canada.ca/en/services/science.html\" rel=\"canonical\"/>\n",
       "<link href=\"https://www.canada.ca/en/services/science.html\" hreflang=\"en\" rel=\"alternate\"/>\n",
       "<link href=\"https://www.canada.ca/fr/services/science.html\" hreflang=\"fr\" rel=\"alternate\"/>\n",
       "<meta content=\"Learn about scientific research on health, the environment and space, and access programs and services that support business innovation. Includes how to fund, finance or partner ongoing research, protect intellectual property, and find Government of Canada scientists or datasets.\" name=\"description\"/>\n",
       "<meta content=\"Innovation, Science and Economic Development Canada\" name=\"author\"/>\n",
       "<meta content=\"Science and innovation\" name=\"dcterms.title\"/>\n",
       "<meta content=\"Learn about scientific research on health, the environment and space, and access programs and services that support business innovation. Includes how to fund, finance or partner ongoing research, protect intellectual property, and find Government of Canada scientists or datasets.\" name=\"dcterms.description\"/>\n",
       "<meta content=\"Innovation, Science and Economic Development Canada\" name=\"dcterms.creator\"/>\n",
       "<meta content=\"eng\" name=\"dcterms.language\" title=\"ISO639-2/T\"/>\n",
       "<meta content=\"2015-04-13\" name=\"dcterms.issued\" title=\"W3CDTF\"/>\n",
       "<meta content=\"2022-09-21\" name=\"dcterms.modified\" title=\"W3CDTF\"/>\n",
       "<meta content=\"general public\" name=\"dcterms.audience\"/>\n",
       "<meta content=\"Canada\" name=\"dcterms.spatial\"/>\n",
       "<meta content=\"Innovation _Science_and_Economic_Development_Canada\" name=\"dcterms.identifier\"/>\n",
       "<meta content=\"378967748836213, 160339344047502, 184605778338568, 237796269600506, 10860597051, 14498271095, 209857686718, 160504807323251, 111156792247197, 113429762015861, 502566449790031, 312292485564363, 1471831713076413, 22724568071, 17294463927, 1442463402719857, 247990812241506, 730097607131117, 1142481292546228, 1765602380419601, 131514060764735, 307780276294187, 427238637642566, 525934210910141, 1016214671785090, 192657607776229, 586856208161152, 1146080748799944, 408143085978521, 490290084411688, 163828286987751, 565688503775086, 460123390028, 318424514044, 632493333805962, 370233926766473, 173004244677, 1562729973959056, 362400293941960, 769857139754987, 167891083224996, 466882737009651, 126404198009505, 135409166525475, 664638680273646, 169011506491295, 217171551640146, 182842831756930, 1464645710444681, 218822426028, 218740415905, 123326971154939, 125058490980757, 1062292210514762, 1768389106741505, 310939332270090, 285960408117397, 985916134909087, 655533774808209, 1522633664630497, 686814348097821, 230798677012118, 320520588000085, 103201203106202, 273375356172196, 61263506236, 353102841161, 1061339807224729, 1090791104267764, 395867780593657, 1597876400459657, 388427768185631, 937815283021844, 207409132619743, 1952090675003143, 206529629372368, 218566908564369, 175257766291975, 118472908172897, 767088219985590, 478573952173735, 465264530180856, 317418191615817, 428040827230778, 222493134493922, 196833853688656, 194633827256676, 252002641498535, 398018420213195, 265626156847421, 202442683196210, 384350631577399, 385499078129720, 178433945604162, 398240836869162, 326182960762584, 354672164565195, 375081249171867, 333050716732105, 118996871563050, 240349086055056, 119579301504003, 185184131584797, 333647780005544, 306255172770146, 369589566399283, 117461228379000, 349774478396157, 201995959908210, 307017162692056, 145928592172074, 122656527842056\" prefix=\"fb: https://www.facebook.com/2008/fbml\" property=\"fb:pages\"/>\n",
       "<script src=\"//assets.adobedtm.com/be5dfd287373/abb618326704/launch-3eac5e076135.min.js\"></script>\n",
       "<link crossorigin=\"anonymous\" href=\"https://use.fontawesome.com/releases/v5.15.4/css/all.css\" integrity=\"sha256-mUZM63G8m73Mcidfrv5E+Y61y7a12O5mW4ezU3bxqW4=\" rel=\"stylesheet\"/>\n",
       "<link href=\"/etc/designs/canada/wet-boew/css/theme.min.css\" rel=\"stylesheet\"/>\n",
       "<link href=\"/etc/designs/canada/wet-boew/assets/favicon.ico\" rel=\"icon\" type=\"image/x-icon\"/>\n",
       "<noscript><link href=\"/etc/designs/canada/wet-boew/css/noscript.min.css\" rel=\"stylesheet\"/></noscript>\n",
       "<script>!function(a){var e=\"https://s.go-mpulse.net/boomerang/\",t=\"addEventListener\";if(\"False\"==\"True\")a.BOOMR_config=a.BOOMR_config||{},a.BOOMR_config.PageParams=a.BOOMR_config.PageParams||{},a.BOOMR_config.PageParams.pci=!0,e=\"https://s2.go-mpulse.net/boomerang/\";if(window.BOOMR_API_key=\"KBFUZ-C9D7G-RB8SX-GRGEN-HGMC9\",function(){function n(e){a.BOOMR_onload=e&&e.timeStamp||(new Date).getTime()}if(!a.BOOMR||!a.BOOMR.version&&!a.BOOMR.snippetExecuted){a.BOOMR=a.BOOMR||{},a.BOOMR.snippetExecuted=!0;var i,_,o,r=document.createElement(\"iframe\");if(a[t])a[t](\"load\",n,!1);else if(a.attachEvent)a.attachEvent(\"onload\",n);r.src=\"javascript:void(0)\",r.title=\"\",r.role=\"presentation\",(r.frameElement||r).style.cssText=\"width:0;height:0;border:0;display:none;\",o=document.getElementsByTagName(\"script\")[0],o.parentNode.insertBefore(r,o);try{_=r.contentWindow.document}catch(O){i=document.domain,r.src=\"javascript:var d=document.open();d.domain='\"+i+\"';void(0);\",_=r.contentWindow.document}_.open()._l=function(){var a=this.createElement(\"script\");if(i)this.domain=i;a.id=\"boomr-if-as\",a.src=e+\"KBFUZ-C9D7G-RB8SX-GRGEN-HGMC9\",BOOMR_lstart=(new Date).getTime(),this.body.appendChild(a)},_.write(\"<bo\"+'dy onload=\"document._l();\">'),_.close()}}(),\"\".length>0)if(a&&\"performance\"in a&&a.performance&&\"function\"==typeof a.performance.setResourceTimingBufferSize)a.performance.setResourceTimingBufferSize();!function(){if(BOOMR=a.BOOMR||{},BOOMR.plugins=BOOMR.plugins||{},!BOOMR.plugins.AK){var e=\"\"==\"true\"?1:0,t=\"\",n=\"eaaqk2n4ybdqajqacqfbaaacrvrtja7w-f-d7f47a26c-clienttons-s.akamaihd.net\",i=\"false\"==\"true\"?2:1,_={\"ak.v\":\"32\",\"ak.cp\":\"368225\",\"ak.ai\":parseInt(\"231651\",10),\"ak.ol\":\"0\",\"ak.cr\":38,\"ak.ipv\":6,\"ak.proto\":\"http/1.1\",\"ak.rid\":\"8b61239\",\"ak.r\":44990,\"ak.a2\":e,\"ak.m\":\"dscb\",\"ak.n\":\"essl\",\"ak.bpcip\":\"2001:569:bcc0:4700::\",\"ak.cport\":58274,\"ak.gh\":\"184.30.149.154\",\"ak.quicv\":\"\",\"ak.tlsv\":\"tls1.3\",\"ak.0rtt\":\"\",\"ak.csrc\":\"-\",\"ak.acc\":\"reno\",\"ak.t\":\"1664386038\",\"ak.ak\":\"hOBiQwZUYzCg5VSAfCLimQ==F3UxurmdHNeEgxxswfg2B0dGhYoalhJEF+lw6A1TFq/zlhJThBtMdti1kLXM447/QIUn/ftXqAi6t0ZYqS8z+Jy+SDKrnwcdxMTUDAhljomDHuKdaWFeKK7XWBsz1rJdgVB9iyaocCuEEUT3Z9HBplGJzamwLS15Uiu5wdvU9X9lI1CWGluOOxJeB+A69gba5iLcmays/e79H/YBVp4LAECV4GxFoNAcmxTjcbPtsxXvGNQ1x75+VG16y8IxZJRltTfUYpsJ1LG/Pt75apTJhCpLjNVDt8dC6VmXfBDrAeOySGosjkORTucS1db4b3ShHIQcIYv8Ti8kW0kul4DIqoEzNc7TD8sh5d1xvyxuCbcBA7u/GCajaK2swPLRsR40kxLqzYxbDMHrBaTYDUGACx72snS5tFqK75TGQiObHSE=\",\"ak.pv\":\"692\",\"ak.dpoabenc\":\"\",\"ak.tf\":i};if(\"\"!==t)_[\"ak.ruds\"]=t;var o={i:!1,av:function(e){var t=\"http.initiator\";if(e&&(!e[t]||\"spa_hard\"===e[t]))_[\"ak.feo\"]=void 0!==a.aFeoApplied?1:0,BOOMR.addVar(_)},rv:function(){var a=[\"ak.bpcip\",\"ak.cport\",\"ak.cr\",\"ak.csrc\",\"ak.gh\",\"ak.ipv\",\"ak.m\",\"ak.n\",\"ak.ol\",\"ak.proto\",\"ak.quicv\",\"ak.tlsv\",\"ak.0rtt\",\"ak.r\",\"ak.acc\",\"ak.t\",\"ak.tf\"];BOOMR.removeVar(a)}};BOOMR.plugins.AK={akVars:_,akDNSPreFetchDomain:n,init:function(){if(!o.i){var a=BOOMR.subscribe;a(\"before_beacon\",o.av,null,null),a(\"onbeacon\",o.rv,null,null),o.i=!0}return this},is_complete:function(){return!0}}}}()}(window);</script></head>\n",
       "<body resource=\"#wb-webpage\" typeof=\"WebPage\" vocab=\"http://schema.org/\">\n",
       "<div class=\"newpar new section\">\n",
       "</div>\n",
       "<div class=\"par iparys_inherited\">\n",
       "<div class=\"global-header\"><nav><ul id=\"wb-tphp\">\n",
       "<li class=\"wb-slc\"><a class=\"wb-sl\" href=\"#wb-cont\">Skip to main content</a></li>\n",
       "<li class=\"wb-slc\"><a class=\"wb-sl\" href=\"#wb-info\">Skip to \"About government\"</a></li>\n",
       "</ul></nav>\n",
       "<header>\n",
       "<div class=\"container\" id=\"wb-bnr\">\n",
       "<div class=\"row\">\n",
       "<section class=\"col-xs-3 col-sm-12 pull-right text-right\" id=\"wb-lng\">\n",
       "<h2 class=\"wb-inv\">Language selection</h2>\n",
       "<div class=\"row\">\n",
       "<div class=\"col-md-12\">\n",
       "<ul class=\"list-inline mrgn-bttm-0\">\n",
       "<li>\n",
       "<a href=\"/fr/services/science.html\" lang=\"fr\">\n",
       "<span class=\"hidden-xs\">Français</span>\n",
       "<abbr class=\"visible-xs h3 mrgn-tp-sm mrgn-bttm-0 text-uppercase\" title=\"Français\">fr</abbr>\n",
       "</a>\n",
       "</li>\n",
       "</ul>\n",
       "</div>\n",
       "</div>\n",
       "</section>\n",
       "<div class=\"brand col-xs-9 col-sm-5 col-md-4\" property=\"publisher\" resource=\"#wb-publisher\" typeof=\"GovernmentOrganization\">\n",
       "<a href=\"/en.html\" property=\"url\">\n",
       "<img alt=\"Government of Canada\" property=\"logo\" src=\"/etc/designs/canada/wet-boew/assets/sig-blk-en.svg\"/>\n",
       "<span class=\"wb-inv\"> /\n",
       "\t\t\t\t\t\t\t\t\n",
       "\t\t\t\t\t\t\t\t<span lang=\"fr\">Gouvernement du Canada</span>\n",
       "</span>\n",
       "</a>\n",
       "<meta content=\"Government of Canada\" property=\"name\">\n",
       "<meta content=\"Canada\" property=\"areaServed\" typeof=\"Country\"/>\n",
       "<link href=\"/etc/designs/canada/wet-boew/assets/wmms-blk.svg\" property=\"logo\"/>\n",
       "</meta></div>\n",
       "<section class=\"col-lg-offset-4 col-md-offset-4 col-sm-offset-2 col-xs-12 col-sm-5 col-md-4\" id=\"wb-srch\">\n",
       "<h2>Search</h2>\n",
       "<form action=\"/en/sr/srb.html\" method=\"get\" name=\"cse-search-box\" role=\"search\">\n",
       "<div class=\"form-group wb-srch-qry\">\n",
       "<label class=\"wb-inv\" for=\"wb-srch-q\">Search Canada.ca</label>\n",
       "<input class=\"wb-srch-q form-control\" id=\"wb-srch-q\" list=\"wb-srch-q-ac\" maxlength=\"170\" name=\"q\" placeholder=\"Search Canada.ca\" size=\"34\" type=\"search\" value=\"\"/>\n",
       "<datalist id=\"wb-srch-q-ac\">\n",
       "</datalist>\n",
       "</div>\n",
       "<div class=\"form-group submit\">\n",
       "<button class=\"btn btn-primary btn-small\" id=\"wb-srch-sub\" name=\"wb-srch-sub\" type=\"submit\"><span class=\"glyphicon-search glyphicon\"></span><span class=\"wb-inv\">Search</span></button>\n",
       "</div>\n",
       "</form>\n",
       "</section>\n",
       "</div>\n",
       "</div>\n",
       "<hr/>\n",
       "<div class=\"container\"><div class=\"row\">\n",
       "<div class=\"col-md-8\">\n",
       "<nav class=\"gcweb-menu\" typeof=\"SiteNavigationElement\">\n",
       "<h2 class=\"wb-inv\">Menu</h2>\n",
       "<button aria-expanded=\"false\" aria-haspopup=\"true\" type=\"button\"><span class=\"wb-inv\">Main </span>Menu <span class=\"expicon glyphicon glyphicon-chevron-down\"></span></button>\n",
       "<ul aria-orientation=\"vertical\" data-ajax-replace=\"/content/dam/canada/sitemenu/sitemenu-v2-en.html\" role=\"menu\">\n",
       "<li role=\"presentation\"><a href=\"https://www.canada.ca/en/services/jobs.html\" role=\"menuitem\" tabindex=\"-1\">Jobs and the workplace</a></li>\n",
       "<li role=\"presentation\"><a href=\"https://www.canada.ca/en/services/immigration-citizenship.html\" role=\"menuitem\" tabindex=\"-1\">Immigration and citizenship</a></li>\n",
       "<li role=\"presentation\"><a href=\"https://travel.gc.ca/\" role=\"menuitem\" tabindex=\"-1\">Travel and tourism</a></li>\n",
       "<li role=\"presentation\"><a href=\"https://www.canada.ca/en/services/business.html\" role=\"menuitem\" tabindex=\"-1\">Business and industry</a></li>\n",
       "<li role=\"presentation\"><a href=\"https://www.canada.ca/en/services/benefits.html\" role=\"menuitem\" tabindex=\"-1\">Benefits</a></li>\n",
       "<li role=\"presentation\"><a href=\"https://www.canada.ca/en/services/health.html\" role=\"menuitem\" tabindex=\"-1\">Health</a></li>\n",
       "<li role=\"presentation\"><a href=\"https://www.canada.ca/en/services/taxes.html\" role=\"menuitem\" tabindex=\"-1\">Taxes</a></li>\n",
       "<li role=\"presentation\"><a href=\"https://www.canada.ca/en/services/environment.html\" role=\"menuitem\" tabindex=\"-1\">Environment and natural resources</a></li>\n",
       "<li role=\"presentation\"><a href=\"https://www.canada.ca/en/services/defence.html\" role=\"menuitem\" tabindex=\"-1\">National security and defence</a></li>\n",
       "<li role=\"presentation\"><a href=\"https://www.canada.ca/en/services/culture.html\" role=\"menuitem\" tabindex=\"-1\">Culture, history and sport</a></li>\n",
       "<li role=\"presentation\"><a href=\"https://www.canada.ca/en/services/policing.html\" role=\"menuitem\" tabindex=\"-1\">Policing, justice and emergencies</a></li>\n",
       "<li role=\"presentation\"><a href=\"https://www.canada.ca/en/services/transport.html\" role=\"menuitem\" tabindex=\"-1\">Transport and infrastructure</a></li>\n",
       "<li role=\"presentation\"><a href=\"http://international.gc.ca/world-monde/index.aspx?lang=eng\" role=\"menuitem\" tabindex=\"-1\">Canada and the world</a></li>\n",
       "<li role=\"presentation\"><a href=\"https://www.canada.ca/en/services/finance.html\" role=\"menuitem\" tabindex=\"-1\">Money and finances</a></li>\n",
       "<li role=\"presentation\"><a href=\"https://www.canada.ca/en/services/science.html\" role=\"menuitem\" tabindex=\"-1\">Science and innovation</a></li>\n",
       "</ul>\n",
       "</nav>\n",
       "</div>\n",
       "</div></div>\n",
       "<nav id=\"wb-bc\" property=\"breadcrumb\"><h2 class=\"wb-inv\">You are here:</h2><div class=\"container\"><ol class=\"breadcrumb\">\n",
       "<li><a href=\"/en.html\">Canada.ca</a></li>\n",
       "</ol></div></nav>\n",
       "</header>\n",
       "</div>\n",
       "</div>\n",
       "<main class=\"container\" property=\"mainContentOfPage\" resource=\"#wb-main\" typeof=\"WebPageElement\">\n",
       "<div class=\"mwstitle section\">\n",
       "<h1 class=\"wb-inv\" dir=\"ltr\" id=\"wb-cont\" property=\"name\">\n",
       "Science and innovation</h1>\n",
       "</div>\n",
       "<div class=\"mwstext section\"><div class=\"row profile\">\n",
       "<div class=\"col-md-5\">\n",
       "<h1 id=\"wb-cont\" property=\"name\">Science and innovation</h1>\n",
       "<p>Scientific research, funding, datasets, innovation support, facilities and educational resources.</p>\n",
       "<section class=\"followus\">\n",
       "<h2>Follow:</h2>\n",
       "<ul>\n",
       "<li><a class=\"facebook wb-lbx wb-init\" href=\"#facebook\" rel=\"external\"><span class=\"wb-inv\">Facebook</span></a></li>\n",
       "<li><a class=\"twitter\" href=\"https://twitter.com/CDNScience\" rel=\"external\"><span class=\"wb-inv\">Twitter</span></a></li>\n",
       "<li><a class=\"youtube\" href=\"http://www.youtube.com/sciencecanada\" rel=\"external\"><span class=\"wb-inv\">YouTube</span></a></li>\n",
       "</ul>\n",
       "</section>\n",
       "<section class=\"modal-dialog modal-content overlay-def mfp-hide\" id=\"facebook\">\n",
       "<header class=\"modal-header\">\n",
       "<h2 class=\"modal-title\">Facebook</h2>\n",
       "</header>\n",
       "<div class=\"modal-body\">\n",
       "<ul class=\"list-unstyled lst-spcd\">\n",
       "<li><a href=\"https://www.facebook.com/CDNScience/\" rel=\"external\">Canadian Science<br/></a></li>\n",
       "<li><a href=\"https://www.facebook.com/CanadianInnovation\" rel=\"external\">Canadian Innovation</a></li>\n",
       "</ul>\n",
       "</div>\n",
       "</section>\n",
       "</div>\n",
       "<div class=\"col-md-7\">\n",
       "<h2 class=\"wb-inv\">Promotions</h2>\n",
       "<div class=\"wb-tabs carousel-s2 playing\" data-speed=\"slow\">\n",
       "<ul role=\"tablist\">\n",
       "<li class=\"active\"><a href=\"#tab1\" title=\"Tab 1\"><img alt=\"\" src=\"/content/dam/themes/science/carousel/1024_01_19_Web_Banner_653x194_EN_v02.jpg\" title=\"\"/></a></li>\n",
       "</ul>\n",
       "<div class=\"in fade\" id=\"tab1\" role=\"tabpanel\">\n",
       "<a class=\"learnmore\" href=\"https://www.ic.gc.ca/app/scr/innovation?lang=eng&amp;WT.mc_id=InnoForSuccess2019_canada.ca-Science_carousel_en\">\n",
       "<figure>\n",
       "<img alt=\"\" src=\"/content/dam/themes/science/carousel/1024_01_19_Web_Banner_653x194_EN_v02.jpg\"/>\n",
       "<figcaption>\n",
       "<p>Find out what government can do for your business.</p>\n",
       "</figcaption>\n",
       "</figure> </a>\n",
       "</div>\n",
       "</div>\n",
       "<!--\n",
       "\t <div class=\"wb-tabs carousel-s2 playing\" data-speed=\"slow\"> \n",
       "   <ul role=\"tablist\"> \n",
       "    <li class=\"active\"><a title=\"Tab 1\" href=\"#tab1\"><img src=\"/content/dam/themes/business/carousel/CoronaVirus-Button-653x194-EN.png\" title=\"\" alt=\"Coronavirus disease (COVID-19)\"></a></li> \n",
       "    <li><a title=\"Tab 2\" href=\"#tab2\"><img src=\"/content/dam/themes/science/carousel/1024_01_19_Web_Banner_653x194_EN_v02.jpg\" title=\"\" alt=\"\"></a></li> \n",
       "    <li><a title=\"Tab 3\" href=\"#tab3\"><img src=\"/content/dam/themes/science/carousel/stemfemmes6.jpg\" title=\"\" alt=\"\"></a></li> \n",
       "    <li><a title=\"Tab 4\" href=\"#tab4\"><img src=\"/content/dam/themes/business/images/1113_12_19_HRB_WebButtons_653x194_EN.jpg\" title=\"\" alt=\"\"></a></li> \n",
       "   </ul> \n",
       "   <div role=\"tabpanel\" id=\"tab1\" class=\"in fade\"> \n",
       "    <a href=\"https://www.canada.ca/en/public-health/services/diseases/coronavirus-disease-covid-19.html\"> \n",
       "     <figure> \n",
       "      <img src=\"/content/dam/themes/business/carousel/CoronaVirus-Button-653x194-EN.png\" alt=\"Coronavirus disease (COVID-19)\"> \n",
       "      <figcaption> \n",
       "       <p>Coronavirus disease (COVID-19)</p> \n",
       "      </figcaption> \n",
       "     </figure> </a> \n",
       "   </div> \n",
       "   <div role=\"tabpanel\" id=\"tab2\" class=\"out fade\"> \n",
       "    <a href=\"https://www.ic.gc.ca/app/scr/innovation?lang=eng&amp;WT.mc_id=InnoForSuccess2019_canada.ca-Science_carousel_en\" class=\"learnmore\"> \n",
       "     <figure> \n",
       "      <img src=\"/content/dam/themes/science/carousel/1024_01_19_Web_Banner_653x194_EN_v02.jpg\" alt=\"\"> \n",
       "      <figcaption> \n",
       "       <p>Find out what government can do for your business.</p> \n",
       "      </figcaption> \n",
       "     </figure> </a> \n",
       "   </div> \n",
       "   <div role=\"tabpanel\" id=\"tab3\" class=\"out fade\"> \n",
       "    <a href=\"http://www.science.gc.ca/eic/site/063.nsf/eng/h_97413.html\" class=\"learnmore\"> \n",
       "     <figure> \n",
       "      <img src=\"/content/dam/themes/science/carousel/stemfemmes6.jpg\" alt=\"\"> \n",
       "      <figcaption> \n",
       "       <p>Canadian STEM Femmes</p> \n",
       "      </figcaption> \n",
       "     </figure> </a> \n",
       "   </div> \n",
       "   <div role=\"tabpanel\" id=\"tab4\" class=\"out fade\"> \n",
       "    <a href=\"http://www.ic.gc.ca/eic/site/careers-carrieres.nsf/eng/h_00971.html\" class=\"learnmore\"> \n",
       "     <figure> \n",
       "      <img src=\"/content/dam/themes/business/images/1113_12_19_HRB_WebButtons_653x194_EN.jpg\" alt=\"\"> \n",
       "      <figcaption> \n",
       "       <p>We're hiring! Come work with us on 5G.</p> \n",
       "      </figcaption> \n",
       "     </figure> </a> \n",
       "   </div> \n",
       "  </div>\n",
       "\t -->\n",
       "</div>\n",
       "</div>\n",
       "<div class=\"row\">\n",
       "<div class=\"col-md-4 col-xs-12 pull-right\">\n",
       "<section class=\"lnkbx\">\n",
       "<h2>Most requested</h2>\n",
       "<ul>\n",
       "<li><a href=\"https://nrc.canada.ca/en/certifications-evaluations-standards/codes-canada/codes-canada-publications\">National building codes</a></li>\n",
       "<li><a href=\"https://nrc.canada.ca/en/web-clock/\">Official time across Canada</a></li>\n",
       "<li><a href=\"https://www.nrc-cnrc.gc.ca/eng/services/sunrise/index.html\">Check sunrise and sunset times</a></li>\n",
       "<li><a href=\"https://nrc.canada.ca/en/support-technology-innovation/financial-support-technology-innovation-through-nrc-irap\">Financial support for technology innovation</a></li>\n",
       "<li><a href=\"https://science-libraries.canada.ca/eng/home/\">Federal Science Libraries Network</a></li>\n",
       "<li><a href=\"http://asc-csa.gc.ca/eng/astronomy/auroramax/hd-480.asp\">Live view of northern lights cam</a></li>\n",
       "</ul>\n",
       "</section>\n",
       "</div>\n",
       "<section class=\"col-md-8 pull-left\">\n",
       "<h2>Services and information</h2>\n",
       "<div class=\"wb-eqht row\">\n",
       "<div class=\"col-md-6\">\n",
       "<section>\n",
       "<h3 class=\"h5\"><a href=\"https://www.ic.gc.ca/eic/site/151.nsf/eng/home\">Biomanufacturing </a></h3>\n",
       "<p>Find out how the Government of Canada is building Canada's biomanufacturing capacity</p>\n",
       "</section>\n",
       "</div>\n",
       "<div class=\"col-md-6\">\n",
       "<section>\n",
       "<h3 class=\"h5\"><a href=\"/en/services/science/researchfunding.html\">Research funding and awards</a></h3>\n",
       "<p>Funding and awards for scientific research, research infrastructure and research networks.</p>\n",
       "</section>\n",
       "</div>\n",
       "<div class=\"col-md-6\">\n",
       "<section>\n",
       "<h3 class=\"h5\"><a href=\"/en/services/science/sciencesubjects.html\">Science subjects</a></h3>\n",
       "<p>Government research and resources on a wide variety of scientific topics.</p>\n",
       "</section>\n",
       "</div>\n",
       "<div class=\"col-md-6\">\n",
       "<section>\n",
       "<h3 class=\"h5\"><a href=\"/en/services/science/open-data.html\">Open data, statistics and archives</a></h3>\n",
       "<p>Government data, statistics, analyses and archival information to assist with research and discovery.</p>\n",
       "</section>\n",
       "</div>\n",
       "<div class=\"col-md-6\">\n",
       "<section>\n",
       "<h3 class=\"h5\"><a href=\"/en/services/science/institutes.html\">Research institutes and facilities</a></h3>\n",
       "<p>Government research centres across Canada and how to partner with or access these facilities.</p>\n",
       "</section>\n",
       "</div>\n",
       "<div class=\"col-md-6\">\n",
       "<section>\n",
       "<h3 class=\"h5\"><a href=\"/en/services/science/innovation.html\"><abbr title=\"Research and development\">R&amp;D</abbr> and innovation</a></h3>\n",
       "<p>Funding, collaboration, commercialization and licensing resources to help fuel innovation.</p>\n",
       "</section>\n",
       "</div>\n",
       "<div class=\"col-md-6\">\n",
       "<section>\n",
       "<h3 class=\"h5\"><a href=\"/en/services/business/ip.html\">Intellectual property and copyright</a></h3>\n",
       "<p>Protecting your intellectual property, trademarks, copyright and using <abbr title=\"Intellectual Property\">IP</abbr> as a business tool.</p>\n",
       "</section>\n",
       "</div>\n",
       "<div class=\"col-md-6\">\n",
       "<section>\n",
       "<h3 class=\"h5\"><a href=\"/en/services/science/scientistsdirectory.html\">Directory of scientists and research professionals</a></h3>\n",
       "<p>A directory of government scientists and research professionals.</p>\n",
       "</section>\n",
       "</div>\n",
       "<div class=\"col-md-6\">\n",
       "<section>\n",
       "<h3 class=\"h5\"><a href=\"/en/services/science/educationalresources.html\">Science education resources</a></h3>\n",
       "<p>Activities, lesson plans, videos and more to help youth learn about science and technology.</p>\n",
       "</section>\n",
       "</div>\n",
       "<div class=\"col-md-6\">\n",
       "<section>\n",
       "<h3 class=\"h5\"><a href=\"https://www.canada.ca/en/services/environment/our-environment.html\">Our environment</a></h3>\n",
       "<p>Resources to take action to fight climate change and protect the environment.</p>\n",
       "</section>\n",
       "</div>\n",
       "</div>\n",
       "</section>\n",
       "</div>\n",
       "<section class=\"gc-prtts\">\n",
       "<h2>Features</h2>\n",
       "<div class=\"row\">\n",
       "<div class=\"col-lg-4 col-md-6 mrgn-bttm-sm\">\n",
       "<a href=\"https://www.asc-csa.gc.ca/eng/astronomy/moon-exploration/?utm_campaign=csa-asc-artemis-1-launch-2022-2023&amp;utm_medium=pog&amp;utm_source=canada-ca&amp;utm_content=watch-the-artemis-i-launch-en\">\n",
       "<figure>\n",
       "<figcaption>\n",
       "       Moon exploration \n",
       "      <br/><br/></figcaption>\n",
       "<img alt=\"\" class=\"img-responsive thumbnail mrgn-bttm-sm\" src=\"/content/dam/ised-isde/images/services/sciences/Artemis.jpg\"/>\n",
       "<p>Watch the Artemis I launch!</p>\n",
       "</figure> </a>\n",
       "</div>\n",
       "<div class=\"col-lg-4 col-md-6 mrgn-bttm-sm\">\n",
       "<a href=\"https://www.asc-csa.gc.ca/eng/satellites/jwst/default.asp?utm_campaign=csa-asc-jwst-2021-2022&amp;utm_medium=dis&amp;utm_source=canada&amp;utm_content=science-jwst-launch&amp;utm_term=features-jwst\">\n",
       "<figure>\n",
       "<figcaption>\n",
       "       James Webb Space \n",
       "      <br/>Telescope \n",
       "     </figcaption>\n",
       "<img alt=\"\" class=\"img-responsive thumbnail mrgn-bttm-sm\" src=\"https://www.ic.gc.ca/eic/site/icgc.nsf/vwimages/JWST_banner_360x203.jpg/$file/JWST_banner_360x203.jpg\"/>\n",
       "<p>What the telescope will observe, its objectives, how it works and Canada's role.</p>\n",
       "</figure> </a>\n",
       "</div>\n",
       "<!--<div class=\"col-lg-4 col-md-6 mrgn-bttm-sm\"> \n",
       "   <a href=\"http://science.gc.ca/eic/site/063.nsf/eng/h_97955.html?open&amp;utm_campaign=safeguarding%2520your%2520research&amp;utm_medium=theme_page&amp;utm_source=canadadotca_science_innovation&amp;utm_content=safeguarding_research\"> \n",
       "    <figure> \n",
       "     <figcaption>\n",
       "       Safeguarding your \n",
       "      <br>research \n",
       "     </figcaption> \n",
       "     <img src=\"/content/dam/ised-isde/images/services/button_02.jpg\" alt=\"\" class=\"img-responsive thumbnail mrgn-bttm-sm\"> \n",
       "     <p>Learn how to guard your data, expertise and knowledge.</p> \n",
       "    </figure> </a> \n",
       "  </div> -->\n",
       "<div class=\"clearfix\"></div>\n",
       "</div>\n",
       "</section></div>\n",
       "<div class=\"pagedetails\">\n",
       "<div class=\"row\">\n",
       "<div class=\"col-sm-6 col-md-5 col-lg-4\">\n",
       "<details class=\"brdr-0\">\n",
       "<summary class=\"btn btn-default text-center\">Report a problem or mistake on this page</summary>\n",
       "<div class=\"clearfix\"></div>\n",
       "<div class=\"well row\">\n",
       "<div><div class=\"gc-rprt-prblm\">\n",
       "<div class=\"gc-rprt-prblm-frm gc-rprt-prblm-tggl\">\n",
       "<form action=\"/gc/services/notify\" id=\"gc-rprt-prblm-form\" method=\"post\">\n",
       "<input name=\"emailTemplateservcanE\" type=\"hidden\" value=\"ZmVlZGJhY2stcmV0cm9hY3Rpb25AY2FuYWRh\"/>\n",
       "<input name=\"emailTemplate\" type=\"hidden\" value=\"90663d71-5f83-4e26-8817-f46db3e05513\"/>\n",
       "<input name=\"successUrl\" type=\"hidden\" value=\"/content/canadasite/en/contact/questionsthanks.html\"/>\n",
       "<input name=\"failureUrl\" type=\"hidden\" value=\"/content/canadasite/en/contact/questionsfailure.html\"/>\n",
       "<input name=\"externalReferer\" type=\"hidden\" value=\"\"/>\n",
       "<input name=\"pageTitle\" type=\"hidden\" value=\"Science and innovation\"/>\n",
       "<input name=\"submissionPage\" type=\"hidden\" value=\"/content/canadasite/en/services/science.html\"/>\n",
       "<input name=\"lang\" type=\"hidden\" value=\"en\"/>\n",
       "<input name=\"pageOwner\" type=\"hidden\" value=\"gc:institutions/department-of-industry\"/>\n",
       "<input name=\"subject\" type=\"hidden\" value=\"Report a problem or mistake on this page\"/>\n",
       "<fieldset>\n",
       "<legend><span class=\"field-name\">Please select all that apply:</span></legend>\n",
       "<div class=\"checkbox\">\n",
       "<label for=\"problem1\"><input data-gc-analytics-rap=\"A link, button or video is not working-Un lien, un bouton ou une vidéo ne fonctionne pas\" data-reveal=\"#broken\" id=\"problem1\" name=\"problem1\" type=\"checkbox\" value=\"Yes\"/>A link, button or video is not working</label>\n",
       "<input name=\"problem1\" type=\"hidden\" value=\"\"/>\n",
       "</div>\n",
       "<div class=\"checkbox\">\n",
       "<label for=\"problem2\"><input data-gc-analytics-rap=\"It has a spelling mistake-Il y a une erreur d'orthographe ou de grammaire\" data-reveal=\"#spelling\" id=\"problem2\" name=\"problem2\" type=\"checkbox\" value=\"Yes\"/>It has a spelling mistake</label>\n",
       "<input name=\"problem2\" type=\"hidden\" value=\"\"/>\n",
       "</div>\n",
       "<div class=\"checkbox\">\n",
       "<label for=\"problem3\"><input data-gc-analytics-rap=\"Information is missing-Les renseignements sont incomplets\" data-reveal=\"#wrong\" id=\"problem3\" name=\"problem3\" type=\"checkbox\" value=\"Yes\"/>Information is missing</label>\n",
       "<input name=\"problem3\" type=\"hidden\" value=\"\"/>\n",
       "</div>\n",
       "<div class=\"checkbox\">\n",
       "<label for=\"problem4\"><input data-gc-analytics-rap=\" Information is outdated or wrong-L'information n'est plus à jour ou est erronée\" data-reveal=\"#outdated\" id=\"problem4\" name=\"problem4\" type=\"checkbox\" value=\"Yes\"/>Information is outdated or wrong</label>\n",
       "<input name=\"problem4\" type=\"hidden\" value=\"\"/>\n",
       "</div>\n",
       "<div class=\"checkbox\">\n",
       "<label for=\"problem5\"><input data-gc-analytics-rap=\" Login error when trying to access an account (e.g. My Service Canada Account)-Message d'erreur à l'ouverture de la session lorsque je tente d'accéder à un compte (ex. Mon dossier Service Canada)\" data-reveal=\"#find\" id=\"problem5\" name=\"problem5\" type=\"checkbox\" value=\"Yes\"/>Login error when trying to access an account (e.g. My Service Canada Account)</label>\n",
       "<input name=\"problem5\" type=\"hidden\" value=\"\"/>\n",
       "</div>\n",
       "<ul>\n",
       "<li class=\"checkbox\">\n",
       "<label for=\"problem6a\"><input data-gc-analytics-rap=\"GC Key access-Accès CléGC\" data-reveal=\"#find\" id=\"problem6a\" name=\"problem6\" type=\"checkbox\" value=\"Yes\"/>GC Key access</label>\n",
       "<input name=\"problem6\" type=\"hidden\" value=\"\"/>\n",
       "</li>\n",
       "<li class=\"checkbox\">\n",
       "<label for=\"problem7\"><input data-gc-analytics-rap=\"SecureKey Concierge (Banking Credential) access-Accès SecureKey Service de Concierge (justificatifs d'identité bancaires)\" data-reveal=\"#find\" id=\"problem7\" name=\"problem7\" type=\"checkbox\" value=\"Yes\"/>SecureKey Concierge (Banking Credential) access </label>\n",
       "<input name=\"problem7\" type=\"hidden\" value=\"\"/>\n",
       "</li>\n",
       "<li class=\"checkbox\">\n",
       "<label for=\"problem8\"><input data-gc-analytics-rap=\"Personal Access Code (PAC) problems or EI Access Code (AC) problems-Problème avec le Code d'accès personnel (CAP) ou avec le Code d'accès (CA) de l'assurance emploi\" data-reveal=\"#find\" id=\"problem8\" name=\"problem8\" type=\"checkbox\" value=\"Yes\"/>Personal Access Code (PAC) problems or EI Access Code (AC) problems</label>\n",
       "<input name=\"problem8\" type=\"hidden\" value=\"\"/>\n",
       "</li>\n",
       "<li class=\"checkbox\">\n",
       "<label for=\"problem9\"><input data-gc-analytics-rap=\"Social Insurance Number (SIN) validation problems-Problème lié à la validation du numéro d'assurance sociale (NAS)\" data-reveal=\"#find\" id=\"problem9\" name=\"problem9\" type=\"checkbox\" value=\"Yes\"/>Social Insurance Number (SIN) validation problems</label>\n",
       "<input name=\"problem9\" type=\"hidden\" value=\"\"/>\n",
       "</li>\n",
       "<li class=\"checkbox\">\n",
       "<label for=\"problem10\"><input data-gc-analytics-rap=\"Other login error not in this list-Autre erreur lors de l'ouverture de session qui ne figure pas sur cette liste\" data-reveal=\"#find\" id=\"problem10\" name=\"problem10\" type=\"checkbox\" value=\"Yes\"/>Other login error not in this list</label>\n",
       "<input name=\"problem10\" type=\"hidden\" value=\"\"/>\n",
       "</li>\n",
       "</ul>\n",
       "<div class=\"checkbox\">\n",
       "<label for=\"problem11\"><input data-gc-analytics-rap=\"I can't find what I'm looking for-Je n'arrive pas à trouver ce que je cherche\" data-reveal=\"#find\" id=\"problem11\" name=\"problem11\" type=\"checkbox\" value=\"Yes\"/>I can't find what I'm looking for</label>\n",
       "<input name=\"problem11\" type=\"hidden\" value=\"\"/>\n",
       "</div>\n",
       "<div class=\"checkbox\">\n",
       "<label for=\"problem12\"><input data-gc-analytics-rap=\"Other issue not in this list-Autre problème qui ne figure pas sur cette liste\" data-reveal=\"#find\" id=\"problem12\" name=\"problem12\" type=\"checkbox\" value=\"Yes\"/>Other issue not in this list</label>\n",
       "<input name=\"problem12\" type=\"hidden\" value=\"\"/>\n",
       "</div>\n",
       "</fieldset>\n",
       "<button class=\"btn btn-primary wb-toggle\" data-toggle='{\"stateOff\": \"hide\", \"stateOn\": \"show\", \"selector\": \".gc-rprt-prblm-tggl\"}' data-wb5-click=\"postback@#gc-rprt-prblm-form@\" type=\"submit\">Submit</button>\n",
       "</form>\n",
       "</div>\n",
       "<div class=\"gc-rprt-prblm-thnk gc-rprt-prblm-tggl hide\">\n",
       "<h3>Thank you for your help!</h3>\n",
       "<p>You will not receive a reply. For enquiries, <a href=\"https://www.canada.ca/en/contact/index.html\">contact us</a>.</p>\n",
       "</div>\n",
       "</div></div>\n",
       "</div>\n",
       "</details>\n",
       "</div>\n",
       "<div class=\"col-sm-4 col-md-3 col-sm-offset-2 col-md-offset-4 col-lg-offset-5\">\n",
       "<div class=\"wb-share\" data-wb-share='{\"lnkClass\": \"btn btn-default btn-block\"}'></div>\n",
       "</div>\n",
       "</div>\n",
       "<dl id=\"wb-dtmd\">\n",
       "<dt>Date modified:</dt>\n",
       "<dd><time property=\"dateModified\">2022-09-21</time></dd>\n",
       "</dl>\n",
       "</div>\n",
       "</main>\n",
       "<div class=\"newpar new section\">\n",
       "</div>\n",
       "<div class=\"par iparys_inherited\">\n",
       "</div>\n",
       "<div class=\"newpar new section\">\n",
       "</div>\n",
       "<div class=\"par iparys_inherited\">\n",
       "<div class=\"global-footer\">\n",
       "<footer id=\"wb-info\">\n",
       "<div class=\"landscape\">\n",
       "<nav class=\"container wb-navcurr\">\n",
       "<h2 class=\"wb-inv\">About government</h2>\n",
       "<ul class=\"list-unstyled colcount-sm-2 colcount-md-3\">\n",
       "<li><a href=\"/en/contact.html\">Contact us</a></li>\n",
       "<li><a href=\"/en/government/dept.html\">Departments and agencies</a></li>\n",
       "<li><a href=\"/en/government/publicservice.html\">Public service and military</a></li>\n",
       "<li><a href=\"/en/news.html\">News</a></li>\n",
       "<li><a href=\"/en/government/system/laws.html\">Treaties, laws and regulations</a></li>\n",
       "<li><a href=\"/en/transparency/reporting.html\">Government-wide reporting</a></li>\n",
       "<li><a href=\"http://pm.gc.ca/en\">Prime Minister</a></li>\n",
       "<li><a href=\"/en/government/system.html\">About government</a></li>\n",
       "<li><a href=\"http://open.canada.ca/en\">Open government</a></li>\n",
       "</ul>\n",
       "</nav>\n",
       "</div>\n",
       "<div class=\"brand\">\n",
       "<div class=\"container\">\n",
       "<div class=\"row\">\n",
       "<nav class=\"col-md-9 col-lg-10 ftr-urlt-lnk\">\n",
       "<h2 class=\"wb-inv\">About this site</h2>\n",
       "<ul>\n",
       "<li><a href=\"/en/social.html\">Social media</a></li>\n",
       "<li><a href=\"/en/mobile.html\">Mobile applications</a></li>\n",
       "<li><a href=\"/en/government/about.html\">About Canada.ca</a></li>\n",
       "<li><a href=\"/en/transparency/terms.html\">Terms and conditions</a></li>\n",
       "<li><a href=\"/en/transparency/privacy.html\">Privacy</a></li>\n",
       "</ul>\n",
       "</nav>\n",
       "<div class=\"col-xs-6 visible-sm visible-xs tofpg\">\n",
       "<a href=\"#wb-cont\">Top of page <span class=\"glyphicon glyphicon-chevron-up\"></span></a>\n",
       "</div>\n",
       "<div class=\"col-xs-6 col-md-3 col-lg-2 text-right\">\n",
       "<img alt=\"Symbol of the Government of Canada\" src=\"/etc/designs/canada/wet-boew/assets/wmms-blk.svg\">\n",
       "</img></div>\n",
       "</div>\n",
       "</div>\n",
       "</div>\n",
       "</footer>\n",
       "</div>\n",
       "</div>\n",
       "<script type=\"text/javascript\">_satellite.pageBottom();</script>\n",
       "<script crossorigin=\"anonymous\" integrity=\"sha256-BbhdlvQf/xTY9gja0Dq3HiwQF8LaCRTXxZKRutelT44=\" src=\"//ajax.googleapis.com/ajax/libs/jquery/2.2.4/jquery.min.js\"></script>\n",
       "<script src=\"/etc/designs/canada/wet-boew/js/ep-pp.min.js\"></script>\n",
       "<script src=\"/etc/designs/canada/wet-boew/js/wet-boew.min.js\"></script>\n",
       "<script src=\"/etc/designs/canada/wet-boew/js/theme.min.js\"></script>\n",
       "</body>\n",
       "</html>"
      ]
     },
     "execution_count": 10,
     "metadata": {},
     "output_type": "execute_result"
    }
   ],
   "source": [
    "scrape_url = 'https://canada.ca/en/services/science.html'\n",
    "page = requests.get(scrape_url)\n",
    "soup = BeautifulSoup(page.content, 'html.parser')\n",
    "soup"
   ]
  },
  {
   "cell_type": "code",
   "execution_count": 11,
   "metadata": {
    "id": "YPHT52w-CDeL"
   },
   "outputs": [
    {
     "data": {
      "text/plain": [
       "[<p>Scientific research, funding, datasets, innovation support, facilities and educational resources.</p>,\n",
       " <p>Find out what government can do for your business.</p>,\n",
       " <p>Find out how the Government of Canada is building Canada's biomanufacturing capacity</p>,\n",
       " <p>Funding and awards for scientific research, research infrastructure and research networks.</p>,\n",
       " <p>Government research and resources on a wide variety of scientific topics.</p>,\n",
       " <p>Government data, statistics, analyses and archival information to assist with research and discovery.</p>,\n",
       " <p>Government research centres across Canada and how to partner with or access these facilities.</p>,\n",
       " <p>Funding, collaboration, commercialization and licensing resources to help fuel innovation.</p>,\n",
       " <p>Protecting your intellectual property, trademarks, copyright and using <abbr title=\"Intellectual Property\">IP</abbr> as a business tool.</p>,\n",
       " <p>A directory of government scientists and research professionals.</p>,\n",
       " <p>Activities, lesson plans, videos and more to help youth learn about science and technology.</p>,\n",
       " <p>Resources to take action to fight climate change and protect the environment.</p>,\n",
       " <p>Watch the Artemis I launch!</p>,\n",
       " <p>What the telescope will observe, its objectives, how it works and Canada's role.</p>,\n",
       " <p>You will not receive a reply. For enquiries, <a href=\"https://www.canada.ca/en/contact/index.html\">contact us</a>.</p>]"
      ]
     },
     "execution_count": 11,
     "metadata": {},
     "output_type": "execute_result"
    }
   ],
   "source": [
    "soup.find_all('p')"
   ]
  },
  {
   "cell_type": "code",
   "execution_count": 12,
   "metadata": {
    "id": "QIYi0iZuCDeL"
   },
   "outputs": [
    {
     "name": "stdout",
     "output_type": "stream",
     "text": [
      "Scientific research, funding, datasets, innovation support, facilities and educational resources.\n",
      "\n",
      "\n",
      "Find out what government can do for your business.\n",
      "\n",
      "\n",
      "Find out how the Government of Canada is building Canada's biomanufacturing capacity\n",
      "\n",
      "\n",
      "Funding and awards for scientific research, research infrastructure and research networks.\n",
      "\n",
      "\n",
      "Government research and resources on a wide variety of scientific topics.\n",
      "\n",
      "\n",
      "Government data, statistics, analyses and archival information to assist with research and discovery.\n",
      "\n",
      "\n",
      "Government research centres across Canada and how to partner with or access these facilities.\n",
      "\n",
      "\n",
      "Funding, collaboration, commercialization and licensing resources to help fuel innovation.\n",
      "\n",
      "\n",
      "Protecting your intellectual property, trademarks, copyright and using IP as a business tool.\n",
      "\n",
      "\n",
      "A directory of government scientists and research professionals.\n",
      "\n",
      "\n",
      "Activities, lesson plans, videos and more to help youth learn about science and technology.\n",
      "\n",
      "\n",
      "Resources to take action to fight climate change and protect the environment.\n",
      "\n",
      "\n",
      "Watch the Artemis I launch!\n",
      "\n",
      "\n",
      "What the telescope will observe, its objectives, how it works and Canada's role.\n",
      "\n",
      "\n",
      "You will not receive a reply. For enquiries, contact us.\n",
      "\n",
      "\n"
     ]
    }
   ],
   "source": [
    "for item in soup.find_all('p'):\n",
    "    print(item.get_text())\n",
    "    print('\\n')"
   ]
  },
  {
   "cell_type": "markdown",
   "metadata": {
    "id": "rxA400bWCDeL"
   },
   "source": [
    "### XML   \n",
    "• hierarchical description of tagged data  \n",
    "\n",
    "```\n",
    "<library>\n",
    "<book>\n",
    "<title name='For Whom the Bell Tolls'>\n",
    "<author>\n",
    "Ernest Hemingway\n",
    "</author>\n",
    "</book>\n",
    "<book>\n",
    "<title>\n",
    "The Stranger\n",
    "</title>\n",
    "<author>\n",
    "Albert Camus\n",
    "</author>\n",
    "</book>\n",
    "</library>\n",
    "```"
   ]
  },
  {
   "cell_type": "markdown",
   "metadata": {
    "id": "zKFAxTMJCDeL"
   },
   "source": [
    "## XML\n",
    "- Let's take a look at an XML file\n",
    "- We use the `xml` package to work with XML"
   ]
  },
  {
   "cell_type": "code",
   "execution_count": 13,
   "metadata": {
    "id": "oaR9E3BwCDeL"
   },
   "outputs": [],
   "source": [
    "import xml.etree.ElementTree as et"
   ]
  },
  {
   "cell_type": "code",
   "execution_count": 14,
   "metadata": {
    "id": "Q9uN2HiICDeL"
   },
   "outputs": [
    {
     "data": {
      "text/plain": [
       "<xml.etree.ElementTree.ElementTree at 0x2816d4a90a0>"
      ]
     },
     "execution_count": 14,
     "metadata": {},
     "output_type": "execute_result"
    }
   ],
   "source": [
    "# parses the XML so that it figures out the \"tree\" of tags\n",
    "tree = et.parse('data/data.xml')\n",
    "tree"
   ]
  },
  {
   "cell_type": "code",
   "execution_count": 15,
   "metadata": {
    "id": "QFOBwvILCDeM"
   },
   "outputs": [
    {
     "data": {
      "text/plain": [
       "<Element 'data' at 0x000002816D61F9F0>"
      ]
     },
     "execution_count": 15,
     "metadata": {},
     "output_type": "execute_result"
    }
   ],
   "source": [
    "# get to the root tag of the file\n",
    "root = tree.getroot()\n",
    "root"
   ]
  },
  {
   "cell_type": "code",
   "execution_count": null,
   "metadata": {
    "id": "eb55wFgRCDeM"
   },
   "outputs": [],
   "source": [
    "root.tag"
   ]
  },
  {
   "cell_type": "markdown",
   "metadata": {
    "id": "OLiIaRO8CDeM"
   },
   "source": [
    "From the root, we can begin to navigate the tree"
   ]
  },
  {
   "cell_type": "code",
   "execution_count": 16,
   "metadata": {
    "id": "Mnvi-Qb9CDeM"
   },
   "outputs": [
    {
     "name": "stdout",
     "output_type": "stream",
     "text": [
      "What is the root tag: data\n",
      "Attributes of the root tag: {}\n",
      "Number of children: 3\n"
     ]
    }
   ],
   "source": [
    "# get root tag\n",
    "print(\"What is the root tag:\", root.tag)\n",
    "\n",
    "# get root attributes\n",
    "print(\"Attributes of the root tag:\", root.attrib)\n",
    "\n",
    "# get number of \"children\"\n",
    "print(\"Number of children:\", len(root))"
   ]
  },
  {
   "cell_type": "code",
   "execution_count": 17,
   "metadata": {
    "id": "02bEyo7NCDeM"
   },
   "outputs": [
    {
     "name": "stdout",
     "output_type": "stream",
     "text": [
      "Child 0: country\n",
      "\t\trank\n",
      "\t\tyear\n",
      "\t\tgdppc\n",
      "\t\tneighbor\n",
      "\t\tneighbor\n",
      "Child 1: country\n",
      "\t\trank\n",
      "\t\tyear\n",
      "\t\tgdppc\n",
      "\t\tneighbor\n",
      "Child 2: country\n",
      "\t\trank\n",
      "\t\tyear\n",
      "\t\tgdppc\n",
      "\t\tneighbor\n",
      "\t\tneighbor\n"
     ]
    }
   ],
   "source": [
    "for i, child in enumerate(root):\n",
    "    print(f\"Child {i}: {child.tag}\")\n",
    "    for gc in child:\n",
    "        print(f\"\\t\\t{gc.tag}\")"
   ]
  },
  {
   "cell_type": "code",
   "execution_count": 18,
   "metadata": {
    "id": "SNkoM3mTCDeM"
   },
   "outputs": [
    {
     "name": "stdout",
     "output_type": "stream",
     "text": [
      "tag: country | attribute: {'name': 'Liechtenstein'}\n",
      "tag: country | attribute: {'name': 'Singapore'}\n",
      "tag: country | attribute: {'name': 'Panama'}\n"
     ]
    }
   ],
   "source": [
    "# printing out the children of root\n",
    "for idx in range(len(root)):\n",
    "    print(\"tag:\", root[idx].tag, \"| attribute:\", root[idx].attrib)"
   ]
  },
  {
   "cell_type": "code",
   "execution_count": 54,
   "metadata": {
    "id": "Z_R2RkwPCDeM"
   },
   "outputs": [
    {
     "data": {
      "text/plain": [
       "{'name': 'Liechtenstein'}"
      ]
     },
     "execution_count": 54,
     "metadata": {},
     "output_type": "execute_result"
    }
   ],
   "source": [
    "x = root[0].attrib\n",
    "x"
   ]
  },
  {
   "cell_type": "code",
   "execution_count": 55,
   "metadata": {},
   "outputs": [
    {
     "data": {
      "text/plain": [
       "'Liechtenstein'"
      ]
     },
     "execution_count": 55,
     "metadata": {},
     "output_type": "execute_result"
    }
   ],
   "source": [
    "x['name']"
   ]
  },
  {
   "cell_type": "code",
   "execution_count": 20,
   "metadata": {
    "id": "s5hfosaaCDeM"
   },
   "outputs": [
    {
     "name": "stdout",
     "output_type": "stream",
     "text": [
      "{'name': 'Panama'}\n",
      "gdppc : 13600\n",
      "{'name': 'Costa Rica', 'direction': 'W'}\n"
     ]
    }
   ],
   "source": [
    "country3 = root[2]\n",
    "\n",
    "neighbour = country3[3]\n",
    "neighbour.attrib\n",
    "\n",
    "gdppc = country3[2]\n",
    "gdppc\n",
    "\n",
    "print(country3.attrib)\n",
    "print(gdppc.tag, \":\", gdppc.text)\n",
    "print(neighbour.attrib)\n",
    "\n"
   ]
  },
  {
   "cell_type": "code",
   "execution_count": 22,
   "metadata": {},
   "outputs": [
    {
     "name": "stdout",
     "output_type": "stream",
     "text": [
      "Defaulting to user installation because normal site-packages is not writeable\n",
      "Collecting xmltodict\n",
      "  Downloading xmltodict-0.13.0-py2.py3-none-any.whl (10.0 kB)\n",
      "Installing collected packages: xmltodict\n",
      "Successfully installed xmltodict-0.13.0\n"
     ]
    }
   ],
   "source": [
    "!pip install xmltodict"
   ]
  },
  {
   "cell_type": "code",
   "execution_count": 23,
   "metadata": {
    "id": "xNhiruHBCDeM"
   },
   "outputs": [
    {
     "name": "stdout",
     "output_type": "stream",
     "text": [
      "{\"employees\": {\"employee\": {\"name\": \"Dave\", \"role\": \"Sale Assistant\", \"age\": \"34\"}}}\n"
     ]
    }
   ],
   "source": [
    "import xmltodict, json\n",
    "\n",
    "obj = xmltodict.parse(\"\"\"\n",
    "<employees>\n",
    "    <employee>\n",
    "        <name>Dave</name>\n",
    "        <role>Sale Assistant</role>\n",
    "        <age>34</age>\n",
    "    </employee>\n",
    "</employees>\n",
    "\"\"\")\n",
    "print(json.dumps(obj))"
   ]
  },
  {
   "cell_type": "markdown",
   "metadata": {
    "id": "T1kbJdSsCDeN"
   },
   "source": [
    "## JSON\n",
    "\n",
    "Here's some sample JSON: https://raw.githubusercontent.com/chrisalbon/simulated_datasets/master/data.json"
   ]
  },
  {
   "cell_type": "markdown",
   "metadata": {
    "id": "yfc8zkbzCDeN"
   },
   "source": [
    "[JSON Plug-in](https://chrome.google.com/webstore/detail/json-formatter/bcjindcccaagfpapjjmafapmmgkkhgoa?hl=en)"
   ]
  },
  {
   "cell_type": "code",
   "execution_count": 24,
   "metadata": {
    "id": "xa-efffNCDeN"
   },
   "outputs": [
    {
     "data": {
      "text/html": [
       "<div>\n",
       "<style scoped>\n",
       "    .dataframe tbody tr th:only-of-type {\n",
       "        vertical-align: middle;\n",
       "    }\n",
       "\n",
       "    .dataframe tbody tr th {\n",
       "        vertical-align: top;\n",
       "    }\n",
       "\n",
       "    .dataframe thead th {\n",
       "        text-align: right;\n",
       "    }\n",
       "</style>\n",
       "<table border=\"1\" class=\"dataframe\">\n",
       "  <thead>\n",
       "    <tr style=\"text-align: right;\">\n",
       "      <th></th>\n",
       "      <th>integer</th>\n",
       "      <th>datetime</th>\n",
       "      <th>category</th>\n",
       "    </tr>\n",
       "  </thead>\n",
       "  <tbody>\n",
       "    <tr>\n",
       "      <th>0</th>\n",
       "      <td>5</td>\n",
       "      <td>2015-01-01 00:00:00</td>\n",
       "      <td>0</td>\n",
       "    </tr>\n",
       "    <tr>\n",
       "      <th>1</th>\n",
       "      <td>5</td>\n",
       "      <td>2015-01-01 00:00:01</td>\n",
       "      <td>0</td>\n",
       "    </tr>\n",
       "    <tr>\n",
       "      <th>2</th>\n",
       "      <td>9</td>\n",
       "      <td>2015-01-01 00:00:02</td>\n",
       "      <td>0</td>\n",
       "    </tr>\n",
       "    <tr>\n",
       "      <th>3</th>\n",
       "      <td>6</td>\n",
       "      <td>2015-01-01 00:00:03</td>\n",
       "      <td>0</td>\n",
       "    </tr>\n",
       "    <tr>\n",
       "      <th>4</th>\n",
       "      <td>6</td>\n",
       "      <td>2015-01-01 00:00:04</td>\n",
       "      <td>0</td>\n",
       "    </tr>\n",
       "    <tr>\n",
       "      <th>...</th>\n",
       "      <td>...</td>\n",
       "      <td>...</td>\n",
       "      <td>...</td>\n",
       "    </tr>\n",
       "    <tr>\n",
       "      <th>95</th>\n",
       "      <td>9</td>\n",
       "      <td>2015-01-01 00:01:35</td>\n",
       "      <td>0</td>\n",
       "    </tr>\n",
       "    <tr>\n",
       "      <th>96</th>\n",
       "      <td>8</td>\n",
       "      <td>2015-01-01 00:01:36</td>\n",
       "      <td>0</td>\n",
       "    </tr>\n",
       "    <tr>\n",
       "      <th>97</th>\n",
       "      <td>6</td>\n",
       "      <td>2015-01-01 00:01:37</td>\n",
       "      <td>0</td>\n",
       "    </tr>\n",
       "    <tr>\n",
       "      <th>98</th>\n",
       "      <td>8</td>\n",
       "      <td>2015-01-01 00:01:38</td>\n",
       "      <td>0</td>\n",
       "    </tr>\n",
       "    <tr>\n",
       "      <th>99</th>\n",
       "      <td>1</td>\n",
       "      <td>2015-01-01 00:01:39</td>\n",
       "      <td>0</td>\n",
       "    </tr>\n",
       "  </tbody>\n",
       "</table>\n",
       "<p>100 rows × 3 columns</p>\n",
       "</div>"
      ],
      "text/plain": [
       "    integer            datetime  category\n",
       "0         5 2015-01-01 00:00:00         0\n",
       "1         5 2015-01-01 00:00:01         0\n",
       "2         9 2015-01-01 00:00:02         0\n",
       "3         6 2015-01-01 00:00:03         0\n",
       "4         6 2015-01-01 00:00:04         0\n",
       "..      ...                 ...       ...\n",
       "95        9 2015-01-01 00:01:35         0\n",
       "96        8 2015-01-01 00:01:36         0\n",
       "97        6 2015-01-01 00:01:37         0\n",
       "98        8 2015-01-01 00:01:38         0\n",
       "99        1 2015-01-01 00:01:39         0\n",
       "\n",
       "[100 rows x 3 columns]"
      ]
     },
     "execution_count": 24,
     "metadata": {},
     "output_type": "execute_result"
    }
   ],
   "source": [
    "# You can read from the URL too!!\n",
    "url = 'https://raw.githubusercontent.com/chrisalbon/simulated_datasets/master/data.json'\n",
    "json_data = pd.read_json(url)\n",
    "json_data"
   ]
  },
  {
   "cell_type": "markdown",
   "metadata": {
    "id": "J5FE-a96CDeN"
   },
   "source": [
    "## JSON ... continued\n",
    "- `pd.read_json` doesn't work so well with nested JSON...\n",
    "- Let's take a look at what a nested JSON is: https://raw.githubusercontent.com/chrisalbon/simulated_datasets/master/data.json"
   ]
  },
  {
   "cell_type": "code",
   "execution_count": 25,
   "metadata": {
    "id": "CqrNaW_2CDeN",
    "scrolled": true
   },
   "outputs": [
    {
     "ename": "ValueError",
     "evalue": "All arrays must be of the same length",
     "output_type": "error",
     "traceback": [
      "\u001b[1;31m---------------------------------------------------------------------------\u001b[0m",
      "\u001b[1;31mValueError\u001b[0m                                Traceback (most recent call last)",
      "Cell \u001b[1;32mIn [25], line 4\u001b[0m\n\u001b[0;32m      2\u001b[0m \u001b[38;5;28;01mimport\u001b[39;00m \u001b[38;5;21;01mpandas\u001b[39;00m \u001b[38;5;28;01mas\u001b[39;00m \u001b[38;5;21;01mpd\u001b[39;00m \n\u001b[0;32m      3\u001b[0m \u001b[38;5;28;01mfrom\u001b[39;00m \u001b[38;5;21;01mIPython\u001b[39;00m\u001b[38;5;21;01m.\u001b[39;00m\u001b[38;5;21;01mdisplay\u001b[39;00m \u001b[38;5;28;01mimport\u001b[39;00m JSON\n\u001b[1;32m----> 4\u001b[0m nested_json \u001b[38;5;241m=\u001b[39m \u001b[43mpd\u001b[49m\u001b[38;5;241;43m.\u001b[39;49m\u001b[43mread_json\u001b[49m\u001b[43m(\u001b[49m\u001b[38;5;124;43m'\u001b[39;49m\u001b[38;5;124;43mdata/nested.json\u001b[39;49m\u001b[38;5;124;43m'\u001b[39;49m\u001b[43m)\u001b[49m\n\u001b[0;32m      5\u001b[0m nested_json\n",
      "File \u001b[1;32m~\\AppData\\Roaming\\Python\\Python39\\site-packages\\pandas\\util\\_decorators.py:211\u001b[0m, in \u001b[0;36mdeprecate_kwarg.<locals>._deprecate_kwarg.<locals>.wrapper\u001b[1;34m(*args, **kwargs)\u001b[0m\n\u001b[0;32m    209\u001b[0m     \u001b[38;5;28;01melse\u001b[39;00m:\n\u001b[0;32m    210\u001b[0m         kwargs[new_arg_name] \u001b[38;5;241m=\u001b[39m new_arg_value\n\u001b[1;32m--> 211\u001b[0m \u001b[38;5;28;01mreturn\u001b[39;00m func(\u001b[38;5;241m*\u001b[39margs, \u001b[38;5;241m*\u001b[39m\u001b[38;5;241m*\u001b[39mkwargs)\n",
      "File \u001b[1;32m~\\AppData\\Roaming\\Python\\Python39\\site-packages\\pandas\\util\\_decorators.py:317\u001b[0m, in \u001b[0;36mdeprecate_nonkeyword_arguments.<locals>.decorate.<locals>.wrapper\u001b[1;34m(*args, **kwargs)\u001b[0m\n\u001b[0;32m    311\u001b[0m \u001b[38;5;28;01mif\u001b[39;00m \u001b[38;5;28mlen\u001b[39m(args) \u001b[38;5;241m>\u001b[39m num_allow_args:\n\u001b[0;32m    312\u001b[0m     warnings\u001b[38;5;241m.\u001b[39mwarn(\n\u001b[0;32m    313\u001b[0m         msg\u001b[38;5;241m.\u001b[39mformat(arguments\u001b[38;5;241m=\u001b[39marguments),\n\u001b[0;32m    314\u001b[0m         \u001b[38;5;167;01mFutureWarning\u001b[39;00m,\n\u001b[0;32m    315\u001b[0m         stacklevel\u001b[38;5;241m=\u001b[39mfind_stack_level(inspect\u001b[38;5;241m.\u001b[39mcurrentframe()),\n\u001b[0;32m    316\u001b[0m     )\n\u001b[1;32m--> 317\u001b[0m \u001b[38;5;28;01mreturn\u001b[39;00m func(\u001b[38;5;241m*\u001b[39margs, \u001b[38;5;241m*\u001b[39m\u001b[38;5;241m*\u001b[39mkwargs)\n",
      "File \u001b[1;32m~\\AppData\\Roaming\\Python\\Python39\\site-packages\\pandas\\io\\json\\_json.py:757\u001b[0m, in \u001b[0;36mread_json\u001b[1;34m(path_or_buf, orient, typ, dtype, convert_axes, convert_dates, keep_default_dates, numpy, precise_float, date_unit, encoding, encoding_errors, lines, chunksize, compression, nrows, storage_options)\u001b[0m\n\u001b[0;32m    754\u001b[0m     \u001b[38;5;28;01mreturn\u001b[39;00m json_reader\n\u001b[0;32m    756\u001b[0m \u001b[38;5;28;01mwith\u001b[39;00m json_reader:\n\u001b[1;32m--> 757\u001b[0m     \u001b[38;5;28;01mreturn\u001b[39;00m \u001b[43mjson_reader\u001b[49m\u001b[38;5;241;43m.\u001b[39;49m\u001b[43mread\u001b[49m\u001b[43m(\u001b[49m\u001b[43m)\u001b[49m\n",
      "File \u001b[1;32m~\\AppData\\Roaming\\Python\\Python39\\site-packages\\pandas\\io\\json\\_json.py:915\u001b[0m, in \u001b[0;36mJsonReader.read\u001b[1;34m(self)\u001b[0m\n\u001b[0;32m    913\u001b[0m         obj \u001b[38;5;241m=\u001b[39m \u001b[38;5;28mself\u001b[39m\u001b[38;5;241m.\u001b[39m_get_object_parser(\u001b[38;5;28mself\u001b[39m\u001b[38;5;241m.\u001b[39m_combine_lines(data_lines))\n\u001b[0;32m    914\u001b[0m \u001b[38;5;28;01melse\u001b[39;00m:\n\u001b[1;32m--> 915\u001b[0m     obj \u001b[38;5;241m=\u001b[39m \u001b[38;5;28;43mself\u001b[39;49m\u001b[38;5;241;43m.\u001b[39;49m\u001b[43m_get_object_parser\u001b[49m\u001b[43m(\u001b[49m\u001b[38;5;28;43mself\u001b[39;49m\u001b[38;5;241;43m.\u001b[39;49m\u001b[43mdata\u001b[49m\u001b[43m)\u001b[49m\n\u001b[0;32m    916\u001b[0m \u001b[38;5;28mself\u001b[39m\u001b[38;5;241m.\u001b[39mclose()\n\u001b[0;32m    917\u001b[0m \u001b[38;5;28;01mreturn\u001b[39;00m obj\n",
      "File \u001b[1;32m~\\AppData\\Roaming\\Python\\Python39\\site-packages\\pandas\\io\\json\\_json.py:937\u001b[0m, in \u001b[0;36mJsonReader._get_object_parser\u001b[1;34m(self, json)\u001b[0m\n\u001b[0;32m    935\u001b[0m obj \u001b[38;5;241m=\u001b[39m \u001b[38;5;28;01mNone\u001b[39;00m\n\u001b[0;32m    936\u001b[0m \u001b[38;5;28;01mif\u001b[39;00m typ \u001b[38;5;241m==\u001b[39m \u001b[38;5;124m\"\u001b[39m\u001b[38;5;124mframe\u001b[39m\u001b[38;5;124m\"\u001b[39m:\n\u001b[1;32m--> 937\u001b[0m     obj \u001b[38;5;241m=\u001b[39m \u001b[43mFrameParser\u001b[49m\u001b[43m(\u001b[49m\u001b[43mjson\u001b[49m\u001b[43m,\u001b[49m\u001b[43m \u001b[49m\u001b[38;5;241;43m*\u001b[39;49m\u001b[38;5;241;43m*\u001b[39;49m\u001b[43mkwargs\u001b[49m\u001b[43m)\u001b[49m\u001b[38;5;241;43m.\u001b[39;49m\u001b[43mparse\u001b[49m\u001b[43m(\u001b[49m\u001b[43m)\u001b[49m\n\u001b[0;32m    939\u001b[0m \u001b[38;5;28;01mif\u001b[39;00m typ \u001b[38;5;241m==\u001b[39m \u001b[38;5;124m\"\u001b[39m\u001b[38;5;124mseries\u001b[39m\u001b[38;5;124m\"\u001b[39m \u001b[38;5;129;01mor\u001b[39;00m obj \u001b[38;5;129;01mis\u001b[39;00m \u001b[38;5;28;01mNone\u001b[39;00m:\n\u001b[0;32m    940\u001b[0m     \u001b[38;5;28;01mif\u001b[39;00m \u001b[38;5;129;01mnot\u001b[39;00m \u001b[38;5;28misinstance\u001b[39m(dtype, \u001b[38;5;28mbool\u001b[39m):\n",
      "File \u001b[1;32m~\\AppData\\Roaming\\Python\\Python39\\site-packages\\pandas\\io\\json\\_json.py:1064\u001b[0m, in \u001b[0;36mParser.parse\u001b[1;34m(self)\u001b[0m\n\u001b[0;32m   1062\u001b[0m     \u001b[38;5;28mself\u001b[39m\u001b[38;5;241m.\u001b[39m_parse_numpy()\n\u001b[0;32m   1063\u001b[0m \u001b[38;5;28;01melse\u001b[39;00m:\n\u001b[1;32m-> 1064\u001b[0m     \u001b[38;5;28;43mself\u001b[39;49m\u001b[38;5;241;43m.\u001b[39;49m\u001b[43m_parse_no_numpy\u001b[49m\u001b[43m(\u001b[49m\u001b[43m)\u001b[49m\n\u001b[0;32m   1066\u001b[0m \u001b[38;5;28;01mif\u001b[39;00m \u001b[38;5;28mself\u001b[39m\u001b[38;5;241m.\u001b[39mobj \u001b[38;5;129;01mis\u001b[39;00m \u001b[38;5;28;01mNone\u001b[39;00m:\n\u001b[0;32m   1067\u001b[0m     \u001b[38;5;28;01mreturn\u001b[39;00m \u001b[38;5;28;01mNone\u001b[39;00m\n",
      "File \u001b[1;32m~\\AppData\\Roaming\\Python\\Python39\\site-packages\\pandas\\io\\json\\_json.py:1320\u001b[0m, in \u001b[0;36mFrameParser._parse_no_numpy\u001b[1;34m(self)\u001b[0m\n\u001b[0;32m   1317\u001b[0m orient \u001b[38;5;241m=\u001b[39m \u001b[38;5;28mself\u001b[39m\u001b[38;5;241m.\u001b[39morient\n\u001b[0;32m   1319\u001b[0m \u001b[38;5;28;01mif\u001b[39;00m orient \u001b[38;5;241m==\u001b[39m \u001b[38;5;124m\"\u001b[39m\u001b[38;5;124mcolumns\u001b[39m\u001b[38;5;124m\"\u001b[39m:\n\u001b[1;32m-> 1320\u001b[0m     \u001b[38;5;28mself\u001b[39m\u001b[38;5;241m.\u001b[39mobj \u001b[38;5;241m=\u001b[39m \u001b[43mDataFrame\u001b[49m\u001b[43m(\u001b[49m\n\u001b[0;32m   1321\u001b[0m \u001b[43m        \u001b[49m\u001b[43mloads\u001b[49m\u001b[43m(\u001b[49m\u001b[43mjson\u001b[49m\u001b[43m,\u001b[49m\u001b[43m \u001b[49m\u001b[43mprecise_float\u001b[49m\u001b[38;5;241;43m=\u001b[39;49m\u001b[38;5;28;43mself\u001b[39;49m\u001b[38;5;241;43m.\u001b[39;49m\u001b[43mprecise_float\u001b[49m\u001b[43m)\u001b[49m\u001b[43m,\u001b[49m\u001b[43m \u001b[49m\u001b[43mdtype\u001b[49m\u001b[38;5;241;43m=\u001b[39;49m\u001b[38;5;28;43;01mNone\u001b[39;49;00m\n\u001b[0;32m   1322\u001b[0m \u001b[43m    \u001b[49m\u001b[43m)\u001b[49m\n\u001b[0;32m   1323\u001b[0m \u001b[38;5;28;01melif\u001b[39;00m orient \u001b[38;5;241m==\u001b[39m \u001b[38;5;124m\"\u001b[39m\u001b[38;5;124msplit\u001b[39m\u001b[38;5;124m\"\u001b[39m:\n\u001b[0;32m   1324\u001b[0m     decoded \u001b[38;5;241m=\u001b[39m {\n\u001b[0;32m   1325\u001b[0m         \u001b[38;5;28mstr\u001b[39m(k): v\n\u001b[0;32m   1326\u001b[0m         \u001b[38;5;28;01mfor\u001b[39;00m k, v \u001b[38;5;129;01min\u001b[39;00m loads(json, precise_float\u001b[38;5;241m=\u001b[39m\u001b[38;5;28mself\u001b[39m\u001b[38;5;241m.\u001b[39mprecise_float)\u001b[38;5;241m.\u001b[39mitems()\n\u001b[0;32m   1327\u001b[0m     }\n",
      "File \u001b[1;32m~\\AppData\\Roaming\\Python\\Python39\\site-packages\\pandas\\core\\frame.py:663\u001b[0m, in \u001b[0;36mDataFrame.__init__\u001b[1;34m(self, data, index, columns, dtype, copy)\u001b[0m\n\u001b[0;32m    657\u001b[0m     mgr \u001b[38;5;241m=\u001b[39m \u001b[38;5;28mself\u001b[39m\u001b[38;5;241m.\u001b[39m_init_mgr(\n\u001b[0;32m    658\u001b[0m         data, axes\u001b[38;5;241m=\u001b[39m{\u001b[38;5;124m\"\u001b[39m\u001b[38;5;124mindex\u001b[39m\u001b[38;5;124m\"\u001b[39m: index, \u001b[38;5;124m\"\u001b[39m\u001b[38;5;124mcolumns\u001b[39m\u001b[38;5;124m\"\u001b[39m: columns}, dtype\u001b[38;5;241m=\u001b[39mdtype, copy\u001b[38;5;241m=\u001b[39mcopy\n\u001b[0;32m    659\u001b[0m     )\n\u001b[0;32m    661\u001b[0m \u001b[38;5;28;01melif\u001b[39;00m \u001b[38;5;28misinstance\u001b[39m(data, \u001b[38;5;28mdict\u001b[39m):\n\u001b[0;32m    662\u001b[0m     \u001b[38;5;66;03m# GH#38939 de facto copy defaults to False only in non-dict cases\u001b[39;00m\n\u001b[1;32m--> 663\u001b[0m     mgr \u001b[38;5;241m=\u001b[39m \u001b[43mdict_to_mgr\u001b[49m\u001b[43m(\u001b[49m\u001b[43mdata\u001b[49m\u001b[43m,\u001b[49m\u001b[43m \u001b[49m\u001b[43mindex\u001b[49m\u001b[43m,\u001b[49m\u001b[43m \u001b[49m\u001b[43mcolumns\u001b[49m\u001b[43m,\u001b[49m\u001b[43m \u001b[49m\u001b[43mdtype\u001b[49m\u001b[38;5;241;43m=\u001b[39;49m\u001b[43mdtype\u001b[49m\u001b[43m,\u001b[49m\u001b[43m \u001b[49m\u001b[43mcopy\u001b[49m\u001b[38;5;241;43m=\u001b[39;49m\u001b[43mcopy\u001b[49m\u001b[43m,\u001b[49m\u001b[43m \u001b[49m\u001b[43mtyp\u001b[49m\u001b[38;5;241;43m=\u001b[39;49m\u001b[43mmanager\u001b[49m\u001b[43m)\u001b[49m\n\u001b[0;32m    664\u001b[0m \u001b[38;5;28;01melif\u001b[39;00m \u001b[38;5;28misinstance\u001b[39m(data, ma\u001b[38;5;241m.\u001b[39mMaskedArray):\n\u001b[0;32m    665\u001b[0m     \u001b[38;5;28;01mimport\u001b[39;00m \u001b[38;5;21;01mnumpy\u001b[39;00m\u001b[38;5;21;01m.\u001b[39;00m\u001b[38;5;21;01mma\u001b[39;00m\u001b[38;5;21;01m.\u001b[39;00m\u001b[38;5;21;01mmrecords\u001b[39;00m \u001b[38;5;28;01mas\u001b[39;00m \u001b[38;5;21;01mmrecords\u001b[39;00m\n",
      "File \u001b[1;32m~\\AppData\\Roaming\\Python\\Python39\\site-packages\\pandas\\core\\internals\\construction.py:494\u001b[0m, in \u001b[0;36mdict_to_mgr\u001b[1;34m(data, index, columns, dtype, typ, copy)\u001b[0m\n\u001b[0;32m    490\u001b[0m     \u001b[38;5;28;01melse\u001b[39;00m:\n\u001b[0;32m    491\u001b[0m         \u001b[38;5;66;03m# dtype check to exclude e.g. range objects, scalars\u001b[39;00m\n\u001b[0;32m    492\u001b[0m         arrays \u001b[38;5;241m=\u001b[39m [x\u001b[38;5;241m.\u001b[39mcopy() \u001b[38;5;28;01mif\u001b[39;00m \u001b[38;5;28mhasattr\u001b[39m(x, \u001b[38;5;124m\"\u001b[39m\u001b[38;5;124mdtype\u001b[39m\u001b[38;5;124m\"\u001b[39m) \u001b[38;5;28;01melse\u001b[39;00m x \u001b[38;5;28;01mfor\u001b[39;00m x \u001b[38;5;129;01min\u001b[39;00m arrays]\n\u001b[1;32m--> 494\u001b[0m \u001b[38;5;28;01mreturn\u001b[39;00m \u001b[43marrays_to_mgr\u001b[49m\u001b[43m(\u001b[49m\u001b[43marrays\u001b[49m\u001b[43m,\u001b[49m\u001b[43m \u001b[49m\u001b[43mcolumns\u001b[49m\u001b[43m,\u001b[49m\u001b[43m \u001b[49m\u001b[43mindex\u001b[49m\u001b[43m,\u001b[49m\u001b[43m \u001b[49m\u001b[43mdtype\u001b[49m\u001b[38;5;241;43m=\u001b[39;49m\u001b[43mdtype\u001b[49m\u001b[43m,\u001b[49m\u001b[43m \u001b[49m\u001b[43mtyp\u001b[49m\u001b[38;5;241;43m=\u001b[39;49m\u001b[43mtyp\u001b[49m\u001b[43m,\u001b[49m\u001b[43m \u001b[49m\u001b[43mconsolidate\u001b[49m\u001b[38;5;241;43m=\u001b[39;49m\u001b[43mcopy\u001b[49m\u001b[43m)\u001b[49m\n",
      "File \u001b[1;32m~\\AppData\\Roaming\\Python\\Python39\\site-packages\\pandas\\core\\internals\\construction.py:119\u001b[0m, in \u001b[0;36marrays_to_mgr\u001b[1;34m(arrays, columns, index, dtype, verify_integrity, typ, consolidate)\u001b[0m\n\u001b[0;32m    116\u001b[0m \u001b[38;5;28;01mif\u001b[39;00m verify_integrity:\n\u001b[0;32m    117\u001b[0m     \u001b[38;5;66;03m# figure out the index, if necessary\u001b[39;00m\n\u001b[0;32m    118\u001b[0m     \u001b[38;5;28;01mif\u001b[39;00m index \u001b[38;5;129;01mis\u001b[39;00m \u001b[38;5;28;01mNone\u001b[39;00m:\n\u001b[1;32m--> 119\u001b[0m         index \u001b[38;5;241m=\u001b[39m \u001b[43m_extract_index\u001b[49m\u001b[43m(\u001b[49m\u001b[43marrays\u001b[49m\u001b[43m)\u001b[49m\n\u001b[0;32m    120\u001b[0m     \u001b[38;5;28;01melse\u001b[39;00m:\n\u001b[0;32m    121\u001b[0m         index \u001b[38;5;241m=\u001b[39m ensure_index(index)\n",
      "File \u001b[1;32m~\\AppData\\Roaming\\Python\\Python39\\site-packages\\pandas\\core\\internals\\construction.py:667\u001b[0m, in \u001b[0;36m_extract_index\u001b[1;34m(data)\u001b[0m\n\u001b[0;32m    665\u001b[0m lengths \u001b[38;5;241m=\u001b[39m \u001b[38;5;28mlist\u001b[39m(\u001b[38;5;28mset\u001b[39m(raw_lengths))\n\u001b[0;32m    666\u001b[0m \u001b[38;5;28;01mif\u001b[39;00m \u001b[38;5;28mlen\u001b[39m(lengths) \u001b[38;5;241m>\u001b[39m \u001b[38;5;241m1\u001b[39m:\n\u001b[1;32m--> 667\u001b[0m     \u001b[38;5;28;01mraise\u001b[39;00m \u001b[38;5;167;01mValueError\u001b[39;00m(\u001b[38;5;124m\"\u001b[39m\u001b[38;5;124mAll arrays must be of the same length\u001b[39m\u001b[38;5;124m\"\u001b[39m)\n\u001b[0;32m    669\u001b[0m \u001b[38;5;28;01mif\u001b[39;00m have_dicts:\n\u001b[0;32m    670\u001b[0m     \u001b[38;5;28;01mraise\u001b[39;00m \u001b[38;5;167;01mValueError\u001b[39;00m(\n\u001b[0;32m    671\u001b[0m         \u001b[38;5;124m\"\u001b[39m\u001b[38;5;124mMixing dicts with non-Series may lead to ambiguous ordering.\u001b[39m\u001b[38;5;124m\"\u001b[39m\n\u001b[0;32m    672\u001b[0m     )\n",
      "\u001b[1;31mValueError\u001b[0m: All arrays must be of the same length"
     ]
    }
   ],
   "source": [
    "# an error happens when you run this cell\n",
    "import pandas as pd \n",
    "from IPython.display import JSON\n",
    "nested_json = pd.read_json('data/nested.json')\n",
    "nested_json"
   ]
  },
  {
   "cell_type": "markdown",
   "metadata": {
    "id": "U_yK3ilaCDeN"
   },
   "source": [
    "Instead, you can try this:"
   ]
  },
  {
   "cell_type": "code",
   "execution_count": 26,
   "metadata": {
    "id": "Jz5IRAfFCDeN",
    "scrolled": true
   },
   "outputs": [
    {
     "data": {
      "text/plain": [
       "{'article': [{'id': '01',\n",
       "   'language': 'JSON',\n",
       "   'edition': 'first',\n",
       "   'author': 'Jane Doe'},\n",
       "  {'id': '02', 'language': 'Python', 'edition': 'second', 'author': 'Mike'}],\n",
       " 'blog': [{'name': 'LHL', 'URL': 'LighthouseLabs.com'}]}"
      ]
     },
     "execution_count": 26,
     "metadata": {},
     "output_type": "execute_result"
    }
   ],
   "source": [
    "import pprint\n",
    "import json\n",
    "\n",
    "with open('data/nested.json') as file:\n",
    "    nested_json = json.load(file)\n",
    "\n",
    "nested_json"
   ]
  },
  {
   "cell_type": "code",
   "execution_count": 27,
   "metadata": {
    "id": "tjRBJVL6CDeN"
   },
   "outputs": [
    {
     "name": "stdout",
     "output_type": "stream",
     "text": [
      "{'article': [{'author': 'Jane Doe',\n",
      "              'edition': 'first',\n",
      "              'id': '01',\n",
      "              'language': 'JSON'},\n",
      "             {'author': 'Mike',\n",
      "              'edition': 'second',\n",
      "              'id': '02',\n",
      "              'language': 'Python'}],\n",
      " 'blog': [{'URL': 'LighthouseLabs.com', 'name': 'LHL'}]}\n"
     ]
    }
   ],
   "source": [
    "pprint.pprint(nested_json)"
   ]
  },
  {
   "cell_type": "code",
   "execution_count": 28,
   "metadata": {
    "id": "7rSeIBxJCDeN"
   },
   "outputs": [
    {
     "data": {
      "application/json": {
       "article": [
        {
         "author": "Jane Doe",
         "edition": "first",
         "id": "01",
         "language": "JSON"
        },
        {
         "author": "Mike",
         "edition": "second",
         "id": "02",
         "language": "Python"
        }
       ],
       "blog": [
        {
         "URL": "LighthouseLabs.com",
         "name": "LHL"
        }
       ]
      },
      "text/plain": [
       "<IPython.core.display.JSON object>"
      ]
     },
     "execution_count": 28,
     "metadata": {
      "application/json": {
       "expanded": false,
       "root": "root"
      }
     },
     "output_type": "execute_result"
    }
   ],
   "source": [
    "# Just Jupyter Lab\n",
    "from IPython.display import JSON\n",
    "JSON(nested_json)"
   ]
  },
  {
   "cell_type": "markdown",
   "metadata": {
    "id": "S9PcMnShCDeN"
   },
   "source": [
    "- What is the type?"
   ]
  },
  {
   "cell_type": "code",
   "execution_count": 29,
   "metadata": {
    "id": "vFxxNIW1CDeN"
   },
   "outputs": [
    {
     "data": {
      "text/plain": [
       "dict"
      ]
     },
     "execution_count": 29,
     "metadata": {},
     "output_type": "execute_result"
    }
   ],
   "source": [
    "type(nested_json)"
   ]
  },
  {
   "cell_type": "markdown",
   "metadata": {
    "id": "Y2MUWQqHCDeN"
   },
   "source": [
    "## Nested JSON "
   ]
  },
  {
   "cell_type": "code",
   "execution_count": 30,
   "metadata": {
    "id": "Qni4OfvzCDeO"
   },
   "outputs": [
    {
     "data": {
      "text/html": [
       "<div>\n",
       "<style scoped>\n",
       "    .dataframe tbody tr th:only-of-type {\n",
       "        vertical-align: middle;\n",
       "    }\n",
       "\n",
       "    .dataframe tbody tr th {\n",
       "        vertical-align: top;\n",
       "    }\n",
       "\n",
       "    .dataframe thead th {\n",
       "        text-align: right;\n",
       "    }\n",
       "</style>\n",
       "<table border=\"1\" class=\"dataframe\">\n",
       "  <thead>\n",
       "    <tr style=\"text-align: right;\">\n",
       "      <th></th>\n",
       "      <th>article</th>\n",
       "      <th>blog</th>\n",
       "    </tr>\n",
       "  </thead>\n",
       "  <tbody>\n",
       "    <tr>\n",
       "      <th>0</th>\n",
       "      <td>[{'id': '01', 'language': 'JSON', 'edition': '...</td>\n",
       "      <td>[{'name': 'LHL', 'URL': 'LighthouseLabs.com'}]</td>\n",
       "    </tr>\n",
       "  </tbody>\n",
       "</table>\n",
       "</div>"
      ],
      "text/plain": [
       "                                             article  \\\n",
       "0  [{'id': '01', 'language': 'JSON', 'edition': '...   \n",
       "\n",
       "                                             blog  \n",
       "0  [{'name': 'LHL', 'URL': 'LighthouseLabs.com'}]  "
      ]
     },
     "execution_count": 30,
     "metadata": {},
     "output_type": "execute_result"
    }
   ],
   "source": [
    "pd.json_normalize(nested_json)"
   ]
  },
  {
   "cell_type": "code",
   "execution_count": 31,
   "metadata": {
    "id": "-8V8PNwBCDeO"
   },
   "outputs": [
    {
     "data": {
      "text/html": [
       "<div>\n",
       "<style scoped>\n",
       "    .dataframe tbody tr th:only-of-type {\n",
       "        vertical-align: middle;\n",
       "    }\n",
       "\n",
       "    .dataframe tbody tr th {\n",
       "        vertical-align: top;\n",
       "    }\n",
       "\n",
       "    .dataframe thead th {\n",
       "        text-align: right;\n",
       "    }\n",
       "</style>\n",
       "<table border=\"1\" class=\"dataframe\">\n",
       "  <thead>\n",
       "    <tr style=\"text-align: right;\">\n",
       "      <th></th>\n",
       "      <th>name</th>\n",
       "      <th>URL</th>\n",
       "    </tr>\n",
       "  </thead>\n",
       "  <tbody>\n",
       "    <tr>\n",
       "      <th>0</th>\n",
       "      <td>LHL</td>\n",
       "      <td>LighthouseLabs.com</td>\n",
       "    </tr>\n",
       "  </tbody>\n",
       "</table>\n",
       "</div>"
      ],
      "text/plain": [
       "  name                 URL\n",
       "0  LHL  LighthouseLabs.com"
      ]
     },
     "execution_count": 31,
     "metadata": {},
     "output_type": "execute_result"
    }
   ],
   "source": [
    "blog = pd.json_normalize(nested_json, record_path='blog')\n",
    "blog.head()"
   ]
  },
  {
   "cell_type": "code",
   "execution_count": 32,
   "metadata": {
    "id": "whzsSMGRCDeO"
   },
   "outputs": [
    {
     "data": {
      "text/html": [
       "<div>\n",
       "<style scoped>\n",
       "    .dataframe tbody tr th:only-of-type {\n",
       "        vertical-align: middle;\n",
       "    }\n",
       "\n",
       "    .dataframe tbody tr th {\n",
       "        vertical-align: top;\n",
       "    }\n",
       "\n",
       "    .dataframe thead th {\n",
       "        text-align: right;\n",
       "    }\n",
       "</style>\n",
       "<table border=\"1\" class=\"dataframe\">\n",
       "  <thead>\n",
       "    <tr style=\"text-align: right;\">\n",
       "      <th></th>\n",
       "      <th>id</th>\n",
       "      <th>language</th>\n",
       "      <th>edition</th>\n",
       "      <th>author</th>\n",
       "    </tr>\n",
       "  </thead>\n",
       "  <tbody>\n",
       "    <tr>\n",
       "      <th>0</th>\n",
       "      <td>01</td>\n",
       "      <td>JSON</td>\n",
       "      <td>first</td>\n",
       "      <td>Jane Doe</td>\n",
       "    </tr>\n",
       "    <tr>\n",
       "      <th>1</th>\n",
       "      <td>02</td>\n",
       "      <td>Python</td>\n",
       "      <td>second</td>\n",
       "      <td>Mike</td>\n",
       "    </tr>\n",
       "  </tbody>\n",
       "</table>\n",
       "</div>"
      ],
      "text/plain": [
       "   id language edition    author\n",
       "0  01     JSON   first  Jane Doe\n",
       "1  02   Python  second      Mike"
      ]
     },
     "execution_count": 32,
     "metadata": {},
     "output_type": "execute_result"
    }
   ],
   "source": [
    "article = pd.json_normalize(nested_json, record_path ='article')\n",
    "article.head()"
   ]
  },
  {
   "cell_type": "code",
   "execution_count": 33,
   "metadata": {
    "id": "DrAhpvijCDeO"
   },
   "outputs": [
    {
     "data": {
      "text/plain": [
       "[{'id': '01', 'language': 'JSON', 'edition': 'first', 'author': 'Jane Doe'},\n",
       " {'id': '02', 'language': 'Python', 'edition': 'second', 'author': 'Mike'}]"
      ]
     },
     "execution_count": 33,
     "metadata": {},
     "output_type": "execute_result"
    }
   ],
   "source": [
    "nested_json2 = nested_json['article']\n",
    "nested_json2"
   ]
  },
  {
   "cell_type": "code",
   "execution_count": 34,
   "metadata": {
    "id": "yF0aIJ9BCDeO"
   },
   "outputs": [
    {
     "data": {
      "text/plain": [
       "[{'id': '01', 'language': 'JSON', 'edition': 'first', 'author': 'Jane Doe'},\n",
       " {'id': '02', 'language': 'Python', 'edition': 'second', 'author': 'Mike'}]"
      ]
     },
     "execution_count": 34,
     "metadata": {},
     "output_type": "execute_result"
    }
   ],
   "source": [
    "nested_json2"
   ]
  },
  {
   "cell_type": "code",
   "execution_count": 35,
   "metadata": {
    "id": "LKnhGIOSCDeO"
   },
   "outputs": [
    {
     "data": {
      "text/html": [
       "<div>\n",
       "<style scoped>\n",
       "    .dataframe tbody tr th:only-of-type {\n",
       "        vertical-align: middle;\n",
       "    }\n",
       "\n",
       "    .dataframe tbody tr th {\n",
       "        vertical-align: top;\n",
       "    }\n",
       "\n",
       "    .dataframe thead th {\n",
       "        text-align: right;\n",
       "    }\n",
       "</style>\n",
       "<table border=\"1\" class=\"dataframe\">\n",
       "  <thead>\n",
       "    <tr style=\"text-align: right;\">\n",
       "      <th></th>\n",
       "      <th>id</th>\n",
       "      <th>language</th>\n",
       "      <th>edition</th>\n",
       "      <th>author</th>\n",
       "    </tr>\n",
       "  </thead>\n",
       "  <tbody>\n",
       "    <tr>\n",
       "      <th>0</th>\n",
       "      <td>01</td>\n",
       "      <td>JSON</td>\n",
       "      <td>first</td>\n",
       "      <td>Jane Doe</td>\n",
       "    </tr>\n",
       "    <tr>\n",
       "      <th>1</th>\n",
       "      <td>02</td>\n",
       "      <td>Python</td>\n",
       "      <td>second</td>\n",
       "      <td>Mike</td>\n",
       "    </tr>\n",
       "  </tbody>\n",
       "</table>\n",
       "</div>"
      ],
      "text/plain": [
       "   id language edition    author\n",
       "0  01     JSON   first  Jane Doe\n",
       "1  02   Python  second      Mike"
      ]
     },
     "execution_count": 35,
     "metadata": {},
     "output_type": "execute_result"
    }
   ],
   "source": [
    "pd.json_normalize(nested_json2)"
   ]
  },
  {
   "cell_type": "code",
   "execution_count": 37,
   "metadata": {
    "id": "aYM2OQGgCDeO"
   },
   "outputs": [],
   "source": [
    "data = [{\"state\": \"Florida\", \n",
    "        \"shortname\": \"FL\",\n",
    "        \"info\": {\"governor\": \"Rick Scott\", \"governor_2\": \"John Doe\"},\n",
    "        \"counties\": [{\"name\": \"Dade\", \"population\": 12345},\n",
    "                     {\"name\": \"Broward\", \"population\": 40000},\n",
    "                     {\"name\": \"Palm Beach\", \"population\": 60000}]},\n",
    "       {\"state\": \"Ohio\",\n",
    "        \"shortname\": \"OH\",\n",
    "        \"info\": {\"governor\": \"John Kasich\"},\n",
    "        \"counties\": [{\"name\": \"Summit\", \"population\": 1234},\n",
    "                     {\"name\": \"Cuyahoga\", \"population\": 1337}]}]"
   ]
  },
  {
   "cell_type": "code",
   "execution_count": 38,
   "metadata": {
    "id": "lUAF6Pb3CDeO"
   },
   "outputs": [
    {
     "data": {
      "text/html": [
       "<div>\n",
       "<style scoped>\n",
       "    .dataframe tbody tr th:only-of-type {\n",
       "        vertical-align: middle;\n",
       "    }\n",
       "\n",
       "    .dataframe tbody tr th {\n",
       "        vertical-align: top;\n",
       "    }\n",
       "\n",
       "    .dataframe thead th {\n",
       "        text-align: right;\n",
       "    }\n",
       "</style>\n",
       "<table border=\"1\" class=\"dataframe\">\n",
       "  <thead>\n",
       "    <tr style=\"text-align: right;\">\n",
       "      <th></th>\n",
       "      <th>state</th>\n",
       "      <th>shortname</th>\n",
       "      <th>counties</th>\n",
       "      <th>info.governor</th>\n",
       "      <th>info.governor_2</th>\n",
       "    </tr>\n",
       "  </thead>\n",
       "  <tbody>\n",
       "    <tr>\n",
       "      <th>0</th>\n",
       "      <td>Florida</td>\n",
       "      <td>FL</td>\n",
       "      <td>[{'name': 'Dade', 'population': 12345}, {'name...</td>\n",
       "      <td>Rick Scott</td>\n",
       "      <td>John Doe</td>\n",
       "    </tr>\n",
       "    <tr>\n",
       "      <th>1</th>\n",
       "      <td>Ohio</td>\n",
       "      <td>OH</td>\n",
       "      <td>[{'name': 'Summit', 'population': 1234}, {'nam...</td>\n",
       "      <td>John Kasich</td>\n",
       "      <td>NaN</td>\n",
       "    </tr>\n",
       "  </tbody>\n",
       "</table>\n",
       "</div>"
      ],
      "text/plain": [
       "     state shortname                                           counties  \\\n",
       "0  Florida        FL  [{'name': 'Dade', 'population': 12345}, {'name...   \n",
       "1     Ohio        OH  [{'name': 'Summit', 'population': 1234}, {'nam...   \n",
       "\n",
       "  info.governor info.governor_2  \n",
       "0    Rick Scott        John Doe  \n",
       "1   John Kasich             NaN  "
      ]
     },
     "execution_count": 38,
     "metadata": {},
     "output_type": "execute_result"
    }
   ],
   "source": [
    "pd.json_normalize(data)"
   ]
  },
  {
   "cell_type": "code",
   "execution_count": 39,
   "metadata": {
    "id": "GImLOvp0CDeO"
   },
   "outputs": [
    {
     "data": {
      "text/html": [
       "<div>\n",
       "<style scoped>\n",
       "    .dataframe tbody tr th:only-of-type {\n",
       "        vertical-align: middle;\n",
       "    }\n",
       "\n",
       "    .dataframe tbody tr th {\n",
       "        vertical-align: top;\n",
       "    }\n",
       "\n",
       "    .dataframe thead th {\n",
       "        text-align: right;\n",
       "    }\n",
       "</style>\n",
       "<table border=\"1\" class=\"dataframe\">\n",
       "  <thead>\n",
       "    <tr style=\"text-align: right;\">\n",
       "      <th></th>\n",
       "      <th>state</th>\n",
       "      <th>shortname</th>\n",
       "      <th>counties</th>\n",
       "      <th>info.governor</th>\n",
       "      <th>info.governor_2</th>\n",
       "    </tr>\n",
       "  </thead>\n",
       "  <tbody>\n",
       "    <tr>\n",
       "      <th>0</th>\n",
       "      <td>Florida</td>\n",
       "      <td>FL</td>\n",
       "      <td>[{'name': 'Dade', 'population': 12345}, {'name...</td>\n",
       "      <td>Rick Scott</td>\n",
       "      <td>John Doe</td>\n",
       "    </tr>\n",
       "    <tr>\n",
       "      <th>1</th>\n",
       "      <td>Ohio</td>\n",
       "      <td>OH</td>\n",
       "      <td>[{'name': 'Summit', 'population': 1234}, {'nam...</td>\n",
       "      <td>John Kasich</td>\n",
       "      <td>NaN</td>\n",
       "    </tr>\n",
       "  </tbody>\n",
       "</table>\n",
       "</div>"
      ],
      "text/plain": [
       "     state shortname                                           counties  \\\n",
       "0  Florida        FL  [{'name': 'Dade', 'population': 12345}, {'name...   \n",
       "1     Ohio        OH  [{'name': 'Summit', 'population': 1234}, {'nam...   \n",
       "\n",
       "  info.governor info.governor_2  \n",
       "0    Rick Scott        John Doe  \n",
       "1   John Kasich             NaN  "
      ]
     },
     "execution_count": 39,
     "metadata": {},
     "output_type": "execute_result"
    }
   ],
   "source": [
    "pd.json_normalize(data=data, meta=['state', 'shortname'])"
   ]
  },
  {
   "cell_type": "code",
   "execution_count": 40,
   "metadata": {
    "id": "NCT2eh-aCDeO",
    "scrolled": true
   },
   "outputs": [
    {
     "data": {
      "text/html": [
       "<div>\n",
       "<style scoped>\n",
       "    .dataframe tbody tr th:only-of-type {\n",
       "        vertical-align: middle;\n",
       "    }\n",
       "\n",
       "    .dataframe tbody tr th {\n",
       "        vertical-align: top;\n",
       "    }\n",
       "\n",
       "    .dataframe thead th {\n",
       "        text-align: right;\n",
       "    }\n",
       "</style>\n",
       "<table border=\"1\" class=\"dataframe\">\n",
       "  <thead>\n",
       "    <tr style=\"text-align: right;\">\n",
       "      <th></th>\n",
       "      <th>name</th>\n",
       "      <th>population</th>\n",
       "      <th>state</th>\n",
       "      <th>shortname</th>\n",
       "    </tr>\n",
       "  </thead>\n",
       "  <tbody>\n",
       "    <tr>\n",
       "      <th>0</th>\n",
       "      <td>Dade</td>\n",
       "      <td>12345</td>\n",
       "      <td>Florida</td>\n",
       "      <td>FL</td>\n",
       "    </tr>\n",
       "    <tr>\n",
       "      <th>1</th>\n",
       "      <td>Broward</td>\n",
       "      <td>40000</td>\n",
       "      <td>Florida</td>\n",
       "      <td>FL</td>\n",
       "    </tr>\n",
       "    <tr>\n",
       "      <th>2</th>\n",
       "      <td>Palm Beach</td>\n",
       "      <td>60000</td>\n",
       "      <td>Florida</td>\n",
       "      <td>FL</td>\n",
       "    </tr>\n",
       "    <tr>\n",
       "      <th>3</th>\n",
       "      <td>Summit</td>\n",
       "      <td>1234</td>\n",
       "      <td>Ohio</td>\n",
       "      <td>OH</td>\n",
       "    </tr>\n",
       "    <tr>\n",
       "      <th>4</th>\n",
       "      <td>Cuyahoga</td>\n",
       "      <td>1337</td>\n",
       "      <td>Ohio</td>\n",
       "      <td>OH</td>\n",
       "    </tr>\n",
       "  </tbody>\n",
       "</table>\n",
       "</div>"
      ],
      "text/plain": [
       "         name  population    state shortname\n",
       "0        Dade       12345  Florida        FL\n",
       "1     Broward       40000  Florida        FL\n",
       "2  Palm Beach       60000  Florida        FL\n",
       "3      Summit        1234     Ohio        OH\n",
       "4    Cuyahoga        1337     Ohio        OH"
      ]
     },
     "execution_count": 40,
     "metadata": {},
     "output_type": "execute_result"
    }
   ],
   "source": [
    "pd.json_normalize(data=data, record_path='counties', meta=['state', 'shortname'])"
   ]
  },
  {
   "cell_type": "code",
   "execution_count": 41,
   "metadata": {
    "id": "xWMtWO7JCDeO"
   },
   "outputs": [
    {
     "data": {
      "text/html": [
       "<div>\n",
       "<style scoped>\n",
       "    .dataframe tbody tr th:only-of-type {\n",
       "        vertical-align: middle;\n",
       "    }\n",
       "\n",
       "    .dataframe tbody tr th {\n",
       "        vertical-align: top;\n",
       "    }\n",
       "\n",
       "    .dataframe thead th {\n",
       "        text-align: right;\n",
       "    }\n",
       "</style>\n",
       "<table border=\"1\" class=\"dataframe\">\n",
       "  <thead>\n",
       "    <tr style=\"text-align: right;\">\n",
       "      <th></th>\n",
       "      <th>name</th>\n",
       "      <th>population</th>\n",
       "      <th>state</th>\n",
       "      <th>shortname</th>\n",
       "      <th>info.governor</th>\n",
       "    </tr>\n",
       "  </thead>\n",
       "  <tbody>\n",
       "    <tr>\n",
       "      <th>0</th>\n",
       "      <td>Dade</td>\n",
       "      <td>12345</td>\n",
       "      <td>Florida</td>\n",
       "      <td>FL</td>\n",
       "      <td>Rick Scott</td>\n",
       "    </tr>\n",
       "    <tr>\n",
       "      <th>1</th>\n",
       "      <td>Broward</td>\n",
       "      <td>40000</td>\n",
       "      <td>Florida</td>\n",
       "      <td>FL</td>\n",
       "      <td>Rick Scott</td>\n",
       "    </tr>\n",
       "    <tr>\n",
       "      <th>2</th>\n",
       "      <td>Palm Beach</td>\n",
       "      <td>60000</td>\n",
       "      <td>Florida</td>\n",
       "      <td>FL</td>\n",
       "      <td>Rick Scott</td>\n",
       "    </tr>\n",
       "    <tr>\n",
       "      <th>3</th>\n",
       "      <td>Summit</td>\n",
       "      <td>1234</td>\n",
       "      <td>Ohio</td>\n",
       "      <td>OH</td>\n",
       "      <td>John Kasich</td>\n",
       "    </tr>\n",
       "    <tr>\n",
       "      <th>4</th>\n",
       "      <td>Cuyahoga</td>\n",
       "      <td>1337</td>\n",
       "      <td>Ohio</td>\n",
       "      <td>OH</td>\n",
       "      <td>John Kasich</td>\n",
       "    </tr>\n",
       "  </tbody>\n",
       "</table>\n",
       "</div>"
      ],
      "text/plain": [
       "         name  population    state shortname info.governor\n",
       "0        Dade       12345  Florida        FL    Rick Scott\n",
       "1     Broward       40000  Florida        FL    Rick Scott\n",
       "2  Palm Beach       60000  Florida        FL    Rick Scott\n",
       "3      Summit        1234     Ohio        OH   John Kasich\n",
       "4    Cuyahoga        1337     Ohio        OH   John Kasich"
      ]
     },
     "execution_count": 41,
     "metadata": {},
     "output_type": "execute_result"
    }
   ],
   "source": [
    "pd.json_normalize(data=data, record_path=['counties'], meta=['state', 'shortname', ['info', 'governor']])"
   ]
  },
  {
   "cell_type": "markdown",
   "metadata": {
    "id": "uuYo7F34CDeO"
   },
   "source": [
    "## Text"
   ]
  },
  {
   "cell_type": "code",
   "execution_count": 42,
   "metadata": {
    "id": "W6UjSfuqCDeP"
   },
   "outputs": [],
   "source": [
    "with open('data/sample.txt', 'r') as f:\n",
    "    emma = f.readlines()"
   ]
  },
  {
   "cell_type": "code",
   "execution_count": 43,
   "metadata": {
    "id": "UtllMo7aCDeP"
   },
   "outputs": [
    {
     "data": {
      "text/plain": [
       "['\"[Emma by Jane Austen 1816]  VOLUME I  CHAPTER I   Emma Woodhouse, handsome, clever, and rich, with a comfortable home and happy disposition, seemed to unite some of the best blessings of existence; and had lived nearly twenty-one years in the world with very little to distress or vex her.  She was the youngest of the two daughters of a most affectionate, indulgent father; and had, in consequence of her sister\\'s marriage, been mistress of his house from a very early period. Her mother had died too long ago for her to have more than an indistinct remembrance of her caresses; and her place had been supplied by an excellent woman as governess, who had fallen little short of a mother in affection.  Sixteen years had Miss Taylor been in Mr. Woodhouse\\'s family, less as a governess than a friend, very fond of both daughters, but particularly of Emma. Between _them_ it was more the intimacy of sisters. Even before Miss Taylor had ceased to hold the nominal office of governess, the mildness of her temper had hardly allowed her to impose any restraint; and the shadow of authority being now long passed away, they had been living together as friend and friend very mutually attached, and Emma doing just what she liked; highly esteeming Miss Taylor\\'s judgment, but directed chiefly by her own.  The real evils, indeed, of Emma\\'s situation were the power of having rather too much her own way, and a disposition to think a little too well of herself; these were the disadvantages which threatened alloy to her many enjoyments. The danger, however, was at present so unperceived, that they did not by any means rank as misfortunes with her.  Sorrow came--a gentle sorrow--but not at all in the shape of any disagreeable consciousness.--Miss Taylor married. It was Miss Taylor\\'s loss which first brought grief. It was on the wedding-day of this beloved friend that Emma first sat in mournful thought of any continuance. The wedding over, and the bride-people gone, her father and herself were left to dine together, with no prospect of a third to cheer a long evening. Her father composed himself to sleep after dinner, as usual, and she had then only to sit and think of what she had lost.  The event had every promise of happiness for her friend. ']"
      ]
     },
     "execution_count": 43,
     "metadata": {},
     "output_type": "execute_result"
    }
   ],
   "source": [
    "emma"
   ]
  },
  {
   "cell_type": "code",
   "execution_count": 45,
   "metadata": {},
   "outputs": [
    {
     "name": "stdout",
     "output_type": "stream",
     "text": [
      "Defaulting to user installation because normal site-packages is not writeable\n",
      "Collecting nltk\n",
      "  Downloading nltk-3.7-py3-none-any.whl (1.5 MB)\n",
      "     ---------------------------------------- 1.5/1.5 MB 741.5 kB/s eta 0:00:00\n",
      "Collecting click\n",
      "  Downloading click-8.1.3-py3-none-any.whl (96 kB)\n",
      "     -------------------------------------- 96.6/96.6 kB 785.0 kB/s eta 0:00:00\n",
      "Collecting tqdm\n",
      "  Downloading tqdm-4.64.1-py2.py3-none-any.whl (78 kB)\n",
      "     -------------------------------------- 78.5/78.5 kB 874.7 kB/s eta 0:00:00\n",
      "Collecting joblib\n",
      "  Downloading joblib-1.2.0-py3-none-any.whl (297 kB)\n",
      "     ------------------------------------ 298.0/298.0 kB 836.4 kB/s eta 0:00:00\n",
      "Collecting regex>=2021.8.3\n",
      "  Downloading regex-2022.9.13-cp39-cp39-win_amd64.whl (267 kB)\n",
      "     ------------------------------------ 267.7/267.7 kB 867.0 kB/s eta 0:00:00\n",
      "Requirement already satisfied: colorama in c:\\users\\user\\appdata\\roaming\\python\\python39\\site-packages (from click->nltk) (0.4.5)\n",
      "Installing collected packages: tqdm, regex, joblib, click, nltk\n",
      "Successfully installed click-8.1.3 joblib-1.2.0 nltk-3.7 regex-2022.9.13 tqdm-4.64.1\n"
     ]
    }
   ],
   "source": [
    "!pip install nltk"
   ]
  },
  {
   "cell_type": "code",
   "execution_count": 49,
   "metadata": {
    "id": "Vo1wB7xqCDeP"
   },
   "outputs": [
    {
     "name": "stderr",
     "output_type": "stream",
     "text": [
      "[nltk_data] Downloading package punkt to\n",
      "[nltk_data]     C:\\Users\\User\\AppData\\Roaming\\nltk_data...\n",
      "[nltk_data]   Unzipping tokenizers\\punkt.zip.\n"
     ]
    },
    {
     "data": {
      "text/plain": [
       "True"
      ]
     },
     "execution_count": 49,
     "metadata": {},
     "output_type": "execute_result"
    }
   ],
   "source": [
    "import nltk\n",
    "nltk.download('punkt')"
   ]
  },
  {
   "cell_type": "code",
   "execution_count": 50,
   "metadata": {
    "collapsed": true,
    "id": "xeDNl9_wCDeP",
    "jupyter": {
     "outputs_hidden": true
    },
    "tags": []
   },
   "outputs": [
    {
     "data": {
      "text/plain": [
       "['``',\n",
       " '[',\n",
       " 'Emma',\n",
       " 'by',\n",
       " 'Jane',\n",
       " 'Austen',\n",
       " '1816',\n",
       " ']',\n",
       " 'VOLUME',\n",
       " 'I',\n",
       " 'CHAPTER',\n",
       " 'I',\n",
       " 'Emma',\n",
       " 'Woodhouse',\n",
       " ',',\n",
       " 'handsome',\n",
       " ',',\n",
       " 'clever',\n",
       " ',',\n",
       " 'and',\n",
       " 'rich',\n",
       " ',',\n",
       " 'with',\n",
       " 'a',\n",
       " 'comfortable',\n",
       " 'home',\n",
       " 'and',\n",
       " 'happy',\n",
       " 'disposition',\n",
       " ',',\n",
       " 'seemed',\n",
       " 'to',\n",
       " 'unite',\n",
       " 'some',\n",
       " 'of',\n",
       " 'the',\n",
       " 'best',\n",
       " 'blessings',\n",
       " 'of',\n",
       " 'existence',\n",
       " ';',\n",
       " 'and',\n",
       " 'had',\n",
       " 'lived',\n",
       " 'nearly',\n",
       " 'twenty-one',\n",
       " 'years',\n",
       " 'in',\n",
       " 'the',\n",
       " 'world',\n",
       " 'with',\n",
       " 'very',\n",
       " 'little',\n",
       " 'to',\n",
       " 'distress',\n",
       " 'or',\n",
       " 'vex',\n",
       " 'her',\n",
       " '.',\n",
       " 'She',\n",
       " 'was',\n",
       " 'the',\n",
       " 'youngest',\n",
       " 'of',\n",
       " 'the',\n",
       " 'two',\n",
       " 'daughters',\n",
       " 'of',\n",
       " 'a',\n",
       " 'most',\n",
       " 'affectionate',\n",
       " ',',\n",
       " 'indulgent',\n",
       " 'father',\n",
       " ';',\n",
       " 'and',\n",
       " 'had',\n",
       " ',',\n",
       " 'in',\n",
       " 'consequence',\n",
       " 'of',\n",
       " 'her',\n",
       " 'sister',\n",
       " \"'s\",\n",
       " 'marriage',\n",
       " ',',\n",
       " 'been',\n",
       " 'mistress',\n",
       " 'of',\n",
       " 'his',\n",
       " 'house',\n",
       " 'from',\n",
       " 'a',\n",
       " 'very',\n",
       " 'early',\n",
       " 'period',\n",
       " '.',\n",
       " 'Her',\n",
       " 'mother',\n",
       " 'had',\n",
       " 'died',\n",
       " 'too',\n",
       " 'long',\n",
       " 'ago',\n",
       " 'for',\n",
       " 'her',\n",
       " 'to',\n",
       " 'have',\n",
       " 'more',\n",
       " 'than',\n",
       " 'an',\n",
       " 'indistinct',\n",
       " 'remembrance',\n",
       " 'of',\n",
       " 'her',\n",
       " 'caresses',\n",
       " ';',\n",
       " 'and',\n",
       " 'her',\n",
       " 'place',\n",
       " 'had',\n",
       " 'been',\n",
       " 'supplied',\n",
       " 'by',\n",
       " 'an',\n",
       " 'excellent',\n",
       " 'woman',\n",
       " 'as',\n",
       " 'governess',\n",
       " ',',\n",
       " 'who',\n",
       " 'had',\n",
       " 'fallen',\n",
       " 'little',\n",
       " 'short',\n",
       " 'of',\n",
       " 'a',\n",
       " 'mother',\n",
       " 'in',\n",
       " 'affection',\n",
       " '.',\n",
       " 'Sixteen',\n",
       " 'years',\n",
       " 'had',\n",
       " 'Miss',\n",
       " 'Taylor',\n",
       " 'been',\n",
       " 'in',\n",
       " 'Mr.',\n",
       " 'Woodhouse',\n",
       " \"'s\",\n",
       " 'family',\n",
       " ',',\n",
       " 'less',\n",
       " 'as',\n",
       " 'a',\n",
       " 'governess',\n",
       " 'than',\n",
       " 'a',\n",
       " 'friend',\n",
       " ',',\n",
       " 'very',\n",
       " 'fond',\n",
       " 'of',\n",
       " 'both',\n",
       " 'daughters',\n",
       " ',',\n",
       " 'but',\n",
       " 'particularly',\n",
       " 'of',\n",
       " 'Emma',\n",
       " '.',\n",
       " 'Between',\n",
       " '_them_',\n",
       " 'it',\n",
       " 'was',\n",
       " 'more',\n",
       " 'the',\n",
       " 'intimacy',\n",
       " 'of',\n",
       " 'sisters',\n",
       " '.',\n",
       " 'Even',\n",
       " 'before',\n",
       " 'Miss',\n",
       " 'Taylor',\n",
       " 'had',\n",
       " 'ceased',\n",
       " 'to',\n",
       " 'hold',\n",
       " 'the',\n",
       " 'nominal',\n",
       " 'office',\n",
       " 'of',\n",
       " 'governess',\n",
       " ',',\n",
       " 'the',\n",
       " 'mildness',\n",
       " 'of',\n",
       " 'her',\n",
       " 'temper',\n",
       " 'had',\n",
       " 'hardly',\n",
       " 'allowed',\n",
       " 'her',\n",
       " 'to',\n",
       " 'impose',\n",
       " 'any',\n",
       " 'restraint',\n",
       " ';',\n",
       " 'and',\n",
       " 'the',\n",
       " 'shadow',\n",
       " 'of',\n",
       " 'authority',\n",
       " 'being',\n",
       " 'now',\n",
       " 'long',\n",
       " 'passed',\n",
       " 'away',\n",
       " ',',\n",
       " 'they',\n",
       " 'had',\n",
       " 'been',\n",
       " 'living',\n",
       " 'together',\n",
       " 'as',\n",
       " 'friend',\n",
       " 'and',\n",
       " 'friend',\n",
       " 'very',\n",
       " 'mutually',\n",
       " 'attached',\n",
       " ',',\n",
       " 'and',\n",
       " 'Emma',\n",
       " 'doing',\n",
       " 'just',\n",
       " 'what',\n",
       " 'she',\n",
       " 'liked',\n",
       " ';',\n",
       " 'highly',\n",
       " 'esteeming',\n",
       " 'Miss',\n",
       " 'Taylor',\n",
       " \"'s\",\n",
       " 'judgment',\n",
       " ',',\n",
       " 'but',\n",
       " 'directed',\n",
       " 'chiefly',\n",
       " 'by',\n",
       " 'her',\n",
       " 'own',\n",
       " '.',\n",
       " 'The',\n",
       " 'real',\n",
       " 'evils',\n",
       " ',',\n",
       " 'indeed',\n",
       " ',',\n",
       " 'of',\n",
       " 'Emma',\n",
       " \"'s\",\n",
       " 'situation',\n",
       " 'were',\n",
       " 'the',\n",
       " 'power',\n",
       " 'of',\n",
       " 'having',\n",
       " 'rather',\n",
       " 'too',\n",
       " 'much',\n",
       " 'her',\n",
       " 'own',\n",
       " 'way',\n",
       " ',',\n",
       " 'and',\n",
       " 'a',\n",
       " 'disposition',\n",
       " 'to',\n",
       " 'think',\n",
       " 'a',\n",
       " 'little',\n",
       " 'too',\n",
       " 'well',\n",
       " 'of',\n",
       " 'herself',\n",
       " ';',\n",
       " 'these',\n",
       " 'were',\n",
       " 'the',\n",
       " 'disadvantages',\n",
       " 'which',\n",
       " 'threatened',\n",
       " 'alloy',\n",
       " 'to',\n",
       " 'her',\n",
       " 'many',\n",
       " 'enjoyments',\n",
       " '.',\n",
       " 'The',\n",
       " 'danger',\n",
       " ',',\n",
       " 'however',\n",
       " ',',\n",
       " 'was',\n",
       " 'at',\n",
       " 'present',\n",
       " 'so',\n",
       " 'unperceived',\n",
       " ',',\n",
       " 'that',\n",
       " 'they',\n",
       " 'did',\n",
       " 'not',\n",
       " 'by',\n",
       " 'any',\n",
       " 'means',\n",
       " 'rank',\n",
       " 'as',\n",
       " 'misfortunes',\n",
       " 'with',\n",
       " 'her',\n",
       " '.',\n",
       " 'Sorrow',\n",
       " 'came',\n",
       " '--',\n",
       " 'a',\n",
       " 'gentle',\n",
       " 'sorrow',\n",
       " '--',\n",
       " 'but',\n",
       " 'not',\n",
       " 'at',\n",
       " 'all',\n",
       " 'in',\n",
       " 'the',\n",
       " 'shape',\n",
       " 'of',\n",
       " 'any',\n",
       " 'disagreeable',\n",
       " 'consciousness.',\n",
       " '--',\n",
       " 'Miss',\n",
       " 'Taylor',\n",
       " 'married',\n",
       " '.',\n",
       " 'It',\n",
       " 'was',\n",
       " 'Miss',\n",
       " 'Taylor',\n",
       " \"'s\",\n",
       " 'loss',\n",
       " 'which',\n",
       " 'first',\n",
       " 'brought',\n",
       " 'grief',\n",
       " '.',\n",
       " 'It',\n",
       " 'was',\n",
       " 'on',\n",
       " 'the',\n",
       " 'wedding-day',\n",
       " 'of',\n",
       " 'this',\n",
       " 'beloved',\n",
       " 'friend',\n",
       " 'that',\n",
       " 'Emma',\n",
       " 'first',\n",
       " 'sat',\n",
       " 'in',\n",
       " 'mournful',\n",
       " 'thought',\n",
       " 'of',\n",
       " 'any',\n",
       " 'continuance',\n",
       " '.',\n",
       " 'The',\n",
       " 'wedding',\n",
       " 'over',\n",
       " ',',\n",
       " 'and',\n",
       " 'the',\n",
       " 'bride-people',\n",
       " 'gone',\n",
       " ',',\n",
       " 'her',\n",
       " 'father',\n",
       " 'and',\n",
       " 'herself',\n",
       " 'were',\n",
       " 'left',\n",
       " 'to',\n",
       " 'dine',\n",
       " 'together',\n",
       " ',',\n",
       " 'with',\n",
       " 'no',\n",
       " 'prospect',\n",
       " 'of',\n",
       " 'a',\n",
       " 'third',\n",
       " 'to',\n",
       " 'cheer',\n",
       " 'a',\n",
       " 'long',\n",
       " 'evening',\n",
       " '.',\n",
       " 'Her',\n",
       " 'father',\n",
       " 'composed',\n",
       " 'himself',\n",
       " 'to',\n",
       " 'sleep',\n",
       " 'after',\n",
       " 'dinner',\n",
       " ',',\n",
       " 'as',\n",
       " 'usual',\n",
       " ',',\n",
       " 'and',\n",
       " 'she',\n",
       " 'had',\n",
       " 'then',\n",
       " 'only',\n",
       " 'to',\n",
       " 'sit',\n",
       " 'and',\n",
       " 'think',\n",
       " 'of',\n",
       " 'what',\n",
       " 'she',\n",
       " 'had',\n",
       " 'lost',\n",
       " '.',\n",
       " 'The',\n",
       " 'event',\n",
       " 'had',\n",
       " 'every',\n",
       " 'promise',\n",
       " 'of',\n",
       " 'happiness',\n",
       " 'for',\n",
       " 'her',\n",
       " 'friend',\n",
       " '.']"
      ]
     },
     "execution_count": 50,
     "metadata": {},
     "output_type": "execute_result"
    }
   ],
   "source": [
    "tokens = nltk.word_tokenize(emma[0])\n",
    "tokens"
   ]
  },
  {
   "cell_type": "code",
   "execution_count": 51,
   "metadata": {
    "collapsed": true,
    "id": "bRHLoOSkCDeP",
    "jupyter": {
     "outputs_hidden": true
    },
    "tags": []
   },
   "outputs": [
    {
     "data": {
      "text/plain": [
       "{\"'s\",\n",
       " ',',\n",
       " '--',\n",
       " '.',\n",
       " '1816',\n",
       " ';',\n",
       " 'Austen',\n",
       " 'Between',\n",
       " 'CHAPTER',\n",
       " 'Emma',\n",
       " 'Even',\n",
       " 'Her',\n",
       " 'I',\n",
       " 'It',\n",
       " 'Jane',\n",
       " 'Miss',\n",
       " 'Mr.',\n",
       " 'She',\n",
       " 'Sixteen',\n",
       " 'Sorrow',\n",
       " 'Taylor',\n",
       " 'The',\n",
       " 'VOLUME',\n",
       " 'Woodhouse',\n",
       " '[',\n",
       " ']',\n",
       " '_them_',\n",
       " '``',\n",
       " 'a',\n",
       " 'affection',\n",
       " 'affectionate',\n",
       " 'after',\n",
       " 'ago',\n",
       " 'all',\n",
       " 'allowed',\n",
       " 'alloy',\n",
       " 'an',\n",
       " 'and',\n",
       " 'any',\n",
       " 'as',\n",
       " 'at',\n",
       " 'attached',\n",
       " 'authority',\n",
       " 'away',\n",
       " 'been',\n",
       " 'before',\n",
       " 'being',\n",
       " 'beloved',\n",
       " 'best',\n",
       " 'blessings',\n",
       " 'both',\n",
       " 'bride-people',\n",
       " 'brought',\n",
       " 'but',\n",
       " 'by',\n",
       " 'came',\n",
       " 'caresses',\n",
       " 'ceased',\n",
       " 'cheer',\n",
       " 'chiefly',\n",
       " 'clever',\n",
       " 'comfortable',\n",
       " 'composed',\n",
       " 'consciousness.',\n",
       " 'consequence',\n",
       " 'continuance',\n",
       " 'danger',\n",
       " 'daughters',\n",
       " 'did',\n",
       " 'died',\n",
       " 'dine',\n",
       " 'dinner',\n",
       " 'directed',\n",
       " 'disadvantages',\n",
       " 'disagreeable',\n",
       " 'disposition',\n",
       " 'distress',\n",
       " 'doing',\n",
       " 'early',\n",
       " 'enjoyments',\n",
       " 'esteeming',\n",
       " 'evening',\n",
       " 'event',\n",
       " 'every',\n",
       " 'evils',\n",
       " 'excellent',\n",
       " 'existence',\n",
       " 'fallen',\n",
       " 'family',\n",
       " 'father',\n",
       " 'first',\n",
       " 'fond',\n",
       " 'for',\n",
       " 'friend',\n",
       " 'from',\n",
       " 'gentle',\n",
       " 'gone',\n",
       " 'governess',\n",
       " 'grief',\n",
       " 'had',\n",
       " 'handsome',\n",
       " 'happiness',\n",
       " 'happy',\n",
       " 'hardly',\n",
       " 'have',\n",
       " 'having',\n",
       " 'her',\n",
       " 'herself',\n",
       " 'highly',\n",
       " 'himself',\n",
       " 'his',\n",
       " 'hold',\n",
       " 'home',\n",
       " 'house',\n",
       " 'however',\n",
       " 'impose',\n",
       " 'in',\n",
       " 'indeed',\n",
       " 'indistinct',\n",
       " 'indulgent',\n",
       " 'intimacy',\n",
       " 'it',\n",
       " 'judgment',\n",
       " 'just',\n",
       " 'left',\n",
       " 'less',\n",
       " 'liked',\n",
       " 'little',\n",
       " 'lived',\n",
       " 'living',\n",
       " 'long',\n",
       " 'loss',\n",
       " 'lost',\n",
       " 'many',\n",
       " 'marriage',\n",
       " 'married',\n",
       " 'means',\n",
       " 'mildness',\n",
       " 'misfortunes',\n",
       " 'mistress',\n",
       " 'more',\n",
       " 'most',\n",
       " 'mother',\n",
       " 'mournful',\n",
       " 'much',\n",
       " 'mutually',\n",
       " 'nearly',\n",
       " 'no',\n",
       " 'nominal',\n",
       " 'not',\n",
       " 'now',\n",
       " 'of',\n",
       " 'office',\n",
       " 'on',\n",
       " 'only',\n",
       " 'or',\n",
       " 'over',\n",
       " 'own',\n",
       " 'particularly',\n",
       " 'passed',\n",
       " 'period',\n",
       " 'place',\n",
       " 'power',\n",
       " 'present',\n",
       " 'promise',\n",
       " 'prospect',\n",
       " 'rank',\n",
       " 'rather',\n",
       " 'real',\n",
       " 'remembrance',\n",
       " 'restraint',\n",
       " 'rich',\n",
       " 'sat',\n",
       " 'seemed',\n",
       " 'shadow',\n",
       " 'shape',\n",
       " 'she',\n",
       " 'short',\n",
       " 'sister',\n",
       " 'sisters',\n",
       " 'sit',\n",
       " 'situation',\n",
       " 'sleep',\n",
       " 'so',\n",
       " 'some',\n",
       " 'sorrow',\n",
       " 'supplied',\n",
       " 'temper',\n",
       " 'than',\n",
       " 'that',\n",
       " 'the',\n",
       " 'then',\n",
       " 'these',\n",
       " 'they',\n",
       " 'think',\n",
       " 'third',\n",
       " 'this',\n",
       " 'thought',\n",
       " 'threatened',\n",
       " 'to',\n",
       " 'together',\n",
       " 'too',\n",
       " 'twenty-one',\n",
       " 'two',\n",
       " 'unite',\n",
       " 'unperceived',\n",
       " 'usual',\n",
       " 'very',\n",
       " 'vex',\n",
       " 'was',\n",
       " 'way',\n",
       " 'wedding',\n",
       " 'wedding-day',\n",
       " 'well',\n",
       " 'were',\n",
       " 'what',\n",
       " 'which',\n",
       " 'who',\n",
       " 'with',\n",
       " 'woman',\n",
       " 'world',\n",
       " 'years',\n",
       " 'youngest'}"
      ]
     },
     "execution_count": 51,
     "metadata": {},
     "output_type": "execute_result"
    }
   ],
   "source": [
    "set(tokens)"
   ]
  },
  {
   "cell_type": "code",
   "execution_count": 53,
   "metadata": {},
   "outputs": [
    {
     "name": "stdout",
     "output_type": "stream",
     "text": [
      "^C\n",
      "Defaulting to user installation because normal site-packages is not writeable\n",
      "Collecting tensorflow\n",
      "  Downloading tensorflow-2.10.0-cp39-cp39-win_amd64.whl (455.9 MB)\n",
      "     ------------------------------------ 455.9/455.9 MB 779.8 kB/s eta 0:00:00\n",
      "Collecting absl-py>=1.0.0\n",
      "  Downloading absl_py-1.2.0-py3-none-any.whl (123 kB)\n",
      "     ------------------------------------ 123.4/123.4 kB 725.1 kB/s eta 0:00:00\n",
      "Collecting gast<=0.4.0,>=0.2.1\n",
      "  Downloading gast-0.4.0-py3-none-any.whl (9.8 kB)\n",
      "Collecting typing-extensions>=3.6.6\n",
      "  Downloading typing_extensions-4.3.0-py3-none-any.whl (25 kB)\n",
      "Requirement already satisfied: setuptools in c:\\program files\\python39\\lib\\site-packages (from tensorflow) (58.1.0)\n",
      "Requirement already satisfied: numpy>=1.20 in c:\\users\\user\\appdata\\roaming\\python\\python39\\site-packages (from tensorflow) (1.23.3)\n",
      "Collecting wrapt>=1.11.0\n",
      "  Downloading wrapt-1.14.1-cp39-cp39-win_amd64.whl (35 kB)\n",
      "Collecting libclang>=13.0.0\n",
      "  Downloading libclang-14.0.6-py2.py3-none-win_amd64.whl (14.2 MB)\n",
      "     -------------------------------------- 14.2/14.2 MB 843.1 kB/s eta 0:00:00\n",
      "Requirement already satisfied: six>=1.12.0 in c:\\users\\user\\appdata\\roaming\\python\\python39\\site-packages (from tensorflow) (1.16.0)\n",
      "Collecting h5py>=2.9.0\n",
      "  Downloading h5py-3.7.0-cp39-cp39-win_amd64.whl (2.6 MB)\n",
      "     ---------------------------------------- 2.6/2.6 MB 856.7 kB/s eta 0:00:00\n",
      "Collecting opt-einsum>=2.3.2\n",
      "  Downloading opt_einsum-3.3.0-py3-none-any.whl (65 kB)\n",
      "     -------------------------------------- 65.5/65.5 kB 891.1 kB/s eta 0:00:00\n",
      "Collecting grpcio<2.0,>=1.24.3\n",
      "  Downloading grpcio-1.49.1-cp39-cp39-win_amd64.whl (3.6 MB)\n",
      "     ---------------------------------------- 3.6/3.6 MB 852.3 kB/s eta 0:00:00\n",
      "Collecting termcolor>=1.1.0\n",
      "  Downloading termcolor-2.0.1-py3-none-any.whl (5.4 kB)\n",
      "Collecting tensorflow-estimator<2.11,>=2.10.0\n",
      "  Downloading tensorflow_estimator-2.10.0-py2.py3-none-any.whl (438 kB)\n",
      "     ------------------------------------ 438.7/438.7 kB 856.9 kB/s eta 0:00:00\n",
      "Collecting keras<2.11,>=2.10.0\n",
      "  Downloading keras-2.10.0-py2.py3-none-any.whl (1.7 MB)\n",
      "     ---------------------------------------- 1.7/1.7 MB 850.2 kB/s eta 0:00:00\n",
      "Collecting keras-preprocessing>=1.1.1\n",
      "  Downloading Keras_Preprocessing-1.1.2-py2.py3-none-any.whl (42 kB)\n",
      "     -------------------------------------- 42.6/42.6 kB 688.1 kB/s eta 0:00:00\n",
      "Collecting flatbuffers>=2.0\n",
      "  Downloading flatbuffers-22.9.24-py2.py3-none-any.whl (26 kB)\n",
      "Collecting astunparse>=1.6.0\n",
      "  Downloading astunparse-1.6.3-py2.py3-none-any.whl (12 kB)\n",
      "Collecting tensorboard<2.11,>=2.10\n",
      "  Downloading tensorboard-2.10.1-py3-none-any.whl (5.9 MB)\n",
      "     ---------------------------------------- 5.9/5.9 MB 854.7 kB/s eta 0:00:00\n",
      "Collecting tensorflow-io-gcs-filesystem>=0.23.1\n",
      "  Downloading tensorflow_io_gcs_filesystem-0.27.0-cp39-cp39-win_amd64.whl (1.5 MB)\n",
      "     ---------------------------------------- 1.5/1.5 MB 857.5 kB/s eta 0:00:00\n",
      "Collecting google-pasta>=0.1.1\n",
      "  Downloading google_pasta-0.2.0-py3-none-any.whl (57 kB)\n",
      "     ---------------------------------------- 57.5/57.5 kB 1.0 MB/s eta 0:00:00\n",
      "Requirement already satisfied: packaging in c:\\users\\user\\appdata\\roaming\\python\\python39\\site-packages (from tensorflow) (21.3)\n",
      "Collecting protobuf<3.20,>=3.9.2\n",
      "  Downloading protobuf-3.19.5-cp39-cp39-win_amd64.whl (895 kB)\n",
      "     ------------------------------------ 895.9/895.9 kB 872.5 kB/s eta 0:00:00\n",
      "Collecting wheel<1.0,>=0.23.0\n",
      "  Using cached wheel-0.37.1-py2.py3-none-any.whl (35 kB)\n",
      "Collecting tensorboard-data-server<0.7.0,>=0.6.0\n",
      "  Downloading tensorboard_data_server-0.6.1-py3-none-any.whl (2.4 kB)\n",
      "Collecting tensorboard-plugin-wit>=1.6.0\n",
      "  Downloading tensorboard_plugin_wit-1.8.1-py3-none-any.whl (781 kB)\n",
      "     ------------------------------------ 781.3/781.3 kB 822.1 kB/s eta 0:00:00\n",
      "Collecting werkzeug>=1.0.1\n",
      "  Downloading Werkzeug-2.2.2-py3-none-any.whl (232 kB)\n",
      "     ------------------------------------ 232.7/232.7 kB 791.7 kB/s eta 0:00:00\n",
      "Collecting markdown>=2.6.8\n",
      "  Downloading Markdown-3.4.1-py3-none-any.whl (93 kB)\n",
      "     -------------------------------------- 93.3/93.3 kB 883.6 kB/s eta 0:00:00\n",
      "Collecting google-auth<3,>=1.6.3\n",
      "  Downloading google_auth-2.12.0-py2.py3-none-any.whl (169 kB)\n",
      "     ------------------------------------ 169.8/169.8 kB 853.0 kB/s eta 0:00:00\n",
      "Collecting google-auth-oauthlib<0.5,>=0.4.1\n",
      "  Downloading google_auth_oauthlib-0.4.6-py2.py3-none-any.whl (18 kB)\n",
      "Requirement already satisfied: requests<3,>=2.21.0 in c:\\users\\user\\appdata\\roaming\\python\\python39\\site-packages (from tensorboard<2.11,>=2.10->tensorflow) (2.28.1)\n",
      "Requirement already satisfied: pyparsing!=3.0.5,>=2.0.2 in c:\\users\\user\\appdata\\roaming\\python\\python39\\site-packages (from packaging->tensorflow) (3.0.9)\n",
      "Collecting cachetools<6.0,>=2.0.0\n",
      "  Downloading cachetools-5.2.0-py3-none-any.whl (9.3 kB)\n",
      "Collecting rsa<5,>=3.1.4\n",
      "  Downloading rsa-4.9-py3-none-any.whl (34 kB)\n",
      "Collecting pyasn1-modules>=0.2.1\n",
      "  Downloading pyasn1_modules-0.2.8-py2.py3-none-any.whl (155 kB)\n",
      "     ------------------------------------ 155.3/155.3 kB 843.2 kB/s eta 0:00:00\n",
      "Collecting requests-oauthlib>=0.7.0\n",
      "  Downloading requests_oauthlib-1.3.1-py2.py3-none-any.whl (23 kB)\n",
      "Requirement already satisfied: importlib-metadata>=4.4 in c:\\users\\user\\appdata\\roaming\\python\\python39\\site-packages (from markdown>=2.6.8->tensorboard<2.11,>=2.10->tensorflow) (4.12.0)\n",
      "Requirement already satisfied: certifi>=2017.4.17 in c:\\users\\user\\appdata\\roaming\\python\\python39\\site-packages (from requests<3,>=2.21.0->tensorboard<2.11,>=2.10->tensorflow) (2022.9.14)\n",
      "Requirement already satisfied: charset-normalizer<3,>=2 in c:\\users\\user\\appdata\\roaming\\python\\python39\\site-packages (from requests<3,>=2.21.0->tensorboard<2.11,>=2.10->tensorflow) (2.1.1)\n",
      "Requirement already satisfied: urllib3<1.27,>=1.21.1 in c:\\users\\user\\appdata\\roaming\\python\\python39\\site-packages (from requests<3,>=2.21.0->tensorboard<2.11,>=2.10->tensorflow) (1.26.12)\n",
      "Requirement already satisfied: idna<4,>=2.5 in c:\\users\\user\\appdata\\roaming\\python\\python39\\site-packages (from requests<3,>=2.21.0->tensorboard<2.11,>=2.10->tensorflow) (3.4)\n",
      "Requirement already satisfied: MarkupSafe>=2.1.1 in c:\\users\\user\\appdata\\roaming\\python\\python39\\site-packages (from werkzeug>=1.0.1->tensorboard<2.11,>=2.10->tensorflow) (2.1.1)\n",
      "Requirement already satisfied: zipp>=0.5 in c:\\users\\user\\appdata\\roaming\\python\\python39\\site-packages (from importlib-metadata>=4.4->markdown>=2.6.8->tensorboard<2.11,>=2.10->tensorflow) (3.8.1)\n",
      "Collecting pyasn1<0.5.0,>=0.4.6\n",
      "  Downloading pyasn1-0.4.8-py2.py3-none-any.whl (77 kB)\n",
      "     -------------------------------------- 77.1/77.1 kB 857.8 kB/s eta 0:00:00\n",
      "Collecting oauthlib>=3.0.0\n",
      "  Downloading oauthlib-3.2.1-py3-none-any.whl (151 kB)\n",
      "     ------------------------------------ 151.7/151.7 kB 900.8 kB/s eta 0:00:00\n",
      "Installing collected packages: tensorboard-plugin-wit, pyasn1, libclang, keras, flatbuffers, wrapt, wheel, werkzeug, typing-extensions, termcolor, tensorflow-io-gcs-filesystem, tensorflow-estimator, tensorboard-data-server, rsa, pyasn1-modules, protobuf, opt-einsum, oauthlib, keras-preprocessing, h5py, grpcio, google-pasta, gast, cachetools, absl-py, requests-oauthlib, markdown, google-auth, astunparse, google-auth-oauthlib, tensorboard, tensorflow\n",
      "Successfully installed absl-py-1.2.0 astunparse-1.6.3 cachetools-5.2.0 flatbuffers-22.9.24 gast-0.4.0 google-auth-2.12.0 google-auth-oauthlib-0.4.6 google-pasta-0.2.0 grpcio-1.49.1 h5py-3.7.0 keras-2.10.0 keras-preprocessing-1.1.2 libclang-14.0.6 markdown-3.4.1 oauthlib-3.2.1 opt-einsum-3.3.0 protobuf-3.19.5 pyasn1-0.4.8 pyasn1-modules-0.2.8 requests-oauthlib-1.3.1 rsa-4.9 tensorboard-2.10.1 tensorboard-data-server-0.6.1 tensorboard-plugin-wit-1.8.1 tensorflow-2.10.0 tensorflow-estimator-2.10.0 tensorflow-io-gcs-filesystem-0.27.0 termcolor-2.0.1 typing-extensions-4.3.0 werkzeug-2.2.2 wheel-0.37.1 wrapt-1.14.1\n"
     ]
    }
   ],
   "source": [
    "!pip install tensorflow"
   ]
  },
  {
   "cell_type": "code",
   "execution_count": 52,
   "metadata": {
    "id": "2RWv3-URCDeP"
   },
   "outputs": [
    {
     "ename": "ModuleNotFoundError",
     "evalue": "No module named 'tensorflow'",
     "output_type": "error",
     "traceback": [
      "\u001b[1;31m---------------------------------------------------------------------------\u001b[0m",
      "\u001b[1;31mModuleNotFoundError\u001b[0m                       Traceback (most recent call last)",
      "Cell \u001b[1;32mIn [52], line 1\u001b[0m\n\u001b[1;32m----> 1\u001b[0m \u001b[38;5;28;01mfrom\u001b[39;00m \u001b[38;5;21;01mtensorflow\u001b[39;00m\u001b[38;5;21;01m.\u001b[39;00m\u001b[38;5;21;01mkeras\u001b[39;00m\u001b[38;5;21;01m.\u001b[39;00m\u001b[38;5;21;01mlayers\u001b[39;00m \u001b[38;5;28;01mimport\u001b[39;00m TextVectorization\n\u001b[0;32m      3\u001b[0m max_tokens \u001b[38;5;241m=\u001b[39m \u001b[38;5;241m200\u001b[39m\n\u001b[0;32m      4\u001b[0m max_length \u001b[38;5;241m=\u001b[39m \u001b[38;5;241m10\u001b[39m\n",
      "\u001b[1;31mModuleNotFoundError\u001b[0m: No module named 'tensorflow'"
     ]
    }
   ],
   "source": [
    "from tensorflow.keras.layers import TextVectorization\n",
    "\n",
    "max_tokens = 200\n",
    "max_length = 10\n",
    "\n",
    "text_vectorization = TextVectorization(\n",
    "    max_tokens=max_tokens,\n",
    "    output_mode=\"int\",\n",
    "    output_sequence_length=max_length,\n",
    ")\n",
    "\n",
    "text_vectorization.adapt(emma)"
   ]
  },
  {
   "cell_type": "code",
   "execution_count": null,
   "metadata": {
    "id": "WYzRE1ugCDeP"
   },
   "outputs": [],
   "source": [
    "text_vectorization.get_vocabulary()"
   ]
  },
  {
   "cell_type": "code",
   "execution_count": null,
   "metadata": {
    "id": "oEXts5wiCDeP"
   },
   "outputs": [],
   "source": [
    "raw_text_data = ([\n",
    "    [\"Emma was always there.\"],\n",
    "])\n",
    "\n",
    "text_vectorization(raw_text_data)"
   ]
  },
  {
   "cell_type": "markdown",
   "metadata": {
    "id": "K6N70UYRCDeP"
   },
   "source": [
    "## Images"
   ]
  },
  {
   "cell_type": "code",
   "execution_count": null,
   "metadata": {
    "id": "4fxmZJRyUine"
   },
   "outputs": [],
   "source": [
    "from tensorflow.keras.datasets import cifar10"
   ]
  },
  {
   "cell_type": "code",
   "execution_count": null,
   "metadata": {
    "id": "UXuDR6tGUinh",
    "tags": []
   },
   "outputs": [],
   "source": [
    "(train_images, train_labels), (test_images, test_labels) = cifar10.load_data()"
   ]
  },
  {
   "cell_type": "code",
   "execution_count": null,
   "metadata": {
    "id": "t8p5GNjPCDeP"
   },
   "outputs": [],
   "source": [
    "train_images.shape"
   ]
  },
  {
   "cell_type": "code",
   "execution_count": null,
   "metadata": {
    "id": "pQ1flicrCDeP"
   },
   "outputs": [],
   "source": [
    "import matplotlib.pyplot as plt\n",
    "\n",
    "plt.imshow(train_images[40])"
   ]
  },
  {
   "cell_type": "markdown",
   "metadata": {
    "id": "StGY2dPNCDeQ"
   },
   "source": [
    "## Functions that help you Tidy your Data\n",
    "- Review on your own after class\n",
    "\n",
    "\n",
    "* pd.pivot() - Return reshaped DataFrame organized by given index / column values. \n",
    "* pd.pivot_table()\n",
    "* pd.melt()  - Unpivot a DataFrame from wide to long format, optionally leaving identifiers set.\n",
    "* pd.stack() - Stack the prescribed level(s) from columns to index.\n",
    "* pd.unstack() - Returns a DataFrame having a new level of column labels whose inner-most level consists of the pivoted index labels."
   ]
  },
  {
   "cell_type": "code",
   "execution_count": null,
   "metadata": {
    "id": "pnv5P2AhCDeQ"
   },
   "outputs": [],
   "source": [
    "import pandas as pd\n",
    "import numpy as np\n",
    "\n",
    "tuples = list(zip(*[['bar', 'bar', 'baz', 'baz', 'foo', 'foo', 'qux', 'qux'],\n",
    "                   ['one', 'two','one', 'two','one', 'two','one', 'two']]))\n",
    "tuples"
   ]
  },
  {
   "cell_type": "code",
   "execution_count": null,
   "metadata": {
    "id": "k5ARLMOnCDeQ"
   },
   "outputs": [],
   "source": [
    "index = pd.MultiIndex.from_tuples(tuples, names = ['first', 'second'])\n",
    "index"
   ]
  },
  {
   "cell_type": "code",
   "execution_count": null,
   "metadata": {
    "id": "hVYNbjTVCDeQ"
   },
   "outputs": [],
   "source": [
    "import numpy as np\n",
    "stacked = pd.DataFrame(np.random.randn(8,2), index = index, columns=['A', 'B'])\n",
    "stacked"
   ]
  },
  {
   "cell_type": "code",
   "execution_count": null,
   "metadata": {
    "id": "VK9G_XCFCDeQ"
   },
   "outputs": [],
   "source": [
    "stacked.unstack()"
   ]
  },
  {
   "cell_type": "code",
   "execution_count": null,
   "metadata": {
    "id": "ARBmaMlxCDeQ"
   },
   "outputs": [],
   "source": [
    "# Level(s) of index to unstack, can pass level name.\n",
    "stacked.unstack('first')"
   ]
  },
  {
   "cell_type": "code",
   "execution_count": null,
   "metadata": {
    "id": "pbcpJ63GCDeQ"
   },
   "outputs": [],
   "source": [
    "df = pd.DataFrame({\"A\": [\"foo\", \"foo\", \"foo\", \"foo\", \"foo\",\n",
    "                         \"bar\", \"bar\", \"bar\", \"bar\"],\n",
    "                   \"B\": [\"one\", \"one\", \"one\", \"two\", \"two\",\n",
    "                         \"one\", \"one\", \"two\", \"two\"],\n",
    "                   \"C\": [\"small\", \"large\", \"large\", \"small\",\n",
    "                         \"small\", \"large\", \"small\", \"small\",\n",
    "                         \"large\"],\n",
    "                   \"D\": [1, 2, 2, 3, 3, 4, 5, 6, 7],\n",
    "                   \"E\": [2, 4, 5, 5, 6, 6, 8, 9, 9]})"
   ]
  },
  {
   "cell_type": "code",
   "execution_count": null,
   "metadata": {
    "id": "7DZtmq7xCDeQ"
   },
   "outputs": [],
   "source": [
    "df"
   ]
  },
  {
   "cell_type": "code",
   "execution_count": null,
   "metadata": {
    "id": "L__ml6QoCDeQ"
   },
   "outputs": [],
   "source": [
    "pd.pivot_table(df, values='D', index=['A', 'B'],\n",
    "                    columns=['C'], aggfunc=np.sum)"
   ]
  }
 ],
 "metadata": {
  "celltoolbar": "Slideshow",
  "colab": {
   "provenance": []
  },
  "kernelspec": {
   "display_name": "Python 3 (ipykernel)",
   "language": "python",
   "name": "python3"
  },
  "language_info": {
   "codemirror_mode": {
    "name": "ipython",
    "version": 3
   },
   "file_extension": ".py",
   "mimetype": "text/x-python",
   "name": "python",
   "nbconvert_exporter": "python",
   "pygments_lexer": "ipython3",
   "version": "3.9.13"
  }
 },
 "nbformat": 4,
 "nbformat_minor": 4
}
