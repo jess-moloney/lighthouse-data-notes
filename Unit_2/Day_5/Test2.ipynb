{
 "cells": [
  {
   "cell_type": "markdown",
   "id": "72fd1c8b-b355-499a-8249-25b2f503df90",
   "metadata": {},
   "source": [
    "# Question 0\n",
    "\n",
    "\"\"\"\n",
    "Create a function that takes a list of strings and integers, and filters out the list so that it returns a list of integers only.\n",
    "\n",
    "Examples:\n",
    "    filter_list([1, 2, 3, \"a\", \"b\", 4]) returns [1, 2, 3, 4]\n",
    "\n",
    "    filter_list(['A', 0, 'Edabit', 1729, 'Python', '1729']) returns [0, 1729]\n",
    "\n",
    "Notes:\n",
    "    - Function always returns list\n",
    "\"\"\""
   ]
  },
  {
   "cell_type": "code",
   "execution_count": 4,
   "id": "eeb50b45-1960-4bc3-90a5-1cdcd910ebaf",
   "metadata": {},
   "outputs": [],
   "source": [
    "def filter_list(lst):\n",
    "    new_lst = []\n",
    "    for item in lst:\n",
    "        if type(item) == str:\n",
    "            continue\n",
    "        else:\n",
    "            new_lst.append(item)\n",
    "    return new_lst"
   ]
  },
  {
   "cell_type": "code",
   "execution_count": 6,
   "id": "088cd893-5a8f-4830-85e4-916dfc33ab8b",
   "metadata": {},
   "outputs": [
    {
     "data": {
      "text/plain": [
       "[0, 1729]"
      ]
     },
     "execution_count": 6,
     "metadata": {},
     "output_type": "execute_result"
    }
   ],
   "source": [
    "filter_list(['A', 0, 'Edabit', 1729, 'Python', '1729'])"
   ]
  },
  {
   "cell_type": "code",
   "execution_count": 2,
   "id": "a39fd7d8-64fd-4334-9676-6665567ef703",
   "metadata": {},
   "outputs": [
    {
     "data": {
      "text/plain": [
       "str"
      ]
     },
     "execution_count": 2,
     "metadata": {},
     "output_type": "execute_result"
    }
   ],
   "source": [
    "type('Edabit')"
   ]
  },
  {
   "cell_type": "code",
   "execution_count": 3,
   "id": "3a28d5cd-5fd4-4826-9880-3aede8d6c9c3",
   "metadata": {},
   "outputs": [
    {
     "data": {
      "text/plain": [
       "int"
      ]
     },
     "execution_count": 3,
     "metadata": {},
     "output_type": "execute_result"
    }
   ],
   "source": [
    "type(0)"
   ]
  },
  {
   "cell_type": "code",
   "execution_count": 7,
   "id": "c00a8a3f-651a-4d0b-97a7-8f62ad64f8f9",
   "metadata": {},
   "outputs": [
    {
     "ename": "NameError",
     "evalue": "name 'lst' is not defined",
     "output_type": "error",
     "traceback": [
      "\u001b[1;31m---------------------------------------------------------------------------\u001b[0m",
      "\u001b[1;31mNameError\u001b[0m                                 Traceback (most recent call last)",
      "Cell \u001b[1;32mIn [7], line 3\u001b[0m\n\u001b[0;32m      1\u001b[0m new_lst \u001b[38;5;241m=\u001b[39m []\n\u001b[1;32m----> 3\u001b[0m \u001b[38;5;28;01mfor\u001b[39;00m item \u001b[38;5;129;01min\u001b[39;00m \u001b[43mlst\u001b[49m:\n\u001b[0;32m      4\u001b[0m     \u001b[38;5;28;01mif\u001b[39;00m \u001b[38;5;28mtype\u001b[39m(item) \u001b[38;5;241m==\u001b[39m \u001b[38;5;28mstr\u001b[39m:\n\u001b[0;32m      5\u001b[0m         \u001b[38;5;28;01mcontinue\u001b[39;00m\n",
      "\u001b[1;31mNameError\u001b[0m: name 'lst' is not defined"
     ]
    }
   ],
   "source": [
    "new_lst = []\n",
    "\n",
    "for item in lst:\n",
    "    if type(item) == str:\n",
    "        continue\n",
    "    else:\n",
    "        new_lst.append(item)\n",
    "return new_lst\n"
   ]
  },
  {
   "cell_type": "markdown",
   "id": "c844f828-dbb3-4eb6-b0a5-cf131d44d5a0",
   "metadata": {},
   "source": [
    "# Question 1\n",
    "\n",
    "\"\"\"\n",
    "Create a function that returns the mean of all digits.\n",
    "\n",
    "Example:\n",
    "    mean(42) ➞ 3.0\n",
    "\n",
    "    mean(12345) ➞ 3.0\n",
    "\n",
    "    mean(666) ➞ 6.0\n",
    "\n",
    "Notes:\n",
    "    - Function should always return float\n",
    "\"\"\""
   ]
  },
  {
   "cell_type": "code",
   "execution_count": 24,
   "id": "34f22a7d-c3ea-457f-bde2-a90473495d91",
   "metadata": {},
   "outputs": [],
   "source": [
    "def mean(digits):\n",
    "    digit_list = []\n",
    "    mean_list = []\n",
    "    digit_list = list(str(digits))\n",
    "    for item in digit_list:\n",
    "        mean_list.append(int(item))\n",
    "    return(sum(mean_list) / len(mean_list))"
   ]
  },
  {
   "cell_type": "code",
   "execution_count": 25,
   "id": "2127571b-8cfe-41cb-8838-6c70727d10fc",
   "metadata": {},
   "outputs": [
    {
     "data": {
      "text/plain": [
       "3.0"
      ]
     },
     "execution_count": 25,
     "metadata": {},
     "output_type": "execute_result"
    }
   ],
   "source": [
    "mean(12345)"
   ]
  },
  {
   "cell_type": "code",
   "execution_count": 26,
   "id": "53b21793-a2c4-48f4-bd1e-9e4b4ccef974",
   "metadata": {},
   "outputs": [
    {
     "data": {
      "text/plain": [
       "6.0"
      ]
     },
     "execution_count": 26,
     "metadata": {},
     "output_type": "execute_result"
    }
   ],
   "source": [
    "mean(666)"
   ]
  },
  {
   "cell_type": "code",
   "execution_count": 27,
   "id": "0b2a1d64-826a-48dc-b3b2-e7d5560c4d10",
   "metadata": {},
   "outputs": [
    {
     "data": {
      "text/plain": [
       "3.0"
      ]
     },
     "execution_count": 27,
     "metadata": {},
     "output_type": "execute_result"
    }
   ],
   "source": [
    "mean(42)"
   ]
  },
  {
   "cell_type": "code",
   "execution_count": 12,
   "id": "cff70d49-2296-43b2-83a4-6fe7bc035e25",
   "metadata": {},
   "outputs": [
    {
     "data": {
      "text/plain": [
       "['1', '2', '3', '4', '5']"
      ]
     },
     "execution_count": 12,
     "metadata": {},
     "output_type": "execute_result"
    }
   ],
   "source": [
    "digits = 12345\n",
    "digit_list = list(str(digits))\n",
    "digit_list"
   ]
  },
  {
   "cell_type": "code",
   "execution_count": 13,
   "id": "c1c1c17f-842d-435a-b5ab-947f421ee751",
   "metadata": {},
   "outputs": [],
   "source": [
    "mean_list = []\n",
    "for item in digit_list:\n",
    "    mean_list.append(int(item))"
   ]
  },
  {
   "cell_type": "code",
   "execution_count": 17,
   "id": "578d81fd-0095-4ffc-86e6-0d6bbaca07bd",
   "metadata": {},
   "outputs": [
    {
     "data": {
      "text/plain": [
       "3.0"
      ]
     },
     "execution_count": 17,
     "metadata": {},
     "output_type": "execute_result"
    }
   ],
   "source": [
    "sum(mean_list) / len(mean_list)"
   ]
  },
  {
   "cell_type": "markdown",
   "id": "a17d2cc2-ded7-4eea-83b6-cbc3a75b256e",
   "metadata": {},
   "source": [
    "# Question 3\n",
    "\n",
    "\"\"\"\n",
    "Write a function that takes a string and calculates the number of letters and digits within it. Return the result in a dictionary.\n",
    "\n",
    "Examples:\n",
    "    count_all(\"Hello World\") ➞ { \"LETTERS\":  10, \"DIGITS\": 0 }\n",
    "\n",
    "    count_all(\"H3ll0 Wor1d\") ➞ { \"LETTERS\":  7, \"DIGITS\": 3 }\n",
    "\n",
    "    count_all(\"149990\") ➞ { \"LETTERS\": 0, \"DIGITS\": 6 }\n",
    "\n",
    "Notes:\n",
    "    - Tests contain only alphanumeric characters.\n",
    "    - Spaces are not letters.\n",
    "    - All tests contain valid strings.\n",
    "    - The function should return dictionary\n",
    "\n",
    "\"\"\""
   ]
  },
  {
   "cell_type": "code",
   "execution_count": 71,
   "id": "a8d7f8a9-f705-4317-916f-9cef650ae3b0",
   "metadata": {},
   "outputs": [],
   "source": [
    "def count_all(string):\n",
    "    string = string.replace(' ','')\n",
    "    digit_list = []\n",
    "    alpha_list = []\n",
    "\n",
    "    for char in string:\n",
    "        if char.isnumeric():\n",
    "            digit_list.append(char)\n",
    "        else:\n",
    "            alpha_list.append(char)\n",
    "    letter_dict = {\" LETTERS \":len(alpha_list),\n",
    "               \" DIGITS \":len(digit_list)}\n",
    "    return letter_dict"
   ]
  },
  {
   "cell_type": "code",
   "execution_count": 72,
   "id": "4b4c4e22-2422-4433-ac3e-e61618f3ae96",
   "metadata": {},
   "outputs": [
    {
     "data": {
      "text/plain": [
       "{' LETTERS ': 10, ' DIGITS ': 0}"
      ]
     },
     "execution_count": 72,
     "metadata": {},
     "output_type": "execute_result"
    }
   ],
   "source": [
    "count_all(\"Hello World\")"
   ]
  },
  {
   "cell_type": "code",
   "execution_count": 73,
   "id": "2133dc9b-7a06-4a47-8fa2-575b7d923a14",
   "metadata": {},
   "outputs": [
    {
     "data": {
      "text/plain": [
       "{' LETTERS ': 7, ' DIGITS ': 3}"
      ]
     },
     "execution_count": 73,
     "metadata": {},
     "output_type": "execute_result"
    }
   ],
   "source": [
    "count_all(\"H3ll0 Wor1d\")"
   ]
  },
  {
   "cell_type": "code",
   "execution_count": null,
   "id": "c7d15c39-2797-4b39-ae20-4926fa81ce7a",
   "metadata": {},
   "outputs": [],
   "source": []
  },
  {
   "cell_type": "code",
   "execution_count": 68,
   "id": "7fdc0183-13e6-451b-8b28-a4440cedcfa3",
   "metadata": {},
   "outputs": [],
   "source": [
    "result = count_all(\"149990\")"
   ]
  },
  {
   "cell_type": "code",
   "execution_count": 69,
   "id": "d66036c1-98e0-4fef-b605-84d495919175",
   "metadata": {},
   "outputs": [
    {
     "data": {
      "text/plain": [
       "{'LETTERS': 0, 'DIGITS': 6}"
      ]
     },
     "execution_count": 69,
     "metadata": {},
     "output_type": "execute_result"
    }
   ],
   "source": [
    "result"
   ]
  },
  {
   "cell_type": "code",
   "execution_count": 70,
   "id": "65188f2f-11cd-4b4e-b7f9-49b06463df0a",
   "metadata": {},
   "outputs": [
    {
     "data": {
      "text/plain": [
       "dict"
      ]
     },
     "execution_count": 70,
     "metadata": {},
     "output_type": "execute_result"
    }
   ],
   "source": [
    "type(result)"
   ]
  },
  {
   "cell_type": "code",
   "execution_count": null,
   "id": "f03439be-bb5c-4c1b-86cd-bf95e97d7869",
   "metadata": {},
   "outputs": [],
   "source": [
    "letter_dict = {\"LETTERS\":,\n",
    "               \"DIGITS\":}"
   ]
  },
  {
   "cell_type": "code",
   "execution_count": 38,
   "id": "212233f7-e234-425d-87dc-6f5524f40e08",
   "metadata": {},
   "outputs": [],
   "source": [
    "test_string = \"H3ll0 Wor1d\""
   ]
  },
  {
   "cell_type": "code",
   "execution_count": 39,
   "id": "ddbc38e4-b168-4456-aa5f-6dd59102bf9a",
   "metadata": {},
   "outputs": [
    {
     "data": {
      "text/plain": [
       "11"
      ]
     },
     "execution_count": 39,
     "metadata": {},
     "output_type": "execute_result"
    }
   ],
   "source": [
    "len(test_string)"
   ]
  },
  {
   "cell_type": "code",
   "execution_count": 49,
   "id": "457b391f-8c22-48c7-ab88-8d0df3d43476",
   "metadata": {},
   "outputs": [],
   "source": [
    "test_string = test_string.replace(' ','')"
   ]
  },
  {
   "cell_type": "code",
   "execution_count": 50,
   "id": "0dbcd328-9b9f-4993-9a98-8be60dd7d5c4",
   "metadata": {},
   "outputs": [
    {
     "data": {
      "text/plain": [
       "False"
      ]
     },
     "execution_count": 50,
     "metadata": {},
     "output_type": "execute_result"
    }
   ],
   "source": [
    "'H'.isnumeric()"
   ]
  },
  {
   "cell_type": "code",
   "execution_count": 57,
   "id": "df18ea19-ff9c-48b6-bc06-f30c6302c641",
   "metadata": {},
   "outputs": [
    {
     "name": "stdout",
     "output_type": "stream",
     "text": [
      "{'LETTERS': 7, 'DIGITS': 3}\n"
     ]
    }
   ],
   "source": [
    "digit_list = []\n",
    "alpha_list = []\n",
    "\n",
    "for char in test_string:\n",
    "    if char.isnumeric():\n",
    "        digit_list.append(char)\n",
    "    else:\n",
    "        alpha_list.append(char)\n",
    "letter_dict = {\"LETTERS\":len(alpha_list),\n",
    "               \"DIGITS\":len(digit_list)}\n",
    "print(letter_dict)"
   ]
  },
  {
   "cell_type": "code",
   "execution_count": 55,
   "id": "d1b36412-9086-4d8b-82d5-36f1ea8babfb",
   "metadata": {},
   "outputs": [
    {
     "data": {
      "text/plain": [
       "3"
      ]
     },
     "execution_count": 55,
     "metadata": {},
     "output_type": "execute_result"
    }
   ],
   "source": [
    "len(digit_list)"
   ]
  },
  {
   "cell_type": "code",
   "execution_count": 56,
   "id": "54ce8edf-c6bd-4bc3-8dbf-0a5ef54392ed",
   "metadata": {},
   "outputs": [
    {
     "data": {
      "text/plain": [
       "7"
      ]
     },
     "execution_count": 56,
     "metadata": {},
     "output_type": "execute_result"
    }
   ],
   "source": [
    "len(alpha_list)"
   ]
  },
  {
   "cell_type": "markdown",
   "id": "f28a4cdb-0e26-4398-a644-7e327bb3dde7",
   "metadata": {},
   "source": [
    "# Question 3\n",
    "\n",
    "\"\"\"\n",
    " - Connect to the hr.db (stored in supporting-files directory) with sqlite3 \n",
    " - Write a query to get the names (first_name, last_name), salary, PF of all the employees (PF is calculated as 12% of salary)\n",
    "\n",
    "Expected columns:\n",
    "    - first_name\t\n",
    "    - last_name\t\n",
    "    - salary\n",
    "    - PF\n",
    "\n",
    "Notes:\n",
    "    - You can connect to DB from Jupyter Lab/Notebook, explore the table and try different queries\n",
    "    - In the variable 'SQL' store only the final query ready for validation \n",
    "\"\"\""
   ]
  },
  {
   "cell_type": "code",
   "execution_count": 74,
   "id": "5d992f34-a77e-4373-b23e-d13cfcdee035",
   "metadata": {},
   "outputs": [],
   "source": [
    "import sqlite3\n",
    "from sqlite3 import Error"
   ]
  },
  {
   "cell_type": "code",
   "execution_count": 76,
   "id": "3a0b775c-0ee7-45bd-91eb-53b75f4388f6",
   "metadata": {},
   "outputs": [],
   "source": [
    "connection = sqlite3.connect(\"../../../../assessment-exam-student-python/supporting_files/hr.db\")"
   ]
  },
  {
   "cell_type": "code",
   "execution_count": 77,
   "id": "18b17d8f-3b19-4d09-90a4-4ff471098f28",
   "metadata": {},
   "outputs": [],
   "source": [
    "def execute_query(connection, query):\n",
    "    cursor = connection.cursor()\n",
    "    try:\n",
    "        cursor.execute(query)\n",
    "        connection.commit()\n",
    "        print(\"Query executed successfully\")\n",
    "    except Error as e:\n",
    "        print(f\"The error '{e}' occurred\")"
   ]
  },
  {
   "cell_type": "code",
   "execution_count": 78,
   "id": "3d4a02ff-2674-4b3a-899a-d75903c22394",
   "metadata": {},
   "outputs": [],
   "source": [
    "import pandas as pd"
   ]
  },
  {
   "cell_type": "code",
   "execution_count": 79,
   "id": "651af8c6-acd7-4ae6-acc4-e31cf0d89c8b",
   "metadata": {},
   "outputs": [
    {
     "data": {
      "text/html": [
       "<div>\n",
       "<style scoped>\n",
       "    .dataframe tbody tr th:only-of-type {\n",
       "        vertical-align: middle;\n",
       "    }\n",
       "\n",
       "    .dataframe tbody tr th {\n",
       "        vertical-align: top;\n",
       "    }\n",
       "\n",
       "    .dataframe thead th {\n",
       "        text-align: right;\n",
       "    }\n",
       "</style>\n",
       "<table border=\"1\" class=\"dataframe\">\n",
       "  <thead>\n",
       "    <tr style=\"text-align: right;\">\n",
       "      <th></th>\n",
       "      <th>employee_id</th>\n",
       "      <th>first_name</th>\n",
       "      <th>last_name</th>\n",
       "      <th>email</th>\n",
       "      <th>phone_number</th>\n",
       "      <th>hire_date</th>\n",
       "      <th>job_id</th>\n",
       "      <th>salary</th>\n",
       "      <th>manager_id</th>\n",
       "      <th>department_id</th>\n",
       "    </tr>\n",
       "  </thead>\n",
       "  <tbody>\n",
       "    <tr>\n",
       "      <th>0</th>\n",
       "      <td>100</td>\n",
       "      <td>Steven</td>\n",
       "      <td>King</td>\n",
       "      <td>steven.king@sqltutorial.org</td>\n",
       "      <td>515.123.4567</td>\n",
       "      <td>1987-06-17</td>\n",
       "      <td>4</td>\n",
       "      <td>24000.0</td>\n",
       "      <td>NaN</td>\n",
       "      <td>9</td>\n",
       "    </tr>\n",
       "    <tr>\n",
       "      <th>1</th>\n",
       "      <td>101</td>\n",
       "      <td>Neena</td>\n",
       "      <td>Kochhar</td>\n",
       "      <td>neena.kochhar@sqltutorial.org</td>\n",
       "      <td>515.123.4568</td>\n",
       "      <td>1989-09-21</td>\n",
       "      <td>5</td>\n",
       "      <td>17000.0</td>\n",
       "      <td>100.0</td>\n",
       "      <td>9</td>\n",
       "    </tr>\n",
       "    <tr>\n",
       "      <th>2</th>\n",
       "      <td>102</td>\n",
       "      <td>Lex</td>\n",
       "      <td>De Haan</td>\n",
       "      <td>lex.de haan@sqltutorial.org</td>\n",
       "      <td>515.123.4569</td>\n",
       "      <td>1993-01-13</td>\n",
       "      <td>5</td>\n",
       "      <td>17000.0</td>\n",
       "      <td>100.0</td>\n",
       "      <td>9</td>\n",
       "    </tr>\n",
       "    <tr>\n",
       "      <th>3</th>\n",
       "      <td>103</td>\n",
       "      <td>Alexander</td>\n",
       "      <td>Hunold</td>\n",
       "      <td>alexander.hunold@sqltutorial.org</td>\n",
       "      <td>590.423.4567</td>\n",
       "      <td>1990-01-03</td>\n",
       "      <td>9</td>\n",
       "      <td>9000.0</td>\n",
       "      <td>102.0</td>\n",
       "      <td>6</td>\n",
       "    </tr>\n",
       "    <tr>\n",
       "      <th>4</th>\n",
       "      <td>104</td>\n",
       "      <td>Bruce</td>\n",
       "      <td>Ernst</td>\n",
       "      <td>bruce.ernst@sqltutorial.org</td>\n",
       "      <td>590.423.4568</td>\n",
       "      <td>1991-05-21</td>\n",
       "      <td>9</td>\n",
       "      <td>6000.0</td>\n",
       "      <td>103.0</td>\n",
       "      <td>6</td>\n",
       "    </tr>\n",
       "    <tr>\n",
       "      <th>5</th>\n",
       "      <td>105</td>\n",
       "      <td>David</td>\n",
       "      <td>Austin</td>\n",
       "      <td>david.austin@sqltutorial.org</td>\n",
       "      <td>590.423.4569</td>\n",
       "      <td>1997-06-25</td>\n",
       "      <td>9</td>\n",
       "      <td>4800.0</td>\n",
       "      <td>103.0</td>\n",
       "      <td>6</td>\n",
       "    </tr>\n",
       "    <tr>\n",
       "      <th>6</th>\n",
       "      <td>106</td>\n",
       "      <td>Valli</td>\n",
       "      <td>Pataballa</td>\n",
       "      <td>valli.pataballa@sqltutorial.org</td>\n",
       "      <td>590.423.4560</td>\n",
       "      <td>1998-02-05</td>\n",
       "      <td>9</td>\n",
       "      <td>4800.0</td>\n",
       "      <td>103.0</td>\n",
       "      <td>6</td>\n",
       "    </tr>\n",
       "    <tr>\n",
       "      <th>7</th>\n",
       "      <td>107</td>\n",
       "      <td>Diana</td>\n",
       "      <td>Lorentz</td>\n",
       "      <td>diana.lorentz@sqltutorial.org</td>\n",
       "      <td>590.423.5567</td>\n",
       "      <td>1999-02-07</td>\n",
       "      <td>9</td>\n",
       "      <td>4200.0</td>\n",
       "      <td>103.0</td>\n",
       "      <td>6</td>\n",
       "    </tr>\n",
       "    <tr>\n",
       "      <th>8</th>\n",
       "      <td>108</td>\n",
       "      <td>Nancy</td>\n",
       "      <td>Greenberg</td>\n",
       "      <td>nancy.greenberg@sqltutorial.org</td>\n",
       "      <td>515.124.4569</td>\n",
       "      <td>1994-08-17</td>\n",
       "      <td>7</td>\n",
       "      <td>12000.0</td>\n",
       "      <td>101.0</td>\n",
       "      <td>10</td>\n",
       "    </tr>\n",
       "    <tr>\n",
       "      <th>9</th>\n",
       "      <td>109</td>\n",
       "      <td>Daniel</td>\n",
       "      <td>Faviet</td>\n",
       "      <td>daniel.faviet@sqltutorial.org</td>\n",
       "      <td>515.124.4169</td>\n",
       "      <td>1994-08-16</td>\n",
       "      <td>6</td>\n",
       "      <td>9000.0</td>\n",
       "      <td>108.0</td>\n",
       "      <td>10</td>\n",
       "    </tr>\n",
       "    <tr>\n",
       "      <th>10</th>\n",
       "      <td>110</td>\n",
       "      <td>John</td>\n",
       "      <td>Chen</td>\n",
       "      <td>john.chen@sqltutorial.org</td>\n",
       "      <td>515.124.4269</td>\n",
       "      <td>1997-09-28</td>\n",
       "      <td>6</td>\n",
       "      <td>8200.0</td>\n",
       "      <td>108.0</td>\n",
       "      <td>10</td>\n",
       "    </tr>\n",
       "    <tr>\n",
       "      <th>11</th>\n",
       "      <td>111</td>\n",
       "      <td>Ismael</td>\n",
       "      <td>Sciarra</td>\n",
       "      <td>ismael.sciarra@sqltutorial.org</td>\n",
       "      <td>515.124.4369</td>\n",
       "      <td>1997-09-30</td>\n",
       "      <td>6</td>\n",
       "      <td>7700.0</td>\n",
       "      <td>108.0</td>\n",
       "      <td>10</td>\n",
       "    </tr>\n",
       "    <tr>\n",
       "      <th>12</th>\n",
       "      <td>112</td>\n",
       "      <td>Jose Manuel</td>\n",
       "      <td>Urman</td>\n",
       "      <td>jose manuel.urman@sqltutorial.org</td>\n",
       "      <td>515.124.4469</td>\n",
       "      <td>1998-03-07</td>\n",
       "      <td>6</td>\n",
       "      <td>7800.0</td>\n",
       "      <td>108.0</td>\n",
       "      <td>10</td>\n",
       "    </tr>\n",
       "    <tr>\n",
       "      <th>13</th>\n",
       "      <td>113</td>\n",
       "      <td>Luis</td>\n",
       "      <td>Popp</td>\n",
       "      <td>luis.popp@sqltutorial.org</td>\n",
       "      <td>515.124.4567</td>\n",
       "      <td>1999-12-07</td>\n",
       "      <td>6</td>\n",
       "      <td>6900.0</td>\n",
       "      <td>108.0</td>\n",
       "      <td>10</td>\n",
       "    </tr>\n",
       "    <tr>\n",
       "      <th>14</th>\n",
       "      <td>114</td>\n",
       "      <td>Den</td>\n",
       "      <td>Raphaely</td>\n",
       "      <td>den.raphaely@sqltutorial.org</td>\n",
       "      <td>515.127.4561</td>\n",
       "      <td>1994-12-07</td>\n",
       "      <td>14</td>\n",
       "      <td>11000.0</td>\n",
       "      <td>100.0</td>\n",
       "      <td>3</td>\n",
       "    </tr>\n",
       "    <tr>\n",
       "      <th>15</th>\n",
       "      <td>115</td>\n",
       "      <td>Alexander</td>\n",
       "      <td>Khoo</td>\n",
       "      <td>alexander.khoo@sqltutorial.org</td>\n",
       "      <td>515.127.4562</td>\n",
       "      <td>1995-05-18</td>\n",
       "      <td>13</td>\n",
       "      <td>3100.0</td>\n",
       "      <td>114.0</td>\n",
       "      <td>3</td>\n",
       "    </tr>\n",
       "    <tr>\n",
       "      <th>16</th>\n",
       "      <td>116</td>\n",
       "      <td>Shelli</td>\n",
       "      <td>Baida</td>\n",
       "      <td>shelli.baida@sqltutorial.org</td>\n",
       "      <td>515.127.4563</td>\n",
       "      <td>1997-12-24</td>\n",
       "      <td>13</td>\n",
       "      <td>2900.0</td>\n",
       "      <td>114.0</td>\n",
       "      <td>3</td>\n",
       "    </tr>\n",
       "    <tr>\n",
       "      <th>17</th>\n",
       "      <td>117</td>\n",
       "      <td>Sigal</td>\n",
       "      <td>Tobias</td>\n",
       "      <td>sigal.tobias@sqltutorial.org</td>\n",
       "      <td>515.127.4564</td>\n",
       "      <td>1997-07-24</td>\n",
       "      <td>13</td>\n",
       "      <td>2800.0</td>\n",
       "      <td>114.0</td>\n",
       "      <td>3</td>\n",
       "    </tr>\n",
       "    <tr>\n",
       "      <th>18</th>\n",
       "      <td>118</td>\n",
       "      <td>Guy</td>\n",
       "      <td>Himuro</td>\n",
       "      <td>guy.himuro@sqltutorial.org</td>\n",
       "      <td>515.127.4565</td>\n",
       "      <td>1998-11-15</td>\n",
       "      <td>13</td>\n",
       "      <td>2600.0</td>\n",
       "      <td>114.0</td>\n",
       "      <td>3</td>\n",
       "    </tr>\n",
       "    <tr>\n",
       "      <th>19</th>\n",
       "      <td>119</td>\n",
       "      <td>Karen</td>\n",
       "      <td>Colmenares</td>\n",
       "      <td>karen.colmenares@sqltutorial.org</td>\n",
       "      <td>515.127.4566</td>\n",
       "      <td>1999-08-10</td>\n",
       "      <td>13</td>\n",
       "      <td>2500.0</td>\n",
       "      <td>114.0</td>\n",
       "      <td>3</td>\n",
       "    </tr>\n",
       "    <tr>\n",
       "      <th>20</th>\n",
       "      <td>120</td>\n",
       "      <td>Matthew</td>\n",
       "      <td>Weiss</td>\n",
       "      <td>matthew.weiss@sqltutorial.org</td>\n",
       "      <td>650.123.1234</td>\n",
       "      <td>1996-07-18</td>\n",
       "      <td>19</td>\n",
       "      <td>8000.0</td>\n",
       "      <td>100.0</td>\n",
       "      <td>5</td>\n",
       "    </tr>\n",
       "    <tr>\n",
       "      <th>21</th>\n",
       "      <td>121</td>\n",
       "      <td>Adam</td>\n",
       "      <td>Fripp</td>\n",
       "      <td>adam.fripp@sqltutorial.org</td>\n",
       "      <td>650.123.2234</td>\n",
       "      <td>1997-04-10</td>\n",
       "      <td>19</td>\n",
       "      <td>8200.0</td>\n",
       "      <td>100.0</td>\n",
       "      <td>5</td>\n",
       "    </tr>\n",
       "    <tr>\n",
       "      <th>22</th>\n",
       "      <td>122</td>\n",
       "      <td>Payam</td>\n",
       "      <td>Kaufling</td>\n",
       "      <td>payam.kaufling@sqltutorial.org</td>\n",
       "      <td>650.123.3234</td>\n",
       "      <td>1995-05-01</td>\n",
       "      <td>19</td>\n",
       "      <td>7900.0</td>\n",
       "      <td>100.0</td>\n",
       "      <td>5</td>\n",
       "    </tr>\n",
       "    <tr>\n",
       "      <th>23</th>\n",
       "      <td>123</td>\n",
       "      <td>Shanta</td>\n",
       "      <td>Vollman</td>\n",
       "      <td>shanta.vollman@sqltutorial.org</td>\n",
       "      <td>650.123.4234</td>\n",
       "      <td>1997-10-10</td>\n",
       "      <td>19</td>\n",
       "      <td>6500.0</td>\n",
       "      <td>100.0</td>\n",
       "      <td>5</td>\n",
       "    </tr>\n",
       "    <tr>\n",
       "      <th>24</th>\n",
       "      <td>126</td>\n",
       "      <td>Irene</td>\n",
       "      <td>Mikkilineni</td>\n",
       "      <td>irene.mikkilineni@sqltutorial.org</td>\n",
       "      <td>650.124.1224</td>\n",
       "      <td>1998-09-28</td>\n",
       "      <td>18</td>\n",
       "      <td>2700.0</td>\n",
       "      <td>120.0</td>\n",
       "      <td>5</td>\n",
       "    </tr>\n",
       "    <tr>\n",
       "      <th>25</th>\n",
       "      <td>145</td>\n",
       "      <td>John</td>\n",
       "      <td>Russell</td>\n",
       "      <td>john.russell@sqltutorial.org</td>\n",
       "      <td>None</td>\n",
       "      <td>1996-10-01</td>\n",
       "      <td>15</td>\n",
       "      <td>14000.0</td>\n",
       "      <td>100.0</td>\n",
       "      <td>8</td>\n",
       "    </tr>\n",
       "    <tr>\n",
       "      <th>26</th>\n",
       "      <td>146</td>\n",
       "      <td>Karen</td>\n",
       "      <td>Partners</td>\n",
       "      <td>karen.partners@sqltutorial.org</td>\n",
       "      <td>None</td>\n",
       "      <td>1997-01-05</td>\n",
       "      <td>15</td>\n",
       "      <td>13500.0</td>\n",
       "      <td>100.0</td>\n",
       "      <td>8</td>\n",
       "    </tr>\n",
       "    <tr>\n",
       "      <th>27</th>\n",
       "      <td>176</td>\n",
       "      <td>Jonathon</td>\n",
       "      <td>Taylor</td>\n",
       "      <td>jonathon.taylor@sqltutorial.org</td>\n",
       "      <td>None</td>\n",
       "      <td>1998-03-24</td>\n",
       "      <td>16</td>\n",
       "      <td>8600.0</td>\n",
       "      <td>100.0</td>\n",
       "      <td>8</td>\n",
       "    </tr>\n",
       "    <tr>\n",
       "      <th>28</th>\n",
       "      <td>177</td>\n",
       "      <td>Jack</td>\n",
       "      <td>Livingston</td>\n",
       "      <td>jack.livingston@sqltutorial.org</td>\n",
       "      <td>None</td>\n",
       "      <td>1998-04-23</td>\n",
       "      <td>16</td>\n",
       "      <td>8400.0</td>\n",
       "      <td>100.0</td>\n",
       "      <td>8</td>\n",
       "    </tr>\n",
       "    <tr>\n",
       "      <th>29</th>\n",
       "      <td>178</td>\n",
       "      <td>Kimberely</td>\n",
       "      <td>Grant</td>\n",
       "      <td>kimberely.grant@sqltutorial.org</td>\n",
       "      <td>None</td>\n",
       "      <td>1999-05-24</td>\n",
       "      <td>16</td>\n",
       "      <td>7000.0</td>\n",
       "      <td>100.0</td>\n",
       "      <td>8</td>\n",
       "    </tr>\n",
       "    <tr>\n",
       "      <th>30</th>\n",
       "      <td>179</td>\n",
       "      <td>Charles</td>\n",
       "      <td>Johnson</td>\n",
       "      <td>charles.johnson@sqltutorial.org</td>\n",
       "      <td>None</td>\n",
       "      <td>2000-01-04</td>\n",
       "      <td>16</td>\n",
       "      <td>6200.0</td>\n",
       "      <td>100.0</td>\n",
       "      <td>8</td>\n",
       "    </tr>\n",
       "    <tr>\n",
       "      <th>31</th>\n",
       "      <td>192</td>\n",
       "      <td>Sarah</td>\n",
       "      <td>Bell</td>\n",
       "      <td>sarah.bell@sqltutorial.org</td>\n",
       "      <td>650.501.1876</td>\n",
       "      <td>1996-02-04</td>\n",
       "      <td>17</td>\n",
       "      <td>4000.0</td>\n",
       "      <td>123.0</td>\n",
       "      <td>5</td>\n",
       "    </tr>\n",
       "    <tr>\n",
       "      <th>32</th>\n",
       "      <td>193</td>\n",
       "      <td>Britney</td>\n",
       "      <td>Everett</td>\n",
       "      <td>britney.everett@sqltutorial.org</td>\n",
       "      <td>650.501.2876</td>\n",
       "      <td>1997-03-03</td>\n",
       "      <td>17</td>\n",
       "      <td>3900.0</td>\n",
       "      <td>123.0</td>\n",
       "      <td>5</td>\n",
       "    </tr>\n",
       "    <tr>\n",
       "      <th>33</th>\n",
       "      <td>200</td>\n",
       "      <td>Jennifer</td>\n",
       "      <td>Whalen</td>\n",
       "      <td>jennifer.whalen@sqltutorial.org</td>\n",
       "      <td>515.123.4444</td>\n",
       "      <td>1987-09-17</td>\n",
       "      <td>3</td>\n",
       "      <td>4400.0</td>\n",
       "      <td>101.0</td>\n",
       "      <td>1</td>\n",
       "    </tr>\n",
       "    <tr>\n",
       "      <th>34</th>\n",
       "      <td>201</td>\n",
       "      <td>Michael</td>\n",
       "      <td>Hartstein</td>\n",
       "      <td>michael.hartstein@sqltutorial.org</td>\n",
       "      <td>515.123.5555</td>\n",
       "      <td>1996-02-17</td>\n",
       "      <td>10</td>\n",
       "      <td>13000.0</td>\n",
       "      <td>100.0</td>\n",
       "      <td>2</td>\n",
       "    </tr>\n",
       "    <tr>\n",
       "      <th>35</th>\n",
       "      <td>202</td>\n",
       "      <td>Pat</td>\n",
       "      <td>Fay</td>\n",
       "      <td>pat.fay@sqltutorial.org</td>\n",
       "      <td>603.123.6666</td>\n",
       "      <td>1997-08-17</td>\n",
       "      <td>11</td>\n",
       "      <td>6000.0</td>\n",
       "      <td>201.0</td>\n",
       "      <td>2</td>\n",
       "    </tr>\n",
       "    <tr>\n",
       "      <th>36</th>\n",
       "      <td>203</td>\n",
       "      <td>Susan</td>\n",
       "      <td>Mavris</td>\n",
       "      <td>susan.mavris@sqltutorial.org</td>\n",
       "      <td>515.123.7777</td>\n",
       "      <td>1994-06-07</td>\n",
       "      <td>8</td>\n",
       "      <td>6500.0</td>\n",
       "      <td>101.0</td>\n",
       "      <td>4</td>\n",
       "    </tr>\n",
       "    <tr>\n",
       "      <th>37</th>\n",
       "      <td>204</td>\n",
       "      <td>Hermann</td>\n",
       "      <td>Baer</td>\n",
       "      <td>hermann.baer@sqltutorial.org</td>\n",
       "      <td>515.123.8888</td>\n",
       "      <td>1994-06-07</td>\n",
       "      <td>12</td>\n",
       "      <td>10000.0</td>\n",
       "      <td>101.0</td>\n",
       "      <td>7</td>\n",
       "    </tr>\n",
       "    <tr>\n",
       "      <th>38</th>\n",
       "      <td>205</td>\n",
       "      <td>Shelley</td>\n",
       "      <td>Higgins</td>\n",
       "      <td>shelley.higgins@sqltutorial.org</td>\n",
       "      <td>515.123.8080</td>\n",
       "      <td>1994-06-07</td>\n",
       "      <td>2</td>\n",
       "      <td>12000.0</td>\n",
       "      <td>101.0</td>\n",
       "      <td>11</td>\n",
       "    </tr>\n",
       "    <tr>\n",
       "      <th>39</th>\n",
       "      <td>206</td>\n",
       "      <td>William</td>\n",
       "      <td>Gietz</td>\n",
       "      <td>william.gietz@sqltutorial.org</td>\n",
       "      <td>515.123.8181</td>\n",
       "      <td>1994-06-07</td>\n",
       "      <td>1</td>\n",
       "      <td>8300.0</td>\n",
       "      <td>205.0</td>\n",
       "      <td>11</td>\n",
       "    </tr>\n",
       "  </tbody>\n",
       "</table>\n",
       "</div>"
      ],
      "text/plain": [
       "    employee_id   first_name    last_name                              email  \\\n",
       "0           100       Steven         King        steven.king@sqltutorial.org   \n",
       "1           101        Neena      Kochhar      neena.kochhar@sqltutorial.org   \n",
       "2           102          Lex      De Haan        lex.de haan@sqltutorial.org   \n",
       "3           103    Alexander       Hunold   alexander.hunold@sqltutorial.org   \n",
       "4           104        Bruce        Ernst        bruce.ernst@sqltutorial.org   \n",
       "5           105        David       Austin       david.austin@sqltutorial.org   \n",
       "6           106        Valli    Pataballa    valli.pataballa@sqltutorial.org   \n",
       "7           107        Diana      Lorentz      diana.lorentz@sqltutorial.org   \n",
       "8           108        Nancy    Greenberg    nancy.greenberg@sqltutorial.org   \n",
       "9           109       Daniel       Faviet      daniel.faviet@sqltutorial.org   \n",
       "10          110         John         Chen          john.chen@sqltutorial.org   \n",
       "11          111       Ismael      Sciarra     ismael.sciarra@sqltutorial.org   \n",
       "12          112  Jose Manuel        Urman  jose manuel.urman@sqltutorial.org   \n",
       "13          113         Luis         Popp          luis.popp@sqltutorial.org   \n",
       "14          114          Den     Raphaely       den.raphaely@sqltutorial.org   \n",
       "15          115    Alexander         Khoo     alexander.khoo@sqltutorial.org   \n",
       "16          116       Shelli        Baida       shelli.baida@sqltutorial.org   \n",
       "17          117        Sigal       Tobias       sigal.tobias@sqltutorial.org   \n",
       "18          118          Guy       Himuro         guy.himuro@sqltutorial.org   \n",
       "19          119        Karen   Colmenares   karen.colmenares@sqltutorial.org   \n",
       "20          120      Matthew        Weiss      matthew.weiss@sqltutorial.org   \n",
       "21          121         Adam        Fripp         adam.fripp@sqltutorial.org   \n",
       "22          122        Payam     Kaufling     payam.kaufling@sqltutorial.org   \n",
       "23          123       Shanta      Vollman     shanta.vollman@sqltutorial.org   \n",
       "24          126        Irene  Mikkilineni  irene.mikkilineni@sqltutorial.org   \n",
       "25          145         John      Russell       john.russell@sqltutorial.org   \n",
       "26          146        Karen     Partners     karen.partners@sqltutorial.org   \n",
       "27          176     Jonathon       Taylor    jonathon.taylor@sqltutorial.org   \n",
       "28          177         Jack   Livingston    jack.livingston@sqltutorial.org   \n",
       "29          178    Kimberely        Grant    kimberely.grant@sqltutorial.org   \n",
       "30          179      Charles      Johnson    charles.johnson@sqltutorial.org   \n",
       "31          192        Sarah         Bell         sarah.bell@sqltutorial.org   \n",
       "32          193      Britney      Everett    britney.everett@sqltutorial.org   \n",
       "33          200     Jennifer       Whalen    jennifer.whalen@sqltutorial.org   \n",
       "34          201      Michael    Hartstein  michael.hartstein@sqltutorial.org   \n",
       "35          202          Pat          Fay            pat.fay@sqltutorial.org   \n",
       "36          203        Susan       Mavris       susan.mavris@sqltutorial.org   \n",
       "37          204      Hermann         Baer       hermann.baer@sqltutorial.org   \n",
       "38          205      Shelley      Higgins    shelley.higgins@sqltutorial.org   \n",
       "39          206      William        Gietz      william.gietz@sqltutorial.org   \n",
       "\n",
       "    phone_number   hire_date  job_id   salary  manager_id  department_id  \n",
       "0   515.123.4567  1987-06-17       4  24000.0         NaN              9  \n",
       "1   515.123.4568  1989-09-21       5  17000.0       100.0              9  \n",
       "2   515.123.4569  1993-01-13       5  17000.0       100.0              9  \n",
       "3   590.423.4567  1990-01-03       9   9000.0       102.0              6  \n",
       "4   590.423.4568  1991-05-21       9   6000.0       103.0              6  \n",
       "5   590.423.4569  1997-06-25       9   4800.0       103.0              6  \n",
       "6   590.423.4560  1998-02-05       9   4800.0       103.0              6  \n",
       "7   590.423.5567  1999-02-07       9   4200.0       103.0              6  \n",
       "8   515.124.4569  1994-08-17       7  12000.0       101.0             10  \n",
       "9   515.124.4169  1994-08-16       6   9000.0       108.0             10  \n",
       "10  515.124.4269  1997-09-28       6   8200.0       108.0             10  \n",
       "11  515.124.4369  1997-09-30       6   7700.0       108.0             10  \n",
       "12  515.124.4469  1998-03-07       6   7800.0       108.0             10  \n",
       "13  515.124.4567  1999-12-07       6   6900.0       108.0             10  \n",
       "14  515.127.4561  1994-12-07      14  11000.0       100.0              3  \n",
       "15  515.127.4562  1995-05-18      13   3100.0       114.0              3  \n",
       "16  515.127.4563  1997-12-24      13   2900.0       114.0              3  \n",
       "17  515.127.4564  1997-07-24      13   2800.0       114.0              3  \n",
       "18  515.127.4565  1998-11-15      13   2600.0       114.0              3  \n",
       "19  515.127.4566  1999-08-10      13   2500.0       114.0              3  \n",
       "20  650.123.1234  1996-07-18      19   8000.0       100.0              5  \n",
       "21  650.123.2234  1997-04-10      19   8200.0       100.0              5  \n",
       "22  650.123.3234  1995-05-01      19   7900.0       100.0              5  \n",
       "23  650.123.4234  1997-10-10      19   6500.0       100.0              5  \n",
       "24  650.124.1224  1998-09-28      18   2700.0       120.0              5  \n",
       "25          None  1996-10-01      15  14000.0       100.0              8  \n",
       "26          None  1997-01-05      15  13500.0       100.0              8  \n",
       "27          None  1998-03-24      16   8600.0       100.0              8  \n",
       "28          None  1998-04-23      16   8400.0       100.0              8  \n",
       "29          None  1999-05-24      16   7000.0       100.0              8  \n",
       "30          None  2000-01-04      16   6200.0       100.0              8  \n",
       "31  650.501.1876  1996-02-04      17   4000.0       123.0              5  \n",
       "32  650.501.2876  1997-03-03      17   3900.0       123.0              5  \n",
       "33  515.123.4444  1987-09-17       3   4400.0       101.0              1  \n",
       "34  515.123.5555  1996-02-17      10  13000.0       100.0              2  \n",
       "35  603.123.6666  1997-08-17      11   6000.0       201.0              2  \n",
       "36  515.123.7777  1994-06-07       8   6500.0       101.0              4  \n",
       "37  515.123.8888  1994-06-07      12  10000.0       101.0              7  \n",
       "38  515.123.8080  1994-06-07       2  12000.0       101.0             11  \n",
       "39  515.123.8181  1994-06-07       1   8300.0       205.0             11  "
      ]
     },
     "execution_count": 79,
     "metadata": {},
     "output_type": "execute_result"
    }
   ],
   "source": [
    "pd.read_sql(\"SELECT * FROM employees\", connection)"
   ]
  },
  {
   "cell_type": "code",
   "execution_count": null,
   "id": "af1ab6cf-0a75-4811-97f9-b5819404b5b8",
   "metadata": {},
   "outputs": [],
   "source": []
  }
 ],
 "metadata": {
  "kernelspec": {
   "display_name": "Python 3 (ipykernel)",
   "language": "python",
   "name": "python3"
  },
  "language_info": {
   "codemirror_mode": {
    "name": "ipython",
    "version": 3
   },
   "file_extension": ".py",
   "mimetype": "text/x-python",
   "name": "python",
   "nbconvert_exporter": "python",
   "pygments_lexer": "ipython3",
   "version": "3.9.13"
  }
 },
 "nbformat": 4,
 "nbformat_minor": 5
}
