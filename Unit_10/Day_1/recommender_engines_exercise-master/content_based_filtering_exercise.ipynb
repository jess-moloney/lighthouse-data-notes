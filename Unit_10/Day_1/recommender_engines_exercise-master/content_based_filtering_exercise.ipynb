{
 "cells": [
  {
   "cell_type": "code",
   "execution_count": 1,
   "metadata": {
    "ExecuteTime": {
     "end_time": "2020-04-30T11:38:37.047559Z",
     "start_time": "2020-04-30T11:38:35.905481Z"
    }
   },
   "outputs": [],
   "source": [
    "# import pandas\n",
    "import pandas as pd\n",
    "\n",
    "# import TfidfVectorizer\n",
    "from sklearn.feature_extraction.text import TfidfVectorizer\n",
    "\n",
    "# import cosine_similarity\n",
    "from sklearn.metrics.pairwise import cosine_similarity"
   ]
  },
  {
   "cell_type": "code",
   "execution_count": 2,
   "metadata": {
    "ExecuteTime": {
     "end_time": "2020-04-30T11:38:37.699655Z",
     "start_time": "2020-04-30T11:38:37.111767Z"
    }
   },
   "outputs": [],
   "source": [
    "# import data\n",
    "df = pd.read_csv(\"https://raw.githubusercontent.com/nikitaa30/Content-based-Recommender-System/master/sample-data.csv\")"
   ]
  },
  {
   "cell_type": "code",
   "execution_count": 3,
   "metadata": {},
   "outputs": [
    {
     "data": {
      "text/html": [
       "<div>\n",
       "<style scoped>\n",
       "    .dataframe tbody tr th:only-of-type {\n",
       "        vertical-align: middle;\n",
       "    }\n",
       "\n",
       "    .dataframe tbody tr th {\n",
       "        vertical-align: top;\n",
       "    }\n",
       "\n",
       "    .dataframe thead th {\n",
       "        text-align: right;\n",
       "    }\n",
       "</style>\n",
       "<table border=\"1\" class=\"dataframe\">\n",
       "  <thead>\n",
       "    <tr style=\"text-align: right;\">\n",
       "      <th></th>\n",
       "      <th>id</th>\n",
       "      <th>description</th>\n",
       "    </tr>\n",
       "  </thead>\n",
       "  <tbody>\n",
       "    <tr>\n",
       "      <th>0</th>\n",
       "      <td>1</td>\n",
       "      <td>Active classic boxers - There's a reason why o...</td>\n",
       "    </tr>\n",
       "    <tr>\n",
       "      <th>1</th>\n",
       "      <td>2</td>\n",
       "      <td>Active sport boxer briefs - Skinning up Glory ...</td>\n",
       "    </tr>\n",
       "    <tr>\n",
       "      <th>2</th>\n",
       "      <td>3</td>\n",
       "      <td>Active sport briefs - These superbreathable no...</td>\n",
       "    </tr>\n",
       "    <tr>\n",
       "      <th>3</th>\n",
       "      <td>4</td>\n",
       "      <td>Alpine guide pants - Skin in, climb ice, switc...</td>\n",
       "    </tr>\n",
       "    <tr>\n",
       "      <th>4</th>\n",
       "      <td>5</td>\n",
       "      <td>Alpine wind jkt - On high ridges, steep ice an...</td>\n",
       "    </tr>\n",
       "    <tr>\n",
       "      <th>...</th>\n",
       "      <td>...</td>\n",
       "      <td>...</td>\n",
       "    </tr>\n",
       "    <tr>\n",
       "      <th>495</th>\n",
       "      <td>496</td>\n",
       "      <td>Cap 2 bottoms - Cut loose from the maddening c...</td>\n",
       "    </tr>\n",
       "    <tr>\n",
       "      <th>496</th>\n",
       "      <td>497</td>\n",
       "      <td>Cap 2 crew - This crew takes the edge off fick...</td>\n",
       "    </tr>\n",
       "    <tr>\n",
       "      <th>497</th>\n",
       "      <td>498</td>\n",
       "      <td>All-time shell - No need to use that morning T...</td>\n",
       "    </tr>\n",
       "    <tr>\n",
       "      <th>498</th>\n",
       "      <td>499</td>\n",
       "      <td>All-wear cargo shorts - All-Wear Cargo Shorts ...</td>\n",
       "    </tr>\n",
       "    <tr>\n",
       "      <th>499</th>\n",
       "      <td>500</td>\n",
       "      <td>All-wear shorts - Time to simplify? Our All-We...</td>\n",
       "    </tr>\n",
       "  </tbody>\n",
       "</table>\n",
       "<p>500 rows × 2 columns</p>\n",
       "</div>"
      ],
      "text/plain": [
       "      id                                        description\n",
       "0      1  Active classic boxers - There's a reason why o...\n",
       "1      2  Active sport boxer briefs - Skinning up Glory ...\n",
       "2      3  Active sport briefs - These superbreathable no...\n",
       "3      4  Alpine guide pants - Skin in, climb ice, switc...\n",
       "4      5  Alpine wind jkt - On high ridges, steep ice an...\n",
       "..   ...                                                ...\n",
       "495  496  Cap 2 bottoms - Cut loose from the maddening c...\n",
       "496  497  Cap 2 crew - This crew takes the edge off fick...\n",
       "497  498  All-time shell - No need to use that morning T...\n",
       "498  499  All-wear cargo shorts - All-Wear Cargo Shorts ...\n",
       "499  500  All-wear shorts - Time to simplify? Our All-We...\n",
       "\n",
       "[500 rows x 2 columns]"
      ]
     },
     "execution_count": 3,
     "metadata": {},
     "output_type": "execute_result"
    }
   ],
   "source": [
    "df"
   ]
  },
  {
   "cell_type": "markdown",
   "metadata": {},
   "source": [
    "* explore DataFrame"
   ]
  },
  {
   "cell_type": "code",
   "execution_count": 5,
   "metadata": {},
   "outputs": [
    {
     "data": {
      "text/plain": [
       "id   description                                                                                                                                                                                                                                                                                                                                                                                                                                                                                                                                                                                                                                                                                                                                                                                                                                                                                                                                                                                                                                                                                                                                                                                                                                                                                                                                                                                                                                                                                                                                                                                                                                                                                                    \n",
       "1    Active classic boxers - There's a reason why our boxers are a cult favorite - they keep their cool, especially in sticky situations. The quick-drying, lightweight underwear takes up minimal space in a travel pack. An exposed, brushed waistband offers next-to-skin softness, five-panel construction with a traditional boxer back for a classic fit, and a functional fly. Made of 3.7-oz 100% recycled polyester with moisture-wicking performance. Inseam (size M) is 4 1/2\". Recyclable through the Common Threads Recycling Program.<br><br><b>Details:</b><ul> <li>\"Silky Capilene 1 fabric is ultralight, breathable and quick-to-dry\"</li> <li>\"Exposed, brushed elastic waistband for comfort\"</li> <li>5-panel construction with traditional boxer back</li> <li>\"Inseam (size M) is 4 1/2\"\"\"</li></ul><br><br><b>Fabric: </b>3.7-oz 100% all-recycled polyester with Gladiodor natural odor control for the garment. Recyclable through the Common Threads Recycling Program<br><br><b>Weight: </b>99 g (3.5 oz)<br><br>Made in Mexico.                                                                                                                                                                                                                                                                                                                                                                                                                                                                                                                                                                                                                                                            1\n",
       "330  Borderless zip-off pants - Worn as capris on one side of the border and pants on the other, these versatile hybrids are practically bilingual. Made of a moisture-wicking a nylon/spandex fabric blend with built-in 40-UPF sun protection, they're lightweight and dry in a jiffy. With a zip fly and double-snap closure waistband, two front patch pockets, two welted, mesh-lined back pockets and a phone-fitting leg pocket. Articulated knee patches add mobility. Pants inseam (size 8) is 32\"; capris, 18\". Recyclable through the Common Threads Recycling Program.<br><br><b>Details:</b><ul> <li>\"Stretchy recycled nylon fabric combines wicking performance, mobility and good looks; zip fly with double-snap closure\"</li> <li>Waistband with belt loops</li> <li>Front patch pockets; welted back pockets; zippered security patch pocket on right leg</li> <li>Articulated knee patches</li> <li>Zips off to capris</li> <li>Regular rise</li> <li>\"Pants inseam (size 8) is 32\"\"; capris inseam (size 8) is 18\"\"\"</li></ul><br><br><b>Fabric: </b>4-oz 95% nylon (60% recycled)/5% spandex with DWR (durable water repellent) finish. Recyclable through the Common Threads Recycling Program<br><br><b>Weight: </b>(320 g 11.1 oz)<br><br>Made in Vietnam.                                                                                                                                                                                                                                                                                                                                                                                                                                     1\n",
       "343  Rock guide pants - First and foremost, these lightweight, soft, stretch-woven nylon pants with 2-way stretch serve a primary purpose: climbing. They have articulated knees and a gusseted crotch to match body dynamics and a 2-way zippered fly for hassle-free relief while wearing a harness. The athletic (not baggy) cut includes straight lower legs with a wide hem, making for easy-to-roll-up cuffs that stay in place through footwork-intensive routes. The button waist has belt loops and a brushed interior for next-to-skin comfort. Pockets include two handwarmers, one rear zippered hip and one stitched-on zippered thigh. With 40-UPF sun protection. Inseam (size 32) is 32\". Recyclable through the Common Threads Recycling Program.<br><br><b>Details:</b><ul> <li>\"Lightweight, stretch-woven nylon/spandex with Deluge DWR (durable water repellent) finish\"</li> <li>Provides 40-UPF sun protection</li> <li>Zip fly with top snap</li> <li>Belt loops</li> <li>\"Pockets: handwarmers, one rear zippered hip, stitched on zippered thigh\"</li> <li>Gusseted crotch</li> <li>Articulated knees; wider hem ensures pants stay rolled up</li></ul><br><br><b>Fabric: </b>4.5-oz 96-denier 96% stretch-woven nylon/4% spandex with Deluge DWR finish. Recyclable through the Common Threads Recycling Program<br><br><b>Weight: </b>(302 g 10.5 oz)<br><br>Made in Vietnam.                                                                                                                                                                                                                                                                                                               1\n",
       "342  Riverwalker vest - When the caddis are coming off so thick you have to breathe carefully and the surface is boiling, you need quick, easy access to all your gear. The Riverwalker is our classic Mesh Vest updated with 20 years of design experience, putting everything you need right where you need it. Convenient, easy-to-use curved zippers provide superior access and a cleaner, more fly-line-friendly exterior. The Riverwalker now has dual closures (zipper and clasp) for a versatile fit as well as new, 100% nylon pockets. More features: polyester mesh body for breathability and low moisture retention, padded neck support, storage specifically designed for fly boxes, tippet and tools, integrated attachment points, a removable fly patch and a built-in rod holder and two D-rings on front, one on back. With two internal zippered pockets.<br><br><b>Details:</b><ul> <li>\"Mesh and tough woven fabric combine for durability, comfort, breathability and low moisture retention; upper curved zipper panels maximize access\"</li> <li>Multiple fly box; tippet tool and accessory pockets for on-the-water organization; padded neck support</li> <li>\"Integrated attachment points, removable/stowable fly patch, built-in rod holder\"</li> <li>Back zip storage capability</li> <li>Dual closures (zipper and clasp) allow for a customized fit</li> <li>Two Beastie D-rings on front one on back</li> <li>Large haul loop for hanging/carrying</li></ul><br><br><b>Fabric: </b>Body: 4.6-oz polyester mesh. Pockets: 4.3-oz 100% nylon with DWR (durable water repellent) finish. Collar: 3.8-oz 100% polyester<br><br><b>Weight: </b>(478 g 16.6 oz)<br><br>Made in China.    1\n",
       "341  Cap 1 scoop - This silky top is designed for desert runs and other fast-forward pursuits in hot temps. Made from our lightest-weight Capilene performance baselayer fabric, it wicks moisture, breathes, and provides sun protection. A slightly scooped neck with self-fabric binding is soft and pliable, and raglan-style sleeves won't chafe beneath pack straps. Made from 3.7-oz 100% all-recycled polyester, with Gladiodor natural odor control for the garment and 15-UPF sun protection. Tuckable length. Recyclable through the Common Threads Recycling Program.<br><br><b>Details:</b><ul> <li>Silky soft Capilene 1 is the lightest of our technical baselayer fabrics</li> <li>\"Fast-drying, highly breathable and sleek, it provides 15-UPF sun protection and can be worn either on its own or under layers in cooler temps\"</li> <li>Neck is slightly scooped with pliable self-fabric binding</li> <li>Raglan sleeves reduce chafe beneath pack straps</li> <li>Cut long enough to tuck in</li></ul><br><br><b>Fabric: </b>3.7-oz 100% recycled polyester with Gladiodor natural odor control for the garment and 15-UPF sun protection. Recyclable through the Common Threads Recycling Program<br><br><b>Weight: </b>(129 g 4.5 oz)<br><br>Made in USA.                                                                                                                                                                                                                                                                                                                                                                                                                                       1\n",
       "                                                                                                                                                                                                                                                                                                                                                                                                                                                                                                                                                                                                                                                                                                                                                                                                                                                                                                                                                                                                                                                                                                                                                                                                                                                                                                                                                                                                                                                                                                                                                                                                                                                                                                                       ..\n",
       "162  Astrid tank - Conjure up Cardiff's shouldery waves with the Astrid Tank. The unbelievably soft, strappy tank has a flattering scoop neck and is made from our lightest weight organic cotton (55%)/Tencel jersey (45%) fabric blend. Feminine neck gathers and a wide-banded hem at the hip lend a flattering, drapy fit. Recyclable through the Common Threads Recycling Program.<br><br><b>Details:</b><ul> <li>Our lightest weight organic cotton and Tencel blend</li> <li>Strappy tank with flattering scoop neck</li> <li>Gathers at neck for fit and drape</li> <li>Wide-banded hem</li> <li>Hip length</li></ul><br><br><b>Fabric: </b>4-oz 55% organic cotton/45% Tencel jersey. Recyclable through the Common Threads Recycling Program<br><br><b>Weight: </b>(115 g 4 oz)<br><br>Made in Thailand.                                                                                                                                                                                                                                                                                                                                                                                                                                                                                                                                                                                                                                                                                                                                                                                                                                                                                                      1\n",
       "161  Aravis jkt - The highly adaptable Aravis Jacket eases the transition from icy hibernation to full-fledged charging. The lightweight jacket's dense, double-sided polyester fleece fabric (100%) is brushed for softness; Capilene 3 fabric trims the neck, pockets, cuffs and hem lending a clean style. Full front zipper and stand-up collar preserve warmth. Zippered handwarmer pockets shield chilled paws; interior drop-in pockets and zippered sleeve security pocket stash keys and snacks. Recyclable through the Common Threads Recycling Program.<br><br><b>Details:</b><ul> <li>Made of cozy soft polyester fleece</li> <li>Full front zipper with stand up collar for warmth</li> <li>\"Capilene 3 fabric trims neck, pockets, cuffs and hem\"</li> <li>Zippered handwarmer pockets; zippered sleeve security pocket; interior drop-in pockets</li></ul><br><br><b>Fabric: </b>5.9-oz 100% polyester brushed double-sided fleece. Recyclable through the Common Threads Recycling Program<br><br><b>Weight: </b>(369 g 12.8 oz)<br><br>Made in Vietnam.                                                                                                                                                                                                                                                                                                                                                                                                                                                                                                                                                                                                                                                1\n",
       "160  Aravis hoody - The Lochsa River season ushers in snowmelt wavetrains and ice cream headaches. Warm up at the take-out with the Aravis Hoody - a cozy full-zip hooded cardigan made from exceptionally soft, brushed polyester. It has a shaped fit, Capilene-trimmed edges and a fitted hood. Pockets: two zippered handwarmers, a left-sleeve security and interior drop-ins. Recyclable through the Common Threads Recycling Program.<br><br><b>Details:</b><ul> <li>Made from cozy soft polyester fleece</li> <li>Updated hood styling</li> <li>Full front zipper</li> <li>\"Capilene 3 fabric trims hood, pockets, cuffs and hem\"</li> <li>Hooded for added warmth</li> <li>Zippered handwarmer pockets; zippered sleeve security pocket; interior drop-in pockets</li></ul><br><br><b>Fabric: </b>5.9-oz 100% polyester brushed double-sided fleece. Recyclable through the Common Threads Recycling Program<br><br><b>Weight: </b>340 g (12 oz)<br><br>Made in Vietnam.                                                                                                                                                                                                                                                                                                                                                                                                                                                                                                                                                                                                                                                                                                                                       1\n",
       "159  Alpine guide pants - Skin in, climb ice, switch to rock, traverse a knife-edge ridge and boogie back down - these durable, weather-resistant and breathable soft-shell pants keep stride on every mountain endeavor. The midweight stretch-woven polyester won't restrict your moves, and the brushed interior maintains next-to-skin comfort. A 2-way zippered fly keeps things easy with a harness on, and the gusseted, zippered cuffs have 2-position snaps and tie-down loops. With water-resistant zippered pockets: two front, two thigh, one back hip. Recyclable through the Common Threads Recycling Program.<br><br><b>Details:</b><ul> <li>Durable stretch-woven polyester is water- and wind-resistant and highly breathable</li> <li>Brushed interior for next-to-skin comfort</li> <li>Waistband has elastic on back and belt loops; zippered fly</li> <li>\"External pockets: two front slash, two glued-on thigh; all with DWR (durable water repellent) treated zippers\"</li> <li>\"Gusseted, adjustable cuffs have two positions and tie-down loops\"</li></ul><br><br><b>Fabric: </b>7.6-oz 90-denier 92% polyester (47% recycled)/8% spandex with Deluge DWR finish. Recyclable through the Common Threads Recycling Program<br><br><b>Weight: </b>(577 g 20 oz)<br><br>Made in Vietnam.                                                                                                                                                                                                                                                                                                                                                                                                         1\n",
       "500  All-wear shorts - Time to simplify? Our All-Wear shorts prove that one short really can go anywhere. Made from comfortable garment-washed 100% organic cotton canvas, they withstand hard work and arduous journeys and remain unfazed. Durable but soft to the touch, they feature two wide-entry drop-in front pockets, two rear welted pockets and an 8 1/2\" inseam (size 32). Recyclable through the Common Threads Recycling Program.<br><br><b>Details:</b><ul> <li>Lightweight yet durable organic cotton</li> <li>Flat front</li> <li>Zip fly with button closure</li> <li>Generous wide-entry drop-in front pockets</li> <li>Welted back pockets</li> <li>\"Inseam is 8 1/2\"\"\"</li> <li>Updated fit</li></ul><br><br><b>Fabric: </b>5.2-oz 100% organic cotton canvas. Recyclable through the Common Threads Recycling Program<br><br><b>Weight: </b>(282 g 9.8 oz)<br><br>Made in Thailand.                                                                                                                                                                                                                                                                                                                                                                                                                                                                                                                                                                                                                                                                                                                                                                                                               1\n",
       "Length: 500, dtype: int64"
      ]
     },
     "execution_count": 5,
     "metadata": {},
     "output_type": "execute_result"
    }
   ],
   "source": [
    "df.value_counts()"
   ]
  },
  {
   "cell_type": "markdown",
   "metadata": {},
   "source": [
    "We will be using Tf-Idf to find similar items based on description\n",
    "* instantiate TF-IDF"
   ]
  },
  {
   "cell_type": "code",
   "execution_count": 15,
   "metadata": {
    "ExecuteTime": {
     "end_time": "2020-04-30T11:34:35.873143Z",
     "start_time": "2020-04-30T11:34:35.867457Z"
    }
   },
   "outputs": [],
   "source": [
    "vectorizer = TfidfVectorizer(strip_accents='unicode',stop_words='english', min_df=2)"
   ]
  },
  {
   "cell_type": "markdown",
   "metadata": {},
   "source": [
    "* fit and transform 'description' column with TFIDF"
   ]
  },
  {
   "cell_type": "code",
   "execution_count": 16,
   "metadata": {},
   "outputs": [],
   "source": [
    "tfidf_matrix = vectorizer.fit_transform(df['description'])"
   ]
  },
  {
   "cell_type": "code",
   "execution_count": 17,
   "metadata": {
    "ExecuteTime": {
     "end_time": "2020-04-30T11:34:36.771694Z",
     "start_time": "2020-04-30T11:34:36.413145Z"
    }
   },
   "outputs": [
    {
     "data": {
      "text/plain": [
       "(500, 2634)"
      ]
     },
     "execution_count": 17,
     "metadata": {},
     "output_type": "execute_result"
    }
   ],
   "source": [
    "tfidf_matrix.shape"
   ]
  },
  {
   "cell_type": "markdown",
   "metadata": {},
   "source": [
    "* calculate the cosine similarity of each item with every other item in the dataset, "
   ]
  },
  {
   "cell_type": "code",
   "execution_count": 18,
   "metadata": {},
   "outputs": [],
   "source": [
    "# Import linear_kernel\n",
    "from sklearn.metrics.pairwise import linear_kernel\n",
    "\n",
    "# Compute the cosine similarity matrix\n",
    "cosine_sim = linear_kernel(tfidf_matrix, tfidf_matrix)"
   ]
  },
  {
   "cell_type": "code",
   "execution_count": 21,
   "metadata": {},
   "outputs": [
    {
     "data": {
      "text/plain": [
       "array([[1.        , 0.32725079, 0.20330552, ..., 0.16423651, 0.20677301,\n",
       "        0.21969475],\n",
       "       [0.32725079, 1.        , 0.61821744, ..., 0.1232794 , 0.22894503,\n",
       "        0.19689612],\n",
       "       [0.20330552, 0.61821744, 1.        , ..., 0.11341077, 0.14528903,\n",
       "        0.16064326],\n",
       "       ...,\n",
       "       [0.16423651, 0.1232794 , 0.11341077, ..., 1.        , 0.13675708,\n",
       "        0.16426658],\n",
       "       [0.20677301, 0.22894503, 0.14528903, ..., 0.13675708, 1.        ,\n",
       "        0.66883065],\n",
       "       [0.21969475, 0.19689612, 0.16064326, ..., 0.16426658, 0.66883065,\n",
       "        1.        ]])"
      ]
     },
     "execution_count": 21,
     "metadata": {},
     "output_type": "execute_result"
    }
   ],
   "source": [
    "cosine_sim"
   ]
  },
  {
   "cell_type": "markdown",
   "metadata": {
    "ExecuteTime": {
     "end_time": "2020-04-30T11:35:42.314473Z",
     "start_time": "2020-04-30T11:35:41.640441Z"
    }
   },
   "source": [
    "* sort all items using their similarity for each item i, and store the values in dictionary `results`\n",
    "\n",
    "```\n",
    "results = {\n",
    "    \"1\": [5,7,9...],\n",
    "    \"2\": [45,2,3...]\n",
    "}\n",
    "```"
   ]
  },
  {
   "cell_type": "code",
   "execution_count": 24,
   "metadata": {},
   "outputs": [
    {
     "data": {
      "text/plain": [
       "0"
      ]
     },
     "execution_count": 24,
     "metadata": {},
     "output_type": "execute_result"
    }
   ],
   "source": [
    "#Construct a reverse map of indices and descriptions\n",
    "indices = pd.Series(df.index, index=df['description']).drop_duplicates()\n",
    "indices[0]"
   ]
  },
  {
   "cell_type": "code",
   "execution_count": 22,
   "metadata": {},
   "outputs": [
    {
     "data": {
      "text/plain": [
       "array([[424, 318,  41, ..., 493,  18,   0],\n",
       "       [318, 395,  47, ...,   0,   2,   1],\n",
       "       [318, 395,  47, ..., 494,   1,   2],\n",
       "       ...,\n",
       "       [147, 489, 331, ..., 385, 301, 497],\n",
       "       [318, 395,  68, ..., 461, 499, 498],\n",
       "       [318, 395,  68, ..., 462, 498, 499]], dtype=int64)"
      ]
     },
     "execution_count": 22,
     "metadata": {},
     "output_type": "execute_result"
    }
   ],
   "source": [
    "ordered_indices = cosine_sim.argsort() #smallest values to largest\n",
    "ordered_indices"
   ]
  },
  {
   "cell_type": "code",
   "execution_count": null,
   "metadata": {},
   "outputs": [],
   "source": [
    "results = {indices:ordered_indices for (key,value) in dictonary.items()}"
   ]
  },
  {
   "cell_type": "markdown",
   "metadata": {},
   "source": [
    "* create function `recommender` that will recommend similar products\n",
    "    * function must have two input params: **item_id** and **count** of similar products "
   ]
  },
  {
   "cell_type": "code",
   "execution_count": 39,
   "metadata": {},
   "outputs": [],
   "source": [
    "# Function that takes in id as input and outputs most similar ids\n",
    "def get_recommendations(id, count):\n",
    "\n",
    "    # Get the index of the id that matches the id\n",
    "    idx = indices[id]\n",
    "\n",
    "    # Get the pairwsie similarity scores of all ids with that id\n",
    "    sim_scores = list(enumerate(cosine_sim[idx]))\n",
    "\n",
    "    # Sort the ids based on the similarity scores\n",
    "    sim_scores = sorted(sim_scores, key=lambda x: x[1], reverse=True)\n",
    "\n",
    "    # Get the scores of the 10 most similar ids\n",
    "    sim_scores = sim_scores[1:count+1]\n",
    "\n",
    "    # Get the id indices\n",
    "    id_indices = [i[0] for i in sim_scores]\n",
    "\n",
    "    # Return the top 10 most similar ids\n",
    "    return df['description'].iloc[id_indices]"
   ]
  },
  {
   "cell_type": "markdown",
   "metadata": {},
   "source": [
    "* show top 5 the most similar items for item with idem_id = 11"
   ]
  },
  {
   "cell_type": "code",
   "execution_count": 40,
   "metadata": {},
   "outputs": [
    {
     "data": {
      "text/plain": [
       "401    River shorts - River life is mighty fine, but ...\n",
       "311    Baggies shorts - A loyal partner in grime, Bag...\n",
       "407    Baggies shorts - Summertime unwinds in a boist...\n",
       "427    Girl's baggies shorts - An everyday staple for...\n",
       "465    Baby baggies shorts - About 70% of the planet ...\n",
       "Name: description, dtype: object"
      ]
     },
     "execution_count": 40,
     "metadata": {},
     "output_type": "execute_result"
    }
   ],
   "source": [
    "get_recommendations(11, 5)"
   ]
  },
  {
   "cell_type": "code",
   "execution_count": 41,
   "metadata": {
    "ExecuteTime": {
     "end_time": "2020-04-30T11:36:55.945848Z",
     "start_time": "2020-04-30T11:36:55.933039Z"
    }
   },
   "outputs": [
    {
     "data": {
      "text/plain": [
       "'Baggies shorts - Even Baggies, our most popular shorts for anything, or nothing, occasionally need an update. This season we\\'ve increased the inseam length. Their casual fit, quick-drying water-repellent nylon and elasticized waistband with an internal drawstring remain the same as ever. Other features include a polyester mesh lining, a rear snap pocket and front pockets (with self-draining mesh corners) positioned to reduce drag in the water. Inseam (size M) is 7\". Recyclable through the Common Threads Recycling Program.<br><br><b>Details:</b><ul> <li>Quick-drying nylon with a DWR (durable water repellent) finish</li> <li>Elasticized waistband with internal drawstring; black mesh liner</li> <li>Vertical on-seam side pockets for reduced drag in the water; pocket bags have quick-drain-and-dry mesh corners; snap-closed back pocket</li> <li>\"Inseam is 7\"\"\"</li></ul><br><br><b>Fabric: </b>4.2-oz 100% nylon with a DWR finish. Lining: 5.2-oz 100% polyester mesh. Recyclable through the Common Threads Recycling Program<br><br><b>Weight: </b>(233 g 8.1 oz)<br><br>Made in Nicaragua.'"
      ]
     },
     "execution_count": 41,
     "metadata": {},
     "output_type": "execute_result"
    }
   ],
   "source": [
    "df['description'].iloc[11]"
   ]
  },
  {
   "cell_type": "code",
   "execution_count": null,
   "metadata": {},
   "outputs": [],
   "source": []
  }
 ],
 "metadata": {
  "kernelspec": {
   "display_name": "Python 3.9.13 64-bit",
   "language": "python",
   "name": "python3"
  },
  "language_info": {
   "codemirror_mode": {
    "name": "ipython",
    "version": 3
   },
   "file_extension": ".py",
   "mimetype": "text/x-python",
   "name": "python",
   "nbconvert_exporter": "python",
   "pygments_lexer": "ipython3",
   "version": "3.9.13"
  },
  "toc": {
   "base_numbering": 1,
   "nav_menu": {},
   "number_sections": true,
   "sideBar": true,
   "skip_h1_title": false,
   "title_cell": "Table of Contents",
   "title_sidebar": "Contents",
   "toc_cell": false,
   "toc_position": {},
   "toc_section_display": true,
   "toc_window_display": false
  },
  "varInspector": {
   "cols": {
    "lenName": 16,
    "lenType": 16,
    "lenVar": 40
   },
   "kernels_config": {
    "python": {
     "delete_cmd_postfix": "",
     "delete_cmd_prefix": "del ",
     "library": "var_list.py",
     "varRefreshCmd": "print(var_dic_list())"
    },
    "r": {
     "delete_cmd_postfix": ") ",
     "delete_cmd_prefix": "rm(",
     "library": "var_list.r",
     "varRefreshCmd": "cat(var_dic_list()) "
    }
   },
   "types_to_exclude": [
    "module",
    "function",
    "builtin_function_or_method",
    "instance",
    "_Feature"
   ],
   "window_display": false
  },
  "vscode": {
   "interpreter": {
    "hash": "11938c6bc6919ae2720b4d5011047913343b08a43b18698fd82dedb0d4417594"
   }
  }
 },
 "nbformat": 4,
 "nbformat_minor": 4
}
