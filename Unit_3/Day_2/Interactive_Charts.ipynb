{
 "cells": [
  {
   "cell_type": "code",
   "execution_count": 1,
   "metadata": {},
   "outputs": [],
   "source": [
    "# import the widgets\n",
    "import ipywidgets as widgets\n",
    "\n",
    "# import the interact and the interact_manual from widgetss\n",
    "from ipywidgets.widgets import interact, interact_manual\n",
    "\n",
    "# import pandas\n",
    "import pandas as pd\n",
    "\n",
    "\n",
    "# import plotly \n",
    "import plotly.graph_objects as go"
   ]
  },
  {
   "cell_type": "code",
   "execution_count": 2,
   "metadata": {},
   "outputs": [
    {
     "data": {
      "application/vnd.jupyter.widget-view+json": {
       "model_id": "8e640035b94441acb86af3138d13834f",
       "version_major": 2,
       "version_minor": 0
      },
      "text/plain": [
       "IntSlider(value=3, description='Slider:', max=10)"
      ]
     },
     "execution_count": 2,
     "metadata": {},
     "output_type": "execute_result"
    }
   ],
   "source": [
    "slider = widgets.IntSlider(\n",
    "    min=0,\n",
    "    max=10,\n",
    "    step=1,\n",
    "    description='Slider:',\n",
    "    value=3\n",
    ")\n",
    "\n",
    "slider"
   ]
  },
  {
   "cell_type": "code",
   "execution_count": 3,
   "metadata": {},
   "outputs": [
    {
     "name": "stdout",
     "output_type": "stream",
     "text": [
      "10\n"
     ]
    }
   ],
   "source": [
    "print(slider.value)"
   ]
  },
  {
   "cell_type": "code",
   "execution_count": 4,
   "metadata": {},
   "outputs": [
    {
     "name": "stdout",
     "output_type": "stream",
     "text": [
      "['Accordion', 'AppLayout', 'Audio', 'BoundedFloatText', 'BoundedIntText', 'Box', 'Button', 'ButtonStyle', 'CallbackDispatcher', 'Checkbox', 'Color', 'ColorPicker', 'ColorsInput', 'Combobox', 'Controller', 'CoreWidget', 'DOMWidget', 'DatePicker', 'Datetime', 'DatetimePicker', 'Dropdown', 'FileUpload', 'FloatLogSlider', 'FloatProgress', 'FloatRangeSlider', 'FloatSlider', 'FloatText', 'FloatsInput', 'GridBox', 'GridspecLayout', 'HBox', 'HTML', 'HTMLMath', 'Image', 'IntProgress', 'IntRangeSlider', 'IntSlider', 'IntText', 'IntsInput', 'Label', 'Layout', 'NaiveDatetimePicker', 'NumberFormat', 'Output', 'Password', 'Play', 'RadioButtons', 'Select', 'SelectMultiple', 'SelectionRangeSlider', 'SelectionSlider', 'SliderStyle', 'Stack', 'Style', 'Tab', 'TagsInput', 'Text', 'Textarea', 'TimePicker', 'ToggleButton', 'ToggleButtons', 'ToggleButtonsStyle', 'TwoByTwoLayout', 'TypedTuple', 'VBox', 'Valid', 'ValueWidget', 'Video', 'Widget', '__builtins__', '__cached__', '__doc__', '__file__', '__jupyter_widgets_base_version__', '__jupyter_widgets_controls_version__', '__loader__', '__name__', '__package__', '__path__', '__protocol_version__', '__spec__', '__version__', '_handle_ipython', '_version', 'dlink', 'docutils', 'domwidget', 'fixed', 'get_ipython', 'interact', 'interact_manual', 'interaction', 'interactive', 'interactive_output', 'jsdlink', 'jslink', 'link', 'load_ipython_extension', 'os', 'register', 'register_comm_target', 'trait_types', 'valuewidget', 'widget', 'widget_bool', 'widget_box', 'widget_button', 'widget_color', 'widget_controller', 'widget_core', 'widget_date', 'widget_datetime', 'widget_description', 'widget_float', 'widget_int', 'widget_layout', 'widget_link', 'widget_media', 'widget_output', 'widget_selection', 'widget_selectioncontainer', 'widget_serialization', 'widget_string', 'widget_style', 'widget_tagsinput', 'widget_templates', 'widget_time', 'widget_upload', 'widgets']\n"
     ]
    }
   ],
   "source": [
    "print(dir(widgets))"
   ]
  },
  {
   "cell_type": "code",
   "execution_count": 5,
   "metadata": {},
   "outputs": [],
   "source": [
    "# the data url\n",
    "url = \"https://data.london.gov.uk/download/number-international-visitors-london/b1e0f953-4c8a-4b45-95f5-e0d143d5641e/international-visitors-london-raw.csv\"\n",
    "\n",
    "# create the data-frame\n",
    "df_london = pd.read_csv(url, encoding= 'unicode_escape')\n",
    "df_london.columns = [\"year\",\"quarter\",\"market\",\"dur_stay\",\"mode\",\"purpose\",\"area\",\"visits\",\"spend\",\"nights\",\"sample\"]\n",
    "\n",
    "# sample 200 rows\n",
    "df = df_london.sample(200)"
   ]
  },
  {
   "cell_type": "code",
   "execution_count": 6,
   "metadata": {},
   "outputs": [
    {
     "data": {
      "text/html": [
       "<div>\n",
       "<style scoped>\n",
       "    .dataframe tbody tr th:only-of-type {\n",
       "        vertical-align: middle;\n",
       "    }\n",
       "\n",
       "    .dataframe tbody tr th {\n",
       "        vertical-align: top;\n",
       "    }\n",
       "\n",
       "    .dataframe thead th {\n",
       "        text-align: right;\n",
       "    }\n",
       "</style>\n",
       "<table border=\"1\" class=\"dataframe\">\n",
       "  <thead>\n",
       "    <tr style=\"text-align: right;\">\n",
       "      <th></th>\n",
       "      <th>year</th>\n",
       "      <th>quarter</th>\n",
       "      <th>market</th>\n",
       "      <th>dur_stay</th>\n",
       "      <th>mode</th>\n",
       "      <th>purpose</th>\n",
       "      <th>area</th>\n",
       "      <th>visits</th>\n",
       "      <th>spend</th>\n",
       "      <th>nights</th>\n",
       "      <th>sample</th>\n",
       "    </tr>\n",
       "  </thead>\n",
       "  <tbody>\n",
       "    <tr>\n",
       "      <th>9823</th>\n",
       "      <td>2004</td>\n",
       "      <td>October-December</td>\n",
       "      <td>Hong Kong</td>\n",
       "      <td>1-3  nights</td>\n",
       "      <td>Air</td>\n",
       "      <td>Holiday</td>\n",
       "      <td>LONDON</td>\n",
       "      <td>1.832767</td>\n",
       "      <td>0.234581</td>\n",
       "      <td>2.858807</td>\n",
       "      <td>3</td>\n",
       "    </tr>\n",
       "    <tr>\n",
       "      <th>16699</th>\n",
       "      <td>2006</td>\n",
       "      <td>October-December</td>\n",
       "      <td>USA</td>\n",
       "      <td>1-3  nights</td>\n",
       "      <td>Air</td>\n",
       "      <td>Business</td>\n",
       "      <td>LONDON</td>\n",
       "      <td>77.086362</td>\n",
       "      <td>65.245034</td>\n",
       "      <td>157.055295</td>\n",
       "      <td>186</td>\n",
       "    </tr>\n",
       "    <tr>\n",
       "      <th>52385</th>\n",
       "      <td>2017</td>\n",
       "      <td>April-June</td>\n",
       "      <td>Belgium</td>\n",
       "      <td>4-7  nights</td>\n",
       "      <td>Tunnel</td>\n",
       "      <td>Business</td>\n",
       "      <td>LONDON</td>\n",
       "      <td>2.518767</td>\n",
       "      <td>0.345071</td>\n",
       "      <td>17.631371</td>\n",
       "      <td>1</td>\n",
       "    </tr>\n",
       "    <tr>\n",
       "      <th>29960</th>\n",
       "      <td>2010</td>\n",
       "      <td>October-December</td>\n",
       "      <td>Denmark</td>\n",
       "      <td>8-14 nights</td>\n",
       "      <td>Air</td>\n",
       "      <td>Business</td>\n",
       "      <td>LONDON</td>\n",
       "      <td>0.252168</td>\n",
       "      <td>0.049240</td>\n",
       "      <td>0.249740</td>\n",
       "      <td>1</td>\n",
       "    </tr>\n",
       "    <tr>\n",
       "      <th>34929</th>\n",
       "      <td>2012</td>\n",
       "      <td>January-March</td>\n",
       "      <td>Other Southern Africa</td>\n",
       "      <td>4-7  nights</td>\n",
       "      <td>Air</td>\n",
       "      <td>Business</td>\n",
       "      <td>LONDON</td>\n",
       "      <td>1.670090</td>\n",
       "      <td>1.510713</td>\n",
       "      <td>8.719311</td>\n",
       "      <td>2</td>\n",
       "    </tr>\n",
       "  </tbody>\n",
       "</table>\n",
       "</div>"
      ],
      "text/plain": [
       "       year           quarter                 market     dur_stay    mode  \\\n",
       "9823   2004  October-December              Hong Kong  1-3  nights     Air   \n",
       "16699  2006  October-December                    USA  1-3  nights     Air   \n",
       "52385  2017        April-June                Belgium  4-7  nights  Tunnel   \n",
       "29960  2010  October-December                Denmark  8-14 nights     Air   \n",
       "34929  2012     January-March  Other Southern Africa  4-7  nights     Air   \n",
       "\n",
       "        purpose     area     visits      spend      nights  sample  \n",
       "9823    Holiday   LONDON   1.832767   0.234581    2.858807       3  \n",
       "16699  Business   LONDON  77.086362  65.245034  157.055295     186  \n",
       "52385  Business   LONDON   2.518767   0.345071   17.631371       1  \n",
       "29960  Business   LONDON   0.252168   0.049240    0.249740       1  \n",
       "34929  Business   LONDON   1.670090   1.510713    8.719311       2  "
      ]
     },
     "execution_count": 6,
     "metadata": {},
     "output_type": "execute_result"
    }
   ],
   "source": [
    "df.head()"
   ]
  },
  {
   "cell_type": "code",
   "execution_count": 7,
   "metadata": {},
   "outputs": [],
   "source": [
    "# the filter function\n",
    "def filter_df(column, threshold):\n",
    "    return df[df[column] <= threshold]"
   ]
  },
  {
   "cell_type": "code",
   "execution_count": 11,
   "metadata": {},
   "outputs": [
    {
     "data": {
      "application/vnd.jupyter.widget-view+json": {
       "model_id": "aab540e596e241219cb0e40700e6eddb",
       "version_major": 2,
       "version_minor": 0
      },
      "text/plain": [
       "interactive(children=(Dropdown(description='column', options=('spend', 'visits'), value='spend'), IntSlider(va…"
      ]
     },
     "metadata": {},
     "output_type": "display_data"
    }
   ],
   "source": [
    "filter_widget = widgets.interact(filter_df, column=['spend','visits'],threshold=(1,30,1))"
   ]
  },
  {
   "cell_type": "code",
   "execution_count": 9,
   "metadata": {},
   "outputs": [
    {
     "data": {
      "application/vnd.jupyter.widget-view+json": {
       "model_id": "7492a5ad9b624a02be8c7b5d82346063",
       "version_major": 2,
       "version_minor": 0
      },
      "text/plain": [
       "interactive(children=(Dropdown(description='column', index=1, options=('spend', 'visits'), value='visits'), In…"
      ]
     },
     "execution_count": 9,
     "metadata": {},
     "output_type": "execute_result"
    }
   ],
   "source": [
    "# use filter later in code\n",
    "filter_widget.widget"
   ]
  },
  {
   "cell_type": "markdown",
   "metadata": {},
   "source": [
    "# Interactive Plots with Widgets"
   ]
  },
  {
   "cell_type": "code",
   "execution_count": 13,
   "metadata": {},
   "outputs": [
    {
     "data": {
      "application/vnd.plotly.v1+json": {
       "config": {
        "plotlyServerURL": "https://plot.ly"
       },
       "data": [
        {
         "mode": "markers",
         "type": "scatter",
         "x": [
          1.83276692,
          77.08636189,
          2.518767118,
          0.252168119,
          1.670090497,
          0.863591999,
          0.554403007,
          1.243289351,
          3.547149062,
          4.231808722,
          0.337852836,
          3.896516919,
          1.704241991,
          5.754393756,
          2.07782796,
          1.557950169,
          3.687795043,
          0.645084262,
          0.288795471,
          0.666998386,
          6.120822027,
          1.601809978,
          6.656979382,
          2.468219995,
          0.45737201,
          0.539923012,
          7.211820185,
          1.184196472,
          23.1964072,
          3.722707957,
          23.7141287,
          24.14897054,
          1.320807576,
          1.985804707,
          1.657842636,
          1.681087732,
          5.128149986,
          7.982546866,
          0.6808061,
          2.164061069,
          3.065013915,
          2.004829884,
          34.84245205,
          0.659792006,
          4.386924088,
          2.225766242,
          1.366029039,
          4.687372357,
          1.345466793,
          0.311199993,
          1.033976197,
          4.765266687,
          0.698329002,
          3.547779009,
          1.721094489,
          1.608933643,
          0.738424987,
          0.703885004,
          4.326936007,
          5.210334003,
          1.282965422,
          0.461232007,
          0.978234589,
          50.95023134,
          16.16023821,
          1.136736989,
          14.82878906,
          1.395870447,
          1.501060009,
          0.576675415,
          0.911567569,
          4.35989666,
          3.735993922,
          0.977400005,
          5.135771692,
          4.883844852,
          21.15421495,
          0.297109008,
          1.499527037,
          0.430016994,
          4.996351987,
          0.517394006,
          8.139622182,
          0.581003606,
          1.253495216,
          7.380311221,
          0.396205306,
          0.438758016,
          4.222417772,
          0.727649987,
          2.942228004,
          2.727745295,
          1.005662978,
          1.445040464,
          5.094623446,
          1.035635233,
          1.995504975,
          1.772184253,
          10.57445323,
          0.459690005,
          0.478015989,
          4.531228691,
          0.340801001,
          1.915296018,
          2.070673227,
          8.932121873,
          0.466861993,
          0.337379992,
          1.67068994,
          3.048195481,
          1.150723577,
          3.889002204,
          1.599239945,
          29.86894214,
          9.300332963,
          1.735165358,
          0.363691896,
          0.27740103,
          0.991446495,
          33.65653107,
          3.044013977,
          0.486855894,
          0.239775002,
          28.96966121,
          1.128068328,
          0.549434006,
          1.803054094,
          2.244542271,
          1.312989712,
          0.504307926,
          0.511547983,
          4.530807316,
          1.368722022,
          4.388384402,
          7.668247759,
          1.465333045,
          8.766806841,
          0.484541029,
          3.464958191,
          2.491373032,
          1.278018832,
          0.416630298,
          1.915459752,
          4.343936086,
          1.550250769,
          1.663514853,
          28.52375847,
          4.316403866,
          1.798651218,
          4.118746966,
          11.07647407,
          5.635868192,
          9.168830395,
          1.005450726,
          3.412240416,
          0.902516067,
          1.560100973,
          8.801215112,
          1.609801024,
          0.178184882,
          2.118069887,
          0.898320019,
          4.378682852,
          72.2870928,
          0.254675001,
          46.43372071,
          0.732456997,
          1.609086752,
          5.324310064,
          1.046332955,
          1.687707245,
          0.565258861,
          1.483398318,
          1.648423553,
          1.400140047,
          0.705408275,
          19.94044971,
          5.530998886,
          1.367468596,
          0.451577991,
          2.373745382,
          3.749412954,
          2.661627293,
          4.344715565,
          0.69516623,
          4.703987092,
          2.354168653,
          0.849264801,
          10.92720556,
          0.833490789,
          0.821895421,
          0.603052974,
          7.76944989,
          21.08991194,
          1.038579941,
          1.856920987,
          43.91430146,
          1.782263994,
          8.483212948,
          4.689925015
         ],
         "y": [
          0.234580597,
          65.24503355,
          0.345071077,
          0.049240123,
          1.51071259,
          0.0618021,
          0.367208004,
          0.310822338,
          2.93512997,
          3.901216011,
          0.038885679,
          10.23359847,
          1.086051412,
          1.356035545,
          1.387791008,
          2.713714264,
          1.736801282,
          0.101923317,
          0.545823455,
          0.695676625,
          8.641076736,
          0.884922981,
          2.825404532,
          0.461557016,
          0.921604574,
          0.359010011,
          2.81389481,
          1.186111212,
          11.53070906,
          2.326267503,
          7.601542495,
          10.44449719,
          0.213691533,
          3.210247434,
          0.30421412,
          9.719323993,
          1.703753315,
          2.712873869,
          0.28253454,
          0.357246727,
          0.738101918,
          1.028480053,
          11.9780339,
          2.519229889,
          2.737071902,
          0.701195195,
          0.413437206,
          2.133570105,
          0.166197468,
          0.0821568,
          14.49117661,
          2.746024057,
          0.885815009,
          1.149283824,
          1.939208388,
          0.119193871,
          0.291506905,
          1.240318,
          0.741769493,
          2.580880374,
          0.704348028,
          0.634404402,
          0.211147249,
          24.12686254,
          3.539219054,
          1.729141176,
          3.662853416,
          21.37775612,
          0.917234004,
          0.595859826,
          0.216881111,
          6.139443547,
          5.556743935,
          1.566607952,
          0.888551578,
          2.426262945,
          11.42789036,
          0.0195619,
          0.665769994,
          0.296664,
          2.813269813,
          0.985741973,
          3.198845744,
          0.473517954,
          0.37332502,
          4.105730414,
          0.037639506,
          9.044996262,
          1.856338769,
          0.135111004,
          2.398516912,
          0.653951228,
          2.868086219,
          4.423483908,
          2.620841622,
          0.015951559,
          0.145517483,
          1.226794243,
          24.91814011,
          0.462698996,
          0.095096998,
          3.519468775,
          0.197166994,
          6.654294252,
          0.769370586,
          9.21731782,
          0.939792991,
          0.27631399,
          0.439392,
          2.089295864,
          1.170499682,
          4.014667317,
          2.421260118,
          15.21092844,
          1.718864534,
          1.132361531,
          0.427184314,
          0.420262575,
          1.799475431,
          9.679694064,
          1.530594885,
          0.329545915,
          0.120255001,
          9.317586303,
          0.143190399,
          0.143951997,
          0.009096953,
          2.719915017,
          0.905362874,
          0.555778861,
          0.285553008,
          9.060995936,
          0.426635399,
          7.278665677,
          6.746074796,
          0.255094968,
          2.0752538,
          0.1258232,
          1.509509973,
          4.39753899,
          0.337061375,
          0.733610392,
          0.086653844,
          5.852138162,
          0.814204782,
          0.185481906,
          14.64910581,
          4.943238974,
          0.30301562,
          0.604953424,
          8.691600859,
          2.634074271,
          1.543346383,
          2.011906862,
          1.141310822,
          0.04602832,
          0.48769241,
          6.993035849,
          0.323334098,
          0.041749593,
          1.639479205,
          0.286763012,
          3.96543932,
          48.0763633,
          0.042943802,
          61.35856553,
          0.176007299,
          0.560204744,
          3.648981884,
          0.51179415,
          1.907619815,
          0.404737353,
          0.542777419,
          0.165477708,
          0.140461996,
          0.660215974,
          8.986365606,
          5.100608438,
          0.278318048,
          0.179728001,
          1.518675938,
          0.836468905,
          2.441024184,
          1.806516878,
          0.156594351,
          0.346128494,
          0.294479012,
          0.326490819,
          2.981745839,
          18.72632217,
          1.77951324,
          0.166196004,
          8.186924726,
          3.699109845,
          0.282005012,
          4.73051703,
          61.58027858,
          2.032975912,
          3.461967111,
          2.097866789
         ]
        }
       ],
       "layout": {
        "hovermode": "closest",
        "template": {
         "data": {
          "bar": [
           {
            "error_x": {
             "color": "#2a3f5f"
            },
            "error_y": {
             "color": "#2a3f5f"
            },
            "marker": {
             "line": {
              "color": "#E5ECF6",
              "width": 0.5
             },
             "pattern": {
              "fillmode": "overlay",
              "size": 10,
              "solidity": 0.2
             }
            },
            "type": "bar"
           }
          ],
          "barpolar": [
           {
            "marker": {
             "line": {
              "color": "#E5ECF6",
              "width": 0.5
             },
             "pattern": {
              "fillmode": "overlay",
              "size": 10,
              "solidity": 0.2
             }
            },
            "type": "barpolar"
           }
          ],
          "carpet": [
           {
            "aaxis": {
             "endlinecolor": "#2a3f5f",
             "gridcolor": "white",
             "linecolor": "white",
             "minorgridcolor": "white",
             "startlinecolor": "#2a3f5f"
            },
            "baxis": {
             "endlinecolor": "#2a3f5f",
             "gridcolor": "white",
             "linecolor": "white",
             "minorgridcolor": "white",
             "startlinecolor": "#2a3f5f"
            },
            "type": "carpet"
           }
          ],
          "choropleth": [
           {
            "colorbar": {
             "outlinewidth": 0,
             "ticks": ""
            },
            "type": "choropleth"
           }
          ],
          "contour": [
           {
            "colorbar": {
             "outlinewidth": 0,
             "ticks": ""
            },
            "colorscale": [
             [
              0,
              "#0d0887"
             ],
             [
              0.1111111111111111,
              "#46039f"
             ],
             [
              0.2222222222222222,
              "#7201a8"
             ],
             [
              0.3333333333333333,
              "#9c179e"
             ],
             [
              0.4444444444444444,
              "#bd3786"
             ],
             [
              0.5555555555555556,
              "#d8576b"
             ],
             [
              0.6666666666666666,
              "#ed7953"
             ],
             [
              0.7777777777777778,
              "#fb9f3a"
             ],
             [
              0.8888888888888888,
              "#fdca26"
             ],
             [
              1,
              "#f0f921"
             ]
            ],
            "type": "contour"
           }
          ],
          "contourcarpet": [
           {
            "colorbar": {
             "outlinewidth": 0,
             "ticks": ""
            },
            "type": "contourcarpet"
           }
          ],
          "heatmap": [
           {
            "colorbar": {
             "outlinewidth": 0,
             "ticks": ""
            },
            "colorscale": [
             [
              0,
              "#0d0887"
             ],
             [
              0.1111111111111111,
              "#46039f"
             ],
             [
              0.2222222222222222,
              "#7201a8"
             ],
             [
              0.3333333333333333,
              "#9c179e"
             ],
             [
              0.4444444444444444,
              "#bd3786"
             ],
             [
              0.5555555555555556,
              "#d8576b"
             ],
             [
              0.6666666666666666,
              "#ed7953"
             ],
             [
              0.7777777777777778,
              "#fb9f3a"
             ],
             [
              0.8888888888888888,
              "#fdca26"
             ],
             [
              1,
              "#f0f921"
             ]
            ],
            "type": "heatmap"
           }
          ],
          "heatmapgl": [
           {
            "colorbar": {
             "outlinewidth": 0,
             "ticks": ""
            },
            "colorscale": [
             [
              0,
              "#0d0887"
             ],
             [
              0.1111111111111111,
              "#46039f"
             ],
             [
              0.2222222222222222,
              "#7201a8"
             ],
             [
              0.3333333333333333,
              "#9c179e"
             ],
             [
              0.4444444444444444,
              "#bd3786"
             ],
             [
              0.5555555555555556,
              "#d8576b"
             ],
             [
              0.6666666666666666,
              "#ed7953"
             ],
             [
              0.7777777777777778,
              "#fb9f3a"
             ],
             [
              0.8888888888888888,
              "#fdca26"
             ],
             [
              1,
              "#f0f921"
             ]
            ],
            "type": "heatmapgl"
           }
          ],
          "histogram": [
           {
            "marker": {
             "pattern": {
              "fillmode": "overlay",
              "size": 10,
              "solidity": 0.2
             }
            },
            "type": "histogram"
           }
          ],
          "histogram2d": [
           {
            "colorbar": {
             "outlinewidth": 0,
             "ticks": ""
            },
            "colorscale": [
             [
              0,
              "#0d0887"
             ],
             [
              0.1111111111111111,
              "#46039f"
             ],
             [
              0.2222222222222222,
              "#7201a8"
             ],
             [
              0.3333333333333333,
              "#9c179e"
             ],
             [
              0.4444444444444444,
              "#bd3786"
             ],
             [
              0.5555555555555556,
              "#d8576b"
             ],
             [
              0.6666666666666666,
              "#ed7953"
             ],
             [
              0.7777777777777778,
              "#fb9f3a"
             ],
             [
              0.8888888888888888,
              "#fdca26"
             ],
             [
              1,
              "#f0f921"
             ]
            ],
            "type": "histogram2d"
           }
          ],
          "histogram2dcontour": [
           {
            "colorbar": {
             "outlinewidth": 0,
             "ticks": ""
            },
            "colorscale": [
             [
              0,
              "#0d0887"
             ],
             [
              0.1111111111111111,
              "#46039f"
             ],
             [
              0.2222222222222222,
              "#7201a8"
             ],
             [
              0.3333333333333333,
              "#9c179e"
             ],
             [
              0.4444444444444444,
              "#bd3786"
             ],
             [
              0.5555555555555556,
              "#d8576b"
             ],
             [
              0.6666666666666666,
              "#ed7953"
             ],
             [
              0.7777777777777778,
              "#fb9f3a"
             ],
             [
              0.8888888888888888,
              "#fdca26"
             ],
             [
              1,
              "#f0f921"
             ]
            ],
            "type": "histogram2dcontour"
           }
          ],
          "mesh3d": [
           {
            "colorbar": {
             "outlinewidth": 0,
             "ticks": ""
            },
            "type": "mesh3d"
           }
          ],
          "parcoords": [
           {
            "line": {
             "colorbar": {
              "outlinewidth": 0,
              "ticks": ""
             }
            },
            "type": "parcoords"
           }
          ],
          "pie": [
           {
            "automargin": true,
            "type": "pie"
           }
          ],
          "scatter": [
           {
            "fillpattern": {
             "fillmode": "overlay",
             "size": 10,
             "solidity": 0.2
            },
            "type": "scatter"
           }
          ],
          "scatter3d": [
           {
            "line": {
             "colorbar": {
              "outlinewidth": 0,
              "ticks": ""
             }
            },
            "marker": {
             "colorbar": {
              "outlinewidth": 0,
              "ticks": ""
             }
            },
            "type": "scatter3d"
           }
          ],
          "scattercarpet": [
           {
            "marker": {
             "colorbar": {
              "outlinewidth": 0,
              "ticks": ""
             }
            },
            "type": "scattercarpet"
           }
          ],
          "scattergeo": [
           {
            "marker": {
             "colorbar": {
              "outlinewidth": 0,
              "ticks": ""
             }
            },
            "type": "scattergeo"
           }
          ],
          "scattergl": [
           {
            "marker": {
             "colorbar": {
              "outlinewidth": 0,
              "ticks": ""
             }
            },
            "type": "scattergl"
           }
          ],
          "scattermapbox": [
           {
            "marker": {
             "colorbar": {
              "outlinewidth": 0,
              "ticks": ""
             }
            },
            "type": "scattermapbox"
           }
          ],
          "scatterpolar": [
           {
            "marker": {
             "colorbar": {
              "outlinewidth": 0,
              "ticks": ""
             }
            },
            "type": "scatterpolar"
           }
          ],
          "scatterpolargl": [
           {
            "marker": {
             "colorbar": {
              "outlinewidth": 0,
              "ticks": ""
             }
            },
            "type": "scatterpolargl"
           }
          ],
          "scatterternary": [
           {
            "marker": {
             "colorbar": {
              "outlinewidth": 0,
              "ticks": ""
             }
            },
            "type": "scatterternary"
           }
          ],
          "surface": [
           {
            "colorbar": {
             "outlinewidth": 0,
             "ticks": ""
            },
            "colorscale": [
             [
              0,
              "#0d0887"
             ],
             [
              0.1111111111111111,
              "#46039f"
             ],
             [
              0.2222222222222222,
              "#7201a8"
             ],
             [
              0.3333333333333333,
              "#9c179e"
             ],
             [
              0.4444444444444444,
              "#bd3786"
             ],
             [
              0.5555555555555556,
              "#d8576b"
             ],
             [
              0.6666666666666666,
              "#ed7953"
             ],
             [
              0.7777777777777778,
              "#fb9f3a"
             ],
             [
              0.8888888888888888,
              "#fdca26"
             ],
             [
              1,
              "#f0f921"
             ]
            ],
            "type": "surface"
           }
          ],
          "table": [
           {
            "cells": {
             "fill": {
              "color": "#EBF0F8"
             },
             "line": {
              "color": "white"
             }
            },
            "header": {
             "fill": {
              "color": "#C8D4E3"
             },
             "line": {
              "color": "white"
             }
            },
            "type": "table"
           }
          ]
         },
         "layout": {
          "annotationdefaults": {
           "arrowcolor": "#2a3f5f",
           "arrowhead": 0,
           "arrowwidth": 1
          },
          "autotypenumbers": "strict",
          "coloraxis": {
           "colorbar": {
            "outlinewidth": 0,
            "ticks": ""
           }
          },
          "colorscale": {
           "diverging": [
            [
             0,
             "#8e0152"
            ],
            [
             0.1,
             "#c51b7d"
            ],
            [
             0.2,
             "#de77ae"
            ],
            [
             0.3,
             "#f1b6da"
            ],
            [
             0.4,
             "#fde0ef"
            ],
            [
             0.5,
             "#f7f7f7"
            ],
            [
             0.6,
             "#e6f5d0"
            ],
            [
             0.7,
             "#b8e186"
            ],
            [
             0.8,
             "#7fbc41"
            ],
            [
             0.9,
             "#4d9221"
            ],
            [
             1,
             "#276419"
            ]
           ],
           "sequential": [
            [
             0,
             "#0d0887"
            ],
            [
             0.1111111111111111,
             "#46039f"
            ],
            [
             0.2222222222222222,
             "#7201a8"
            ],
            [
             0.3333333333333333,
             "#9c179e"
            ],
            [
             0.4444444444444444,
             "#bd3786"
            ],
            [
             0.5555555555555556,
             "#d8576b"
            ],
            [
             0.6666666666666666,
             "#ed7953"
            ],
            [
             0.7777777777777778,
             "#fb9f3a"
            ],
            [
             0.8888888888888888,
             "#fdca26"
            ],
            [
             1,
             "#f0f921"
            ]
           ],
           "sequentialminus": [
            [
             0,
             "#0d0887"
            ],
            [
             0.1111111111111111,
             "#46039f"
            ],
            [
             0.2222222222222222,
             "#7201a8"
            ],
            [
             0.3333333333333333,
             "#9c179e"
            ],
            [
             0.4444444444444444,
             "#bd3786"
            ],
            [
             0.5555555555555556,
             "#d8576b"
            ],
            [
             0.6666666666666666,
             "#ed7953"
            ],
            [
             0.7777777777777778,
             "#fb9f3a"
            ],
            [
             0.8888888888888888,
             "#fdca26"
            ],
            [
             1,
             "#f0f921"
            ]
           ]
          },
          "colorway": [
           "#636efa",
           "#EF553B",
           "#00cc96",
           "#ab63fa",
           "#FFA15A",
           "#19d3f3",
           "#FF6692",
           "#B6E880",
           "#FF97FF",
           "#FECB52"
          ],
          "font": {
           "color": "#2a3f5f"
          },
          "geo": {
           "bgcolor": "white",
           "lakecolor": "white",
           "landcolor": "#E5ECF6",
           "showlakes": true,
           "showland": true,
           "subunitcolor": "white"
          },
          "hoverlabel": {
           "align": "left"
          },
          "hovermode": "closest",
          "mapbox": {
           "style": "light"
          },
          "paper_bgcolor": "white",
          "plot_bgcolor": "#E5ECF6",
          "polar": {
           "angularaxis": {
            "gridcolor": "white",
            "linecolor": "white",
            "ticks": ""
           },
           "bgcolor": "#E5ECF6",
           "radialaxis": {
            "gridcolor": "white",
            "linecolor": "white",
            "ticks": ""
           }
          },
          "scene": {
           "xaxis": {
            "backgroundcolor": "#E5ECF6",
            "gridcolor": "white",
            "gridwidth": 2,
            "linecolor": "white",
            "showbackground": true,
            "ticks": "",
            "zerolinecolor": "white"
           },
           "yaxis": {
            "backgroundcolor": "#E5ECF6",
            "gridcolor": "white",
            "gridwidth": 2,
            "linecolor": "white",
            "showbackground": true,
            "ticks": "",
            "zerolinecolor": "white"
           },
           "zaxis": {
            "backgroundcolor": "#E5ECF6",
            "gridcolor": "white",
            "gridwidth": 2,
            "linecolor": "white",
            "showbackground": true,
            "ticks": "",
            "zerolinecolor": "white"
           }
          },
          "shapedefaults": {
           "line": {
            "color": "#2a3f5f"
           }
          },
          "ternary": {
           "aaxis": {
            "gridcolor": "white",
            "linecolor": "white",
            "ticks": ""
           },
           "baxis": {
            "gridcolor": "white",
            "linecolor": "white",
            "ticks": ""
           },
           "bgcolor": "#E5ECF6",
           "caxis": {
            "gridcolor": "white",
            "linecolor": "white",
            "ticks": ""
           }
          },
          "title": {
           "x": 0.05
          },
          "xaxis": {
           "automargin": true,
           "gridcolor": "white",
           "linecolor": "white",
           "ticks": "",
           "title": {
            "standoff": 15
           },
           "zerolinecolor": "white",
           "zerolinewidth": 2
          },
          "yaxis": {
           "automargin": true,
           "gridcolor": "white",
           "linecolor": "white",
           "ticks": "",
           "title": {
            "standoff": 15
           },
           "zerolinecolor": "white",
           "zerolinewidth": 2
          }
         }
        },
        "title": {
         "text": "Scatter plot"
        },
        "xaxis": {
         "title": {
          "text": "Visits"
         }
        },
        "yaxis": {
         "title": {
          "text": "Spend"
         }
        }
       }
      }
     },
     "metadata": {},
     "output_type": "display_data"
    },
    {
     "data": {
      "application/vnd.jupyter.widget-view+json": {
       "model_id": "d56c615ceeea44b3979999cfb7776152",
       "version_major": 2,
       "version_minor": 0
      },
      "text/plain": [
       "interactive(children=(Dropdown(description='x', options=('visits', 'spend', 'nights', 'sample'), value='visits…"
      ]
     },
     "metadata": {},
     "output_type": "display_data"
    },
    {
     "data": {
      "application/vnd.plotly.v1+json": {
       "config": {
        "plotlyServerURL": "https://plot.ly"
       },
       "data": [
        {
         "mode": "markers",
         "type": "scatter",
         "x": [
          3,
          186,
          1,
          1,
          2,
          2,
          1,
          1,
          5,
          6,
          1,
          4,
          5,
          8,
          4,
          5,
          7,
          1,
          1,
          1,
          15,
          1,
          7,
          2,
          1,
          1,
          8,
          1,
          21,
          8,
          19,
          50,
          1,
          3,
          2,
          2,
          8,
          11,
          1,
          1,
          2,
          1,
          12,
          1,
          4,
          4,
          6,
          4,
          2,
          1,
          1,
          6,
          2,
          11,
          2,
          2,
          2,
          2,
          5,
          5,
          1,
          2,
          1,
          61,
          23,
          4,
          21,
          1,
          1,
          1,
          1,
          10,
          6,
          1,
          4,
          7,
          26,
          1,
          2,
          1,
          9,
          2,
          9,
          1,
          1,
          15,
          1,
          1,
          5,
          1,
          7,
          1,
          2,
          3,
          3,
          1,
          1,
          1,
          10,
          1,
          1,
          3,
          1,
          2,
          2,
          9,
          1,
          1,
          1,
          3,
          1,
          7,
          1,
          5,
          9,
          1,
          1,
          1,
          1,
          16,
          2,
          1,
          1,
          28,
          1,
          1,
          1,
          4,
          4,
          1,
          1,
          5,
          2,
          7,
          19,
          2,
          8,
          1,
          6,
          4,
          1,
          1,
          1,
          4,
          3,
          2,
          29,
          8,
          1,
          8,
          20,
          6,
          11,
          1,
          4,
          1,
          2,
          22,
          4,
          1,
          2,
          2,
          7,
          158,
          1,
          75,
          3,
          1,
          3,
          2,
          5,
          1,
          1,
          1,
          1,
          2,
          14,
          7,
          1,
          1,
          3,
          3,
          9,
          9,
          1,
          4,
          1,
          1,
          5,
          1,
          1,
          1,
          8,
          3,
          1,
          6,
          109,
          1,
          4,
          4
         ],
         "y": [
          0.234580597,
          65.24503355,
          0.345071077,
          0.049240123,
          1.51071259,
          0.0618021,
          0.367208004,
          0.310822338,
          2.93512997,
          3.901216011,
          0.038885679,
          10.23359847,
          1.086051412,
          1.356035545,
          1.387791008,
          2.713714264,
          1.736801282,
          0.101923317,
          0.545823455,
          0.695676625,
          8.641076736,
          0.884922981,
          2.825404532,
          0.461557016,
          0.921604574,
          0.359010011,
          2.81389481,
          1.186111212,
          11.53070906,
          2.326267503,
          7.601542495,
          10.44449719,
          0.213691533,
          3.210247434,
          0.30421412,
          9.719323993,
          1.703753315,
          2.712873869,
          0.28253454,
          0.357246727,
          0.738101918,
          1.028480053,
          11.9780339,
          2.519229889,
          2.737071902,
          0.701195195,
          0.413437206,
          2.133570105,
          0.166197468,
          0.0821568,
          14.49117661,
          2.746024057,
          0.885815009,
          1.149283824,
          1.939208388,
          0.119193871,
          0.291506905,
          1.240318,
          0.741769493,
          2.580880374,
          0.704348028,
          0.634404402,
          0.211147249,
          24.12686254,
          3.539219054,
          1.729141176,
          3.662853416,
          21.37775612,
          0.917234004,
          0.595859826,
          0.216881111,
          6.139443547,
          5.556743935,
          1.566607952,
          0.888551578,
          2.426262945,
          11.42789036,
          0.0195619,
          0.665769994,
          0.296664,
          2.813269813,
          0.985741973,
          3.198845744,
          0.473517954,
          0.37332502,
          4.105730414,
          0.037639506,
          9.044996262,
          1.856338769,
          0.135111004,
          2.398516912,
          0.653951228,
          2.868086219,
          4.423483908,
          2.620841622,
          0.015951559,
          0.145517483,
          1.226794243,
          24.91814011,
          0.462698996,
          0.095096998,
          3.519468775,
          0.197166994,
          6.654294252,
          0.769370586,
          9.21731782,
          0.939792991,
          0.27631399,
          0.439392,
          2.089295864,
          1.170499682,
          4.014667317,
          2.421260118,
          15.21092844,
          1.718864534,
          1.132361531,
          0.427184314,
          0.420262575,
          1.799475431,
          9.679694064,
          1.530594885,
          0.329545915,
          0.120255001,
          9.317586303,
          0.143190399,
          0.143951997,
          0.009096953,
          2.719915017,
          0.905362874,
          0.555778861,
          0.285553008,
          9.060995936,
          0.426635399,
          7.278665677,
          6.746074796,
          0.255094968,
          2.0752538,
          0.1258232,
          1.509509973,
          4.39753899,
          0.337061375,
          0.733610392,
          0.086653844,
          5.852138162,
          0.814204782,
          0.185481906,
          14.64910581,
          4.943238974,
          0.30301562,
          0.604953424,
          8.691600859,
          2.634074271,
          1.543346383,
          2.011906862,
          1.141310822,
          0.04602832,
          0.48769241,
          6.993035849,
          0.323334098,
          0.041749593,
          1.639479205,
          0.286763012,
          3.96543932,
          48.0763633,
          0.042943802,
          61.35856553,
          0.176007299,
          0.560204744,
          3.648981884,
          0.51179415,
          1.907619815,
          0.404737353,
          0.542777419,
          0.165477708,
          0.140461996,
          0.660215974,
          8.986365606,
          5.100608438,
          0.278318048,
          0.179728001,
          1.518675938,
          0.836468905,
          2.441024184,
          1.806516878,
          0.156594351,
          0.346128494,
          0.294479012,
          0.326490819,
          2.981745839,
          18.72632217,
          1.77951324,
          0.166196004,
          8.186924726,
          3.699109845,
          0.282005012,
          4.73051703,
          61.58027858,
          2.032975912,
          3.461967111,
          2.097866789
         ]
        }
       ],
       "layout": {
        "hovermode": "closest",
        "template": {
         "data": {
          "bar": [
           {
            "error_x": {
             "color": "#2a3f5f"
            },
            "error_y": {
             "color": "#2a3f5f"
            },
            "marker": {
             "line": {
              "color": "#E5ECF6",
              "width": 0.5
             },
             "pattern": {
              "fillmode": "overlay",
              "size": 10,
              "solidity": 0.2
             }
            },
            "type": "bar"
           }
          ],
          "barpolar": [
           {
            "marker": {
             "line": {
              "color": "#E5ECF6",
              "width": 0.5
             },
             "pattern": {
              "fillmode": "overlay",
              "size": 10,
              "solidity": 0.2
             }
            },
            "type": "barpolar"
           }
          ],
          "carpet": [
           {
            "aaxis": {
             "endlinecolor": "#2a3f5f",
             "gridcolor": "white",
             "linecolor": "white",
             "minorgridcolor": "white",
             "startlinecolor": "#2a3f5f"
            },
            "baxis": {
             "endlinecolor": "#2a3f5f",
             "gridcolor": "white",
             "linecolor": "white",
             "minorgridcolor": "white",
             "startlinecolor": "#2a3f5f"
            },
            "type": "carpet"
           }
          ],
          "choropleth": [
           {
            "colorbar": {
             "outlinewidth": 0,
             "ticks": ""
            },
            "type": "choropleth"
           }
          ],
          "contour": [
           {
            "colorbar": {
             "outlinewidth": 0,
             "ticks": ""
            },
            "colorscale": [
             [
              0,
              "#0d0887"
             ],
             [
              0.1111111111111111,
              "#46039f"
             ],
             [
              0.2222222222222222,
              "#7201a8"
             ],
             [
              0.3333333333333333,
              "#9c179e"
             ],
             [
              0.4444444444444444,
              "#bd3786"
             ],
             [
              0.5555555555555556,
              "#d8576b"
             ],
             [
              0.6666666666666666,
              "#ed7953"
             ],
             [
              0.7777777777777778,
              "#fb9f3a"
             ],
             [
              0.8888888888888888,
              "#fdca26"
             ],
             [
              1,
              "#f0f921"
             ]
            ],
            "type": "contour"
           }
          ],
          "contourcarpet": [
           {
            "colorbar": {
             "outlinewidth": 0,
             "ticks": ""
            },
            "type": "contourcarpet"
           }
          ],
          "heatmap": [
           {
            "colorbar": {
             "outlinewidth": 0,
             "ticks": ""
            },
            "colorscale": [
             [
              0,
              "#0d0887"
             ],
             [
              0.1111111111111111,
              "#46039f"
             ],
             [
              0.2222222222222222,
              "#7201a8"
             ],
             [
              0.3333333333333333,
              "#9c179e"
             ],
             [
              0.4444444444444444,
              "#bd3786"
             ],
             [
              0.5555555555555556,
              "#d8576b"
             ],
             [
              0.6666666666666666,
              "#ed7953"
             ],
             [
              0.7777777777777778,
              "#fb9f3a"
             ],
             [
              0.8888888888888888,
              "#fdca26"
             ],
             [
              1,
              "#f0f921"
             ]
            ],
            "type": "heatmap"
           }
          ],
          "heatmapgl": [
           {
            "colorbar": {
             "outlinewidth": 0,
             "ticks": ""
            },
            "colorscale": [
             [
              0,
              "#0d0887"
             ],
             [
              0.1111111111111111,
              "#46039f"
             ],
             [
              0.2222222222222222,
              "#7201a8"
             ],
             [
              0.3333333333333333,
              "#9c179e"
             ],
             [
              0.4444444444444444,
              "#bd3786"
             ],
             [
              0.5555555555555556,
              "#d8576b"
             ],
             [
              0.6666666666666666,
              "#ed7953"
             ],
             [
              0.7777777777777778,
              "#fb9f3a"
             ],
             [
              0.8888888888888888,
              "#fdca26"
             ],
             [
              1,
              "#f0f921"
             ]
            ],
            "type": "heatmapgl"
           }
          ],
          "histogram": [
           {
            "marker": {
             "pattern": {
              "fillmode": "overlay",
              "size": 10,
              "solidity": 0.2
             }
            },
            "type": "histogram"
           }
          ],
          "histogram2d": [
           {
            "colorbar": {
             "outlinewidth": 0,
             "ticks": ""
            },
            "colorscale": [
             [
              0,
              "#0d0887"
             ],
             [
              0.1111111111111111,
              "#46039f"
             ],
             [
              0.2222222222222222,
              "#7201a8"
             ],
             [
              0.3333333333333333,
              "#9c179e"
             ],
             [
              0.4444444444444444,
              "#bd3786"
             ],
             [
              0.5555555555555556,
              "#d8576b"
             ],
             [
              0.6666666666666666,
              "#ed7953"
             ],
             [
              0.7777777777777778,
              "#fb9f3a"
             ],
             [
              0.8888888888888888,
              "#fdca26"
             ],
             [
              1,
              "#f0f921"
             ]
            ],
            "type": "histogram2d"
           }
          ],
          "histogram2dcontour": [
           {
            "colorbar": {
             "outlinewidth": 0,
             "ticks": ""
            },
            "colorscale": [
             [
              0,
              "#0d0887"
             ],
             [
              0.1111111111111111,
              "#46039f"
             ],
             [
              0.2222222222222222,
              "#7201a8"
             ],
             [
              0.3333333333333333,
              "#9c179e"
             ],
             [
              0.4444444444444444,
              "#bd3786"
             ],
             [
              0.5555555555555556,
              "#d8576b"
             ],
             [
              0.6666666666666666,
              "#ed7953"
             ],
             [
              0.7777777777777778,
              "#fb9f3a"
             ],
             [
              0.8888888888888888,
              "#fdca26"
             ],
             [
              1,
              "#f0f921"
             ]
            ],
            "type": "histogram2dcontour"
           }
          ],
          "mesh3d": [
           {
            "colorbar": {
             "outlinewidth": 0,
             "ticks": ""
            },
            "type": "mesh3d"
           }
          ],
          "parcoords": [
           {
            "line": {
             "colorbar": {
              "outlinewidth": 0,
              "ticks": ""
             }
            },
            "type": "parcoords"
           }
          ],
          "pie": [
           {
            "automargin": true,
            "type": "pie"
           }
          ],
          "scatter": [
           {
            "fillpattern": {
             "fillmode": "overlay",
             "size": 10,
             "solidity": 0.2
            },
            "type": "scatter"
           }
          ],
          "scatter3d": [
           {
            "line": {
             "colorbar": {
              "outlinewidth": 0,
              "ticks": ""
             }
            },
            "marker": {
             "colorbar": {
              "outlinewidth": 0,
              "ticks": ""
             }
            },
            "type": "scatter3d"
           }
          ],
          "scattercarpet": [
           {
            "marker": {
             "colorbar": {
              "outlinewidth": 0,
              "ticks": ""
             }
            },
            "type": "scattercarpet"
           }
          ],
          "scattergeo": [
           {
            "marker": {
             "colorbar": {
              "outlinewidth": 0,
              "ticks": ""
             }
            },
            "type": "scattergeo"
           }
          ],
          "scattergl": [
           {
            "marker": {
             "colorbar": {
              "outlinewidth": 0,
              "ticks": ""
             }
            },
            "type": "scattergl"
           }
          ],
          "scattermapbox": [
           {
            "marker": {
             "colorbar": {
              "outlinewidth": 0,
              "ticks": ""
             }
            },
            "type": "scattermapbox"
           }
          ],
          "scatterpolar": [
           {
            "marker": {
             "colorbar": {
              "outlinewidth": 0,
              "ticks": ""
             }
            },
            "type": "scatterpolar"
           }
          ],
          "scatterpolargl": [
           {
            "marker": {
             "colorbar": {
              "outlinewidth": 0,
              "ticks": ""
             }
            },
            "type": "scatterpolargl"
           }
          ],
          "scatterternary": [
           {
            "marker": {
             "colorbar": {
              "outlinewidth": 0,
              "ticks": ""
             }
            },
            "type": "scatterternary"
           }
          ],
          "surface": [
           {
            "colorbar": {
             "outlinewidth": 0,
             "ticks": ""
            },
            "colorscale": [
             [
              0,
              "#0d0887"
             ],
             [
              0.1111111111111111,
              "#46039f"
             ],
             [
              0.2222222222222222,
              "#7201a8"
             ],
             [
              0.3333333333333333,
              "#9c179e"
             ],
             [
              0.4444444444444444,
              "#bd3786"
             ],
             [
              0.5555555555555556,
              "#d8576b"
             ],
             [
              0.6666666666666666,
              "#ed7953"
             ],
             [
              0.7777777777777778,
              "#fb9f3a"
             ],
             [
              0.8888888888888888,
              "#fdca26"
             ],
             [
              1,
              "#f0f921"
             ]
            ],
            "type": "surface"
           }
          ],
          "table": [
           {
            "cells": {
             "fill": {
              "color": "#EBF0F8"
             },
             "line": {
              "color": "white"
             }
            },
            "header": {
             "fill": {
              "color": "#C8D4E3"
             },
             "line": {
              "color": "white"
             }
            },
            "type": "table"
           }
          ]
         },
         "layout": {
          "annotationdefaults": {
           "arrowcolor": "#2a3f5f",
           "arrowhead": 0,
           "arrowwidth": 1
          },
          "autotypenumbers": "strict",
          "coloraxis": {
           "colorbar": {
            "outlinewidth": 0,
            "ticks": ""
           }
          },
          "colorscale": {
           "diverging": [
            [
             0,
             "#8e0152"
            ],
            [
             0.1,
             "#c51b7d"
            ],
            [
             0.2,
             "#de77ae"
            ],
            [
             0.3,
             "#f1b6da"
            ],
            [
             0.4,
             "#fde0ef"
            ],
            [
             0.5,
             "#f7f7f7"
            ],
            [
             0.6,
             "#e6f5d0"
            ],
            [
             0.7,
             "#b8e186"
            ],
            [
             0.8,
             "#7fbc41"
            ],
            [
             0.9,
             "#4d9221"
            ],
            [
             1,
             "#276419"
            ]
           ],
           "sequential": [
            [
             0,
             "#0d0887"
            ],
            [
             0.1111111111111111,
             "#46039f"
            ],
            [
             0.2222222222222222,
             "#7201a8"
            ],
            [
             0.3333333333333333,
             "#9c179e"
            ],
            [
             0.4444444444444444,
             "#bd3786"
            ],
            [
             0.5555555555555556,
             "#d8576b"
            ],
            [
             0.6666666666666666,
             "#ed7953"
            ],
            [
             0.7777777777777778,
             "#fb9f3a"
            ],
            [
             0.8888888888888888,
             "#fdca26"
            ],
            [
             1,
             "#f0f921"
            ]
           ],
           "sequentialminus": [
            [
             0,
             "#0d0887"
            ],
            [
             0.1111111111111111,
             "#46039f"
            ],
            [
             0.2222222222222222,
             "#7201a8"
            ],
            [
             0.3333333333333333,
             "#9c179e"
            ],
            [
             0.4444444444444444,
             "#bd3786"
            ],
            [
             0.5555555555555556,
             "#d8576b"
            ],
            [
             0.6666666666666666,
             "#ed7953"
            ],
            [
             0.7777777777777778,
             "#fb9f3a"
            ],
            [
             0.8888888888888888,
             "#fdca26"
            ],
            [
             1,
             "#f0f921"
            ]
           ]
          },
          "colorway": [
           "#636efa",
           "#EF553B",
           "#00cc96",
           "#ab63fa",
           "#FFA15A",
           "#19d3f3",
           "#FF6692",
           "#B6E880",
           "#FF97FF",
           "#FECB52"
          ],
          "font": {
           "color": "#2a3f5f"
          },
          "geo": {
           "bgcolor": "white",
           "lakecolor": "white",
           "landcolor": "#E5ECF6",
           "showlakes": true,
           "showland": true,
           "subunitcolor": "white"
          },
          "hoverlabel": {
           "align": "left"
          },
          "hovermode": "closest",
          "mapbox": {
           "style": "light"
          },
          "paper_bgcolor": "white",
          "plot_bgcolor": "#E5ECF6",
          "polar": {
           "angularaxis": {
            "gridcolor": "white",
            "linecolor": "white",
            "ticks": ""
           },
           "bgcolor": "#E5ECF6",
           "radialaxis": {
            "gridcolor": "white",
            "linecolor": "white",
            "ticks": ""
           }
          },
          "scene": {
           "xaxis": {
            "backgroundcolor": "#E5ECF6",
            "gridcolor": "white",
            "gridwidth": 2,
            "linecolor": "white",
            "showbackground": true,
            "ticks": "",
            "zerolinecolor": "white"
           },
           "yaxis": {
            "backgroundcolor": "#E5ECF6",
            "gridcolor": "white",
            "gridwidth": 2,
            "linecolor": "white",
            "showbackground": true,
            "ticks": "",
            "zerolinecolor": "white"
           },
           "zaxis": {
            "backgroundcolor": "#E5ECF6",
            "gridcolor": "white",
            "gridwidth": 2,
            "linecolor": "white",
            "showbackground": true,
            "ticks": "",
            "zerolinecolor": "white"
           }
          },
          "shapedefaults": {
           "line": {
            "color": "#2a3f5f"
           }
          },
          "ternary": {
           "aaxis": {
            "gridcolor": "white",
            "linecolor": "white",
            "ticks": ""
           },
           "baxis": {
            "gridcolor": "white",
            "linecolor": "white",
            "ticks": ""
           },
           "bgcolor": "#E5ECF6",
           "caxis": {
            "gridcolor": "white",
            "linecolor": "white",
            "ticks": ""
           }
          },
          "title": {
           "x": 0.05
          },
          "xaxis": {
           "automargin": true,
           "gridcolor": "white",
           "linecolor": "white",
           "ticks": "",
           "title": {
            "standoff": 15
           },
           "zerolinecolor": "white",
           "zerolinewidth": 2
          },
          "yaxis": {
           "automargin": true,
           "gridcolor": "white",
           "linecolor": "white",
           "ticks": "",
           "title": {
            "standoff": 15
           },
           "zerolinecolor": "white",
           "zerolinewidth": 2
          }
         }
        },
        "title": {
         "text": "Scatter plot"
        },
        "xaxis": {
         "title": {
          "text": "Sample"
         }
        },
        "yaxis": {
         "title": {
          "text": "Spend"
         }
        }
       }
      }
     },
     "metadata": {},
     "output_type": "display_data"
    },
    {
     "data": {
      "application/vnd.plotly.v1+json": {
       "config": {
        "plotlyServerURL": "https://plot.ly"
       },
       "data": [
        {
         "mode": "markers",
         "type": "scatter",
         "x": [
          3,
          186,
          1,
          1,
          2,
          2,
          1,
          1,
          5,
          6,
          1,
          4,
          5,
          8,
          4,
          5,
          7,
          1,
          1,
          1,
          15,
          1,
          7,
          2,
          1,
          1,
          8,
          1,
          21,
          8,
          19,
          50,
          1,
          3,
          2,
          2,
          8,
          11,
          1,
          1,
          2,
          1,
          12,
          1,
          4,
          4,
          6,
          4,
          2,
          1,
          1,
          6,
          2,
          11,
          2,
          2,
          2,
          2,
          5,
          5,
          1,
          2,
          1,
          61,
          23,
          4,
          21,
          1,
          1,
          1,
          1,
          10,
          6,
          1,
          4,
          7,
          26,
          1,
          2,
          1,
          9,
          2,
          9,
          1,
          1,
          15,
          1,
          1,
          5,
          1,
          7,
          1,
          2,
          3,
          3,
          1,
          1,
          1,
          10,
          1,
          1,
          3,
          1,
          2,
          2,
          9,
          1,
          1,
          1,
          3,
          1,
          7,
          1,
          5,
          9,
          1,
          1,
          1,
          1,
          16,
          2,
          1,
          1,
          28,
          1,
          1,
          1,
          4,
          4,
          1,
          1,
          5,
          2,
          7,
          19,
          2,
          8,
          1,
          6,
          4,
          1,
          1,
          1,
          4,
          3,
          2,
          29,
          8,
          1,
          8,
          20,
          6,
          11,
          1,
          4,
          1,
          2,
          22,
          4,
          1,
          2,
          2,
          7,
          158,
          1,
          75,
          3,
          1,
          3,
          2,
          5,
          1,
          1,
          1,
          1,
          2,
          14,
          7,
          1,
          1,
          3,
          3,
          9,
          9,
          1,
          4,
          1,
          1,
          5,
          1,
          1,
          1,
          8,
          3,
          1,
          6,
          109,
          1,
          4,
          4
         ],
         "y": [
          2.858806878,
          157.0552951,
          17.63137054,
          0.249740139,
          8.719310999,
          11.75289911,
          1.774090052,
          3.729868174,
          33.95398974,
          15.60387224,
          3.013377905,
          119.235569,
          16.00840944,
          8.29710418,
          21.76542974,
          15.62039733,
          17.76793265,
          0.645084262,
          17.0389328,
          18.22846603,
          28.91352573,
          5.962580204,
          36.59553719,
          12.34110022,
          0.45737201,
          4.595200062,
          19.03155655,
          10.62327576,
          103.5383899,
          26.62926006,
          39.41364378,
          118.534482,
          6.277895451,
          31.7488718,
          2.486763954,
          26.48541832,
          10.87488696,
          39.63284922,
          2.04241848,
          2.308775663,
          6.130027831,
          40.09659958,
          162.4430499,
          76.7193985,
          9.884364545,
          5.180244207,
          6.630489945,
          7.033708245,
          4.413360596,
          1.244799972,
          10.33976173,
          10.6011973,
          4.888309956,
          7.904043078,
          2.638633966,
          6.401095808,
          1.427052021,
          8.220340014,
          26.08732009,
          50.62177944,
          15.39558506,
          2.65395999,
          9.99301815,
          80.34514669,
          78.30057329,
          5.124004126,
          27.35001314,
          15.3545742,
          2.235569954,
          8.616719246,
          2.696873665,
          23.51463449,
          195.4450375,
          2.729077816,
          10.54529226,
          20.12502933,
          32.64192659,
          0.288450003,
          2.170051813,
          1.29005003,
          11.35257307,
          34.62949944,
          14.36529106,
          2.324014425,
          2.506990433,
          17.42495814,
          0.792410612,
          1.316274047,
          8.639070988,
          1.698469996,
          34.37877011,
          7.995735168,
          6.707318425,
          16.86991978,
          9.370161533,
          1.024204612,
          6.319503307,
          5.154041767,
          103.0974994,
          3.677520037,
          0.956031978,
          133.9768925,
          1.287340045,
          39.56129837,
          20.73692799,
          22.65644777,
          1.867449999,
          2.361660004,
          13.36550045,
          33.34242535,
          4.602894306,
          8.972204983,
          57.57279968,
          99.36720705,
          34.49075079,
          6.94066143,
          1.818459511,
          1.94180727,
          13.88025093,
          80.7341786,
          31.43045139,
          3.407991171,
          0.77926898,
          133.9994766,
          8.641065598,
          18.68079948,
          5.396846294,
          11.73483074,
          6.220968843,
          9.629177094,
          1.44904995,
          51.01202011,
          3.349822164,
          170.793294,
          13.21324015,
          7.315336704,
          42.11229825,
          25.19613266,
          13.34575272,
          28.55662012,
          17.26958656,
          0.441822201,
          7.56784153,
          20.4082551,
          1.550250769,
          2.495272279,
          44.08349219,
          10.85276103,
          3.514988899,
          7.98239401,
          57.99819672,
          26.8928082,
          12.68370241,
          45.24528503,
          10.00467169,
          3.610064268,
          29.20251942,
          60.28493297,
          3.622999907,
          0.178184882,
          3.355030537,
          2.650759935,
          9.085843921,
          355.0330883,
          1.251009941,
          210.1243804,
          2.002437025,
          8.320374489,
          5.323330164,
          22.2598238,
          17.8373127,
          38.12685776,
          9.802261353,
          8.230133057,
          9.815790176,
          5.410250187,
          96.91837227,
          20.48133111,
          10.86867809,
          0.903155982,
          44.28698349,
          9.457232893,
          6.290701151,
          15.65290666,
          0.69516623,
          5.194774091,
          32.90047455,
          15.3346653,
          19.70647049,
          131.434021,
          13.53730106,
          1.597059965,
          35.81720388,
          27.26100755,
          3.115730047,
          135.3102021,
          196.8257682,
          14.49573517,
          49.96099949,
          27.08432055
         ]
        }
       ],
       "layout": {
        "hovermode": "closest",
        "template": {
         "data": {
          "bar": [
           {
            "error_x": {
             "color": "#2a3f5f"
            },
            "error_y": {
             "color": "#2a3f5f"
            },
            "marker": {
             "line": {
              "color": "#E5ECF6",
              "width": 0.5
             },
             "pattern": {
              "fillmode": "overlay",
              "size": 10,
              "solidity": 0.2
             }
            },
            "type": "bar"
           }
          ],
          "barpolar": [
           {
            "marker": {
             "line": {
              "color": "#E5ECF6",
              "width": 0.5
             },
             "pattern": {
              "fillmode": "overlay",
              "size": 10,
              "solidity": 0.2
             }
            },
            "type": "barpolar"
           }
          ],
          "carpet": [
           {
            "aaxis": {
             "endlinecolor": "#2a3f5f",
             "gridcolor": "white",
             "linecolor": "white",
             "minorgridcolor": "white",
             "startlinecolor": "#2a3f5f"
            },
            "baxis": {
             "endlinecolor": "#2a3f5f",
             "gridcolor": "white",
             "linecolor": "white",
             "minorgridcolor": "white",
             "startlinecolor": "#2a3f5f"
            },
            "type": "carpet"
           }
          ],
          "choropleth": [
           {
            "colorbar": {
             "outlinewidth": 0,
             "ticks": ""
            },
            "type": "choropleth"
           }
          ],
          "contour": [
           {
            "colorbar": {
             "outlinewidth": 0,
             "ticks": ""
            },
            "colorscale": [
             [
              0,
              "#0d0887"
             ],
             [
              0.1111111111111111,
              "#46039f"
             ],
             [
              0.2222222222222222,
              "#7201a8"
             ],
             [
              0.3333333333333333,
              "#9c179e"
             ],
             [
              0.4444444444444444,
              "#bd3786"
             ],
             [
              0.5555555555555556,
              "#d8576b"
             ],
             [
              0.6666666666666666,
              "#ed7953"
             ],
             [
              0.7777777777777778,
              "#fb9f3a"
             ],
             [
              0.8888888888888888,
              "#fdca26"
             ],
             [
              1,
              "#f0f921"
             ]
            ],
            "type": "contour"
           }
          ],
          "contourcarpet": [
           {
            "colorbar": {
             "outlinewidth": 0,
             "ticks": ""
            },
            "type": "contourcarpet"
           }
          ],
          "heatmap": [
           {
            "colorbar": {
             "outlinewidth": 0,
             "ticks": ""
            },
            "colorscale": [
             [
              0,
              "#0d0887"
             ],
             [
              0.1111111111111111,
              "#46039f"
             ],
             [
              0.2222222222222222,
              "#7201a8"
             ],
             [
              0.3333333333333333,
              "#9c179e"
             ],
             [
              0.4444444444444444,
              "#bd3786"
             ],
             [
              0.5555555555555556,
              "#d8576b"
             ],
             [
              0.6666666666666666,
              "#ed7953"
             ],
             [
              0.7777777777777778,
              "#fb9f3a"
             ],
             [
              0.8888888888888888,
              "#fdca26"
             ],
             [
              1,
              "#f0f921"
             ]
            ],
            "type": "heatmap"
           }
          ],
          "heatmapgl": [
           {
            "colorbar": {
             "outlinewidth": 0,
             "ticks": ""
            },
            "colorscale": [
             [
              0,
              "#0d0887"
             ],
             [
              0.1111111111111111,
              "#46039f"
             ],
             [
              0.2222222222222222,
              "#7201a8"
             ],
             [
              0.3333333333333333,
              "#9c179e"
             ],
             [
              0.4444444444444444,
              "#bd3786"
             ],
             [
              0.5555555555555556,
              "#d8576b"
             ],
             [
              0.6666666666666666,
              "#ed7953"
             ],
             [
              0.7777777777777778,
              "#fb9f3a"
             ],
             [
              0.8888888888888888,
              "#fdca26"
             ],
             [
              1,
              "#f0f921"
             ]
            ],
            "type": "heatmapgl"
           }
          ],
          "histogram": [
           {
            "marker": {
             "pattern": {
              "fillmode": "overlay",
              "size": 10,
              "solidity": 0.2
             }
            },
            "type": "histogram"
           }
          ],
          "histogram2d": [
           {
            "colorbar": {
             "outlinewidth": 0,
             "ticks": ""
            },
            "colorscale": [
             [
              0,
              "#0d0887"
             ],
             [
              0.1111111111111111,
              "#46039f"
             ],
             [
              0.2222222222222222,
              "#7201a8"
             ],
             [
              0.3333333333333333,
              "#9c179e"
             ],
             [
              0.4444444444444444,
              "#bd3786"
             ],
             [
              0.5555555555555556,
              "#d8576b"
             ],
             [
              0.6666666666666666,
              "#ed7953"
             ],
             [
              0.7777777777777778,
              "#fb9f3a"
             ],
             [
              0.8888888888888888,
              "#fdca26"
             ],
             [
              1,
              "#f0f921"
             ]
            ],
            "type": "histogram2d"
           }
          ],
          "histogram2dcontour": [
           {
            "colorbar": {
             "outlinewidth": 0,
             "ticks": ""
            },
            "colorscale": [
             [
              0,
              "#0d0887"
             ],
             [
              0.1111111111111111,
              "#46039f"
             ],
             [
              0.2222222222222222,
              "#7201a8"
             ],
             [
              0.3333333333333333,
              "#9c179e"
             ],
             [
              0.4444444444444444,
              "#bd3786"
             ],
             [
              0.5555555555555556,
              "#d8576b"
             ],
             [
              0.6666666666666666,
              "#ed7953"
             ],
             [
              0.7777777777777778,
              "#fb9f3a"
             ],
             [
              0.8888888888888888,
              "#fdca26"
             ],
             [
              1,
              "#f0f921"
             ]
            ],
            "type": "histogram2dcontour"
           }
          ],
          "mesh3d": [
           {
            "colorbar": {
             "outlinewidth": 0,
             "ticks": ""
            },
            "type": "mesh3d"
           }
          ],
          "parcoords": [
           {
            "line": {
             "colorbar": {
              "outlinewidth": 0,
              "ticks": ""
             }
            },
            "type": "parcoords"
           }
          ],
          "pie": [
           {
            "automargin": true,
            "type": "pie"
           }
          ],
          "scatter": [
           {
            "fillpattern": {
             "fillmode": "overlay",
             "size": 10,
             "solidity": 0.2
            },
            "type": "scatter"
           }
          ],
          "scatter3d": [
           {
            "line": {
             "colorbar": {
              "outlinewidth": 0,
              "ticks": ""
             }
            },
            "marker": {
             "colorbar": {
              "outlinewidth": 0,
              "ticks": ""
             }
            },
            "type": "scatter3d"
           }
          ],
          "scattercarpet": [
           {
            "marker": {
             "colorbar": {
              "outlinewidth": 0,
              "ticks": ""
             }
            },
            "type": "scattercarpet"
           }
          ],
          "scattergeo": [
           {
            "marker": {
             "colorbar": {
              "outlinewidth": 0,
              "ticks": ""
             }
            },
            "type": "scattergeo"
           }
          ],
          "scattergl": [
           {
            "marker": {
             "colorbar": {
              "outlinewidth": 0,
              "ticks": ""
             }
            },
            "type": "scattergl"
           }
          ],
          "scattermapbox": [
           {
            "marker": {
             "colorbar": {
              "outlinewidth": 0,
              "ticks": ""
             }
            },
            "type": "scattermapbox"
           }
          ],
          "scatterpolar": [
           {
            "marker": {
             "colorbar": {
              "outlinewidth": 0,
              "ticks": ""
             }
            },
            "type": "scatterpolar"
           }
          ],
          "scatterpolargl": [
           {
            "marker": {
             "colorbar": {
              "outlinewidth": 0,
              "ticks": ""
             }
            },
            "type": "scatterpolargl"
           }
          ],
          "scatterternary": [
           {
            "marker": {
             "colorbar": {
              "outlinewidth": 0,
              "ticks": ""
             }
            },
            "type": "scatterternary"
           }
          ],
          "surface": [
           {
            "colorbar": {
             "outlinewidth": 0,
             "ticks": ""
            },
            "colorscale": [
             [
              0,
              "#0d0887"
             ],
             [
              0.1111111111111111,
              "#46039f"
             ],
             [
              0.2222222222222222,
              "#7201a8"
             ],
             [
              0.3333333333333333,
              "#9c179e"
             ],
             [
              0.4444444444444444,
              "#bd3786"
             ],
             [
              0.5555555555555556,
              "#d8576b"
             ],
             [
              0.6666666666666666,
              "#ed7953"
             ],
             [
              0.7777777777777778,
              "#fb9f3a"
             ],
             [
              0.8888888888888888,
              "#fdca26"
             ],
             [
              1,
              "#f0f921"
             ]
            ],
            "type": "surface"
           }
          ],
          "table": [
           {
            "cells": {
             "fill": {
              "color": "#EBF0F8"
             },
             "line": {
              "color": "white"
             }
            },
            "header": {
             "fill": {
              "color": "#C8D4E3"
             },
             "line": {
              "color": "white"
             }
            },
            "type": "table"
           }
          ]
         },
         "layout": {
          "annotationdefaults": {
           "arrowcolor": "#2a3f5f",
           "arrowhead": 0,
           "arrowwidth": 1
          },
          "autotypenumbers": "strict",
          "coloraxis": {
           "colorbar": {
            "outlinewidth": 0,
            "ticks": ""
           }
          },
          "colorscale": {
           "diverging": [
            [
             0,
             "#8e0152"
            ],
            [
             0.1,
             "#c51b7d"
            ],
            [
             0.2,
             "#de77ae"
            ],
            [
             0.3,
             "#f1b6da"
            ],
            [
             0.4,
             "#fde0ef"
            ],
            [
             0.5,
             "#f7f7f7"
            ],
            [
             0.6,
             "#e6f5d0"
            ],
            [
             0.7,
             "#b8e186"
            ],
            [
             0.8,
             "#7fbc41"
            ],
            [
             0.9,
             "#4d9221"
            ],
            [
             1,
             "#276419"
            ]
           ],
           "sequential": [
            [
             0,
             "#0d0887"
            ],
            [
             0.1111111111111111,
             "#46039f"
            ],
            [
             0.2222222222222222,
             "#7201a8"
            ],
            [
             0.3333333333333333,
             "#9c179e"
            ],
            [
             0.4444444444444444,
             "#bd3786"
            ],
            [
             0.5555555555555556,
             "#d8576b"
            ],
            [
             0.6666666666666666,
             "#ed7953"
            ],
            [
             0.7777777777777778,
             "#fb9f3a"
            ],
            [
             0.8888888888888888,
             "#fdca26"
            ],
            [
             1,
             "#f0f921"
            ]
           ],
           "sequentialminus": [
            [
             0,
             "#0d0887"
            ],
            [
             0.1111111111111111,
             "#46039f"
            ],
            [
             0.2222222222222222,
             "#7201a8"
            ],
            [
             0.3333333333333333,
             "#9c179e"
            ],
            [
             0.4444444444444444,
             "#bd3786"
            ],
            [
             0.5555555555555556,
             "#d8576b"
            ],
            [
             0.6666666666666666,
             "#ed7953"
            ],
            [
             0.7777777777777778,
             "#fb9f3a"
            ],
            [
             0.8888888888888888,
             "#fdca26"
            ],
            [
             1,
             "#f0f921"
            ]
           ]
          },
          "colorway": [
           "#636efa",
           "#EF553B",
           "#00cc96",
           "#ab63fa",
           "#FFA15A",
           "#19d3f3",
           "#FF6692",
           "#B6E880",
           "#FF97FF",
           "#FECB52"
          ],
          "font": {
           "color": "#2a3f5f"
          },
          "geo": {
           "bgcolor": "white",
           "lakecolor": "white",
           "landcolor": "#E5ECF6",
           "showlakes": true,
           "showland": true,
           "subunitcolor": "white"
          },
          "hoverlabel": {
           "align": "left"
          },
          "hovermode": "closest",
          "mapbox": {
           "style": "light"
          },
          "paper_bgcolor": "white",
          "plot_bgcolor": "#E5ECF6",
          "polar": {
           "angularaxis": {
            "gridcolor": "white",
            "linecolor": "white",
            "ticks": ""
           },
           "bgcolor": "#E5ECF6",
           "radialaxis": {
            "gridcolor": "white",
            "linecolor": "white",
            "ticks": ""
           }
          },
          "scene": {
           "xaxis": {
            "backgroundcolor": "#E5ECF6",
            "gridcolor": "white",
            "gridwidth": 2,
            "linecolor": "white",
            "showbackground": true,
            "ticks": "",
            "zerolinecolor": "white"
           },
           "yaxis": {
            "backgroundcolor": "#E5ECF6",
            "gridcolor": "white",
            "gridwidth": 2,
            "linecolor": "white",
            "showbackground": true,
            "ticks": "",
            "zerolinecolor": "white"
           },
           "zaxis": {
            "backgroundcolor": "#E5ECF6",
            "gridcolor": "white",
            "gridwidth": 2,
            "linecolor": "white",
            "showbackground": true,
            "ticks": "",
            "zerolinecolor": "white"
           }
          },
          "shapedefaults": {
           "line": {
            "color": "#2a3f5f"
           }
          },
          "ternary": {
           "aaxis": {
            "gridcolor": "white",
            "linecolor": "white",
            "ticks": ""
           },
           "baxis": {
            "gridcolor": "white",
            "linecolor": "white",
            "ticks": ""
           },
           "bgcolor": "#E5ECF6",
           "caxis": {
            "gridcolor": "white",
            "linecolor": "white",
            "ticks": ""
           }
          },
          "title": {
           "x": 0.05
          },
          "xaxis": {
           "automargin": true,
           "gridcolor": "white",
           "linecolor": "white",
           "ticks": "",
           "title": {
            "standoff": 15
           },
           "zerolinecolor": "white",
           "zerolinewidth": 2
          },
          "yaxis": {
           "automargin": true,
           "gridcolor": "white",
           "linecolor": "white",
           "ticks": "",
           "title": {
            "standoff": 15
           },
           "zerolinecolor": "white",
           "zerolinewidth": 2
          }
         }
        },
        "title": {
         "text": "Scatter plot"
        },
        "xaxis": {
         "title": {
          "text": "Sample"
         }
        },
        "yaxis": {
         "title": {
          "text": "Nights"
         }
        }
       }
      }
     },
     "metadata": {},
     "output_type": "display_data"
    }
   ],
   "source": [
    "@interact\n",
    "def scatter_plot(x=list(df.select_dtypes('number').columns),\n",
    "y=list(df.select_dtypes('number').columns)[1:]):\n",
    "\n",
    "# trace\n",
    "    trace = [go.Scatter(x=df[x], y=df[y], mode='markers')]\n",
    "\n",
    "# layout\n",
    "    layout = go.Layout(\n",
    "        title = 'Scatter plot', # Graph title\n",
    "        xaxis = dict(title = x.title()), # x-axis label\n",
    "        yaxis = dict(title = y.title()), # y-axis label\n",
    "        hovermode ='closest' # handles multiple points landing on the same vertical\n",
    "    )\n",
    "\n",
    "# fig\n",
    "    fig = go.Figure(trace, layout)\n",
    "    fig.show()"
   ]
  },
  {
   "cell_type": "code",
   "execution_count": 14,
   "metadata": {},
   "outputs": [
    {
     "data": {
      "application/vnd.jupyter.widget-view+json": {
       "model_id": "a303a5c93c8f4cd49188f621a22662f1",
       "version_major": 2,
       "version_minor": 0
      },
      "text/plain": [
       "interactive(children=(Dropdown(description='x', options=('visits', 'spend', 'nights', 'sample'), value='visits…"
      ]
     },
     "metadata": {},
     "output_type": "display_data"
    },
    {
     "data": {
      "application/vnd.plotly.v1+json": {
       "config": {
        "plotlyServerURL": "https://plot.ly"
       },
       "data": [
        {
         "mode": "markers",
         "type": "scatter",
         "x": [
          0.234580597,
          65.24503355,
          0.345071077,
          0.049240123,
          1.51071259,
          0.0618021,
          0.367208004,
          0.310822338,
          2.93512997,
          3.901216011,
          0.038885679,
          10.23359847,
          1.086051412,
          1.356035545,
          1.387791008,
          2.713714264,
          1.736801282,
          0.101923317,
          0.545823455,
          0.695676625,
          8.641076736,
          0.884922981,
          2.825404532,
          0.461557016,
          0.921604574,
          0.359010011,
          2.81389481,
          1.186111212,
          11.53070906,
          2.326267503,
          7.601542495,
          10.44449719,
          0.213691533,
          3.210247434,
          0.30421412,
          9.719323993,
          1.703753315,
          2.712873869,
          0.28253454,
          0.357246727,
          0.738101918,
          1.028480053,
          11.9780339,
          2.519229889,
          2.737071902,
          0.701195195,
          0.413437206,
          2.133570105,
          0.166197468,
          0.0821568,
          14.49117661,
          2.746024057,
          0.885815009,
          1.149283824,
          1.939208388,
          0.119193871,
          0.291506905,
          1.240318,
          0.741769493,
          2.580880374,
          0.704348028,
          0.634404402,
          0.211147249,
          24.12686254,
          3.539219054,
          1.729141176,
          3.662853416,
          21.37775612,
          0.917234004,
          0.595859826,
          0.216881111,
          6.139443547,
          5.556743935,
          1.566607952,
          0.888551578,
          2.426262945,
          11.42789036,
          0.0195619,
          0.665769994,
          0.296664,
          2.813269813,
          0.985741973,
          3.198845744,
          0.473517954,
          0.37332502,
          4.105730414,
          0.037639506,
          9.044996262,
          1.856338769,
          0.135111004,
          2.398516912,
          0.653951228,
          2.868086219,
          4.423483908,
          2.620841622,
          0.015951559,
          0.145517483,
          1.226794243,
          24.91814011,
          0.462698996,
          0.095096998,
          3.519468775,
          0.197166994,
          6.654294252,
          0.769370586,
          9.21731782,
          0.939792991,
          0.27631399,
          0.439392,
          2.089295864,
          1.170499682,
          4.014667317,
          2.421260118,
          15.21092844,
          1.718864534,
          1.132361531,
          0.427184314,
          0.420262575,
          1.799475431,
          9.679694064,
          1.530594885,
          0.329545915,
          0.120255001,
          9.317586303,
          0.143190399,
          0.143951997,
          0.009096953,
          2.719915017,
          0.905362874,
          0.555778861,
          0.285553008,
          9.060995936,
          0.426635399,
          7.278665677,
          6.746074796,
          0.255094968,
          2.0752538,
          0.1258232,
          1.509509973,
          4.39753899,
          0.337061375,
          0.733610392,
          0.086653844,
          5.852138162,
          0.814204782,
          0.185481906,
          14.64910581,
          4.943238974,
          0.30301562,
          0.604953424,
          8.691600859,
          2.634074271,
          1.543346383,
          2.011906862,
          1.141310822,
          0.04602832,
          0.48769241,
          6.993035849,
          0.323334098,
          0.041749593,
          1.639479205,
          0.286763012,
          3.96543932,
          48.0763633,
          0.042943802,
          61.35856553,
          0.176007299,
          0.560204744,
          3.648981884,
          0.51179415,
          1.907619815,
          0.404737353,
          0.542777419,
          0.165477708,
          0.140461996,
          0.660215974,
          8.986365606,
          5.100608438,
          0.278318048,
          0.179728001,
          1.518675938,
          0.836468905,
          2.441024184,
          1.806516878,
          0.156594351,
          0.346128494,
          0.294479012,
          0.326490819,
          2.981745839,
          18.72632217,
          1.77951324,
          0.166196004,
          8.186924726,
          3.699109845,
          0.282005012,
          4.73051703,
          61.58027858,
          2.032975912,
          3.461967111,
          2.097866789
         ],
         "y": [
          2.858806878,
          157.0552951,
          17.63137054,
          0.249740139,
          8.719310999,
          11.75289911,
          1.774090052,
          3.729868174,
          33.95398974,
          15.60387224,
          3.013377905,
          119.235569,
          16.00840944,
          8.29710418,
          21.76542974,
          15.62039733,
          17.76793265,
          0.645084262,
          17.0389328,
          18.22846603,
          28.91352573,
          5.962580204,
          36.59553719,
          12.34110022,
          0.45737201,
          4.595200062,
          19.03155655,
          10.62327576,
          103.5383899,
          26.62926006,
          39.41364378,
          118.534482,
          6.277895451,
          31.7488718,
          2.486763954,
          26.48541832,
          10.87488696,
          39.63284922,
          2.04241848,
          2.308775663,
          6.130027831,
          40.09659958,
          162.4430499,
          76.7193985,
          9.884364545,
          5.180244207,
          6.630489945,
          7.033708245,
          4.413360596,
          1.244799972,
          10.33976173,
          10.6011973,
          4.888309956,
          7.904043078,
          2.638633966,
          6.401095808,
          1.427052021,
          8.220340014,
          26.08732009,
          50.62177944,
          15.39558506,
          2.65395999,
          9.99301815,
          80.34514669,
          78.30057329,
          5.124004126,
          27.35001314,
          15.3545742,
          2.235569954,
          8.616719246,
          2.696873665,
          23.51463449,
          195.4450375,
          2.729077816,
          10.54529226,
          20.12502933,
          32.64192659,
          0.288450003,
          2.170051813,
          1.29005003,
          11.35257307,
          34.62949944,
          14.36529106,
          2.324014425,
          2.506990433,
          17.42495814,
          0.792410612,
          1.316274047,
          8.639070988,
          1.698469996,
          34.37877011,
          7.995735168,
          6.707318425,
          16.86991978,
          9.370161533,
          1.024204612,
          6.319503307,
          5.154041767,
          103.0974994,
          3.677520037,
          0.956031978,
          133.9768925,
          1.287340045,
          39.56129837,
          20.73692799,
          22.65644777,
          1.867449999,
          2.361660004,
          13.36550045,
          33.34242535,
          4.602894306,
          8.972204983,
          57.57279968,
          99.36720705,
          34.49075079,
          6.94066143,
          1.818459511,
          1.94180727,
          13.88025093,
          80.7341786,
          31.43045139,
          3.407991171,
          0.77926898,
          133.9994766,
          8.641065598,
          18.68079948,
          5.396846294,
          11.73483074,
          6.220968843,
          9.629177094,
          1.44904995,
          51.01202011,
          3.349822164,
          170.793294,
          13.21324015,
          7.315336704,
          42.11229825,
          25.19613266,
          13.34575272,
          28.55662012,
          17.26958656,
          0.441822201,
          7.56784153,
          20.4082551,
          1.550250769,
          2.495272279,
          44.08349219,
          10.85276103,
          3.514988899,
          7.98239401,
          57.99819672,
          26.8928082,
          12.68370241,
          45.24528503,
          10.00467169,
          3.610064268,
          29.20251942,
          60.28493297,
          3.622999907,
          0.178184882,
          3.355030537,
          2.650759935,
          9.085843921,
          355.0330883,
          1.251009941,
          210.1243804,
          2.002437025,
          8.320374489,
          5.323330164,
          22.2598238,
          17.8373127,
          38.12685776,
          9.802261353,
          8.230133057,
          9.815790176,
          5.410250187,
          96.91837227,
          20.48133111,
          10.86867809,
          0.903155982,
          44.28698349,
          9.457232893,
          6.290701151,
          15.65290666,
          0.69516623,
          5.194774091,
          32.90047455,
          15.3346653,
          19.70647049,
          131.434021,
          13.53730106,
          1.597059965,
          35.81720388,
          27.26100755,
          3.115730047,
          135.3102021,
          196.8257682,
          14.49573517,
          49.96099949,
          27.08432055
         ]
        }
       ],
       "layout": {
        "hovermode": "closest",
        "template": {
         "data": {
          "bar": [
           {
            "error_x": {
             "color": "#2a3f5f"
            },
            "error_y": {
             "color": "#2a3f5f"
            },
            "marker": {
             "line": {
              "color": "#E5ECF6",
              "width": 0.5
             },
             "pattern": {
              "fillmode": "overlay",
              "size": 10,
              "solidity": 0.2
             }
            },
            "type": "bar"
           }
          ],
          "barpolar": [
           {
            "marker": {
             "line": {
              "color": "#E5ECF6",
              "width": 0.5
             },
             "pattern": {
              "fillmode": "overlay",
              "size": 10,
              "solidity": 0.2
             }
            },
            "type": "barpolar"
           }
          ],
          "carpet": [
           {
            "aaxis": {
             "endlinecolor": "#2a3f5f",
             "gridcolor": "white",
             "linecolor": "white",
             "minorgridcolor": "white",
             "startlinecolor": "#2a3f5f"
            },
            "baxis": {
             "endlinecolor": "#2a3f5f",
             "gridcolor": "white",
             "linecolor": "white",
             "minorgridcolor": "white",
             "startlinecolor": "#2a3f5f"
            },
            "type": "carpet"
           }
          ],
          "choropleth": [
           {
            "colorbar": {
             "outlinewidth": 0,
             "ticks": ""
            },
            "type": "choropleth"
           }
          ],
          "contour": [
           {
            "colorbar": {
             "outlinewidth": 0,
             "ticks": ""
            },
            "colorscale": [
             [
              0,
              "#0d0887"
             ],
             [
              0.1111111111111111,
              "#46039f"
             ],
             [
              0.2222222222222222,
              "#7201a8"
             ],
             [
              0.3333333333333333,
              "#9c179e"
             ],
             [
              0.4444444444444444,
              "#bd3786"
             ],
             [
              0.5555555555555556,
              "#d8576b"
             ],
             [
              0.6666666666666666,
              "#ed7953"
             ],
             [
              0.7777777777777778,
              "#fb9f3a"
             ],
             [
              0.8888888888888888,
              "#fdca26"
             ],
             [
              1,
              "#f0f921"
             ]
            ],
            "type": "contour"
           }
          ],
          "contourcarpet": [
           {
            "colorbar": {
             "outlinewidth": 0,
             "ticks": ""
            },
            "type": "contourcarpet"
           }
          ],
          "heatmap": [
           {
            "colorbar": {
             "outlinewidth": 0,
             "ticks": ""
            },
            "colorscale": [
             [
              0,
              "#0d0887"
             ],
             [
              0.1111111111111111,
              "#46039f"
             ],
             [
              0.2222222222222222,
              "#7201a8"
             ],
             [
              0.3333333333333333,
              "#9c179e"
             ],
             [
              0.4444444444444444,
              "#bd3786"
             ],
             [
              0.5555555555555556,
              "#d8576b"
             ],
             [
              0.6666666666666666,
              "#ed7953"
             ],
             [
              0.7777777777777778,
              "#fb9f3a"
             ],
             [
              0.8888888888888888,
              "#fdca26"
             ],
             [
              1,
              "#f0f921"
             ]
            ],
            "type": "heatmap"
           }
          ],
          "heatmapgl": [
           {
            "colorbar": {
             "outlinewidth": 0,
             "ticks": ""
            },
            "colorscale": [
             [
              0,
              "#0d0887"
             ],
             [
              0.1111111111111111,
              "#46039f"
             ],
             [
              0.2222222222222222,
              "#7201a8"
             ],
             [
              0.3333333333333333,
              "#9c179e"
             ],
             [
              0.4444444444444444,
              "#bd3786"
             ],
             [
              0.5555555555555556,
              "#d8576b"
             ],
             [
              0.6666666666666666,
              "#ed7953"
             ],
             [
              0.7777777777777778,
              "#fb9f3a"
             ],
             [
              0.8888888888888888,
              "#fdca26"
             ],
             [
              1,
              "#f0f921"
             ]
            ],
            "type": "heatmapgl"
           }
          ],
          "histogram": [
           {
            "marker": {
             "pattern": {
              "fillmode": "overlay",
              "size": 10,
              "solidity": 0.2
             }
            },
            "type": "histogram"
           }
          ],
          "histogram2d": [
           {
            "colorbar": {
             "outlinewidth": 0,
             "ticks": ""
            },
            "colorscale": [
             [
              0,
              "#0d0887"
             ],
             [
              0.1111111111111111,
              "#46039f"
             ],
             [
              0.2222222222222222,
              "#7201a8"
             ],
             [
              0.3333333333333333,
              "#9c179e"
             ],
             [
              0.4444444444444444,
              "#bd3786"
             ],
             [
              0.5555555555555556,
              "#d8576b"
             ],
             [
              0.6666666666666666,
              "#ed7953"
             ],
             [
              0.7777777777777778,
              "#fb9f3a"
             ],
             [
              0.8888888888888888,
              "#fdca26"
             ],
             [
              1,
              "#f0f921"
             ]
            ],
            "type": "histogram2d"
           }
          ],
          "histogram2dcontour": [
           {
            "colorbar": {
             "outlinewidth": 0,
             "ticks": ""
            },
            "colorscale": [
             [
              0,
              "#0d0887"
             ],
             [
              0.1111111111111111,
              "#46039f"
             ],
             [
              0.2222222222222222,
              "#7201a8"
             ],
             [
              0.3333333333333333,
              "#9c179e"
             ],
             [
              0.4444444444444444,
              "#bd3786"
             ],
             [
              0.5555555555555556,
              "#d8576b"
             ],
             [
              0.6666666666666666,
              "#ed7953"
             ],
             [
              0.7777777777777778,
              "#fb9f3a"
             ],
             [
              0.8888888888888888,
              "#fdca26"
             ],
             [
              1,
              "#f0f921"
             ]
            ],
            "type": "histogram2dcontour"
           }
          ],
          "mesh3d": [
           {
            "colorbar": {
             "outlinewidth": 0,
             "ticks": ""
            },
            "type": "mesh3d"
           }
          ],
          "parcoords": [
           {
            "line": {
             "colorbar": {
              "outlinewidth": 0,
              "ticks": ""
             }
            },
            "type": "parcoords"
           }
          ],
          "pie": [
           {
            "automargin": true,
            "type": "pie"
           }
          ],
          "scatter": [
           {
            "fillpattern": {
             "fillmode": "overlay",
             "size": 10,
             "solidity": 0.2
            },
            "type": "scatter"
           }
          ],
          "scatter3d": [
           {
            "line": {
             "colorbar": {
              "outlinewidth": 0,
              "ticks": ""
             }
            },
            "marker": {
             "colorbar": {
              "outlinewidth": 0,
              "ticks": ""
             }
            },
            "type": "scatter3d"
           }
          ],
          "scattercarpet": [
           {
            "marker": {
             "colorbar": {
              "outlinewidth": 0,
              "ticks": ""
             }
            },
            "type": "scattercarpet"
           }
          ],
          "scattergeo": [
           {
            "marker": {
             "colorbar": {
              "outlinewidth": 0,
              "ticks": ""
             }
            },
            "type": "scattergeo"
           }
          ],
          "scattergl": [
           {
            "marker": {
             "colorbar": {
              "outlinewidth": 0,
              "ticks": ""
             }
            },
            "type": "scattergl"
           }
          ],
          "scattermapbox": [
           {
            "marker": {
             "colorbar": {
              "outlinewidth": 0,
              "ticks": ""
             }
            },
            "type": "scattermapbox"
           }
          ],
          "scatterpolar": [
           {
            "marker": {
             "colorbar": {
              "outlinewidth": 0,
              "ticks": ""
             }
            },
            "type": "scatterpolar"
           }
          ],
          "scatterpolargl": [
           {
            "marker": {
             "colorbar": {
              "outlinewidth": 0,
              "ticks": ""
             }
            },
            "type": "scatterpolargl"
           }
          ],
          "scatterternary": [
           {
            "marker": {
             "colorbar": {
              "outlinewidth": 0,
              "ticks": ""
             }
            },
            "type": "scatterternary"
           }
          ],
          "surface": [
           {
            "colorbar": {
             "outlinewidth": 0,
             "ticks": ""
            },
            "colorscale": [
             [
              0,
              "#0d0887"
             ],
             [
              0.1111111111111111,
              "#46039f"
             ],
             [
              0.2222222222222222,
              "#7201a8"
             ],
             [
              0.3333333333333333,
              "#9c179e"
             ],
             [
              0.4444444444444444,
              "#bd3786"
             ],
             [
              0.5555555555555556,
              "#d8576b"
             ],
             [
              0.6666666666666666,
              "#ed7953"
             ],
             [
              0.7777777777777778,
              "#fb9f3a"
             ],
             [
              0.8888888888888888,
              "#fdca26"
             ],
             [
              1,
              "#f0f921"
             ]
            ],
            "type": "surface"
           }
          ],
          "table": [
           {
            "cells": {
             "fill": {
              "color": "#EBF0F8"
             },
             "line": {
              "color": "white"
             }
            },
            "header": {
             "fill": {
              "color": "#C8D4E3"
             },
             "line": {
              "color": "white"
             }
            },
            "type": "table"
           }
          ]
         },
         "layout": {
          "annotationdefaults": {
           "arrowcolor": "#2a3f5f",
           "arrowhead": 0,
           "arrowwidth": 1
          },
          "autotypenumbers": "strict",
          "coloraxis": {
           "colorbar": {
            "outlinewidth": 0,
            "ticks": ""
           }
          },
          "colorscale": {
           "diverging": [
            [
             0,
             "#8e0152"
            ],
            [
             0.1,
             "#c51b7d"
            ],
            [
             0.2,
             "#de77ae"
            ],
            [
             0.3,
             "#f1b6da"
            ],
            [
             0.4,
             "#fde0ef"
            ],
            [
             0.5,
             "#f7f7f7"
            ],
            [
             0.6,
             "#e6f5d0"
            ],
            [
             0.7,
             "#b8e186"
            ],
            [
             0.8,
             "#7fbc41"
            ],
            [
             0.9,
             "#4d9221"
            ],
            [
             1,
             "#276419"
            ]
           ],
           "sequential": [
            [
             0,
             "#0d0887"
            ],
            [
             0.1111111111111111,
             "#46039f"
            ],
            [
             0.2222222222222222,
             "#7201a8"
            ],
            [
             0.3333333333333333,
             "#9c179e"
            ],
            [
             0.4444444444444444,
             "#bd3786"
            ],
            [
             0.5555555555555556,
             "#d8576b"
            ],
            [
             0.6666666666666666,
             "#ed7953"
            ],
            [
             0.7777777777777778,
             "#fb9f3a"
            ],
            [
             0.8888888888888888,
             "#fdca26"
            ],
            [
             1,
             "#f0f921"
            ]
           ],
           "sequentialminus": [
            [
             0,
             "#0d0887"
            ],
            [
             0.1111111111111111,
             "#46039f"
            ],
            [
             0.2222222222222222,
             "#7201a8"
            ],
            [
             0.3333333333333333,
             "#9c179e"
            ],
            [
             0.4444444444444444,
             "#bd3786"
            ],
            [
             0.5555555555555556,
             "#d8576b"
            ],
            [
             0.6666666666666666,
             "#ed7953"
            ],
            [
             0.7777777777777778,
             "#fb9f3a"
            ],
            [
             0.8888888888888888,
             "#fdca26"
            ],
            [
             1,
             "#f0f921"
            ]
           ]
          },
          "colorway": [
           "#636efa",
           "#EF553B",
           "#00cc96",
           "#ab63fa",
           "#FFA15A",
           "#19d3f3",
           "#FF6692",
           "#B6E880",
           "#FF97FF",
           "#FECB52"
          ],
          "font": {
           "color": "#2a3f5f"
          },
          "geo": {
           "bgcolor": "white",
           "lakecolor": "white",
           "landcolor": "#E5ECF6",
           "showlakes": true,
           "showland": true,
           "subunitcolor": "white"
          },
          "hoverlabel": {
           "align": "left"
          },
          "hovermode": "closest",
          "mapbox": {
           "style": "light"
          },
          "paper_bgcolor": "white",
          "plot_bgcolor": "#E5ECF6",
          "polar": {
           "angularaxis": {
            "gridcolor": "white",
            "linecolor": "white",
            "ticks": ""
           },
           "bgcolor": "#E5ECF6",
           "radialaxis": {
            "gridcolor": "white",
            "linecolor": "white",
            "ticks": ""
           }
          },
          "scene": {
           "xaxis": {
            "backgroundcolor": "#E5ECF6",
            "gridcolor": "white",
            "gridwidth": 2,
            "linecolor": "white",
            "showbackground": true,
            "ticks": "",
            "zerolinecolor": "white"
           },
           "yaxis": {
            "backgroundcolor": "#E5ECF6",
            "gridcolor": "white",
            "gridwidth": 2,
            "linecolor": "white",
            "showbackground": true,
            "ticks": "",
            "zerolinecolor": "white"
           },
           "zaxis": {
            "backgroundcolor": "#E5ECF6",
            "gridcolor": "white",
            "gridwidth": 2,
            "linecolor": "white",
            "showbackground": true,
            "ticks": "",
            "zerolinecolor": "white"
           }
          },
          "shapedefaults": {
           "line": {
            "color": "#2a3f5f"
           }
          },
          "ternary": {
           "aaxis": {
            "gridcolor": "white",
            "linecolor": "white",
            "ticks": ""
           },
           "baxis": {
            "gridcolor": "white",
            "linecolor": "white",
            "ticks": ""
           },
           "bgcolor": "#E5ECF6",
           "caxis": {
            "gridcolor": "white",
            "linecolor": "white",
            "ticks": ""
           }
          },
          "title": {
           "x": 0.05
          },
          "xaxis": {
           "automargin": true,
           "gridcolor": "white",
           "linecolor": "white",
           "ticks": "",
           "title": {
            "standoff": 15
           },
           "zerolinecolor": "white",
           "zerolinewidth": 2
          },
          "yaxis": {
           "automargin": true,
           "gridcolor": "white",
           "linecolor": "white",
           "ticks": "",
           "title": {
            "standoff": 15
           },
           "zerolinecolor": "white",
           "zerolinewidth": 2
          }
         }
        },
        "title": {
         "text": "Scatter plot"
        },
        "xaxis": {
         "title": {
          "text": "Spend"
         }
        },
        "yaxis": {
         "title": {
          "text": "Nights"
         }
        }
       }
      }
     },
     "metadata": {},
     "output_type": "display_data"
    },
    {
     "data": {
      "application/vnd.plotly.v1+json": {
       "config": {
        "plotlyServerURL": "https://plot.ly"
       },
       "data": [
        {
         "mode": "markers",
         "type": "scatter",
         "x": [
          1.83276692,
          77.08636189,
          2.518767118,
          0.252168119,
          1.670090497,
          0.863591999,
          0.554403007,
          1.243289351,
          3.547149062,
          4.231808722,
          0.337852836,
          3.896516919,
          1.704241991,
          5.754393756,
          2.07782796,
          1.557950169,
          3.687795043,
          0.645084262,
          0.288795471,
          0.666998386,
          6.120822027,
          1.601809978,
          6.656979382,
          2.468219995,
          0.45737201,
          0.539923012,
          7.211820185,
          1.184196472,
          23.1964072,
          3.722707957,
          23.7141287,
          24.14897054,
          1.320807576,
          1.985804707,
          1.657842636,
          1.681087732,
          5.128149986,
          7.982546866,
          0.6808061,
          2.164061069,
          3.065013915,
          2.004829884,
          34.84245205,
          0.659792006,
          4.386924088,
          2.225766242,
          1.366029039,
          4.687372357,
          1.345466793,
          0.311199993,
          1.033976197,
          4.765266687,
          0.698329002,
          3.547779009,
          1.721094489,
          1.608933643,
          0.738424987,
          0.703885004,
          4.326936007,
          5.210334003,
          1.282965422,
          0.461232007,
          0.978234589,
          50.95023134,
          16.16023821,
          1.136736989,
          14.82878906,
          1.395870447,
          1.501060009,
          0.576675415,
          0.911567569,
          4.35989666,
          3.735993922,
          0.977400005,
          5.135771692,
          4.883844852,
          21.15421495,
          0.297109008,
          1.499527037,
          0.430016994,
          4.996351987,
          0.517394006,
          8.139622182,
          0.581003606,
          1.253495216,
          7.380311221,
          0.396205306,
          0.438758016,
          4.222417772,
          0.727649987,
          2.942228004,
          2.727745295,
          1.005662978,
          1.445040464,
          5.094623446,
          1.035635233,
          1.995504975,
          1.772184253,
          10.57445323,
          0.459690005,
          0.478015989,
          4.531228691,
          0.340801001,
          1.915296018,
          2.070673227,
          8.932121873,
          0.466861993,
          0.337379992,
          1.67068994,
          3.048195481,
          1.150723577,
          3.889002204,
          1.599239945,
          29.86894214,
          9.300332963,
          1.735165358,
          0.363691896,
          0.27740103,
          0.991446495,
          33.65653107,
          3.044013977,
          0.486855894,
          0.239775002,
          28.96966121,
          1.128068328,
          0.549434006,
          1.803054094,
          2.244542271,
          1.312989712,
          0.504307926,
          0.511547983,
          4.530807316,
          1.368722022,
          4.388384402,
          7.668247759,
          1.465333045,
          8.766806841,
          0.484541029,
          3.464958191,
          2.491373032,
          1.278018832,
          0.416630298,
          1.915459752,
          4.343936086,
          1.550250769,
          1.663514853,
          28.52375847,
          4.316403866,
          1.798651218,
          4.118746966,
          11.07647407,
          5.635868192,
          9.168830395,
          1.005450726,
          3.412240416,
          0.902516067,
          1.560100973,
          8.801215112,
          1.609801024,
          0.178184882,
          2.118069887,
          0.898320019,
          4.378682852,
          72.2870928,
          0.254675001,
          46.43372071,
          0.732456997,
          1.609086752,
          5.324310064,
          1.046332955,
          1.687707245,
          0.565258861,
          1.483398318,
          1.648423553,
          1.400140047,
          0.705408275,
          19.94044971,
          5.530998886,
          1.367468596,
          0.451577991,
          2.373745382,
          3.749412954,
          2.661627293,
          4.344715565,
          0.69516623,
          4.703987092,
          2.354168653,
          0.849264801,
          10.92720556,
          0.833490789,
          0.821895421,
          0.603052974,
          7.76944989,
          21.08991194,
          1.038579941,
          1.856920987,
          43.91430146,
          1.782263994,
          8.483212948,
          4.689925015
         ],
         "y": [
          0.234580597,
          65.24503355,
          0.345071077,
          0.049240123,
          1.51071259,
          0.0618021,
          0.367208004,
          0.310822338,
          2.93512997,
          3.901216011,
          0.038885679,
          10.23359847,
          1.086051412,
          1.356035545,
          1.387791008,
          2.713714264,
          1.736801282,
          0.101923317,
          0.545823455,
          0.695676625,
          8.641076736,
          0.884922981,
          2.825404532,
          0.461557016,
          0.921604574,
          0.359010011,
          2.81389481,
          1.186111212,
          11.53070906,
          2.326267503,
          7.601542495,
          10.44449719,
          0.213691533,
          3.210247434,
          0.30421412,
          9.719323993,
          1.703753315,
          2.712873869,
          0.28253454,
          0.357246727,
          0.738101918,
          1.028480053,
          11.9780339,
          2.519229889,
          2.737071902,
          0.701195195,
          0.413437206,
          2.133570105,
          0.166197468,
          0.0821568,
          14.49117661,
          2.746024057,
          0.885815009,
          1.149283824,
          1.939208388,
          0.119193871,
          0.291506905,
          1.240318,
          0.741769493,
          2.580880374,
          0.704348028,
          0.634404402,
          0.211147249,
          24.12686254,
          3.539219054,
          1.729141176,
          3.662853416,
          21.37775612,
          0.917234004,
          0.595859826,
          0.216881111,
          6.139443547,
          5.556743935,
          1.566607952,
          0.888551578,
          2.426262945,
          11.42789036,
          0.0195619,
          0.665769994,
          0.296664,
          2.813269813,
          0.985741973,
          3.198845744,
          0.473517954,
          0.37332502,
          4.105730414,
          0.037639506,
          9.044996262,
          1.856338769,
          0.135111004,
          2.398516912,
          0.653951228,
          2.868086219,
          4.423483908,
          2.620841622,
          0.015951559,
          0.145517483,
          1.226794243,
          24.91814011,
          0.462698996,
          0.095096998,
          3.519468775,
          0.197166994,
          6.654294252,
          0.769370586,
          9.21731782,
          0.939792991,
          0.27631399,
          0.439392,
          2.089295864,
          1.170499682,
          4.014667317,
          2.421260118,
          15.21092844,
          1.718864534,
          1.132361531,
          0.427184314,
          0.420262575,
          1.799475431,
          9.679694064,
          1.530594885,
          0.329545915,
          0.120255001,
          9.317586303,
          0.143190399,
          0.143951997,
          0.009096953,
          2.719915017,
          0.905362874,
          0.555778861,
          0.285553008,
          9.060995936,
          0.426635399,
          7.278665677,
          6.746074796,
          0.255094968,
          2.0752538,
          0.1258232,
          1.509509973,
          4.39753899,
          0.337061375,
          0.733610392,
          0.086653844,
          5.852138162,
          0.814204782,
          0.185481906,
          14.64910581,
          4.943238974,
          0.30301562,
          0.604953424,
          8.691600859,
          2.634074271,
          1.543346383,
          2.011906862,
          1.141310822,
          0.04602832,
          0.48769241,
          6.993035849,
          0.323334098,
          0.041749593,
          1.639479205,
          0.286763012,
          3.96543932,
          48.0763633,
          0.042943802,
          61.35856553,
          0.176007299,
          0.560204744,
          3.648981884,
          0.51179415,
          1.907619815,
          0.404737353,
          0.542777419,
          0.165477708,
          0.140461996,
          0.660215974,
          8.986365606,
          5.100608438,
          0.278318048,
          0.179728001,
          1.518675938,
          0.836468905,
          2.441024184,
          1.806516878,
          0.156594351,
          0.346128494,
          0.294479012,
          0.326490819,
          2.981745839,
          18.72632217,
          1.77951324,
          0.166196004,
          8.186924726,
          3.699109845,
          0.282005012,
          4.73051703,
          61.58027858,
          2.032975912,
          3.461967111,
          2.097866789
         ]
        }
       ],
       "layout": {
        "hovermode": "closest",
        "template": {
         "data": {
          "bar": [
           {
            "error_x": {
             "color": "#2a3f5f"
            },
            "error_y": {
             "color": "#2a3f5f"
            },
            "marker": {
             "line": {
              "color": "#E5ECF6",
              "width": 0.5
             },
             "pattern": {
              "fillmode": "overlay",
              "size": 10,
              "solidity": 0.2
             }
            },
            "type": "bar"
           }
          ],
          "barpolar": [
           {
            "marker": {
             "line": {
              "color": "#E5ECF6",
              "width": 0.5
             },
             "pattern": {
              "fillmode": "overlay",
              "size": 10,
              "solidity": 0.2
             }
            },
            "type": "barpolar"
           }
          ],
          "carpet": [
           {
            "aaxis": {
             "endlinecolor": "#2a3f5f",
             "gridcolor": "white",
             "linecolor": "white",
             "minorgridcolor": "white",
             "startlinecolor": "#2a3f5f"
            },
            "baxis": {
             "endlinecolor": "#2a3f5f",
             "gridcolor": "white",
             "linecolor": "white",
             "minorgridcolor": "white",
             "startlinecolor": "#2a3f5f"
            },
            "type": "carpet"
           }
          ],
          "choropleth": [
           {
            "colorbar": {
             "outlinewidth": 0,
             "ticks": ""
            },
            "type": "choropleth"
           }
          ],
          "contour": [
           {
            "colorbar": {
             "outlinewidth": 0,
             "ticks": ""
            },
            "colorscale": [
             [
              0,
              "#0d0887"
             ],
             [
              0.1111111111111111,
              "#46039f"
             ],
             [
              0.2222222222222222,
              "#7201a8"
             ],
             [
              0.3333333333333333,
              "#9c179e"
             ],
             [
              0.4444444444444444,
              "#bd3786"
             ],
             [
              0.5555555555555556,
              "#d8576b"
             ],
             [
              0.6666666666666666,
              "#ed7953"
             ],
             [
              0.7777777777777778,
              "#fb9f3a"
             ],
             [
              0.8888888888888888,
              "#fdca26"
             ],
             [
              1,
              "#f0f921"
             ]
            ],
            "type": "contour"
           }
          ],
          "contourcarpet": [
           {
            "colorbar": {
             "outlinewidth": 0,
             "ticks": ""
            },
            "type": "contourcarpet"
           }
          ],
          "heatmap": [
           {
            "colorbar": {
             "outlinewidth": 0,
             "ticks": ""
            },
            "colorscale": [
             [
              0,
              "#0d0887"
             ],
             [
              0.1111111111111111,
              "#46039f"
             ],
             [
              0.2222222222222222,
              "#7201a8"
             ],
             [
              0.3333333333333333,
              "#9c179e"
             ],
             [
              0.4444444444444444,
              "#bd3786"
             ],
             [
              0.5555555555555556,
              "#d8576b"
             ],
             [
              0.6666666666666666,
              "#ed7953"
             ],
             [
              0.7777777777777778,
              "#fb9f3a"
             ],
             [
              0.8888888888888888,
              "#fdca26"
             ],
             [
              1,
              "#f0f921"
             ]
            ],
            "type": "heatmap"
           }
          ],
          "heatmapgl": [
           {
            "colorbar": {
             "outlinewidth": 0,
             "ticks": ""
            },
            "colorscale": [
             [
              0,
              "#0d0887"
             ],
             [
              0.1111111111111111,
              "#46039f"
             ],
             [
              0.2222222222222222,
              "#7201a8"
             ],
             [
              0.3333333333333333,
              "#9c179e"
             ],
             [
              0.4444444444444444,
              "#bd3786"
             ],
             [
              0.5555555555555556,
              "#d8576b"
             ],
             [
              0.6666666666666666,
              "#ed7953"
             ],
             [
              0.7777777777777778,
              "#fb9f3a"
             ],
             [
              0.8888888888888888,
              "#fdca26"
             ],
             [
              1,
              "#f0f921"
             ]
            ],
            "type": "heatmapgl"
           }
          ],
          "histogram": [
           {
            "marker": {
             "pattern": {
              "fillmode": "overlay",
              "size": 10,
              "solidity": 0.2
             }
            },
            "type": "histogram"
           }
          ],
          "histogram2d": [
           {
            "colorbar": {
             "outlinewidth": 0,
             "ticks": ""
            },
            "colorscale": [
             [
              0,
              "#0d0887"
             ],
             [
              0.1111111111111111,
              "#46039f"
             ],
             [
              0.2222222222222222,
              "#7201a8"
             ],
             [
              0.3333333333333333,
              "#9c179e"
             ],
             [
              0.4444444444444444,
              "#bd3786"
             ],
             [
              0.5555555555555556,
              "#d8576b"
             ],
             [
              0.6666666666666666,
              "#ed7953"
             ],
             [
              0.7777777777777778,
              "#fb9f3a"
             ],
             [
              0.8888888888888888,
              "#fdca26"
             ],
             [
              1,
              "#f0f921"
             ]
            ],
            "type": "histogram2d"
           }
          ],
          "histogram2dcontour": [
           {
            "colorbar": {
             "outlinewidth": 0,
             "ticks": ""
            },
            "colorscale": [
             [
              0,
              "#0d0887"
             ],
             [
              0.1111111111111111,
              "#46039f"
             ],
             [
              0.2222222222222222,
              "#7201a8"
             ],
             [
              0.3333333333333333,
              "#9c179e"
             ],
             [
              0.4444444444444444,
              "#bd3786"
             ],
             [
              0.5555555555555556,
              "#d8576b"
             ],
             [
              0.6666666666666666,
              "#ed7953"
             ],
             [
              0.7777777777777778,
              "#fb9f3a"
             ],
             [
              0.8888888888888888,
              "#fdca26"
             ],
             [
              1,
              "#f0f921"
             ]
            ],
            "type": "histogram2dcontour"
           }
          ],
          "mesh3d": [
           {
            "colorbar": {
             "outlinewidth": 0,
             "ticks": ""
            },
            "type": "mesh3d"
           }
          ],
          "parcoords": [
           {
            "line": {
             "colorbar": {
              "outlinewidth": 0,
              "ticks": ""
             }
            },
            "type": "parcoords"
           }
          ],
          "pie": [
           {
            "automargin": true,
            "type": "pie"
           }
          ],
          "scatter": [
           {
            "fillpattern": {
             "fillmode": "overlay",
             "size": 10,
             "solidity": 0.2
            },
            "type": "scatter"
           }
          ],
          "scatter3d": [
           {
            "line": {
             "colorbar": {
              "outlinewidth": 0,
              "ticks": ""
             }
            },
            "marker": {
             "colorbar": {
              "outlinewidth": 0,
              "ticks": ""
             }
            },
            "type": "scatter3d"
           }
          ],
          "scattercarpet": [
           {
            "marker": {
             "colorbar": {
              "outlinewidth": 0,
              "ticks": ""
             }
            },
            "type": "scattercarpet"
           }
          ],
          "scattergeo": [
           {
            "marker": {
             "colorbar": {
              "outlinewidth": 0,
              "ticks": ""
             }
            },
            "type": "scattergeo"
           }
          ],
          "scattergl": [
           {
            "marker": {
             "colorbar": {
              "outlinewidth": 0,
              "ticks": ""
             }
            },
            "type": "scattergl"
           }
          ],
          "scattermapbox": [
           {
            "marker": {
             "colorbar": {
              "outlinewidth": 0,
              "ticks": ""
             }
            },
            "type": "scattermapbox"
           }
          ],
          "scatterpolar": [
           {
            "marker": {
             "colorbar": {
              "outlinewidth": 0,
              "ticks": ""
             }
            },
            "type": "scatterpolar"
           }
          ],
          "scatterpolargl": [
           {
            "marker": {
             "colorbar": {
              "outlinewidth": 0,
              "ticks": ""
             }
            },
            "type": "scatterpolargl"
           }
          ],
          "scatterternary": [
           {
            "marker": {
             "colorbar": {
              "outlinewidth": 0,
              "ticks": ""
             }
            },
            "type": "scatterternary"
           }
          ],
          "surface": [
           {
            "colorbar": {
             "outlinewidth": 0,
             "ticks": ""
            },
            "colorscale": [
             [
              0,
              "#0d0887"
             ],
             [
              0.1111111111111111,
              "#46039f"
             ],
             [
              0.2222222222222222,
              "#7201a8"
             ],
             [
              0.3333333333333333,
              "#9c179e"
             ],
             [
              0.4444444444444444,
              "#bd3786"
             ],
             [
              0.5555555555555556,
              "#d8576b"
             ],
             [
              0.6666666666666666,
              "#ed7953"
             ],
             [
              0.7777777777777778,
              "#fb9f3a"
             ],
             [
              0.8888888888888888,
              "#fdca26"
             ],
             [
              1,
              "#f0f921"
             ]
            ],
            "type": "surface"
           }
          ],
          "table": [
           {
            "cells": {
             "fill": {
              "color": "#EBF0F8"
             },
             "line": {
              "color": "white"
             }
            },
            "header": {
             "fill": {
              "color": "#C8D4E3"
             },
             "line": {
              "color": "white"
             }
            },
            "type": "table"
           }
          ]
         },
         "layout": {
          "annotationdefaults": {
           "arrowcolor": "#2a3f5f",
           "arrowhead": 0,
           "arrowwidth": 1
          },
          "autotypenumbers": "strict",
          "coloraxis": {
           "colorbar": {
            "outlinewidth": 0,
            "ticks": ""
           }
          },
          "colorscale": {
           "diverging": [
            [
             0,
             "#8e0152"
            ],
            [
             0.1,
             "#c51b7d"
            ],
            [
             0.2,
             "#de77ae"
            ],
            [
             0.3,
             "#f1b6da"
            ],
            [
             0.4,
             "#fde0ef"
            ],
            [
             0.5,
             "#f7f7f7"
            ],
            [
             0.6,
             "#e6f5d0"
            ],
            [
             0.7,
             "#b8e186"
            ],
            [
             0.8,
             "#7fbc41"
            ],
            [
             0.9,
             "#4d9221"
            ],
            [
             1,
             "#276419"
            ]
           ],
           "sequential": [
            [
             0,
             "#0d0887"
            ],
            [
             0.1111111111111111,
             "#46039f"
            ],
            [
             0.2222222222222222,
             "#7201a8"
            ],
            [
             0.3333333333333333,
             "#9c179e"
            ],
            [
             0.4444444444444444,
             "#bd3786"
            ],
            [
             0.5555555555555556,
             "#d8576b"
            ],
            [
             0.6666666666666666,
             "#ed7953"
            ],
            [
             0.7777777777777778,
             "#fb9f3a"
            ],
            [
             0.8888888888888888,
             "#fdca26"
            ],
            [
             1,
             "#f0f921"
            ]
           ],
           "sequentialminus": [
            [
             0,
             "#0d0887"
            ],
            [
             0.1111111111111111,
             "#46039f"
            ],
            [
             0.2222222222222222,
             "#7201a8"
            ],
            [
             0.3333333333333333,
             "#9c179e"
            ],
            [
             0.4444444444444444,
             "#bd3786"
            ],
            [
             0.5555555555555556,
             "#d8576b"
            ],
            [
             0.6666666666666666,
             "#ed7953"
            ],
            [
             0.7777777777777778,
             "#fb9f3a"
            ],
            [
             0.8888888888888888,
             "#fdca26"
            ],
            [
             1,
             "#f0f921"
            ]
           ]
          },
          "colorway": [
           "#636efa",
           "#EF553B",
           "#00cc96",
           "#ab63fa",
           "#FFA15A",
           "#19d3f3",
           "#FF6692",
           "#B6E880",
           "#FF97FF",
           "#FECB52"
          ],
          "font": {
           "color": "#2a3f5f"
          },
          "geo": {
           "bgcolor": "white",
           "lakecolor": "white",
           "landcolor": "#E5ECF6",
           "showlakes": true,
           "showland": true,
           "subunitcolor": "white"
          },
          "hoverlabel": {
           "align": "left"
          },
          "hovermode": "closest",
          "mapbox": {
           "style": "light"
          },
          "paper_bgcolor": "white",
          "plot_bgcolor": "#E5ECF6",
          "polar": {
           "angularaxis": {
            "gridcolor": "white",
            "linecolor": "white",
            "ticks": ""
           },
           "bgcolor": "#E5ECF6",
           "radialaxis": {
            "gridcolor": "white",
            "linecolor": "white",
            "ticks": ""
           }
          },
          "scene": {
           "xaxis": {
            "backgroundcolor": "#E5ECF6",
            "gridcolor": "white",
            "gridwidth": 2,
            "linecolor": "white",
            "showbackground": true,
            "ticks": "",
            "zerolinecolor": "white"
           },
           "yaxis": {
            "backgroundcolor": "#E5ECF6",
            "gridcolor": "white",
            "gridwidth": 2,
            "linecolor": "white",
            "showbackground": true,
            "ticks": "",
            "zerolinecolor": "white"
           },
           "zaxis": {
            "backgroundcolor": "#E5ECF6",
            "gridcolor": "white",
            "gridwidth": 2,
            "linecolor": "white",
            "showbackground": true,
            "ticks": "",
            "zerolinecolor": "white"
           }
          },
          "shapedefaults": {
           "line": {
            "color": "#2a3f5f"
           }
          },
          "ternary": {
           "aaxis": {
            "gridcolor": "white",
            "linecolor": "white",
            "ticks": ""
           },
           "baxis": {
            "gridcolor": "white",
            "linecolor": "white",
            "ticks": ""
           },
           "bgcolor": "#E5ECF6",
           "caxis": {
            "gridcolor": "white",
            "linecolor": "white",
            "ticks": ""
           }
          },
          "title": {
           "x": 0.05
          },
          "xaxis": {
           "automargin": true,
           "gridcolor": "white",
           "linecolor": "white",
           "ticks": "",
           "title": {
            "standoff": 15
           },
           "zerolinecolor": "white",
           "zerolinewidth": 2
          },
          "yaxis": {
           "automargin": true,
           "gridcolor": "white",
           "linecolor": "white",
           "ticks": "",
           "title": {
            "standoff": 15
           },
           "zerolinecolor": "white",
           "zerolinewidth": 2
          }
         }
        },
        "title": {
         "text": "Scatter plot"
        },
        "xaxis": {
         "title": {
          "text": "Visits"
         }
        },
        "yaxis": {
         "title": {
          "text": "Spend"
         }
        }
       }
      }
     },
     "metadata": {},
     "output_type": "display_data"
    }
   ],
   "source": [
    "@interact_manual\n",
    "def scatter_plot(x=list(df.select_dtypes('number').columns), \n",
    "                 y=list(df.select_dtypes('number').columns)[1:]):\n",
    "\n",
    "    # trace\n",
    "    trace = [go.Scatter(x=df[x], y=df[y], mode='markers')]\n",
    "\n",
    "    # layout\n",
    "    layout = go.Layout(\n",
    "                title = 'Scatter plot', # Graph title\n",
    "                xaxis = dict(title = x.title()), # x-axis label\n",
    "                yaxis = dict(title = y.title()), # y-axis label\n",
    "                hovermode ='closest' # handles multiple points landing on the same vertical\n",
    "    )\n",
    "\n",
    "    # fig\n",
    "    fig = go.Figure(trace, layout)\n",
    "    fig.show()"
   ]
  },
  {
   "cell_type": "code",
   "execution_count": null,
   "metadata": {},
   "outputs": [],
   "source": []
  }
 ],
 "metadata": {
  "kernelspec": {
   "display_name": "Python 3.9.13 64-bit",
   "language": "python",
   "name": "python3"
  },
  "language_info": {
   "codemirror_mode": {
    "name": "ipython",
    "version": 3
   },
   "file_extension": ".py",
   "mimetype": "text/x-python",
   "name": "python",
   "nbconvert_exporter": "python",
   "pygments_lexer": "ipython3",
   "version": "3.9.13"
  },
  "orig_nbformat": 4,
  "vscode": {
   "interpreter": {
    "hash": "11938c6bc6919ae2720b4d5011047913343b08a43b18698fd82dedb0d4417594"
   }
  }
 },
 "nbformat": 4,
 "nbformat_minor": 2
}
