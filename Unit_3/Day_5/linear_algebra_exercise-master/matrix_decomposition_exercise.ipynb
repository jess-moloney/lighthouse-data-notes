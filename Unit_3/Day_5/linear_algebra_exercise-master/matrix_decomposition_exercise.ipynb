{
 "cells": [
  {
   "cell_type": "markdown",
   "metadata": {},
   "source": [
    "## Matrix Decomposition Exercise"
   ]
  },
  {
   "cell_type": "code",
   "execution_count": 3,
   "metadata": {
    "ExecuteTime": {
     "end_time": "2020-01-30T08:49:15.705544Z",
     "start_time": "2020-01-30T08:49:15.691050Z"
    }
   },
   "outputs": [],
   "source": [
    "# import numpy\n",
    "import numpy as np"
   ]
  },
  {
   "cell_type": "markdown",
   "metadata": {
    "ExecuteTime": {
     "end_time": "2020-01-30T08:49:16.033687Z",
     "start_time": "2020-01-30T08:49:16.022845Z"
    }
   },
   "source": [
    "**Task:** Generate a random matrix 'A' with a shape of 150x50, using the '**np.random.rand**' function."
   ]
  },
  {
   "cell_type": "code",
   "execution_count": 28,
   "metadata": {},
   "outputs": [],
   "source": [
    "A = np.random.rand(150,50)"
   ]
  },
  {
   "cell_type": "markdown",
   "metadata": {
    "ExecuteTime": {
     "end_time": "2020-01-30T08:49:16.306858Z",
     "start_time": "2020-01-30T08:49:16.291806Z"
    }
   },
   "source": [
    "**Task:** Check the shape of 'A'."
   ]
  },
  {
   "cell_type": "code",
   "execution_count": 29,
   "metadata": {},
   "outputs": [
    {
     "data": {
      "text/plain": [
       "(150, 50)"
      ]
     },
     "execution_count": 29,
     "metadata": {},
     "output_type": "execute_result"
    }
   ],
   "source": [
    "A.shape"
   ]
  },
  {
   "cell_type": "markdown",
   "metadata": {
    "ExecuteTime": {
     "end_time": "2020-01-30T08:49:16.700850Z",
     "start_time": "2020-01-30T08:49:16.658980Z"
    }
   },
   "source": [
    "**Task:** Decompose matrix 'A' with SVD using numpy (decompose into matrices U,D,V)."
   ]
  },
  {
   "cell_type": "code",
   "execution_count": 30,
   "metadata": {},
   "outputs": [],
   "source": [
    "U, D, V = np.linalg.svd(A, full_matrices=False)"
   ]
  },
  {
   "cell_type": "markdown",
   "metadata": {
    "ExecuteTime": {
     "end_time": "2020-01-30T08:49:17.007803Z",
     "start_time": "2020-01-30T08:49:17.000154Z"
    }
   },
   "source": [
    "**Task:** Check the shapes of matrices U,D,V."
   ]
  },
  {
   "cell_type": "code",
   "execution_count": 31,
   "metadata": {},
   "outputs": [
    {
     "name": "stdout",
     "output_type": "stream",
     "text": [
      "(150, 50)\n",
      "(50,)\n",
      "(50, 50)\n"
     ]
    }
   ],
   "source": [
    "print(U.shape)\n",
    "print(D.shape)\n",
    "print(V.shape)"
   ]
  },
  {
   "cell_type": "markdown",
   "metadata": {
    "ExecuteTime": {
     "end_time": "2020-01-30T08:49:17.380307Z",
     "start_time": "2020-01-30T08:49:17.364171Z"
    }
   },
   "source": [
    "**Task:** Reconstruct matrix 'A' from matrices U,D,V."
   ]
  },
  {
   "cell_type": "code",
   "execution_count": 32,
   "metadata": {},
   "outputs": [],
   "source": [
    "A_rec = U.dot(np.diag(D)).dot(V)"
   ]
  },
  {
   "cell_type": "markdown",
   "metadata": {
    "ExecuteTime": {
     "end_time": "2020-01-30T08:49:17.782966Z",
     "start_time": "2020-01-30T08:49:17.775093Z"
    }
   },
   "source": [
    "**Task:** Compare matrices 'A' and 'A_rec' with the [**np.allclose**](https://numpy.org/doc/stable/reference/generated/numpy.allclose.html) function."
   ]
  },
  {
   "cell_type": "code",
   "execution_count": 33,
   "metadata": {},
   "outputs": [
    {
     "data": {
      "text/plain": [
       "True"
      ]
     },
     "execution_count": 33,
     "metadata": {},
     "output_type": "execute_result"
    }
   ],
   "source": [
    "np.allclose(A, A_rec)"
   ]
  },
  {
   "cell_type": "markdown",
   "metadata": {
    "ExecuteTime": {
     "end_time": "2020-01-30T08:49:18.170344Z",
     "start_time": "2020-01-30T08:49:18.164685Z"
    }
   },
   "source": [
    "**Task:** Reduce the dimnesion of matrix 'A' to shape 150x20 with SVD (try both equations)."
   ]
  },
  {
   "cell_type": "code",
   "execution_count": 34,
   "metadata": {},
   "outputs": [],
   "source": [
    "A_reduced1 = U[:,:20].dot(np.diag(D[:20]))\n",
    "A_reduced2 = A.dot(V[:20,:].T)"
   ]
  },
  {
   "cell_type": "markdown",
   "metadata": {
    "ExecuteTime": {
     "end_time": "2020-01-30T08:49:18.526337Z",
     "start_time": "2020-01-30T08:49:18.519511Z"
    }
   },
   "source": [
    "**Task:** Print the shape."
   ]
  },
  {
   "cell_type": "code",
   "execution_count": 35,
   "metadata": {},
   "outputs": [
    {
     "name": "stdout",
     "output_type": "stream",
     "text": [
      "(150, 20)\n",
      "(150, 20)\n"
     ]
    }
   ],
   "source": [
    "print(A_reduced1.shape)\n",
    "print(A_reduced2.shape)"
   ]
  },
  {
   "cell_type": "markdown",
   "metadata": {
    "ExecuteTime": {
     "end_time": "2020-01-30T08:49:18.858261Z",
     "start_time": "2020-01-30T08:49:18.850912Z"
    }
   },
   "source": [
    "**Task:** Compare the two results with the [**np.allclose**](https://numpy.org/doc/stable/reference/generated/numpy.allclose.html) function."
   ]
  },
  {
   "cell_type": "code",
   "execution_count": 36,
   "metadata": {},
   "outputs": [
    {
     "data": {
      "text/plain": [
       "True"
      ]
     },
     "execution_count": 36,
     "metadata": {},
     "output_type": "execute_result"
    }
   ],
   "source": [
    "np.allclose(A_reduced1, A_reduced2)"
   ]
  },
  {
   "cell_type": "markdown",
   "metadata": {
    "ExecuteTime": {
     "end_time": "2020-01-30T08:49:19.245461Z",
     "start_time": "2020-01-30T08:49:19.237681Z"
    }
   },
   "source": [
    "**Task:** Filter the noise from matrix 'A' with 20 largest singular vectors (keep the shape of (150x50))."
   ]
  },
  {
   "cell_type": "code",
   "execution_count": 37,
   "metadata": {},
   "outputs": [],
   "source": [
    "A_noise_filtered = U[:,:20].dot(np.diag(D[:20])).dot(V[:20,:])"
   ]
  },
  {
   "cell_type": "markdown",
   "metadata": {
    "ExecuteTime": {
     "end_time": "2020-01-30T08:49:19.787237Z",
     "start_time": "2020-01-30T08:49:19.775025Z"
    }
   },
   "source": [
    "**Task:** Check the shape."
   ]
  },
  {
   "cell_type": "code",
   "execution_count": 38,
   "metadata": {},
   "outputs": [
    {
     "data": {
      "text/plain": [
       "(150, 50)"
      ]
     },
     "execution_count": 38,
     "metadata": {},
     "output_type": "execute_result"
    }
   ],
   "source": [
    "A_noise_filtered.shape"
   ]
  },
  {
   "cell_type": "markdown",
   "metadata": {},
   "source": [
    "**Task:** Define the function `'SVD'` which perform singular values decomposition.\n",
    "\n",
    "Do not forget to hceck the shape of the input matrix."
   ]
  },
  {
   "cell_type": "code",
   "execution_count": null,
   "metadata": {
    "ExecuteTime": {
     "end_time": "2020-01-30T08:49:20.344770Z",
     "start_time": "2020-01-30T08:49:20.326781Z"
    }
   },
   "outputs": [],
   "source": [
    "\"\"\"\n",
    "PARAMS:\n",
    "    A (numpy.ndarray) - matrix to decompose\n",
    "RETURN:\n",
    "    U (numpy.ndarray) - left singular vectors\n",
    "    SV (numpy.ndarray) - singular values\n",
    "    V (numpy.ndarray) - right singular vectors\n",
    "\"\"\""
   ]
  },
  {
   "cell_type": "code",
   "execution_count": 42,
   "metadata": {},
   "outputs": [],
   "source": [
    "def SVD(A, full_matrices=False):  \n",
    "    AAT = A.dot(A.T)\n",
    "    ATA = A.T.dot(A)\n",
    "    \n",
    "    # eigenvectors, eigenvalues\n",
    "    EVU, U = np.linalg.eig(AAT)\n",
    "    EVV, V = np.linalg.eig(ATA)\n",
    "    \n",
    "    # sort\n",
    "    EVU_idx = [(idx,value) for idx,value in enumerate(EVU)]\n",
    "    EVU_idx.sort(key=lambda x: x[1], reverse=True)\n",
    "    \n",
    "    EVV_idx = [(idx,value) for idx,value in enumerate(EVV)]\n",
    "    EVV_idx.sort(key=lambda x: x[1], reverse=True)\n",
    "    \n",
    "    EV = np.array([tpl[1] for tpl in EVV_idx])\n",
    "    U = np.array([U[:,tpl[0]] for tpl in EVU_idx]).T\n",
    "    V = np.array([V[:,tpl[0]] for tpl in EVV_idx])\n",
    "    \n",
    "    if not full_matrices:\n",
    "        shape_min = min(A.shape)\n",
    "        U = U[:, :shape_min]\n",
    "    \n",
    "    # singular values from eigenvalues\n",
    "    SV = np.sqrt(EV)\n",
    "    \n",
    "    return U, SV, V"
   ]
  },
  {
   "cell_type": "markdown",
   "metadata": {
    "ExecuteTime": {
     "end_time": "2020-01-30T08:49:20.693579Z",
     "start_time": "2020-01-30T08:49:20.660972Z"
    }
   },
   "source": [
    "**Task:** Call the function `'SVD'` on matrix 'A'."
   ]
  },
  {
   "cell_type": "code",
   "execution_count": 44,
   "metadata": {},
   "outputs": [],
   "source": [
    "U, D, V = SVD(A,full_matrices=False)"
   ]
  },
  {
   "cell_type": "code",
   "execution_count": null,
   "metadata": {},
   "outputs": [],
   "source": []
  }
 ],
 "metadata": {
  "kernelspec": {
   "display_name": "Python 3.9.13 64-bit",
   "language": "python",
   "name": "python3"
  },
  "language_info": {
   "codemirror_mode": {
    "name": "ipython",
    "version": 3
   },
   "file_extension": ".py",
   "mimetype": "text/x-python",
   "name": "python",
   "nbconvert_exporter": "python",
   "pygments_lexer": "ipython3",
   "version": "3.9.13"
  },
  "toc": {
   "base_numbering": 1,
   "nav_menu": {},
   "number_sections": true,
   "sideBar": true,
   "skip_h1_title": false,
   "title_cell": "Table of Contents",
   "title_sidebar": "Contents",
   "toc_cell": false,
   "toc_position": {},
   "toc_section_display": true,
   "toc_window_display": false
  },
  "varInspector": {
   "cols": {
    "lenName": 16,
    "lenType": 16,
    "lenVar": 40
   },
   "kernels_config": {
    "python": {
     "delete_cmd_postfix": "",
     "delete_cmd_prefix": "del ",
     "library": "var_list.py",
     "varRefreshCmd": "print(var_dic_list())"
    },
    "r": {
     "delete_cmd_postfix": ") ",
     "delete_cmd_prefix": "rm(",
     "library": "var_list.r",
     "varRefreshCmd": "cat(var_dic_list()) "
    }
   },
   "types_to_exclude": [
    "module",
    "function",
    "builtin_function_or_method",
    "instance",
    "_Feature"
   ],
   "window_display": false
  },
  "vscode": {
   "interpreter": {
    "hash": "11938c6bc6919ae2720b4d5011047913343b08a43b18698fd82dedb0d4417594"
   }
  }
 },
 "nbformat": 4,
 "nbformat_minor": 4
}
