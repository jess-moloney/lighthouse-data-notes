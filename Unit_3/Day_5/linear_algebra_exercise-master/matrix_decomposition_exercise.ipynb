{
 "cells": [
  {
   "cell_type": "markdown",
   "metadata": {},
   "source": [
    "## Matrix Decomposition Exercise"
   ]
  },
  {
   "cell_type": "code",
   "execution_count": 1,
   "metadata": {
    "ExecuteTime": {
     "end_time": "2020-01-30T08:49:15.705544Z",
     "start_time": "2020-01-30T08:49:15.691050Z"
    }
   },
   "outputs": [],
   "source": [
    "# import numpy\n",
    "import numpy as np"
   ]
  },
  {
   "cell_type": "markdown",
   "metadata": {
    "ExecuteTime": {
     "end_time": "2020-01-30T08:49:16.033687Z",
     "start_time": "2020-01-30T08:49:16.022845Z"
    }
   },
   "source": [
    "**Task:** Generate a random matrix 'A' with a shape of 150x50, using the '**np.random.rand**' function."
   ]
  },
  {
   "cell_type": "code",
   "execution_count": 7,
   "metadata": {},
   "outputs": [
    {
     "data": {
      "text/plain": [
       "array([[0.27398081, 0.36418386, 0.83961135, ..., 0.99509238, 0.04361458,\n",
       "        0.65825305],\n",
       "       [0.60567569, 0.63022126, 0.94790342, ..., 0.91621662, 0.7912176 ,\n",
       "        0.43131219],\n",
       "       [0.95198729, 0.71926854, 0.46239513, ..., 0.02847215, 0.07354176,\n",
       "        0.59555213],\n",
       "       ...,\n",
       "       [0.98028622, 0.12589209, 0.18900126, ..., 0.95627869, 0.12898354,\n",
       "        0.17071804],\n",
       "       [0.60900067, 0.53363041, 0.05792406, ..., 0.56169624, 0.89052303,\n",
       "        0.72612295],\n",
       "       [0.93540936, 0.24676501, 0.34948602, ..., 0.30295004, 0.00985932,\n",
       "        0.02798777]])"
      ]
     },
     "execution_count": 7,
     "metadata": {},
     "output_type": "execute_result"
    }
   ],
   "source": [
    "A = np.random.rand(150,50)\n",
    "A"
   ]
  },
  {
   "cell_type": "code",
   "execution_count": null,
   "metadata": {},
   "outputs": [],
   "source": []
  },
  {
   "cell_type": "markdown",
   "metadata": {
    "ExecuteTime": {
     "end_time": "2020-01-30T08:49:16.306858Z",
     "start_time": "2020-01-30T08:49:16.291806Z"
    }
   },
   "source": [
    "**Task:** Check the shape of 'A'."
   ]
  },
  {
   "cell_type": "code",
   "execution_count": 8,
   "metadata": {},
   "outputs": [
    {
     "data": {
      "text/plain": [
       "(150, 50)"
      ]
     },
     "execution_count": 8,
     "metadata": {},
     "output_type": "execute_result"
    }
   ],
   "source": [
    "A.shape"
   ]
  },
  {
   "cell_type": "code",
   "execution_count": null,
   "metadata": {},
   "outputs": [],
   "source": []
  },
  {
   "cell_type": "markdown",
   "metadata": {
    "ExecuteTime": {
     "end_time": "2020-01-30T08:49:16.700850Z",
     "start_time": "2020-01-30T08:49:16.658980Z"
    }
   },
   "source": [
    "**Task:** Decompose matrix 'A' with SVD using numpy (decompose into matrices U,D,V)."
   ]
  },
  {
   "cell_type": "code",
   "execution_count": 9,
   "metadata": {},
   "outputs": [],
   "source": [
    "U, D, V = np.linalg.svd(A)"
   ]
  },
  {
   "cell_type": "code",
   "execution_count": null,
   "metadata": {},
   "outputs": [],
   "source": []
  },
  {
   "cell_type": "markdown",
   "metadata": {
    "ExecuteTime": {
     "end_time": "2020-01-30T08:49:17.007803Z",
     "start_time": "2020-01-30T08:49:17.000154Z"
    }
   },
   "source": [
    "**Task:** Check the shapes of matrices U,D,V."
   ]
  },
  {
   "cell_type": "code",
   "execution_count": 10,
   "metadata": {},
   "outputs": [
    {
     "data": {
      "text/plain": [
       "(150, 150)"
      ]
     },
     "execution_count": 10,
     "metadata": {},
     "output_type": "execute_result"
    }
   ],
   "source": [
    "U.shape"
   ]
  },
  {
   "cell_type": "code",
   "execution_count": 11,
   "metadata": {},
   "outputs": [
    {
     "data": {
      "text/plain": [
       "(50,)"
      ]
     },
     "execution_count": 11,
     "metadata": {},
     "output_type": "execute_result"
    }
   ],
   "source": [
    "D.shape"
   ]
  },
  {
   "cell_type": "code",
   "execution_count": 12,
   "metadata": {},
   "outputs": [
    {
     "data": {
      "text/plain": [
       "(50, 50)"
      ]
     },
     "execution_count": 12,
     "metadata": {},
     "output_type": "execute_result"
    }
   ],
   "source": [
    "V.shape"
   ]
  },
  {
   "cell_type": "markdown",
   "metadata": {
    "ExecuteTime": {
     "end_time": "2020-01-30T08:49:17.380307Z",
     "start_time": "2020-01-30T08:49:17.364171Z"
    }
   },
   "source": [
    "**Task:** Reconstruct matrix 'A' from matrices U,D,V."
   ]
  },
  {
   "cell_type": "code",
   "execution_count": 14,
   "metadata": {},
   "outputs": [],
   "source": [
    "A_rec = np.matrix(U[:, :1]) * np.diag(D[:1]) * np.matrix(V[:1,:])"
   ]
  },
  {
   "cell_type": "code",
   "execution_count": null,
   "metadata": {},
   "outputs": [],
   "source": []
  },
  {
   "cell_type": "markdown",
   "metadata": {
    "ExecuteTime": {
     "end_time": "2020-01-30T08:49:17.782966Z",
     "start_time": "2020-01-30T08:49:17.775093Z"
    }
   },
   "source": [
    "**Task:** Compare matrices 'A' and 'A_rec' with the [**np.allclose**](https://numpy.org/doc/stable/reference/generated/numpy.allclose.html) function."
   ]
  },
  {
   "cell_type": "code",
   "execution_count": 15,
   "metadata": {},
   "outputs": [
    {
     "data": {
      "text/plain": [
       "False"
      ]
     },
     "execution_count": 15,
     "metadata": {},
     "output_type": "execute_result"
    }
   ],
   "source": [
    "np.allclose(A, A_rec)"
   ]
  },
  {
   "cell_type": "code",
   "execution_count": null,
   "metadata": {},
   "outputs": [],
   "source": []
  },
  {
   "cell_type": "markdown",
   "metadata": {
    "ExecuteTime": {
     "end_time": "2020-01-30T08:49:18.170344Z",
     "start_time": "2020-01-30T08:49:18.164685Z"
    }
   },
   "source": [
    "**Task:** Reduce the dimnesion of matrix 'A' to shape 150x20 with SVD (try both equations)."
   ]
  },
  {
   "cell_type": "code",
   "execution_count": null,
   "metadata": {},
   "outputs": [],
   "source": [
    "for i in range(2, 4):\n",
    "    A_reduced = np.matrix(U[:, :i]) * np.diag(sigma[:i]) * np.matrix(V[:i, :])"
   ]
  },
  {
   "cell_type": "code",
   "execution_count": null,
   "metadata": {},
   "outputs": [],
   "source": []
  },
  {
   "cell_type": "markdown",
   "metadata": {
    "ExecuteTime": {
     "end_time": "2020-01-30T08:49:18.526337Z",
     "start_time": "2020-01-30T08:49:18.519511Z"
    }
   },
   "source": [
    "**Task:** Print the shape."
   ]
  },
  {
   "cell_type": "code",
   "execution_count": null,
   "metadata": {},
   "outputs": [],
   "source": []
  },
  {
   "cell_type": "code",
   "execution_count": null,
   "metadata": {},
   "outputs": [],
   "source": []
  },
  {
   "cell_type": "markdown",
   "metadata": {
    "ExecuteTime": {
     "end_time": "2020-01-30T08:49:18.858261Z",
     "start_time": "2020-01-30T08:49:18.850912Z"
    }
   },
   "source": [
    "**Task:** Compare the two results with the [**np.allclose**](https://numpy.org/doc/stable/reference/generated/numpy.allclose.html) function."
   ]
  },
  {
   "cell_type": "code",
   "execution_count": null,
   "metadata": {},
   "outputs": [],
   "source": []
  },
  {
   "cell_type": "code",
   "execution_count": null,
   "metadata": {},
   "outputs": [],
   "source": []
  },
  {
   "cell_type": "markdown",
   "metadata": {
    "ExecuteTime": {
     "end_time": "2020-01-30T08:49:19.245461Z",
     "start_time": "2020-01-30T08:49:19.237681Z"
    }
   },
   "source": [
    "**Task:** Filter the noise from matrix 'A' with 20 largest singular vectors (keep the shape of (150x50))."
   ]
  },
  {
   "cell_type": "code",
   "execution_count": null,
   "metadata": {},
   "outputs": [],
   "source": []
  },
  {
   "cell_type": "code",
   "execution_count": null,
   "metadata": {},
   "outputs": [],
   "source": []
  },
  {
   "cell_type": "markdown",
   "metadata": {
    "ExecuteTime": {
     "end_time": "2020-01-30T08:49:19.787237Z",
     "start_time": "2020-01-30T08:49:19.775025Z"
    }
   },
   "source": [
    "**Task:** Check the shape."
   ]
  },
  {
   "cell_type": "code",
   "execution_count": null,
   "metadata": {},
   "outputs": [],
   "source": []
  },
  {
   "cell_type": "code",
   "execution_count": null,
   "metadata": {},
   "outputs": [],
   "source": []
  },
  {
   "cell_type": "markdown",
   "metadata": {},
   "source": [
    "**Task:** Define the function `'SVD'` which perform singular values decomposition.\n",
    "\n",
    "Do not forget to hceck the shape of the input matrix."
   ]
  },
  {
   "cell_type": "code",
   "execution_count": null,
   "metadata": {
    "ExecuteTime": {
     "end_time": "2020-01-30T08:49:20.344770Z",
     "start_time": "2020-01-30T08:49:20.326781Z"
    }
   },
   "outputs": [],
   "source": [
    "\"\"\"\n",
    "PARAMS:\n",
    "    A (numpy.ndarray) - matrix to decompose\n",
    "RETURN:\n",
    "    U (numpy.ndarray) - left singular vectors\n",
    "    SV (numpy.ndarray) - singular values\n",
    "    V (numpy.ndarray) - right singular vectors\n",
    "\"\"\""
   ]
  },
  {
   "cell_type": "code",
   "execution_count": null,
   "metadata": {},
   "outputs": [],
   "source": []
  },
  {
   "cell_type": "markdown",
   "metadata": {
    "ExecuteTime": {
     "end_time": "2020-01-30T08:49:20.693579Z",
     "start_time": "2020-01-30T08:49:20.660972Z"
    }
   },
   "source": [
    "**Task:** Call the function `'SVD'` on matrix 'A'."
   ]
  },
  {
   "cell_type": "code",
   "execution_count": null,
   "metadata": {},
   "outputs": [],
   "source": []
  },
  {
   "cell_type": "code",
   "execution_count": null,
   "metadata": {},
   "outputs": [],
   "source": []
  }
 ],
 "metadata": {
  "kernelspec": {
   "display_name": "Python 3.9.13 64-bit",
   "language": "python",
   "name": "python3"
  },
  "language_info": {
   "codemirror_mode": {
    "name": "ipython",
    "version": 3
   },
   "file_extension": ".py",
   "mimetype": "text/x-python",
   "name": "python",
   "nbconvert_exporter": "python",
   "pygments_lexer": "ipython3",
   "version": "3.9.13"
  },
  "toc": {
   "base_numbering": 1,
   "nav_menu": {},
   "number_sections": true,
   "sideBar": true,
   "skip_h1_title": false,
   "title_cell": "Table of Contents",
   "title_sidebar": "Contents",
   "toc_cell": false,
   "toc_position": {},
   "toc_section_display": true,
   "toc_window_display": false
  },
  "varInspector": {
   "cols": {
    "lenName": 16,
    "lenType": 16,
    "lenVar": 40
   },
   "kernels_config": {
    "python": {
     "delete_cmd_postfix": "",
     "delete_cmd_prefix": "del ",
     "library": "var_list.py",
     "varRefreshCmd": "print(var_dic_list())"
    },
    "r": {
     "delete_cmd_postfix": ") ",
     "delete_cmd_prefix": "rm(",
     "library": "var_list.r",
     "varRefreshCmd": "cat(var_dic_list()) "
    }
   },
   "types_to_exclude": [
    "module",
    "function",
    "builtin_function_or_method",
    "instance",
    "_Feature"
   ],
   "window_display": false
  },
  "vscode": {
   "interpreter": {
    "hash": "11938c6bc6919ae2720b4d5011047913343b08a43b18698fd82dedb0d4417594"
   }
  }
 },
 "nbformat": 4,
 "nbformat_minor": 4
}
