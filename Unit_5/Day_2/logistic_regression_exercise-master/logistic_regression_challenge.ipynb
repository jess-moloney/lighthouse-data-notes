{
 "cells": [
  {
   "cell_type": "markdown",
   "metadata": {},
   "source": [
    "## Logistic Regression Challenge"
   ]
  },
  {
   "cell_type": "code",
   "execution_count": 1,
   "metadata": {},
   "outputs": [],
   "source": [
    "#import the required packages here\n",
    "from sklearn.model_selection import train_test_split \n",
    "from sklearn.linear_model import LogisticRegression, Ridge\n",
    "from sklearn.metrics import confusion_matrix\n",
    "from sklearn import metrics\n",
    "\n",
    "import numpy as np\n",
    "import pandas as pd\n",
    "from plot_classifier import plot_classifier\n",
    "import matplotlib.pyplot as plt\n",
    "import seaborn as sns"
   ]
  },
  {
   "cell_type": "markdown",
   "metadata": {},
   "source": [
    "### Task 1: Download the data and load them into Python.\n",
    "You can find the data [**here**](https://drive.google.com/file/d/0Bz9_0VdXvv9bX0MzUEhVdmpCc3c/view?usp=sharing&resourcekey=0-BirYbvtYO-hSEt09wpEBRw).\n",
    "\n",
    "**Note**\n",
    "- Features and response variables are in different files.\n",
    "- Be careful about number of spaces between the values in the file."
   ]
  },
  {
   "cell_type": "code",
   "execution_count": 2,
   "metadata": {},
   "outputs": [
    {
     "data": {
      "text/html": [
       "<div>\n",
       "<style scoped>\n",
       "    .dataframe tbody tr th:only-of-type {\n",
       "        vertical-align: middle;\n",
       "    }\n",
       "\n",
       "    .dataframe tbody tr th {\n",
       "        vertical-align: top;\n",
       "    }\n",
       "\n",
       "    .dataframe thead th {\n",
       "        text-align: right;\n",
       "    }\n",
       "</style>\n",
       "<table border=\"1\" class=\"dataframe\">\n",
       "  <thead>\n",
       "    <tr style=\"text-align: right;\">\n",
       "      <th></th>\n",
       "      <th>0</th>\n",
       "      <th>1</th>\n",
       "    </tr>\n",
       "  </thead>\n",
       "  <tbody>\n",
       "    <tr>\n",
       "      <th>0</th>\n",
       "      <td>1</td>\n",
       "      <td>tBodyAcc-mean()-X</td>\n",
       "    </tr>\n",
       "    <tr>\n",
       "      <th>1</th>\n",
       "      <td>2</td>\n",
       "      <td>tBodyAcc-mean()-Y</td>\n",
       "    </tr>\n",
       "    <tr>\n",
       "      <th>2</th>\n",
       "      <td>3</td>\n",
       "      <td>tBodyAcc-mean()-Z</td>\n",
       "    </tr>\n",
       "    <tr>\n",
       "      <th>3</th>\n",
       "      <td>4</td>\n",
       "      <td>tBodyAcc-std()-X</td>\n",
       "    </tr>\n",
       "    <tr>\n",
       "      <th>4</th>\n",
       "      <td>5</td>\n",
       "      <td>tBodyAcc-std()-Y</td>\n",
       "    </tr>\n",
       "    <tr>\n",
       "      <th>...</th>\n",
       "      <td>...</td>\n",
       "      <td>...</td>\n",
       "    </tr>\n",
       "    <tr>\n",
       "      <th>556</th>\n",
       "      <td>557</td>\n",
       "      <td>angle(tBodyGyroMean,gravityMean)</td>\n",
       "    </tr>\n",
       "    <tr>\n",
       "      <th>557</th>\n",
       "      <td>558</td>\n",
       "      <td>angle(tBodyGyroJerkMean,gravityMean)</td>\n",
       "    </tr>\n",
       "    <tr>\n",
       "      <th>558</th>\n",
       "      <td>559</td>\n",
       "      <td>angle(X,gravityMean)</td>\n",
       "    </tr>\n",
       "    <tr>\n",
       "      <th>559</th>\n",
       "      <td>560</td>\n",
       "      <td>angle(Y,gravityMean)</td>\n",
       "    </tr>\n",
       "    <tr>\n",
       "      <th>560</th>\n",
       "      <td>561</td>\n",
       "      <td>angle(Z,gravityMean)</td>\n",
       "    </tr>\n",
       "  </tbody>\n",
       "</table>\n",
       "<p>561 rows × 2 columns</p>\n",
       "</div>"
      ],
      "text/plain": [
       "       0                                     1\n",
       "0      1                     tBodyAcc-mean()-X\n",
       "1      2                     tBodyAcc-mean()-Y\n",
       "2      3                     tBodyAcc-mean()-Z\n",
       "3      4                      tBodyAcc-std()-X\n",
       "4      5                      tBodyAcc-std()-Y\n",
       "..   ...                                   ...\n",
       "556  557      angle(tBodyGyroMean,gravityMean)\n",
       "557  558  angle(tBodyGyroJerkMean,gravityMean)\n",
       "558  559                  angle(X,gravityMean)\n",
       "559  560                  angle(Y,gravityMean)\n",
       "560  561                  angle(Z,gravityMean)\n",
       "\n",
       "[561 rows x 2 columns]"
      ]
     },
     "execution_count": 2,
     "metadata": {},
     "output_type": "execute_result"
    }
   ],
   "source": [
    "feature_names = pd.read_csv(r'..\\Smartphone Sensor Data\\features.txt', sep='\\s+', header=None)\n",
    "feature_names"
   ]
  },
  {
   "cell_type": "code",
   "execution_count": 3,
   "metadata": {},
   "outputs": [],
   "source": [
    "columns = feature_names.iloc[:,1]"
   ]
  },
  {
   "cell_type": "code",
   "execution_count": 4,
   "metadata": {},
   "outputs": [
    {
     "data": {
      "text/html": [
       "<div>\n",
       "<style scoped>\n",
       "    .dataframe tbody tr th:only-of-type {\n",
       "        vertical-align: middle;\n",
       "    }\n",
       "\n",
       "    .dataframe tbody tr th {\n",
       "        vertical-align: top;\n",
       "    }\n",
       "\n",
       "    .dataframe thead th {\n",
       "        text-align: right;\n",
       "    }\n",
       "</style>\n",
       "<table border=\"1\" class=\"dataframe\">\n",
       "  <thead>\n",
       "    <tr style=\"text-align: right;\">\n",
       "      <th></th>\n",
       "      <th>0</th>\n",
       "      <th>1</th>\n",
       "      <th>2</th>\n",
       "      <th>3</th>\n",
       "      <th>4</th>\n",
       "      <th>5</th>\n",
       "      <th>6</th>\n",
       "      <th>7</th>\n",
       "      <th>8</th>\n",
       "      <th>9</th>\n",
       "      <th>...</th>\n",
       "      <th>551</th>\n",
       "      <th>552</th>\n",
       "      <th>553</th>\n",
       "      <th>554</th>\n",
       "      <th>555</th>\n",
       "      <th>556</th>\n",
       "      <th>557</th>\n",
       "      <th>558</th>\n",
       "      <th>559</th>\n",
       "      <th>560</th>\n",
       "    </tr>\n",
       "  </thead>\n",
       "  <tbody>\n",
       "    <tr>\n",
       "      <th>0</th>\n",
       "      <td>0.288585</td>\n",
       "      <td>-0.020294</td>\n",
       "      <td>-0.132905</td>\n",
       "      <td>-0.995279</td>\n",
       "      <td>-0.983111</td>\n",
       "      <td>-0.913526</td>\n",
       "      <td>-0.995112</td>\n",
       "      <td>-0.983185</td>\n",
       "      <td>-0.923527</td>\n",
       "      <td>-0.934724</td>\n",
       "      <td>...</td>\n",
       "      <td>-0.074323</td>\n",
       "      <td>-0.298676</td>\n",
       "      <td>-0.710304</td>\n",
       "      <td>-0.112754</td>\n",
       "      <td>0.030400</td>\n",
       "      <td>-0.464761</td>\n",
       "      <td>-0.018446</td>\n",
       "      <td>-0.841247</td>\n",
       "      <td>0.179941</td>\n",
       "      <td>-0.058627</td>\n",
       "    </tr>\n",
       "    <tr>\n",
       "      <th>1</th>\n",
       "      <td>0.278419</td>\n",
       "      <td>-0.016411</td>\n",
       "      <td>-0.123520</td>\n",
       "      <td>-0.998245</td>\n",
       "      <td>-0.975300</td>\n",
       "      <td>-0.960322</td>\n",
       "      <td>-0.998807</td>\n",
       "      <td>-0.974914</td>\n",
       "      <td>-0.957686</td>\n",
       "      <td>-0.943068</td>\n",
       "      <td>...</td>\n",
       "      <td>0.158075</td>\n",
       "      <td>-0.595051</td>\n",
       "      <td>-0.861499</td>\n",
       "      <td>0.053477</td>\n",
       "      <td>-0.007435</td>\n",
       "      <td>-0.732626</td>\n",
       "      <td>0.703511</td>\n",
       "      <td>-0.844788</td>\n",
       "      <td>0.180289</td>\n",
       "      <td>-0.054317</td>\n",
       "    </tr>\n",
       "    <tr>\n",
       "      <th>2</th>\n",
       "      <td>0.279653</td>\n",
       "      <td>-0.019467</td>\n",
       "      <td>-0.113462</td>\n",
       "      <td>-0.995380</td>\n",
       "      <td>-0.967187</td>\n",
       "      <td>-0.978944</td>\n",
       "      <td>-0.996520</td>\n",
       "      <td>-0.963668</td>\n",
       "      <td>-0.977469</td>\n",
       "      <td>-0.938692</td>\n",
       "      <td>...</td>\n",
       "      <td>0.414503</td>\n",
       "      <td>-0.390748</td>\n",
       "      <td>-0.760104</td>\n",
       "      <td>-0.118559</td>\n",
       "      <td>0.177899</td>\n",
       "      <td>0.100699</td>\n",
       "      <td>0.808529</td>\n",
       "      <td>-0.848933</td>\n",
       "      <td>0.180637</td>\n",
       "      <td>-0.049118</td>\n",
       "    </tr>\n",
       "    <tr>\n",
       "      <th>3</th>\n",
       "      <td>0.279174</td>\n",
       "      <td>-0.026201</td>\n",
       "      <td>-0.123283</td>\n",
       "      <td>-0.996091</td>\n",
       "      <td>-0.983403</td>\n",
       "      <td>-0.990675</td>\n",
       "      <td>-0.997099</td>\n",
       "      <td>-0.982750</td>\n",
       "      <td>-0.989302</td>\n",
       "      <td>-0.938692</td>\n",
       "      <td>...</td>\n",
       "      <td>0.404573</td>\n",
       "      <td>-0.117290</td>\n",
       "      <td>-0.482845</td>\n",
       "      <td>-0.036788</td>\n",
       "      <td>-0.012892</td>\n",
       "      <td>0.640011</td>\n",
       "      <td>-0.485366</td>\n",
       "      <td>-0.848649</td>\n",
       "      <td>0.181935</td>\n",
       "      <td>-0.047663</td>\n",
       "    </tr>\n",
       "    <tr>\n",
       "      <th>4</th>\n",
       "      <td>0.276629</td>\n",
       "      <td>-0.016570</td>\n",
       "      <td>-0.115362</td>\n",
       "      <td>-0.998139</td>\n",
       "      <td>-0.980817</td>\n",
       "      <td>-0.990482</td>\n",
       "      <td>-0.998321</td>\n",
       "      <td>-0.979672</td>\n",
       "      <td>-0.990441</td>\n",
       "      <td>-0.942469</td>\n",
       "      <td>...</td>\n",
       "      <td>0.087753</td>\n",
       "      <td>-0.351471</td>\n",
       "      <td>-0.699205</td>\n",
       "      <td>0.123320</td>\n",
       "      <td>0.122542</td>\n",
       "      <td>0.693578</td>\n",
       "      <td>-0.615971</td>\n",
       "      <td>-0.847865</td>\n",
       "      <td>0.185151</td>\n",
       "      <td>-0.043892</td>\n",
       "    </tr>\n",
       "    <tr>\n",
       "      <th>...</th>\n",
       "      <td>...</td>\n",
       "      <td>...</td>\n",
       "      <td>...</td>\n",
       "      <td>...</td>\n",
       "      <td>...</td>\n",
       "      <td>...</td>\n",
       "      <td>...</td>\n",
       "      <td>...</td>\n",
       "      <td>...</td>\n",
       "      <td>...</td>\n",
       "      <td>...</td>\n",
       "      <td>...</td>\n",
       "      <td>...</td>\n",
       "      <td>...</td>\n",
       "      <td>...</td>\n",
       "      <td>...</td>\n",
       "      <td>...</td>\n",
       "      <td>...</td>\n",
       "      <td>...</td>\n",
       "      <td>...</td>\n",
       "      <td>...</td>\n",
       "    </tr>\n",
       "    <tr>\n",
       "      <th>7347</th>\n",
       "      <td>0.299665</td>\n",
       "      <td>-0.057193</td>\n",
       "      <td>-0.181233</td>\n",
       "      <td>-0.195387</td>\n",
       "      <td>0.039905</td>\n",
       "      <td>0.077078</td>\n",
       "      <td>-0.282301</td>\n",
       "      <td>0.043616</td>\n",
       "      <td>0.060410</td>\n",
       "      <td>0.210795</td>\n",
       "      <td>...</td>\n",
       "      <td>-0.070157</td>\n",
       "      <td>-0.588433</td>\n",
       "      <td>-0.880324</td>\n",
       "      <td>-0.190437</td>\n",
       "      <td>0.829718</td>\n",
       "      <td>0.206972</td>\n",
       "      <td>-0.425619</td>\n",
       "      <td>-0.791883</td>\n",
       "      <td>0.238604</td>\n",
       "      <td>0.049819</td>\n",
       "    </tr>\n",
       "    <tr>\n",
       "      <th>7348</th>\n",
       "      <td>0.273853</td>\n",
       "      <td>-0.007749</td>\n",
       "      <td>-0.147468</td>\n",
       "      <td>-0.235309</td>\n",
       "      <td>0.004816</td>\n",
       "      <td>0.059280</td>\n",
       "      <td>-0.322552</td>\n",
       "      <td>-0.029456</td>\n",
       "      <td>0.080585</td>\n",
       "      <td>0.117440</td>\n",
       "      <td>...</td>\n",
       "      <td>0.165259</td>\n",
       "      <td>-0.390738</td>\n",
       "      <td>-0.680744</td>\n",
       "      <td>0.064907</td>\n",
       "      <td>0.875679</td>\n",
       "      <td>-0.879033</td>\n",
       "      <td>0.400219</td>\n",
       "      <td>-0.771840</td>\n",
       "      <td>0.252676</td>\n",
       "      <td>0.050053</td>\n",
       "    </tr>\n",
       "    <tr>\n",
       "      <th>7349</th>\n",
       "      <td>0.273387</td>\n",
       "      <td>-0.017011</td>\n",
       "      <td>-0.045022</td>\n",
       "      <td>-0.218218</td>\n",
       "      <td>-0.103822</td>\n",
       "      <td>0.274533</td>\n",
       "      <td>-0.304515</td>\n",
       "      <td>-0.098913</td>\n",
       "      <td>0.332584</td>\n",
       "      <td>0.043999</td>\n",
       "      <td>...</td>\n",
       "      <td>0.195034</td>\n",
       "      <td>0.025145</td>\n",
       "      <td>-0.304029</td>\n",
       "      <td>0.052806</td>\n",
       "      <td>-0.266724</td>\n",
       "      <td>0.864404</td>\n",
       "      <td>0.701169</td>\n",
       "      <td>-0.779133</td>\n",
       "      <td>0.249145</td>\n",
       "      <td>0.040811</td>\n",
       "    </tr>\n",
       "    <tr>\n",
       "      <th>7350</th>\n",
       "      <td>0.289654</td>\n",
       "      <td>-0.018843</td>\n",
       "      <td>-0.158281</td>\n",
       "      <td>-0.219139</td>\n",
       "      <td>-0.111412</td>\n",
       "      <td>0.268893</td>\n",
       "      <td>-0.310487</td>\n",
       "      <td>-0.068200</td>\n",
       "      <td>0.319473</td>\n",
       "      <td>0.101702</td>\n",
       "      <td>...</td>\n",
       "      <td>0.013865</td>\n",
       "      <td>0.063907</td>\n",
       "      <td>-0.344314</td>\n",
       "      <td>-0.101360</td>\n",
       "      <td>0.700740</td>\n",
       "      <td>0.936674</td>\n",
       "      <td>-0.589479</td>\n",
       "      <td>-0.785181</td>\n",
       "      <td>0.246432</td>\n",
       "      <td>0.025339</td>\n",
       "    </tr>\n",
       "    <tr>\n",
       "      <th>7351</th>\n",
       "      <td>0.351503</td>\n",
       "      <td>-0.012423</td>\n",
       "      <td>-0.203867</td>\n",
       "      <td>-0.269270</td>\n",
       "      <td>-0.087212</td>\n",
       "      <td>0.177404</td>\n",
       "      <td>-0.377404</td>\n",
       "      <td>-0.038678</td>\n",
       "      <td>0.229430</td>\n",
       "      <td>0.269013</td>\n",
       "      <td>...</td>\n",
       "      <td>-0.058402</td>\n",
       "      <td>-0.387052</td>\n",
       "      <td>-0.740738</td>\n",
       "      <td>-0.280088</td>\n",
       "      <td>-0.007739</td>\n",
       "      <td>-0.056088</td>\n",
       "      <td>-0.616956</td>\n",
       "      <td>-0.783267</td>\n",
       "      <td>0.246809</td>\n",
       "      <td>0.036695</td>\n",
       "    </tr>\n",
       "  </tbody>\n",
       "</table>\n",
       "<p>7352 rows × 561 columns</p>\n",
       "</div>"
      ],
      "text/plain": [
       "           0         1         2         3         4         5         6    \\\n",
       "0     0.288585 -0.020294 -0.132905 -0.995279 -0.983111 -0.913526 -0.995112   \n",
       "1     0.278419 -0.016411 -0.123520 -0.998245 -0.975300 -0.960322 -0.998807   \n",
       "2     0.279653 -0.019467 -0.113462 -0.995380 -0.967187 -0.978944 -0.996520   \n",
       "3     0.279174 -0.026201 -0.123283 -0.996091 -0.983403 -0.990675 -0.997099   \n",
       "4     0.276629 -0.016570 -0.115362 -0.998139 -0.980817 -0.990482 -0.998321   \n",
       "...        ...       ...       ...       ...       ...       ...       ...   \n",
       "7347  0.299665 -0.057193 -0.181233 -0.195387  0.039905  0.077078 -0.282301   \n",
       "7348  0.273853 -0.007749 -0.147468 -0.235309  0.004816  0.059280 -0.322552   \n",
       "7349  0.273387 -0.017011 -0.045022 -0.218218 -0.103822  0.274533 -0.304515   \n",
       "7350  0.289654 -0.018843 -0.158281 -0.219139 -0.111412  0.268893 -0.310487   \n",
       "7351  0.351503 -0.012423 -0.203867 -0.269270 -0.087212  0.177404 -0.377404   \n",
       "\n",
       "           7         8         9    ...       551       552       553  \\\n",
       "0    -0.983185 -0.923527 -0.934724  ... -0.074323 -0.298676 -0.710304   \n",
       "1    -0.974914 -0.957686 -0.943068  ...  0.158075 -0.595051 -0.861499   \n",
       "2    -0.963668 -0.977469 -0.938692  ...  0.414503 -0.390748 -0.760104   \n",
       "3    -0.982750 -0.989302 -0.938692  ...  0.404573 -0.117290 -0.482845   \n",
       "4    -0.979672 -0.990441 -0.942469  ...  0.087753 -0.351471 -0.699205   \n",
       "...        ...       ...       ...  ...       ...       ...       ...   \n",
       "7347  0.043616  0.060410  0.210795  ... -0.070157 -0.588433 -0.880324   \n",
       "7348 -0.029456  0.080585  0.117440  ...  0.165259 -0.390738 -0.680744   \n",
       "7349 -0.098913  0.332584  0.043999  ...  0.195034  0.025145 -0.304029   \n",
       "7350 -0.068200  0.319473  0.101702  ...  0.013865  0.063907 -0.344314   \n",
       "7351 -0.038678  0.229430  0.269013  ... -0.058402 -0.387052 -0.740738   \n",
       "\n",
       "           554       555       556       557       558       559       560  \n",
       "0    -0.112754  0.030400 -0.464761 -0.018446 -0.841247  0.179941 -0.058627  \n",
       "1     0.053477 -0.007435 -0.732626  0.703511 -0.844788  0.180289 -0.054317  \n",
       "2    -0.118559  0.177899  0.100699  0.808529 -0.848933  0.180637 -0.049118  \n",
       "3    -0.036788 -0.012892  0.640011 -0.485366 -0.848649  0.181935 -0.047663  \n",
       "4     0.123320  0.122542  0.693578 -0.615971 -0.847865  0.185151 -0.043892  \n",
       "...        ...       ...       ...       ...       ...       ...       ...  \n",
       "7347 -0.190437  0.829718  0.206972 -0.425619 -0.791883  0.238604  0.049819  \n",
       "7348  0.064907  0.875679 -0.879033  0.400219 -0.771840  0.252676  0.050053  \n",
       "7349  0.052806 -0.266724  0.864404  0.701169 -0.779133  0.249145  0.040811  \n",
       "7350 -0.101360  0.700740  0.936674 -0.589479 -0.785181  0.246432  0.025339  \n",
       "7351 -0.280088 -0.007739 -0.056088 -0.616956 -0.783267  0.246809  0.036695  \n",
       "\n",
       "[7352 rows x 561 columns]"
      ]
     },
     "execution_count": 4,
     "metadata": {},
     "output_type": "execute_result"
    }
   ],
   "source": [
    "X = pd.read_csv(r'..\\Smartphone Sensor Data\\train\\X_train.txt', sep='\\s+', header=None)\n",
    "X"
   ]
  },
  {
   "cell_type": "code",
   "execution_count": 5,
   "metadata": {},
   "outputs": [
    {
     "data": {
      "text/html": [
       "<div>\n",
       "<style scoped>\n",
       "    .dataframe tbody tr th:only-of-type {\n",
       "        vertical-align: middle;\n",
       "    }\n",
       "\n",
       "    .dataframe tbody tr th {\n",
       "        vertical-align: top;\n",
       "    }\n",
       "\n",
       "    .dataframe thead th {\n",
       "        text-align: right;\n",
       "    }\n",
       "</style>\n",
       "<table border=\"1\" class=\"dataframe\">\n",
       "  <thead>\n",
       "    <tr style=\"text-align: right;\">\n",
       "      <th></th>\n",
       "      <th>tBodyAcc-mean()-X</th>\n",
       "      <th>tBodyAcc-mean()-Y</th>\n",
       "      <th>tBodyAcc-mean()-Z</th>\n",
       "      <th>tBodyAcc-std()-X</th>\n",
       "      <th>tBodyAcc-std()-Y</th>\n",
       "      <th>tBodyAcc-std()-Z</th>\n",
       "      <th>tBodyAcc-mad()-X</th>\n",
       "      <th>tBodyAcc-mad()-Y</th>\n",
       "      <th>tBodyAcc-mad()-Z</th>\n",
       "      <th>tBodyAcc-max()-X</th>\n",
       "      <th>...</th>\n",
       "      <th>fBodyBodyGyroJerkMag-meanFreq()</th>\n",
       "      <th>fBodyBodyGyroJerkMag-skewness()</th>\n",
       "      <th>fBodyBodyGyroJerkMag-kurtosis()</th>\n",
       "      <th>angle(tBodyAccMean,gravity)</th>\n",
       "      <th>angle(tBodyAccJerkMean),gravityMean)</th>\n",
       "      <th>angle(tBodyGyroMean,gravityMean)</th>\n",
       "      <th>angle(tBodyGyroJerkMean,gravityMean)</th>\n",
       "      <th>angle(X,gravityMean)</th>\n",
       "      <th>angle(Y,gravityMean)</th>\n",
       "      <th>angle(Z,gravityMean)</th>\n",
       "    </tr>\n",
       "  </thead>\n",
       "  <tbody>\n",
       "    <tr>\n",
       "      <th>0</th>\n",
       "      <td>0.288585</td>\n",
       "      <td>-0.020294</td>\n",
       "      <td>-0.132905</td>\n",
       "      <td>-0.995279</td>\n",
       "      <td>-0.983111</td>\n",
       "      <td>-0.913526</td>\n",
       "      <td>-0.995112</td>\n",
       "      <td>-0.983185</td>\n",
       "      <td>-0.923527</td>\n",
       "      <td>-0.934724</td>\n",
       "      <td>...</td>\n",
       "      <td>-0.074323</td>\n",
       "      <td>-0.298676</td>\n",
       "      <td>-0.710304</td>\n",
       "      <td>-0.112754</td>\n",
       "      <td>0.030400</td>\n",
       "      <td>-0.464761</td>\n",
       "      <td>-0.018446</td>\n",
       "      <td>-0.841247</td>\n",
       "      <td>0.179941</td>\n",
       "      <td>-0.058627</td>\n",
       "    </tr>\n",
       "    <tr>\n",
       "      <th>1</th>\n",
       "      <td>0.278419</td>\n",
       "      <td>-0.016411</td>\n",
       "      <td>-0.123520</td>\n",
       "      <td>-0.998245</td>\n",
       "      <td>-0.975300</td>\n",
       "      <td>-0.960322</td>\n",
       "      <td>-0.998807</td>\n",
       "      <td>-0.974914</td>\n",
       "      <td>-0.957686</td>\n",
       "      <td>-0.943068</td>\n",
       "      <td>...</td>\n",
       "      <td>0.158075</td>\n",
       "      <td>-0.595051</td>\n",
       "      <td>-0.861499</td>\n",
       "      <td>0.053477</td>\n",
       "      <td>-0.007435</td>\n",
       "      <td>-0.732626</td>\n",
       "      <td>0.703511</td>\n",
       "      <td>-0.844788</td>\n",
       "      <td>0.180289</td>\n",
       "      <td>-0.054317</td>\n",
       "    </tr>\n",
       "    <tr>\n",
       "      <th>2</th>\n",
       "      <td>0.279653</td>\n",
       "      <td>-0.019467</td>\n",
       "      <td>-0.113462</td>\n",
       "      <td>-0.995380</td>\n",
       "      <td>-0.967187</td>\n",
       "      <td>-0.978944</td>\n",
       "      <td>-0.996520</td>\n",
       "      <td>-0.963668</td>\n",
       "      <td>-0.977469</td>\n",
       "      <td>-0.938692</td>\n",
       "      <td>...</td>\n",
       "      <td>0.414503</td>\n",
       "      <td>-0.390748</td>\n",
       "      <td>-0.760104</td>\n",
       "      <td>-0.118559</td>\n",
       "      <td>0.177899</td>\n",
       "      <td>0.100699</td>\n",
       "      <td>0.808529</td>\n",
       "      <td>-0.848933</td>\n",
       "      <td>0.180637</td>\n",
       "      <td>-0.049118</td>\n",
       "    </tr>\n",
       "    <tr>\n",
       "      <th>3</th>\n",
       "      <td>0.279174</td>\n",
       "      <td>-0.026201</td>\n",
       "      <td>-0.123283</td>\n",
       "      <td>-0.996091</td>\n",
       "      <td>-0.983403</td>\n",
       "      <td>-0.990675</td>\n",
       "      <td>-0.997099</td>\n",
       "      <td>-0.982750</td>\n",
       "      <td>-0.989302</td>\n",
       "      <td>-0.938692</td>\n",
       "      <td>...</td>\n",
       "      <td>0.404573</td>\n",
       "      <td>-0.117290</td>\n",
       "      <td>-0.482845</td>\n",
       "      <td>-0.036788</td>\n",
       "      <td>-0.012892</td>\n",
       "      <td>0.640011</td>\n",
       "      <td>-0.485366</td>\n",
       "      <td>-0.848649</td>\n",
       "      <td>0.181935</td>\n",
       "      <td>-0.047663</td>\n",
       "    </tr>\n",
       "    <tr>\n",
       "      <th>4</th>\n",
       "      <td>0.276629</td>\n",
       "      <td>-0.016570</td>\n",
       "      <td>-0.115362</td>\n",
       "      <td>-0.998139</td>\n",
       "      <td>-0.980817</td>\n",
       "      <td>-0.990482</td>\n",
       "      <td>-0.998321</td>\n",
       "      <td>-0.979672</td>\n",
       "      <td>-0.990441</td>\n",
       "      <td>-0.942469</td>\n",
       "      <td>...</td>\n",
       "      <td>0.087753</td>\n",
       "      <td>-0.351471</td>\n",
       "      <td>-0.699205</td>\n",
       "      <td>0.123320</td>\n",
       "      <td>0.122542</td>\n",
       "      <td>0.693578</td>\n",
       "      <td>-0.615971</td>\n",
       "      <td>-0.847865</td>\n",
       "      <td>0.185151</td>\n",
       "      <td>-0.043892</td>\n",
       "    </tr>\n",
       "    <tr>\n",
       "      <th>...</th>\n",
       "      <td>...</td>\n",
       "      <td>...</td>\n",
       "      <td>...</td>\n",
       "      <td>...</td>\n",
       "      <td>...</td>\n",
       "      <td>...</td>\n",
       "      <td>...</td>\n",
       "      <td>...</td>\n",
       "      <td>...</td>\n",
       "      <td>...</td>\n",
       "      <td>...</td>\n",
       "      <td>...</td>\n",
       "      <td>...</td>\n",
       "      <td>...</td>\n",
       "      <td>...</td>\n",
       "      <td>...</td>\n",
       "      <td>...</td>\n",
       "      <td>...</td>\n",
       "      <td>...</td>\n",
       "      <td>...</td>\n",
       "      <td>...</td>\n",
       "    </tr>\n",
       "    <tr>\n",
       "      <th>7347</th>\n",
       "      <td>0.299665</td>\n",
       "      <td>-0.057193</td>\n",
       "      <td>-0.181233</td>\n",
       "      <td>-0.195387</td>\n",
       "      <td>0.039905</td>\n",
       "      <td>0.077078</td>\n",
       "      <td>-0.282301</td>\n",
       "      <td>0.043616</td>\n",
       "      <td>0.060410</td>\n",
       "      <td>0.210795</td>\n",
       "      <td>...</td>\n",
       "      <td>-0.070157</td>\n",
       "      <td>-0.588433</td>\n",
       "      <td>-0.880324</td>\n",
       "      <td>-0.190437</td>\n",
       "      <td>0.829718</td>\n",
       "      <td>0.206972</td>\n",
       "      <td>-0.425619</td>\n",
       "      <td>-0.791883</td>\n",
       "      <td>0.238604</td>\n",
       "      <td>0.049819</td>\n",
       "    </tr>\n",
       "    <tr>\n",
       "      <th>7348</th>\n",
       "      <td>0.273853</td>\n",
       "      <td>-0.007749</td>\n",
       "      <td>-0.147468</td>\n",
       "      <td>-0.235309</td>\n",
       "      <td>0.004816</td>\n",
       "      <td>0.059280</td>\n",
       "      <td>-0.322552</td>\n",
       "      <td>-0.029456</td>\n",
       "      <td>0.080585</td>\n",
       "      <td>0.117440</td>\n",
       "      <td>...</td>\n",
       "      <td>0.165259</td>\n",
       "      <td>-0.390738</td>\n",
       "      <td>-0.680744</td>\n",
       "      <td>0.064907</td>\n",
       "      <td>0.875679</td>\n",
       "      <td>-0.879033</td>\n",
       "      <td>0.400219</td>\n",
       "      <td>-0.771840</td>\n",
       "      <td>0.252676</td>\n",
       "      <td>0.050053</td>\n",
       "    </tr>\n",
       "    <tr>\n",
       "      <th>7349</th>\n",
       "      <td>0.273387</td>\n",
       "      <td>-0.017011</td>\n",
       "      <td>-0.045022</td>\n",
       "      <td>-0.218218</td>\n",
       "      <td>-0.103822</td>\n",
       "      <td>0.274533</td>\n",
       "      <td>-0.304515</td>\n",
       "      <td>-0.098913</td>\n",
       "      <td>0.332584</td>\n",
       "      <td>0.043999</td>\n",
       "      <td>...</td>\n",
       "      <td>0.195034</td>\n",
       "      <td>0.025145</td>\n",
       "      <td>-0.304029</td>\n",
       "      <td>0.052806</td>\n",
       "      <td>-0.266724</td>\n",
       "      <td>0.864404</td>\n",
       "      <td>0.701169</td>\n",
       "      <td>-0.779133</td>\n",
       "      <td>0.249145</td>\n",
       "      <td>0.040811</td>\n",
       "    </tr>\n",
       "    <tr>\n",
       "      <th>7350</th>\n",
       "      <td>0.289654</td>\n",
       "      <td>-0.018843</td>\n",
       "      <td>-0.158281</td>\n",
       "      <td>-0.219139</td>\n",
       "      <td>-0.111412</td>\n",
       "      <td>0.268893</td>\n",
       "      <td>-0.310487</td>\n",
       "      <td>-0.068200</td>\n",
       "      <td>0.319473</td>\n",
       "      <td>0.101702</td>\n",
       "      <td>...</td>\n",
       "      <td>0.013865</td>\n",
       "      <td>0.063907</td>\n",
       "      <td>-0.344314</td>\n",
       "      <td>-0.101360</td>\n",
       "      <td>0.700740</td>\n",
       "      <td>0.936674</td>\n",
       "      <td>-0.589479</td>\n",
       "      <td>-0.785181</td>\n",
       "      <td>0.246432</td>\n",
       "      <td>0.025339</td>\n",
       "    </tr>\n",
       "    <tr>\n",
       "      <th>7351</th>\n",
       "      <td>0.351503</td>\n",
       "      <td>-0.012423</td>\n",
       "      <td>-0.203867</td>\n",
       "      <td>-0.269270</td>\n",
       "      <td>-0.087212</td>\n",
       "      <td>0.177404</td>\n",
       "      <td>-0.377404</td>\n",
       "      <td>-0.038678</td>\n",
       "      <td>0.229430</td>\n",
       "      <td>0.269013</td>\n",
       "      <td>...</td>\n",
       "      <td>-0.058402</td>\n",
       "      <td>-0.387052</td>\n",
       "      <td>-0.740738</td>\n",
       "      <td>-0.280088</td>\n",
       "      <td>-0.007739</td>\n",
       "      <td>-0.056088</td>\n",
       "      <td>-0.616956</td>\n",
       "      <td>-0.783267</td>\n",
       "      <td>0.246809</td>\n",
       "      <td>0.036695</td>\n",
       "    </tr>\n",
       "  </tbody>\n",
       "</table>\n",
       "<p>7352 rows × 561 columns</p>\n",
       "</div>"
      ],
      "text/plain": [
       "      tBodyAcc-mean()-X  tBodyAcc-mean()-Y  tBodyAcc-mean()-Z  \\\n",
       "0              0.288585          -0.020294          -0.132905   \n",
       "1              0.278419          -0.016411          -0.123520   \n",
       "2              0.279653          -0.019467          -0.113462   \n",
       "3              0.279174          -0.026201          -0.123283   \n",
       "4              0.276629          -0.016570          -0.115362   \n",
       "...                 ...                ...                ...   \n",
       "7347           0.299665          -0.057193          -0.181233   \n",
       "7348           0.273853          -0.007749          -0.147468   \n",
       "7349           0.273387          -0.017011          -0.045022   \n",
       "7350           0.289654          -0.018843          -0.158281   \n",
       "7351           0.351503          -0.012423          -0.203867   \n",
       "\n",
       "      tBodyAcc-std()-X  tBodyAcc-std()-Y  tBodyAcc-std()-Z  tBodyAcc-mad()-X  \\\n",
       "0            -0.995279         -0.983111         -0.913526         -0.995112   \n",
       "1            -0.998245         -0.975300         -0.960322         -0.998807   \n",
       "2            -0.995380         -0.967187         -0.978944         -0.996520   \n",
       "3            -0.996091         -0.983403         -0.990675         -0.997099   \n",
       "4            -0.998139         -0.980817         -0.990482         -0.998321   \n",
       "...                ...               ...               ...               ...   \n",
       "7347         -0.195387          0.039905          0.077078         -0.282301   \n",
       "7348         -0.235309          0.004816          0.059280         -0.322552   \n",
       "7349         -0.218218         -0.103822          0.274533         -0.304515   \n",
       "7350         -0.219139         -0.111412          0.268893         -0.310487   \n",
       "7351         -0.269270         -0.087212          0.177404         -0.377404   \n",
       "\n",
       "      tBodyAcc-mad()-Y  tBodyAcc-mad()-Z  tBodyAcc-max()-X  ...  \\\n",
       "0            -0.983185         -0.923527         -0.934724  ...   \n",
       "1            -0.974914         -0.957686         -0.943068  ...   \n",
       "2            -0.963668         -0.977469         -0.938692  ...   \n",
       "3            -0.982750         -0.989302         -0.938692  ...   \n",
       "4            -0.979672         -0.990441         -0.942469  ...   \n",
       "...                ...               ...               ...  ...   \n",
       "7347          0.043616          0.060410          0.210795  ...   \n",
       "7348         -0.029456          0.080585          0.117440  ...   \n",
       "7349         -0.098913          0.332584          0.043999  ...   \n",
       "7350         -0.068200          0.319473          0.101702  ...   \n",
       "7351         -0.038678          0.229430          0.269013  ...   \n",
       "\n",
       "      fBodyBodyGyroJerkMag-meanFreq()  fBodyBodyGyroJerkMag-skewness()  \\\n",
       "0                           -0.074323                        -0.298676   \n",
       "1                            0.158075                        -0.595051   \n",
       "2                            0.414503                        -0.390748   \n",
       "3                            0.404573                        -0.117290   \n",
       "4                            0.087753                        -0.351471   \n",
       "...                               ...                              ...   \n",
       "7347                        -0.070157                        -0.588433   \n",
       "7348                         0.165259                        -0.390738   \n",
       "7349                         0.195034                         0.025145   \n",
       "7350                         0.013865                         0.063907   \n",
       "7351                        -0.058402                        -0.387052   \n",
       "\n",
       "      fBodyBodyGyroJerkMag-kurtosis()  angle(tBodyAccMean,gravity)  \\\n",
       "0                           -0.710304                    -0.112754   \n",
       "1                           -0.861499                     0.053477   \n",
       "2                           -0.760104                    -0.118559   \n",
       "3                           -0.482845                    -0.036788   \n",
       "4                           -0.699205                     0.123320   \n",
       "...                               ...                          ...   \n",
       "7347                        -0.880324                    -0.190437   \n",
       "7348                        -0.680744                     0.064907   \n",
       "7349                        -0.304029                     0.052806   \n",
       "7350                        -0.344314                    -0.101360   \n",
       "7351                        -0.740738                    -0.280088   \n",
       "\n",
       "      angle(tBodyAccJerkMean),gravityMean)  angle(tBodyGyroMean,gravityMean)  \\\n",
       "0                                 0.030400                         -0.464761   \n",
       "1                                -0.007435                         -0.732626   \n",
       "2                                 0.177899                          0.100699   \n",
       "3                                -0.012892                          0.640011   \n",
       "4                                 0.122542                          0.693578   \n",
       "...                                    ...                               ...   \n",
       "7347                              0.829718                          0.206972   \n",
       "7348                              0.875679                         -0.879033   \n",
       "7349                             -0.266724                          0.864404   \n",
       "7350                              0.700740                          0.936674   \n",
       "7351                             -0.007739                         -0.056088   \n",
       "\n",
       "      angle(tBodyGyroJerkMean,gravityMean)  angle(X,gravityMean)  \\\n",
       "0                                -0.018446             -0.841247   \n",
       "1                                 0.703511             -0.844788   \n",
       "2                                 0.808529             -0.848933   \n",
       "3                                -0.485366             -0.848649   \n",
       "4                                -0.615971             -0.847865   \n",
       "...                                    ...                   ...   \n",
       "7347                             -0.425619             -0.791883   \n",
       "7348                              0.400219             -0.771840   \n",
       "7349                              0.701169             -0.779133   \n",
       "7350                             -0.589479             -0.785181   \n",
       "7351                             -0.616956             -0.783267   \n",
       "\n",
       "      angle(Y,gravityMean)  angle(Z,gravityMean)  \n",
       "0                 0.179941             -0.058627  \n",
       "1                 0.180289             -0.054317  \n",
       "2                 0.180637             -0.049118  \n",
       "3                 0.181935             -0.047663  \n",
       "4                 0.185151             -0.043892  \n",
       "...                    ...                   ...  \n",
       "7347              0.238604              0.049819  \n",
       "7348              0.252676              0.050053  \n",
       "7349              0.249145              0.040811  \n",
       "7350              0.246432              0.025339  \n",
       "7351              0.246809              0.036695  \n",
       "\n",
       "[7352 rows x 561 columns]"
      ]
     },
     "execution_count": 5,
     "metadata": {},
     "output_type": "execute_result"
    }
   ],
   "source": [
    "X = X.rename(columns=columns)\n",
    "X"
   ]
  },
  {
   "cell_type": "code",
   "execution_count": 6,
   "metadata": {},
   "outputs": [
    {
     "name": "stdout",
     "output_type": "stream",
     "text": [
      "<class 'pandas.core.frame.DataFrame'>\n",
      "RangeIndex: 7352 entries, 0 to 7351\n",
      "Columns: 561 entries, tBodyAcc-mean()-X to angle(Z,gravityMean)\n",
      "dtypes: float64(561)\n",
      "memory usage: 31.5 MB\n"
     ]
    }
   ],
   "source": [
    "X.info()"
   ]
  },
  {
   "cell_type": "code",
   "execution_count": 7,
   "metadata": {},
   "outputs": [
    {
     "data": {
      "text/plain": [
       "0"
      ]
     },
     "execution_count": 7,
     "metadata": {},
     "output_type": "execute_result"
    }
   ],
   "source": [
    "# check for missing values\n",
    "\n",
    "sum(X.isnull().sum())"
   ]
  },
  {
   "cell_type": "code",
   "execution_count": 8,
   "metadata": {},
   "outputs": [
    {
     "data": {
      "text/html": [
       "<div>\n",
       "<style scoped>\n",
       "    .dataframe tbody tr th:only-of-type {\n",
       "        vertical-align: middle;\n",
       "    }\n",
       "\n",
       "    .dataframe tbody tr th {\n",
       "        vertical-align: top;\n",
       "    }\n",
       "\n",
       "    .dataframe thead th {\n",
       "        text-align: right;\n",
       "    }\n",
       "</style>\n",
       "<table border=\"1\" class=\"dataframe\">\n",
       "  <thead>\n",
       "    <tr style=\"text-align: right;\">\n",
       "      <th></th>\n",
       "      <th>0</th>\n",
       "    </tr>\n",
       "  </thead>\n",
       "  <tbody>\n",
       "    <tr>\n",
       "      <th>0</th>\n",
       "      <td>5</td>\n",
       "    </tr>\n",
       "    <tr>\n",
       "      <th>1</th>\n",
       "      <td>5</td>\n",
       "    </tr>\n",
       "    <tr>\n",
       "      <th>2</th>\n",
       "      <td>5</td>\n",
       "    </tr>\n",
       "    <tr>\n",
       "      <th>3</th>\n",
       "      <td>5</td>\n",
       "    </tr>\n",
       "    <tr>\n",
       "      <th>4</th>\n",
       "      <td>5</td>\n",
       "    </tr>\n",
       "    <tr>\n",
       "      <th>...</th>\n",
       "      <td>...</td>\n",
       "    </tr>\n",
       "    <tr>\n",
       "      <th>7347</th>\n",
       "      <td>2</td>\n",
       "    </tr>\n",
       "    <tr>\n",
       "      <th>7348</th>\n",
       "      <td>2</td>\n",
       "    </tr>\n",
       "    <tr>\n",
       "      <th>7349</th>\n",
       "      <td>2</td>\n",
       "    </tr>\n",
       "    <tr>\n",
       "      <th>7350</th>\n",
       "      <td>2</td>\n",
       "    </tr>\n",
       "    <tr>\n",
       "      <th>7351</th>\n",
       "      <td>2</td>\n",
       "    </tr>\n",
       "  </tbody>\n",
       "</table>\n",
       "<p>7352 rows × 1 columns</p>\n",
       "</div>"
      ],
      "text/plain": [
       "      0\n",
       "0     5\n",
       "1     5\n",
       "2     5\n",
       "3     5\n",
       "4     5\n",
       "...  ..\n",
       "7347  2\n",
       "7348  2\n",
       "7349  2\n",
       "7350  2\n",
       "7351  2\n",
       "\n",
       "[7352 rows x 1 columns]"
      ]
     },
     "execution_count": 8,
     "metadata": {},
     "output_type": "execute_result"
    }
   ],
   "source": [
    "y = pd.read_csv(r'..\\Smartphone Sensor Data\\train\\y_train.txt', sep='\\s+', header=None)\n",
    "y"
   ]
  },
  {
   "cell_type": "code",
   "execution_count": 9,
   "metadata": {},
   "outputs": [
    {
     "data": {
      "text/html": [
       "<div>\n",
       "<style scoped>\n",
       "    .dataframe tbody tr th:only-of-type {\n",
       "        vertical-align: middle;\n",
       "    }\n",
       "\n",
       "    .dataframe tbody tr th {\n",
       "        vertical-align: top;\n",
       "    }\n",
       "\n",
       "    .dataframe thead th {\n",
       "        text-align: right;\n",
       "    }\n",
       "</style>\n",
       "<table border=\"1\" class=\"dataframe\">\n",
       "  <thead>\n",
       "    <tr style=\"text-align: right;\">\n",
       "      <th></th>\n",
       "      <th>0</th>\n",
       "      <th>1</th>\n",
       "    </tr>\n",
       "  </thead>\n",
       "  <tbody>\n",
       "    <tr>\n",
       "      <th>0</th>\n",
       "      <td>1</td>\n",
       "      <td>WALKING</td>\n",
       "    </tr>\n",
       "    <tr>\n",
       "      <th>1</th>\n",
       "      <td>2</td>\n",
       "      <td>WALKING_UPSTAIRS</td>\n",
       "    </tr>\n",
       "    <tr>\n",
       "      <th>2</th>\n",
       "      <td>3</td>\n",
       "      <td>WALKING_DOWNSTAIRS</td>\n",
       "    </tr>\n",
       "    <tr>\n",
       "      <th>3</th>\n",
       "      <td>4</td>\n",
       "      <td>SITTING</td>\n",
       "    </tr>\n",
       "    <tr>\n",
       "      <th>4</th>\n",
       "      <td>5</td>\n",
       "      <td>STANDING</td>\n",
       "    </tr>\n",
       "    <tr>\n",
       "      <th>5</th>\n",
       "      <td>6</td>\n",
       "      <td>LAYING</td>\n",
       "    </tr>\n",
       "  </tbody>\n",
       "</table>\n",
       "</div>"
      ],
      "text/plain": [
       "   0                   1\n",
       "0  1             WALKING\n",
       "1  2    WALKING_UPSTAIRS\n",
       "2  3  WALKING_DOWNSTAIRS\n",
       "3  4             SITTING\n",
       "4  5            STANDING\n",
       "5  6              LAYING"
      ]
     },
     "execution_count": 9,
     "metadata": {},
     "output_type": "execute_result"
    }
   ],
   "source": [
    "target_names = pd.read_csv(r'..\\Smartphone Sensor Data\\activity_labels.txt', sep='\\s+', header=None)\n",
    "target_names"
   ]
  },
  {
   "cell_type": "code",
   "execution_count": 10,
   "metadata": {},
   "outputs": [
    {
     "data": {
      "text/html": [
       "<div>\n",
       "<style scoped>\n",
       "    .dataframe tbody tr th:only-of-type {\n",
       "        vertical-align: middle;\n",
       "    }\n",
       "\n",
       "    .dataframe tbody tr th {\n",
       "        vertical-align: top;\n",
       "    }\n",
       "\n",
       "    .dataframe thead th {\n",
       "        text-align: right;\n",
       "    }\n",
       "</style>\n",
       "<table border=\"1\" class=\"dataframe\">\n",
       "  <thead>\n",
       "    <tr style=\"text-align: right;\">\n",
       "      <th></th>\n",
       "      <th>target</th>\n",
       "    </tr>\n",
       "  </thead>\n",
       "  <tbody>\n",
       "    <tr>\n",
       "      <th>0</th>\n",
       "      <td>5</td>\n",
       "    </tr>\n",
       "    <tr>\n",
       "      <th>1</th>\n",
       "      <td>5</td>\n",
       "    </tr>\n",
       "    <tr>\n",
       "      <th>2</th>\n",
       "      <td>5</td>\n",
       "    </tr>\n",
       "    <tr>\n",
       "      <th>3</th>\n",
       "      <td>5</td>\n",
       "    </tr>\n",
       "    <tr>\n",
       "      <th>4</th>\n",
       "      <td>5</td>\n",
       "    </tr>\n",
       "    <tr>\n",
       "      <th>...</th>\n",
       "      <td>...</td>\n",
       "    </tr>\n",
       "    <tr>\n",
       "      <th>7347</th>\n",
       "      <td>2</td>\n",
       "    </tr>\n",
       "    <tr>\n",
       "      <th>7348</th>\n",
       "      <td>2</td>\n",
       "    </tr>\n",
       "    <tr>\n",
       "      <th>7349</th>\n",
       "      <td>2</td>\n",
       "    </tr>\n",
       "    <tr>\n",
       "      <th>7350</th>\n",
       "      <td>2</td>\n",
       "    </tr>\n",
       "    <tr>\n",
       "      <th>7351</th>\n",
       "      <td>2</td>\n",
       "    </tr>\n",
       "  </tbody>\n",
       "</table>\n",
       "<p>7352 rows × 1 columns</p>\n",
       "</div>"
      ],
      "text/plain": [
       "      target\n",
       "0          5\n",
       "1          5\n",
       "2          5\n",
       "3          5\n",
       "4          5\n",
       "...      ...\n",
       "7347       2\n",
       "7348       2\n",
       "7349       2\n",
       "7350       2\n",
       "7351       2\n",
       "\n",
       "[7352 rows x 1 columns]"
      ]
     },
     "execution_count": 10,
     "metadata": {},
     "output_type": "execute_result"
    }
   ],
   "source": [
    "y = y.rename(columns={0:'target'})\n",
    "y"
   ]
  },
  {
   "cell_type": "code",
   "execution_count": 11,
   "metadata": {},
   "outputs": [
    {
     "data": {
      "text/plain": [
       "0"
      ]
     },
     "execution_count": 11,
     "metadata": {},
     "output_type": "execute_result"
    }
   ],
   "source": [
    "# check for missing values\n",
    "\n",
    "sum(y.isnull().sum())"
   ]
  },
  {
   "cell_type": "code",
   "execution_count": 12,
   "metadata": {},
   "outputs": [
    {
     "data": {
      "text/plain": [
       "(7352, 561)"
      ]
     },
     "execution_count": 12,
     "metadata": {},
     "output_type": "execute_result"
    }
   ],
   "source": [
    "X.shape"
   ]
  },
  {
   "cell_type": "code",
   "execution_count": 13,
   "metadata": {},
   "outputs": [
    {
     "data": {
      "text/plain": [
       "(7352, 1)"
      ]
     },
     "execution_count": 13,
     "metadata": {},
     "output_type": "execute_result"
    }
   ],
   "source": [
    "y.shape"
   ]
  },
  {
   "cell_type": "markdown",
   "metadata": {},
   "source": [
    "### Task 2: Create a binary target variable: categories 1,2,3 --> 1, categories 4,5,6 --> 0 \n",
    "This will represent a binary variable indicating if person is walking or not."
   ]
  },
  {
   "cell_type": "code",
   "execution_count": 14,
   "metadata": {},
   "outputs": [],
   "source": [
    "binary_dict = {\n",
    "    1:1,\n",
    "    2:1,\n",
    "    3:1,\n",
    "    4:0,\n",
    "    5:0,\n",
    "    6:0}\n",
    "y[\"binary_target\"] = y[\"target\"].map(binary_dict)\n"
   ]
  },
  {
   "cell_type": "code",
   "execution_count": 15,
   "metadata": {},
   "outputs": [],
   "source": [
    "y_binary = y.iloc[:,1]"
   ]
  },
  {
   "cell_type": "code",
   "execution_count": 16,
   "metadata": {},
   "outputs": [
    {
     "data": {
      "text/plain": [
       "0       0\n",
       "1       0\n",
       "2       0\n",
       "3       0\n",
       "4       0\n",
       "       ..\n",
       "7347    1\n",
       "7348    1\n",
       "7349    1\n",
       "7350    1\n",
       "7351    1\n",
       "Name: binary_target, Length: 7352, dtype: int64"
      ]
     },
     "execution_count": 16,
     "metadata": {},
     "output_type": "execute_result"
    }
   ],
   "source": [
    "y_binary"
   ]
  },
  {
   "cell_type": "code",
   "execution_count": 17,
   "metadata": {},
   "outputs": [],
   "source": [
    "X = X.to_numpy()"
   ]
  },
  {
   "cell_type": "code",
   "execution_count": 18,
   "metadata": {},
   "outputs": [
    {
     "data": {
      "text/plain": [
       "array([[ 0.28858451, -0.02029417, -0.13290514, ..., -0.84124676,\n",
       "         0.17994061, -0.05862692],\n",
       "       [ 0.27841883, -0.01641057, -0.12352019, ..., -0.8447876 ,\n",
       "         0.18028889, -0.05431672],\n",
       "       [ 0.27965306, -0.01946716, -0.11346169, ..., -0.84893347,\n",
       "         0.18063731, -0.04911782],\n",
       "       ...,\n",
       "       [ 0.27338737, -0.01701062, -0.04502183, ..., -0.77913261,\n",
       "         0.24914484,  0.04081119],\n",
       "       [ 0.28965416, -0.01884304, -0.15828059, ..., -0.78518142,\n",
       "         0.24643223,  0.02533948],\n",
       "       [ 0.35150347, -0.01242312, -0.20386717, ..., -0.78326693,\n",
       "         0.24680852,  0.03669484]])"
      ]
     },
     "execution_count": 18,
     "metadata": {},
     "output_type": "execute_result"
    }
   ],
   "source": [
    "X"
   ]
  },
  {
   "cell_type": "markdown",
   "metadata": {},
   "source": [
    "### Task 3\n",
    "\n",
    "+ Create a Univariate Binary Logistic Regression with feature number 54, which represents `tGravityAcc-min()-Y`: gravity acceleration signals in direction of Y.\n",
    "+ Compare the results of the Logistic regressions from different Python packages (sklearn, statsmodel).\n",
    "+ Plot the **fit** of predicted probabilities to the original values."
   ]
  },
  {
   "cell_type": "code",
   "execution_count": 19,
   "metadata": {},
   "outputs": [
    {
     "data": {
      "text/plain": [
       "array([-0.12321341, -0.11489334, -0.11489334, ..., -0.21600415,\n",
       "       -0.21054246, -0.21214853])"
      ]
     },
     "execution_count": 19,
     "metadata": {},
     "output_type": "execute_result"
    }
   ],
   "source": [
    "# isolate feature 54\n",
    "\n",
    "f_54 = X[:,53]\n",
    "f_54"
   ]
  },
  {
   "cell_type": "code",
   "execution_count": 20,
   "metadata": {},
   "outputs": [],
   "source": [
    "# split data into training and test sets\n",
    "\n",
    "X_train, X_test, y_train, y_test = train_test_split(f_54, y_binary, test_size=0.20, random_state=42)"
   ]
  },
  {
   "cell_type": "code",
   "execution_count": 21,
   "metadata": {},
   "outputs": [
    {
     "name": "stdout",
     "output_type": "stream",
     "text": [
      "(5881,)\n",
      "(1471,)\n",
      "(5881,)\n",
      "(1471,)\n"
     ]
    }
   ],
   "source": [
    "print(X_train.shape)\n",
    "print(X_test.shape)\n",
    "print(y_train.shape)\n",
    "print(y_test.shape)"
   ]
  },
  {
   "cell_type": "code",
   "execution_count": 22,
   "metadata": {},
   "outputs": [
    {
     "data": {
      "text/html": [
       "<style>#sk-container-id-1 {color: black;background-color: white;}#sk-container-id-1 pre{padding: 0;}#sk-container-id-1 div.sk-toggleable {background-color: white;}#sk-container-id-1 label.sk-toggleable__label {cursor: pointer;display: block;width: 100%;margin-bottom: 0;padding: 0.3em;box-sizing: border-box;text-align: center;}#sk-container-id-1 label.sk-toggleable__label-arrow:before {content: \"▸\";float: left;margin-right: 0.25em;color: #696969;}#sk-container-id-1 label.sk-toggleable__label-arrow:hover:before {color: black;}#sk-container-id-1 div.sk-estimator:hover label.sk-toggleable__label-arrow:before {color: black;}#sk-container-id-1 div.sk-toggleable__content {max-height: 0;max-width: 0;overflow: hidden;text-align: left;background-color: #f0f8ff;}#sk-container-id-1 div.sk-toggleable__content pre {margin: 0.2em;color: black;border-radius: 0.25em;background-color: #f0f8ff;}#sk-container-id-1 input.sk-toggleable__control:checked~div.sk-toggleable__content {max-height: 200px;max-width: 100%;overflow: auto;}#sk-container-id-1 input.sk-toggleable__control:checked~label.sk-toggleable__label-arrow:before {content: \"▾\";}#sk-container-id-1 div.sk-estimator input.sk-toggleable__control:checked~label.sk-toggleable__label {background-color: #d4ebff;}#sk-container-id-1 div.sk-label input.sk-toggleable__control:checked~label.sk-toggleable__label {background-color: #d4ebff;}#sk-container-id-1 input.sk-hidden--visually {border: 0;clip: rect(1px 1px 1px 1px);clip: rect(1px, 1px, 1px, 1px);height: 1px;margin: -1px;overflow: hidden;padding: 0;position: absolute;width: 1px;}#sk-container-id-1 div.sk-estimator {font-family: monospace;background-color: #f0f8ff;border: 1px dotted black;border-radius: 0.25em;box-sizing: border-box;margin-bottom: 0.5em;}#sk-container-id-1 div.sk-estimator:hover {background-color: #d4ebff;}#sk-container-id-1 div.sk-parallel-item::after {content: \"\";width: 100%;border-bottom: 1px solid gray;flex-grow: 1;}#sk-container-id-1 div.sk-label:hover label.sk-toggleable__label {background-color: #d4ebff;}#sk-container-id-1 div.sk-serial::before {content: \"\";position: absolute;border-left: 1px solid gray;box-sizing: border-box;top: 0;bottom: 0;left: 50%;z-index: 0;}#sk-container-id-1 div.sk-serial {display: flex;flex-direction: column;align-items: center;background-color: white;padding-right: 0.2em;padding-left: 0.2em;position: relative;}#sk-container-id-1 div.sk-item {position: relative;z-index: 1;}#sk-container-id-1 div.sk-parallel {display: flex;align-items: stretch;justify-content: center;background-color: white;position: relative;}#sk-container-id-1 div.sk-item::before, #sk-container-id-1 div.sk-parallel-item::before {content: \"\";position: absolute;border-left: 1px solid gray;box-sizing: border-box;top: 0;bottom: 0;left: 50%;z-index: -1;}#sk-container-id-1 div.sk-parallel-item {display: flex;flex-direction: column;z-index: 1;position: relative;background-color: white;}#sk-container-id-1 div.sk-parallel-item:first-child::after {align-self: flex-end;width: 50%;}#sk-container-id-1 div.sk-parallel-item:last-child::after {align-self: flex-start;width: 50%;}#sk-container-id-1 div.sk-parallel-item:only-child::after {width: 0;}#sk-container-id-1 div.sk-dashed-wrapped {border: 1px dashed gray;margin: 0 0.4em 0.5em 0.4em;box-sizing: border-box;padding-bottom: 0.4em;background-color: white;}#sk-container-id-1 div.sk-label label {font-family: monospace;font-weight: bold;display: inline-block;line-height: 1.2em;}#sk-container-id-1 div.sk-label-container {text-align: center;}#sk-container-id-1 div.sk-container {/* jupyter's `normalize.less` sets `[hidden] { display: none; }` but bootstrap.min.css set `[hidden] { display: none !important; }` so we also need the `!important` here to be able to override the default hidden behavior on the sphinx rendered scikit-learn.org. See: https://github.com/scikit-learn/scikit-learn/issues/21755 */display: inline-block !important;position: relative;}#sk-container-id-1 div.sk-text-repr-fallback {display: none;}</style><div id=\"sk-container-id-1\" class=\"sk-top-container\"><div class=\"sk-text-repr-fallback\"><pre>LogisticRegression()</pre><b>In a Jupyter environment, please rerun this cell to show the HTML representation or trust the notebook. <br />On GitHub, the HTML representation is unable to render, please try loading this page with nbviewer.org.</b></div><div class=\"sk-container\" hidden><div class=\"sk-item\"><div class=\"sk-estimator sk-toggleable\"><input class=\"sk-toggleable__control sk-hidden--visually\" id=\"sk-estimator-id-1\" type=\"checkbox\" checked><label for=\"sk-estimator-id-1\" class=\"sk-toggleable__label sk-toggleable__label-arrow\">LogisticRegression</label><div class=\"sk-toggleable__content\"><pre>LogisticRegression()</pre></div></div></div></div></div>"
      ],
      "text/plain": [
       "LogisticRegression()"
      ]
     },
     "execution_count": 22,
     "metadata": {},
     "output_type": "execute_result"
    }
   ],
   "source": [
    "#sklearn logistic regression\n",
    "\n",
    "lr = LogisticRegression()\n",
    "\n",
    "lr.fit(X_train.reshape(-1, 1), y_train)"
   ]
  },
  {
   "cell_type": "code",
   "execution_count": 23,
   "metadata": {},
   "outputs": [
    {
     "data": {
      "text/plain": [
       "0.7648359122598197"
      ]
     },
     "execution_count": 23,
     "metadata": {},
     "output_type": "execute_result"
    }
   ],
   "source": [
    "#Check Train Score\n",
    "lr.score(X_train.reshape(-1, 1), y_train)"
   ]
  },
  {
   "cell_type": "code",
   "execution_count": 24,
   "metadata": {},
   "outputs": [
    {
     "data": {
      "text/plain": [
       "0.7634262406526172"
      ]
     },
     "execution_count": 24,
     "metadata": {},
     "output_type": "execute_result"
    }
   ],
   "source": [
    "#Check Test Score\n",
    "lr.score(X_test.reshape(-1, 1), y_test)"
   ]
  },
  {
   "cell_type": "code",
   "execution_count": 25,
   "metadata": {},
   "outputs": [
    {
     "data": {
      "image/png": "[encoded data removed]",
      "text/plain": [
       "<Figure size 640x480 with 1 Axes>"
      ]
     },
     "metadata": {},
     "output_type": "display_data"
    }
   ],
   "source": [
    "#define metrics\n",
    "y_pred_proba = lr.predict_proba(X_test.reshape(-1, 1))[::,1]\n",
    "fpr, tpr, _ = metrics.roc_curve(y_test,  y_pred_proba)\n",
    "auc = metrics.roc_auc_score(y_test, y_pred_proba)\n",
    "\n",
    "#create ROC curve\n",
    "plt.plot(fpr,tpr,label=\"AUC=\"+str(auc))\n",
    "plt.ylabel('True Positive Rate')\n",
    "plt.xlabel('False Positive Rate')\n",
    "plt.legend(loc=4)\n",
    "plt.show()"
   ]
  },
  {
   "cell_type": "code",
   "execution_count": 26,
   "metadata": {},
   "outputs": [
    {
     "name": "stdout",
     "output_type": "stream",
     "text": [
      "Defaulting to user installation because normal site-packages is not writeable\n",
      "Requirement already satisfied: statsmodels in c:\\users\\user\\appdata\\roaming\\python\\python39\\site-packages (0.13.2)\n",
      "Requirement already satisfied: patsy>=0.5.2 in c:\\users\\user\\appdata\\roaming\\python\\python39\\site-packages (from statsmodels) (0.5.3)\n",
      "Requirement already satisfied: pandas>=0.25 in c:\\users\\user\\appdata\\roaming\\python\\python39\\site-packages (from statsmodels) (1.5.0)\n",
      "Requirement already satisfied: packaging>=21.3 in c:\\users\\user\\appdata\\roaming\\python\\python39\\site-packages (from statsmodels) (21.3)\n",
      "Requirement already satisfied: numpy>=1.17 in c:\\users\\user\\appdata\\roaming\\python\\python39\\site-packages (from statsmodels) (1.23.3)\n",
      "Requirement already satisfied: scipy>=1.3 in c:\\users\\user\\appdata\\roaming\\python\\python39\\site-packages (from statsmodels) (1.9.1)\n",
      "Requirement already satisfied: pyparsing!=3.0.5,>=2.0.2 in c:\\users\\user\\appdata\\roaming\\python\\python39\\site-packages (from packaging>=21.3->statsmodels) (3.0.9)\n",
      "Requirement already satisfied: python-dateutil>=2.8.1 in c:\\users\\user\\appdata\\roaming\\python\\python39\\site-packages (from pandas>=0.25->statsmodels) (2.8.2)\n",
      "Requirement already satisfied: pytz>=2020.1 in c:\\users\\user\\appdata\\roaming\\python\\python39\\site-packages (from pandas>=0.25->statsmodels) (2022.2.1)\n",
      "Requirement already satisfied: six in c:\\users\\user\\appdata\\roaming\\python\\python39\\site-packages (from patsy>=0.5.2->statsmodels) (1.16.0)\n"
     ]
    }
   ],
   "source": [
    "# logistic regression with statsmodel\n",
    "\n",
    "! pip install statsmodels"
   ]
  },
  {
   "cell_type": "code",
   "execution_count": 27,
   "metadata": {},
   "outputs": [
    {
     "name": "stdout",
     "output_type": "stream",
     "text": [
      "Defaulting to user installation because normal site-packages is not writeable\n",
      "Requirement already satisfied: pip in c:\\users\\user\\appdata\\roaming\\python\\python39\\site-packages (22.3)\n"
     ]
    }
   ],
   "source": [
    "! python.exe -m pip install --upgrade pip"
   ]
  },
  {
   "cell_type": "code",
   "execution_count": 28,
   "metadata": {},
   "outputs": [
    {
     "name": "stdout",
     "output_type": "stream",
     "text": [
      "Defaulting to user installation because normal site-packages is not writeable\n",
      "Requirement already satisfied: statsmodels in c:\\users\\user\\appdata\\roaming\\python\\python39\\site-packages (0.13.2)\n",
      "Requirement already satisfied: packaging>=21.3 in c:\\users\\user\\appdata\\roaming\\python\\python39\\site-packages (from statsmodels) (21.3)\n",
      "Requirement already satisfied: numpy>=1.17 in c:\\users\\user\\appdata\\roaming\\python\\python39\\site-packages (from statsmodels) (1.23.3)\n",
      "Requirement already satisfied: pandas>=0.25 in c:\\users\\user\\appdata\\roaming\\python\\python39\\site-packages (from statsmodels) (1.5.0)\n",
      "Requirement already satisfied: scipy>=1.3 in c:\\users\\user\\appdata\\roaming\\python\\python39\\site-packages (from statsmodels) (1.9.1)\n",
      "Requirement already satisfied: patsy>=0.5.2 in c:\\users\\user\\appdata\\roaming\\python\\python39\\site-packages (from statsmodels) (0.5.3)\n",
      "Requirement already satisfied: pyparsing!=3.0.5,>=2.0.2 in c:\\users\\user\\appdata\\roaming\\python\\python39\\site-packages (from packaging>=21.3->statsmodels) (3.0.9)\n",
      "Requirement already satisfied: python-dateutil>=2.8.1 in c:\\users\\user\\appdata\\roaming\\python\\python39\\site-packages (from pandas>=0.25->statsmodels) (2.8.2)\n",
      "Requirement already satisfied: pytz>=2020.1 in c:\\users\\user\\appdata\\roaming\\python\\python39\\site-packages (from pandas>=0.25->statsmodels) (2022.2.1)\n",
      "Requirement already satisfied: six in c:\\users\\user\\appdata\\roaming\\python\\python39\\site-packages (from patsy>=0.5.2->statsmodels) (1.16.0)\n"
     ]
    }
   ],
   "source": [
    "! pip install statsmodels"
   ]
  },
  {
   "cell_type": "code",
   "execution_count": 29,
   "metadata": {},
   "outputs": [],
   "source": [
    "import statsmodels.api as sm\n",
    "from statsmodels import discrete\n",
    "import pandas\n",
    "from patsy import dmatrices"
   ]
  },
  {
   "cell_type": "code",
   "execution_count": 30,
   "metadata": {},
   "outputs": [
    {
     "ename": "ValueError",
     "evalue": "endog must be in the unit interval.",
     "output_type": "error",
     "traceback": [
      "\u001b[1;31m---------------------------------------------------------------------------\u001b[0m",
      "\u001b[1;31mValueError\u001b[0m                                Traceback (most recent call last)",
      "Cell \u001b[1;32mIn [30], line 1\u001b[0m\n\u001b[1;32m----> 1\u001b[0m lr_sm \u001b[39m=\u001b[39m discrete\u001b[39m.\u001b[39;49mdiscrete_model\u001b[39m.\u001b[39;49mLogit(X_train,y_train)\n",
      "File \u001b[1;32m~\\AppData\\Roaming\\Python\\Python39\\site-packages\\statsmodels\\discrete\\discrete_model.py:465\u001b[0m, in \u001b[0;36mBinaryModel.__init__\u001b[1;34m(self, endog, exog, check_rank, **kwargs)\u001b[0m\n\u001b[0;32m    463\u001b[0m \u001b[39mif\u001b[39;00m \u001b[39mnot\u001b[39;00m \u001b[39missubclass\u001b[39m(\u001b[39mself\u001b[39m\u001b[39m.\u001b[39m\u001b[39m__class__\u001b[39m, MultinomialModel):\n\u001b[0;32m    464\u001b[0m     \u001b[39mif\u001b[39;00m \u001b[39mnot\u001b[39;00m np\u001b[39m.\u001b[39mall((\u001b[39mself\u001b[39m\u001b[39m.\u001b[39mendog \u001b[39m>\u001b[39m\u001b[39m=\u001b[39m \u001b[39m0\u001b[39m) \u001b[39m&\u001b[39m (\u001b[39mself\u001b[39m\u001b[39m.\u001b[39mendog \u001b[39m<\u001b[39m\u001b[39m=\u001b[39m \u001b[39m1\u001b[39m)):\n\u001b[1;32m--> 465\u001b[0m         \u001b[39mraise\u001b[39;00m \u001b[39mValueError\u001b[39;00m(\u001b[39m\"\u001b[39m\u001b[39mendog must be in the unit interval.\u001b[39m\u001b[39m\"\u001b[39m)\n\u001b[0;32m    467\u001b[0m     \u001b[39mif\u001b[39;00m (\u001b[39mnot\u001b[39;00m \u001b[39mself\u001b[39m\u001b[39m.\u001b[39m_continuous_ok \u001b[39mand\u001b[39;00m\n\u001b[0;32m    468\u001b[0m             np\u001b[39m.\u001b[39many(\u001b[39mself\u001b[39m\u001b[39m.\u001b[39mendog \u001b[39m!=\u001b[39m np\u001b[39m.\u001b[39mround(\u001b[39mself\u001b[39m\u001b[39m.\u001b[39mendog))):\n\u001b[0;32m    469\u001b[0m         \u001b[39mraise\u001b[39;00m \u001b[39mValueError\u001b[39;00m(\u001b[39m\"\u001b[39m\u001b[39mendog must be binary, either 0 or 1\u001b[39m\u001b[39m\"\u001b[39m)\n",
      "\u001b[1;31mValueError\u001b[0m: endog must be in the unit interval."
     ]
    }
   ],
   "source": [
    "lr_sm = discrete.discrete_model.Logit(X_train,y_train)"
   ]
  },
  {
   "cell_type": "markdown",
   "metadata": {},
   "source": [
    "### Task 4\n",
    "- Try to fit a Binary Logistic Regression with all the features? How many are significant?"
   ]
  },
  {
   "cell_type": "code",
   "execution_count": 35,
   "metadata": {},
   "outputs": [
    {
     "data": {
      "text/plain": [
       "0       5\n",
       "1       5\n",
       "2       5\n",
       "3       5\n",
       "4       5\n",
       "       ..\n",
       "7347    2\n",
       "7348    2\n",
       "7349    2\n",
       "7350    2\n",
       "7351    2\n",
       "Name: target, Length: 7352, dtype: int64"
      ]
     },
     "execution_count": 35,
     "metadata": {},
     "output_type": "execute_result"
    }
   ],
   "source": [
    "y_multi = y.iloc[:,0]\n",
    "y_multi"
   ]
  },
  {
   "cell_type": "code",
   "execution_count": 36,
   "metadata": {},
   "outputs": [],
   "source": [
    "# split data into training and test sets\n",
    "\n",
    "X_train, X_test, y_train, y_test = train_test_split(X, y_multi, test_size=0.20, random_state=42)"
   ]
  },
  {
   "cell_type": "code",
   "execution_count": 37,
   "metadata": {},
   "outputs": [
    {
     "name": "stdout",
     "output_type": "stream",
     "text": [
      "(5881, 561)\n",
      "(1471, 561)\n",
      "(5881,)\n",
      "(1471,)\n"
     ]
    }
   ],
   "source": [
    "print(X_train.shape)\n",
    "print(X_test.shape)\n",
    "print(y_train.shape)\n",
    "print(y_test.shape)"
   ]
  },
  {
   "cell_type": "code",
   "execution_count": 40,
   "metadata": {},
   "outputs": [
    {
     "data": {
      "text/html": [
       "<style>#sk-container-id-4 {color: black;background-color: white;}#sk-container-id-4 pre{padding: 0;}#sk-container-id-4 div.sk-toggleable {background-color: white;}#sk-container-id-4 label.sk-toggleable__label {cursor: pointer;display: block;width: 100%;margin-bottom: 0;padding: 0.3em;box-sizing: border-box;text-align: center;}#sk-container-id-4 label.sk-toggleable__label-arrow:before {content: \"▸\";float: left;margin-right: 0.25em;color: #696969;}#sk-container-id-4 label.sk-toggleable__label-arrow:hover:before {color: black;}#sk-container-id-4 div.sk-estimator:hover label.sk-toggleable__label-arrow:before {color: black;}#sk-container-id-4 div.sk-toggleable__content {max-height: 0;max-width: 0;overflow: hidden;text-align: left;background-color: #f0f8ff;}#sk-container-id-4 div.sk-toggleable__content pre {margin: 0.2em;color: black;border-radius: 0.25em;background-color: #f0f8ff;}#sk-container-id-4 input.sk-toggleable__control:checked~div.sk-toggleable__content {max-height: 200px;max-width: 100%;overflow: auto;}#sk-container-id-4 input.sk-toggleable__control:checked~label.sk-toggleable__label-arrow:before {content: \"▾\";}#sk-container-id-4 div.sk-estimator input.sk-toggleable__control:checked~label.sk-toggleable__label {background-color: #d4ebff;}#sk-container-id-4 div.sk-label input.sk-toggleable__control:checked~label.sk-toggleable__label {background-color: #d4ebff;}#sk-container-id-4 input.sk-hidden--visually {border: 0;clip: rect(1px 1px 1px 1px);clip: rect(1px, 1px, 1px, 1px);height: 1px;margin: -1px;overflow: hidden;padding: 0;position: absolute;width: 1px;}#sk-container-id-4 div.sk-estimator {font-family: monospace;background-color: #f0f8ff;border: 1px dotted black;border-radius: 0.25em;box-sizing: border-box;margin-bottom: 0.5em;}#sk-container-id-4 div.sk-estimator:hover {background-color: #d4ebff;}#sk-container-id-4 div.sk-parallel-item::after {content: \"\";width: 100%;border-bottom: 1px solid gray;flex-grow: 1;}#sk-container-id-4 div.sk-label:hover label.sk-toggleable__label {background-color: #d4ebff;}#sk-container-id-4 div.sk-serial::before {content: \"\";position: absolute;border-left: 1px solid gray;box-sizing: border-box;top: 0;bottom: 0;left: 50%;z-index: 0;}#sk-container-id-4 div.sk-serial {display: flex;flex-direction: column;align-items: center;background-color: white;padding-right: 0.2em;padding-left: 0.2em;position: relative;}#sk-container-id-4 div.sk-item {position: relative;z-index: 1;}#sk-container-id-4 div.sk-parallel {display: flex;align-items: stretch;justify-content: center;background-color: white;position: relative;}#sk-container-id-4 div.sk-item::before, #sk-container-id-4 div.sk-parallel-item::before {content: \"\";position: absolute;border-left: 1px solid gray;box-sizing: border-box;top: 0;bottom: 0;left: 50%;z-index: -1;}#sk-container-id-4 div.sk-parallel-item {display: flex;flex-direction: column;z-index: 1;position: relative;background-color: white;}#sk-container-id-4 div.sk-parallel-item:first-child::after {align-self: flex-end;width: 50%;}#sk-container-id-4 div.sk-parallel-item:last-child::after {align-self: flex-start;width: 50%;}#sk-container-id-4 div.sk-parallel-item:only-child::after {width: 0;}#sk-container-id-4 div.sk-dashed-wrapped {border: 1px dashed gray;margin: 0 0.4em 0.5em 0.4em;box-sizing: border-box;padding-bottom: 0.4em;background-color: white;}#sk-container-id-4 div.sk-label label {font-family: monospace;font-weight: bold;display: inline-block;line-height: 1.2em;}#sk-container-id-4 div.sk-label-container {text-align: center;}#sk-container-id-4 div.sk-container {/* jupyter's `normalize.less` sets `[hidden] { display: none; }` but bootstrap.min.css set `[hidden] { display: none !important; }` so we also need the `!important` here to be able to override the default hidden behavior on the sphinx rendered scikit-learn.org. See: https://github.com/scikit-learn/scikit-learn/issues/21755 */display: inline-block !important;position: relative;}#sk-container-id-4 div.sk-text-repr-fallback {display: none;}</style><div id=\"sk-container-id-4\" class=\"sk-top-container\"><div class=\"sk-text-repr-fallback\"><pre>LogisticRegression(max_iter=10000)</pre><b>In a Jupyter environment, please rerun this cell to show the HTML representation or trust the notebook. <br />On GitHub, the HTML representation is unable to render, please try loading this page with nbviewer.org.</b></div><div class=\"sk-container\" hidden><div class=\"sk-item\"><div class=\"sk-estimator sk-toggleable\"><input class=\"sk-toggleable__control sk-hidden--visually\" id=\"sk-estimator-id-4\" type=\"checkbox\" checked><label for=\"sk-estimator-id-4\" class=\"sk-toggleable__label sk-toggleable__label-arrow\">LogisticRegression</label><div class=\"sk-toggleable__content\"><pre>LogisticRegression(max_iter=10000)</pre></div></div></div></div></div>"
      ],
      "text/plain": [
       "LogisticRegression(max_iter=10000)"
      ]
     },
     "execution_count": 40,
     "metadata": {},
     "output_type": "execute_result"
    }
   ],
   "source": [
    "#sklearn logistic regression\n",
    "\n",
    "lr = LogisticRegression(max_iter=10000)\n",
    "\n",
    "lr.fit(X_train, y_train)"
   ]
  },
  {
   "cell_type": "code",
   "execution_count": 42,
   "metadata": {},
   "outputs": [
    {
     "data": {
      "text/plain": [
       "0.992688318313212"
      ]
     },
     "execution_count": 42,
     "metadata": {},
     "output_type": "execute_result"
    }
   ],
   "source": [
    "#Check Train Score\n",
    "lr.score(X_train, y_train)"
   ]
  },
  {
   "cell_type": "code",
   "execution_count": 44,
   "metadata": {},
   "outputs": [
    {
     "data": {
      "text/plain": [
       "0.9809653297076818"
      ]
     },
     "execution_count": 44,
     "metadata": {},
     "output_type": "execute_result"
    }
   ],
   "source": [
    "#Check Test Score\n",
    "lr.score(X_test, y_test)"
   ]
  },
  {
   "cell_type": "code",
   "execution_count": 46,
   "metadata": {},
   "outputs": [
    {
     "data": {
      "text/plain": [
       "4525    3\n",
       "1446    3\n",
       "5995    1\n",
       "4222    4\n",
       "6754    3\n",
       "       ..\n",
       "3704    6\n",
       "705     5\n",
       "1650    4\n",
       "2260    4\n",
       "5907    4\n",
       "Name: target, Length: 1471, dtype: int64"
      ]
     },
     "execution_count": 46,
     "metadata": {},
     "output_type": "execute_result"
    }
   ],
   "source": [
    "y_test"
   ]
  },
  {
   "cell_type": "code",
   "execution_count": 53,
   "metadata": {},
   "outputs": [],
   "source": [
    "y_pred = lr.predict(X_test)"
   ]
  },
  {
   "cell_type": "code",
   "execution_count": 54,
   "metadata": {},
   "outputs": [],
   "source": [
    "y_proba = lr.predict_proba(X_test)"
   ]
  },
  {
   "cell_type": "code",
   "execution_count": 55,
   "metadata": {},
   "outputs": [
    {
     "data": {
      "text/plain": [
       "array([[0, 0, 0, 1, 0, 0],\n",
       "       [0, 0, 0, 1, 0, 0],\n",
       "       [0, 1, 0, 0, 0, 0],\n",
       "       ...,\n",
       "       [0, 0, 0, 0, 1, 0],\n",
       "       [0, 0, 0, 0, 1, 0],\n",
       "       [0, 0, 0, 0, 1, 0]])"
      ]
     },
     "execution_count": 55,
     "metadata": {},
     "output_type": "execute_result"
    }
   ],
   "source": [
    "# Binarize each label\n",
    "from sklearn.preprocessing import label_binarize\n",
    "binary = label_binarize(y_test ,classes=[0,1,2,3,4,5])\n",
    "binary"
   ]
  },
  {
   "cell_type": "code",
   "execution_count": 56,
   "metadata": {},
   "outputs": [],
   "source": [
    "from sklearn import metrics"
   ]
  },
  {
   "cell_type": "code",
   "execution_count": 60,
   "metadata": {},
   "outputs": [
    {
     "name": "stderr",
     "output_type": "stream",
     "text": [
      "C:\\Users\\User\\AppData\\Roaming\\Python\\Python39\\site-packages\\sklearn\\metrics\\_ranking.py:1018: UndefinedMetricWarning: No positive samples in y_true, true positive value should be meaningless\n",
      "  warnings.warn(\n"
     ]
    },
    {
     "name": "stdout",
     "output_type": "stream",
     "text": [
      "threshold 0 :  [1.99999773e+00 9.99997731e-01 2.52441915e-14]\n",
      "threshold 1 :  [1.99999044e+00 9.99990436e-01 8.75299582e-01 8.71949769e-01\n",
      " 5.51956946e-01 5.11134121e-01 4.36215945e-01 4.35901161e-01\n",
      " 1.65637508e-01 1.25247071e-01 1.22911819e-01 1.07356743e-01\n",
      " 9.25709938e-02 8.85489218e-02 6.62495450e-02 6.48031257e-02\n",
      " 5.60017809e-02 5.26775452e-02 4.94117327e-02 4.73761182e-02\n",
      " 4.45247706e-02 3.95715585e-02 3.72264362e-02 3.12081978e-02\n",
      " 3.08176783e-02 3.04675165e-02 2.48948117e-02 2.43549550e-02\n",
      " 2.02212853e-02 1.99752410e-02 1.99649834e-02 1.70010676e-02\n",
      " 1.43129874e-02 1.27117701e-02 1.25889417e-02 1.02646507e-02\n",
      " 9.82333715e-03 9.64460821e-03 9.28778336e-03 9.06618856e-03\n",
      " 9.02841699e-03 8.84952005e-03 8.84610517e-03 8.65445828e-03\n",
      " 7.79618575e-03 7.31027362e-03 7.22820505e-03 6.99743751e-03\n",
      " 6.28922845e-03 6.12365477e-03 5.87091381e-03 5.86219422e-03\n",
      " 5.75533892e-03 5.26036835e-03 5.07030961e-03 4.59489721e-03\n",
      " 4.38406082e-03 4.15530519e-03 4.09289973e-03 4.08122351e-03\n",
      " 4.02969293e-03 3.57829371e-03 3.19213614e-03 2.70720006e-03\n",
      " 2.66140501e-03 2.56305952e-03 2.27601746e-03 2.11080168e-03\n",
      " 2.07478379e-03 2.02649848e-03 1.92101313e-03 1.76838784e-03\n",
      " 1.67006493e-03 1.53295767e-03 1.46959833e-03 1.36474373e-03\n",
      " 1.30246320e-03 1.23016643e-03 1.19449076e-03 1.17893101e-03\n",
      " 1.17275226e-03 1.14997858e-03 1.14469149e-03 1.11655861e-03\n",
      " 1.09362024e-03 9.92707936e-04 9.24460622e-04 8.74245494e-04\n",
      " 8.59377491e-04 8.14387508e-04 8.13234081e-04 7.89535459e-04\n",
      " 6.88554141e-04 6.83715596e-04 6.67582427e-04 6.67442038e-04\n",
      " 6.64412690e-04 6.38464752e-04 6.26446671e-04 5.95121785e-04\n",
      " 5.88011331e-04 5.33731620e-04 5.24760014e-04 5.15589471e-04\n",
      " 4.85573294e-04 4.77831939e-04 4.54403346e-04 4.51794843e-04\n",
      " 4.46203539e-04 4.44217387e-04 4.40837896e-04 4.28353681e-04\n",
      " 4.28320155e-04 4.25005295e-04 3.94191677e-04 3.45549550e-04\n",
      " 3.44169004e-04 3.24531771e-04 3.15624064e-04 3.05913283e-04\n",
      " 3.02056790e-04 2.97441993e-04 2.90877460e-04 2.89438563e-04\n",
      " 2.84903553e-04 2.80644160e-04 2.68990199e-04 2.60253093e-04\n",
      " 2.57014145e-04 2.55158691e-04 2.52864953e-04 2.41813219e-04\n",
      " 2.36533102e-04 2.30316743e-04 2.26849584e-04 2.24968918e-04\n",
      " 2.19808327e-04 2.07013509e-04 2.03282806e-04 1.97518066e-04\n",
      " 1.94890179e-04 1.93379840e-04 1.85992755e-04 1.81752272e-04\n",
      " 1.75995203e-04 1.71364795e-04 1.60438973e-04 1.46229421e-04\n",
      " 1.42055539e-04 1.34073960e-04 1.33741859e-04 1.27371345e-04\n",
      " 1.14140449e-04 1.13301101e-04 1.12308905e-04 1.09802224e-04\n",
      " 1.09331448e-04 1.06259168e-04 9.95602684e-05 9.17618712e-05\n",
      " 9.15798022e-05 8.71886663e-05 8.29342669e-05 8.11354290e-05\n",
      " 7.79482751e-05 7.72982126e-05 7.59036777e-05 7.52330497e-05\n",
      " 7.17665588e-05 7.09015179e-05 7.00286553e-05 6.56549111e-05\n",
      " 6.23864960e-05 6.06354589e-05 5.84028508e-05 5.58528563e-05\n",
      " 5.45968674e-05 5.30222122e-05 5.29048982e-05 5.27346802e-05\n",
      " 4.86277787e-05 4.81438122e-05 4.77499886e-05 4.60478020e-05\n",
      " 4.58356712e-05 4.33480236e-05 4.25685797e-05 3.84689274e-05\n",
      " 3.80120626e-05 3.69757073e-05 3.65784339e-05 3.65573865e-05\n",
      " 3.51631829e-05 3.45418432e-05 3.44817997e-05 3.31360422e-05\n",
      " 3.04209006e-05 3.00489308e-05 2.98997892e-05 2.92547061e-05\n",
      " 2.78702170e-05 2.68307996e-05 2.59916090e-05 2.57926730e-05\n",
      " 2.40375330e-05 2.39511037e-05 2.29426293e-05 2.16233668e-05\n",
      " 2.15327166e-05 2.14176058e-05 2.05260900e-05 2.03085409e-05\n",
      " 2.01087588e-05 1.99163629e-05 1.98970794e-05 1.93453561e-05\n",
      " 1.74704462e-05 1.67117523e-05 1.64913226e-05 1.55250861e-05\n",
      " 1.44391689e-05 1.38676054e-05 1.30120570e-05 1.13279626e-05\n",
      " 1.12867732e-05 1.11203014e-05 9.15051072e-06 8.93628981e-06\n",
      " 8.93013743e-06 8.83463676e-06 8.57281347e-06 8.57220646e-06\n",
      " 8.18349580e-06 8.16890299e-06 7.86105367e-06 7.75443993e-06\n",
      " 6.99853132e-06 6.87199440e-06 6.76569551e-06 6.74657720e-06\n",
      " 5.71361664e-06 5.65732456e-06 4.92603794e-06 4.79765564e-06\n",
      " 4.35295221e-06 4.27917588e-06 4.15983291e-06 4.14717651e-06\n",
      " 3.07911619e-06 2.95259901e-06 2.43377557e-06 2.42277126e-06\n",
      " 1.26077959e-06 1.22156438e-06 9.14156095e-07 8.65210685e-07\n",
      " 5.05912943e-07 4.86476031e-07 3.20146631e-07 3.16410879e-07\n",
      " 1.10436830e-13]\n",
      "threshold 2 :  [2.00000000e+00 1.00000000e+00 6.29421063e-01 6.22977134e-01\n",
      " 5.49673913e-01 4.29960826e-01 3.62216171e-01 1.11833044e-01\n",
      " 1.00870168e-01 5.95699727e-02 4.49453858e-02 4.36539686e-02\n",
      " 3.94690944e-02 2.56094995e-02 2.08100610e-02 2.08021286e-02\n",
      " 2.05272268e-02 1.84425015e-02 1.82320637e-02 1.81246721e-02\n",
      " 1.78222327e-02 1.74572750e-02 1.62815864e-02 1.48763761e-02\n",
      " 1.46813703e-02 1.37198230e-02 1.34859219e-02 1.30648001e-02\n",
      " 1.11610111e-02 9.93817156e-03 9.60499489e-03 9.11041267e-03\n",
      " 8.95971459e-03 8.94997452e-03 8.52683195e-03 7.66461930e-03\n",
      " 6.92134879e-03 6.71646877e-03 6.36584523e-03 6.30544810e-03\n",
      " 6.28673973e-03 5.95777707e-03 5.91517906e-03 4.86776962e-03\n",
      " 4.73176452e-03 4.58758907e-03 4.42040503e-03 4.24267942e-03\n",
      " 3.97419286e-03 3.63406875e-03 3.48469003e-03 3.38469417e-03\n",
      " 3.13282529e-03 3.06984178e-03 2.93867482e-03 2.56007944e-03\n",
      " 2.49966243e-03 2.42208035e-03 2.41073990e-03 2.27379857e-03\n",
      " 2.24939376e-03 2.20023851e-03 2.08023042e-03 2.06711000e-03\n",
      " 1.90542690e-03 1.84831973e-03 1.84138126e-03 1.82164346e-03\n",
      " 1.69974822e-03 1.58608317e-03 1.46559109e-03 1.40071343e-03\n",
      " 1.39652202e-03 1.23969275e-03 1.18776445e-03 1.12397984e-03\n",
      " 1.11636802e-03 1.08589939e-03 1.08545514e-03 1.03702797e-03\n",
      " 1.03311049e-03 1.03081003e-03 1.01133808e-03 9.89975072e-04\n",
      " 9.88728434e-04 9.75364693e-04 9.49903524e-04 9.21417939e-04\n",
      " 9.15108239e-04 9.10503032e-04 8.91958154e-04 8.79703800e-04\n",
      " 8.59563863e-04 8.50235974e-04 8.38083308e-04 7.99671265e-04\n",
      " 7.97205815e-04 7.51872249e-04 7.44502953e-04 7.35722505e-04\n",
      " 7.24475797e-04 7.07197676e-04 6.70677073e-04 6.69548303e-04\n",
      " 6.44952059e-04 6.37433479e-04 6.24585684e-04 6.10047603e-04\n",
      " 5.87190646e-04 5.82275202e-04 5.78822709e-04 5.63893220e-04\n",
      " 5.34105437e-04 5.05938356e-04 5.05793951e-04 5.00689461e-04\n",
      " 4.93070472e-04 4.79764255e-04 4.65736708e-04 4.52694436e-04\n",
      " 4.41807375e-04 4.35470265e-04 4.35279513e-04 3.71739229e-04\n",
      " 3.71094026e-04 3.60177968e-04 3.25419847e-04 3.23685922e-04\n",
      " 3.07725732e-04 3.04264028e-04 2.98948219e-04 2.92133900e-04\n",
      " 2.92094103e-04 2.80517642e-04 2.79454801e-04 2.68790104e-04\n",
      " 2.56729778e-04 2.55199130e-04 2.40212032e-04 2.35249505e-04\n",
      " 2.31177700e-04 2.27638389e-04 2.18242826e-04 2.12728157e-04\n",
      " 2.05163680e-04 2.01171142e-04 2.00573385e-04 1.98798389e-04\n",
      " 1.91720870e-04 1.80809214e-04 1.77107237e-04 1.76736039e-04\n",
      " 1.69578283e-04 1.68802731e-04 1.49210544e-04 1.49171412e-04\n",
      " 1.44032744e-04 1.41883535e-04 1.41822743e-04 1.41765364e-04\n",
      " 1.41296590e-04 1.30562306e-04 1.23940259e-04 1.21539662e-04\n",
      " 1.20632347e-04 1.18802225e-04 1.13915462e-04 1.11313563e-04\n",
      " 1.09157820e-04 1.09155639e-04 9.57306324e-05 9.18618626e-05\n",
      " 7.70060551e-05 7.21600439e-05 6.65710278e-05 6.56814777e-05\n",
      " 5.95082144e-05 5.93537381e-05 5.90217680e-05 5.84322356e-05\n",
      " 5.74797024e-05 5.59808513e-05 4.62765040e-05 4.62736090e-05\n",
      " 4.46336322e-05 4.45712992e-05 4.41881655e-05 4.21488989e-05\n",
      " 3.95348076e-05 3.76349668e-05 3.65090192e-05 3.59911336e-05\n",
      " 3.23389368e-05 3.13272605e-05 3.07212246e-05 3.04869032e-05\n",
      " 2.93829776e-05 2.84974038e-05 2.82608740e-05 2.75309898e-05\n",
      " 2.71628540e-05 2.67664291e-05 2.58271609e-05 2.58171925e-05\n",
      " 2.57471252e-05 2.45047612e-05 2.41590629e-05 2.38867961e-05\n",
      " 2.30095431e-05 2.27401921e-05 2.21361168e-05 2.16012008e-05\n",
      " 2.15903657e-05 2.11497094e-05 2.05812392e-05 2.02894987e-05\n",
      " 1.90266646e-05 1.88895912e-05 1.79264851e-05 1.77941370e-05\n",
      " 1.56069117e-05 1.45355852e-05 1.40571112e-05 1.39785030e-05\n",
      " 1.31729762e-05 1.29749359e-05 1.13231478e-05 1.07268747e-05\n",
      " 1.04740291e-05 9.28839119e-06 8.20457571e-06 7.98771631e-06\n",
      " 6.49161358e-06 5.24629808e-06 5.21732368e-06 5.15939890e-06\n",
      " 4.21732543e-06 4.09364241e-06 3.72459637e-06 3.56613702e-06\n",
      " 2.82957178e-06 2.57089052e-06 2.52032437e-06 2.47020180e-06\n",
      " 2.31792051e-06 2.24247667e-06 1.54763049e-06 1.49213436e-06\n",
      " 1.48751371e-06 1.47853375e-06 1.35211384e-06 1.34138879e-06\n",
      " 1.33822329e-06 1.31056290e-06 2.19038600e-07 2.18525559e-07\n",
      " 1.15139747e-12]\n",
      "threshold 3 :  [1.99997439e+00 9.99974392e-01 6.37850748e-03 6.31306363e-03\n",
      " 4.36891546e-03 4.26876791e-03 2.97641672e-04 2.97110961e-04\n",
      " 2.20028605e-04 2.07945400e-04 1.98530381e-04 1.97247054e-04\n",
      " 1.83422322e-04 1.74570055e-04 1.34241967e-04 1.31915751e-04\n",
      " 3.44510230e-05 3.43854789e-05 2.45269645e-05 2.44973337e-05\n",
      " 1.83299640e-05 1.71961602e-05 1.48697374e-05 1.47589614e-05\n",
      " 9.70727201e-06 9.57130916e-06 4.62241458e-06 4.37003941e-06\n",
      " 2.07309937e-06 2.04576866e-06 1.52026228e-06 1.51419819e-06\n",
      " 1.41904163e-06 1.40683688e-06 1.27410404e-06 1.22344044e-06\n",
      " 1.16615897e-06 1.14782008e-06 1.13048824e-06 1.12774690e-06\n",
      " 1.06885588e-06 1.06687364e-06 9.60116360e-07 9.57340458e-07\n",
      " 9.25456004e-07 9.25412556e-07 8.98104492e-07 8.98019671e-07\n",
      " 8.67394532e-07 8.64193021e-07 6.97816437e-07 6.88837357e-07\n",
      " 6.75845641e-07 6.71357106e-07 6.42593582e-07 6.14356103e-07\n",
      " 5.68288824e-07 5.66659246e-07 4.90691579e-07 4.69000985e-07\n",
      " 4.32132633e-07 4.13573203e-07 3.74353617e-07 3.65460505e-07\n",
      " 3.23140897e-07 3.14903286e-07 2.98016975e-07 2.97729596e-07\n",
      " 2.92046749e-07 2.86057985e-07 2.74707404e-07 2.72735852e-07\n",
      " 2.47176064e-07 2.45352669e-07 2.20607825e-07 2.20104808e-07\n",
      " 1.80962550e-07 1.79775020e-07 1.47380535e-07 1.45038290e-07\n",
      " 1.15943611e-07 1.15801122e-07 1.02113142e-07 1.01473590e-07\n",
      " 9.14018435e-08 8.60445555e-08 8.02657077e-08 7.98078177e-08\n",
      " 7.55800847e-08 7.52445169e-08 6.08957358e-08 6.04379942e-08\n",
      " 4.06477240e-08 4.04299273e-08 3.67463457e-08 3.52955579e-08\n",
      " 3.16803793e-08 3.09510352e-08 3.07751685e-08 3.05265143e-08\n",
      " 2.89356716e-08 2.74486636e-08 2.47993298e-08 2.44792175e-08\n",
      " 2.09392502e-08 1.98721681e-08 1.88863953e-08 1.87256840e-08\n",
      " 1.64877124e-08 1.58223072e-08 1.52222813e-08 1.48951545e-08\n",
      " 1.48395322e-08 1.45164230e-08 1.32515281e-08 1.30001152e-08\n",
      " 1.27417612e-08 1.15548864e-08 1.14483266e-08 1.07953168e-08\n",
      " 1.07160004e-08 1.06506723e-08 9.40716657e-09 9.31630275e-09\n",
      " 8.86923409e-09 8.78812473e-09 8.30269586e-09 8.07348945e-09\n",
      " 7.55827189e-09 7.34904395e-09 6.22948416e-09 6.03751823e-09\n",
      " 4.95716962e-09 4.81535804e-09 4.64679987e-09 4.60696852e-09\n",
      " 4.05164202e-09 3.75464622e-09 3.51766550e-09 3.51557645e-09\n",
      " 3.26640489e-09 3.13188509e-09 3.08661512e-09 2.99402228e-09\n",
      " 2.66375543e-09 2.58647091e-09 2.39608944e-09 2.27180970e-09\n",
      " 2.25502827e-09 2.24029566e-09 2.23165441e-09 2.22466116e-09\n",
      " 2.20575801e-09 2.18215825e-09 2.00485780e-09 1.97436924e-09\n",
      " 1.93494236e-09 1.92337287e-09 1.83250260e-09 1.76132079e-09\n",
      " 1.47862534e-09 1.46868466e-09 1.14670979e-09 1.13145568e-09\n",
      " 1.03743014e-09 1.01775649e-09 9.55488435e-10 9.43671672e-10\n",
      " 8.45837841e-10 7.65551538e-10 7.30021004e-10 7.04123935e-10\n",
      " 6.91307667e-10 6.66095775e-10 6.59519413e-10 6.10993486e-10\n",
      " 5.11393130e-10 3.75248241e-10 3.49729897e-10 3.08137806e-10\n",
      " 2.80833395e-10 2.50095884e-10 2.47743186e-10 2.43786801e-10\n",
      " 2.40261577e-10 2.27521316e-10 2.11872456e-10 1.98878251e-10\n",
      " 1.94710423e-10 1.78538629e-10 1.77630482e-10 1.76401634e-10\n",
      " 1.56995464e-10 1.33765674e-10 1.30568626e-10 1.11781952e-10\n",
      " 1.02156362e-10 9.01601922e-11 8.86454571e-11 8.31121976e-11\n",
      " 8.21895724e-11 5.47351771e-11 5.04741960e-11 5.01687814e-11\n",
      " 5.00333639e-11 3.96075273e-11 3.91510899e-11 3.44868453e-11\n",
      " 2.79527061e-11 2.66138789e-11 2.03102561e-11 1.68628692e-11\n",
      " 1.64611455e-11 1.29673698e-11 1.23477360e-11 2.86515094e-12\n",
      " 2.79155074e-12 1.00338398e-21]\n",
      "threshold 4 :  [1.99999051e+00 9.99990513e-01 9.89071606e-01 9.88599767e-01\n",
      " 8.85690589e-01 8.82059726e-01 7.98433497e-01 7.90328317e-01\n",
      " 7.32920987e-01 7.20824246e-01 6.68915127e-01 6.10097989e-01\n",
      " 5.74393741e-01 5.46837300e-01 5.39683544e-01 5.27896394e-01\n",
      " 5.26102536e-01 3.89815127e-01 3.53438718e-01 3.12046077e-01\n",
      " 2.94179131e-01 2.32025852e-01 2.20949348e-01 1.58814051e-01\n",
      " 1.58288161e-01 1.30825805e-01 1.29652814e-01 5.19056965e-02\n",
      " 5.03393788e-02 4.15661326e-02 4.00367038e-02 3.93114814e-02\n",
      " 3.87436921e-02 2.02027594e-02 2.01961544e-02 1.77705382e-02\n",
      " 1.75299738e-02 1.18864802e-02 1.14583101e-02 6.62528132e-03\n",
      " 6.33077715e-03 6.24343631e-03 5.82592143e-03 5.63490854e-03\n",
      " 5.36425437e-03 5.19588017e-03 5.08549185e-03 4.57484329e-03\n",
      " 4.49613995e-03 4.31855093e-03 4.13069170e-03 3.58689517e-03\n",
      " 3.35209039e-03 3.13179417e-03 3.11913984e-03 3.03517511e-03\n",
      " 3.02995690e-03 2.99890482e-03 2.88415603e-03 2.29554514e-03\n",
      " 2.27223558e-03 2.10731993e-03 2.09110743e-03 1.99839256e-03\n",
      " 1.90309685e-03 1.86453440e-03 1.85108587e-03 1.84739115e-03\n",
      " 1.46870701e-03 1.33117613e-03 1.29810744e-03 1.18816212e-03\n",
      " 1.12372996e-03 9.59150715e-04 9.26413610e-04 9.26050803e-04\n",
      " 9.25406668e-04 9.14064428e-04 9.01183082e-04 8.55453271e-04\n",
      " 8.46040369e-04 8.38541882e-04 8.35698665e-04 8.05336460e-04\n",
      " 7.86349963e-04 6.92063960e-04 6.82368242e-04 5.68302458e-04\n",
      " 5.63538802e-04 5.18239339e-04 4.89263979e-04 4.82007397e-04\n",
      " 4.61909262e-04 4.47902983e-04 3.55040540e-04 3.52227949e-04\n",
      " 3.48904523e-04 3.06835973e-04 2.80071257e-04 2.74073317e-04\n",
      " 2.68916987e-04 2.64726413e-04 2.59546115e-04 2.41224088e-04\n",
      " 2.35198856e-04 2.29456810e-04 2.20079551e-04 2.19552447e-04\n",
      " 2.01304347e-04 1.86918522e-04 1.36776855e-04 1.18102979e-04\n",
      " 8.66729415e-05 8.40309680e-05 8.33524421e-05 8.20797459e-05\n",
      " 8.02013933e-05 7.87485390e-05 7.29721731e-05 7.23587555e-05\n",
      " 6.85826441e-05 6.78073265e-05 6.39740822e-05 6.30209857e-05\n",
      " 6.00910007e-05 5.98501938e-05 5.22211112e-05 5.06752198e-05\n",
      " 4.91667172e-05 4.84649211e-05 4.61491468e-05 4.58225261e-05\n",
      " 3.45054791e-05 3.43496059e-05 2.66814222e-05 2.60648586e-05\n",
      " 2.54587014e-05 2.39393774e-05 1.95505014e-05 1.93565973e-05\n",
      " 1.84683890e-05 1.84436838e-05 1.72042690e-05 1.70046205e-05\n",
      " 1.60570934e-05 1.59708744e-05 1.48988303e-05 1.47391759e-05\n",
      " 1.14424864e-05 1.11738048e-05 1.01231633e-05 1.00149755e-05\n",
      " 9.46186876e-06 9.43522824e-06 7.27899400e-06 7.19424427e-06\n",
      " 6.29647030e-06 6.20566386e-06 6.00388078e-06 5.97277767e-06\n",
      " 2.07835391e-06 2.05910820e-06 1.98978220e-06 1.93694385e-06\n",
      " 1.17754014e-06 1.16820035e-06 1.89627766e-07 1.89426353e-07\n",
      " 5.22510457e-08 5.17221414e-08 3.00337803e-20]\n",
      "threshold 5 :  [1.99999750e+00 9.99997503e-01 8.65074621e-04 8.61964290e-04\n",
      " 8.21708779e-04 8.04691659e-04 7.92705325e-04 7.40518303e-04\n",
      " 6.93333680e-04 6.89232284e-04 6.45364202e-04 6.33800856e-04\n",
      " 6.22124743e-04 5.77462232e-04 5.74274585e-04 5.71062444e-04\n",
      " 5.52737406e-04 5.44299307e-04 5.33065509e-04 4.79158049e-04\n",
      " 4.38269268e-04 4.32119943e-04 4.28351786e-04 4.21437481e-04\n",
      " 3.93602128e-04 3.90599943e-04 3.79484042e-04 3.54586952e-04\n",
      " 3.54520103e-04 3.52700852e-04 3.36200574e-04 3.35207849e-04\n",
      " 3.29026170e-04 3.23877990e-04 3.12305097e-04 3.12277122e-04\n",
      " 3.05800391e-04 2.90815079e-04 2.89860393e-04 2.83417056e-04\n",
      " 2.83172410e-04 2.78383489e-04 2.76932175e-04 2.73581392e-04\n",
      " 2.63956767e-04 2.63603772e-04 2.61615135e-04 2.56359664e-04\n",
      " 2.53335535e-04 2.52750235e-04 2.42281664e-04 2.41964461e-04\n",
      " 2.38241330e-04 2.36983373e-04 2.36480865e-04 2.35742097e-04\n",
      " 2.18555132e-04 2.16193155e-04 2.15701810e-04 2.14495012e-04\n",
      " 2.14246852e-04 2.09517170e-04 2.07126405e-04 2.07004596e-04\n",
      " 1.96482633e-04 1.93579231e-04 1.93067131e-04 1.91076862e-04\n",
      " 1.81114691e-04 1.80582030e-04 1.73576084e-04 1.73521162e-04\n",
      " 1.72638997e-04 1.72526072e-04 1.66470551e-04 1.66333905e-04\n",
      " 1.57261287e-04 1.56918585e-04 1.52873730e-04 1.52784567e-04\n",
      " 1.50476395e-04 1.49344048e-04 1.49297281e-04 1.48987372e-04\n",
      " 1.45918532e-04 1.45376297e-04 1.34405040e-04 1.30300742e-04\n",
      " 1.27477246e-04 1.27219838e-04 1.25875318e-04 1.25053550e-04\n",
      " 1.24461019e-04 1.20385703e-04 1.13560388e-04 1.12381497e-04\n",
      " 1.03796811e-04 1.02740171e-04 1.02429139e-04 1.01975322e-04\n",
      " 1.00526955e-04 1.00381084e-04 1.00034757e-04 1.00022480e-04\n",
      " 9.89266843e-05 9.74558744e-05 9.65426405e-05 9.45549805e-05\n",
      " 9.41215174e-05 9.36696262e-05 9.32329296e-05 9.29071616e-05\n",
      " 9.11208750e-05 9.07299149e-05 8.74788951e-05 8.69693856e-05\n",
      " 8.55509395e-05 8.48318824e-05 8.34638662e-05 8.20482423e-05\n",
      " 8.12034993e-05 8.02779472e-05 8.01009601e-05 7.97754030e-05\n",
      " 7.52833954e-05 7.48546021e-05 7.45773530e-05 7.31718589e-05\n",
      " 7.24758855e-05 7.21858518e-05 7.02482974e-05 6.92918515e-05\n",
      " 6.84836970e-05 6.84052075e-05 6.83186499e-05 6.82649124e-05\n",
      " 6.72920430e-05 6.72421464e-05 6.58051175e-05 6.37782537e-05\n",
      " 6.34004081e-05 6.32434956e-05 6.29646711e-05 6.28243402e-05\n",
      " 6.19614481e-05 6.18294838e-05 6.13115503e-05 6.10059137e-05\n",
      " 6.07734330e-05 6.05667096e-05 5.90239658e-05 5.83962048e-05\n",
      " 5.77695736e-05 5.77515594e-05 5.74360210e-05 5.66576846e-05\n",
      " 5.56867276e-05 5.51246933e-05 5.51042102e-05 5.42883873e-05\n",
      " 5.36272865e-05 5.24406473e-05 5.10337451e-05 4.98724249e-05\n",
      " 4.84524466e-05 4.83727165e-05 4.78528713e-05 4.78471243e-05\n",
      " 4.71529461e-05 4.63419204e-05 4.62249965e-05 4.60727552e-05\n",
      " 4.55923320e-05 4.54081270e-05 4.49147102e-05 4.46568374e-05\n",
      " 4.45210424e-05 4.44487998e-05 4.43700952e-05 4.30604499e-05\n",
      " 3.97952868e-05 3.82846393e-05 3.80303345e-05 3.79432818e-05\n",
      " 3.77840393e-05 3.71104092e-05 3.70403939e-05 3.69392995e-05\n",
      " 3.64136187e-05 3.62145341e-05 3.60344751e-05 3.58958155e-05\n",
      " 3.53556574e-05 3.51788317e-05 3.36180831e-05 3.24087787e-05\n",
      " 3.17405325e-05 3.14522979e-05 3.12616082e-05 3.05577220e-05\n",
      " 3.00479602e-05 2.93879976e-05 2.93372739e-05 2.92816826e-05\n",
      " 2.89898177e-05 2.88264900e-05 2.79885534e-05 2.79205752e-05\n",
      " 2.68924752e-05 2.68052094e-05 2.65457600e-05 2.62931510e-05\n",
      " 2.62118801e-05 2.59853258e-05 2.56808027e-05 2.53084864e-05\n",
      " 2.49939302e-05 2.46440165e-05 2.44311569e-05 2.43607949e-05\n",
      " 2.40989016e-05 2.34663780e-05 2.32895231e-05 2.31074010e-05\n",
      " 2.28724062e-05 2.28122063e-05 2.27394318e-05 2.16042476e-05\n",
      " 2.12788988e-05 2.10974900e-05 2.07316260e-05 2.06873417e-05\n",
      " 2.03875096e-05 2.03693878e-05 1.98415070e-05 1.97932653e-05\n",
      " 1.93776189e-05 1.91939526e-05 1.85324874e-05 1.85101601e-05\n",
      " 1.82253802e-05 1.75093855e-05 1.67694670e-05 1.67046682e-05\n",
      " 1.64806341e-05 1.60209871e-05 1.59527137e-05 1.59472344e-05\n",
      " 1.53497313e-05 1.51231043e-05 1.46374079e-05 1.46019553e-05\n",
      " 1.46013082e-05 1.44929148e-05 1.39387921e-05 1.38769486e-05\n",
      " 1.38560149e-05 1.38018786e-05 1.37833296e-05 1.36245634e-05\n",
      " 1.34373200e-05 1.34050593e-05 1.31940248e-05 1.31491286e-05\n",
      " 1.27484004e-05 1.27419105e-05 1.25321006e-05 1.22579852e-05\n",
      " 1.20214218e-05 1.18666788e-05 1.16152747e-05 1.15578257e-05\n",
      " 1.15074509e-05 1.14876551e-05 1.12840328e-05 1.12838075e-05\n",
      " 1.08275331e-05 1.06260772e-05 1.04504757e-05 1.02662162e-05\n",
      " 1.00341854e-05 9.72852562e-06 9.06694408e-06 9.03821644e-06\n",
      " 8.64907680e-06 8.53085697e-06 8.25479899e-06 7.98468228e-06\n",
      " 7.98250097e-06 7.92319792e-06 7.63658347e-06 7.60877129e-06\n",
      " 7.46605766e-06 7.40145609e-06 7.17906549e-06 7.00226808e-06\n",
      " 6.94534947e-06 6.72456969e-06 6.58095849e-06 6.50546912e-06\n",
      " 6.28737391e-06 6.09907882e-06 5.98375404e-06 5.91508421e-06\n",
      " 5.82184906e-06 5.76378927e-06 5.46637525e-06 5.43451418e-06\n",
      " 5.40856795e-06 5.36939376e-06 5.24082635e-06 5.23084354e-06\n",
      " 5.17447465e-06 5.08763168e-06 4.76429297e-06 4.72675421e-06\n",
      " 4.72663327e-06 4.69216990e-06 4.58862990e-06 4.58740427e-06\n",
      " 4.55251710e-06 4.54333792e-06 4.31814196e-06 4.27000413e-06\n",
      " 4.05707133e-06 4.04276366e-06 3.88899773e-06 3.88727879e-06\n",
      " 3.65605868e-06 3.59500223e-06 3.49762719e-06 3.47800900e-06\n",
      " 3.46772381e-06 3.46059578e-06 3.43237226e-06 3.42498235e-06\n",
      " 3.35674818e-06 3.34334889e-06 3.25717473e-06 3.24708817e-06\n",
      " 3.13116512e-06 3.03900101e-06 2.96775218e-06 2.95394421e-06\n",
      " 2.89975670e-06 2.89784082e-06 2.83765272e-06 2.81487713e-06\n",
      " 2.81379830e-06 2.75583991e-06 2.67664048e-06 2.65893560e-06\n",
      " 2.47147757e-06 2.45549631e-06 2.38091168e-06 2.31663290e-06\n",
      " 2.12103899e-06 2.09106482e-06 2.08791682e-06 2.08251226e-06\n",
      " 1.46316717e-06 1.45055608e-06 1.27579856e-06 1.22254369e-06\n",
      " 1.06213678e-06 1.04941415e-06 6.81066776e-07 6.80650671e-07\n",
      " 4.95894774e-07 4.81739276e-07 4.65017463e-07 4.64253829e-07\n",
      " 3.39032510e-07 3.27539346e-07 8.14452223e-15]\n"
     ]
    },
    {
     "data": {
      "image/png": "[encoded data removed]",
      "text/plain": [
       "<Figure size 640x480 with 1 Axes>"
      ]
     },
     "metadata": {},
     "output_type": "display_data"
    },
    {
     "data": {
      "image/png": "[encoded data removed]",
      "text/plain": [
       "<Figure size 640x480 with 1 Axes>"
      ]
     },
     "metadata": {},
     "output_type": "display_data"
    },
    {
     "data": {
      "image/png": "[encoded data removed]",
      "text/plain": [
       "<Figure size 640x480 with 1 Axes>"
      ]
     },
     "metadata": {},
     "output_type": "display_data"
    },
    {
     "data": {
      "image/png": "[encoded data removed]",
      "text/plain": [
       "<Figure size 640x480 with 1 Axes>"
      ]
     },
     "metadata": {},
     "output_type": "display_data"
    },
    {
     "data": {
      "image/png": "[encoded data removed]",
      "text/plain": [
       "<Figure size 640x480 with 1 Axes>"
      ]
     },
     "metadata": {},
     "output_type": "display_data"
    },
    {
     "data": {
      "image/png": "[encoded data removed]",
      "text/plain": [
       "<Figure size 640x480 with 1 Axes>"
      ]
     },
     "metadata": {},
     "output_type": "display_data"
    }
   ],
   "source": [
    "from sklearn.metrics import RocCurveDisplay\n",
    "\n",
    "for label in range(6):\n",
    "    fpr, tpr, thr = metrics.roc_curve(y_test==label, y_proba[:,label])\n",
    "    print('threshold', label, ': ', thr)\n",
    "    RocCurveDisplay(fpr=fpr, tpr=tpr).plot()"
   ]
  },
  {
   "cell_type": "markdown",
   "metadata": {},
   "source": [
    "### Task 5\n",
    "Now, let's fit Multinomial Logistic regression to predict all categories. Firstly, we can start with **Univariate** model for these features number separately:\n",
    "+ 4\n",
    "+ 54\n",
    "- 19\n",
    "\n",
    "Check the contingency matrix to see the effect of particular features!! (each feature can be good in predicting different categories)"
   ]
  },
  {
   "cell_type": "code",
   "execution_count": null,
   "metadata": {},
   "outputs": [],
   "source": []
  },
  {
   "cell_type": "code",
   "execution_count": null,
   "metadata": {},
   "outputs": [],
   "source": []
  },
  {
   "cell_type": "code",
   "execution_count": null,
   "metadata": {},
   "outputs": [],
   "source": []
  },
  {
   "cell_type": "code",
   "execution_count": null,
   "metadata": {},
   "outputs": [],
   "source": []
  },
  {
   "cell_type": "code",
   "execution_count": null,
   "metadata": {},
   "outputs": [],
   "source": []
  },
  {
   "cell_type": "markdown",
   "metadata": {},
   "source": [
    "### Task 6\n",
    "\n",
    "Fit the Multinomial Logistic Regression model again. Now, try to choose **all** the important features we have in the dataset. Compare with your peers on who will get the best predictions with the smallest number of features?"
   ]
  },
  {
   "cell_type": "code",
   "execution_count": null,
   "metadata": {},
   "outputs": [],
   "source": []
  },
  {
   "cell_type": "code",
   "execution_count": null,
   "metadata": {},
   "outputs": [],
   "source": []
  },
  {
   "cell_type": "code",
   "execution_count": null,
   "metadata": {},
   "outputs": [],
   "source": []
  },
  {
   "cell_type": "code",
   "execution_count": null,
   "metadata": {},
   "outputs": [],
   "source": []
  },
  {
   "cell_type": "code",
   "execution_count": null,
   "metadata": {},
   "outputs": [],
   "source": []
  },
  {
   "cell_type": "markdown",
   "metadata": {},
   "source": [
    "### Task 7 (Stretch)\n",
    "Create your own function for Stepwise selection. Use either sklearn or statsmodel."
   ]
  },
  {
   "cell_type": "code",
   "execution_count": null,
   "metadata": {},
   "outputs": [],
   "source": []
  },
  {
   "cell_type": "code",
   "execution_count": null,
   "metadata": {},
   "outputs": [],
   "source": []
  },
  {
   "cell_type": "code",
   "execution_count": null,
   "metadata": {},
   "outputs": [],
   "source": []
  },
  {
   "cell_type": "code",
   "execution_count": null,
   "metadata": {},
   "outputs": [],
   "source": []
  },
  {
   "cell_type": "code",
   "execution_count": null,
   "metadata": {},
   "outputs": [],
   "source": []
  }
 ],
 "metadata": {
  "kernelspec": {
   "display_name": "Python 3.9.13 64-bit",
   "language": "python",
   "name": "python3"
  },
  "language_info": {
   "codemirror_mode": {
    "name": "ipython",
    "version": 3
   },
   "file_extension": ".py",
   "mimetype": "text/x-python",
   "name": "python",
   "nbconvert_exporter": "python",
   "pygments_lexer": "ipython3",
   "version": "3.9.13"
  },
  "vscode": {
   "interpreter": {
    "hash": "11938c6bc6919ae2720b4d5011047913343b08a43b18698fd82dedb0d4417594"
   }
  }
 },
 "nbformat": 4,
 "nbformat_minor": 4
}
