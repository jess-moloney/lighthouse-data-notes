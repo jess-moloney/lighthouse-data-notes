{
 "cells": [
  {
   "cell_type": "code",
   "execution_count": 1,
   "metadata": {},
   "outputs": [],
   "source": [
    "import tensorflow as tf\n",
    "from tensorflow.python import keras\n",
    "from tensorflow.keras import preprocessing\n",
    "from tensorflow.keras.preprocessing.text import Tokenizer\n",
    "from tensorflow.python.keras.models import Sequential\n",
    "from tensorflow.python.keras.layers import Dense, Dropout, LSTM, Reshape\n",
    "\n",
    "import numpy as np\n",
    "import pandas as pd"
   ]
  },
  {
   "cell_type": "code",
   "execution_count": 6,
   "metadata": {},
   "outputs": [
    {
     "data": {
      "text/html": [
       "<div>\n",
       "<style scoped>\n",
       "    .dataframe tbody tr th:only-of-type {\n",
       "        vertical-align: middle;\n",
       "    }\n",
       "\n",
       "    .dataframe tbody tr th {\n",
       "        vertical-align: top;\n",
       "    }\n",
       "\n",
       "    .dataframe thead th {\n",
       "        text-align: right;\n",
       "    }\n",
       "</style>\n",
       "<table border=\"1\" class=\"dataframe\">\n",
       "  <thead>\n",
       "    <tr style=\"text-align: right;\">\n",
       "      <th></th>\n",
       "      <th>name</th>\n",
       "      <th>red</th>\n",
       "      <th>green</th>\n",
       "      <th>blue</th>\n",
       "    </tr>\n",
       "  </thead>\n",
       "  <tbody>\n",
       "    <tr>\n",
       "      <th>0</th>\n",
       "      <td>18th Century Green</td>\n",
       "      <td>165</td>\n",
       "      <td>147</td>\n",
       "      <td>68</td>\n",
       "    </tr>\n",
       "    <tr>\n",
       "      <th>1</th>\n",
       "      <td>1975 Earth Red</td>\n",
       "      <td>123</td>\n",
       "      <td>70</td>\n",
       "      <td>59</td>\n",
       "    </tr>\n",
       "    <tr>\n",
       "      <th>2</th>\n",
       "      <td>1989 Miami Hotline</td>\n",
       "      <td>221</td>\n",
       "      <td>51</td>\n",
       "      <td>102</td>\n",
       "    </tr>\n",
       "    <tr>\n",
       "      <th>3</th>\n",
       "      <td>20000 Leagues Under the Sea</td>\n",
       "      <td>25</td>\n",
       "      <td>25</td>\n",
       "      <td>112</td>\n",
       "    </tr>\n",
       "    <tr>\n",
       "      <th>4</th>\n",
       "      <td>3AM in Shibuya</td>\n",
       "      <td>34</td>\n",
       "      <td>85</td>\n",
       "      <td>119</td>\n",
       "    </tr>\n",
       "  </tbody>\n",
       "</table>\n",
       "</div>"
      ],
      "text/plain": [
       "                          name  red  green  blue\n",
       "0           18th Century Green  165    147    68\n",
       "1               1975 Earth Red  123     70    59\n",
       "2           1989 Miami Hotline  221     51   102\n",
       "3  20000 Leagues Under the Sea   25     25   112\n",
       "4               3AM in Shibuya   34     85   119"
      ]
     },
     "execution_count": 6,
     "metadata": {},
     "output_type": "execute_result"
    }
   ],
   "source": [
    "data = pd.read_csv(\"colors.csv\")\n",
    "names = data[\"name\"]\n",
    "data.head()"
   ]
  },
  {
   "cell_type": "code",
   "execution_count": 7,
   "metadata": {},
   "outputs": [
    {
     "data": {
      "image/png": "[encoded data removed]",
      "text/plain": [
       "<Figure size 640x480 with 1 Axes>"
      ]
     },
     "metadata": {},
     "output_type": "display_data"
    }
   ],
   "source": [
    "h = sorted(names.str.len().values)\n",
    "import numpy as np\n",
    "import scipy.stats as stats\n",
    "import pylab as plt\n",
    "\n",
    "fit = stats.norm.pdf(h, np.mean(h), np.std(h))  #this is a fitting indeed\n",
    "plt.plot(h,fit,'-o')\n",
    "plt.hist(h)      #use this to draw histogram of your data\n",
    "plt.xlabel('Chars')\n",
    "plt.ylabel('Probability density')\n",
    "plt.show()"
   ]
  },
  {
   "cell_type": "code",
   "execution_count": 8,
   "metadata": {},
   "outputs": [
    {
     "name": "stdout",
     "output_type": "stream",
     "text": [
      "(18606, 25)\n"
     ]
    }
   ],
   "source": [
    "maxlen = 25\n",
    "t = Tokenizer(char_level=True)\n",
    "t.fit_on_texts(names)\n",
    "tokenized = t.texts_to_sequences(names)\n",
    "padded_names = preprocessing.sequence.pad_sequences(tokenized, maxlen=maxlen)\n",
    "print(padded_names.shape)"
   ]
  },
  {
   "cell_type": "code",
   "execution_count": 10,
   "metadata": {},
   "outputs": [
    {
     "data": {
      "text/plain": [
       "array([[ 0,  0,  0, ...,  1,  1,  7],\n",
       "       [ 0,  0,  0, ...,  4,  1, 13],\n",
       "       [ 0,  0,  0, ...,  5,  7,  1],\n",
       "       ...,\n",
       "       [ 0,  0,  0, ..., 16,  8,  4],\n",
       "       [ 0,  0,  0, ..., 12,  7,  5],\n",
       "       [ 0,  0,  0, ...,  6, 12,  1]])"
      ]
     },
     "execution_count": 10,
     "metadata": {},
     "output_type": "execute_result"
    }
   ],
   "source": [
    "padded_names"
   ]
  },
  {
   "cell_type": "code",
   "execution_count": 12,
   "metadata": {},
   "outputs": [
    {
     "name": "stdout",
     "output_type": "stream",
     "text": [
      "{'e': 1, 'a': 2, ' ': 3, 'r': 4, 'i': 5, 'l': 6, 'n': 7, 'o': 8, 's': 9, 't': 10, 'c': 11, 'u': 12, 'd': 13, 'g': 14, 'p': 15, 'h': 16, 'b': 17, 'm': 18, 'y': 19, 'w': 20, 'k': 21, 'f': 22, 'v': 23, 'z': 24, 'j': 25, 'q': 26, 'x': 27, \"'\": 28, '-': 29, 'ō': 30, 'è': 31, 'é': 32, 'ā': 33, 'á': 34, 'ó': 35, 'ū': 36, '0': 37, '8': 38, '.': 39, 'ē': 40, 'ī': 41, 'ǎ': 42, '!': 43, 'í': 44, '&': 45, 'ǜ': 46, '9': 47, '2': 48, 'à': 49, 'ǐ': 50, '’': 51, '6': 52, 'ú': 53, '1': 54, '3': 55, 'â': 56, '4': 57, 'ǔ': 58, 'ì': 59, '7': 60, '5': 61, 'ê': 62, 'ö': 63, 'ł': 64, 'š': 65, 'ü': 66, '₂': 67, 'ò': 68, 'ñ': 69, 'ě': 70, 'ń': 71, 'ä': 72, 'œ': 73, 'ß': 74, '%': 75, 'ı': 76, 'ż': 77, '/': 78, 'î': 79, 'ë': 80, '(': 81, ')': 82, 'å': 83, '$': 84, 'я': 85, 'ő': 86, 'ğ': 87, 'ç': 88, 'ù': 89}\n"
     ]
    }
   ],
   "source": [
    "print(t.word_index)"
   ]
  },
  {
   "cell_type": "code",
   "execution_count": 13,
   "metadata": {},
   "outputs": [],
   "source": [
    "from tensorflow.python.keras.utils import np_utils\n",
    "one_hot_names = np_utils.to_categorical(padded_names)"
   ]
  },
  {
   "cell_type": "code",
   "execution_count": 15,
   "metadata": {},
   "outputs": [
    {
     "data": {
      "text/plain": [
       "(18606, 25, 90)"
      ]
     },
     "execution_count": 15,
     "metadata": {},
     "output_type": "execute_result"
    }
   ],
   "source": [
    "one_hot_names.shape"
   ]
  },
  {
   "cell_type": "code",
   "execution_count": 16,
   "metadata": {},
   "outputs": [
    {
     "data": {
      "text/plain": [
       "array([[[1., 0., 0., ..., 0., 0., 0.],\n",
       "        [1., 0., 0., ..., 0., 0., 0.],\n",
       "        [1., 0., 0., ..., 0., 0., 0.],\n",
       "        ...,\n",
       "        [0., 1., 0., ..., 0., 0., 0.],\n",
       "        [0., 1., 0., ..., 0., 0., 0.],\n",
       "        [0., 0., 0., ..., 0., 0., 0.]],\n",
       "\n",
       "       [[1., 0., 0., ..., 0., 0., 0.],\n",
       "        [1., 0., 0., ..., 0., 0., 0.],\n",
       "        [1., 0., 0., ..., 0., 0., 0.],\n",
       "        ...,\n",
       "        [0., 0., 0., ..., 0., 0., 0.],\n",
       "        [0., 1., 0., ..., 0., 0., 0.],\n",
       "        [0., 0., 0., ..., 0., 0., 0.]],\n",
       "\n",
       "       [[1., 0., 0., ..., 0., 0., 0.],\n",
       "        [1., 0., 0., ..., 0., 0., 0.],\n",
       "        [1., 0., 0., ..., 0., 0., 0.],\n",
       "        ...,\n",
       "        [0., 0., 0., ..., 0., 0., 0.],\n",
       "        [0., 0., 0., ..., 0., 0., 0.],\n",
       "        [0., 1., 0., ..., 0., 0., 0.]],\n",
       "\n",
       "       ...,\n",
       "\n",
       "       [[1., 0., 0., ..., 0., 0., 0.],\n",
       "        [1., 0., 0., ..., 0., 0., 0.],\n",
       "        [1., 0., 0., ..., 0., 0., 0.],\n",
       "        ...,\n",
       "        [0., 0., 0., ..., 0., 0., 0.],\n",
       "        [0., 0., 0., ..., 0., 0., 0.],\n",
       "        [0., 0., 0., ..., 0., 0., 0.]],\n",
       "\n",
       "       [[1., 0., 0., ..., 0., 0., 0.],\n",
       "        [1., 0., 0., ..., 0., 0., 0.],\n",
       "        [1., 0., 0., ..., 0., 0., 0.],\n",
       "        ...,\n",
       "        [0., 0., 0., ..., 0., 0., 0.],\n",
       "        [0., 0., 0., ..., 0., 0., 0.],\n",
       "        [0., 0., 0., ..., 0., 0., 0.]],\n",
       "\n",
       "       [[1., 0., 0., ..., 0., 0., 0.],\n",
       "        [1., 0., 0., ..., 0., 0., 0.],\n",
       "        [1., 0., 0., ..., 0., 0., 0.],\n",
       "        ...,\n",
       "        [0., 0., 0., ..., 0., 0., 0.],\n",
       "        [0., 0., 0., ..., 0., 0., 0.],\n",
       "        [0., 1., 0., ..., 0., 0., 0.]]], dtype=float32)"
      ]
     },
     "execution_count": 16,
     "metadata": {},
     "output_type": "execute_result"
    }
   ],
   "source": [
    "one_hot_names"
   ]
  },
  {
   "cell_type": "code",
   "execution_count": 7,
   "metadata": {},
   "outputs": [],
   "source": [
    "# The RGB values are between 0 - 255\n",
    "# scale them to be between 0 - 1\n",
    "def norm(value):\n",
    "    return value / 255.0\n",
    "\n",
    "normalized_values = np.column_stack([norm(data[\"red\"]), norm(data[\"green\"]), norm(data[\"blue\"])])"
   ]
  },
  {
   "cell_type": "code",
   "execution_count": 8,
   "metadata": {},
   "outputs": [],
   "source": [
    "model = Sequential()\n",
    "model.add(LSTM(256, return_sequences=True, input_shape=(maxlen, 90)))\n",
    "model.add(LSTM(128))\n",
    "model.add(Dense(128, activation='relu'))\n",
    "model.add(Dense(3, activation='sigmoid'))\n",
    "model.compile(optimizer='adam', loss='mse', metrics=['acc'])"
   ]
  },
  {
   "cell_type": "code",
   "execution_count": 9,
   "metadata": {},
   "outputs": [
    {
     "name": "stdout",
     "output_type": "stream",
     "text": [
      "Epoch 1/40\n",
      "466/466 [==============================] - 46s 93ms/step - loss: 0.0683 - acc: 0.5820 - val_loss: 0.0643 - val_acc: 0.5881\n",
      "Epoch 2/40\n",
      "466/466 [==============================] - 43s 91ms/step - loss: 0.0639 - acc: 0.6246 - val_loss: 0.0609 - val_acc: 0.6061\n",
      "Epoch 3/40\n",
      "466/466 [==============================] - 44s 94ms/step - loss: 0.0615 - acc: 0.6335 - val_loss: 0.0589 - val_acc: 0.6322\n",
      "Epoch 4/40\n",
      "466/466 [==============================] - 44s 94ms/step - loss: 0.0589 - acc: 0.6340 - val_loss: 0.0589 - val_acc: 0.5766\n",
      "Epoch 5/40\n",
      "466/466 [==============================] - 43s 93ms/step - loss: 0.0566 - acc: 0.6383 - val_loss: 0.0588 - val_acc: 0.5330\n",
      "Epoch 6/40\n",
      "466/466 [==============================] - 44s 94ms/step - loss: 0.0546 - acc: 0.6352 - val_loss: 0.0556 - val_acc: 0.6053\n",
      "Epoch 7/40\n",
      "466/466 [==============================] - 44s 94ms/step - loss: 0.0527 - acc: 0.6455 - val_loss: 0.0561 - val_acc: 0.5943\n",
      "Epoch 8/40\n",
      "466/466 [==============================] - 45s 96ms/step - loss: 0.0506 - acc: 0.6425 - val_loss: 0.0565 - val_acc: 0.5865\n",
      "Epoch 9/40\n",
      "466/466 [==============================] - 45s 96ms/step - loss: 0.0488 - acc: 0.6440 - val_loss: 0.0547 - val_acc: 0.5744\n",
      "Epoch 10/40\n",
      "466/466 [==============================] - 45s 96ms/step - loss: 0.0463 - acc: 0.6500 - val_loss: 0.0550 - val_acc: 0.6053\n",
      "Epoch 11/40\n",
      "466/466 [==============================] - 44s 95ms/step - loss: 0.0439 - acc: 0.6581 - val_loss: 0.0567 - val_acc: 0.5946\n",
      "Epoch 12/40\n",
      "466/466 [==============================] - 44s 93ms/step - loss: 0.0415 - acc: 0.6588 - val_loss: 0.0579 - val_acc: 0.6040\n",
      "Epoch 13/40\n",
      "466/466 [==============================] - 44s 93ms/step - loss: 0.0384 - acc: 0.6715 - val_loss: 0.0590 - val_acc: 0.5994\n",
      "Epoch 14/40\n",
      "466/466 [==============================] - 45s 97ms/step - loss: 0.0352 - acc: 0.6758 - val_loss: 0.0604 - val_acc: 0.5605\n",
      "Epoch 15/40\n",
      "466/466 [==============================] - 45s 96ms/step - loss: 0.0317 - acc: 0.6808 - val_loss: 0.0621 - val_acc: 0.5930\n",
      "Epoch 16/40\n",
      "466/466 [==============================] - 44s 95ms/step - loss: 0.0285 - acc: 0.6872 - val_loss: 0.0634 - val_acc: 0.5763\n",
      "Epoch 17/40\n",
      "466/466 [==============================] - 43s 93ms/step - loss: 0.0249 - acc: 0.6960 - val_loss: 0.0646 - val_acc: 0.5846\n",
      "Epoch 18/40\n",
      "466/466 [==============================] - 43s 93ms/step - loss: 0.0219 - acc: 0.7030 - val_loss: 0.0642 - val_acc: 0.5666\n",
      "Epoch 19/40\n",
      "466/466 [==============================] - 45s 97ms/step - loss: 0.0190 - acc: 0.7124 - val_loss: 0.0662 - val_acc: 0.5870\n",
      "Epoch 20/40\n",
      "466/466 [==============================] - 44s 95ms/step - loss: 0.0164 - acc: 0.7181 - val_loss: 0.0685 - val_acc: 0.5583\n",
      "Epoch 21/40\n",
      "466/466 [==============================] - 45s 96ms/step - loss: 0.0142 - acc: 0.7322 - val_loss: 0.0690 - val_acc: 0.5881\n",
      "Epoch 22/40\n",
      "466/466 [==============================] - 45s 96ms/step - loss: 0.0124 - acc: 0.7397 - val_loss: 0.0698 - val_acc: 0.5911\n",
      "Epoch 23/40\n",
      "466/466 [==============================] - 45s 96ms/step - loss: 0.0111 - acc: 0.7479 - val_loss: 0.0710 - val_acc: 0.5801\n",
      "Epoch 24/40\n",
      "466/466 [==============================] - 45s 96ms/step - loss: 0.0100 - acc: 0.7560 - val_loss: 0.0702 - val_acc: 0.5814\n",
      "Epoch 25/40\n",
      "466/466 [==============================] - 44s 95ms/step - loss: 0.0088 - acc: 0.7613 - val_loss: 0.0712 - val_acc: 0.5873\n",
      "Epoch 26/40\n",
      "466/466 [==============================] - 44s 95ms/step - loss: 0.0081 - acc: 0.7694 - val_loss: 0.0702 - val_acc: 0.5720\n",
      "Epoch 27/40\n",
      "466/466 [==============================] - 44s 94ms/step - loss: 0.0072 - acc: 0.7750 - val_loss: 0.0708 - val_acc: 0.5771\n",
      "Epoch 28/40\n",
      "466/466 [==============================] - 44s 94ms/step - loss: 0.0067 - acc: 0.7859 - val_loss: 0.0710 - val_acc: 0.5833\n",
      "Epoch 29/40\n",
      "466/466 [==============================] - 45s 98ms/step - loss: 0.0062 - acc: 0.7869 - val_loss: 0.0696 - val_acc: 0.5728\n",
      "Epoch 30/40\n",
      "466/466 [==============================] - 45s 97ms/step - loss: 0.0057 - acc: 0.7971 - val_loss: 0.0697 - val_acc: 0.5750\n",
      "Epoch 31/40\n",
      "466/466 [==============================] - 45s 97ms/step - loss: 0.0053 - acc: 0.7997 - val_loss: 0.0712 - val_acc: 0.5717\n",
      "Epoch 32/40\n",
      "466/466 [==============================] - 45s 96ms/step - loss: 0.0056 - acc: 0.7993 - val_loss: 0.0713 - val_acc: 0.5758\n",
      "Epoch 33/40\n",
      "466/466 [==============================] - 45s 97ms/step - loss: 0.0047 - acc: 0.8086 - val_loss: 0.0705 - val_acc: 0.5803\n",
      "Epoch 34/40\n",
      "466/466 [==============================] - 45s 97ms/step - loss: 0.0044 - acc: 0.8163 - val_loss: 0.0704 - val_acc: 0.5731\n",
      "Epoch 35/40\n",
      "466/466 [==============================] - 46s 99ms/step - loss: 0.0041 - acc: 0.8173 - val_loss: 0.0703 - val_acc: 0.5790\n",
      "Epoch 36/40\n",
      "466/466 [==============================] - 46s 99ms/step - loss: 0.0040 - acc: 0.8232 - val_loss: 0.0703 - val_acc: 0.5723\n",
      "Epoch 37/40\n",
      "466/466 [==============================] - 48s 103ms/step - loss: 0.0039 - acc: 0.8232 - val_loss: 0.0691 - val_acc: 0.5830\n",
      "Epoch 38/40\n",
      "466/466 [==============================] - 46s 99ms/step - loss: 0.0039 - acc: 0.8254 - val_loss: 0.0693 - val_acc: 0.5795\n",
      "Epoch 39/40\n",
      "466/466 [==============================] - 47s 100ms/step - loss: 0.0038 - acc: 0.8326 - val_loss: 0.0693 - val_acc: 0.5739\n",
      "Epoch 40/40\n",
      "466/466 [==============================] - 46s 98ms/step - loss: 0.0034 - acc: 0.8390 - val_loss: 0.0702 - val_acc: 0.5750\n"
     ]
    }
   ],
   "source": [
    "history = model.fit(one_hot_names, normalized_values,\n",
    "                    epochs=40,\n",
    "                    batch_size=32,\n",
    "                    validation_split=0.2)"
   ]
  },
  {
   "cell_type": "code",
   "execution_count": 10,
   "metadata": {},
   "outputs": [],
   "source": [
    "# plot a color image\n",
    "def plot_rgb(rgb):\n",
    "    data = [[rgb]]\n",
    "    plt.figure(figsize=(2,2))\n",
    "    plt.imshow(data, interpolation='nearest')\n",
    "    plt.show()\n",
    "\n",
    "def scale(n):\n",
    "    return int(n * 255) \n",
    "\n",
    "def predict(name):\n",
    "    name = name.lower()\n",
    "    tokenized = t.texts_to_sequences([name])\n",
    "    padded = preprocessing.sequence.pad_sequences(tokenized, maxlen=maxlen)\n",
    "    one_hot = np_utils.to_categorical(padded, num_classes=90)\n",
    "    pred = model.predict(np.array(one_hot))[0]\n",
    "    r, g, b = scale(pred[0]), scale(pred[1]), scale(pred[2])\n",
    "    print(name + ',', 'R,G,B:', r,g,b)\n",
    "    plot_rgb(pred)"
   ]
  },
  {
   "cell_type": "code",
   "execution_count": 11,
   "metadata": {},
   "outputs": [
    {
     "name": "stdout",
     "output_type": "stream",
     "text": [
      "forest, R,G,B: 24 84 29\n"
     ]
    },
    {
     "data": {
      "image/png": "[encoded data removed]",
      "text/plain": [
       "<Figure size 200x200 with 1 Axes>"
      ]
     },
     "metadata": {},
     "output_type": "display_data"
    },
    {
     "name": "stdout",
     "output_type": "stream",
     "text": [
      "ocean, R,G,B: 16 71 142\n"
     ]
    },
    {
     "data": {
      "image/png": "[encoded data removed]",
      "text/plain": [
       "<Figure size 200x200 with 1 Axes>"
      ]
     },
     "metadata": {},
     "output_type": "display_data"
    }
   ],
   "source": [
    "predict(\"forest\")\n",
    "predict(\"ocean\")"
   ]
  },
  {
   "cell_type": "code",
   "execution_count": 12,
   "metadata": {},
   "outputs": [
    {
     "name": "stdout",
     "output_type": "stream",
     "text": [
      "sky, R,G,B: 176 215 230\n"
     ]
    },
    {
     "data": {
      "image/png": "[encoded data removed]",
      "text/plain": [
       "<Figure size 200x200 with 1 Axes>"
      ]
     },
     "metadata": {},
     "output_type": "display_data"
    }
   ],
   "source": [
    "predict(\"sky\")"
   ]
  },
  {
   "cell_type": "code",
   "execution_count": 21,
   "metadata": {},
   "outputs": [
    {
     "name": "stdout",
     "output_type": "stream",
     "text": [
      "skin, R,G,B: 209 205 162\n"
     ]
    },
    {
     "data": {
      "image/png": "[encoded data removed]",
      "text/plain": [
       "<Figure size 200x200 with 1 Axes>"
      ]
     },
     "metadata": {},
     "output_type": "display_data"
    }
   ],
   "source": [
    "predict(\"skin\")"
   ]
  },
  {
   "cell_type": "code",
   "execution_count": null,
   "metadata": {},
   "outputs": [],
   "source": []
  }
 ],
 "metadata": {
  "kernelspec": {
   "display_name": "Python 3.9.13 64-bit",
   "language": "python",
   "name": "python3"
  },
  "language_info": {
   "codemirror_mode": {
    "name": "ipython",
    "version": 3
   },
   "file_extension": ".py",
   "mimetype": "text/x-python",
   "name": "python",
   "nbconvert_exporter": "python",
   "pygments_lexer": "ipython3",
   "version": "3.9.13"
  },
  "orig_nbformat": 4,
  "vscode": {
   "interpreter": {
    "hash": "11938c6bc6919ae2720b4d5011047913343b08a43b18698fd82dedb0d4417594"
   }
  }
 },
 "nbformat": 4,
 "nbformat_minor": 2
}
