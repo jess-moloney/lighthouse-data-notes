{
 "cells": [
  {
   "cell_type": "markdown",
   "metadata": {},
   "source": [
    "### NLP Data Preperation Exercise"
   ]
  },
  {
   "cell_type": "code",
   "execution_count": 1,
   "metadata": {
    "ExecuteTime": {
     "end_time": "2020-04-29T11:40:03.667630Z",
     "start_time": "2020-04-29T11:40:03.663429Z"
    }
   },
   "outputs": [],
   "source": [
    "# import pandas\n",
    "import pandas as pd"
   ]
  },
  {
   "cell_type": "code",
   "execution_count": 2,
   "metadata": {
    "ExecuteTime": {
     "end_time": "2020-04-29T11:40:04.044904Z",
     "start_time": "2020-04-29T11:40:03.861034Z"
    }
   },
   "outputs": [],
   "source": [
    "# load dataset\n",
    "dataset = pd.read_csv('https://media.geeksforgeeks.org/wp-content/uploads/Restaurant_Reviews.tsv', \n",
    "                      delimiter = '\\t',\n",
    "                      quoting=3)"
   ]
  },
  {
   "cell_type": "markdown",
   "metadata": {},
   "source": [
    "* print top 10 rows"
   ]
  },
  {
   "cell_type": "code",
   "execution_count": 3,
   "metadata": {
    "ExecuteTime": {
     "end_time": "2020-04-29T11:40:04.238480Z",
     "start_time": "2020-04-29T11:40:04.226793Z"
    }
   },
   "outputs": [
    {
     "data": {
      "text/html": [
       "<div>\n",
       "<style scoped>\n",
       "    .dataframe tbody tr th:only-of-type {\n",
       "        vertical-align: middle;\n",
       "    }\n",
       "\n",
       "    .dataframe tbody tr th {\n",
       "        vertical-align: top;\n",
       "    }\n",
       "\n",
       "    .dataframe thead th {\n",
       "        text-align: right;\n",
       "    }\n",
       "</style>\n",
       "<table border=\"1\" class=\"dataframe\">\n",
       "  <thead>\n",
       "    <tr style=\"text-align: right;\">\n",
       "      <th></th>\n",
       "      <th>Review</th>\n",
       "      <th>Liked</th>\n",
       "    </tr>\n",
       "  </thead>\n",
       "  <tbody>\n",
       "    <tr>\n",
       "      <th>0</th>\n",
       "      <td>Wow... Loved this place.</td>\n",
       "      <td>1</td>\n",
       "    </tr>\n",
       "    <tr>\n",
       "      <th>1</th>\n",
       "      <td>Crust is not good.</td>\n",
       "      <td>0</td>\n",
       "    </tr>\n",
       "    <tr>\n",
       "      <th>2</th>\n",
       "      <td>Not tasty and the texture was just nasty.</td>\n",
       "      <td>0</td>\n",
       "    </tr>\n",
       "    <tr>\n",
       "      <th>3</th>\n",
       "      <td>Stopped by during the late May bank holiday of...</td>\n",
       "      <td>1</td>\n",
       "    </tr>\n",
       "    <tr>\n",
       "      <th>4</th>\n",
       "      <td>The selection on the menu was great and so wer...</td>\n",
       "      <td>1</td>\n",
       "    </tr>\n",
       "    <tr>\n",
       "      <th>5</th>\n",
       "      <td>Now I am getting angry and I want my damn pho.</td>\n",
       "      <td>0</td>\n",
       "    </tr>\n",
       "    <tr>\n",
       "      <th>6</th>\n",
       "      <td>Honeslty it didn't taste THAT fresh.)</td>\n",
       "      <td>0</td>\n",
       "    </tr>\n",
       "    <tr>\n",
       "      <th>7</th>\n",
       "      <td>The potatoes were like rubber and you could te...</td>\n",
       "      <td>0</td>\n",
       "    </tr>\n",
       "    <tr>\n",
       "      <th>8</th>\n",
       "      <td>The fries were great too.</td>\n",
       "      <td>1</td>\n",
       "    </tr>\n",
       "    <tr>\n",
       "      <th>9</th>\n",
       "      <td>A great touch.</td>\n",
       "      <td>1</td>\n",
       "    </tr>\n",
       "  </tbody>\n",
       "</table>\n",
       "</div>"
      ],
      "text/plain": [
       "                                              Review  Liked\n",
       "0                           Wow... Loved this place.      1\n",
       "1                                 Crust is not good.      0\n",
       "2          Not tasty and the texture was just nasty.      0\n",
       "3  Stopped by during the late May bank holiday of...      1\n",
       "4  The selection on the menu was great and so wer...      1\n",
       "5     Now I am getting angry and I want my damn pho.      0\n",
       "6              Honeslty it didn't taste THAT fresh.)      0\n",
       "7  The potatoes were like rubber and you could te...      0\n",
       "8                          The fries were great too.      1\n",
       "9                                     A great touch.      1"
      ]
     },
     "execution_count": 3,
     "metadata": {},
     "output_type": "execute_result"
    }
   ],
   "source": [
    "dataset.head(10)"
   ]
  },
  {
   "cell_type": "markdown",
   "metadata": {},
   "source": [
    "* create a function that removes punctuation"
   ]
  },
  {
   "cell_type": "code",
   "execution_count": 4,
   "metadata": {
    "ExecuteTime": {
     "end_time": "2020-04-29T11:40:04.593691Z",
     "start_time": "2020-04-29T11:40:04.588163Z"
    }
   },
   "outputs": [],
   "source": [
    "def remove_punc(text):\n",
    "    import string\n",
    "    text = \"\".join([char for char in text if char not in string.punctuation])\n",
    "    return text"
   ]
  },
  {
   "cell_type": "code",
   "execution_count": 5,
   "metadata": {},
   "outputs": [],
   "source": [
    "# dataset['Review_clean'] = dataset['Review'].apply(lambda x: remove_punc(x))\n",
    "# dataset['Review_clean']"
   ]
  },
  {
   "cell_type": "markdown",
   "metadata": {},
   "source": [
    "* create a function that converts text to lowercase"
   ]
  },
  {
   "cell_type": "code",
   "execution_count": 6,
   "metadata": {},
   "outputs": [],
   "source": [
    "def lower(text):\n",
    "    text = text.lower()\n",
    "    return text\n",
    "\n",
    "# dataset['Review_clean_lower'] = dataset['Review_clean'].apply(lambda x: lower(x))\n",
    "\n",
    "# dataset['Review_clean_lower']"
   ]
  },
  {
   "cell_type": "markdown",
   "metadata": {},
   "source": [
    "* import nltk and download stopwords"
   ]
  },
  {
   "cell_type": "code",
   "execution_count": 7,
   "metadata": {
    "ExecuteTime": {
     "end_time": "2020-04-29T11:40:07.172105Z",
     "start_time": "2020-04-29T11:40:05.315632Z"
    }
   },
   "outputs": [
    {
     "name": "stderr",
     "output_type": "stream",
     "text": [
      "[nltk_data] Downloading package stopwords to\n",
      "[nltk_data]     C:\\Users\\User\\AppData\\Roaming\\nltk_data...\n",
      "[nltk_data]   Package stopwords is already up-to-date!\n"
     ]
    }
   ],
   "source": [
    "import nltk\n",
    "nltk.download('stopwords')\n",
    "from nltk.corpus import stopwords"
   ]
  },
  {
   "cell_type": "markdown",
   "metadata": {},
   "source": [
    "* create a function that removes stopwords"
   ]
  },
  {
   "cell_type": "code",
   "execution_count": 8,
   "metadata": {},
   "outputs": [],
   "source": [
    "eng_stopwords = stopwords.words('English')"
   ]
  },
  {
   "cell_type": "code",
   "execution_count": 9,
   "metadata": {
    "ExecuteTime": {
     "end_time": "2020-04-29T11:40:07.235109Z",
     "start_time": "2020-04-29T11:40:07.225647Z"
    }
   },
   "outputs": [],
   "source": [
    "def remove_stopwords(text):\n",
    "    text = [word for word in text if word not in eng_stopwords]\n",
    "    return text"
   ]
  },
  {
   "cell_type": "code",
   "execution_count": 10,
   "metadata": {},
   "outputs": [],
   "source": [
    "# dataset['Review_clean_lower_nostop'] = dataset['Review_clean_lower'].apply(lambda x: remove_stopwords(x))\n",
    "# dataset['Review_clean_lower_nostop']"
   ]
  },
  {
   "cell_type": "markdown",
   "metadata": {},
   "source": [
    "* import Lemmatizer from nltk and download wordnet"
   ]
  },
  {
   "cell_type": "code",
   "execution_count": 11,
   "metadata": {
    "ExecuteTime": {
     "end_time": "2020-04-29T11:40:07.325675Z",
     "start_time": "2020-04-29T11:40:07.286398Z"
    }
   },
   "outputs": [
    {
     "name": "stderr",
     "output_type": "stream",
     "text": [
      "[nltk_data] Downloading package omw-1.4 to\n",
      "[nltk_data]     C:\\Users\\User\\AppData\\Roaming\\nltk_data...\n",
      "[nltk_data]   Package omw-1.4 is already up-to-date!\n",
      "[nltk_data] Downloading package wordnet to\n",
      "[nltk_data]     C:\\Users\\User\\AppData\\Roaming\\nltk_data...\n",
      "[nltk_data]   Package wordnet is already up-to-date!\n"
     ]
    }
   ],
   "source": [
    "import nltk\n",
    "nltk.download('omw-1.4')\n",
    "\n",
    "nltk.download('wordnet')\n",
    "from nltk.stem import WordNetLemmatizer"
   ]
  },
  {
   "cell_type": "markdown",
   "metadata": {},
   "source": [
    "* create a function that lemmatizes text"
   ]
  },
  {
   "cell_type": "code",
   "execution_count": 12,
   "metadata": {
    "ExecuteTime": {
     "end_time": "2020-04-29T11:40:07.408715Z",
     "start_time": "2020-04-29T11:40:07.397412Z"
    }
   },
   "outputs": [],
   "source": [
    "def lemmatize(text):\n",
    "    lemmatizer = WordNetLemmatizer()\n",
    "    return ' '.join([lemmatizer.lemmatize(word) for word in text])"
   ]
  },
  {
   "cell_type": "code",
   "execution_count": 13,
   "metadata": {},
   "outputs": [],
   "source": [
    "# dataset['Review_clean_lower_nostop_lem'] = dataset['Review_clean_lower_nostop'].apply(lambda x: lemmatize(x))\n",
    "# dataset['Review_clean_lower_nostop_lem']"
   ]
  },
  {
   "cell_type": "code",
   "execution_count": 14,
   "metadata": {},
   "outputs": [
    {
     "data": {
      "text/html": [
       "<div>\n",
       "<style scoped>\n",
       "    .dataframe tbody tr th:only-of-type {\n",
       "        vertical-align: middle;\n",
       "    }\n",
       "\n",
       "    .dataframe tbody tr th {\n",
       "        vertical-align: top;\n",
       "    }\n",
       "\n",
       "    .dataframe thead th {\n",
       "        text-align: right;\n",
       "    }\n",
       "</style>\n",
       "<table border=\"1\" class=\"dataframe\">\n",
       "  <thead>\n",
       "    <tr style=\"text-align: right;\">\n",
       "      <th></th>\n",
       "      <th>Review</th>\n",
       "      <th>Liked</th>\n",
       "    </tr>\n",
       "  </thead>\n",
       "  <tbody>\n",
       "    <tr>\n",
       "      <th>0</th>\n",
       "      <td>Wow... Loved this place.</td>\n",
       "      <td>1</td>\n",
       "    </tr>\n",
       "    <tr>\n",
       "      <th>1</th>\n",
       "      <td>Crust is not good.</td>\n",
       "      <td>0</td>\n",
       "    </tr>\n",
       "    <tr>\n",
       "      <th>2</th>\n",
       "      <td>Not tasty and the texture was just nasty.</td>\n",
       "      <td>0</td>\n",
       "    </tr>\n",
       "    <tr>\n",
       "      <th>3</th>\n",
       "      <td>Stopped by during the late May bank holiday of...</td>\n",
       "      <td>1</td>\n",
       "    </tr>\n",
       "    <tr>\n",
       "      <th>4</th>\n",
       "      <td>The selection on the menu was great and so wer...</td>\n",
       "      <td>1</td>\n",
       "    </tr>\n",
       "    <tr>\n",
       "      <th>...</th>\n",
       "      <td>...</td>\n",
       "      <td>...</td>\n",
       "    </tr>\n",
       "    <tr>\n",
       "      <th>995</th>\n",
       "      <td>I think food should have flavor and texture an...</td>\n",
       "      <td>0</td>\n",
       "    </tr>\n",
       "    <tr>\n",
       "      <th>996</th>\n",
       "      <td>Appetite instantly gone.</td>\n",
       "      <td>0</td>\n",
       "    </tr>\n",
       "    <tr>\n",
       "      <th>997</th>\n",
       "      <td>Overall I was not impressed and would not go b...</td>\n",
       "      <td>0</td>\n",
       "    </tr>\n",
       "    <tr>\n",
       "      <th>998</th>\n",
       "      <td>The whole experience was underwhelming, and I ...</td>\n",
       "      <td>0</td>\n",
       "    </tr>\n",
       "    <tr>\n",
       "      <th>999</th>\n",
       "      <td>Then, as if I hadn't wasted enough of my life ...</td>\n",
       "      <td>0</td>\n",
       "    </tr>\n",
       "  </tbody>\n",
       "</table>\n",
       "<p>1000 rows × 2 columns</p>\n",
       "</div>"
      ],
      "text/plain": [
       "                                                Review  Liked\n",
       "0                             Wow... Loved this place.      1\n",
       "1                                   Crust is not good.      0\n",
       "2            Not tasty and the texture was just nasty.      0\n",
       "3    Stopped by during the late May bank holiday of...      1\n",
       "4    The selection on the menu was great and so wer...      1\n",
       "..                                                 ...    ...\n",
       "995  I think food should have flavor and texture an...      0\n",
       "996                           Appetite instantly gone.      0\n",
       "997  Overall I was not impressed and would not go b...      0\n",
       "998  The whole experience was underwhelming, and I ...      0\n",
       "999  Then, as if I hadn't wasted enough of my life ...      0\n",
       "\n",
       "[1000 rows x 2 columns]"
      ]
     },
     "execution_count": 14,
     "metadata": {},
     "output_type": "execute_result"
    }
   ],
   "source": [
    "dataset"
   ]
  },
  {
   "cell_type": "markdown",
   "metadata": {},
   "source": [
    "* import Stemming from nltk"
   ]
  },
  {
   "cell_type": "code",
   "execution_count": 15,
   "metadata": {
    "ExecuteTime": {
     "end_time": "2020-04-29T11:40:07.467033Z",
     "start_time": "2020-04-29T11:40:07.457053Z"
    }
   },
   "outputs": [
    {
     "name": "stderr",
     "output_type": "stream",
     "text": [
      "[nltk_data] Downloading package punkt to\n",
      "[nltk_data]     C:\\Users\\User\\AppData\\Roaming\\nltk_data...\n",
      "[nltk_data]   Package punkt is already up-to-date!\n"
     ]
    }
   ],
   "source": [
    "nltk.download('punkt')\n",
    "from nltk.stem import PorterStemmer"
   ]
  },
  {
   "cell_type": "markdown",
   "metadata": {},
   "source": [
    "* create a function thath stems text"
   ]
  },
  {
   "cell_type": "code",
   "execution_count": 16,
   "metadata": {
    "ExecuteTime": {
     "end_time": "2020-04-29T11:40:07.516026Z",
     "start_time": "2020-04-29T11:40:07.509217Z"
    }
   },
   "outputs": [],
   "source": [
    "def stem(text):\n",
    "    ps = PorterStemmer()\n",
    "    return ' '.join([ps.stem(word) for word in text])"
   ]
  },
  {
   "cell_type": "code",
   "execution_count": 17,
   "metadata": {},
   "outputs": [],
   "source": [
    "# dataset['Review_clean_lower_nostop_stem'] = dataset['Review_clean_lower_nostop'].apply(lambda x: stem(x))\n",
    "# dataset['Review_clean_lower_nostop_stem']"
   ]
  },
  {
   "cell_type": "markdown",
   "metadata": {},
   "source": [
    "* Define a function `'preprocess'` that applies all the preprocessing steps we defined above, **without** Stemming and Lemmatizing, to text."
   ]
  },
  {
   "cell_type": "code",
   "execution_count": 18,
   "metadata": {
    "ExecuteTime": {
     "end_time": "2020-04-29T11:40:07.579774Z",
     "start_time": "2020-04-29T11:40:07.562065Z"
    }
   },
   "outputs": [
    {
     "name": "stderr",
     "output_type": "stream",
     "text": [
      "[nltk_data] Downloading package stopwords to\n",
      "[nltk_data]     C:\\Users\\User\\AppData\\Roaming\\nltk_data...\n",
      "[nltk_data]   Package stopwords is already up-to-date!\n"
     ]
    }
   ],
   "source": [
    "import string\n",
    "import nltk\n",
    "nltk.download('stopwords')\n",
    "from nltk.corpus import stopwords\n",
    "\n",
    "def preprocess(text):\n",
    "\n",
    "    # remove punctuation\n",
    "    text = \"\".join([char for char in text if char not in string.punctuation])\n",
    "\n",
    "    # make lowercase\n",
    "    text = text.lower()\n",
    "\n",
    "    # remove stopwords  \n",
    "    eng_stopwords = stopwords.words('English')\n",
    "    text = [word for word in text.split() if word not in eng_stopwords]\n",
    "\n",
    "    return text"
   ]
  },
  {
   "cell_type": "markdown",
   "metadata": {},
   "source": [
    "* Create a new column in dataset with name 'Review_clean' and store the preprocessed reviews."
   ]
  },
  {
   "cell_type": "code",
   "execution_count": 19,
   "metadata": {
    "ExecuteTime": {
     "end_time": "2020-04-29T11:40:09.529347Z",
     "start_time": "2020-04-29T11:40:07.810861Z"
    }
   },
   "outputs": [
    {
     "data": {
      "text/plain": [
       "0                                    [wow, loved, place]\n",
       "1                                          [crust, good]\n",
       "2                                [tasty, texture, nasty]\n",
       "3      [stopped, late, may, bank, holiday, rick, stev...\n",
       "4                       [selection, menu, great, prices]\n",
       "                             ...                        \n",
       "995              [think, food, flavor, texture, lacking]\n",
       "996                          [appetite, instantly, gone]\n",
       "997                [overall, impressed, would, go, back]\n",
       "998    [whole, experience, underwhelming, think, well...\n",
       "999    [hadnt, wasted, enough, life, poured, salt, wo...\n",
       "Name: Review_clean, Length: 1000, dtype: object"
      ]
     },
     "execution_count": 19,
     "metadata": {},
     "output_type": "execute_result"
    }
   ],
   "source": [
    "dataset['Review_clean'] = dataset['Review'].apply(lambda x: preprocess(x))\n",
    "dataset['Review_clean']"
   ]
  },
  {
   "cell_type": "markdown",
   "metadata": {},
   "source": [
    "* print top 10 rows of the dataset"
   ]
  },
  {
   "cell_type": "code",
   "execution_count": 20,
   "metadata": {
    "ExecuteTime": {
     "end_time": "2020-04-29T11:40:09.595017Z",
     "start_time": "2020-04-29T11:40:09.579025Z"
    }
   },
   "outputs": [
    {
     "data": {
      "text/html": [
       "<div>\n",
       "<style scoped>\n",
       "    .dataframe tbody tr th:only-of-type {\n",
       "        vertical-align: middle;\n",
       "    }\n",
       "\n",
       "    .dataframe tbody tr th {\n",
       "        vertical-align: top;\n",
       "    }\n",
       "\n",
       "    .dataframe thead th {\n",
       "        text-align: right;\n",
       "    }\n",
       "</style>\n",
       "<table border=\"1\" class=\"dataframe\">\n",
       "  <thead>\n",
       "    <tr style=\"text-align: right;\">\n",
       "      <th></th>\n",
       "      <th>Review</th>\n",
       "      <th>Liked</th>\n",
       "      <th>Review_clean</th>\n",
       "    </tr>\n",
       "  </thead>\n",
       "  <tbody>\n",
       "    <tr>\n",
       "      <th>0</th>\n",
       "      <td>Wow... Loved this place.</td>\n",
       "      <td>1</td>\n",
       "      <td>[wow, loved, place]</td>\n",
       "    </tr>\n",
       "    <tr>\n",
       "      <th>1</th>\n",
       "      <td>Crust is not good.</td>\n",
       "      <td>0</td>\n",
       "      <td>[crust, good]</td>\n",
       "    </tr>\n",
       "    <tr>\n",
       "      <th>2</th>\n",
       "      <td>Not tasty and the texture was just nasty.</td>\n",
       "      <td>0</td>\n",
       "      <td>[tasty, texture, nasty]</td>\n",
       "    </tr>\n",
       "    <tr>\n",
       "      <th>3</th>\n",
       "      <td>Stopped by during the late May bank holiday of...</td>\n",
       "      <td>1</td>\n",
       "      <td>[stopped, late, may, bank, holiday, rick, stev...</td>\n",
       "    </tr>\n",
       "    <tr>\n",
       "      <th>4</th>\n",
       "      <td>The selection on the menu was great and so wer...</td>\n",
       "      <td>1</td>\n",
       "      <td>[selection, menu, great, prices]</td>\n",
       "    </tr>\n",
       "    <tr>\n",
       "      <th>5</th>\n",
       "      <td>Now I am getting angry and I want my damn pho.</td>\n",
       "      <td>0</td>\n",
       "      <td>[getting, angry, want, damn, pho]</td>\n",
       "    </tr>\n",
       "    <tr>\n",
       "      <th>6</th>\n",
       "      <td>Honeslty it didn't taste THAT fresh.)</td>\n",
       "      <td>0</td>\n",
       "      <td>[honeslty, didnt, taste, fresh]</td>\n",
       "    </tr>\n",
       "    <tr>\n",
       "      <th>7</th>\n",
       "      <td>The potatoes were like rubber and you could te...</td>\n",
       "      <td>0</td>\n",
       "      <td>[potatoes, like, rubber, could, tell, made, ah...</td>\n",
       "    </tr>\n",
       "    <tr>\n",
       "      <th>8</th>\n",
       "      <td>The fries were great too.</td>\n",
       "      <td>1</td>\n",
       "      <td>[fries, great]</td>\n",
       "    </tr>\n",
       "    <tr>\n",
       "      <th>9</th>\n",
       "      <td>A great touch.</td>\n",
       "      <td>1</td>\n",
       "      <td>[great, touch]</td>\n",
       "    </tr>\n",
       "  </tbody>\n",
       "</table>\n",
       "</div>"
      ],
      "text/plain": [
       "                                              Review  Liked  \\\n",
       "0                           Wow... Loved this place.      1   \n",
       "1                                 Crust is not good.      0   \n",
       "2          Not tasty and the texture was just nasty.      0   \n",
       "3  Stopped by during the late May bank holiday of...      1   \n",
       "4  The selection on the menu was great and so wer...      1   \n",
       "5     Now I am getting angry and I want my damn pho.      0   \n",
       "6              Honeslty it didn't taste THAT fresh.)      0   \n",
       "7  The potatoes were like rubber and you could te...      0   \n",
       "8                          The fries were great too.      1   \n",
       "9                                     A great touch.      1   \n",
       "\n",
       "                                        Review_clean  \n",
       "0                                [wow, loved, place]  \n",
       "1                                      [crust, good]  \n",
       "2                            [tasty, texture, nasty]  \n",
       "3  [stopped, late, may, bank, holiday, rick, stev...  \n",
       "4                   [selection, menu, great, prices]  \n",
       "5                  [getting, angry, want, damn, pho]  \n",
       "6                    [honeslty, didnt, taste, fresh]  \n",
       "7  [potatoes, like, rubber, could, tell, made, ah...  \n",
       "8                                     [fries, great]  \n",
       "9                                     [great, touch]  "
      ]
     },
     "execution_count": 20,
     "metadata": {},
     "output_type": "execute_result"
    }
   ],
   "source": [
    "dataset.head(10)"
   ]
  },
  {
   "cell_type": "markdown",
   "metadata": {},
   "source": [
    "* apply the lemmatizer function above on the 'Review_clean' column of the dataset.\n",
    "* store the result in a 'Lemmatized' column"
   ]
  },
  {
   "cell_type": "code",
   "execution_count": 21,
   "metadata": {
    "ExecuteTime": {
     "end_time": "2020-04-29T11:40:11.380853Z",
     "start_time": "2020-04-29T11:40:09.630497Z"
    }
   },
   "outputs": [
    {
     "data": {
      "text/plain": [
       "0                                        wow loved place\n",
       "1                                             crust good\n",
       "2                                    tasty texture nasty\n",
       "3      stopped late may bank holiday rick steve recom...\n",
       "4                             selection menu great price\n",
       "                             ...                        \n",
       "995                    think food flavor texture lacking\n",
       "996                              appetite instantly gone\n",
       "997                      overall impressed would go back\n",
       "998    whole experience underwhelming think well go n...\n",
       "999    hadnt wasted enough life poured salt wound dra...\n",
       "Name: Review_lemmatized, Length: 1000, dtype: object"
      ]
     },
     "execution_count": 21,
     "metadata": {},
     "output_type": "execute_result"
    }
   ],
   "source": [
    "dataset['Review_lemmatized'] = dataset['Review_clean'].apply(lambda x: lemmatize(x))\n",
    "dataset['Review_lemmatized']"
   ]
  },
  {
   "cell_type": "markdown",
   "metadata": {},
   "source": [
    "* print top 10 rows of the dataset"
   ]
  },
  {
   "cell_type": "code",
   "execution_count": 22,
   "metadata": {
    "ExecuteTime": {
     "end_time": "2020-04-29T11:40:11.433810Z",
     "start_time": "2020-04-29T11:40:11.421811Z"
    }
   },
   "outputs": [
    {
     "data": {
      "text/html": [
       "<div>\n",
       "<style scoped>\n",
       "    .dataframe tbody tr th:only-of-type {\n",
       "        vertical-align: middle;\n",
       "    }\n",
       "\n",
       "    .dataframe tbody tr th {\n",
       "        vertical-align: top;\n",
       "    }\n",
       "\n",
       "    .dataframe thead th {\n",
       "        text-align: right;\n",
       "    }\n",
       "</style>\n",
       "<table border=\"1\" class=\"dataframe\">\n",
       "  <thead>\n",
       "    <tr style=\"text-align: right;\">\n",
       "      <th></th>\n",
       "      <th>Review</th>\n",
       "      <th>Liked</th>\n",
       "      <th>Review_clean</th>\n",
       "      <th>Review_lemmatized</th>\n",
       "    </tr>\n",
       "  </thead>\n",
       "  <tbody>\n",
       "    <tr>\n",
       "      <th>0</th>\n",
       "      <td>Wow... Loved this place.</td>\n",
       "      <td>1</td>\n",
       "      <td>[wow, loved, place]</td>\n",
       "      <td>wow loved place</td>\n",
       "    </tr>\n",
       "    <tr>\n",
       "      <th>1</th>\n",
       "      <td>Crust is not good.</td>\n",
       "      <td>0</td>\n",
       "      <td>[crust, good]</td>\n",
       "      <td>crust good</td>\n",
       "    </tr>\n",
       "    <tr>\n",
       "      <th>2</th>\n",
       "      <td>Not tasty and the texture was just nasty.</td>\n",
       "      <td>0</td>\n",
       "      <td>[tasty, texture, nasty]</td>\n",
       "      <td>tasty texture nasty</td>\n",
       "    </tr>\n",
       "    <tr>\n",
       "      <th>3</th>\n",
       "      <td>Stopped by during the late May bank holiday of...</td>\n",
       "      <td>1</td>\n",
       "      <td>[stopped, late, may, bank, holiday, rick, stev...</td>\n",
       "      <td>stopped late may bank holiday rick steve recom...</td>\n",
       "    </tr>\n",
       "    <tr>\n",
       "      <th>4</th>\n",
       "      <td>The selection on the menu was great and so wer...</td>\n",
       "      <td>1</td>\n",
       "      <td>[selection, menu, great, prices]</td>\n",
       "      <td>selection menu great price</td>\n",
       "    </tr>\n",
       "    <tr>\n",
       "      <th>5</th>\n",
       "      <td>Now I am getting angry and I want my damn pho.</td>\n",
       "      <td>0</td>\n",
       "      <td>[getting, angry, want, damn, pho]</td>\n",
       "      <td>getting angry want damn pho</td>\n",
       "    </tr>\n",
       "    <tr>\n",
       "      <th>6</th>\n",
       "      <td>Honeslty it didn't taste THAT fresh.)</td>\n",
       "      <td>0</td>\n",
       "      <td>[honeslty, didnt, taste, fresh]</td>\n",
       "      <td>honeslty didnt taste fresh</td>\n",
       "    </tr>\n",
       "    <tr>\n",
       "      <th>7</th>\n",
       "      <td>The potatoes were like rubber and you could te...</td>\n",
       "      <td>0</td>\n",
       "      <td>[potatoes, like, rubber, could, tell, made, ah...</td>\n",
       "      <td>potato like rubber could tell made ahead time ...</td>\n",
       "    </tr>\n",
       "    <tr>\n",
       "      <th>8</th>\n",
       "      <td>The fries were great too.</td>\n",
       "      <td>1</td>\n",
       "      <td>[fries, great]</td>\n",
       "      <td>fry great</td>\n",
       "    </tr>\n",
       "    <tr>\n",
       "      <th>9</th>\n",
       "      <td>A great touch.</td>\n",
       "      <td>1</td>\n",
       "      <td>[great, touch]</td>\n",
       "      <td>great touch</td>\n",
       "    </tr>\n",
       "  </tbody>\n",
       "</table>\n",
       "</div>"
      ],
      "text/plain": [
       "                                              Review  Liked  \\\n",
       "0                           Wow... Loved this place.      1   \n",
       "1                                 Crust is not good.      0   \n",
       "2          Not tasty and the texture was just nasty.      0   \n",
       "3  Stopped by during the late May bank holiday of...      1   \n",
       "4  The selection on the menu was great and so wer...      1   \n",
       "5     Now I am getting angry and I want my damn pho.      0   \n",
       "6              Honeslty it didn't taste THAT fresh.)      0   \n",
       "7  The potatoes were like rubber and you could te...      0   \n",
       "8                          The fries were great too.      1   \n",
       "9                                     A great touch.      1   \n",
       "\n",
       "                                        Review_clean  \\\n",
       "0                                [wow, loved, place]   \n",
       "1                                      [crust, good]   \n",
       "2                            [tasty, texture, nasty]   \n",
       "3  [stopped, late, may, bank, holiday, rick, stev...   \n",
       "4                   [selection, menu, great, prices]   \n",
       "5                  [getting, angry, want, damn, pho]   \n",
       "6                    [honeslty, didnt, taste, fresh]   \n",
       "7  [potatoes, like, rubber, could, tell, made, ah...   \n",
       "8                                     [fries, great]   \n",
       "9                                     [great, touch]   \n",
       "\n",
       "                                   Review_lemmatized  \n",
       "0                                    wow loved place  \n",
       "1                                         crust good  \n",
       "2                                tasty texture nasty  \n",
       "3  stopped late may bank holiday rick steve recom...  \n",
       "4                         selection menu great price  \n",
       "5                        getting angry want damn pho  \n",
       "6                         honeslty didnt taste fresh  \n",
       "7  potato like rubber could tell made ahead time ...  \n",
       "8                                          fry great  \n",
       "9                                        great touch  "
      ]
     },
     "execution_count": 22,
     "metadata": {},
     "output_type": "execute_result"
    }
   ],
   "source": [
    "dataset.head(10)"
   ]
  },
  {
   "cell_type": "markdown",
   "metadata": {},
   "source": [
    "* apply stemmer defined above on 'Review_clean' column of the dataset.\n",
    "* store the result in 'Stemmed' column"
   ]
  },
  {
   "cell_type": "code",
   "execution_count": 23,
   "metadata": {
    "ExecuteTime": {
     "end_time": "2020-04-29T11:40:11.677728Z",
     "start_time": "2020-04-29T11:40:11.472960Z"
    }
   },
   "outputs": [
    {
     "data": {
      "text/plain": [
       "0                                         wow love place\n",
       "1                                             crust good\n",
       "2                                     tasti textur nasti\n",
       "3      stop late may bank holiday rick steve recommen...\n",
       "4                                select menu great price\n",
       "                             ...                        \n",
       "995                        think food flavor textur lack\n",
       "996                               appetit instantli gone\n",
       "997                         overal impress would go back\n",
       "998    whole experi underwhelm think well go ninja su...\n",
       "999    hadnt wast enough life pour salt wound draw ti...\n",
       "Name: Review_stemmed, Length: 1000, dtype: object"
      ]
     },
     "execution_count": 23,
     "metadata": {},
     "output_type": "execute_result"
    }
   ],
   "source": [
    "dataset['Review_stemmed'] = dataset['Review_clean'].apply(lambda x: stem(x))\n",
    "dataset['Review_stemmed']"
   ]
  },
  {
   "cell_type": "markdown",
   "metadata": {},
   "source": [
    "* print top 10 rows of the dataset"
   ]
  },
  {
   "cell_type": "code",
   "execution_count": 25,
   "metadata": {
    "ExecuteTime": {
     "end_time": "2020-04-29T11:40:11.779253Z",
     "start_time": "2020-04-29T11:40:11.742611Z"
    }
   },
   "outputs": [
    {
     "data": {
      "text/html": [
       "<div>\n",
       "<style scoped>\n",
       "    .dataframe tbody tr th:only-of-type {\n",
       "        vertical-align: middle;\n",
       "    }\n",
       "\n",
       "    .dataframe tbody tr th {\n",
       "        vertical-align: top;\n",
       "    }\n",
       "\n",
       "    .dataframe thead th {\n",
       "        text-align: right;\n",
       "    }\n",
       "</style>\n",
       "<table border=\"1\" class=\"dataframe\">\n",
       "  <thead>\n",
       "    <tr style=\"text-align: right;\">\n",
       "      <th></th>\n",
       "      <th>Review</th>\n",
       "      <th>Liked</th>\n",
       "      <th>Review_clean</th>\n",
       "      <th>Review_lemmatized</th>\n",
       "      <th>Review_stemmed</th>\n",
       "    </tr>\n",
       "  </thead>\n",
       "  <tbody>\n",
       "    <tr>\n",
       "      <th>0</th>\n",
       "      <td>Wow... Loved this place.</td>\n",
       "      <td>1</td>\n",
       "      <td>[wow, loved, place]</td>\n",
       "      <td>wow loved place</td>\n",
       "      <td>wow love place</td>\n",
       "    </tr>\n",
       "    <tr>\n",
       "      <th>1</th>\n",
       "      <td>Crust is not good.</td>\n",
       "      <td>0</td>\n",
       "      <td>[crust, good]</td>\n",
       "      <td>crust good</td>\n",
       "      <td>crust good</td>\n",
       "    </tr>\n",
       "    <tr>\n",
       "      <th>2</th>\n",
       "      <td>Not tasty and the texture was just nasty.</td>\n",
       "      <td>0</td>\n",
       "      <td>[tasty, texture, nasty]</td>\n",
       "      <td>tasty texture nasty</td>\n",
       "      <td>tasti textur nasti</td>\n",
       "    </tr>\n",
       "    <tr>\n",
       "      <th>3</th>\n",
       "      <td>Stopped by during the late May bank holiday of...</td>\n",
       "      <td>1</td>\n",
       "      <td>[stopped, late, may, bank, holiday, rick, stev...</td>\n",
       "      <td>stopped late may bank holiday rick steve recom...</td>\n",
       "      <td>stop late may bank holiday rick steve recommen...</td>\n",
       "    </tr>\n",
       "    <tr>\n",
       "      <th>4</th>\n",
       "      <td>The selection on the menu was great and so wer...</td>\n",
       "      <td>1</td>\n",
       "      <td>[selection, menu, great, prices]</td>\n",
       "      <td>selection menu great price</td>\n",
       "      <td>select menu great price</td>\n",
       "    </tr>\n",
       "    <tr>\n",
       "      <th>5</th>\n",
       "      <td>Now I am getting angry and I want my damn pho.</td>\n",
       "      <td>0</td>\n",
       "      <td>[getting, angry, want, damn, pho]</td>\n",
       "      <td>getting angry want damn pho</td>\n",
       "      <td>get angri want damn pho</td>\n",
       "    </tr>\n",
       "    <tr>\n",
       "      <th>6</th>\n",
       "      <td>Honeslty it didn't taste THAT fresh.)</td>\n",
       "      <td>0</td>\n",
       "      <td>[honeslty, didnt, taste, fresh]</td>\n",
       "      <td>honeslty didnt taste fresh</td>\n",
       "      <td>honeslti didnt tast fresh</td>\n",
       "    </tr>\n",
       "    <tr>\n",
       "      <th>7</th>\n",
       "      <td>The potatoes were like rubber and you could te...</td>\n",
       "      <td>0</td>\n",
       "      <td>[potatoes, like, rubber, could, tell, made, ah...</td>\n",
       "      <td>potato like rubber could tell made ahead time ...</td>\n",
       "      <td>potato like rubber could tell made ahead time ...</td>\n",
       "    </tr>\n",
       "    <tr>\n",
       "      <th>8</th>\n",
       "      <td>The fries were great too.</td>\n",
       "      <td>1</td>\n",
       "      <td>[fries, great]</td>\n",
       "      <td>fry great</td>\n",
       "      <td>fri great</td>\n",
       "    </tr>\n",
       "    <tr>\n",
       "      <th>9</th>\n",
       "      <td>A great touch.</td>\n",
       "      <td>1</td>\n",
       "      <td>[great, touch]</td>\n",
       "      <td>great touch</td>\n",
       "      <td>great touch</td>\n",
       "    </tr>\n",
       "  </tbody>\n",
       "</table>\n",
       "</div>"
      ],
      "text/plain": [
       "                                              Review  Liked  \\\n",
       "0                           Wow... Loved this place.      1   \n",
       "1                                 Crust is not good.      0   \n",
       "2          Not tasty and the texture was just nasty.      0   \n",
       "3  Stopped by during the late May bank holiday of...      1   \n",
       "4  The selection on the menu was great and so wer...      1   \n",
       "5     Now I am getting angry and I want my damn pho.      0   \n",
       "6              Honeslty it didn't taste THAT fresh.)      0   \n",
       "7  The potatoes were like rubber and you could te...      0   \n",
       "8                          The fries were great too.      1   \n",
       "9                                     A great touch.      1   \n",
       "\n",
       "                                        Review_clean  \\\n",
       "0                                [wow, loved, place]   \n",
       "1                                      [crust, good]   \n",
       "2                            [tasty, texture, nasty]   \n",
       "3  [stopped, late, may, bank, holiday, rick, stev...   \n",
       "4                   [selection, menu, great, prices]   \n",
       "5                  [getting, angry, want, damn, pho]   \n",
       "6                    [honeslty, didnt, taste, fresh]   \n",
       "7  [potatoes, like, rubber, could, tell, made, ah...   \n",
       "8                                     [fries, great]   \n",
       "9                                     [great, touch]   \n",
       "\n",
       "                                   Review_lemmatized  \\\n",
       "0                                    wow loved place   \n",
       "1                                         crust good   \n",
       "2                                tasty texture nasty   \n",
       "3  stopped late may bank holiday rick steve recom...   \n",
       "4                         selection menu great price   \n",
       "5                        getting angry want damn pho   \n",
       "6                         honeslty didnt taste fresh   \n",
       "7  potato like rubber could tell made ahead time ...   \n",
       "8                                          fry great   \n",
       "9                                        great touch   \n",
       "\n",
       "                                      Review_stemmed  \n",
       "0                                     wow love place  \n",
       "1                                         crust good  \n",
       "2                                 tasti textur nasti  \n",
       "3  stop late may bank holiday rick steve recommen...  \n",
       "4                            select menu great price  \n",
       "5                            get angri want damn pho  \n",
       "6                          honeslti didnt tast fresh  \n",
       "7  potato like rubber could tell made ahead time ...  \n",
       "8                                          fri great  \n",
       "9                                        great touch  "
      ]
     },
     "execution_count": 25,
     "metadata": {},
     "output_type": "execute_result"
    }
   ],
   "source": [
    "dataset.head(10)"
   ]
  },
  {
   "cell_type": "markdown",
   "metadata": {},
   "source": [
    "* Define a function `'preprocess_all'` that applies all the preprocessing steps we defined above, **with** Stemming and Lemmatizing, to text."
   ]
  },
  {
   "cell_type": "code",
   "execution_count": 52,
   "metadata": {},
   "outputs": [
    {
     "name": "stderr",
     "output_type": "stream",
     "text": [
      "[nltk_data] Downloading package stopwords to\n",
      "[nltk_data]     C:\\Users\\User\\AppData\\Roaming\\nltk_data...\n",
      "[nltk_data]   Package stopwords is already up-to-date!\n",
      "[nltk_data] Downloading package omw-1.4 to\n",
      "[nltk_data]     C:\\Users\\User\\AppData\\Roaming\\nltk_data...\n",
      "[nltk_data]   Package omw-1.4 is already up-to-date!\n",
      "[nltk_data] Downloading package wordnet to\n",
      "[nltk_data]     C:\\Users\\User\\AppData\\Roaming\\nltk_data...\n",
      "[nltk_data]   Package wordnet is already up-to-date!\n",
      "[nltk_data] Downloading package punkt to\n",
      "[nltk_data]     C:\\Users\\User\\AppData\\Roaming\\nltk_data...\n",
      "[nltk_data]   Package punkt is already up-to-date!\n"
     ]
    }
   ],
   "source": [
    "import string\n",
    "import nltk\n",
    "nltk.download('stopwords')\n",
    "from nltk.corpus import stopwords\n",
    "import nltk\n",
    "nltk.download('omw-1.4')\n",
    "nltk.download('wordnet')\n",
    "from nltk.stem import WordNetLemmatizer\n",
    "nltk.download('punkt')\n",
    "from nltk.stem import PorterStemmer\n",
    "\n",
    "def preprocess_all(text):\n",
    "\n",
    "    # remove punctuation\n",
    "    text = \"\".join([char for char in text if char not in string.punctuation])\n",
    "\n",
    "    # make lowercase\n",
    "    text = text.lower()\n",
    "\n",
    "    # remove stopwords  \n",
    "    eng_stopwords = stopwords.words('English')\n",
    "    text = [word for word in text.split() if word not in eng_stopwords]\n",
    "\n",
    "    # lemmatize\n",
    "    lemmatizer = WordNetLemmatizer()\n",
    "    text = ' '.join([lemmatizer.lemmatize(word) for word in text])\n",
    "\n",
    "    # stem\n",
    "    ps = PorterStemmer()\n",
    "    text = ''.join([ps.stem(word) for word in text])\n",
    "\n",
    "    return text"
   ]
  },
  {
   "cell_type": "code",
   "execution_count": 53,
   "metadata": {},
   "outputs": [
    {
     "data": {
      "text/html": [
       "<div>\n",
       "<style scoped>\n",
       "    .dataframe tbody tr th:only-of-type {\n",
       "        vertical-align: middle;\n",
       "    }\n",
       "\n",
       "    .dataframe tbody tr th {\n",
       "        vertical-align: top;\n",
       "    }\n",
       "\n",
       "    .dataframe thead th {\n",
       "        text-align: right;\n",
       "    }\n",
       "</style>\n",
       "<table border=\"1\" class=\"dataframe\">\n",
       "  <thead>\n",
       "    <tr style=\"text-align: right;\">\n",
       "      <th></th>\n",
       "      <th>Review</th>\n",
       "      <th>Liked</th>\n",
       "      <th>Review_clean</th>\n",
       "      <th>Review_lemmatized</th>\n",
       "      <th>Review_stemmed</th>\n",
       "      <th>Review_preprocess_all</th>\n",
       "    </tr>\n",
       "  </thead>\n",
       "  <tbody>\n",
       "    <tr>\n",
       "      <th>0</th>\n",
       "      <td>Wow... Loved this place.</td>\n",
       "      <td>1</td>\n",
       "      <td>[wow, loved, place]</td>\n",
       "      <td>wow loved place</td>\n",
       "      <td>wow love place</td>\n",
       "      <td>wow loved place</td>\n",
       "    </tr>\n",
       "    <tr>\n",
       "      <th>1</th>\n",
       "      <td>Crust is not good.</td>\n",
       "      <td>0</td>\n",
       "      <td>[crust, good]</td>\n",
       "      <td>crust good</td>\n",
       "      <td>crust good</td>\n",
       "      <td>crust good</td>\n",
       "    </tr>\n",
       "    <tr>\n",
       "      <th>2</th>\n",
       "      <td>Not tasty and the texture was just nasty.</td>\n",
       "      <td>0</td>\n",
       "      <td>[tasty, texture, nasty]</td>\n",
       "      <td>tasty texture nasty</td>\n",
       "      <td>tasti textur nasti</td>\n",
       "      <td>tasty texture nasty</td>\n",
       "    </tr>\n",
       "    <tr>\n",
       "      <th>3</th>\n",
       "      <td>Stopped by during the late May bank holiday of...</td>\n",
       "      <td>1</td>\n",
       "      <td>[stopped, late, may, bank, holiday, rick, stev...</td>\n",
       "      <td>stopped late may bank holiday rick steve recom...</td>\n",
       "      <td>stop late may bank holiday rick steve recommen...</td>\n",
       "      <td>stopped late may bank holiday rick steve recom...</td>\n",
       "    </tr>\n",
       "    <tr>\n",
       "      <th>4</th>\n",
       "      <td>The selection on the menu was great and so wer...</td>\n",
       "      <td>1</td>\n",
       "      <td>[selection, menu, great, prices]</td>\n",
       "      <td>selection menu great price</td>\n",
       "      <td>select menu great price</td>\n",
       "      <td>selection menu great price</td>\n",
       "    </tr>\n",
       "    <tr>\n",
       "      <th>5</th>\n",
       "      <td>Now I am getting angry and I want my damn pho.</td>\n",
       "      <td>0</td>\n",
       "      <td>[getting, angry, want, damn, pho]</td>\n",
       "      <td>getting angry want damn pho</td>\n",
       "      <td>get angri want damn pho</td>\n",
       "      <td>getting angry want damn pho</td>\n",
       "    </tr>\n",
       "    <tr>\n",
       "      <th>6</th>\n",
       "      <td>Honeslty it didn't taste THAT fresh.)</td>\n",
       "      <td>0</td>\n",
       "      <td>[honeslty, didnt, taste, fresh]</td>\n",
       "      <td>honeslty didnt taste fresh</td>\n",
       "      <td>honeslti didnt tast fresh</td>\n",
       "      <td>honeslty didnt taste fresh</td>\n",
       "    </tr>\n",
       "    <tr>\n",
       "      <th>7</th>\n",
       "      <td>The potatoes were like rubber and you could te...</td>\n",
       "      <td>0</td>\n",
       "      <td>[potatoes, like, rubber, could, tell, made, ah...</td>\n",
       "      <td>potato like rubber could tell made ahead time ...</td>\n",
       "      <td>potato like rubber could tell made ahead time ...</td>\n",
       "      <td>potato like rubber could tell made ahead time ...</td>\n",
       "    </tr>\n",
       "    <tr>\n",
       "      <th>8</th>\n",
       "      <td>The fries were great too.</td>\n",
       "      <td>1</td>\n",
       "      <td>[fries, great]</td>\n",
       "      <td>fry great</td>\n",
       "      <td>fri great</td>\n",
       "      <td>fry great</td>\n",
       "    </tr>\n",
       "    <tr>\n",
       "      <th>9</th>\n",
       "      <td>A great touch.</td>\n",
       "      <td>1</td>\n",
       "      <td>[great, touch]</td>\n",
       "      <td>great touch</td>\n",
       "      <td>great touch</td>\n",
       "      <td>great touch</td>\n",
       "    </tr>\n",
       "  </tbody>\n",
       "</table>\n",
       "</div>"
      ],
      "text/plain": [
       "                                              Review  Liked  \\\n",
       "0                           Wow... Loved this place.      1   \n",
       "1                                 Crust is not good.      0   \n",
       "2          Not tasty and the texture was just nasty.      0   \n",
       "3  Stopped by during the late May bank holiday of...      1   \n",
       "4  The selection on the menu was great and so wer...      1   \n",
       "5     Now I am getting angry and I want my damn pho.      0   \n",
       "6              Honeslty it didn't taste THAT fresh.)      0   \n",
       "7  The potatoes were like rubber and you could te...      0   \n",
       "8                          The fries were great too.      1   \n",
       "9                                     A great touch.      1   \n",
       "\n",
       "                                        Review_clean  \\\n",
       "0                                [wow, loved, place]   \n",
       "1                                      [crust, good]   \n",
       "2                            [tasty, texture, nasty]   \n",
       "3  [stopped, late, may, bank, holiday, rick, stev...   \n",
       "4                   [selection, menu, great, prices]   \n",
       "5                  [getting, angry, want, damn, pho]   \n",
       "6                    [honeslty, didnt, taste, fresh]   \n",
       "7  [potatoes, like, rubber, could, tell, made, ah...   \n",
       "8                                     [fries, great]   \n",
       "9                                     [great, touch]   \n",
       "\n",
       "                                   Review_lemmatized  \\\n",
       "0                                    wow loved place   \n",
       "1                                         crust good   \n",
       "2                                tasty texture nasty   \n",
       "3  stopped late may bank holiday rick steve recom...   \n",
       "4                         selection menu great price   \n",
       "5                        getting angry want damn pho   \n",
       "6                         honeslty didnt taste fresh   \n",
       "7  potato like rubber could tell made ahead time ...   \n",
       "8                                          fry great   \n",
       "9                                        great touch   \n",
       "\n",
       "                                      Review_stemmed  \\\n",
       "0                                     wow love place   \n",
       "1                                         crust good   \n",
       "2                                 tasti textur nasti   \n",
       "3  stop late may bank holiday rick steve recommen...   \n",
       "4                            select menu great price   \n",
       "5                            get angri want damn pho   \n",
       "6                          honeslti didnt tast fresh   \n",
       "7  potato like rubber could tell made ahead time ...   \n",
       "8                                          fri great   \n",
       "9                                        great touch   \n",
       "\n",
       "                               Review_preprocess_all  \n",
       "0                                    wow loved place  \n",
       "1                                         crust good  \n",
       "2                                tasty texture nasty  \n",
       "3  stopped late may bank holiday rick steve recom...  \n",
       "4                         selection menu great price  \n",
       "5                        getting angry want damn pho  \n",
       "6                         honeslty didnt taste fresh  \n",
       "7  potato like rubber could tell made ahead time ...  \n",
       "8                                          fry great  \n",
       "9                                        great touch  "
      ]
     },
     "execution_count": 53,
     "metadata": {},
     "output_type": "execute_result"
    }
   ],
   "source": [
    "dataset['Review_preprocess_all'] = dataset['Review'].apply(lambda x: preprocess_all(x))\n",
    "dataset.head(10)"
   ]
  },
  {
   "cell_type": "code",
   "execution_count": null,
   "metadata": {},
   "outputs": [],
   "source": []
  }
 ],
 "metadata": {
  "kernelspec": {
   "display_name": "Python 3.9.13 64-bit",
   "language": "python",
   "name": "python3"
  },
  "language_info": {
   "codemirror_mode": {
    "name": "ipython",
    "version": 3
   },
   "file_extension": ".py",
   "mimetype": "text/x-python",
   "name": "python",
   "nbconvert_exporter": "python",
   "pygments_lexer": "ipython3",
   "version": "3.9.13"
  },
  "toc": {
   "base_numbering": 1,
   "nav_menu": {},
   "number_sections": true,
   "sideBar": true,
   "skip_h1_title": false,
   "title_cell": "Table of Contents",
   "title_sidebar": "Contents",
   "toc_cell": false,
   "toc_position": {},
   "toc_section_display": true,
   "toc_window_display": false
  },
  "varInspector": {
   "cols": {
    "lenName": 16,
    "lenType": 16,
    "lenVar": 40
   },
   "kernels_config": {
    "python": {
     "delete_cmd_postfix": "",
     "delete_cmd_prefix": "del ",
     "library": "var_list.py",
     "varRefreshCmd": "print(var_dic_list())"
    },
    "r": {
     "delete_cmd_postfix": ") ",
     "delete_cmd_prefix": "rm(",
     "library": "var_list.r",
     "varRefreshCmd": "cat(var_dic_list()) "
    }
   },
   "types_to_exclude": [
    "module",
    "function",
    "builtin_function_or_method",
    "instance",
    "_Feature"
   ],
   "window_display": false
  },
  "vscode": {
   "interpreter": {
    "hash": "11938c6bc6919ae2720b4d5011047913343b08a43b18698fd82dedb0d4417594"
   }
  }
 },
 "nbformat": 4,
 "nbformat_minor": 2
}
