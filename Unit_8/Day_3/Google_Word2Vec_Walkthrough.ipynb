{
 "cells": [
  {
   "cell_type": "code",
   "execution_count": 2,
   "metadata": {},
   "outputs": [
    {
     "name": "stdout",
     "output_type": "stream",
     "text": [
      "Defaulting to user installation because normal site-packages is not writeable\n",
      "Collecting gensim\n",
      "  Downloading gensim-4.2.0-cp39-cp39-win_amd64.whl (23.9 MB)\n",
      "     -------------------------------------- 23.9/23.9 MB 950.8 kB/s eta 0:00:00\n",
      "Requirement already satisfied: scipy>=0.18.1 in c:\\users\\user\\appdata\\roaming\\python\\python39\\site-packages (from gensim) (1.9.1)\n",
      "Requirement already satisfied: numpy>=1.17.0 in c:\\users\\user\\appdata\\roaming\\python\\python39\\site-packages (from gensim) (1.23.3)\n",
      "Collecting Cython==0.29.28\n",
      "  Downloading Cython-0.29.28-py2.py3-none-any.whl (983 kB)\n",
      "     ------------------------------------ 983.8/983.8 kB 973.5 kB/s eta 0:00:00\n",
      "Collecting smart-open>=1.8.1\n",
      "  Downloading smart_open-6.2.0-py3-none-any.whl (58 kB)\n",
      "     ---------------------------------------- 58.6/58.6 kB 1.0 MB/s eta 0:00:00\n",
      "Installing collected packages: smart-open, Cython, gensim\n",
      "Successfully installed Cython-0.29.28 gensim-4.2.0 smart-open-6.2.0\n"
     ]
    },
    {
     "name": "stderr",
     "output_type": "stream",
     "text": [
      "\n",
      "[notice] A new release of pip available: 22.3 -> 22.3.1\n",
      "[notice] To update, run: python.exe -m pip install --upgrade pip\n"
     ]
    }
   ],
   "source": [
    "! pip install gensim"
   ]
  },
  {
   "cell_type": "code",
   "execution_count": 5,
   "metadata": {},
   "outputs": [],
   "source": [
    "import gensim\n",
    "\n",
    "# Load Google's pre-trained Word2Vec model.\n",
    "# model = gensim.models.Word2Vec.load_word2vec_format('./model/GoogleNews-vectors-negative300.bin', binary=True)\n",
    "model = gensim.models.KeyedVectors.load_word2vec_format('./GoogleNews-vectors-negative300.bin.gz', binary=True)"
   ]
  },
  {
   "cell_type": "code",
   "execution_count": 6,
   "metadata": {},
   "outputs": [
    {
     "data": {
      "text/plain": [
       "(300,)"
      ]
     },
     "execution_count": 6,
     "metadata": {},
     "output_type": "execute_result"
    }
   ],
   "source": [
    "vector = model['easy']\n",
    "# see the shape of the vector (300,)\n",
    "vector.shape"
   ]
  },
  {
   "cell_type": "code",
   "execution_count": 7,
   "metadata": {},
   "outputs": [
    {
     "data": {
      "text/plain": [
       "[('good', 0.6836091876029968),\n",
       " ('lovely', 0.6676310896873474),\n",
       " ('neat', 0.6616737246513367),\n",
       " ('fantastic', 0.6569240689277649),\n",
       " ('wonderful', 0.6561347246170044),\n",
       " ('terrific', 0.6552367806434631),\n",
       " ('great', 0.6454657912254333),\n",
       " ('awesome', 0.6404187679290771),\n",
       " ('nicer', 0.6302445530891418),\n",
       " ('decent', 0.5993332862854004)]"
      ]
     },
     "execution_count": 7,
     "metadata": {},
     "output_type": "execute_result"
    }
   ],
   "source": [
    "model.most_similar(\"nice\")"
   ]
  },
  {
   "cell_type": "code",
   "execution_count": 8,
   "metadata": {},
   "outputs": [
    {
     "data": {
      "text/plain": [
       "0.68360925"
      ]
     },
     "execution_count": 8,
     "metadata": {},
     "output_type": "execute_result"
    }
   ],
   "source": [
    "model.similarity(\"nice\",\"good\")"
   ]
  },
  {
   "cell_type": "code",
   "execution_count": 9,
   "metadata": {},
   "outputs": [
    {
     "data": {
      "text/plain": [
       "0.7190051"
      ]
     },
     "execution_count": 9,
     "metadata": {},
     "output_type": "execute_result"
    }
   ],
   "source": [
    "# Interesting\n",
    "model.similarity(\"bad\",\"good\")"
   ]
  },
  {
   "cell_type": "code",
   "execution_count": 10,
   "metadata": {},
   "outputs": [
    {
     "data": {
      "text/plain": [
       "[('queen', 0.7118193507194519),\n",
       " ('monarch', 0.6189674139022827),\n",
       " ('princess', 0.5902431011199951),\n",
       " ('crown_prince', 0.5499460697174072),\n",
       " ('prince', 0.5377321839332581),\n",
       " ('kings', 0.5236844420433044),\n",
       " ('Queen_Consort', 0.5235945582389832),\n",
       " ('queens', 0.5181134343147278),\n",
       " ('sultan', 0.5098593831062317),\n",
       " ('monarchy', 0.5087411999702454)]"
      ]
     },
     "execution_count": 10,
     "metadata": {},
     "output_type": "execute_result"
    }
   ],
   "source": [
    "# king - queen = man - woman\n",
    "model.most_similar(positive=['woman', 'king'], negative=['man'])"
   ]
  },
  {
   "cell_type": "code",
   "execution_count": 12,
   "metadata": {},
   "outputs": [
    {
     "data": {
      "text/plain": [
       "[('girl', 0.8169013857841492),\n",
       " ('toddler', 0.660798192024231),\n",
       " ('teenage_girl', 0.6399556994438171),\n",
       " ('teen', 0.6290277242660522),\n",
       " ('woman', 0.6129035353660583),\n",
       " ('teenager', 0.6039489507675171),\n",
       " ('child', 0.596511721611023),\n",
       " ('teen_ager', 0.5722406506538391),\n",
       " ('mother', 0.5678833723068237),\n",
       " ('baby_sitter', 0.5580534338951111)]"
      ]
     },
     "execution_count": 12,
     "metadata": {},
     "output_type": "execute_result"
    }
   ],
   "source": [
    "# mom - girl = dad - boy\n",
    "model.most_similar(positive=['mom', 'boy'], negative=['dad'])"
   ]
  },
  {
   "cell_type": "code",
   "execution_count": 15,
   "metadata": {},
   "outputs": [
    {
     "data": {
      "text/plain": [
       "[('madrid', 0.5295541882514954),\n",
       " ('dubai', 0.5092597603797913),\n",
       " ('heidi', 0.48901548981666565),\n",
       " ('portugal', 0.48763689398765564),\n",
       " ('paula', 0.4855714738368988),\n",
       " ('alex', 0.4807346761226654),\n",
       " ('lohan', 0.4801103174686432),\n",
       " ('diego', 0.48010098934173584),\n",
       " ('florence', 0.47695302963256836),\n",
       " ('costa', 0.4761490523815155)]"
      ]
     },
     "execution_count": 15,
     "metadata": {},
     "output_type": "execute_result"
    }
   ],
   "source": [
    "# france - paris = spain - madrid\n",
    "model.most_similar(positive=['paris', 'spain'], negative=['france'])"
   ]
  },
  {
   "cell_type": "code",
   "execution_count": 16,
   "metadata": {},
   "outputs": [
    {
     "data": {
      "text/plain": [
       "[('daughter', 0.6066097021102905),\n",
       " ('niece', 0.5490824580192566),\n",
       " ('granddaughter', 0.5400506854057312),\n",
       " ('aunt', 0.5397382378578186),\n",
       " ('husband', 0.5387389659881592),\n",
       " ('sister', 0.5360148549079895),\n",
       " ('son', 0.5356959104537964),\n",
       " ('wife', 0.5313628911972046),\n",
       " ('father', 0.5261732935905457),\n",
       " ('grandmother', 0.5253341197967529)]"
      ]
     },
     "execution_count": 16,
     "metadata": {},
     "output_type": "execute_result"
    }
   ],
   "source": [
    "# mother - daughter = table - chair\n",
    "model.most_similar(positive=['mother', 'chair'], negative=['table'])"
   ]
  },
  {
   "cell_type": "code",
   "execution_count": null,
   "metadata": {},
   "outputs": [],
   "source": []
  }
 ],
 "metadata": {
  "kernelspec": {
   "display_name": "Python 3.9.13 64-bit",
   "language": "python",
   "name": "python3"
  },
  "language_info": {
   "codemirror_mode": {
    "name": "ipython",
    "version": 3
   },
   "file_extension": ".py",
   "mimetype": "text/x-python",
   "name": "python",
   "nbconvert_exporter": "python",
   "pygments_lexer": "ipython3",
   "version": "3.9.13"
  },
  "orig_nbformat": 4,
  "vscode": {
   "interpreter": {
    "hash": "11938c6bc6919ae2720b4d5011047913343b08a43b18698fd82dedb0d4417594"
   }
  }
 },
 "nbformat": 4,
 "nbformat_minor": 2
}
