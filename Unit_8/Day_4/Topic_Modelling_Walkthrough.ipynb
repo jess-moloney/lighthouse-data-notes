{
 "cells": [
  {
   "cell_type": "code",
   "execution_count": 2,
   "metadata": {},
   "outputs": [
    {
     "name": "stdout",
     "output_type": "stream",
     "text": [
      "Defaulting to user installation because normal site-packages is not writeable\n",
      "Collecting pyLDAvis\n",
      "  Downloading pyLDAvis-3.3.1.tar.gz (1.7 MB)\n",
      "     ---------------------------------------- 1.7/1.7 MB 869.3 kB/s eta 0:00:00\n",
      "  Installing build dependencies: started\n",
      "  Installing build dependencies: finished with status 'done'\n",
      "  Getting requirements to build wheel: started\n",
      "  Getting requirements to build wheel: finished with status 'done'\n",
      "  Installing backend dependencies: started\n",
      "  Installing backend dependencies: finished with status 'done'\n",
      "  Preparing metadata (pyproject.toml): started\n",
      "  Preparing metadata (pyproject.toml): finished with status 'done'\n",
      "Requirement already satisfied: future in c:\\users\\user\\appdata\\roaming\\python\\python39\\site-packages (from pyLDAvis) (0.18.2)\n",
      "Requirement already satisfied: scipy in c:\\users\\user\\appdata\\roaming\\python\\python39\\site-packages (from pyLDAvis) (1.9.1)\n",
      "Requirement already satisfied: gensim in c:\\users\\user\\appdata\\roaming\\python\\python39\\site-packages (from pyLDAvis) (4.2.0)\n",
      "Requirement already satisfied: sklearn in c:\\users\\user\\appdata\\roaming\\python\\python39\\site-packages (from pyLDAvis) (0.0)\n",
      "Requirement already satisfied: setuptools in c:\\program files\\python39\\lib\\site-packages (from pyLDAvis) (58.1.0)\n",
      "Requirement already satisfied: joblib in c:\\users\\user\\appdata\\roaming\\python\\python39\\site-packages (from pyLDAvis) (1.2.0)\n",
      "Requirement already satisfied: jinja2 in c:\\users\\user\\appdata\\roaming\\python\\python39\\site-packages (from pyLDAvis) (3.1.2)\n",
      "Requirement already satisfied: numpy>=1.20.0 in c:\\users\\user\\appdata\\roaming\\python\\python39\\site-packages (from pyLDAvis) (1.23.3)\n",
      "Collecting numexpr\n",
      "  Downloading numexpr-2.8.4-cp39-cp39-win_amd64.whl (92 kB)\n",
      "     ---------------------------------------- 92.7/92.7 kB 1.1 MB/s eta 0:00:00\n",
      "Requirement already satisfied: pandas>=1.2.0 in c:\\users\\user\\appdata\\roaming\\python\\python39\\site-packages (from pyLDAvis) (1.5.0)\n",
      "Requirement already satisfied: scikit-learn in c:\\users\\user\\appdata\\roaming\\python\\python39\\site-packages (from pyLDAvis) (1.1.2)\n",
      "Collecting funcy\n",
      "  Downloading funcy-1.17-py2.py3-none-any.whl (33 kB)\n",
      "Requirement already satisfied: python-dateutil>=2.8.1 in c:\\users\\user\\appdata\\roaming\\python\\python39\\site-packages (from pandas>=1.2.0->pyLDAvis) (2.8.2)\n",
      "Requirement already satisfied: pytz>=2020.1 in c:\\users\\user\\appdata\\roaming\\python\\python39\\site-packages (from pandas>=1.2.0->pyLDAvis) (2022.2.1)\n",
      "Requirement already satisfied: smart-open>=1.8.1 in c:\\users\\user\\appdata\\roaming\\python\\python39\\site-packages (from gensim->pyLDAvis) (5.2.1)\n",
      "Requirement already satisfied: Cython==0.29.28 in c:\\users\\user\\appdata\\roaming\\python\\python39\\site-packages (from gensim->pyLDAvis) (0.29.28)\n",
      "Requirement already satisfied: MarkupSafe>=2.0 in c:\\users\\user\\appdata\\roaming\\python\\python39\\site-packages (from jinja2->pyLDAvis) (2.1.1)\n",
      "Requirement already satisfied: threadpoolctl>=2.0.0 in c:\\users\\user\\appdata\\roaming\\python\\python39\\site-packages (from scikit-learn->pyLDAvis) (3.1.0)\n",
      "Requirement already satisfied: six>=1.5 in c:\\users\\user\\appdata\\roaming\\python\\python39\\site-packages (from python-dateutil>=2.8.1->pandas>=1.2.0->pyLDAvis) (1.16.0)\n",
      "Building wheels for collected packages: pyLDAvis\n",
      "  Building wheel for pyLDAvis (pyproject.toml): started\n",
      "  Building wheel for pyLDAvis (pyproject.toml): finished with status 'done'\n",
      "  Created wheel for pyLDAvis: filename=pyLDAvis-3.3.1-py2.py3-none-any.whl size=136904 sha256=a4d4b3352cdd4b8dd6add2719cfdca094de5a370acaa5aef0faa51924f8d52a0\n",
      "  Stored in directory: c:\\users\\user\\appdata\\local\\pip\\cache\\wheels\\1f\\ef\\46\\1dc1c1e5d8ff2f3b44cccaf004cf64488cf82b5c359fbc8efb\n",
      "Successfully built pyLDAvis\n",
      "Installing collected packages: funcy, numexpr, pyLDAvis\n",
      "Successfully installed funcy-1.17 numexpr-2.8.4 pyLDAvis-3.3.1\n"
     ]
    },
    {
     "name": "stderr",
     "output_type": "stream",
     "text": [
      "\n",
      "[notice] A new release of pip available: 22.3 -> 22.3.1\n",
      "[notice] To update, run: python.exe -m pip install --upgrade pip\n"
     ]
    }
   ],
   "source": [
    "! pip install pyLDAvis"
   ]
  },
  {
   "cell_type": "code",
   "execution_count": 3,
   "metadata": {},
   "outputs": [
    {
     "name": "stdout",
     "output_type": "stream",
     "text": [
      "Defaulting to user installation because normal site-packages is not writeable\n",
      "Collecting nlp\n",
      "  Downloading nlp-0.4.0-py3-none-any.whl (1.7 MB)\n",
      "     ---------------------------------------- 1.7/1.7 MB 857.6 kB/s eta 0:00:00\n",
      "Requirement already satisfied: pandas in c:\\users\\user\\appdata\\roaming\\python\\python39\\site-packages (from nlp) (1.5.0)\n",
      "Collecting filelock\n",
      "  Downloading filelock-3.8.0-py3-none-any.whl (10 kB)\n",
      "Requirement already satisfied: numpy in c:\\users\\user\\appdata\\roaming\\python\\python39\\site-packages (from nlp) (1.23.3)\n",
      "Requirement already satisfied: requests>=2.19.0 in c:\\users\\user\\appdata\\roaming\\python\\python39\\site-packages (from nlp) (2.28.1)\n",
      "Collecting xxhash\n",
      "  Downloading xxhash-3.1.0-cp39-cp39-win_amd64.whl (30 kB)\n",
      "Collecting pyarrow>=0.16.0\n",
      "  Downloading pyarrow-10.0.0-cp39-cp39-win_amd64.whl (20.0 MB)\n",
      "     -------------------------------------- 20.0/20.0 MB 929.1 kB/s eta 0:00:00\n",
      "Requirement already satisfied: tqdm>=4.27 in c:\\users\\user\\appdata\\roaming\\python\\python39\\site-packages (from nlp) (4.64.1)\n",
      "Collecting dill\n",
      "  Downloading dill-0.3.6-py3-none-any.whl (110 kB)\n",
      "     -------------------------------------- 110.5/110.5 kB 1.1 MB/s eta 0:00:00\n",
      "Requirement already satisfied: charset-normalizer<3,>=2 in c:\\users\\user\\appdata\\roaming\\python\\python39\\site-packages (from requests>=2.19.0->nlp) (2.1.1)\n",
      "Requirement already satisfied: urllib3<1.27,>=1.21.1 in c:\\users\\user\\appdata\\roaming\\python\\python39\\site-packages (from requests>=2.19.0->nlp) (1.26.12)\n",
      "Requirement already satisfied: idna<4,>=2.5 in c:\\users\\user\\appdata\\roaming\\python\\python39\\site-packages (from requests>=2.19.0->nlp) (3.4)\n",
      "Requirement already satisfied: certifi>=2017.4.17 in c:\\users\\user\\appdata\\roaming\\python\\python39\\site-packages (from requests>=2.19.0->nlp) (2022.9.14)\n",
      "Requirement already satisfied: colorama in c:\\users\\user\\appdata\\roaming\\python\\python39\\site-packages (from tqdm>=4.27->nlp) (0.4.5)\n",
      "Requirement already satisfied: python-dateutil>=2.8.1 in c:\\users\\user\\appdata\\roaming\\python\\python39\\site-packages (from pandas->nlp) (2.8.2)\n",
      "Requirement already satisfied: pytz>=2020.1 in c:\\users\\user\\appdata\\roaming\\python\\python39\\site-packages (from pandas->nlp) (2022.2.1)\n",
      "Requirement already satisfied: six>=1.5 in c:\\users\\user\\appdata\\roaming\\python\\python39\\site-packages (from python-dateutil>=2.8.1->pandas->nlp) (1.16.0)\n",
      "Installing collected packages: xxhash, pyarrow, filelock, dill, nlp\n",
      "Successfully installed dill-0.3.6 filelock-3.8.0 nlp-0.4.0 pyarrow-10.0.0 xxhash-3.1.0\n"
     ]
    },
    {
     "name": "stderr",
     "output_type": "stream",
     "text": [
      "\n",
      "[notice] A new release of pip available: 22.3 -> 22.3.1\n",
      "[notice] To update, run: python.exe -m pip install --upgrade pip\n"
     ]
    }
   ],
   "source": [
    "! pip install nlp"
   ]
  },
  {
   "cell_type": "code",
   "execution_count": 5,
   "metadata": {},
   "outputs": [
    {
     "name": "stderr",
     "output_type": "stream",
     "text": [
      "[nltk_data] Downloading package stopwords to\n",
      "[nltk_data]     C:\\Users\\User\\AppData\\Roaming\\nltk_data...\n",
      "[nltk_data]   Package stopwords is already up-to-date!\n"
     ]
    }
   ],
   "source": [
    "import re\n",
    "import nltk\n",
    "import spacy\n",
    "import gensim\n",
    "import pyLDAvis\n",
    "import nlp\n",
    "nltk.download('stopwords')\n",
    "import pandas as pd\n",
    "import numpy as np\n",
    "\n",
    "# Gensim\n",
    "import gensim\n",
    "import gensim.corpora as corpora\n",
    "from gensim.utils import simple_preprocess\n",
    "from gensim.models import CoherenceModel\n",
    "\n",
    "# spacy for Lemmatization\n",
    "import spacy\n",
    "\n",
    "# Plotting tools\n",
    "import pyLDAvis\n",
    "import pyLDAvis.gensim_models\n",
    "import matplotlib.pyplot as plt\n",
    "%matplotlib inline"
   ]
  },
  {
   "cell_type": "code",
   "execution_count": 6,
   "metadata": {},
   "outputs": [
    {
     "data": {
      "text/plain": [
       "(2225, 2)"
      ]
     },
     "execution_count": 6,
     "metadata": {},
     "output_type": "execute_result"
    }
   ],
   "source": [
    "df = pd.read_csv('bbc-text.csv')\n",
    "df.shape"
   ]
  },
  {
   "cell_type": "code",
   "execution_count": 7,
   "metadata": {},
   "outputs": [
    {
     "data": {
      "text/html": [
       "<div>\n",
       "<style scoped>\n",
       "    .dataframe tbody tr th:only-of-type {\n",
       "        vertical-align: middle;\n",
       "    }\n",
       "\n",
       "    .dataframe tbody tr th {\n",
       "        vertical-align: top;\n",
       "    }\n",
       "\n",
       "    .dataframe thead th {\n",
       "        text-align: right;\n",
       "    }\n",
       "</style>\n",
       "<table border=\"1\" class=\"dataframe\">\n",
       "  <thead>\n",
       "    <tr style=\"text-align: right;\">\n",
       "      <th></th>\n",
       "      <th>category</th>\n",
       "      <th>text</th>\n",
       "    </tr>\n",
       "  </thead>\n",
       "  <tbody>\n",
       "    <tr>\n",
       "      <th>0</th>\n",
       "      <td>tech</td>\n",
       "      <td>tv future in the hands of viewers with home th...</td>\n",
       "    </tr>\n",
       "    <tr>\n",
       "      <th>1</th>\n",
       "      <td>business</td>\n",
       "      <td>worldcom boss  left books alone  former worldc...</td>\n",
       "    </tr>\n",
       "    <tr>\n",
       "      <th>2</th>\n",
       "      <td>sport</td>\n",
       "      <td>tigers wary of farrell  gamble  leicester say ...</td>\n",
       "    </tr>\n",
       "    <tr>\n",
       "      <th>3</th>\n",
       "      <td>sport</td>\n",
       "      <td>yeading face newcastle in fa cup premiership s...</td>\n",
       "    </tr>\n",
       "    <tr>\n",
       "      <th>4</th>\n",
       "      <td>entertainment</td>\n",
       "      <td>ocean s twelve raids box office ocean s twelve...</td>\n",
       "    </tr>\n",
       "  </tbody>\n",
       "</table>\n",
       "</div>"
      ],
      "text/plain": [
       "        category                                               text\n",
       "0           tech  tv future in the hands of viewers with home th...\n",
       "1       business  worldcom boss  left books alone  former worldc...\n",
       "2          sport  tigers wary of farrell  gamble  leicester say ...\n",
       "3          sport  yeading face newcastle in fa cup premiership s...\n",
       "4  entertainment  ocean s twelve raids box office ocean s twelve..."
      ]
     },
     "execution_count": 7,
     "metadata": {},
     "output_type": "execute_result"
    }
   ],
   "source": [
    "df.head()"
   ]
  },
  {
   "cell_type": "code",
   "execution_count": 10,
   "metadata": {},
   "outputs": [
    {
     "name": "stderr",
     "output_type": "stream",
     "text": [
      "<>:5: DeprecationWarning: invalid escape sequence \\S\n",
      "<>:8: DeprecationWarning: invalid escape sequence \\s\n",
      "<>:5: DeprecationWarning: invalid escape sequence \\S\n",
      "<>:8: DeprecationWarning: invalid escape sequence \\s\n",
      "C:\\Users\\User\\AppData\\Local\\Temp\\ipykernel_26416\\3303659828.py:5: DeprecationWarning: invalid escape sequence \\S\n",
      "  data = [re.sub('\\S*@\\S*\\s?', \"\", i) for i in data]\n",
      "C:\\Users\\User\\AppData\\Local\\Temp\\ipykernel_26416\\3303659828.py:8: DeprecationWarning: invalid escape sequence \\s\n",
      "  data = [re.sub('\\s+',' ', i) for i in data]\n"
     ]
    }
   ],
   "source": [
    "# convert to list\n",
    "data = df['text'].values.tolist()\n",
    "\n",
    "# remove emails\n",
    "data = [re.sub('\\S*@\\S*\\s?', \"\", i) for i in data]\n",
    "\n",
    "# remove new line characters\n",
    "data = [re.sub('\\s+',' ', i) for i in data]\n",
    "\n",
    "# remove distracting single quotes\n",
    "data = [re.sub(\"\\'\", \"\", i) for i in data]"
   ]
  },
  {
   "cell_type": "code",
   "execution_count": 12,
   "metadata": {},
   "outputs": [
    {
     "name": "stdout",
     "output_type": "stream",
     "text": [
      "[['tv', 'future', 'in', 'the', 'hands', 'of', 'viewers', 'with', 'home', 'theatre', 'systems', 'plasma', 'high', 'definition', 'tvs', 'and', 'digital', 'video', 'recorders', 'moving', 'into', 'the', 'living', 'room', 'the', 'way', 'people', 'watch', 'tv', 'will', 'be', 'radically', 'different', 'in', 'five', 'years', 'time', 'that', 'is', 'according', 'to', 'an', 'expert', 'panel', 'which', 'gathered', 'at', 'the', 'annual', 'consumer', 'electronics', 'show', 'in', 'las', 'vegas', 'to', 'discuss', 'how', 'these', 'new', 'technologies', 'will', 'impact', 'one', 'of', 'our', 'favourite', 'pastimes', 'with', 'the', 'us', 'leading', 'the', 'trend', 'programmes', 'and', 'other', 'content', 'will', 'be', 'delivered', 'to', 'viewers', 'via', 'home', 'networks', 'through', 'cable', 'satellite', 'telecoms', 'companies', 'and', 'broadband', 'service', 'providers', 'to', 'front', 'rooms', 'and', 'portable', 'devices', 'one', 'of', 'the', 'most', 'talked', 'about', 'technologies', 'of', 'ces', 'has', 'been', 'digital', 'and', 'personal', 'video', 'recorders', 'dvr', 'and', 'pvr', 'these', 'set', 'top', 'boxes', 'like', 'the', 'us', 'tivo', 'and', 'the', 'uk', 'sky', 'system', 'allow', 'people', 'to', 'record', 'store', 'play', 'pause', 'and', 'forward', 'wind', 'tv', 'programmes', 'when', 'they', 'want', 'essentially', 'the', 'technology', 'allows', 'for', 'much', 'more', 'personalised', 'tv', 'they', 'are', 'also', 'being', 'built', 'in', 'to', 'high', 'definition', 'tv', 'sets', 'which', 'are', 'big', 'business', 'in', 'japan', 'and', 'the', 'us', 'but', 'slower', 'to', 'take', 'off', 'in', 'europe', 'because', 'of', 'the', 'lack', 'of', 'high', 'definition', 'programming', 'not', 'only', 'can', 'people', 'forward', 'wind', 'through', 'adverts', 'they', 'can', 'also', 'forget', 'about', 'abiding', 'by', 'network', 'and', 'channel', 'schedules', 'putting', 'together', 'their', 'own', 'la', 'carte', 'entertainment', 'but', 'some', 'us', 'networks', 'and', 'cable', 'and', 'satellite', 'companies', 'are', 'worried', 'about', 'what', 'it', 'means', 'for', 'them', 'in', 'terms', 'of', 'advertising', 'revenues', 'as', 'well', 'as', 'brand', 'identity', 'and', 'viewer', 'loyalty', 'to', 'channels', 'although', 'the', 'us', 'leads', 'in', 'this', 'technology', 'at', 'the', 'moment', 'it', 'is', 'also', 'concern', 'that', 'is', 'being', 'raised', 'in', 'europe', 'particularly', 'with', 'the', 'growing', 'uptake', 'of', 'services', 'like', 'sky', 'what', 'happens', 'here', 'today', 'we', 'will', 'see', 'in', 'nine', 'months', 'to', 'years', 'time', 'in', 'the', 'uk', 'adam', 'hume', 'the', 'bbc', 'broadcast', 'futurologist', 'told', 'the', 'bbc', 'news', 'website', 'for', 'the', 'likes', 'of', 'the', 'bbc', 'there', 'are', 'no', 'issues', 'of', 'lost', 'advertising', 'revenue', 'yet', 'it', 'is', 'more', 'pressing', 'issue', 'at', 'the', 'moment', 'for', 'commercial', 'uk', 'broadcasters', 'but', 'brand', 'loyalty', 'is', 'important', 'for', 'everyone', 'we', 'will', 'be', 'talking', 'more', 'about', 'content', 'brands', 'rather', 'than', 'network', 'brands', 'said', 'tim', 'hanlon', 'from', 'brand', 'communications', 'firm', 'starcom', 'mediavest', 'the', 'reality', 'is', 'that', 'with', 'broadband', 'connections', 'anybody', 'can', 'be', 'the', 'producer', 'of', 'content', 'he', 'added', 'the', 'challenge', 'now', 'is', 'that', 'it', 'is', 'hard', 'to', 'promote', 'programme', 'with', 'so', 'much', 'choice', 'what', 'this', 'means', 'said', 'stacey', 'jolna', 'senior', 'vice', 'president', 'of', 'tv', 'guide', 'tv', 'group', 'is', 'that', 'the', 'way', 'people', 'find', 'the', 'content', 'they', 'want', 'to', 'watch', 'has', 'to', 'be', 'simplified', 'for', 'tv', 'viewers', 'it', 'means', 'that', 'networks', 'in', 'us', 'terms', 'or', 'channels', 'could', 'take', 'leaf', 'out', 'of', 'google', 'book', 'and', 'be', 'the', 'search', 'engine', 'of', 'the', 'future', 'instead', 'of', 'the', 'scheduler', 'to', 'help', 'people', 'find', 'what', 'they', 'want', 'to', 'watch', 'this', 'kind', 'of', 'channel', 'model', 'might', 'work', 'for', 'the', 'younger', 'ipod', 'generation', 'which', 'is', 'used', 'to', 'taking', 'control', 'of', 'their', 'gadgets', 'and', 'what', 'they', 'play', 'on', 'them', 'but', 'it', 'might', 'not', 'suit', 'everyone', 'the', 'panel', 'recognised', 'older', 'generations', 'are', 'more', 'comfortable', 'with', 'familiar', 'schedules', 'and', 'channel', 'brands', 'because', 'they', 'know', 'what', 'they', 'are', 'getting', 'they', 'perhaps', 'do', 'not', 'want', 'so', 'much', 'of', 'the', 'choice', 'put', 'into', 'their', 'hands', 'mr', 'hanlon', 'suggested', 'on', 'the', 'other', 'end', 'you', 'have', 'the', 'kids', 'just', 'out', 'of', 'diapers', 'who', 'are', 'pushing', 'buttons', 'already', 'everything', 'is', 'possible', 'and', 'available', 'to', 'them', 'said', 'mr', 'hanlon', 'ultimately', 'the', 'consumer', 'will', 'tell', 'the', 'market', 'they', 'want', 'of', 'the', 'new', 'gadgets', 'and', 'technologies', 'being', 'showcased', 'at', 'ces', 'many', 'of', 'them', 'are', 'about', 'enhancing', 'the', 'tv', 'watching', 'experience', 'high', 'definition', 'tv', 'sets', 'are', 'everywhere', 'and', 'many', 'new', 'models', 'of', 'lcd', 'liquid', 'crystal', 'display', 'tvs', 'have', 'been', 'launched', 'with', 'dvr', 'capability', 'built', 'into', 'them', 'instead', 'of', 'being', 'external', 'boxes', 'one', 'such', 'example', 'launched', 'at', 'the', 'show', 'is', 'humax', 'inch', 'lcd', 'tv', 'with', 'an', 'hour', 'tivo', 'dvr', 'and', 'dvd', 'recorder', 'one', 'of', 'the', 'us', 'biggest', 'satellite', 'tv', 'companies', 'directtv', 'has', 'even', 'launched', 'its', 'own', 'branded', 'dvr', 'at', 'the', 'show', 'with', 'hours', 'of', 'recording', 'capability', 'instant', 'replay', 'and', 'search', 'function', 'the', 'set', 'can', 'pause', 'and', 'rewind', 'tv', 'for', 'up', 'to', 'hours', 'and', 'microsoft', 'chief', 'bill', 'gates', 'announced', 'in', 'his', 'pre', 'show', 'keynote', 'speech', 'partnership', 'with', 'tivo', 'called', 'tivotogo', 'which', 'means', 'people', 'can', 'play', 'recorded', 'programmes', 'on', 'windows', 'pcs', 'and', 'mobile', 'devices', 'all', 'these', 'reflect', 'the', 'increasing', 'trend', 'of', 'freeing', 'up', 'multimedia', 'so', 'that', 'people', 'can', 'watch', 'what', 'they', 'want', 'when', 'they', 'want']]\n"
     ]
    }
   ],
   "source": [
    "def sent_to_words(sentences):\n",
    "    for sentence in sentences:\n",
    "        yield(gensim.utils.simple_preprocess(str(sentence), deacc=True)) # deacc=True removes punctuation\n",
    "\n",
    "data_words = list(sent_to_words(data))\n",
    "\n",
    "print(data_words[:1])"
   ]
  },
  {
   "cell_type": "code",
   "execution_count": 14,
   "metadata": {},
   "outputs": [],
   "source": [
    "from nltk.corpus import stopwords\n",
    "stop_words = stopwords.words('english')\n",
    "\n",
    "def remove_stopwords(texts):\n",
    "    return [[word for word in simple_preprocess(str(doc)) if word not in stop_words] for doc in texts]\n",
    "\n",
    "import spacy\n",
    "import en_core_web_sm\n",
    "nlp = en_core_web_sm.load()\n",
    "\n",
    "def lemmatization(texts, allowed_postags=['NOUN']):\n",
    "    texts_out = []\n",
    "    for sent in texts:\n",
    "        doc = nlp(\" \".join(sent))\n",
    "        texts_out.append([token.lemma_ for token in doc if token.pos_ in allowed_postags])\n",
    "    return texts_out"
   ]
  },
  {
   "cell_type": "code",
   "execution_count": 15,
   "metadata": {},
   "outputs": [],
   "source": [
    "# remove stop words\n",
    "data_words_nostops = remove_stopwords(data_words)"
   ]
  },
  {
   "cell_type": "code",
   "execution_count": 16,
   "metadata": {},
   "outputs": [],
   "source": [
    "# do lemmatization keeping only noun\n",
    "data_lemmatized = lemmatization(data_words_nostops, allowed_postags=['NOUN'])"
   ]
  },
  {
   "cell_type": "code",
   "execution_count": 17,
   "metadata": {},
   "outputs": [
    {
     "name": "stdout",
     "output_type": "stream",
     "text": [
      "[['tv', 'viewer', 'home', 'theatre', 'system', 'definition', 'video', 'recorder', 'living', 'room', 'way', 'people', 'tv', 'year', 'time', 'expert', 'panel', 'consumer', 'electronic', 'show', 'technology', 'impact', 'pastime', 'trend', 'programme', 'content', 'viewer', 'home', 'network', 'cable', 'satellite', 'telecom', 'company', 'service', 'provider', 'room', 'device', 'technology', 'video', 'recorder', 'dvr', 'box', 'sky', 'system', 'people', 'record', 'store', 'pause', 'wind', 'tv', 'programme', 'technology', 'tv', 'definition', 'tv', 'business', 'definition', 'programming', 'people', 'wind', 'advert', 'network', 'channel', 'schedule', 'carte', 'network', 'cable', 'satellite', 'company', 'term', 'advertising', 'revenue', 'brand', 'identity', 'viewer', 'loyalty', 'channel', 'technology', 'moment', 'concern', 'uptake', 'service', 'sky', 'today', 'month', 'year', 'futurologist', 'news', 'website', 'issue', 'advertising', 'revenue', 'issue', 'moment', 'brand', 'loyalty', 'content', 'brand', 'network', 'brand', 'communication', 'reality', 'broadband', 'connection', 'producer', 'content', 'challenge', 'programme', 'choice', 'mean', 'vice', 'president', 'guide', 'tv', 'group', 'way', 'people', 'content', 'watch', 'tv', 'viewer', 'network', 'term', 'channel', 'leaf', 'book', 'search', 'engine', 'future', 'help', 'people', 'watch', 'channel', 'model', 'generation', 'control', 'gadget', 'play', 'panel', 'generation', 'schedule', 'channel', 'brand', 'choice', 'hand', 'end', 'kid', 'diaper', 'button', 'consumer', 'tell', 'market', 'gadget', 'technology', 'ce', 'tv', 'watching', 'experience', 'definition', 'tv', 'model', 'crystal', 'display', 'dvr', 'capability', 'box', 'example', 'show', 'inch', 'tv', 'hour', 'recorder', 'satellite', 'tv', 'company', 'directtv', 'dvr', 'show', 'hour', 'recording', 'capability', 'instant', 'replay', 'search', 'function', 'pause', 'rewind', 'tv', 'hour', 'bill', 'gate', 'speech', 'partnership', 'tivotogo', 'people', 'programme', 'device', 'trend', 'multimedia', 'people'], ['book', 'ebber', 'accounting', 'decision', 'witness', 'comment', 'defence', 'lawyer', 'ebber', 'problem', 'phone', 'company', 'prosecutor', 'loss', 'share', 'fraud', 'prosecutor', 'defence', 'lawyer', 'distance', 'client', 'allegation', 'cross', 'examination', 'ebber', 'accounting', 'decision', 'ebber', 'accounting', 'entry', 'worldcom', 'book', 'witness', 'accounting', 'entry', 'officer', 'lawyer', 'paint', 'fraud', 'testify', 'trial', 'mastermind', 'card', 'team', 'portray', 'boss', 'admission', 'graduate', 'economist', 'ability', 'ebber', 'telecom', 'investor', 'problem', 'competition', 'telecom', 'boom', 'firm', 'shareholder', 'worker', 'job', 'ebber', 'trial', 'month', 'ceo', 'jail', 'sentence', 'innocence']]\n"
     ]
    }
   ],
   "source": [
    "print(data_lemmatized[:2])"
   ]
  },
  {
   "cell_type": "code",
   "execution_count": 18,
   "metadata": {},
   "outputs": [
    {
     "name": "stdout",
     "output_type": "stream",
     "text": [
      "Dictionary<10584 unique tokens: ['advert', 'advertising', 'bill', 'book', 'box']...>\n"
     ]
    }
   ],
   "source": [
    "# Create Dictionary\n",
    "id2word = corpora.Dictionary(data_lemmatized)\n",
    "print(id2word)\n",
    "\n",
    "# Create Corpus\n",
    "texts = data_lemmatized\n",
    "\n",
    "# Term Document Frequency\n",
    "corpus = [id2word.doc2bow(text) for text in texts]"
   ]
  },
  {
   "cell_type": "code",
   "execution_count": 19,
   "metadata": {},
   "outputs": [],
   "source": [
    "# baseline model\n",
    "\n",
    "lda_model = gensim.models.ldamodel.LdaModel(corpus=corpus,\n",
    "                                            id2word=id2word,\n",
    "                                            num_topics=5,\n",
    "                                            random_state=100,\n",
    "                                            chunksize=200,\n",
    "                                            passes=10,\n",
    "                                            per_word_topics=True)"
   ]
  },
  {
   "cell_type": "code",
   "execution_count": 20,
   "metadata": {},
   "outputs": [
    {
     "name": "stdout",
     "output_type": "stream",
     "text": [
      "[(0,\n",
      "  '0.022*\"player\" + 0.021*\"year\" + 0.020*\"game\" + 0.019*\"time\" + 0.016*\"team\" '\n",
      "  '+ 0.013*\"club\" + 0.012*\"side\" + 0.011*\"match\" + 0.010*\"week\" + '\n",
      "  '0.010*\"manager\"'),\n",
      " (1,\n",
      "  '0.039*\"film\" + 0.021*\"year\" + 0.018*\"music\" + 0.015*\"award\" + '\n",
      "  '0.013*\"domain\" + 0.011*\"album\" + 0.010*\"number\" + 0.010*\"show\" + '\n",
      "  '0.009*\"band\" + 0.009*\"song\"'),\n",
      " (2,\n",
      "  '0.032*\"game\" + 0.011*\"woman\" + 0.010*\"prisoner\" + 0.009*\"year\" + '\n",
      "  '0.009*\"time\" + 0.008*\"world\" + 0.008*\"case\" + 0.007*\"man\" + 0.007*\"school\" '\n",
      "  '+ 0.007*\"arm\"'),\n",
      " (3,\n",
      "  '0.025*\"people\" + 0.012*\"phone\" + 0.012*\"attack\" + 0.012*\"technology\" + '\n",
      "  '0.011*\"service\" + 0.011*\"computer\" + 0.010*\"network\" + 0.010*\"site\" + '\n",
      "  '0.009*\"software\" + 0.009*\"user\"'),\n",
      " (4,\n",
      "  '0.020*\"year\" + 0.015*\"government\" + 0.012*\"sale\" + 0.010*\"party\" + '\n",
      "  '0.009*\"election\" + 0.009*\"company\" + 0.009*\"people\" + 0.008*\"country\" + '\n",
      "  '0.008*\"plan\" + 0.007*\"labour\"')]\n"
     ]
    }
   ],
   "source": [
    "# print the keyword in the 5 topics\n",
    "from pprint import pprint\n",
    "pprint(lda_model.print_topics())\n",
    "doc_lda = lda_model[corpus]"
   ]
  },
  {
   "cell_type": "code",
   "execution_count": 21,
   "metadata": {},
   "outputs": [
    {
     "name": "stdout",
     "output_type": "stream",
     "text": [
      "\n",
      "Coherence Score:  0.4498515665457409\n"
     ]
    }
   ],
   "source": [
    "coherence_model_lda = CoherenceModel(model=lda_model, texts=data_lemmatized, dictionary=id2word, coherence='c_v')\n",
    "coherence_lda = coherence_model_lda.get_coherence()\n",
    "print('\\nCoherence Score: ', coherence_lda)"
   ]
  },
  {
   "cell_type": "code",
   "execution_count": 23,
   "metadata": {},
   "outputs": [
    {
     "name": "stderr",
     "output_type": "stream",
     "text": [
      "C:\\Users\\User\\AppData\\Roaming\\Python\\Python39\\site-packages\\pyLDAvis\\_prepare.py:246: FutureWarning: In a future version of pandas all arguments of DataFrame.drop except for the argument 'labels' will be keyword-only.\n",
      "  default_term_info = default_term_info.sort_values(\n"
     ]
    },
    {
     "data": {
      "text/html": [
       "\n",
       "<link rel=\"stylesheet\" type=\"text/css\" href=\"https://cdn.jsdelivr.net/gh/bmabey/pyLDAvis@3.3.1/pyLDAvis/js/ldavis.v1.0.0.css\">\n",
       "\n",
       "\n",
       "<div id=\"ldavis_el2641621805019689287441515156\"></div>\n",
       "<script type=\"text/javascript\">\n",
       "\n",
       "var ldavis_el2641621805019689287441515156_data = {\"mdsDat\": {\"x\": [0.18824935494715994, 0.18391690160982074, -0.12950786743759196, -0.1552978450593499, -0.08736054406003874], \"y\": [-0.07777310209599367, 0.11519491821650463, -0.1282807293202634, 0.2240512282890455, -0.1331923150892929], \"topics\": [1, 2, 3, 4, 5], \"cluster\": [1, 1, 1, 1, 1], \"Freq\": [36.05116352164945, 23.74032159436924, 14.46975687853405, 13.637092077097979, 12.101665928349284]}, \"tinfo\": {\"Term\": [\"film\", \"game\", \"player\", \"government\", \"music\", \"phone\", \"award\", \"team\", \"technology\", \"domain\", \"computer\", \"club\", \"network\", \"election\", \"site\", \"software\", \"user\", \"match\", \"side\", \"party\", \"album\", \"attack\", \"year\", \"tv\", \"time\", \"labour\", \"show\", \"goal\", \"manager\", \"people\", \"government\", \"election\", \"labour\", \"tax\", \"policy\", \"spending\", \"economy\", \"tory\", \"oil\", \"minister\", \"proposal\", \"profit\", \"worker\", \"deficit\", \"income\", \"pension\", \"argument\", \"sector\", \"employer\", \"asylum\", \"reform\", \"health\", \"immigration\", \"taxis\", \"chancellor\", \"debt\", \"airline\", \"administration\", \"economist\", \"employee\", \"party\", \"investment\", \"budget\", \"leader\", \"price\", \"growth\", \"state\", \"share\", \"plan\", \"rate\", \"bank\", \"country\", \"sale\", \"rise\", \"law\", \"age\", \"cost\", \"market\", \"company\", \"business\", \"year\", \"figure\", \"job\", \"people\", \"month\", \"firm\", \"phone\", \"technology\", \"computer\", \"network\", \"site\", \"software\", \"user\", \"mail\", \"internet\", \"pc\", \"virus\", \"search\", \"program\", \"store\", \"mobile\", \"print\", \"device\", \"spyware\", \"web\", \"net\", \"file\", \"machine\", \"content\", \"image\", \"broadband\", \"download\", \"definition\", \"blog\", \"gadget\", \"apple\", \"attack\", \"information\", \"website\", \"traffic\", \"datum\", \"camera\", \"people\", \"system\", \"service\", \"video\", \"firm\", \"tv\", \"consumer\", \"way\", \"music\", \"time\", \"number\", \"security\", \"year\", \"company\", \"month\", \"club\", \"match\", \"injury\", \"ball\", \"football\", \"parking\", \"championship\", \"souness\", \"friendly\", \"premiership\", \"striker\", \"davy\", \"final\", \"slam\", \"lion\", \"cup\", \"squad\", \"tournament\", \"gloucester\", \"league\", \"leg\", \"captain\", \"tie\", \"ebber\", \"rugby\", \"osprey\", \"chelsea\", \"goalkeeper\", \"defeat\", \"rage\", \"victory\", \"goal\", \"season\", \"tennis\", \"team\", \"side\", \"wale\", \"coach\", \"player\", \"manager\", \"champion\", \"minute\", \"chance\", \"win\", \"play\", \"game\", \"time\", \"nation\", \"boss\", \"year\", \"week\", \"lot\", \"half\", \"point\", \"world\", \"way\", \"record\", \"award\", \"domain\", \"album\", \"band\", \"dance\", \"actor\", \"ticket\", \"singer\", \"chart\", \"actress\", \"nomination\", \"oscar\", \"baby\", \"comedy\", \"presenter\", \"concert\", \"gig\", \"rock\", \"aviator\", \"drama\", \"snicket\", \"festival\", \"hotel\", \"monster\", \"brit\", \"carpet\", \"nominee\", \"murder\", \"angel\", \"academy\", \"cinema\", \"film\", \"song\", \"ceremony\", \"artist\", \"show\", \"star\", \"music\", \"night\", \"movie\", \"name\", \"director\", \"studio\", \"year\", \"number\", \"tv\", \"winner\", \"fan\", \"success\", \"event\", \"day\", \"record\", \"time\", \"week\", \"prisoner\", \"confess\", \"pupil\", \"ban\", \"student\", \"gamer\", \"relief\", \"seed\", \"roddick\", \"participant\", \"university\", \"console\", \"dilemma\", \"hunt\", \"adult\", \"playstation\", \"athletic\", \"logic\", \"protagonist\", \"opera\", \"sprinter\", \"holme\", \"gun\", \"nadal\", \"hunting\", \"tape\", \"hewitt\", \"nintendo\", \"location\", \"fish\", \"drug\", \"woman\", \"stop\", \"arm\", \"game\", \"school\", \"tsunami\", \"athlete\", \"advice\", \"developer\", \"case\", \"title\", \"police\", \"hour\", \"word\", \"man\", \"sport\", \"action\", \"book\", \"charge\", \"child\", \"test\", \"world\", \"road\", \"life\", \"time\", \"year\", \"court\", \"way\", \"people\"], \"Freq\": [1071.0, 1290.0, 781.0, 1042.0, 747.0, 548.0, 386.0, 457.0, 511.0, 340.0, 468.0, 344.0, 453.0, 618.0, 425.0, 413.0, 401.0, 295.0, 358.0, 687.0, 275.0, 589.0, 2909.0, 491.0, 1492.0, 501.0, 330.0, 276.0, 331.0, 1998.0, 1042.146816596983, 617.2974905124689, 501.16952559364506, 411.75087837887736, 367.82528252892564, 361.77713669435786, 341.65804227514406, 325.1430379964065, 305.86301193804957, 305.7676447172909, 261.7931100121984, 246.76834800493037, 229.42632571504677, 180.9374915117603, 192.40115551163504, 157.06868286917106, 182.005438064326, 155.9973628463087, 154.7252821143962, 148.85798566884853, 141.94077112362285, 142.04203799476073, 136.10468320095913, 134.98257283693263, 133.66492672017594, 131.05454324989955, 129.58024258690165, 130.76325585770252, 128.2435089044897, 122.21336798697037, 667.7142708355768, 183.9483686684884, 398.2858992028687, 367.2637801659661, 433.83945182896036, 387.6693842020033, 291.00386378650836, 314.2553901270467, 511.2543502946377, 312.231935571431, 200.09189895060527, 569.4827070555743, 776.6172351936435, 225.3235268308074, 367.99791006475755, 327.31561562969415, 304.47060030518315, 468.01932735025173, 603.4166173658404, 324.6072995321777, 1329.5029077253132, 372.96808307922674, 322.0363385926937, 589.5880251635302, 400.0510871487959, 378.53101405121805, 548.1237517459176, 510.527847464307, 467.25480875638743, 452.40277935675465, 425.0452330832693, 412.3105411859829, 400.8313729788445, 318.5055257217667, 283.8075179132094, 273.3501727343602, 253.400807252195, 220.38263789989605, 212.73162250980496, 219.9966154077642, 205.70431862172262, 215.7212096572474, 193.77568632444138, 176.98974210127176, 177.40558421097035, 180.62597891808198, 176.08130801379227, 161.34634592775302, 151.16712086187803, 143.86953923425648, 129.6730041306849, 127.19359488933193, 121.6307793295366, 119.08145000776992, 108.96724741360227, 99.07235229790086, 519.4312041321376, 378.3293201098713, 295.648034583807, 224.83140246660633, 296.41082164106456, 153.41101091999616, 1092.2861026539492, 365.63244519120383, 471.84095434706416, 221.31144769279535, 373.5207776208903, 288.316954965835, 249.59493132200626, 308.5483772464536, 284.24369439829644, 308.9770523308638, 258.63378849738024, 227.5984067306038, 277.025507760759, 242.35043811956066, 238.92081012910666, 343.3182116025297, 294.5048419904771, 178.1925047995675, 165.40248970491743, 128.57337261246226, 121.50968402425661, 92.56418786819734, 83.6424389703224, 83.23242241481168, 79.85907175651106, 74.2669172574877, 119.71081558024095, 68.95925401700646, 66.12775548348915, 65.38098324842777, 62.71588193528501, 61.41510935660364, 55.327995235367126, 54.580146097547285, 55.69340534504057, 54.392550896558845, 54.33815786074116, 48.472888856586, 47.47039315129041, 44.91033708967468, 41.14077438373787, 40.95407030403786, 40.43367751346188, 39.60191497912094, 41.15241563958006, 152.57413435299537, 266.8870094936759, 234.60698156003625, 45.2843246353541, 428.056931283288, 321.90517791613087, 252.65881910464805, 131.3787609773446, 587.2677969179827, 271.5492049305145, 97.57008532226249, 251.13752706988333, 181.341267702475, 141.11165696406445, 140.37746118987235, 535.4401827826758, 515.4261150539637, 165.6866282935503, 96.2922047992946, 568.4813731432079, 275.76227523798246, 154.5090452144863, 132.69906894992505, 152.5629370833782, 208.06382244405535, 172.5308932214619, 140.24479432724235, 385.2506444141631, 339.9092906189835, 274.7308912552105, 226.09880678669901, 220.5361474325804, 187.7515228537714, 172.24650464701983, 158.05835799253666, 179.1906707088307, 123.48180237200782, 120.87031655239656, 101.28409574672442, 99.89230914103452, 93.12726377302867, 85.98599906646888, 83.48055882279502, 77.34440936237016, 77.07988598248672, 68.58875552448485, 64.43665605398137, 58.631849310424506, 52.94569466898687, 53.35804203243199, 61.93005249621539, 46.35296223323681, 46.54257649497474, 45.276662254633926, 44.875321860494005, 43.97921092537258, 44.496431647749, 216.6149242624289, 999.5188031899212, 222.1456755728782, 83.10617941979493, 96.76419315900687, 259.24236124513175, 183.84379650119877, 462.25918837936837, 135.83067822355346, 154.08873858204296, 167.08667247367418, 215.5868632393547, 105.35338031147683, 526.8711250035956, 267.03416781077215, 202.19265471163263, 117.11741780904217, 128.34552362670365, 126.53673640120019, 129.37813107117864, 153.24328225977413, 139.68922487935458, 172.5952258519577, 145.44568286477713, 227.72501377756834, 118.0280286395998, 90.11701564355344, 81.9309835152749, 84.45892804279265, 77.1841732562253, 74.4741691932103, 64.77303893781084, 63.62811167842934, 62.149940572177805, 63.06193949452785, 59.84382152047447, 59.69308490511848, 57.09223966502718, 67.0983193790339, 45.845046519179014, 42.86084971391204, 43.47885719604289, 39.754234383105675, 37.109022467747906, 34.414832608150455, 34.52468404314721, 34.19482161795713, 33.356929553920054, 32.539312852432786, 32.44682675587653, 32.19220623007734, 31.344204136578163, 31.514131110019676, 30.970217318671885, 150.21902609043173, 240.4384008444652, 91.2351917491772, 155.9658839108092, 718.607684500027, 167.38729401134236, 92.25783479182437, 58.152515508146706, 63.521607429534775, 85.26697195003801, 173.72368848068717, 126.62877475578497, 115.8673949923258, 118.79634874262365, 113.82534285237647, 169.4582409789182, 117.99840696432246, 136.55416384652554, 116.72456958715773, 117.73372907918079, 136.24613845293217, 94.2137607521622, 188.97225694953835, 94.23928469213267, 120.28874604818601, 192.88269731100806, 207.8787020222314, 99.13414012342542, 127.20077225491704, 151.45565729509306], \"Total\": [1071.0, 1290.0, 781.0, 1042.0, 747.0, 548.0, 386.0, 457.0, 511.0, 340.0, 468.0, 344.0, 453.0, 618.0, 425.0, 413.0, 401.0, 295.0, 358.0, 687.0, 275.0, 589.0, 2909.0, 491.0, 1492.0, 501.0, 330.0, 276.0, 331.0, 1998.0, 1042.9018620849026, 618.0752294660555, 501.91650152341464, 412.49518633521836, 368.57754741174995, 362.52786873948827, 342.40204330821393, 325.88845355472444, 306.6064705447004, 306.5154128288758, 262.5483810987695, 247.53381683074252, 230.17996459867243, 181.69023795331077, 193.30164896027216, 157.81202614773915, 182.87461110197816, 156.74598575536479, 155.47194528404438, 149.60255717488383, 142.69246128858222, 142.79484452419885, 136.85011195167834, 135.72628885693965, 134.41573337500301, 131.80018161015644, 130.3267697924873, 131.5265902710159, 128.99632876032663, 122.97054834680745, 687.6097261538328, 185.91883241384014, 413.1833476809229, 393.4835973997385, 474.4761403489066, 421.14311858735226, 312.95569689302897, 341.072178097648, 592.2573306694856, 350.4665047113023, 211.03454177792665, 738.0112615979643, 1093.6955887258907, 244.76951769046414, 447.10428706283255, 387.2552815161406, 357.1891980767896, 625.6764434086447, 881.9848967457917, 394.03377207319465, 2909.7596156551067, 482.13151665297295, 407.05571844420376, 1998.6882942071627, 820.4862539457049, 752.6261541325081, 548.9062934058087, 511.31027092836604, 468.03616364792094, 453.1897886842828, 425.82795912850384, 413.1021433348543, 401.60873569404805, 319.2870982926404, 284.59572991529757, 274.13266668753096, 254.18359330326226, 221.1806822643058, 213.5112504899382, 220.8174661989607, 206.48219535379064, 216.53871128063335, 194.55539202382923, 177.76619644557422, 178.1841436299685, 181.4242375651674, 176.86691781768138, 162.1294447569847, 151.95481473324313, 144.6557896856863, 130.45002534449918, 127.98234210040127, 122.41923157696459, 119.86157741758674, 109.74500004802651, 99.85019973850744, 589.82506198711, 420.63924716794986, 336.0302233339027, 246.5949500391378, 344.16171290799474, 159.80279621708215, 1998.6882942071627, 493.7024227809133, 716.2480215129963, 279.23135848877183, 752.6261541325081, 491.1119429134524, 399.59491916285157, 776.2494400672115, 747.1021172955323, 1492.8562550063061, 834.5180211412472, 357.2675122884035, 2909.7596156551067, 881.9848967457917, 820.4862539457049, 344.07818979919404, 295.26248066827236, 178.94651504900293, 166.17174664805518, 129.3378875400666, 122.39806394367524, 93.31594598943508, 84.39260311487435, 83.9830590882471, 80.61337795866287, 75.0188157872896, 120.92706569925134, 69.71128547254447, 66.87928674640052, 66.13805149740323, 63.46755552412215, 62.169070472449924, 56.08113022275254, 55.330199976951846, 56.46238910160393, 55.14987882267735, 55.10212061434697, 49.24830035676456, 48.244236846120245, 45.66219438020569, 41.89072245647842, 41.70449262068266, 41.18380016842131, 40.357033986384145, 41.95124780063005, 155.9217748105101, 276.36975570994656, 243.50132970549137, 46.18839015010391, 457.746854418062, 358.9052093880229, 283.92828902363647, 146.1511752280643, 781.0939613421999, 331.8344080853351, 106.38789716982546, 316.2937371484948, 245.59765353187433, 191.3500562905742, 191.22763476429736, 1290.3617469442395, 1492.8562550063061, 300.06325974027, 123.38521685117233, 2909.7596156551067, 829.9270113939967, 306.3371446039335, 239.22005955603586, 339.5803186932772, 884.0627806253872, 776.2494400672115, 482.66443248282536, 386.0206073384021, 340.7043012085327, 275.5016855915841, 226.8820837395046, 221.31834755966887, 188.5209416365331, 173.02819897514738, 158.83024181972982, 180.16342269539595, 124.25026194946116, 121.63906581610816, 102.05210049916364, 100.66943290301846, 93.89831005321845, 86.76587414633327, 84.25072064698712, 78.11507582649136, 77.85538419520377, 69.35630967212971, 65.20832703064421, 59.39930803395638, 53.71483655246676, 54.1370044719444, 62.87436659405616, 47.12325687310537, 47.31880136934693, 46.044795834114566, 45.65594754338598, 44.74994663514095, 45.279753908936975, 224.55685320205131, 1071.4712578561196, 238.81984427626367, 88.2235331848292, 105.03346087622283, 330.2847847856531, 235.45489391617016, 747.1021172955323, 171.26867619407795, 220.75618210596488, 269.7391865173948, 399.40090851359327, 137.05558153845857, 2909.7596156551067, 834.5180211412472, 491.1119429134524, 191.46915053780276, 246.21791061657814, 238.81645775316426, 277.5242210811722, 653.3899776841462, 482.66443248282536, 1492.8562550063061, 829.9270113939967, 228.50265765161802, 118.79723017637491, 90.88410437500765, 82.69865597428347, 85.267052728098, 77.9459681826517, 75.25884504651131, 65.54413878138045, 64.39719789286097, 62.9144870438319, 63.84151713685274, 60.604620148034506, 60.461366423322886, 57.85141066449533, 68.13902490577385, 46.61224530635432, 43.625249494883285, 44.261479271002315, 40.52226136784102, 37.8955559223175, 35.175513843685486, 35.29882150729813, 34.964689305667385, 34.133213634991215, 33.29713138978479, 33.219209954148546, 32.9592843873558, 32.10976709287403, 32.313845675625615, 31.766742159266364, 154.55406713321486, 282.9050983961713, 110.9091950730679, 208.3851947770078, 1290.3617469442395, 247.4621325605329, 121.94395046832335, 68.57236428972692, 77.87483627059333, 123.2507235886735, 341.2746011437072, 224.5635352226622, 197.6857589451555, 207.62375579970376, 195.71009562582972, 366.7256297052981, 224.16081691514415, 296.77666928664996, 230.2688698049731, 244.4436902505044, 333.9614058252033, 157.87119206010516, 884.0627806253872, 175.01608311511018, 360.5119884841359, 1492.8562550063061, 2909.7596156551067, 212.45753016908597, 776.2494400672115, 1998.6882942071627], \"Category\": [\"Default\", \"Default\", \"Default\", \"Default\", \"Default\", \"Default\", \"Default\", \"Default\", \"Default\", \"Default\", \"Default\", \"Default\", \"Default\", \"Default\", \"Default\", \"Default\", \"Default\", \"Default\", \"Default\", \"Default\", \"Default\", \"Default\", \"Default\", \"Default\", \"Default\", \"Default\", \"Default\", \"Default\", \"Default\", \"Default\", \"Topic1\", \"Topic1\", \"Topic1\", \"Topic1\", \"Topic1\", \"Topic1\", \"Topic1\", \"Topic1\", \"Topic1\", \"Topic1\", \"Topic1\", \"Topic1\", \"Topic1\", \"Topic1\", \"Topic1\", \"Topic1\", \"Topic1\", \"Topic1\", \"Topic1\", \"Topic1\", \"Topic1\", \"Topic1\", \"Topic1\", \"Topic1\", \"Topic1\", \"Topic1\", \"Topic1\", \"Topic1\", \"Topic1\", \"Topic1\", \"Topic1\", \"Topic1\", \"Topic1\", \"Topic1\", \"Topic1\", \"Topic1\", \"Topic1\", \"Topic1\", \"Topic1\", \"Topic1\", \"Topic1\", \"Topic1\", \"Topic1\", \"Topic1\", \"Topic1\", \"Topic1\", \"Topic1\", \"Topic1\", \"Topic1\", \"Topic1\", \"Topic1\", \"Topic1\", \"Topic1\", \"Topic1\", \"Topic1\", \"Topic1\", \"Topic2\", \"Topic2\", \"Topic2\", \"Topic2\", \"Topic2\", \"Topic2\", \"Topic2\", \"Topic2\", \"Topic2\", \"Topic2\", \"Topic2\", \"Topic2\", \"Topic2\", \"Topic2\", \"Topic2\", \"Topic2\", \"Topic2\", \"Topic2\", \"Topic2\", \"Topic2\", \"Topic2\", \"Topic2\", \"Topic2\", \"Topic2\", \"Topic2\", \"Topic2\", \"Topic2\", \"Topic2\", \"Topic2\", \"Topic2\", \"Topic2\", \"Topic2\", \"Topic2\", \"Topic2\", \"Topic2\", \"Topic2\", \"Topic2\", \"Topic2\", \"Topic2\", \"Topic2\", \"Topic2\", \"Topic2\", \"Topic2\", \"Topic2\", \"Topic2\", \"Topic2\", \"Topic2\", \"Topic2\", \"Topic2\", \"Topic2\", \"Topic2\", \"Topic3\", \"Topic3\", \"Topic3\", \"Topic3\", \"Topic3\", \"Topic3\", \"Topic3\", \"Topic3\", \"Topic3\", \"Topic3\", \"Topic3\", \"Topic3\", \"Topic3\", \"Topic3\", \"Topic3\", \"Topic3\", \"Topic3\", \"Topic3\", \"Topic3\", \"Topic3\", \"Topic3\", \"Topic3\", \"Topic3\", \"Topic3\", \"Topic3\", \"Topic3\", \"Topic3\", \"Topic3\", \"Topic3\", \"Topic3\", \"Topic3\", \"Topic3\", \"Topic3\", \"Topic3\", \"Topic3\", \"Topic3\", \"Topic3\", \"Topic3\", \"Topic3\", \"Topic3\", \"Topic3\", \"Topic3\", \"Topic3\", \"Topic3\", \"Topic3\", \"Topic3\", \"Topic3\", \"Topic3\", \"Topic3\", \"Topic3\", \"Topic3\", \"Topic3\", \"Topic3\", \"Topic3\", \"Topic3\", \"Topic3\", \"Topic3\", \"Topic4\", \"Topic4\", \"Topic4\", \"Topic4\", \"Topic4\", \"Topic4\", \"Topic4\", \"Topic4\", \"Topic4\", \"Topic4\", \"Topic4\", \"Topic4\", \"Topic4\", \"Topic4\", \"Topic4\", \"Topic4\", \"Topic4\", \"Topic4\", \"Topic4\", \"Topic4\", \"Topic4\", \"Topic4\", \"Topic4\", \"Topic4\", \"Topic4\", \"Topic4\", \"Topic4\", \"Topic4\", \"Topic4\", \"Topic4\", \"Topic4\", \"Topic4\", \"Topic4\", \"Topic4\", \"Topic4\", \"Topic4\", \"Topic4\", \"Topic4\", \"Topic4\", \"Topic4\", \"Topic4\", \"Topic4\", \"Topic4\", \"Topic4\", \"Topic4\", \"Topic4\", \"Topic4\", \"Topic4\", \"Topic4\", \"Topic4\", \"Topic4\", \"Topic4\", \"Topic4\", \"Topic4\", \"Topic5\", \"Topic5\", \"Topic5\", \"Topic5\", \"Topic5\", \"Topic5\", \"Topic5\", \"Topic5\", \"Topic5\", \"Topic5\", \"Topic5\", \"Topic5\", \"Topic5\", \"Topic5\", \"Topic5\", \"Topic5\", \"Topic5\", \"Topic5\", \"Topic5\", \"Topic5\", \"Topic5\", \"Topic5\", \"Topic5\", \"Topic5\", \"Topic5\", \"Topic5\", \"Topic5\", \"Topic5\", \"Topic5\", \"Topic5\", \"Topic5\", \"Topic5\", \"Topic5\", \"Topic5\", \"Topic5\", \"Topic5\", \"Topic5\", \"Topic5\", \"Topic5\", \"Topic5\", \"Topic5\", \"Topic5\", \"Topic5\", \"Topic5\", \"Topic5\", \"Topic5\", \"Topic5\", \"Topic5\", \"Topic5\", \"Topic5\", \"Topic5\", \"Topic5\", \"Topic5\", \"Topic5\", \"Topic5\", \"Topic5\", \"Topic5\", \"Topic5\", \"Topic5\", \"Topic5\"], \"logprob\": [30.0, 29.0, 28.0, 27.0, 26.0, 25.0, 24.0, 23.0, 22.0, 21.0, 20.0, 19.0, 18.0, 17.0, 16.0, 15.0, 14.0, 13.0, 12.0, 11.0, 10.0, 9.0, 8.0, 7.0, 6.0, 5.0, 4.0, 3.0, 2.0, 1.0, -4.1692, -4.6929, -4.9013, -5.0978, -5.2107, -5.2272, -5.2844, -5.334, -5.3951, -5.3954, -5.5507, -5.6098, -5.6827, -5.9201, -5.8587, -6.0616, -5.9142, -6.0684, -6.0766, -6.1153, -6.1628, -6.1621, -6.2048, -6.2131, -6.2229, -6.2426, -6.254, -6.2449, -6.2643, -6.3125, -4.6144, -5.9036, -5.1311, -5.2122, -5.0456, -5.1581, -5.4449, -5.3681, -4.8814, -5.3745, -5.8195, -4.7735, -4.4633, -5.7007, -5.2102, -5.3273, -5.3997, -4.9697, -4.7157, -5.3356, -3.9257, -5.1968, -5.3436, -4.7388, -5.1267, -5.182, -4.394, -4.465, -4.5536, -4.5859, -4.6483, -4.6787, -4.707, -4.9369, -5.0522, -5.0897, -5.1655, -5.3051, -5.3405, -5.3069, -5.3741, -5.3265, -5.4338, -5.5244, -5.5221, -5.5041, -5.5295, -5.6169, -5.6821, -5.7316, -5.8355, -5.8548, -5.8995, -5.9207, -6.0094, -6.1046, -4.4478, -4.7647, -5.0113, -5.2851, -5.0087, -5.6674, -3.7045, -4.7989, -4.5439, -5.3009, -4.7775, -5.0364, -5.1807, -4.9686, -5.0507, -4.9672, -5.1451, -5.2729, -5.0764, -5.2101, -5.2244, -4.3667, -4.5201, -5.0225, -5.097, -5.3489, -5.4054, -5.6775, -5.7788, -5.7837, -5.8251, -5.8977, -5.4203, -5.9719, -6.0138, -6.0251, -6.0668, -6.0877, -6.1921, -6.2057, -6.1855, -6.2092, -6.2102, -6.3244, -6.3453, -6.4007, -6.4884, -6.4929, -6.5057, -6.5265, -6.4881, -5.1777, -4.6186, -4.7475, -6.3924, -4.1461, -4.4311, -4.6733, -5.3273, -3.8299, -4.6012, -5.6248, -4.6794, -5.005, -5.2558, -5.261, -3.9223, -3.9604, -5.0953, -5.638, -3.8624, -4.5858, -5.1651, -5.3173, -5.1778, -4.8675, -5.0548, -5.262, -4.1922, -4.3174, -4.5303, -4.7251, -4.7501, -4.911, -4.9972, -5.0831, -4.9577, -5.33, -5.3514, -5.5282, -5.542, -5.6121, -5.6919, -5.7215, -5.7978, -5.8013, -5.918, -5.9804, -6.0748, -6.1768, -6.1691, -6.0201, -6.3098, -6.3057, -6.3333, -6.3422, -6.3624, -6.3507, -4.768, -3.2388, -4.7428, -5.726, -5.5738, -4.5883, -4.932, -4.01, -5.2347, -5.1086, -5.0276, -4.7727, -5.4888, -3.8792, -4.5587, -4.8369, -5.3829, -5.2914, -5.3056, -5.2834, -5.1141, -5.2067, -4.9952, -5.1663, -4.5985, -5.2557, -5.5256, -5.6208, -5.5904, -5.6805, -5.7162, -5.8558, -5.8736, -5.8971, -5.8825, -5.9349, -5.9374, -5.982, -5.8205, -6.2014, -6.2687, -6.2544, -6.3439, -6.4128, -6.4882, -6.485, -6.4946, -6.5194, -6.5442, -6.5471, -6.5549, -6.5816, -6.5762, -6.5936, -5.0146, -4.5442, -5.5132, -4.977, -3.4493, -4.9064, -5.5021, -5.9636, -5.8753, -5.5809, -4.8692, -5.1854, -5.2742, -5.2493, -5.292, -4.8941, -5.256, -5.1099, -5.2668, -5.2582, -5.1122, -5.4811, -4.7851, -5.4808, -5.2368, -4.7646, -4.6897, -5.4302, -5.1809, -5.0064], \"loglift\": [30.0, 29.0, 28.0, 27.0, 26.0, 25.0, 24.0, 23.0, 22.0, 21.0, 20.0, 19.0, 18.0, 17.0, 16.0, 15.0, 14.0, 13.0, 12.0, 11.0, 10.0, 9.0, 8.0, 7.0, 6.0, 5.0, 4.0, 3.0, 2.0, 1.0, 1.0195, 1.019, 1.0187, 1.0184, 1.0182, 1.0182, 1.0181, 1.0179, 1.0178, 1.0178, 1.0174, 1.0171, 1.017, 1.0161, 1.0156, 1.0155, 1.0155, 1.0154, 1.0154, 1.0152, 1.0149, 1.0149, 1.0148, 1.0147, 1.0146, 1.0146, 1.0145, 1.0144, 1.0144, 1.0141, 0.9909, 1.0096, 0.9835, 0.9513, 0.9307, 0.9374, 0.9475, 0.9383, 0.8732, 0.9047, 0.967, 0.761, 0.6779, 0.9375, 0.8255, 0.8521, 0.8605, 0.7299, 0.6407, 0.8264, 0.237, 0.7635, 0.7859, -0.2006, 0.3019, 0.333, 1.4366, 1.4365, 1.4363, 1.4363, 1.4362, 1.4361, 1.4361, 1.4355, 1.4352, 1.4351, 1.4349, 1.4344, 1.4343, 1.4343, 1.4342, 1.4342, 1.434, 1.4336, 1.4336, 1.4336, 1.4335, 1.4332, 1.4328, 1.4325, 1.432, 1.4318, 1.4315, 1.4315, 1.4309, 1.4302, 1.3109, 1.332, 1.31, 1.3456, 1.2886, 1.3972, 0.8338, 1.1377, 1.0206, 1.2055, 0.7374, 0.9054, 0.9674, 0.5154, 0.4716, -0.1372, 0.2666, 0.9871, -0.9137, 0.1462, 0.2042, 1.9309, 1.9305, 1.9289, 1.9285, 1.9272, 1.9258, 1.925, 1.9242, 1.9241, 1.9237, 1.923, 1.923, 1.9223, 1.9218, 1.9216, 1.9212, 1.9209, 1.9196, 1.9195, 1.9194, 1.9193, 1.9191, 1.9172, 1.9169, 1.9165, 1.915, 1.915, 1.9147, 1.9142, 1.9139, 1.9114, 1.8982, 1.8959, 1.9133, 1.866, 1.8243, 1.8164, 1.8266, 1.6479, 1.7326, 1.8466, 1.7024, 1.6298, 1.6286, 1.624, 1.0535, 0.8697, 1.3392, 1.6852, 0.3003, 0.8313, 1.2487, 1.3438, 1.133, 0.4864, 0.4292, 0.6972, 1.9904, 1.99, 1.9896, 1.9889, 1.9888, 1.9883, 1.9878, 1.9875, 1.987, 1.9862, 1.986, 1.9848, 1.9846, 1.9841, 1.9833, 1.9832, 1.9825, 1.9824, 1.9812, 1.9805, 1.9794, 1.978, 1.9779, 1.9772, 1.9759, 1.9758, 1.9756, 1.9751, 1.975, 1.9749, 1.9564, 1.9229, 1.92, 1.9326, 1.9104, 1.7502, 1.7449, 1.5123, 1.7606, 1.6328, 1.5134, 1.3758, 1.7293, 0.2835, 0.8529, 1.1049, 1.5008, 1.3409, 1.3572, 1.2292, 0.5422, 0.7525, -0.1651, 0.2508, 2.1084, 2.1053, 2.1034, 2.1025, 2.1023, 2.102, 2.1013, 2.1, 2.0998, 2.0996, 2.0995, 2.0992, 2.099, 2.0986, 2.0964, 2.0952, 2.0941, 2.094, 2.0927, 2.0909, 2.09, 2.0897, 2.0896, 2.0888, 2.0888, 2.0883, 2.0883, 2.0877, 2.0868, 2.0864, 2.0834, 1.9492, 1.9166, 1.8221, 1.5265, 1.7209, 1.8329, 1.947, 1.9081, 1.7434, 1.4366, 1.5389, 1.5776, 1.5535, 1.5699, 1.3398, 1.4701, 1.3356, 1.4324, 1.3813, 1.2153, 1.5956, 0.5689, 1.4928, 1.0142, 0.0655, -0.527, 1.3496, 0.3031, -0.4681]}, \"token.table\": {\"Topic\": [4, 1, 2, 3, 4, 5, 4, 4, 1, 5, 1, 2, 5, 1, 2, 4, 5, 1, 4, 4, 2, 1, 1, 3, 5, 4, 5, 1, 3, 5, 5, 1, 2, 3, 4, 4, 4, 4, 3, 5, 4, 1, 2, 2, 1, 2, 4, 5, 1, 3, 5, 4, 2, 1, 4, 1, 2, 5, 2, 4, 3, 4, 1, 2, 5, 4, 5, 3, 5, 3, 1, 2, 3, 4, 5, 1, 1, 2, 3, 5, 4, 3, 1, 4, 5, 2, 4, 3, 3, 5, 4, 1, 2, 4, 5, 2, 4, 5, 5, 1, 2, 2, 1, 2, 4, 1, 2, 3, 4, 5, 1, 4, 5, 3, 4, 1, 2, 3, 5, 1, 2, 3, 4, 5, 1, 3, 1, 2, 2, 5, 2, 5, 1, 2, 3, 4, 5, 4, 2, 4, 4, 5, 3, 1, 1, 1, 1, 1, 2, 3, 4, 5, 2, 3, 4, 5, 4, 1, 2, 4, 5, 2, 2, 4, 3, 1, 2, 5, 3, 3, 2, 2, 3, 5, 5, 4, 3, 2, 3, 5, 3, 1, 1, 2, 5, 1, 2, 3, 5, 1, 5, 5, 4, 1, 2, 3, 4, 5, 5, 5, 2, 1, 1, 1, 2, 5, 3, 2, 1, 2, 1, 2, 3, 1, 1, 2, 5, 1, 2, 3, 3, 3, 1, 2, 3, 4, 5, 3, 5, 5, 1, 2, 3, 4, 5, 2, 2, 1, 2, 3, 4, 5, 1, 2, 3, 1, 2, 3, 1, 2, 3, 4, 2, 4, 1, 2, 3, 4, 5, 2, 4, 4, 2, 4, 5, 1, 2, 3, 4, 1, 2, 3, 2, 2, 3, 4, 5, 5, 4, 4, 1, 2, 3, 4, 5, 1, 5, 4, 3, 3, 5, 1, 2, 5, 2, 1, 1, 2, 3, 4, 5, 2, 1, 2, 3, 4, 2, 3, 4, 5, 2, 3, 5, 5, 1, 2, 3, 4, 5, 1, 4, 5, 1, 3, 4, 1, 2, 3, 2, 5, 1, 2, 1, 5, 5, 3, 1, 2, 1, 2, 3, 4, 5, 1, 5, 1, 2, 3, 4, 5, 4, 5, 3, 1, 2, 3, 4, 5, 1, 4, 5, 2, 3, 4, 1, 1, 2, 5, 1, 2, 5, 1, 2, 2, 4, 1, 2, 3, 4, 5, 4, 2, 3, 4, 2, 2, 4, 3, 1, 2, 3, 5, 5, 2, 3, 3, 4, 1, 2, 4, 2, 5, 2, 3, 5, 2, 4, 2, 3, 4, 5, 1, 2, 4, 5, 1, 1, 2, 3, 5, 2, 3, 1, 2, 3, 5, 4, 3, 1, 2, 3, 4, 5, 3, 4, 5, 1, 3, 2, 3, 1, 2, 5, 2, 4, 5, 2, 3, 4, 2, 4, 5, 2, 1, 3, 5, 1, 2, 3, 4, 5, 2, 2, 3, 4, 1, 2, 3, 4, 5, 3, 4, 3, 4, 1, 2, 4, 5, 1, 2, 3, 4, 5, 1, 1, 2, 3, 4, 5, 1, 2, 3, 4, 5], \"Freq\": [0.9717367300292595, 0.283041117086149, 0.1010861132450532, 0.11119472456955852, 0.04380398240618972, 0.4616265838190763, 0.9972366908842547, 0.9899375507959114, 0.9959963208205213, 0.9832838097206563, 0.1669345403800096, 0.01284111849076997, 0.8218315834092781, 0.8444042356756619, 0.02582275950078477, 0.08263283040251126, 0.046480967101412585, 0.9974926886240822, 0.9981790108089291, 0.9832413959896873, 0.9914852474934053, 0.9952174274126525, 0.1919522163885196, 0.057585664916555875, 0.7486136439152263, 0.9235152225852112, 0.0761662039245535, 0.9959722802453207, 0.14583134333459372, 0.8458217913406435, 0.9856677153225996, 0.0474717027209195, 0.8799219182913293, 0.04238544885796384, 0.02882210522341541, 0.9948626206640159, 0.9973560806884401, 0.9933501870059865, 0.9929485807804808, 0.9915517856239316, 0.9961121489852087, 0.9477121532571744, 0.04738560766285872, 0.9928118965547643, 0.1433107307468415, 0.00868549883314191, 0.3387344544925345, 0.5081016817388017, 0.17019867157449073, 0.7780510700548148, 0.04862819187842592, 0.9761634286838429, 0.99655020883813, 0.9632527599039443, 0.03388326291119402, 0.8248023977488632, 0.17003618661284256, 0.005075707063069927, 0.9574300551797543, 0.03754627667371586, 0.9799985807794843, 0.9932626913590114, 0.4629702868906668, 0.02637172520263292, 0.5098533539175698, 0.9407920653791337, 0.05667422080597191, 0.9211574117642726, 0.07519652340932836, 0.9966142336544405, 0.13436610458380122, 0.036645301250127604, 0.7369777251414551, 0.08143400277806134, 0.008143400277806134, 0.9969071077874256, 0.32727373702310125, 0.016363686851155062, 0.17181871193712817, 0.48272876210907434, 0.9935424034579818, 0.9831075124905542, 0.2904527239017857, 0.2994357978368925, 0.40723268505817384, 0.03117250665113994, 0.9663477061853382, 0.9968664395734491, 0.8963321697247979, 0.09579122424539825, 0.990433160589266, 0.6836851767245153, 0.2743811157003859, 0.036281800423191526, 0.004535225052898941, 0.997786146181857, 0.9851547780555174, 0.9932891518161553, 0.9900235304411175, 0.37287761394002183, 0.6256335804362783, 0.9937164562049626, 0.8510895672008681, 0.13438256324224235, 0.011198546936853527, 0.7709909449999232, 0.08807453677503516, 0.06910463654656604, 0.06910463654656604, 0.0027099857469241586, 0.5083368893258213, 0.023534115246565804, 0.4659754818820029, 0.9926331568899885, 0.998561585321872, 0.13656370896946513, 0.8600608054247165, 0.992333679032972, 0.008269447325274766, 0.30609591029980804, 0.17294418931939157, 0.14998699604690596, 0.23416337137935317, 0.13774315963491363, 0.9939288277119128, 0.9911531162943094, 0.9962010179463349, 0.9965754434857645, 0.3002010773054823, 0.6896511235396214, 0.997145327004038, 0.9923692359168231, 0.24787124387983364, 0.13019499678536717, 0.06509749839268358, 0.5408099866469097, 0.017526249567260965, 0.9979328079920494, 0.992324393472729, 0.9814697434259222, 0.025880910636614164, 0.9705341488730311, 0.9742096273573803, 0.9922763014273236, 0.9988258151022421, 0.9982603582625624, 0.9921074732132587, 0.9969644344310342, 0.11170196200976962, 0.18016445485446714, 0.4648242935245252, 0.2378170804078966, 0.032491543689760115, 0.34116120874248124, 0.5198646990361618, 0.10559751699172037, 0.9866920091664334, 0.7736478266125811, 0.18459693450005288, 0.014518860016858091, 0.02488947431461387, 0.9950984738786762, 0.06626402666373166, 0.9332961501934035, 0.9897966955031318, 0.5035700631967048, 0.4969266586690438, 0.9758633681911034, 0.9973875594654202, 0.9882945548909556, 0.9932115353984192, 0.027899153152403294, 0.41461241490377115, 0.5572080865716103, 0.9878637958484908, 0.9857252161033785, 0.9940321925984472, 0.018091704669911716, 0.9660970293732856, 0.014473363735929373, 0.9712556839441685, 0.9991352378227615, 0.9213020060768776, 0.07835816031066227, 0.9724096131032682, 0.23409408100612206, 0.16721005786151574, 0.5559734423895398, 0.041802514465378936, 0.9944336609150889, 0.9708948660389055, 0.9915345188723553, 0.9789976471170725, 0.09151168625583214, 0.22637101336969004, 0.07706247263649023, 0.033714831778464474, 0.573152140233896, 0.9852828020144051, 0.9910763667204093, 0.9954665507193924, 0.9937880068963443, 0.9932662294022143, 0.07607468921515843, 0.898632266354059, 0.02139600634176331, 0.9947106259725498, 0.997906750338542, 0.9896791928556814, 0.005378691265520008, 0.7910464966091305, 0.05158998890929112, 0.15722663286641103, 0.9981739960319438, 0.8230741924160618, 0.08722797147887612, 0.08946458613218064, 0.9326945326952627, 0.012707009982224286, 0.05336944192534201, 0.9918106706258591, 0.9791499302042976, 0.15810847300715564, 0.16920380444625427, 0.06379815577481718, 0.27738328597746603, 0.33285994317295925, 0.9827927876368129, 0.9902875789289807, 0.9714993874633384, 0.08160943078686315, 0.24156391512911493, 0.5059784708785515, 0.05875879016654147, 0.11425320310160841, 0.9930336851601655, 0.999100814614259, 0.07907819266219406, 0.027268342297308297, 0.2099662356892739, 0.2208735726081972, 0.4608349848245102, 0.06027102528456532, 0.12054205056913064, 0.8196859438700884, 0.7479904428723038, 0.2509284178011788, 0.9991110260007358, 0.998318476633462, 0.11065663302580052, 0.7935661396993123, 0.0948485425935433, 0.9976647121900053, 0.986093432961298, 0.4875157847878701, 0.2912906814107524, 0.12187894619696753, 0.07678373610408953, 0.021938210315454156, 0.29897237472751464, 0.6976022076975342, 0.9856328128386199, 0.3801354505968529, 0.6183893597737536, 0.9668002653629567, 0.12604768494698276, 0.2001933819746197, 0.051901987919345846, 0.6191165701807683, 0.4332419774167819, 0.013330522382054826, 0.5532166788552753, 0.9976616268539367, 0.9973746348351382, 0.04671023433925871, 0.794073983767398, 0.15764704089499812, 0.9654383325277898, 0.9947462123963178, 0.9773091439501947, 0.2085035860124936, 0.3103587860760681, 0.10545008947758297, 0.3199451578467574, 0.0563199341528, 0.9980219903917129, 0.9763677850734448, 0.9896905551770366, 0.9787369994059228, 0.9967477921557777, 0.9854646030381717, 0.9714813135882757, 0.013088820093255212, 0.014543133436950236, 0.9958681805374839, 0.994854472326596, 0.29519360357991214, 0.5463583306936679, 0.027017719649686873, 0.055536423724356354, 0.07554954939079107, 0.9983489105213471, 0.8628006333368089, 0.07935739680397264, 0.030392194520670372, 0.027015284018373664, 0.026146848525124944, 0.7321117587034984, 0.14642235174069967, 0.0941286546904498, 0.24196832820884973, 0.7515100987227237, 0.006401278524043643, 0.986865140215186, 0.30037076469125573, 0.08245471971916825, 0.4505561470368836, 0.023558491348333783, 0.1413509480900027, 0.3743314662364223, 0.040468266620153764, 0.5867898659922296, 0.998433036912298, 0.9923911145495306, 0.9911730947925264, 0.9146929910550562, 0.07165797625776937, 0.01475311275895252, 0.9975121710226899, 0.9978002109175274, 0.9978434589763243, 0.997605510300909, 0.9979113141110431, 0.9871117417880462, 0.9902721781648456, 0.9773249223682028, 0.8902419940445117, 0.10842690953106231, 0.3190622503668318, 0.07044231501605377, 0.2900565912425743, 0.2900565912425743, 0.03107749191884725, 0.9951471767861528, 0.9832731282850099, 0.9192321091408747, 0.07762404477189609, 0.2856880299801613, 0.1714128179880968, 0.5370934963627033, 0.9890131658324478, 0.9938320624831876, 0.9854979729030993, 0.710435342347108, 0.13806401118972111, 0.03474458559741326, 0.10057643199251207, 0.01737229279870663, 0.23033827200231113, 0.09294351326409046, 0.6748507267436133, 0.9946619105600962, 0.9650871323135134, 0.03285403003620471, 0.9952407983415342, 0.3610739727598433, 0.6381772541801882, 0.9916981321061308, 0.28760986950420797, 0.6589896039125542, 0.05305424777262089, 0.9206262491164046, 0.07623019897142203, 0.21193831270619481, 0.7841717570129209, 0.02507625903604491, 0.0278625100400499, 0.8971728232896068, 0.01393125502002495, 0.03900751405606986, 0.9947727724253411, 0.998055648740871, 0.9868526297277259, 0.9932775642145846, 0.9973320319135673, 0.06699610766637722, 0.9295709938709839, 0.9953478966119822, 0.9985439223160314, 0.2096708989858464, 0.2632038944715944, 0.5264077889431888, 0.9665814734389017, 0.9956898642098764, 0.9811953039740557, 0.21660199604157607, 0.7814660249343136, 0.9298440734231669, 0.044734766418983975, 0.025562723667990842, 0.1713113145170934, 0.8204910326871315, 0.996298000275829, 0.9864191966162412, 0.9851401838393734, 0.22618560770763813, 0.7661125422355485, 0.30986139186640504, 0.1591180120395053, 0.531789145500452, 0.004187316106302771, 0.2531889539773847, 0.7413372572457825, 0.0040510232636381555, 0.9632980448411812, 0.9987995342694352, 0.9946488711725907, 0.015292295146187662, 0.9350146175097599, 0.04806149903087551, 0.9993931846356172, 0.9742708038482861, 0.0886798903416773, 0.09501416822322567, 0.22169972585419323, 0.5954221208655475, 0.9940576219296193, 0.9746529251218494, 0.20296662788790745, 0.20698576903420265, 0.34497628172367106, 0.11588523638484484, 0.12928237353916217, 0.35624661822622866, 0.08015548910090145, 0.565541506434138, 0.9972737495144938, 0.9807220321976693, 0.9124274441317212, 0.08515989478562731, 0.19681173119148979, 0.041002443998227035, 0.7544449695673775, 0.586424346130702, 0.4113115205500063, 0.986818653838554, 0.9984842568401904, 0.9812612778807778, 0.01924041721334858, 0.7914583848894129, 0.06088141422226253, 0.14683164606545668, 0.9953435495663556, 0.10566048245197068, 0.8910700686782861, 0.003522016081732356, 0.16489544905683556, 0.3980679199887671, 0.22286650536587932, 0.05152982783026111, 0.16360720336107903, 0.9933543826861071, 0.8808731460618472, 0.05356661023349071, 0.062494378605739156, 0.325329813698305, 0.08795954222213431, 0.3325593651138229, 0.17471415920834898, 0.07952506557069677, 0.7368693938918145, 0.26130120350773567, 0.38648523687574304, 0.6110644961413775, 0.028278034031034162, 0.0353475425387927, 0.08836885634698176, 0.8483410209310248, 0.04598638599209894, 0.3116855050575595, 0.04087678754853239, 0.020438393774266195, 0.5824942225665866, 0.994873730210491, 0.269211650140546, 0.15157294587745027, 0.23527740852619147, 0.1300812595216924, 0.2137857221704336, 0.45708243142984245, 0.09519686729779425, 0.1952051286106395, 0.18111461756656164, 0.07148356822361446], \"Term\": [\"academy\", \"action\", \"action\", \"action\", \"action\", \"action\", \"actor\", \"actress\", \"administration\", \"adult\", \"advice\", \"advice\", \"advice\", \"age\", \"age\", \"age\", \"age\", \"airline\", \"album\", \"angel\", \"apple\", \"argument\", \"arm\", \"arm\", \"arm\", \"artist\", \"artist\", \"asylum\", \"athlete\", \"athlete\", \"athletic\", \"attack\", \"attack\", \"attack\", \"attack\", \"aviator\", \"award\", \"baby\", \"ball\", \"ban\", \"band\", \"bank\", \"bank\", \"blog\", \"book\", \"book\", \"book\", \"book\", \"boss\", \"boss\", \"boss\", \"brit\", \"broadband\", \"budget\", \"budget\", \"business\", \"business\", \"business\", \"camera\", \"camera\", \"captain\", \"carpet\", \"case\", \"case\", \"case\", \"ceremony\", \"ceremony\", \"champion\", \"champion\", \"championship\", \"chance\", \"chance\", \"chance\", \"chance\", \"chance\", \"chancellor\", \"charge\", \"charge\", \"charge\", \"charge\", \"chart\", \"chelsea\", \"child\", \"child\", \"child\", \"cinema\", \"cinema\", \"club\", \"coach\", \"coach\", \"comedy\", \"company\", \"company\", \"company\", \"company\", \"computer\", \"concert\", \"confess\", \"console\", \"consumer\", \"consumer\", \"content\", \"cost\", \"cost\", \"cost\", \"country\", \"country\", \"country\", \"country\", \"country\", \"court\", \"court\", \"court\", \"cup\", \"dance\", \"datum\", \"datum\", \"davy\", \"davy\", \"day\", \"day\", \"day\", \"day\", \"day\", \"debt\", \"defeat\", \"deficit\", \"definition\", \"developer\", \"developer\", \"device\", \"dilemma\", \"director\", \"director\", \"director\", \"director\", \"director\", \"domain\", \"download\", \"drama\", \"drug\", \"drug\", \"ebber\", \"economist\", \"economy\", \"election\", \"employee\", \"employer\", \"event\", \"event\", \"event\", \"event\", \"fan\", \"fan\", \"fan\", \"fan\", \"festival\", \"figure\", \"figure\", \"figure\", \"figure\", \"file\", \"film\", \"film\", \"final\", \"firm\", \"firm\", \"fish\", \"football\", \"friendly\", \"gadget\", \"game\", \"game\", \"game\", \"gamer\", \"gig\", \"gloucester\", \"goal\", \"goal\", \"goal\", \"goalkeeper\", \"government\", \"growth\", \"growth\", \"gun\", \"half\", \"half\", \"half\", \"half\", \"health\", \"hewitt\", \"holme\", \"hotel\", \"hour\", \"hour\", \"hour\", \"hour\", \"hour\", \"hunt\", \"hunting\", \"image\", \"immigration\", \"income\", \"information\", \"information\", \"information\", \"injury\", \"internet\", \"investment\", \"investment\", \"job\", \"job\", \"job\", \"labour\", \"law\", \"law\", \"law\", \"leader\", \"leader\", \"leader\", \"league\", \"leg\", \"life\", \"life\", \"life\", \"life\", \"life\", \"lion\", \"location\", \"logic\", \"lot\", \"lot\", \"lot\", \"lot\", \"lot\", \"machine\", \"mail\", \"man\", \"man\", \"man\", \"man\", \"man\", \"manager\", \"manager\", \"manager\", \"market\", \"market\", \"match\", \"minister\", \"minute\", \"minute\", \"minute\", \"mobile\", \"monster\", \"month\", \"month\", \"month\", \"month\", \"month\", \"movie\", \"movie\", \"murder\", \"music\", \"music\", \"nadal\", \"name\", \"name\", \"name\", \"name\", \"nation\", \"nation\", \"nation\", \"net\", \"network\", \"night\", \"night\", \"night\", \"nintendo\", \"nomination\", \"nominee\", \"number\", \"number\", \"number\", \"number\", \"number\", \"oil\", \"opera\", \"oscar\", \"osprey\", \"parking\", \"participant\", \"party\", \"party\", \"party\", \"pc\", \"pension\", \"people\", \"people\", \"people\", \"people\", \"people\", \"phone\", \"plan\", \"plan\", \"plan\", \"plan\", \"play\", \"play\", \"play\", \"play\", \"player\", \"player\", \"player\", \"playstation\", \"point\", \"point\", \"point\", \"point\", \"point\", \"police\", \"police\", \"police\", \"policy\", \"premiership\", \"presenter\", \"price\", \"price\", \"price\", \"print\", \"prisoner\", \"profit\", \"program\", \"proposal\", \"protagonist\", \"pupil\", \"rage\", \"rate\", \"rate\", \"record\", \"record\", \"record\", \"record\", \"record\", \"reform\", \"relief\", \"rise\", \"rise\", \"road\", \"road\", \"road\", \"rock\", \"roddick\", \"rugby\", \"sale\", \"sale\", \"sale\", \"sale\", \"sale\", \"school\", \"school\", \"school\", \"search\", \"season\", \"season\", \"sector\", \"security\", \"security\", \"seed\", \"service\", \"service\", \"service\", \"share\", \"share\", \"show\", \"show\", \"side\", \"side\", \"side\", \"side\", \"side\", \"singer\", \"site\", \"slam\", \"snicket\", \"software\", \"song\", \"song\", \"souness\", \"spending\", \"sport\", \"sport\", \"sport\", \"sprinter\", \"spyware\", \"squad\", \"star\", \"star\", \"state\", \"state\", \"state\", \"stop\", \"stop\", \"store\", \"striker\", \"student\", \"studio\", \"studio\", \"success\", \"success\", \"success\", \"success\", \"system\", \"system\", \"system\", \"tape\", \"tax\", \"taxis\", \"team\", \"team\", \"team\", \"technology\", \"tennis\", \"test\", \"test\", \"test\", \"test\", \"ticket\", \"tie\", \"time\", \"time\", \"time\", \"time\", \"time\", \"title\", \"title\", \"title\", \"tory\", \"tournament\", \"traffic\", \"traffic\", \"tsunami\", \"tsunami\", \"tsunami\", \"tv\", \"tv\", \"university\", \"user\", \"victory\", \"victory\", \"video\", \"video\", \"video\", \"virus\", \"wale\", \"wale\", \"wale\", \"way\", \"way\", \"way\", \"way\", \"way\", \"web\", \"website\", \"website\", \"website\", \"week\", \"week\", \"week\", \"week\", \"week\", \"win\", \"win\", \"winner\", \"winner\", \"woman\", \"woman\", \"woman\", \"woman\", \"word\", \"word\", \"word\", \"word\", \"word\", \"worker\", \"world\", \"world\", \"world\", \"world\", \"world\", \"year\", \"year\", \"year\", \"year\", \"year\"]}, \"R\": 30, \"lambda.step\": 0.01, \"plot.opts\": {\"xlab\": \"PC1\", \"ylab\": \"PC2\"}, \"topic.order\": [5, 4, 1, 2, 3]};\n",
       "\n",
       "function LDAvis_load_lib(url, callback){\n",
       "  var s = document.createElement('script');\n",
       "  s.src = url;\n",
       "  s.async = true;\n",
       "  s.onreadystatechange = s.onload = callback;\n",
       "  s.onerror = function(){console.warn(\"failed to load library \" + url);};\n",
       "  document.getElementsByTagName(\"head\")[0].appendChild(s);\n",
       "}\n",
       "\n",
       "if(typeof(LDAvis) !== \"undefined\"){\n",
       "   // already loaded: just create the visualization\n",
       "   !function(LDAvis){\n",
       "       new LDAvis(\"#\" + \"ldavis_el2641621805019689287441515156\", ldavis_el2641621805019689287441515156_data);\n",
       "   }(LDAvis);\n",
       "}else if(typeof define === \"function\" && define.amd){\n",
       "   // require.js is available: use it to load d3/LDAvis\n",
       "   require.config({paths: {d3: \"https://d3js.org/d3.v5\"}});\n",
       "   require([\"d3\"], function(d3){\n",
       "      window.d3 = d3;\n",
       "      LDAvis_load_lib(\"https://cdn.jsdelivr.net/gh/bmabey/pyLDAvis@3.3.1/pyLDAvis/js/ldavis.v3.0.0.js\", function(){\n",
       "        new LDAvis(\"#\" + \"ldavis_el2641621805019689287441515156\", ldavis_el2641621805019689287441515156_data);\n",
       "      });\n",
       "    });\n",
       "}else{\n",
       "    // require.js not available: dynamically load d3 & LDAvis\n",
       "    LDAvis_load_lib(\"https://d3js.org/d3.v5.js\", function(){\n",
       "         LDAvis_load_lib(\"https://cdn.jsdelivr.net/gh/bmabey/pyLDAvis@3.3.1/pyLDAvis/js/ldavis.v3.0.0.js\", function(){\n",
       "                 new LDAvis(\"#\" + \"ldavis_el2641621805019689287441515156\", ldavis_el2641621805019689287441515156_data);\n",
       "            })\n",
       "         });\n",
       "}\n",
       "</script>"
      ],
      "text/plain": [
       "PreparedData(topic_coordinates=              x         y  topics  cluster       Freq\n",
       "topic                                                \n",
       "4      0.188249 -0.077773       1        1  36.051164\n",
       "3      0.183917  0.115195       2        1  23.740322\n",
       "0     -0.129508 -0.128281       3        1  14.469757\n",
       "1     -0.155298  0.224051       4        1  13.637092\n",
       "2     -0.087361 -0.133192       5        1  12.101666, topic_info=           Term         Freq        Total Category  logprob  loglift\n",
       "240        film  1071.000000  1071.000000  Default  30.0000  30.0000\n",
       "166        game  1290.000000  1290.000000  Default  29.0000  29.0000\n",
       "537      player   781.000000   781.000000  Default  28.0000  28.0000\n",
       "297  government  1042.000000  1042.000000  Default  27.0000  27.0000\n",
       "435       music   747.000000   747.000000  Default  26.0000  26.0000\n",
       "..          ...          ...          ...      ...      ...      ...\n",
       "98         time   192.882697  1492.856255   Topic5  -4.7646   0.0655\n",
       "112        year   207.878702  2909.759616   Topic5  -4.6897  -0.5270\n",
       "523       court    99.134140   212.457530   Topic5  -5.4302   1.3496\n",
       "109         way   127.200772   776.249440   Topic5  -5.1809   0.3031\n",
       "69       people   151.455657  1998.688294   Topic5  -5.0064  -0.4681\n",
       "\n",
       "[308 rows x 6 columns], token_table=      Topic      Freq     Term\n",
       "term                          \n",
       "2295      4  0.971737  academy\n",
       "785       1  0.283041   action\n",
       "785       2  0.101086   action\n",
       "785       3  0.111195   action\n",
       "785       4  0.043804   action\n",
       "...     ...       ...      ...\n",
       "112       1  0.457082     year\n",
       "112       2  0.095197     year\n",
       "112       3  0.195205     year\n",
       "112       4  0.181115     year\n",
       "112       5  0.071484     year\n",
       "\n",
       "[494 rows x 3 columns], R=30, lambda_step=0.01, plot_opts={'xlab': 'PC1', 'ylab': 'PC2'}, topic_order=[5, 4, 1, 2, 3])"
      ]
     },
     "execution_count": 23,
     "metadata": {},
     "output_type": "execute_result"
    }
   ],
   "source": [
    "pyLDAvis.enable_notebook()\n",
    "LDAvis_prepared = pyLDAvis.gensim_models.prepare(lda_model, corpus, id2word)\n",
    "LDAvis_prepared"
   ]
  },
  {
   "cell_type": "code",
   "execution_count": 24,
   "metadata": {},
   "outputs": [],
   "source": [
    "# For topic distribution across documents and wordcloud, refer to https://www.linkedin.com/pulse/nlp-a-complete-guide-topic-modeling-latent-dirichlet-sahil-m/"
   ]
  },
  {
   "cell_type": "code",
   "execution_count": null,
   "metadata": {},
   "outputs": [],
   "source": []
  }
 ],
 "metadata": {
  "kernelspec": {
   "display_name": "Python 3.9.13 64-bit",
   "language": "python",
   "name": "python3"
  },
  "language_info": {
   "codemirror_mode": {
    "name": "ipython",
    "version": 3
   },
   "file_extension": ".py",
   "mimetype": "text/x-python",
   "name": "python",
   "nbconvert_exporter": "python",
   "pygments_lexer": "ipython3",
   "version": "3.9.13"
  },
  "orig_nbformat": 4,
  "vscode": {
   "interpreter": {
    "hash": "11938c6bc6919ae2720b4d5011047913343b08a43b18698fd82dedb0d4417594"
   }
  }
 },
 "nbformat": 4,
 "nbformat_minor": 2
}
