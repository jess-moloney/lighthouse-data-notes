{
 "cells": [
  {
   "cell_type": "code",
   "execution_count": 75,
   "metadata": {},
   "outputs": [
    {
     "name": "stdout",
     "output_type": "stream",
     "text": [
      "Delete Name!\n"
     ]
    },
    {
     "data": {
      "text/plain": [
       "Employee('None','None',80000)"
      ]
     },
     "execution_count": 75,
     "metadata": {},
     "output_type": "execute_result"
    }
   ],
   "source": [
    "class Employee:\n",
    "\n",
    "    num_of_emps = 0\n",
    "    raise_amount = 1.04 # class variable - applies to all instances\n",
    "\n",
    "    def __init__(self, first, last, pay): # self is the instance. INIT method runs every time we create a new employee\n",
    "        self.first = first # instance variable\n",
    "        self.last = last\n",
    "        self.pay = pay\n",
    "\n",
    "        Employee.num_of_emps += 1 # use Employee instead of self because want a constant value for all instances\n",
    "    \n",
    "    @property\n",
    "    def email(self): # regular method - automatically takes instance as the first argument\n",
    "        return '{}.{}@email.com'.format(self.first, self.last)\n",
    "    \n",
    "    @property\n",
    "    def fullname(self): # regular method - automatically takes instance as the first argument\n",
    "        return '{} {}'.format(self.first, self.last)\n",
    "\n",
    "    @fullname.setter\n",
    "    def fullname(self, name):\n",
    "        first, last = name.split(' ')\n",
    "        self.first = first\n",
    "        self.last = last\n",
    "\n",
    "    @fullname.deleter\n",
    "    def fullname(self):\n",
    "        print('Delete Name!')\n",
    "        self.first = None\n",
    "        self.last = None\n",
    "\n",
    "    def apply_raise(self):\n",
    "        self.pay = int(self.pay * self.raise_amount) # use self instead of Employee because want a constant value for all instances, but can be changed for single instances if wanted\n",
    "\n",
    "    @classmethod #decorator alters functionality of method so it receives the class as first argument instead of the instance\n",
    "    def set_raise_amt(cls,amount): # cls is used as class variable name\n",
    "        cls.raise_amt = amount\n",
    "\n",
    "    @classmethod\n",
    "    def from_string(cls, emp_str): # alternative constructor method\n",
    "        first, last, pay = emp_str.split('-')\n",
    "        return cls(first, last, pay)\n",
    "\n",
    "    @staticmethod # doesn't take instance or class as first argument\n",
    "    def is_workday(day):\n",
    "        if day.weekday() == 5 or day.weekday() == 6:\n",
    "            return False\n",
    "        return True\n",
    "\n",
    "    def __repr__(self):  # changes the way the instance is shown when printed (dunder method)\n",
    "        return \"Employee('{}','{}',{})\".format(self.first, self.last, self.pay)\n",
    "\n",
    "    def __str__(self):\n",
    "        return '{} - {}'.format(self.fullname(), self.email)\n",
    "\n",
    "    def __add__(self, other): # dunder method for adding two employee's salary together\n",
    "        return self.pay + other.pay\n",
    "\n",
    "    def __len__(self):\n",
    "        return len(self.fullname())\n",
    "\n",
    "class Developer(Employee): # inherit from the Employee class - has all attributes and methods of the Employee class\n",
    "    raise_amount = 1.10 # can change things in the subclasses without changing anything in the parent classes\n",
    "\n",
    "    def __init__(self, first, last, pay, prog_lang):\n",
    "        super().__init__(first,last,pay)  # passes these arguments to the parent init method\n",
    "        self.prog_lang = prog_lang\n",
    "\n",
    "class Manager(Employee):\n",
    "\n",
    "    def __init__(self, first, last, pay, employees=None):\n",
    "        super().__init__(first,last,pay)\n",
    "        if employees is None:\n",
    "            self.employees = []\n",
    "        else:\n",
    "            self.employees = employees\n",
    "\n",
    "    def add_emp(self, emp):\n",
    "        if emp not in self.employees:\n",
    "            self.employees.append(emp)\n",
    "\n",
    "    def remove_emp(self, emp):\n",
    "        if emp in self.employees:\n",
    "            self.employees.remove(emp)\n",
    "\n",
    "    def print_emps(self):\n",
    "        for emp in self.employees:\n",
    "            print('-->', emp.fullname())\n",
    "\n",
    "\n",
    "\n",
    "# a class is a blueprint for creating instances\n",
    "\n",
    "emp_1 = Employee('Corey','Schafer',50000) # emp_1 is an instance of the class Employee\n",
    "emp_2 = Employee('Test','User',60000)\n",
    "\n",
    "# # print(emp_1)\n",
    "# # print(emp_2)\n",
    "\n",
    "# print(emp_1.email) # no brackets because email is an attribute, not a method\n",
    "# print(emp_2.email)\n",
    "\n",
    "# print(emp_2.fullname()) # use brackets after fullname because it's a method, not an attribute\n",
    "\n",
    "# print(emp_1.fullname())  # these two are equivalent - first one calls the fullname() method on the emp_1 instance of the Employee class\n",
    "# print(Employee.fullname(emp_1)) # need to pass the instance to the method here because no instance created yet\n",
    "\n",
    "\n",
    "# print(Employee.__dict__)\n",
    "\n",
    "# emp_1.raise_amount = 1.05 # can change raise amount for a specific instance\n",
    "\n",
    "# print(emp_1.__dict__)\n",
    "\n",
    "# Employee.set_raise_amt(1.05) #\n",
    "\n",
    "# print(Employee.raise_amount)\n",
    "# print(emp_1.raise_amount)\n",
    "# print(emp_2.raise_amount)\n",
    "\n",
    "# print(Employee.num_of_emps)\n",
    "\n",
    "# import datetime\n",
    "# my_date = datetime.date(2016, 7, 11)\n",
    "\n",
    "# print(Employee.is_workday(my_date))\n",
    "\n",
    "# print(help(Developer))\n",
    "\n",
    "# dev_1 = Developer('Corey','Schafer',50000, 'python')\n",
    "# dev_2 = Developer('Test', 'Employee', 60000, 'java')\n",
    "\n",
    "# # print(dev_1.pay)\n",
    "# # dev_1.apply_raise()\n",
    "# # print(dev_1.pay)\n",
    "\n",
    "# # print(dev_1.email)\n",
    "# # print(dev_1.prog_lang)\n",
    "\n",
    "# mgr_1 = Manager('Sue', 'Smith', 90000, [dev_1])\n",
    "# # print(mgr_1.email)\n",
    "\n",
    "# # mgr_1.add_emp(dev_2)\n",
    "# # mgr_1.remove_emp(dev_1)\n",
    "# # print(mgr_1.print_emps())\n",
    "\n",
    "# print(isinstance(mgr_1, Manager))\n",
    "# print(isinstance(mgr_1, Employee))\n",
    "# print(isinstance(mgr_1, Developer))\n",
    "\n",
    "# print(issubclass(Developer,Employee))\n",
    "# print(issubclass(Manager,Employee))\n",
    "# print(issubclass(Manager,Developer))\n",
    "\n",
    "# print(emp_1.__repr__())\n",
    "# print(emp_1.__str__())\n",
    "\n",
    "# print(emp_1 + emp_2)\n",
    "\n",
    "# print('test'.__len__())\n",
    "\n",
    "# print(len(emp_1))\n",
    "# print(emp_1)\n",
    "\n",
    "emp_1 = Employee('John', 'Smith', 80000)\n",
    "\n",
    "# print(emp_1.email)\n",
    "\n",
    "emp_1.fullname = 'Corey Schafer'\n",
    "\n",
    "del emp_1.fullname\n",
    "emp_1"
   ]
  },
  {
   "cell_type": "code",
   "execution_count": 29,
   "metadata": {},
   "outputs": [],
   "source": [
    "emp_str_1 = 'John-Doe-70000'\n",
    "emp_str_2 = 'Steve-Smith-30000'\n",
    "emp_str_3 = 'Jane-Doe-90000'"
   ]
  },
  {
   "cell_type": "code",
   "execution_count": 33,
   "metadata": {},
   "outputs": [
    {
     "data": {
      "text/plain": [
       "{'first': 'John',\n",
       " 'last': 'Doe',\n",
       " 'pay': '70000',\n",
       " 'email': 'John.Doe@company.com'}"
      ]
     },
     "execution_count": 33,
     "metadata": {},
     "output_type": "execute_result"
    }
   ],
   "source": [
    "new_emp_1 = Employee.from_string(emp_str_1)\n",
    "new_emp_1.__dict__"
   ]
  },
  {
   "cell_type": "code",
   "execution_count": null,
   "metadata": {},
   "outputs": [],
   "source": []
  },
  {
   "cell_type": "code",
   "execution_count": 2,
   "metadata": {},
   "outputs": [
    {
     "name": "stdout",
     "output_type": "stream",
     "text": [
      "Corey.Schafer@company.com\n",
      "Test.User@company.com\n"
     ]
    }
   ],
   "source": [
    "# emp_1.first = 'Corey'\n",
    "# emp_1.last = 'Schafer'\n",
    "# emp_1.email = 'Corey.Schafer@company.com'\n",
    "# emp_1.pay = 50000\n",
    "\n",
    "# emp_2.first = 'Test'\n",
    "# emp_2.last = 'User'\n",
    "# emp_2.email = 'Test.User@company.com'\n",
    "# emp_2.pay = 60000\n",
    "\n",
    "# print(emp_1.email)\n",
    "# print(emp_2.email)"
   ]
  },
  {
   "cell_type": "code",
   "execution_count": null,
   "metadata": {},
   "outputs": [],
   "source": []
  }
 ],
 "metadata": {
  "kernelspec": {
   "display_name": "Python 3.9.13 64-bit",
   "language": "python",
   "name": "python3"
  },
  "language_info": {
   "codemirror_mode": {
    "name": "ipython",
    "version": 3
   },
   "file_extension": ".py",
   "mimetype": "text/x-python",
   "name": "python",
   "nbconvert_exporter": "python",
   "pygments_lexer": "ipython3",
   "version": "3.9.13"
  },
  "orig_nbformat": 4,
  "vscode": {
   "interpreter": {
    "hash": "11938c6bc6919ae2720b4d5011047913343b08a43b18698fd82dedb0d4417594"
   }
  }
 },
 "nbformat": 4,
 "nbformat_minor": 2
}
