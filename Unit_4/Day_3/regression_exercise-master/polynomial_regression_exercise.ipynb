{
 "cells": [
  {
   "cell_type": "markdown",
   "metadata": {},
   "source": [
    "### Regression exercise\n",
    "\n",
    "Today, we will fit different polynomial regression to randomly generated data and explore how our loss function behaves. We will use the formulas, introduced in the theoretical sections and create a linear regression model from scratch. \n"
   ]
  },
  {
   "cell_type": "markdown",
   "metadata": {},
   "source": [
    "#### Task 1\n",
    "\n",
    "Write a function psi(x,m) defined as $\\psi(x)=[1, x, x ^2, ..., x^m]$\n",
    "\n",
    "Example input: `psi(2, 3)`\n",
    "\n",
    "Example output: `[1, 2, 4, 8]`\n",
    "\n",
    "- HINT: use FOR loop with `for i in range(m+1):` inside the psi function"
   ]
  },
  {
   "cell_type": "code",
   "execution_count": 6,
   "metadata": {},
   "outputs": [],
   "source": [
    "def psi(x,m):\n",
    "    output = []\n",
    "    for i in range(m+1):\n",
    "        output.append(x**i)\n",
    "    return output"
   ]
  },
  {
   "cell_type": "code",
   "execution_count": 9,
   "metadata": {},
   "outputs": [
    {
     "data": {
      "text/plain": [
       "[1, 2, 4, 8]"
      ]
     },
     "execution_count": 9,
     "metadata": {},
     "output_type": "execute_result"
    }
   ],
   "source": [
    "psi(2,3)"
   ]
  },
  {
   "cell_type": "markdown",
   "metadata": {},
   "source": [
    "#### Task 2\n",
    "\n",
    "Write a function $h(x,\\alpha, m)$ defined as $h(x,\\alpha, m)=\\alpha^T\\psi(x, m)$\n",
    "\n",
    "Example input: `h(2,2,3)`\n",
    "\n",
    "Example output: `array([ 2,  4,  8, 16])`\n",
    "\n",
    "- HINT: use the `np.dot` between the $\\alpha$ and the output of psi(x, m)"
   ]
  },
  {
   "cell_type": "code",
   "execution_count": 18,
   "metadata": {},
   "outputs": [],
   "source": [
    "import numpy as np"
   ]
  },
  {
   "cell_type": "code",
   "execution_count": 19,
   "metadata": {},
   "outputs": [],
   "source": [
    "def h(x, a, m):\n",
    "    return np.dot(a,psi(x,m))"
   ]
  },
  {
   "cell_type": "code",
   "execution_count": 20,
   "metadata": {},
   "outputs": [
    {
     "data": {
      "text/plain": [
       "array([ 2,  4,  8, 16])"
      ]
     },
     "execution_count": 20,
     "metadata": {},
     "output_type": "execute_result"
    }
   ],
   "source": [
    "h(2, 2, 3)"
   ]
  },
  {
   "cell_type": "markdown",
   "metadata": {},
   "source": [
    "#### Task 3\n",
    "Create a random 3rd order polynomial and call it `p3`\n",
    "\n",
    "- HINT: check function `np.poly1d`"
   ]
  },
  {
   "cell_type": "code",
   "execution_count": 167,
   "metadata": {},
   "outputs": [],
   "source": [
    "p3 = np.poly1d([1,-3, 2,-1], True)"
   ]
  },
  {
   "cell_type": "code",
   "execution_count": 168,
   "metadata": {},
   "outputs": [
    {
     "data": {
      "text/plain": [
       "poly1d([ 1.,  1., -7., -1.,  6.])"
      ]
     },
     "execution_count": 168,
     "metadata": {},
     "output_type": "execute_result"
    }
   ],
   "source": [
    "p3"
   ]
  },
  {
   "cell_type": "markdown",
   "metadata": {},
   "source": [
    "#### Task 4\n",
    "Choose an interval `[a,b]`, on which the polynomial is S-shaped. \n",
    "\n",
    "At first we can choose random interval, for example `[-3,5)`, and come back to this task after **Task 7**."
   ]
  },
  {
   "cell_type": "code",
   "execution_count": 169,
   "metadata": {},
   "outputs": [],
   "source": [
    "interval = range(-3,5)"
   ]
  },
  {
   "cell_type": "code",
   "execution_count": 170,
   "metadata": {},
   "outputs": [
    {
     "data": {
      "text/plain": [
       "range(-3, 5)"
      ]
     },
     "execution_count": 170,
     "metadata": {},
     "output_type": "execute_result"
    }
   ],
   "source": [
    "interval"
   ]
  },
  {
   "cell_type": "markdown",
   "metadata": {},
   "source": [
    "#### Task 5\n",
    "Sample 30 random values in [a,b] and stored them in `xs`.\n",
    "\n",
    "- HINT: use `np.random.random_sample` function\n",
    "\n",
    "Output `xs` should be numpy array with length=30 and values between `a` and `b`"
   ]
  },
  {
   "cell_type": "code",
   "execution_count": 171,
   "metadata": {},
   "outputs": [],
   "source": [
    "xs = 5 * np.random.random_sample(30) - 3"
   ]
  },
  {
   "cell_type": "code",
   "execution_count": 172,
   "metadata": {},
   "outputs": [
    {
     "data": {
      "text/plain": [
       "array([ 1.94188328,  1.62255138, -0.41849579, -2.77549223,  1.40218514,\n",
       "       -2.87559839, -0.42662367,  1.66092348, -1.97017211, -0.54289036,\n",
       "       -2.72859423, -1.42923203, -0.45919449, -2.82025342,  1.27573103,\n",
       "       -2.28699453, -1.39139696, -1.73217528, -0.55001432,  1.37386963,\n",
       "        0.76018488, -0.64071823,  0.57572029, -0.22498638, -2.33818729,\n",
       "       -1.21842755, -2.71427992,  1.46421743, -0.41182334,  1.81904058])"
      ]
     },
     "execution_count": 172,
     "metadata": {},
     "output_type": "execute_result"
    }
   ],
   "source": [
    "xs"
   ]
  },
  {
   "cell_type": "markdown",
   "metadata": {},
   "source": [
    "#### Task 6\n",
    "For each x in xs, compute p3(x) and store them as `ys`.\n",
    "\n",
    "- HINT: `ys = p3(xs)`"
   ]
  },
  {
   "cell_type": "code",
   "execution_count": 173,
   "metadata": {},
   "outputs": [],
   "source": [
    "ys = p3(xs)"
   ]
  },
  {
   "cell_type": "code",
   "execution_count": 174,
   "metadata": {},
   "outputs": [
    {
     "data": {
      "text/plain": [
       "array([ -0.79582232,  -2.84864805,   5.14990348,  -7.18690444,\n",
       "        -2.5425383 ,  -4.4089233 ,   5.1080474 ,  -2.77941411,\n",
       "       -11.78160299,   4.40664042,  -8.27159586,  -5.61655517,\n",
       "         4.93081363,  -6.02496506,  -1.94319702, -12.93068325,\n",
       "        -5.10618604,  -9.46552843,   4.35753181,  -2.43056733,\n",
       "         1.96789068,   3.6725783 ,   3.4047891 ,   5.861828  ,\n",
       "       -12.82540242,  -2.77843269,  -8.57654744,  -2.73611527,\n",
       "         5.18355311,  -2.01348562])"
      ]
     },
     "execution_count": 174,
     "metadata": {},
     "output_type": "execute_result"
    }
   ],
   "source": [
    "ys"
   ]
  },
  {
   "cell_type": "markdown",
   "metadata": {},
   "source": [
    "#### Task 7:\n",
    "Plot `ys` against `xs` on [a,b]. Does it look like a third order polynomial?\n",
    "\n",
    "Is the curve S-shaped? if not, repeat steps 3-7.\n",
    "\n",
    "- HINT: check out function `plt.scatter`\n",
    "- HINT: polynomial `p3 = np.poly1d([1,-3, 2,-1])` is S-shaped on the interval `[-3,5]`\n",
    "\n"
   ]
  },
  {
   "cell_type": "code",
   "execution_count": 175,
   "metadata": {},
   "outputs": [],
   "source": [
    "import matplotlib.pyplot as plt"
   ]
  },
  {
   "cell_type": "code",
   "execution_count": 176,
   "metadata": {},
   "outputs": [
    {
     "data": {
      "text/plain": [
       "<matplotlib.collections.PathCollection at 0x1e1e9850ca0>"
      ]
     },
     "execution_count": 176,
     "metadata": {},
     "output_type": "execute_result"
    },
    {
     "data": {
      "image/png": "[encoded data removed]",
      "text/plain": [
       "<Figure size 640x480 with 1 Axes>"
      ]
     },
     "metadata": {},
     "output_type": "display_data"
    }
   ],
   "source": [
    "plt.scatter(xs,ys)"
   ]
  },
  {
   "cell_type": "markdown",
   "metadata": {},
   "source": [
    "## Fitting the data"
   ]
  },
  {
   "cell_type": "markdown",
   "metadata": {},
   "source": [
    "We will try to fit the data by a polynomial of order m=2. \n",
    "\n",
    "#### Task 8:\n",
    "\n",
    "Using xs and psi(x,m) from the **Task I**, create the matrix X defined as \n",
    "\n",
    "<img src=\"matrixX.png\">\n",
    "\n",
    "- HINT: Use a for loop and call psi(x,2) on every item in `xs`. Output should be stored as columns in matrix X.\n",
    "- HINT: For `m = 2` and `len(xs) = 30`, the `X.shape = (3,30)`"
   ]
  },
  {
   "cell_type": "code",
   "execution_count": 224,
   "metadata": {},
   "outputs": [],
   "source": [
    "m = 2\n",
    "X = np.zeros((m+1,len(xs)))\n",
    "for item in range(len(list(xs))):\n",
    "    X[:,item] = psi(list(xs)[item],m)"
   ]
  },
  {
   "cell_type": "code",
   "execution_count": 225,
   "metadata": {},
   "outputs": [],
   "source": [
    "# X = np.zeros((m+1,len(xs)))\n",
    "# for m in range(3,11):\n",
    "#     for item in range(len(list(xs))):\n",
    "#         X[:,item] = psi(list(xs)[item],m)"
   ]
  },
  {
   "cell_type": "code",
   "execution_count": 226,
   "metadata": {},
   "outputs": [
    {
     "data": {
      "text/plain": [
       "array([[ 1.        ,  1.        ,  1.        ,  1.        ,  1.        ,\n",
       "         1.        ,  1.        ,  1.        ,  1.        ,  1.        ,\n",
       "         1.        ,  1.        ,  1.        ,  1.        ,  1.        ,\n",
       "         1.        ,  1.        ,  1.        ,  1.        ,  1.        ,\n",
       "         1.        ,  1.        ,  1.        ,  1.        ,  1.        ,\n",
       "         1.        ,  1.        ,  1.        ,  1.        ,  1.        ],\n",
       "       [ 1.94188328,  1.62255138, -0.41849579, -2.77549223,  1.40218514,\n",
       "        -2.87559839, -0.42662367,  1.66092348, -1.97017211, -0.54289036,\n",
       "        -2.72859423, -1.42923203, -0.45919449, -2.82025342,  1.27573103,\n",
       "        -2.28699453, -1.39139696, -1.73217528, -0.55001432,  1.37386963,\n",
       "         0.76018488, -0.64071823,  0.57572029, -0.22498638, -2.33818729,\n",
       "        -1.21842755, -2.71427992,  1.46421743, -0.41182334,  1.81904058],\n",
       "       [ 3.77091067,  2.63267297,  0.17513872,  7.70335714,  1.96612316,\n",
       "         8.2690661 ,  0.18200775,  2.7586668 ,  3.88157813,  0.29472995,\n",
       "         7.44522647,  2.04270419,  0.21085958,  7.95382936,  1.62748967,\n",
       "         5.230344  ,  1.9359855 ,  3.00043118,  0.30251576,  1.88751776,\n",
       "         0.57788106,  0.41051985,  0.33145385,  0.05061887,  5.46711982,\n",
       "         1.48456568,  7.3673155 ,  2.14393269,  0.16959847,  3.30890862]])"
      ]
     },
     "execution_count": 226,
     "metadata": {},
     "output_type": "execute_result"
    }
   ],
   "source": [
    "X"
   ]
  },
  {
   "cell_type": "code",
   "execution_count": 227,
   "metadata": {},
   "outputs": [
    {
     "data": {
      "text/plain": [
       "array([[ 1.        ,  1.        ,  1.        ,  1.        ,  1.        ,\n",
       "         1.        ,  1.        ,  1.        ,  1.        ,  1.        ,\n",
       "         1.        ,  1.        ,  1.        ,  1.        ,  1.        ,\n",
       "         1.        ,  1.        ,  1.        ,  1.        ,  1.        ,\n",
       "         1.        ,  1.        ,  1.        ,  1.        ,  1.        ,\n",
       "         1.        ,  1.        ,  1.        ,  1.        ,  1.        ],\n",
       "       [ 1.94188328,  1.62255138, -0.41849579, -2.77549223,  1.40218514,\n",
       "        -2.87559839, -0.42662367,  1.66092348, -1.97017211, -0.54289036,\n",
       "        -2.72859423, -1.42923203, -0.45919449, -2.82025342,  1.27573103,\n",
       "        -2.28699453, -1.39139696, -1.73217528, -0.55001432,  1.37386963,\n",
       "         0.76018488, -0.64071823,  0.57572029, -0.22498638, -2.33818729,\n",
       "        -1.21842755, -2.71427992,  1.46421743, -0.41182334,  1.81904058],\n",
       "       [ 3.77091067,  2.63267297,  0.17513872,  7.70335714,  1.96612316,\n",
       "         8.2690661 ,  0.18200775,  2.7586668 ,  3.88157813,  0.29472995,\n",
       "         7.44522647,  2.04270419,  0.21085958,  7.95382936,  1.62748967,\n",
       "         5.230344  ,  1.9359855 ,  3.00043118,  0.30251576,  1.88751776,\n",
       "         0.57788106,  0.41051985,  0.33145385,  0.05061887,  5.46711982,\n",
       "         1.48456568,  7.3673155 ,  2.14393269,  0.16959847,  3.30890862]])"
      ]
     },
     "execution_count": 227,
     "metadata": {},
     "output_type": "execute_result"
    }
   ],
   "source": [
    "X"
   ]
  },
  {
   "cell_type": "code",
   "execution_count": 228,
   "metadata": {},
   "outputs": [
    {
     "data": {
      "text/plain": [
       "(3, 30)"
      ]
     },
     "execution_count": 228,
     "metadata": {},
     "output_type": "execute_result"
    }
   ],
   "source": [
    "X.shape"
   ]
  },
  {
   "cell_type": "markdown",
   "metadata": {},
   "source": [
    "#### Task 9\n",
    "Compute the optimal $\\alpha$ using the expression $\\alpha = (XX^T)^+Xy$ where $(XX^T)^+$ is the pseudoinverse matrix. y is our `ys` from the Task 6 and X is matrix from the Task 8.\n",
    "\n",
    "- HINT: Numpy functions `np.dot`, `np.linalg.inv` and `transpose()` should be used"
   ]
  },
  {
   "cell_type": "code",
   "execution_count": 229,
   "metadata": {},
   "outputs": [],
   "source": [
    "# Calculate the dot product of X and X^T\n",
    "prod = np.dot(X, np.transpose(X))\n",
    "\n",
    "# # Calculate the pseudoinverse matrix\n",
    "pseudo = np.linalg.pinv(prod)\n",
    "\n",
    "# # Calculate alpha\n",
    "alpha = np.dot(np.dot(pseudo, X), ys)"
   ]
  },
  {
   "cell_type": "code",
   "execution_count": 230,
   "metadata": {},
   "outputs": [
    {
     "data": {
      "text/plain": [
       "(3, 30)"
      ]
     },
     "execution_count": 230,
     "metadata": {},
     "output_type": "execute_result"
    }
   ],
   "source": [
    "X.shape"
   ]
  },
  {
   "cell_type": "code",
   "execution_count": 231,
   "metadata": {},
   "outputs": [
    {
     "data": {
      "text/plain": [
       "(30, 3)"
      ]
     },
     "execution_count": 231,
     "metadata": {},
     "output_type": "execute_result"
    }
   ],
   "source": [
    "X.T.shape"
   ]
  },
  {
   "cell_type": "code",
   "execution_count": 232,
   "metadata": {},
   "outputs": [
    {
     "data": {
      "text/plain": [
       "array([[  30.        ,  -16.05924341,   84.58306928],\n",
       "       [ -16.05924341,   84.58306928, -120.4420394 ],\n",
       "       [  84.58306928, -120.4420394 ,  447.44474178]])"
      ]
     },
     "execution_count": 232,
     "metadata": {},
     "output_type": "execute_result"
    }
   ],
   "source": [
    "prod"
   ]
  },
  {
   "cell_type": "markdown",
   "metadata": {},
   "source": [
    "#### Task 10\n",
    "Plot the original data and the computed polynomial which represents our prediction into one chart. Does it fit? We need to compute prediction using alpha from the **Task 9** for the each item in xs.\n",
    "\n",
    "HINT: for first item in xs, prediction is `y_est = h(list(xs)[1],alpha, m)` where alpha is output of the **Task 9** and **m=2**. This needs to be repeated for every element of xs"
   ]
  },
  {
   "cell_type": "code",
   "execution_count": 233,
   "metadata": {},
   "outputs": [],
   "source": [
    "m=2\n",
    "y_est = []\n",
    "\n",
    "for x in range(len(xs)):\n",
    "    y_est.append(h(list(xs)[x],alpha, m))"
   ]
  },
  {
   "cell_type": "code",
   "execution_count": 234,
   "metadata": {},
   "outputs": [
    {
     "data": {
      "text/plain": [
       "[-3.1455270077836572,\n",
       " -1.4740921777864118,\n",
       " 1.7969106391850715,\n",
       " -10.374576805231511,\n",
       " -0.5036408238982838,\n",
       " -11.269961043534137,\n",
       " 1.784311287398774,\n",
       " -1.6583508691877253,\n",
       " -4.293356963632889,\n",
       " 1.5818297363255827,\n",
       " -9.965711810650905,\n",
       " -1.3289922306699182,\n",
       " 1.73178247123577,\n",
       " -10.771124970551991,\n",
       " -0.014236593524382925,\n",
       " -6.447664318643646,\n",
       " -1.155346215014541,\n",
       " -2.878200111156019,\n",
       " 1.5680707428748932,\n",
       " -0.38977842146522423,\n",
       " 1.4718073739459103,\n",
       " 1.3792359655353865,\n",
       " 1.804852062403819,\n",
       " 2.0368452054296062,\n",
       " -6.824747088797034,\n",
       " -0.4175936581468477,\n",
       " -9.842265281203932,\n",
       " -0.7617080367019587,\n",
       " 1.8071019194218283,\n",
       " -2.465412145812504]"
      ]
     },
     "execution_count": 234,
     "metadata": {},
     "output_type": "execute_result"
    }
   ],
   "source": [
    "y_est"
   ]
  },
  {
   "cell_type": "code",
   "execution_count": 236,
   "metadata": {},
   "outputs": [
    {
     "data": {
      "text/plain": [
       "<matplotlib.legend.Legend at 0x1e1f09aa2e0>"
      ]
     },
     "execution_count": 236,
     "metadata": {},
     "output_type": "execute_result"
    },
    {
     "data": {
      "image/png": "[encoded data removed]",
      "text/plain": [
       "<Figure size 640x480 with 1 Axes>"
      ]
     },
     "metadata": {},
     "output_type": "display_data"
    }
   ],
   "source": [
    "plt.scatter(xs,ys,label='original data')\n",
    "plt.scatter(xs,y_est,label='computed polynomial')\n",
    "plt.legend()"
   ]
  },
  {
   "cell_type": "markdown",
   "metadata": {},
   "source": [
    "#### Task 11\n",
    "Repeat the process, **tasks 8-10**, for m=3,…,10. What do you observe? Which polynomial has the best fit?"
   ]
  },
  {
   "cell_type": "code",
   "execution_count": 241,
   "metadata": {},
   "outputs": [
    {
     "data": {
      "text/plain": [
       "<matplotlib.legend.Legend at 0x1e1f1e7c5b0>"
      ]
     },
     "execution_count": 241,
     "metadata": {},
     "output_type": "execute_result"
    },
    {
     "data": {
      "image/png": "[encoded data removed]",
      "text/plain": [
       "<Figure size 640x480 with 1 Axes>"
      ]
     },
     "metadata": {},
     "output_type": "display_data"
    }
   ],
   "source": [
    "target_list = []\n",
    "\n",
    "for m in range(2,11):\n",
    "\n",
    "    # create a matrix X\n",
    "    X = np.zeros((m+1,len(xs)))\n",
    "    for item in range(len(list(xs))):\n",
    "        X[:,item] = psi(list(xs)[item],m)\n",
    "    \n",
    "    # Calculate the dot product of X and X^T\n",
    "    prod = np.dot(X, np.transpose(X))\n",
    "    \n",
    "    # Calculate the pseudoinverse matrix\n",
    "    pseudo = np.linalg.pinv(prod)\n",
    "    \n",
    "    # Calculate alpha\n",
    "    alpha = np.dot(np.dot(pseudo, X), ys)\n",
    "    \n",
    "    # initialize a blank y_est list\n",
    "    y_est = []\n",
    "\n",
    "    # add items to y_est list\n",
    "    for x in range(len(xs)):\n",
    "        y_est.append(h(list(xs)[x],alpha, m))\n",
    "    target_list.append(y_est)\n",
    "\n",
    "plt.scatter(xs,ys, label = 'original data')\n",
    "\n",
    "for y_est in target_list:\n",
    "    plt.scatter(xs,y_est, label = f'm = {2+target_list.index(y_est)}')\n",
    "\n",
    "plt.legend(loc='upper left')"
   ]
  },
  {
   "cell_type": "markdown",
   "metadata": {},
   "source": [
    "#### Task 12\n",
    "Plot the value of the loss (defined as $ l(\\alpha^Tx, y) = \\sum(\\alpha^Tx - y)^2 $  ) for m=2,…,10. \n",
    "\n",
    "y is our `ys` from the Task 6 and $\\alpha^Tx$ are our predictions `y_est`. \n",
    "\n",
    "What do you observe? Could you tell the optimal m from the plot?\n",
    "\n",
    "- HINT: loss can be computed as:\n",
    "\n",
    "```\n",
    "def compute_loss(y_est, ys):\n",
    "    return ((y_est - ys)**2).sum()\n",
    "```"
   ]
  },
  {
   "cell_type": "code",
   "execution_count": 210,
   "metadata": {},
   "outputs": [],
   "source": [
    "def compute_loss(y_est, ys):\n",
    "    return ((y_est - ys)**2).sum()"
   ]
  },
  {
   "cell_type": "code",
   "execution_count": 242,
   "metadata": {},
   "outputs": [
    {
     "name": "stdout",
     "output_type": "stream",
     "text": [
      " for m = 2, loss = 408.49630715108276\n",
      " for m = 3, loss = 266.54130948345227\n",
      " for m = 4, loss = 2.498963929358502e-25\n",
      " for m = 5, loss = 2.0802410475135876e-24\n",
      " for m = 6, loss = 6.344970044724383e-22\n",
      " for m = 7, loss = 1.8361152741583087e-21\n",
      " for m = 8, loss = 1.8722906791934136e-20\n",
      " for m = 9, loss = 6.158481134749468e-18\n",
      " for m = 10, loss = 6.228500161275109e-16\n"
     ]
    }
   ],
   "source": [
    "for y_est in target_list:\n",
    "    print(f' for m = {2+target_list.index(y_est)}, loss = {compute_loss(y_est, ys)}')"
   ]
  },
  {
   "cell_type": "code",
   "execution_count": null,
   "metadata": {},
   "outputs": [],
   "source": []
  }
 ],
 "metadata": {
  "kernelspec": {
   "display_name": "Python 3.9.13 64-bit",
   "language": "python",
   "name": "python3"
  },
  "language_info": {
   "codemirror_mode": {
    "name": "ipython",
    "version": 3
   },
   "file_extension": ".py",
   "mimetype": "text/x-python",
   "name": "python",
   "nbconvert_exporter": "python",
   "pygments_lexer": "ipython3",
   "version": "3.9.13"
  },
  "vscode": {
   "interpreter": {
    "hash": "11938c6bc6919ae2720b4d5011047913343b08a43b18698fd82dedb0d4417594"
   }
  }
 },
 "nbformat": 4,
 "nbformat_minor": 4
}
