{
 "cells": [
  {
   "cell_type": "code",
   "execution_count": 1,
   "id": "b224dba2-283f-406c-8874-dea354fa0bdd",
   "metadata": {},
   "outputs": [],
   "source": [
    "from datetime import datetime"
   ]
  },
  {
   "cell_type": "code",
   "execution_count": 2,
   "id": "5d8faeff-7f07-4101-bb9d-b9bf1804e812",
   "metadata": {},
   "outputs": [
    {
     "name": "stdout",
     "output_type": "stream",
     "text": [
      "2022-09-20 18:17:45.441020\n"
     ]
    }
   ],
   "source": [
    "datetime_object = datetime.now()\n",
    "print(datetime_object)"
   ]
  },
  {
   "cell_type": "code",
   "execution_count": 3,
   "id": "399438bb-e095-4a72-905d-92c37376da74",
   "metadata": {},
   "outputs": [
    {
     "name": "stdout",
     "output_type": "stream",
     "text": [
      "Type :-  <class 'datetime.datetime'>\n"
     ]
    }
   ],
   "source": [
    "print('Type :- ',type(datetime_object))"
   ]
  },
  {
   "cell_type": "code",
   "execution_count": 4,
   "id": "43e94609-6b92-46b8-83b4-fe6b22769847",
   "metadata": {},
   "outputs": [],
   "source": [
    "my_string = '2019-10-31'"
   ]
  },
  {
   "cell_type": "code",
   "execution_count": 5,
   "id": "b05b457c-2213-45ed-92fd-317c8277f199",
   "metadata": {},
   "outputs": [
    {
     "name": "stdout",
     "output_type": "stream",
     "text": [
      "2019-10-31 00:00:00\n",
      "Type:  <class 'datetime.datetime'>\n"
     ]
    }
   ],
   "source": [
    "my_date = datetime.strptime(my_string, \"%Y-%m-%d\")\n",
    "print(my_date)\n",
    "print('Type: ',type(my_date))"
   ]
  },
  {
   "cell_type": "code",
   "execution_count": 6,
   "id": "573e88d7-c1c8-46ed-a6c3-aaf67f833c84",
   "metadata": {},
   "outputs": [
    {
     "name": "stdout",
     "output_type": "stream",
     "text": [
      "Month:  10\n",
      "Year:  2019\n"
     ]
    }
   ],
   "source": [
    "print('Month: ', my_date.month)\n",
    "print('Year: ', my_date.year)"
   ]
  },
  {
   "cell_type": "code",
   "execution_count": 7,
   "id": "7f5878da-b182-496b-abd0-0a90f3276ef3",
   "metadata": {},
   "outputs": [
    {
     "name": "stdout",
     "output_type": "stream",
     "text": [
      "Day of the Month:  31\n"
     ]
    }
   ],
   "source": [
    "import calendar\n",
    "print('Day of the Month: ', my_date.day)"
   ]
  },
  {
   "cell_type": "code",
   "execution_count": 8,
   "id": "89d546ad-5582-4c6d-bfcb-4c4a8ca5bb94",
   "metadata": {},
   "outputs": [
    {
     "name": "stdout",
     "output_type": "stream",
     "text": [
      "Day of the Week(number):  3\n"
     ]
    }
   ],
   "source": [
    "print('Day of the Week(number): ', my_date.weekday())"
   ]
  },
  {
   "cell_type": "code",
   "execution_count": 9,
   "id": "9d67cae7-ddfe-4ed3-bfb5-0369b564d077",
   "metadata": {},
   "outputs": [
    {
     "name": "stdout",
     "output_type": "stream",
     "text": [
      "Day of Week (name):  Thursday\n"
     ]
    }
   ],
   "source": [
    "print('Day of Week (name): ', calendar.day_name[my_date.weekday()])"
   ]
  },
  {
   "cell_type": "code",
   "execution_count": 11,
   "id": "f79b3c60-3a7d-4908-99ba-ac4e61a87539",
   "metadata": {},
   "outputs": [
    {
     "name": "stdout",
     "output_type": "stream",
     "text": [
      "0 - Monday\n",
      "1 - Tuesday\n",
      "2 - Wednesday\n",
      "3 - Thursday\n",
      "4 - Friday\n",
      "5 - Saturday\n",
      "6 - Sunday\n"
     ]
    }
   ],
   "source": [
    "j = 0\n",
    "for i in calendar.day_name:\n",
    "    print(j,'-',i)\n",
    "    j+=1"
   ]
  },
  {
   "cell_type": "code",
   "execution_count": 12,
   "id": "86280003-8a80-430f-8a74-dab4ee1127bc",
   "metadata": {},
   "outputs": [
    {
     "name": "stdout",
     "output_type": "stream",
     "text": [
      "Hour:  19\n",
      "Minute:  4\n"
     ]
    }
   ],
   "source": [
    "from datetime import datetime \n",
    "todays_date = datetime.now()\n",
    "\n",
    "print('Hour: ', todays_date.hour)\n",
    "\n",
    "print('Minute: ', todays_date.minute)"
   ]
  },
  {
   "cell_type": "code",
   "execution_count": 13,
   "id": "6856ece0-f10c-4241-806a-d93d41e63c84",
   "metadata": {},
   "outputs": [
    {
     "data": {
      "text/plain": [
       "datetime.IsoCalendarDate(year=2022, week=38, weekday=2)"
      ]
     },
     "execution_count": 13,
     "metadata": {},
     "output_type": "execute_result"
    }
   ],
   "source": [
    "todays_date.isocalendar()"
   ]
  },
  {
   "cell_type": "code",
   "execution_count": 15,
   "id": "8775de2f-1672-4ca5-802b-72fe96dd4b0d",
   "metadata": {},
   "outputs": [
    {
     "name": "stdout",
     "output_type": "stream",
     "text": [
      "Date and Time: 2022-09-20 19:06:54.581662\n",
      "Timestamp: 1663726014.581662\n"
     ]
    }
   ],
   "source": [
    "from datetime import datetime\n",
    "\n",
    "now = datetime.now()\n",
    "timestamp = datetime.timestamp(now)\n",
    "\n",
    "print(\"Date and Time:\", now)\n",
    "print(\"Timestamp:\", timestamp)"
   ]
  },
  {
   "cell_type": "code",
   "execution_count": 16,
   "id": "b4dfcbac-1a1a-455b-96d1-5e0e9dc6d033",
   "metadata": {},
   "outputs": [
    {
     "name": "stdout",
     "output_type": "stream",
     "text": [
      "dt_object: 2022-09-20 19:06:54.581662\n",
      "type(dt_object):  <class 'datetime.datetime'>\n"
     ]
    }
   ],
   "source": [
    "timestamp: 1663726014.581662\n",
    "dt_object = datetime.fromtimestamp(timestamp)\n",
    "\n",
    "print(\"dt_object:\", dt_object)\n",
    "print(\"type(dt_object): \", type(dt_object))"
   ]
  },
  {
   "cell_type": "code",
   "execution_count": 17,
   "id": "1f5fd53a-703c-4c6c-b1ea-aaff869053ab",
   "metadata": {},
   "outputs": [
    {
     "name": "stdout",
     "output_type": "stream",
     "text": [
      "14 days, 0:00:00\n",
      "<class 'datetime.timedelta'>\n",
      "14\n"
     ]
    }
   ],
   "source": [
    "from datetime import timedelta\n",
    "d = timedelta(weeks=2)\n",
    "\n",
    "print(d)\n",
    "print(type(d))\n",
    "print(d.days)"
   ]
  },
  {
   "cell_type": "code",
   "execution_count": 20,
   "id": "5c1fd917-e2ba-4e53-8fde-c5cd25038205",
   "metadata": {},
   "outputs": [
    {
     "name": "stdout",
     "output_type": "stream",
     "text": [
      "365 days, 0:00:00\n"
     ]
    }
   ],
   "source": [
    "year = timedelta(days=365)\n",
    "print(year)"
   ]
  },
  {
   "cell_type": "code",
   "execution_count": 24,
   "id": "06ec8856-9afc-4185-b87f-f89b1ed80bc9",
   "metadata": {},
   "outputs": [
    {
     "name": "stdout",
     "output_type": "stream",
     "text": [
      "Today's date:  2022-09-20 19:16:14.971237\n",
      "Date after 15 days:  2022-10-05 19:16:14.971237\n",
      "Date two weeks ago:  2022-09-06 19:16:14.971237\n"
     ]
    }
   ],
   "source": [
    "from datetime import datetime, timedelta\n",
    "\n",
    "now = datetime.now()\n",
    "print(\"Today's date: \", str(now))\n",
    "\n",
    "future_date_after_15_days = now + timedelta(days = 15)\n",
    "print('Date after 15 days: ', future_date_after_15_days)\n",
    "      \n",
    "two_weeks_ago = now - timedelta(weeks = 2)\n",
    "print('Date two weeks ago: ', two_weeks_ago)"
   ]
  },
  {
   "cell_type": "code",
   "execution_count": 25,
   "id": "a176aea6-35bf-4820-b257-acf4dc4860a7",
   "metadata": {},
   "outputs": [
    {
     "name": "stdout",
     "output_type": "stream",
     "text": [
      "Difference:  -8\n",
      "delta object type:  <class 'datetime.timedelta'>\n"
     ]
    }
   ],
   "source": [
    "from datetime import date\n",
    "\n",
    "date1 = date(2008, 8, 18)\n",
    "date2 = date(2008, 8, 10)\n",
    "\n",
    "delta = date2 - date1\n",
    "print(\"Difference: \", delta.days)\n",
    "print(\"delta object type: \", type(delta))"
   ]
  },
  {
   "cell_type": "code",
   "execution_count": 26,
   "id": "e5b2a4cb-998c-494f-95c2-76ac0561106c",
   "metadata": {},
   "outputs": [
    {
     "name": "stdout",
     "output_type": "stream",
     "text": [
      "date_object:  2019-08-01 00:00:00\n"
     ]
    }
   ],
   "source": [
    "from datetime import datetime\n",
    "date_string = \"1 August, 2019\"\n",
    "\n",
    "date_object = datetime.strptime(date_string, \"%d %B, %Y\")\n",
    "\n",
    "print(\"date_object: \", date_object)"
   ]
  },
  {
   "cell_type": "code",
   "execution_count": 27,
   "id": "6f28a4fc-66a4-48cb-93d1-51e01d8235fc",
   "metadata": {},
   "outputs": [
    {
     "name": "stdout",
     "output_type": "stream",
     "text": [
      "dt_object1: 2018-11-12 09:15:32\n"
     ]
    }
   ],
   "source": [
    "dt_string = \"12/11/2018 09:15:32\"\n",
    "\n",
    "dt_object1 = datetime.strptime(dt_string, \"%d/%m/%Y %H:%M:%S\")\n",
    "print(\"dt_object1:\", dt_object1)"
   ]
  },
  {
   "cell_type": "code",
   "execution_count": 28,
   "id": "ca28bca5-b03d-4ed9-8292-a88ccf0c18e3",
   "metadata": {},
   "outputs": [
    {
     "name": "stdout",
     "output_type": "stream",
     "text": [
      "dt_object2: 2018-12-11 09:15:32\n"
     ]
    }
   ],
   "source": [
    "dt_object2 = datetime.strptime(dt_string, \"%m/%d/%Y %H:%M:%S\")\n",
    "print(\"dt_object2:\", dt_object2)"
   ]
  },
  {
   "cell_type": "code",
   "execution_count": 29,
   "id": "1f592d6b-d7e9-4139-9f21-73634f4a819c",
   "metadata": {},
   "outputs": [
    {
     "name": "stdout",
     "output_type": "stream",
     "text": [
      "Unix Timestamp:  1544548532.0\n"
     ]
    }
   ],
   "source": [
    "timestamp = datetime.timestamp(dt_object2)\n",
    "print('Unix Timestamp: ', timestamp)"
   ]
  },
  {
   "cell_type": "code",
   "execution_count": 30,
   "id": "32394868-4364-404b-9617-ba443a172d47",
   "metadata": {},
   "outputs": [
    {
     "name": "stdout",
     "output_type": "stream",
     "text": [
      "Output 1: Tue Dec 11 09:15:32 2018\n"
     ]
    }
   ],
   "source": [
    "date_time = datetime.fromtimestamp(timestamp)\n",
    "d = date_time.strftime(\"%c\")\n",
    "print(\"Output 1:\", d)"
   ]
  },
  {
   "cell_type": "code",
   "execution_count": 33,
   "id": "86645031-06af-4d09-8d1b-6c13e6801912",
   "metadata": {},
   "outputs": [],
   "source": [
    "from pytz import timezone"
   ]
  },
  {
   "cell_type": "code",
   "execution_count": 34,
   "id": "e56a4710-eca1-488d-85c5-98df5d1db3c4",
   "metadata": {},
   "outputs": [],
   "source": [
    "east = timezone('US/Eastern')"
   ]
  },
  {
   "cell_type": "code",
   "execution_count": 35,
   "id": "4224ca8b-f568-426f-93b0-89815b571caf",
   "metadata": {},
   "outputs": [
    {
     "name": "stdout",
     "output_type": "stream",
     "text": [
      "2011-11-02 07:27:00-04:00\n"
     ]
    }
   ],
   "source": [
    "loc_dt = east.localize(datetime(2011,11,2,7,27,0))\n",
    "print(loc_dt)"
   ]
  },
  {
   "cell_type": "code",
   "execution_count": 38,
   "id": "b1081954-5319-444e-9838-6262ce2fbd84",
   "metadata": {},
   "outputs": [
    {
     "name": "stdout",
     "output_type": "stream",
     "text": [
      "2011-11-02 16:57:00+05:30\n"
     ]
    }
   ],
   "source": [
    "kolkata = timezone(\"Asia/Kolkata\")\n",
    "print(loc_dt.astimezone(kolkata))"
   ]
  },
  {
   "cell_type": "code",
   "execution_count": 39,
   "id": "189e4d43-7e93-41b1-8e1b-0c4ce65152a1",
   "metadata": {},
   "outputs": [],
   "source": [
    "import pandas as pd"
   ]
  },
  {
   "cell_type": "code",
   "execution_count": 40,
   "id": "f1e8004d-995b-4376-aad6-539ed22cc2f7",
   "metadata": {},
   "outputs": [
    {
     "name": "stdout",
     "output_type": "stream",
     "text": [
      "2022-09-20\n"
     ]
    }
   ],
   "source": [
    "import datetime as dt\n",
    "\n",
    "current_date = dt.date.today()\n",
    "print(current_date)"
   ]
  },
  {
   "cell_type": "code",
   "execution_count": 41,
   "id": "4c99ae94-bce2-49bc-a7bf-327998e9f562",
   "metadata": {},
   "outputs": [
    {
     "name": "stdout",
     "output_type": "stream",
     "text": [
      "2021-01-05\n"
     ]
    }
   ],
   "source": [
    "date1 = dt.date(2021,1,5)\n",
    "print(date1)"
   ]
  },
  {
   "cell_type": "code",
   "execution_count": 43,
   "id": "1a0e53b3-afbd-48a9-a1c7-182e45b3894e",
   "metadata": {},
   "outputs": [
    {
     "name": "stdout",
     "output_type": "stream",
     "text": [
      "2022-09-20\n"
     ]
    }
   ],
   "source": [
    "date2 = dt.date.today()\n",
    "print(date2)"
   ]
  },
  {
   "cell_type": "code",
   "execution_count": 44,
   "id": "061b66a6-f4d1-4bb4-b200-86d7bd353556",
   "metadata": {},
   "outputs": [
    {
     "name": "stdout",
     "output_type": "stream",
     "text": [
      "Year: 2021\n",
      "Month: 1\n",
      "Day:  5\n"
     ]
    }
   ],
   "source": [
    "print(\"Year:\", date1.year)\n",
    "print(\"Month:\", date1.month)\n",
    "print(\"Day: \", date1.day)"
   ]
  },
  {
   "cell_type": "code",
   "execution_count": 45,
   "id": "b5363513-aee9-4831-8b8a-1eecdd888096",
   "metadata": {},
   "outputs": [
    {
     "name": "stdout",
     "output_type": "stream",
     "text": [
      "10:45:30.045667\n"
     ]
    }
   ],
   "source": [
    "time1 = dt.time(10, 45, 30, 45667)\n",
    "print(time1)"
   ]
  },
  {
   "cell_type": "code",
   "execution_count": 46,
   "id": "f2053e5b-2517-48ef-8eed-ef3c9907e4d0",
   "metadata": {},
   "outputs": [
    {
     "name": "stdout",
     "output_type": "stream",
     "text": [
      "Hour: 10\n",
      "Minute: 45\n",
      "Second: 30\n",
      "Microsecond: 45667\n"
     ]
    }
   ],
   "source": [
    "print(\"Hour:\", time1.hour)\n",
    "print(\"Minute:\", time1.minute)\n",
    "print(\"Second:\", time1.second)\n",
    "print(\"Microsecond:\", time1.microsecond)"
   ]
  },
  {
   "cell_type": "code",
   "execution_count": 47,
   "id": "63edd542-1f08-4153-abbf-8e5307456c91",
   "metadata": {},
   "outputs": [
    {
     "name": "stdout",
     "output_type": "stream",
     "text": [
      "2021-11-28 23:55:59\n"
     ]
    }
   ],
   "source": [
    "import datetime as dt\n",
    "\n",
    "datetime_obj = dt.datetime(2021, 11, 28, 23, 55, 59)\n",
    "\n",
    "print(datetime_obj)"
   ]
  },
  {
   "cell_type": "code",
   "execution_count": null,
   "id": "96789143-39a2-4761-a354-4130df3a8e5d",
   "metadata": {},
   "outputs": [],
   "source": []
  }
 ],
 "metadata": {
  "kernelspec": {
   "display_name": "LHL_env",
   "language": "python",
   "name": "lhl_env"
  },
  "language_info": {
   "codemirror_mode": {
    "name": "ipython",
    "version": 3
   },
   "file_extension": ".py",
   "mimetype": "text/x-python",
   "name": "python",
   "nbconvert_exporter": "python",
   "pygments_lexer": "ipython3",
   "version": "3.9.13"
  }
 },
 "nbformat": 4,
 "nbformat_minor": 5
}
