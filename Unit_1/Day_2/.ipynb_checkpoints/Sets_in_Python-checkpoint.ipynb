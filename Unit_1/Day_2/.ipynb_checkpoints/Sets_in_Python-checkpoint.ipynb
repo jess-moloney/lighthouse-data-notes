{
 "cells": [
  {
   "cell_type": "markdown",
   "id": "5377b4d6-4ed5-4b55-8852-fb072c2bee50",
   "metadata": {
    "jp-MarkdownHeadingCollapsed": true,
    "tags": []
   },
   "source": [
    "can pass iterables to set() function to create a set.\n",
    "\n",
    "no duplicates in a set"
   ]
  },
  {
   "cell_type": "code",
   "execution_count": 8,
   "id": "87f8ec91-1167-4866-88c9-74a1651be5fc",
   "metadata": {},
   "outputs": [
    {
     "data": {
      "text/plain": [
       "{1, 2, 3, 4}"
      ]
     },
     "execution_count": 8,
     "metadata": {},
     "output_type": "execute_result"
    }
   ],
   "source": [
    "s = set([1,2,3,4,1])\n",
    "s"
   ]
  },
  {
   "cell_type": "markdown",
   "id": "f59cfbce-a5a4-4d7a-8ee2-5eece3d48812",
   "metadata": {},
   "source": [
    "can also define a set using curly braces"
   ]
  },
  {
   "cell_type": "code",
   "execution_count": 9,
   "id": "a9cf2c2e-9444-4c63-8d6d-880786db0430",
   "metadata": {},
   "outputs": [
    {
     "data": {
      "text/plain": [
       "{1, 2, 3}"
      ]
     },
     "execution_count": 9,
     "metadata": {},
     "output_type": "execute_result"
    }
   ],
   "source": [
    "s = {1,2,3,1}\n",
    "s"
   ]
  },
  {
   "cell_type": "markdown",
   "id": "764f6f99-db43-4682-aefd-e4d659c60759",
   "metadata": {},
   "source": [
    "To recap:\n",
    "\n",
    "The argument to set() is an iterable. It generates a list of elements to be placed into the set.\n",
    "The objects in curly braces are placed into the set intact, even if they are iterable.\n",
    "\n",
    "can create an empty set with set() (empty curly brackets is an empty dictionary)\n",
    "\n",
    "sets can contain elements of different types, but the types must be immutable (e.g., strings, tuples, ints, floats, but NOT lists or dictionairies)\n",
    "\n",
    "len() function returns number of elements in a set, and in and not in operators can be used to test for membership"
   ]
  },
  {
   "cell_type": "markdown",
   "id": "dcb4e6e8-2718-43fe-b9d1-d8545d7038de",
   "metadata": {},
   "source": [
    "## Union"
   ]
  },
  {
   "cell_type": "code",
   "execution_count": 18,
   "id": "11adc1e6-0e5e-4011-8dd9-f001004f54f1",
   "metadata": {},
   "outputs": [
    {
     "data": {
      "text/plain": [
       "{'bar', 'baz', 'foo', 'quux', 'qux'}"
      ]
     },
     "execution_count": 18,
     "metadata": {},
     "output_type": "execute_result"
    }
   ],
   "source": [
    "x1 = {'foo','bar','baz'}\n",
    "x2 = {'baz','qux','quux'}\n",
    "x1 | x2 #operator - both operands must be sets"
   ]
  },
  {
   "cell_type": "code",
   "execution_count": 15,
   "id": "8b8f79ee-f46c-4c3d-b727-db29d694dbab",
   "metadata": {},
   "outputs": [
    {
     "data": {
      "text/plain": [
       "{'bar', 'baz', 'foo', 'quux', 'qux'}"
      ]
     },
     "execution_count": 15,
     "metadata": {},
     "output_type": "execute_result"
    }
   ],
   "source": [
    "x1.union(x2) #method - the argument can be any iterable"
   ]
  },
  {
   "cell_type": "code",
   "execution_count": 17,
   "id": "3ff7583e-3edc-4750-acc7-0c2deb754795",
   "metadata": {},
   "outputs": [
    {
     "data": {
      "text/plain": [
       "{1, 2, 3, 'bar', 'baz', 'foo'}"
      ]
     },
     "execution_count": 17,
     "metadata": {},
     "output_type": "execute_result"
    }
   ],
   "source": [
    "x1.union((1,2,3))"
   ]
  },
  {
   "cell_type": "markdown",
   "id": "f94386af-dc1f-40c7-b74d-59d38e87a804",
   "metadata": {},
   "source": [
    "more than two sets can be specified with either the operator or the method"
   ]
  },
  {
   "cell_type": "markdown",
   "id": "7552f58f-20b9-4ca4-98e6-3757531421de",
   "metadata": {},
   "source": [
    "# Intersection"
   ]
  },
  {
   "cell_type": "code",
   "execution_count": 19,
   "id": "e9bb2f47-0462-4161-9a25-af72c8cbdf8e",
   "metadata": {},
   "outputs": [
    {
     "data": {
      "text/plain": [
       "{'baz'}"
      ]
     },
     "execution_count": 19,
     "metadata": {},
     "output_type": "execute_result"
    }
   ],
   "source": [
    "x1 & x2"
   ]
  },
  {
   "cell_type": "code",
   "execution_count": 20,
   "id": "ad5a3a06-a0c6-4a6b-93f2-c611637884d1",
   "metadata": {},
   "outputs": [
    {
     "data": {
      "text/plain": [
       "{'baz'}"
      ]
     },
     "execution_count": 20,
     "metadata": {},
     "output_type": "execute_result"
    }
   ],
   "source": [
    "x1.intersection(x2)"
   ]
  },
  {
   "cell_type": "markdown",
   "id": "7551ca23-c1eb-4e1a-b9c6-805f60d72cb8",
   "metadata": {},
   "source": [
    "# Difference"
   ]
  },
  {
   "cell_type": "code",
   "execution_count": 24,
   "id": "c6c11ad1-6361-4542-8774-743dbb09946c",
   "metadata": {},
   "outputs": [
    {
     "data": {
      "text/plain": [
       "{'bar', 'foo'}"
      ]
     },
     "execution_count": 24,
     "metadata": {},
     "output_type": "execute_result"
    }
   ],
   "source": [
    "x1 - x2 # returns all the elements that are in set 1 but NOT in set 2 aka, returns the set that results when any elements in x2 are removed or subtracted from x1"
   ]
  },
  {
   "cell_type": "code",
   "execution_count": 25,
   "id": "a316c97b-c288-4bc6-8e78-89320fe2af51",
   "metadata": {},
   "outputs": [
    {
     "data": {
      "text/plain": [
       "{'bar', 'foo'}"
      ]
     },
     "execution_count": 25,
     "metadata": {},
     "output_type": "execute_result"
    }
   ],
   "source": [
    "x1.difference(x2)"
   ]
  },
  {
   "cell_type": "code",
   "execution_count": 28,
   "id": "ba1ff03a-be2e-4915-b4a1-e8ef4dddc347",
   "metadata": {},
   "outputs": [
    {
     "data": {
      "text/plain": [
       "{1, 2, 3}"
      ]
     },
     "execution_count": 28,
     "metadata": {},
     "output_type": "execute_result"
    }
   ],
   "source": [
    "a = {1, 2, 3, 30, 300}\n",
    "b = {10, 20, 30, 40}\n",
    "c = {100, 200, 300, 400}\n",
    "\n",
    "a - b - c # operation is performed from left to right (a-b is computed first, the c is subracted from that set)"
   ]
  },
  {
   "cell_type": "code",
   "execution_count": 29,
   "id": "3701ebda-32f4-4184-bf71-8cbd1bb8d32c",
   "metadata": {},
   "outputs": [
    {
     "data": {
      "text/plain": [
       "{1, 2, 3}"
      ]
     },
     "execution_count": 29,
     "metadata": {},
     "output_type": "execute_result"
    }
   ],
   "source": [
    "a.difference(b,c)"
   ]
  },
  {
   "cell_type": "markdown",
   "id": "2fa5f8be-4f12-4ef1-8374-acaf6b2c99f0",
   "metadata": {},
   "source": [
    "# Symmetric Difference"
   ]
  },
  {
   "cell_type": "code",
   "execution_count": 30,
   "id": "fdbb09cb-bd89-436c-962b-52255da6fe4a",
   "metadata": {},
   "outputs": [
    {
     "data": {
      "text/plain": [
       "{'bar', 'foo', 'quux', 'qux'}"
      ]
     },
     "execution_count": 30,
     "metadata": {},
     "output_type": "execute_result"
    }
   ],
   "source": [
    "x1 ^ x2"
   ]
  },
  {
   "cell_type": "code",
   "execution_count": 35,
   "id": "f436e891-6020-447a-9f78-94f8d22e13e4",
   "metadata": {},
   "outputs": [
    {
     "data": {
      "text/plain": [
       "{'bar', 'foo', 'quux', 'qux'}"
      ]
     },
     "execution_count": 35,
     "metadata": {},
     "output_type": "execute_result"
    }
   ],
   "source": [
    "x1.symmetric_difference(x2) # can only use with one set in the arguments"
   ]
  },
  {
   "cell_type": "code",
   "execution_count": 34,
   "id": "a6c8a939-2322-4aba-9d54-2b65607e4c0b",
   "metadata": {},
   "outputs": [],
   "source": [
    "# everything that doesn't overlap"
   ]
  },
  {
   "cell_type": "markdown",
   "id": "2f836bcc-b4a1-4d01-9692-8cbecbfcb2fe",
   "metadata": {},
   "source": [
    "# Disjoint"
   ]
  },
  {
   "cell_type": "code",
   "execution_count": 36,
   "id": "ac8cf60a-8a73-4489-8e82-27e158c30818",
   "metadata": {},
   "outputs": [
    {
     "data": {
      "text/plain": [
       "False"
      ]
     },
     "execution_count": 36,
     "metadata": {},
     "output_type": "execute_result"
    }
   ],
   "source": [
    "x1.isdisjoint(x2) # returns if x1 and x2 have NO elements in common"
   ]
  },
  {
   "cell_type": "code",
   "execution_count": 37,
   "id": "8067db6e-54de-4921-8533-a5d551730dd2",
   "metadata": {},
   "outputs": [],
   "source": [
    "# if x1.disjoint(x2) is True, the x1 & x2 is the empty set"
   ]
  },
  {
   "cell_type": "markdown",
   "id": "6b308821-d195-428e-bf5a-f4ad67919096",
   "metadata": {},
   "source": [
    "# Subset"
   ]
  },
  {
   "cell_type": "code",
   "execution_count": 38,
   "id": "ac5c3afa-70b6-4c22-97ed-dadfb9f9fe30",
   "metadata": {},
   "outputs": [],
   "source": [
    "# set x1 is considered a subset of another set x2 if every element of x1 is in x2"
   ]
  },
  {
   "cell_type": "code",
   "execution_count": 43,
   "id": "1b455aa3-9fb1-4c59-b8f5-8b557f49ada6",
   "metadata": {},
   "outputs": [
    {
     "data": {
      "text/plain": [
       "True"
      ]
     },
     "execution_count": 43,
     "metadata": {},
     "output_type": "execute_result"
    }
   ],
   "source": [
    "x1.issubset({'foo','bar','baz','qux'})"
   ]
  },
  {
   "cell_type": "code",
   "execution_count": 44,
   "id": "90c24b8b-36ad-42c9-bde5-e9814b4ac228",
   "metadata": {},
   "outputs": [
    {
     "data": {
      "text/plain": [
       "False"
      ]
     },
     "execution_count": 44,
     "metadata": {},
     "output_type": "execute_result"
    }
   ],
   "source": [
    "x2 <= x1"
   ]
  },
  {
   "cell_type": "code",
   "execution_count": null,
   "id": "7d8994de-2673-4fc8-ac34-bb7a0ce85c50",
   "metadata": {},
   "outputs": [],
   "source": []
  }
 ],
 "metadata": {
  "kernelspec": {
   "display_name": "LHL_env",
   "language": "python",
   "name": "lhl_env"
  },
  "language_info": {
   "codemirror_mode": {
    "name": "ipython",
    "version": 3
   },
   "file_extension": ".py",
   "mimetype": "text/x-python",
   "name": "python",
   "nbconvert_exporter": "python",
   "pygments_lexer": "ipython3",
   "version": "3.9.13"
  }
 },
 "nbformat": 4,
 "nbformat_minor": 5
}
