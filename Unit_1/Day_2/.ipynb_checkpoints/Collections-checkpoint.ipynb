{
 "cells": [
  {
   "cell_type": "markdown",
   "id": "324c3ab1-0ed2-4783-a9a4-9bbf5cdde71c",
   "metadata": {},
   "source": [
    "# Collections"
   ]
  },
  {
   "cell_type": "code",
   "execution_count": 1,
   "id": "06a01578-372f-4465-b7c5-9ff100949c09",
   "metadata": {},
   "outputs": [],
   "source": [
    "import math"
   ]
  },
  {
   "cell_type": "code",
   "execution_count": 2,
   "id": "df7dd8a8-1bba-46c2-b776-65688ad1543b",
   "metadata": {},
   "outputs": [
    {
     "name": "stdout",
     "output_type": "stream",
     "text": [
      "['__doc__', '__loader__', '__name__', '__package__', '__spec__', 'acos', 'acosh', 'asin', 'asinh', 'atan', 'atan2', 'atanh', 'ceil', 'comb', 'copysign', 'cos', 'cosh', 'degrees', 'dist', 'e', 'erf', 'erfc', 'exp', 'expm1', 'fabs', 'factorial', 'floor', 'fmod', 'frexp', 'fsum', 'gamma', 'gcd', 'hypot', 'inf', 'isclose', 'isfinite', 'isinf', 'isnan', 'isqrt', 'lcm', 'ldexp', 'lgamma', 'log', 'log10', 'log1p', 'log2', 'modf', 'nan', 'nextafter', 'perm', 'pi', 'pow', 'prod', 'radians', 'remainder', 'sin', 'sinh', 'sqrt', 'tan', 'tanh', 'tau', 'trunc', 'ulp']\n"
     ]
    }
   ],
   "source": [
    "print(dir(math))"
   ]
  },
  {
   "cell_type": "code",
   "execution_count": 3,
   "id": "bd271b37-cf2c-417e-9dcd-8261b5c0ad9d",
   "metadata": {},
   "outputs": [
    {
     "name": "stdout",
     "output_type": "stream",
     "text": [
      "Help on built-in function nextafter in module math:\n",
      "\n",
      "nextafter(x, y, /)\n",
      "    Return the next floating-point value after x towards y.\n",
      "\n"
     ]
    }
   ],
   "source": [
    "help(math.nextafter)"
   ]
  },
  {
   "cell_type": "code",
   "execution_count": 4,
   "id": "0db2e505-c0a3-4159-8cca-711b02b353a2",
   "metadata": {},
   "outputs": [],
   "source": [
    "from collections import namedtuple"
   ]
  },
  {
   "cell_type": "code",
   "execution_count": 5,
   "id": "f9171aa9-30a2-47cd-9794-4c5c68a8c4d2",
   "metadata": {},
   "outputs": [],
   "source": [
    "fruit = namedtuple('fruit','number variety color')"
   ]
  },
  {
   "cell_type": "code",
   "execution_count": 6,
   "id": "a65d8c84-4633-4449-9705-44decbbdee52",
   "metadata": {},
   "outputs": [],
   "source": [
    "guava = fruit(number=2,variety='HoneyCrisp',color='green')"
   ]
  },
  {
   "cell_type": "code",
   "execution_count": 7,
   "id": "1feedfe2-5705-4b49-9f2b-8145c39581d1",
   "metadata": {},
   "outputs": [
    {
     "name": "stdout",
     "output_type": "stream",
     "text": [
      "Help on function namedtuple in module collections:\n",
      "\n",
      "namedtuple(typename, field_names, *, rename=False, defaults=None, module=None)\n",
      "    Returns a new subclass of tuple with named fields.\n",
      "    \n",
      "    >>> Point = namedtuple('Point', ['x', 'y'])\n",
      "    >>> Point.__doc__                   # docstring for the new class\n",
      "    'Point(x, y)'\n",
      "    >>> p = Point(11, y=22)             # instantiate with positional args or keywords\n",
      "    >>> p[0] + p[1]                     # indexable like a plain tuple\n",
      "    33\n",
      "    >>> x, y = p                        # unpack like a regular tuple\n",
      "    >>> x, y\n",
      "    (11, 22)\n",
      "    >>> p.x + p.y                       # fields also accessible by name\n",
      "    33\n",
      "    >>> d = p._asdict()                 # convert to a dictionary\n",
      "    >>> d['x']\n",
      "    11\n",
      "    >>> Point(**d)                      # convert from a dictionary\n",
      "    Point(x=11, y=22)\n",
      "    >>> p._replace(x=100)               # _replace() is like str.replace() but targets named fields\n",
      "    Point(x=100, y=22)\n",
      "\n"
     ]
    }
   ],
   "source": [
    "help(namedtuple)"
   ]
  },
  {
   "cell_type": "code",
   "execution_count": 8,
   "id": "5b127b2a-747e-4e59-8393-8ffb380069be",
   "metadata": {},
   "outputs": [
    {
     "data": {
      "text/plain": [
       "'green'"
      ]
     },
     "execution_count": 8,
     "metadata": {},
     "output_type": "execute_result"
    }
   ],
   "source": [
    "guava.color"
   ]
  },
  {
   "cell_type": "code",
   "execution_count": 9,
   "id": "aaf55ee2-ea88-4afe-bf16-d5ed032e1527",
   "metadata": {},
   "outputs": [
    {
     "data": {
      "text/plain": [
       "'HoneyCrisp'"
      ]
     },
     "execution_count": 9,
     "metadata": {},
     "output_type": "execute_result"
    }
   ],
   "source": [
    "guava.variety"
   ]
  },
  {
   "cell_type": "code",
   "execution_count": 11,
   "id": "1c11b2a3-0bdb-4cd7-b3c4-bcfbbca4d374",
   "metadata": {},
   "outputs": [],
   "source": [
    "from collections import Counter"
   ]
  },
  {
   "cell_type": "code",
   "execution_count": 12,
   "id": "c83f1009-e920-4bf3-85bd-c835a42e177e",
   "metadata": {},
   "outputs": [
    {
     "name": "stdout",
     "output_type": "stream",
     "text": [
      "Counter({'a': 4, 'd': 3, 'c': 2, 's': 2, 'f': 2, 'b': 1})\n"
     ]
    }
   ],
   "source": [
    "c = Counter('abcacdasdfasdf')\n",
    "print(c)"
   ]
  },
  {
   "cell_type": "code",
   "execution_count": 15,
   "id": "a06ad3c8-6012-4ef5-9738-210a000d431e",
   "metadata": {},
   "outputs": [
    {
     "data": {
      "text/plain": [
       "['a', 'a', 'a', 'b', 'b', 'c']"
      ]
     },
     "execution_count": 15,
     "metadata": {},
     "output_type": "execute_result"
    }
   ],
   "source": [
    "c = Counter(a=3, b=2, c=1, d=-2)\n",
    "sorted(c.elements())"
   ]
  },
  {
   "cell_type": "code",
   "execution_count": 16,
   "id": "8eac7529-06fd-4c7b-82e5-f328226522a4",
   "metadata": {},
   "outputs": [
    {
     "data": {
      "text/plain": [
       "[('lazy', 2), ('dog', 2), ('the', 1)]"
      ]
     },
     "execution_count": 16,
     "metadata": {},
     "output_type": "execute_result"
    }
   ],
   "source": [
    "s = 'the lazy dog jumped over another lazy dog'\n",
    "words = s.split()\n",
    "Counter(words).most_common(3)"
   ]
  },
  {
   "cell_type": "code",
   "execution_count": 17,
   "id": "68e46379-3dc1-4954-8d60-e96456804594",
   "metadata": {},
   "outputs": [],
   "source": [
    "from collections import defaultdict"
   ]
  },
  {
   "cell_type": "code",
   "execution_count": 18,
   "id": "f7990f6e-a057-40a2-8441-d5221f50adcf",
   "metadata": {},
   "outputs": [
    {
     "name": "stdout",
     "output_type": "stream",
     "text": [
      "<object object at 0x00000205E3996430>\n"
     ]
    }
   ],
   "source": [
    "d = defaultdict(object)\n",
    "print(d['A'])"
   ]
  },
  {
   "cell_type": "code",
   "execution_count": 19,
   "id": "d65fdc53-4658-42fd-893e-a3ecece19a13",
   "metadata": {},
   "outputs": [],
   "source": [
    "from collections import OrderedDict"
   ]
  },
  {
   "cell_type": "code",
   "execution_count": 20,
   "id": "c2cc58ed-de5d-4f77-a9b8-04823a6494cb",
   "metadata": {},
   "outputs": [],
   "source": [
    "d = {'banana': 3, 'apple': 4, 'pear': 1, 'orange': 2}"
   ]
  },
  {
   "cell_type": "code",
   "execution_count": 21,
   "id": "c9adac09-e674-42d0-9452-6a2eb01d4af8",
   "metadata": {},
   "outputs": [
    {
     "data": {
      "text/plain": [
       "OrderedDict([('apple', 4), ('banana', 3), ('orange', 2), ('pear', 1)])"
      ]
     },
     "execution_count": 21,
     "metadata": {},
     "output_type": "execute_result"
    }
   ],
   "source": [
    "OrderedDict(sorted(d.items(),key=lambda t: t[0]))"
   ]
  },
  {
   "cell_type": "code",
   "execution_count": 22,
   "id": "3e9b1951-68e1-4e89-b3c4-1552a6ba902c",
   "metadata": {},
   "outputs": [
    {
     "data": {
      "text/plain": [
       "OrderedDict([('pear', 1), ('orange', 2), ('banana', 3), ('apple', 4)])"
      ]
     },
     "execution_count": 22,
     "metadata": {},
     "output_type": "execute_result"
    }
   ],
   "source": [
    "OrderedDict(sorted(d.items(),key=lambda t:t[1]))"
   ]
  },
  {
   "cell_type": "markdown",
   "id": "c2921504-adae-4369-9b4f-00cf5720f363",
   "metadata": {},
   "source": [
    "## Counter"
   ]
  },
  {
   "cell_type": "code",
   "execution_count": 28,
   "id": "3663db1c-9398-4c6e-b6e7-88ad51d498c0",
   "metadata": {},
   "outputs": [
    {
     "data": {
      "text/plain": [
       "Counter({1: 3, 2: 2, 3: 4})"
      ]
     },
     "execution_count": 28,
     "metadata": {},
     "output_type": "execute_result"
    }
   ],
   "source": [
    "l = [1,1,1,2,2,3,3,3,3]\n",
    "Counter(l)"
   ]
  },
  {
   "cell_type": "code",
   "execution_count": 29,
   "id": "eb9c51bf-16a2-49fe-bc4f-787029b82fb1",
   "metadata": {},
   "outputs": [
    {
     "name": "stdout",
     "output_type": "stream",
     "text": [
      "3\n"
     ]
    }
   ],
   "source": [
    "cnt = Counter(l)\n",
    "print(cnt[1])"
   ]
  },
  {
   "cell_type": "code",
   "execution_count": 31,
   "id": "7447f56c-0809-484b-9fb0-b004708cee02",
   "metadata": {},
   "outputs": [],
   "source": [
    "del(list)"
   ]
  },
  {
   "cell_type": "code",
   "execution_count": 32,
   "id": "65cd3d3e-eaa2-4186-823e-61f28dedd459",
   "metadata": {},
   "outputs": [
    {
     "name": "stdout",
     "output_type": "stream",
     "text": [
      "[1, 1, 1, 2, 2, 2, 2]\n"
     ]
    }
   ],
   "source": [
    "cnt = Counter({1:3,2:4})\n",
    "print(list(cnt.elements()))"
   ]
  },
  {
   "cell_type": "code",
   "execution_count": 33,
   "id": "22412aef-0be5-4a9f-a930-fd7c0133cd41",
   "metadata": {},
   "outputs": [
    {
     "data": {
      "text/plain": [
       "['s', 't', 'r', 'i', 'n', 'g']"
      ]
     },
     "execution_count": 33,
     "metadata": {},
     "output_type": "execute_result"
    }
   ],
   "source": [
    "list('string')"
   ]
  },
  {
   "cell_type": "code",
   "execution_count": 34,
   "id": "10eb92bd-382f-4c94-969a-6f15a0f24dc2",
   "metadata": {},
   "outputs": [
    {
     "name": "stdout",
     "output_type": "stream",
     "text": [
      "[(1, 3), (2, 2), (3, 2), (4, 1), (6, 1), (7, 1), (8, 1)]\n"
     ]
    }
   ],
   "source": [
    "l = [1,2,3,4,1,2,6,7,3,8,1]\n",
    "cnt = Counter(l)\n",
    "print(cnt.most_common())"
   ]
  },
  {
   "cell_type": "code",
   "execution_count": 35,
   "id": "d5a167d5-8501-437b-bef7-4cd823049d53",
   "metadata": {},
   "outputs": [
    {
     "name": "stdout",
     "output_type": "stream",
     "text": [
      "Counter({1: 2, 2: 2})\n"
     ]
    }
   ],
   "source": [
    "cnt = Counter({1:3,2:4})\n",
    "deduct = {1:1,2:2}\n",
    "cnt.subtract(deduct)\n",
    "print(cnt)"
   ]
  },
  {
   "cell_type": "markdown",
   "id": "5c78096f-157a-4838-bcdc-caed400b28c6",
   "metadata": {},
   "source": [
    "## Default Dict"
   ]
  },
  {
   "cell_type": "code",
   "execution_count": 38,
   "id": "16777516-916c-4d78-a255-3f5464d70c4b",
   "metadata": {},
   "outputs": [
    {
     "name": "stdout",
     "output_type": "stream",
     "text": [
      "defaultdict(<class 'int'>, {'Mike,': 5, 'John,': 3, 'Anna,': 2, 'Britney,': 1, 'Smith,': 1, 'Smith': 1})\n"
     ]
    }
   ],
   "source": [
    "from collections import defaultdict\n",
    "\n",
    "count = defaultdict(int)\n",
    "names_list = \"Mike, John, Mike, Anna, Mike, John, John, Mike, Mike, Britney, Smith, Anna, Smith\".split()\n",
    "for names in names_list:\n",
    "    count[names] += 1\n",
    "print(count)"
   ]
  },
  {
   "cell_type": "markdown",
   "id": "cdbdb0b7-9e98-42a4-b427-14e8c3cd4ec8",
   "metadata": {},
   "source": [
    "## Ordered Dict"
   ]
  },
  {
   "cell_type": "code",
   "execution_count": 37,
   "id": "59fd1d09-b949-4913-ba62-20d1b63fd06a",
   "metadata": {},
   "outputs": [
    {
     "name": "stdout",
     "output_type": "stream",
     "text": [
      "a 4\n",
      "c 3\n",
      "b 2\n"
     ]
    }
   ],
   "source": [
    "from collections import OrderedDict\n",
    "l = [\"a\",\"c\",\"c\",\"a\",\"b\",\"a\",\"a\",\"b\",\"c\"]\n",
    "cnt = Counter(l)\n",
    "od = OrderedDict(cnt.most_common())\n",
    "for key, value in od.items():\n",
    "    print(key, value)"
   ]
  },
  {
   "cell_type": "markdown",
   "id": "9879a55f-7c72-4319-a3d1-04c40ac39819",
   "metadata": {},
   "source": [
    "## Deque"
   ]
  },
  {
   "cell_type": "code",
   "execution_count": 39,
   "id": "be9d2ac9-6e64-45c7-92a4-ea4b76e6164e",
   "metadata": {},
   "outputs": [],
   "source": [
    "from collections import deque"
   ]
  },
  {
   "cell_type": "code",
   "execution_count": 40,
   "id": "59aef956-1039-4246-83e2-4fac8cfb72b3",
   "metadata": {},
   "outputs": [],
   "source": [
    "l = [\"a\",\"b\",\"c\"]"
   ]
  },
  {
   "cell_type": "code",
   "execution_count": 41,
   "id": "4c8ece6d-d684-4cbb-9b62-0c9a810ed4c6",
   "metadata": {},
   "outputs": [
    {
     "name": "stdout",
     "output_type": "stream",
     "text": [
      "deque(['a', 'b', 'c'])\n"
     ]
    }
   ],
   "source": [
    "deq = deque(l)\n",
    "print(deq)"
   ]
  },
  {
   "cell_type": "code",
   "execution_count": 42,
   "id": "502d9ac9-3b54-46e5-954c-bead0649df91",
   "metadata": {},
   "outputs": [
    {
     "name": "stdout",
     "output_type": "stream",
     "text": [
      "deque(['e', 'a', 'b', 'c', 'd'])\n"
     ]
    }
   ],
   "source": [
    "deq.append(\"d\")\n",
    "deq.appendleft(\"e\")\n",
    "print(deq)"
   ]
  },
  {
   "cell_type": "code",
   "execution_count": 43,
   "id": "9722535d-e636-4589-bd3a-dbb725404a0a",
   "metadata": {},
   "outputs": [
    {
     "name": "stdout",
     "output_type": "stream",
     "text": [
      "deque(['a', 'b', 'c'])\n"
     ]
    }
   ],
   "source": [
    "deq.pop()\n",
    "deq.popleft()\n",
    "print(deq)"
   ]
  },
  {
   "cell_type": "code",
   "execution_count": 44,
   "id": "3f7ee327-f9f3-4ee6-8cd2-82cdd2f74d18",
   "metadata": {},
   "outputs": [
    {
     "name": "stdout",
     "output_type": "stream",
     "text": [
      "None\n"
     ]
    }
   ],
   "source": [
    "print(deq.clear())"
   ]
  },
  {
   "cell_type": "code",
   "execution_count": 46,
   "id": "302a7c19-d68b-4fd0-bfe4-f4f5f7de69b9",
   "metadata": {},
   "outputs": [
    {
     "name": "stdout",
     "output_type": "stream",
     "text": [
      "1\n"
     ]
    }
   ],
   "source": [
    "l = [\"a\",\"b\",\"c\"]\n",
    "deq = deque(l)\n",
    "print(deq.count(\"a\"))"
   ]
  },
  {
   "cell_type": "markdown",
   "id": "b98dc0a9-30d0-4936-86cd-b459a20d0033",
   "metadata": {},
   "source": [
    "## Chainmap"
   ]
  },
  {
   "cell_type": "markdown",
   "id": "75b2c562-26e4-4d33-a48d-0d06cb00d555",
   "metadata": {},
   "source": [
    "Used to combine several dictionaries or mappings. It returns a list of dictionaries."
   ]
  },
  {
   "cell_type": "code",
   "execution_count": 48,
   "id": "8e5ff579-62df-4ee1-88f7-03e5dec2432f",
   "metadata": {},
   "outputs": [],
   "source": [
    "from collections import ChainMap"
   ]
  },
  {
   "cell_type": "code",
   "execution_count": 52,
   "id": "0c0e8775-6e70-4e59-801f-608a82fa6785",
   "metadata": {},
   "outputs": [
    {
     "name": "stdout",
     "output_type": "stream",
     "text": [
      "[{'a': 1, 'b': 2}, {'c': 3, 'b': 4}]\n"
     ]
    }
   ],
   "source": [
    "dict1 = { 'a' : 1, 'b' : 2 }\n",
    "dict2 = { 'c' : 3, 'b' : 4 }\n",
    "chain_map = ChainMap(dict1, dict2)\n",
    "print(chain_map.maps)"
   ]
  },
  {
   "cell_type": "code",
   "execution_count": 53,
   "id": "53e728c1-7781-443d-b1af-85ba9345fc05",
   "metadata": {},
   "outputs": [
    {
     "name": "stdout",
     "output_type": "stream",
     "text": [
      "1\n"
     ]
    }
   ],
   "source": [
    "print(chain_map['a'])"
   ]
  },
  {
   "cell_type": "code",
   "execution_count": 57,
   "id": "bb7bd64a-cb5a-4474-835f-7a6e15adbfff",
   "metadata": {},
   "outputs": [
    {
     "name": "stdout",
     "output_type": "stream",
     "text": [
      "['c', 'b', 'a']\n",
      "[3, 2, 1]\n"
     ]
    }
   ],
   "source": [
    "print(list(chain_map.keys()))\n",
    "print(list(chain_map.values())) # takes value for the key from the first dictionary"
   ]
  },
  {
   "cell_type": "code",
   "execution_count": 58,
   "id": "e560e8f6-02f4-4b2c-9e58-4c1be5308c66",
   "metadata": {},
   "outputs": [
    {
     "name": "stdout",
     "output_type": "stream",
     "text": [
      "ChainMap({'e': 5, 'f': 6}, {'a': 1, 'b': 2}, {'c': 3, 'b': 4})\n"
     ]
    }
   ],
   "source": [
    "dict3 = {'e':5,'f':6}\n",
    "new_chain_map = chain_map.new_child(dict3)\n",
    "print(new_chain_map)"
   ]
  },
  {
   "cell_type": "markdown",
   "id": "64643c9e-2626-4fc6-85bf-c2db3374e683",
   "metadata": {},
   "source": [
    "## Named Tuple"
   ]
  },
  {
   "cell_type": "code",
   "execution_count": 59,
   "id": "7e33d0d3-1b6e-481d-8942-6dd00c1f9de8",
   "metadata": {},
   "outputs": [
    {
     "name": "stdout",
     "output_type": "stream",
     "text": [
      "John\n"
     ]
    }
   ],
   "source": [
    "from collections import namedtuple\n",
    "\n",
    "Student = namedtuple('Student','fname,lname,age')\n",
    "s1 = Student('John','Clarke','13')\n",
    "print(s1.fname)"
   ]
  },
  {
   "cell_type": "code",
   "execution_count": 60,
   "id": "151746ad-4104-401d-9268-ddcca3f2f199",
   "metadata": {},
   "outputs": [
    {
     "name": "stdout",
     "output_type": "stream",
     "text": [
      "Student(fname='Adam', lname='joe', age='18')\n"
     ]
    }
   ],
   "source": [
    "s2 = Student._make(['Adam','joe','18'])\n",
    "print(s2)"
   ]
  },
  {
   "cell_type": "code",
   "execution_count": 61,
   "id": "fa3d3ce9-54de-4c02-b13e-61045bc12e6c",
   "metadata": {},
   "outputs": [
    {
     "name": "stdout",
     "output_type": "stream",
     "text": [
      "{'fname': 'John', 'lname': 'Clarke', 'age': '13'}\n"
     ]
    }
   ],
   "source": [
    "s2 = s1._asdict()\n",
    "print(s2)"
   ]
  },
  {
   "cell_type": "code",
   "execution_count": 62,
   "id": "fde25464-b26c-4af3-83c7-60bd439f7fec",
   "metadata": {},
   "outputs": [
    {
     "name": "stdout",
     "output_type": "stream",
     "text": [
      "Student(fname='John', lname='Clarke', age='13')\n",
      "Student(fname='John', lname='Clarke', age='14')\n"
     ]
    }
   ],
   "source": [
    "s2 = s1._replace(age='14')\n",
    "print(s1)\n",
    "print(s2)"
   ]
  },
  {
   "cell_type": "code",
   "execution_count": null,
   "id": "1f4353c3-685a-44e5-bedc-c9ee4fb99c5e",
   "metadata": {},
   "outputs": [],
   "source": []
  }
 ],
 "metadata": {
  "kernelspec": {
   "display_name": "LHL_env",
   "language": "python",
   "name": "lhl_env"
  },
  "language_info": {
   "codemirror_mode": {
    "name": "ipython",
    "version": 3
   },
   "file_extension": ".py",
   "mimetype": "text/x-python",
   "name": "python",
   "nbconvert_exporter": "python",
   "pygments_lexer": "ipython3",
   "version": "3.9.13"
  }
 },
 "nbformat": 4,
 "nbformat_minor": 5
}
