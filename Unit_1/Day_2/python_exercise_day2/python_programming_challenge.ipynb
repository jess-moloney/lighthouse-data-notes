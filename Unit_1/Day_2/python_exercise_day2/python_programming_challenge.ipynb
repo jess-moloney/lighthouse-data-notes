{
 "cells": [
  {
   "cell_type": "markdown",
   "metadata": {},
   "source": [
    "# Python Programming Challenge\n",
    "\n",
    "## Poker Hand\n",
    "\n",
    "In this challenge, we have to determine which kind of Poker combination is present in a deck of 5 cards. Every card is a string containing the card value **with the upper-case initial for face-cards** and the **lower-case initial for the suit**, as seen in the examples below:\n",
    "\n",
    "> \"Ah\" ➞ Ace of hearts <br>\n",
    "> \"Ks\" ➞ King of spades<br>\n",
    "> \"3d\" ➞ Three of diamonds<br>\n",
    "> \"Qc\" ➞ Queen of clubs <br>\n",
    "\n",
    "There are 10 different combinations. Here's the list, in descending order of importance:"
   ]
  },
  {
   "cell_type": "markdown",
   "metadata": {},
   "source": [
    "| Name            | Description                                         |\n",
    "|-----------------|-----------------------------------------------------|\n",
    "| Royal Flush     | A, K, Q, J, 10, all with the same suit.             |\n",
    "| Straight Flush  | Five cards in sequence, all with the same suit.     |\n",
    "| Four of a Kind  | Four cards of the same rank.                        |\n",
    "| Full House      | Three of a Kind with a Pair.                        |\n",
    "| Flush           | Any five cards of the same suit, not in sequence    |\n",
    "| Straight        | Five cards in a sequence, but not of the same suit. |\n",
    "| Three of a Kind | Three cards of the same rank.                       |\n",
    "| Two Pair        | Two different Pairs.                                |\n",
    "| Pair            | Two cards of the same rank.                         |\n",
    "| High Card       | No other valid combination.                         |\n",
    "\n",
    "---------"
   ]
  },
  {
   "cell_type": "markdown",
   "metadata": {},
   "source": [
    "#### 1. Given a list `hand` containing five strings being the cards. Implement a function called `poker_hand_ranking` that **returns a string with the name of the highest combination obtained.** According to the table above.\n",
    "\n",
    "**Examples:**\n",
    "\n",
    "> poker_hand_ranking([\"10h\", \"Jh\", \"Qh\", \"Ah\", \"Kh\"]) ➞ \"Royal Flush\"<br>\n",
    "> poker_hand_ranking([\"3h\", \"5h\", \"Qs\", \"9h\", \"Ad\"]) ➞ \"High Card\"<br>\n",
    "> poker_hand_ranking([\"10s\", \"10c\", \"8d\", \"10d\", \"10h\"]) ➞ \"Four of a Kind\"<br>"
   ]
  },
  {
   "cell_type": "code",
   "execution_count": 53,
   "metadata": {},
   "outputs": [
    {
     "name": "stdout",
     "output_type": "stream",
     "text": [
      "Royal Flush\n",
      "Straight Flush\n",
      "Bicycle Straight Flush\n",
      "Four of a kind\n",
      "Full House\n",
      "Flush\n",
      "Straight\n",
      "Bicycle Straight\n",
      "Three of a kind\n",
      "Two Pair\n",
      "Pair\n",
      "High card\n",
      "Full House\n"
     ]
    }
   ],
   "source": [
    "from collections import Counter\n",
    "def poker_hand_ranking(hand):\n",
    "    '''\n",
    "    Input is a list 'hand' containing five strings being the cards.\n",
    "    Output is a string with the name of the highest combination obtained\n",
    "    '''\n",
    "\n",
    "# three different types of hand:\n",
    "\n",
    "# 1 - VALUE-BASED: use counter to get count of most common card values\n",
    "    # Four of a Kind\n",
    "    # Full House (three of a kind with a pair)\n",
    "    # Three of a Kind\n",
    "    # Two Pair\n",
    "    # Pair\n",
    "    # High Card (all different values)\n",
    "\n",
    "# 2 - SAME SUIT: use counter to get count of most common suit\n",
    "    # Flush (all same suit)\n",
    "\n",
    "# 3 - SEQUENCE: \n",
    "    # Royal Flush (A, K, Q, J, 10), all same suit\n",
    "    # Straight Flush (five cards in sequence), all same suit\n",
    "    # Straight (any five cards in sequence)\n",
    "\n",
    "    # start empty card value and suit list\n",
    "    card_value = []\n",
    "    suit_list = []\n",
    "\n",
    "    # loop through the cards in the hand\n",
    "    for card in hand: \n",
    "\n",
    "        # add the suit of each card to the suit_list (this is at the last index in the string representing the hand)\n",
    "        suit_list.append(card[-1])\n",
    "\n",
    "        # add the value of each card to the card_list (this is everything except the last index in the string representing the hand)\n",
    "        card_value.append(card[:-1])\n",
    "\n",
    "    # use Counter to generate a dictionary, with the suits in the hand as the keys and the count of each suit as the values\n",
    "    suit_cnt = Counter(suit_list)\n",
    "\n",
    "    # use Counter to generate a dictionary, with the values in the hand as the keys and the count of each value as the values\n",
    "    value_cnt = Counter(card_value)\n",
    "\n",
    "    # For SEQUENCE hands, need to rank the card values\n",
    "    rank = [ '2', '3', '4', '5', '6', '7', '8', '9', '10', 'J', 'Q', 'K', 'A']\n",
    "    # index   0    1    2    3    4    5    6    7    8     9    10   11   12\n",
    "\n",
    "    # the value_sorted list sorts the card_value list by the rank\n",
    "    value_sorted = sorted(card_value, key=rank.index)\n",
    "\n",
    "    # to know if the cards are in sequence, need to find the difference in the rank index of the first and last cards in the sorted hand.\n",
    "    diff = rank.index(value_sorted[4]) - rank.index(value_sorted[0])\n",
    "        \n",
    "    if diff == 4 and len(value_cnt) == 5:\n",
    "    # this means five cards in sequence\n",
    "        if suit_cnt.most_common(1)[0][1] == 5:\n",
    "            # this means all five cards are the same suit\n",
    "            if 'A' in card_value:\n",
    "                # the royal flush needs to have the Ace\n",
    "                print(\"Royal Flush\")\n",
    "            else:\n",
    "                print(\"Straight Flush\")\n",
    "        else:\n",
    "            # not all five cards are the same suit\n",
    "            print(\"Straight\")\n",
    "            \n",
    "    elif diff == 12 and (rank.index(value_sorted[3]) - rank.index(value_sorted[0]) == 3):\n",
    "        if suit_cnt.most_common(1)[0][1]==5:\n",
    "            print(\"Bicycle Straight Flush\")\n",
    "        else:\n",
    "            print(\"Bicycle Straight\")\n",
    "\n",
    "    elif value_cnt.most_common(1)[0][1]==4:\n",
    "        print(\"Four of a kind\")\n",
    "\n",
    "    elif value_cnt.most_common(2)[0][1]==3 and value_cnt.most_common(2)[1][1]==2:\n",
    "        print(\"Full House\")\n",
    "\n",
    "    elif suit_cnt.most_common(1)[0][1]==5:\n",
    "        print(\"Flush\")\n",
    "\n",
    "    elif value_cnt.most_common(1)[0][1]==3:\n",
    "        print(\"Three of a kind\")\n",
    "\n",
    "    elif value_cnt.most_common(2)[0][1]==2 and value_cnt.most_common(2)[1][1]==2:\n",
    "        print(\"Two Pair\")\n",
    "\n",
    "    elif value_cnt.most_common(1)[0][1]==2:\n",
    "        print(\"Pair\")\n",
    "\n",
    "    else:\n",
    "        print(\"High card\")\n",
    "\n",
    "poker_hand_ranking([\"10h\", \"Jh\", \"Qh\", \"Ah\", \"Kh\"])\n",
    "poker_hand_ranking([\"3h\", \"4h\", \"5h\", \"6h\", \"7h\"])\n",
    "poker_hand_ranking([\"3h\", \"2h\", \"4h\", \"Ah\", \"5h\"])\n",
    "poker_hand_ranking([\"Qh\", \"Qh\", \"Qs\", \"Qh\", \"Ad\"])\n",
    "poker_hand_ranking([\"10s\", \"9c\", \"9d\", \"10d\", \"10h\"])\n",
    "poker_hand_ranking([\"3s\", \"9s\", \"7s\", \"10s\", \"Qs\"])\n",
    "poker_hand_ranking([\"8s\", \"7h\", \"9h\", \"Jh\", \"10h\"])\n",
    "poker_hand_ranking([\"3s\", \"2h\", \"4h\", \"Ah\", \"5h\"])\n",
    "poker_hand_ranking([\"3s\", \"3h\", \"3h\", \"Ah\", \"6h\"])\n",
    "poker_hand_ranking([\"3s\", \"Ah\", \"6h\", \"Ah\", \"6h\"])\n",
    "poker_hand_ranking([\"3s\", \"Ah\", \"5h\", \"Ah\", \"6h\"])\n",
    "poker_hand_ranking([\"3s\", \"2h\", \"4h\", \"Ah\", \"6h\"])\n",
    "poker_hand_ranking([\"4s\", \"4h\", \"4h\", \"9h\", \"9h\"])"
   ]
  },
  {
   "cell_type": "markdown",
   "metadata": {
    "tags": []
   },
   "source": [
    "## Figuring Things Out"
   ]
  },
  {
   "cell_type": "code",
   "execution_count": 46,
   "metadata": {},
   "outputs": [
    {
     "data": {
      "text/plain": [
       "[('h', 5)]"
      ]
     },
     "execution_count": 46,
     "metadata": {},
     "output_type": "execute_result"
    }
   ],
   "source": [
    "hand = [\"3h\", \"2h\", \"4h\", \"4h\", \"5h\"]\n",
    "card_value = []\n",
    "suit_list = [] \n",
    "\n",
    "for card in hand:\n",
    "    suit_list.append(card[-1])\n",
    "    card_value.append(card[:-1])\n",
    "suit_cnt = Counter(suit_list)\n",
    "value_cnt = Counter(card_value)\n",
    "rank = [ '2', '3', '4', '5', '6', '7', '8', '9', '10', 'J', 'Q', 'K', 'A']\n",
    "value_sorted = sorted(card_value, key=rank.index)\n",
    "diff = rank.index(value_sorted[4]) - rank.index(value_sorted[0])\n",
    "value_sorted\n",
    "diff\n",
    "suit_cnt.most_common(1)"
   ]
  },
  {
   "cell_type": "code",
   "execution_count": 47,
   "metadata": {},
   "outputs": [
    {
     "data": {
      "text/plain": [
       "['2', '3', '4', '4', '5']"
      ]
     },
     "execution_count": 47,
     "metadata": {},
     "output_type": "execute_result"
    }
   ],
   "source": [
    "value_sorted"
   ]
  },
  {
   "cell_type": "code",
   "execution_count": 48,
   "metadata": {},
   "outputs": [
    {
     "ename": "NameError",
     "evalue": "name 'A' is not defined",
     "output_type": "error",
     "traceback": [
      "\u001b[1;31m---------------------------------------------------------------------------\u001b[0m",
      "\u001b[1;31mNameError\u001b[0m                                 Traceback (most recent call last)",
      "Cell \u001b[1;32mIn [48], line 1\u001b[0m\n\u001b[1;32m----> 1\u001b[0m \u001b[38;5;241m2\u001b[39m,\u001b[38;5;241m3\u001b[39m,\u001b[38;5;241m4\u001b[39m,\u001b[38;5;241m5\u001b[39m,\u001b[43mA\u001b[49m\n",
      "\u001b[1;31mNameError\u001b[0m: name 'A' is not defined"
     ]
    }
   ],
   "source": [
    "2,3,4,5,A"
   ]
  },
  {
   "cell_type": "code",
   "execution_count": 51,
   "metadata": {},
   "outputs": [
    {
     "data": {
      "text/plain": [
       "Counter({'3': 1, '2': 1, '4': 2, '5': 1})"
      ]
     },
     "execution_count": 51,
     "metadata": {},
     "output_type": "execute_result"
    }
   ],
   "source": [
    "value_cnt"
   ]
  },
  {
   "cell_type": "code",
   "execution_count": 38,
   "metadata": {},
   "outputs": [
    {
     "name": "stdout",
     "output_type": "stream",
     "text": [
      "Four of a kind\n"
     ]
    }
   ],
   "source": [
    "from collections import Counter\n",
    "hand = [\"10s\", \"10c\", \"8d\", \"10d\", \"10h\"]\n",
    "\n",
    "# three different types of hand:\n",
    "\n",
    "# 1 - VALUE-BASED: use counter to get count of most common card values\n",
    "    # Four of a Kind\n",
    "    # Full House (three of a kind with a pair)\n",
    "    # Three of a Kind\n",
    "    # Two Pair\n",
    "    # Pair\n",
    "    # High Card (all different values)\n",
    "\n",
    "# 2 - SAME SUIT: use counter to get count of most common suit\n",
    "    # Flush (all same suit)\n",
    "\n",
    "# 3 - SEQUENCE: \n",
    "    # Royal Flush (A, K, Q, J, 10), all same suit\n",
    "    # Straight Flush (five cards in sequence), all same suit\n",
    "    # Straight (any five cards in sequence)\n",
    "\n",
    "# start empty suit, card value, and rank list\n",
    "card_value = []\n",
    "suit_list = []\n",
    "\n",
    "# loop through the cards in the hand and \n",
    "for card in hand: \n",
    "    \n",
    "    # add the suit of each card to the suit_list\n",
    "    suit_list.append(card[-1])\n",
    "    \n",
    "    # add the value of each card to the card_list\n",
    "    card_value.append(card[:-1])\n",
    "\n",
    "# use Counter to find the count of each suit in the hand\n",
    "suit_cnt = Counter(suit_list)\n",
    "\n",
    "# use Counter to find the count of each value in the hand\n",
    "value_cnt = Counter(card_value)\n",
    "\n",
    "# For SEQUENCE hands, need to rank the card values\n",
    "rank = [ '2', '3', '4', '5', '6', '7', '8', '9', '10', 'J', 'Q', 'K', 'A']\n",
    "# index   0    1    2    3    4    5    6    7    8     9    10   11   12\n",
    "\n",
    "# the value_sorted list sorts the card_value list by the rank\n",
    "value_sorted = sorted(card_value, key=rank.index)\n",
    "\n",
    "# to know if the cards are in sequence, need to find the difference in the rank index of the first and last cards in the sorted hand.\n",
    "diff = rank.index(value_sorted[4]) - rank.index(value_sorted[0])\n",
    "\n",
    "\n",
    "if diff == 4:\n",
    "# this means five cards in sequence\n",
    "    if suit_cnt.most_common(1)[0][1] == 5:\n",
    "        # this means all five cards are the same suit\n",
    "        if 'A' in card_value:\n",
    "            # the royal flush needs to have the Ace\n",
    "            print(\"Royal Flush\")\n",
    "        else:\n",
    "            print(\"Straight Flush\")\n",
    "    else:\n",
    "        # not all five cards are the same suit\n",
    "        print(\"Straight\")\n",
    "\n",
    "elif value_cnt.most_common(1)[0][1]==4:\n",
    "    print(\"Four of a kind\")\n",
    "\n",
    "elif value_cnt.most_common(2)[0][1]==3 and card_cnt.most_common(2)[1][1]==2:\n",
    "    print(\"Full House\")\n",
    "    \n",
    "elif suit_cnt.most_common(1)[0][1]==5:\n",
    "    print(\"Flush\")\n",
    "    \n",
    "elif value_cnt.most_common(1)[0][1]==3:\n",
    "    print(\"Three of a kind\")\n",
    "    \n",
    "elif value_cnt.most_common(2)[0][1]==2 and card_cnt.most_common(2)[1][1]==2:\n",
    "    print(\"Two Pair\")\n",
    "    \n",
    "elif value_cnt.most_common(1)[0][1]==2:\n",
    "    print(\"Pair\")\n",
    "    \n",
    "else:\n",
    "    print(\"High card\")"
   ]
  },
  {
   "cell_type": "code",
   "execution_count": 25,
   "metadata": {},
   "outputs": [
    {
     "data": {
      "text/plain": [
       "['6', '7', '7', '10', 'J']"
      ]
     },
     "execution_count": 25,
     "metadata": {},
     "output_type": "execute_result"
    }
   ],
   "source": [
    "# the value_sorted list should sort the card_values by the rank\n",
    "\n",
    "value_sorted = sorted(card_value, key=rank.index)\n",
    "value_sorted"
   ]
  },
  {
   "cell_type": "code",
   "execution_count": 32,
   "metadata": {},
   "outputs": [],
   "source": [
    "# to know if the cards are in sequence, need to find the difference in the rank index of the first and last cards in the sorted hand.\n",
    "\n",
    "diff = rank.index(value_sorted[4]) - rank.index(value_sorted[0])"
   ]
  },
  {
   "cell_type": "code",
   "execution_count": 33,
   "metadata": {},
   "outputs": [],
   "source": [
    "# it's a straight if the diff is 4\n"
   ]
  },
  {
   "cell_type": "code",
   "execution_count": 9,
   "metadata": {
    "tags": []
   },
   "outputs": [
    {
     "data": {
      "text/plain": [
       "[['6', '7', '10'], ['6', '7', '10'], ['6', '7', '10']]"
      ]
     },
     "execution_count": 9,
     "metadata": {},
     "output_type": "execute_result"
    }
   ],
   "source": [
    "# For SEQUENCE hands, need to rank the card values\n",
    "rank = [ '2', '3', '4', '5', '6', '7', '8', '9', '10', 'J', 'Q', 'K', 'A']\n",
    "# index   0    1    2    3    4    5    6    7    8     9    10   11   12\n",
    "\n",
    "# start empty suit and card value list\n",
    "suit_list = []\n",
    "card_value = []\n",
    "rank_list =[]\n",
    "\n",
    "hand = [\"10s\", \"7c\", \"7d\", \"6d\", \"10h\"]\n",
    "# loop through the cards in the hand and \n",
    "for card in hand: \n",
    "    \n",
    "    # add the suit of each card to the suit_list\n",
    "    suit_list.append(card[-1])\n",
    "    \n",
    "    # add the value of each card to the card_list\n",
    "    card_value.append(card[0:-1])\n",
    "\n",
    "# use Counter to find the count of each suit in the hand\n",
    "suit_cnt = Counter(suit_list)\n",
    "\n",
    "# use Counter to find the count of each value in the hand\n",
    "card_cnt = Counter(card_value)\n",
    "\n",
    "for card in card_cnt:\n",
    "    rank_list.append(sorted(card_cnt, key=rank.index))\n",
    "\n",
    "rank_list"
   ]
  },
  {
   "cell_type": "code",
   "execution_count": 64,
   "metadata": {
    "tags": []
   },
   "outputs": [
    {
     "name": "stdout",
     "output_type": "stream",
     "text": [
      "Counter({'10': 2, '7': 2, '6': 1})\n"
     ]
    }
   ],
   "source": [
    "print(card_cnt)"
   ]
  },
  {
   "cell_type": "code",
   "execution_count": 67,
   "metadata": {},
   "outputs": [
    {
     "name": "stdout",
     "output_type": "stream",
     "text": [
      "['10', '7', '6']\n"
     ]
    }
   ],
   "source": [
    "key_list = []\n",
    "for key in card_cnt:\n",
    "    key_list.append(key)\n",
    "print(key_list)"
   ]
  },
  {
   "cell_type": "code",
   "execution_count": 69,
   "metadata": {},
   "outputs": [
    {
     "data": {
      "text/plain": [
       "[9, 6, 5]"
      ]
     },
     "execution_count": 69,
     "metadata": {},
     "output_type": "execute_result"
    }
   ],
   "source": [
    "sequence = []\n",
    "for key in key_list:\n",
    "    sequence.append(deck[key])\n",
    "sequence"
   ]
  },
  {
   "cell_type": "code",
   "execution_count": 70,
   "metadata": {},
   "outputs": [
    {
     "name": "stdout",
     "output_type": "stream",
     "text": [
      "0\n",
      "1\n",
      "2\n"
     ]
    }
   ],
   "source": [
    "for s in range(len(sequence)):\n",
    "    s"
   ]
  },
  {
   "cell_type": "code",
   "execution_count": 60,
   "metadata": {},
   "outputs": [
    {
     "name": "stdout",
     "output_type": "stream",
     "text": [
      "1\n",
      "2\n",
      "3\n",
      "4\n",
      "5\n",
      "6\n",
      "7\n",
      "8\n",
      "9\n",
      "10\n",
      "11\n",
      "12\n",
      "13\n"
     ]
    }
   ],
   "source": [
    "for cards in deck:\n",
    "    if card_cnt[card] = deck[cards]"
   ]
  },
  {
   "cell_type": "code",
   "execution_count": 46,
   "metadata": {},
   "outputs": [
    {
     "data": {
      "text/plain": [
       "5"
      ]
     },
     "execution_count": 46,
     "metadata": {},
     "output_type": "execute_result"
    }
   ],
   "source": [
    "suit_cnt.most_common(1)[0][1]"
   ]
  },
  {
   "cell_type": "code",
   "execution_count": null,
   "metadata": {},
   "outputs": [],
   "source": [
    "royalFlush = \n",
    "\n",
    "def poker_hand_ranking(hand):\n",
    "    for card in hand:\n",
    "         "
   ]
  },
  {
   "cell_type": "code",
   "execution_count": 2,
   "metadata": {},
   "outputs": [
    {
     "name": "stdout",
     "output_type": "stream",
     "text": [
      "['10h']\n",
      "['Jh']\n",
      "['Qh']\n",
      "['Ah']\n",
      "['Kh']\n"
     ]
    }
   ],
   "source": [
    "hand = [\"10h\", \"Jh\", \"Qh\", \"Ah\", \"Kh\"]\n",
    "for card in hand:\n",
    "    print(card.split())"
   ]
  },
  {
   "cell_type": "code",
   "execution_count": 4,
   "metadata": {},
   "outputs": [
    {
     "data": {
      "text/plain": [
       "Counter({'10h': 1, 'Jh': 1, 'Qh': 1, 'Ah': 1, 'Kh': 1})"
      ]
     },
     "execution_count": 4,
     "metadata": {},
     "output_type": "execute_result"
    }
   ],
   "source": [
    "from collections import Counter\n",
    "hand = [\"10h\", \"Jh\", \"Qh\", \"Ah\", \"Kh\"]\n",
    "Counter(hand)"
   ]
  },
  {
   "cell_type": "code",
   "execution_count": 7,
   "metadata": {},
   "outputs": [
    {
     "data": {
      "text/plain": [
       "['h']"
      ]
     },
     "execution_count": 7,
     "metadata": {},
     "output_type": "execute_result"
    }
   ],
   "source": [
    "card = \"10h\"\n",
    "suit_list = []\n",
    "suit_list.append(card[-1])\n",
    "suit_list"
   ]
  },
  {
   "cell_type": "code",
   "execution_count": 26,
   "metadata": {},
   "outputs": [
    {
     "ename": "TypeError",
     "evalue": "int() argument must be a string, a bytes-like object or a number, not 'dict_keys'",
     "output_type": "error",
     "traceback": [
      "\u001b[1;31m---------------------------------------------------------------------------\u001b[0m",
      "\u001b[1;31mTypeError\u001b[0m                                 Traceback (most recent call last)",
      "Cell \u001b[1;32mIn [26], line 10\u001b[0m\n\u001b[0;32m      8\u001b[0m card_cnt \u001b[38;5;241m=\u001b[39m Counter(card_value)\n\u001b[0;32m      9\u001b[0m \u001b[38;5;28;01mif\u001b[39;00m suit_cnt[\u001b[38;5;124m'\u001b[39m\u001b[38;5;124mh\u001b[39m\u001b[38;5;124m'\u001b[39m]\u001b[38;5;241m==\u001b[39m\u001b[38;5;241m5\u001b[39m:\n\u001b[1;32m---> 10\u001b[0m     \u001b[38;5;28;01mif\u001b[39;00m \u001b[38;5;28msum\u001b[39m(\u001b[38;5;28;43mint\u001b[39;49m\u001b[43m(\u001b[49m\u001b[43mcard_cnt\u001b[49m\u001b[38;5;241;43m.\u001b[39;49m\u001b[43mkeys\u001b[49m\u001b[43m(\u001b[49m\u001b[43m)\u001b[49m\u001b[43m)\u001b[49m)\u001b[38;5;241m==\u001b[39m\u001b[38;5;241m55\u001b[39m:\n\u001b[0;32m     11\u001b[0m         \u001b[38;5;28mprint\u001b[39m(\u001b[38;5;124m\"\u001b[39m\u001b[38;5;124mRoyal Flush\u001b[39m\u001b[38;5;124m\"\u001b[39m)\n\u001b[0;32m     12\u001b[0m     \u001b[38;5;28;01melse\u001b[39;00m:\n",
      "\u001b[1;31mTypeError\u001b[0m: int() argument must be a string, a bytes-like object or a number, not 'dict_keys'"
     ]
    }
   ],
   "source": [
    "hand = [\"10h\", \"Jh\", \"Qh\", \"Ah\", \"Kh\"]\n",
    "suit_list = []\n",
    "card_value = []\n",
    "for card in hand:\n",
    "    suit_list.append(card[-1])\n",
    "    card_value.append(card[0:-1])\n",
    "suit_cnt = Counter(suit_list)\n",
    "card_cnt = Counter(card_value)\n",
    "if suit_cnt['h']==5:\n",
    "    if sum(int(card_cnt.keys()))==55:\n",
    "        print(\"Royal Flush\")\n",
    "    else:\n",
    "        print(\"Flush\")"
   ]
  },
  {
   "cell_type": "code",
   "execution_count": 27,
   "metadata": {},
   "outputs": [
    {
     "data": {
      "text/plain": [
       "55"
      ]
     },
     "execution_count": 27,
     "metadata": {},
     "output_type": "execute_result"
    }
   ],
   "source": [
    "9+10+11+12+13"
   ]
  },
  {
   "cell_type": "code",
   "execution_count": 28,
   "metadata": {},
   "outputs": [
    {
     "data": {
      "text/plain": [
       "Counter({'10': 1, 'J': 1, 'Q': 1, 'A': 1, 'K': 1})"
      ]
     },
     "execution_count": 28,
     "metadata": {},
     "output_type": "execute_result"
    }
   ],
   "source": [
    "card_cnt"
   ]
  },
  {
   "cell_type": "code",
   "execution_count": null,
   "metadata": {},
   "outputs": [],
   "source": [
    "dictionary[new_key] = dictionary[old_key]\n",
    "del dictionary[old_key]"
   ]
  },
  {
   "cell_type": "code",
   "execution_count": 30,
   "metadata": {},
   "outputs": [
    {
     "ename": "RuntimeError",
     "evalue": "dictionary keys changed during iteration",
     "output_type": "error",
     "traceback": [
      "\u001b[1;31m---------------------------------------------------------------------------\u001b[0m",
      "\u001b[1;31mRuntimeError\u001b[0m                              Traceback (most recent call last)",
      "Cell \u001b[1;32mIn [30], line 1\u001b[0m\n\u001b[1;32m----> 1\u001b[0m \u001b[38;5;28;01mfor\u001b[39;00m key \u001b[38;5;129;01min\u001b[39;00m card_cnt:\n\u001b[0;32m      2\u001b[0m     \u001b[38;5;28;01mif\u001b[39;00m \u001b[38;5;129;01mnot\u001b[39;00m key\u001b[38;5;241m.\u001b[39misdigit():\n\u001b[0;32m      3\u001b[0m         \u001b[38;5;28;01mif\u001b[39;00m key \u001b[38;5;241m==\u001b[39m \u001b[38;5;124m'\u001b[39m\u001b[38;5;124mJ\u001b[39m\u001b[38;5;124m'\u001b[39m:\n",
      "\u001b[1;31mRuntimeError\u001b[0m: dictionary keys changed during iteration"
     ]
    }
   ],
   "source": [
    "for key in card_cnt:\n",
    "    if not key.isdigit():\n",
    "        if key == 'J':\n",
    "            card_cnt['11']=card_cnt['J']\n",
    "            del card_cnt['J']\n",
    "card_cnt"
   ]
  },
  {
   "cell_type": "code",
   "execution_count": 10,
   "metadata": {
    "tags": []
   },
   "outputs": [
    {
     "data": {
      "text/plain": [
       "'10'"
      ]
     },
     "execution_count": 10,
     "metadata": {},
     "output_type": "execute_result"
    }
   ],
   "source": [
    "card = '10h'\n",
    "card[0:-1]"
   ]
  },
  {
   "cell_type": "code",
   "execution_count": 13,
   "metadata": {},
   "outputs": [
    {
     "data": {
      "text/plain": [
       "1"
      ]
     },
     "execution_count": 13,
     "metadata": {},
     "output_type": "execute_result"
    }
   ],
   "source": [
    "deck = {'2':1,'3':2,'4':3,'5':4,'6':5,'7':6,'8':7,'9':8,'10':9,'J':10,'Q':11,'K':12,'A':13}\n",
    "deck['2']"
   ]
  },
  {
   "cell_type": "markdown",
   "metadata": {},
   "source": [
    "------------\n",
    "### **Stretch Content**\n",
    "\n",
    "#### 2.  Implement a function `winner_is` that returns the winner given a dictionary with different players and their hands. \n",
    "**Example**\n",
    "\n",
    "We define dictionary like\n",
    "```python\n",
    "round_1 = {\"John\" = [\"10h\", \"Jh\", \"Qh\", \"Ah\", \"Kh\"], \n",
    "        \"Peter\" = [\"3h\", \"5h\", \"Qs\", \"9h\", \"Ad\"]}\n",
    "```\n",
    "\n",
    "Our function returns the name of the winner:\n",
    "> winner_is(round_1) --> \"John\"\n",
    "\n",
    "One table can have up to 10 players.\n"
   ]
  },
  {
   "cell_type": "code",
   "execution_count": 75,
   "metadata": {},
   "outputs": [],
   "source": [
    "roundx = {\n",
    "    \"John\" : [\"10h\", \"Jh\", \"Qh\", \"Ah\", \"Kh\"], \n",
    "    \"Peter\" : [\"3h\", \"5h\", \"Qs\", \"9h\", \"Ad\"]\n",
    "}\n",
    "\n",
    "ranked_combos = [\n",
    "    'Royal Flush',\n",
    "    'Straight Flush',\n",
    "    'Bicycle Straight Flush'\n",
    "    'Four of a Kind',\n",
    "    'Full House',\n",
    "    'Flush',\n",
    "    'Straight',\n",
    "    'Three of a Kind',\n",
    "    'Two Pair',\n",
    "    'Pair',\n",
    "    'High Card'\n",
    "]\n",
    "\n",
    "poker_combo = 'Pair'\n",
    "\n",
    "rank = ranked_combos.index(poker_combo)\n",
    "\n",
    "def winner_is(roundx):\n",
    "    '''\n",
    "    Input is a dictionary with different players as the keys and their hands as the values\n",
    "    Output is a key from the dictionary representing the player with the winning hand\n",
    "    '''\n",
    "    \n",
    "    # empty list of hands:\n",
    "    hands = []\n",
    "    players = []\n",
    "    poker_combo = []\n",
    "    \n",
    "    # look at the hands\n",
    "    for player in roundx:\n",
    "        hands.append(roundx[player])\n",
    "        players.append(player)\n",
    "    for hand in hands:\n",
    "        poker_combo.append(poker_hand_ranking(hand))\n",
    "    rank = ranked_combos.index(poker_combo)\n",
    "    print(rank)\n",
    "        \n",
    "    \n"
   ]
  },
  {
   "cell_type": "code",
   "execution_count": 77,
   "metadata": {},
   "outputs": [
    {
     "name": "stdout",
     "output_type": "stream",
     "text": [
      "Royal Flush\n",
      "High card\n"
     ]
    },
    {
     "ename": "ValueError",
     "evalue": "[None, None] is not in list",
     "output_type": "error",
     "traceback": [
      "\u001b[1;31m---------------------------------------------------------------------------\u001b[0m",
      "\u001b[1;31mValueError\u001b[0m                                Traceback (most recent call last)",
      "Cell \u001b[1;32mIn [77], line 10\u001b[0m\n\u001b[0;32m      8\u001b[0m \u001b[38;5;28;01mfor\u001b[39;00m hand \u001b[38;5;129;01min\u001b[39;00m hands:\n\u001b[0;32m      9\u001b[0m         poker_combo\u001b[38;5;241m.\u001b[39mappend(poker_hand_ranking(hand))\n\u001b[1;32m---> 10\u001b[0m rank \u001b[38;5;241m=\u001b[39m \u001b[43mranked_combos\u001b[49m\u001b[38;5;241;43m.\u001b[39;49m\u001b[43mindex\u001b[49m\u001b[43m(\u001b[49m\u001b[43mpoker_combo\u001b[49m\u001b[43m)\u001b[49m\n\u001b[0;32m     11\u001b[0m \u001b[38;5;28mprint\u001b[39m(rank)\n",
      "\u001b[1;31mValueError\u001b[0m: [None, None] is not in list"
     ]
    }
   ],
   "source": [
    "hands = []\n",
    "players = []\n",
    "poker_combo = []\n",
    "\n",
    "for player in roundx:\n",
    "    hands.append(roundx[player])\n",
    "    players.append(player)\n",
    "for hand in hands:\n",
    "    poker_combo.append(poker_hand_ranking(hand))\n",
    "rank = ranked_combos.index(poker_combo)\n",
    "print(rank)"
   ]
  },
  {
   "cell_type": "code",
   "execution_count": 62,
   "metadata": {},
   "outputs": [
    {
     "ename": "KeyError",
     "evalue": "0",
     "output_type": "error",
     "traceback": [
      "\u001b[1;31m---------------------------------------------------------------------------\u001b[0m",
      "\u001b[1;31mKeyError\u001b[0m                                  Traceback (most recent call last)",
      "Cell \u001b[1;32mIn [62], line 1\u001b[0m\n\u001b[1;32m----> 1\u001b[0m \u001b[43mroundx\u001b[49m\u001b[43m[\u001b[49m\u001b[38;5;241;43m0\u001b[39;49m\u001b[43m]\u001b[49m\n",
      "\u001b[1;31mKeyError\u001b[0m: 0"
     ]
    }
   ],
   "source": [
    "roundx[0]"
   ]
  },
  {
   "cell_type": "code",
   "execution_count": null,
   "metadata": {},
   "outputs": [],
   "source": []
  },
  {
   "cell_type": "code",
   "execution_count": null,
   "metadata": {},
   "outputs": [],
   "source": []
  },
  {
   "cell_type": "markdown",
   "metadata": {},
   "source": [
    "#### 3. Create a function `distribute_cards` that randomly generates and gives 5 cards to every player given a list of player names.\n",
    "\n",
    "**Example**\n",
    "\n",
    "> distribute_cards([\"John\",\"Peter\"])  -> round_1 = {\"John\" = [\"10h\", \"Jh\", \"Qh\", \"Ah\", \"Kh\"], \n",
    "        \"Peter\" = [\"3h\", \"5h\", \"Qs\", \"9h\", \"Ad\"]\n",
    "}"
   ]
  },
  {
   "cell_type": "code",
   "execution_count": null,
   "metadata": {},
   "outputs": [],
   "source": []
  },
  {
   "cell_type": "code",
   "execution_count": null,
   "metadata": {},
   "outputs": [],
   "source": []
  },
  {
   "cell_type": "code",
   "execution_count": null,
   "metadata": {},
   "outputs": [],
   "source": []
  },
  {
   "cell_type": "code",
   "execution_count": null,
   "metadata": {},
   "outputs": [],
   "source": []
  }
 ],
 "metadata": {
  "kernelspec": {
   "display_name": "Python 3 (ipykernel)",
   "language": "python",
   "name": "python3"
  },
  "language_info": {
   "codemirror_mode": {
    "name": "ipython",
    "version": 3
   },
   "file_extension": ".py",
   "mimetype": "text/x-python",
   "name": "python",
   "nbconvert_exporter": "python",
   "pygments_lexer": "ipython3",
   "version": "3.9.12"
  }
 },
 "nbformat": 4,
 "nbformat_minor": 4
}
