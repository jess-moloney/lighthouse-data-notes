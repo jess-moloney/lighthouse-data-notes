{
 "cells": [
  {
   "cell_type": "markdown",
   "id": "5377b4d6-4ed5-4b55-8852-fb072c2bee50",
   "metadata": {
    "jp-MarkdownHeadingCollapsed": true,
    "tags": []
   },
   "source": [
    "can pass iterables to set() function to create a set.\n",
    "\n",
    "no duplicates in a set"
   ]
  },
  {
   "cell_type": "code",
   "execution_count": 8,
   "id": "87f8ec91-1167-4866-88c9-74a1651be5fc",
   "metadata": {},
   "outputs": [
    {
     "data": {
      "text/plain": [
       "{1, 2, 3, 4}"
      ]
     },
     "execution_count": 8,
     "metadata": {},
     "output_type": "execute_result"
    }
   ],
   "source": [
    "s = set([1,2,3,4,1])\n",
    "s"
   ]
  },
  {
   "cell_type": "markdown",
   "id": "f59cfbce-a5a4-4d7a-8ee2-5eece3d48812",
   "metadata": {},
   "source": [
    "can also define a set using curly braces"
   ]
  },
  {
   "cell_type": "code",
   "execution_count": 9,
   "id": "a9cf2c2e-9444-4c63-8d6d-880786db0430",
   "metadata": {},
   "outputs": [
    {
     "data": {
      "text/plain": [
       "{1, 2, 3}"
      ]
     },
     "execution_count": 9,
     "metadata": {},
     "output_type": "execute_result"
    }
   ],
   "source": [
    "s = {1,2,3,1}\n",
    "s"
   ]
  },
  {
   "cell_type": "markdown",
   "id": "764f6f99-db43-4682-aefd-e4d659c60759",
   "metadata": {},
   "source": [
    "To recap:\n",
    "\n",
    "The argument to set() is an iterable. It generates a list of elements to be placed into the set.\n",
    "The objects in curly braces are placed into the set intact, even if they are iterable.\n",
    "\n",
    "can create an empty set with set() (empty curly brackets is an empty dictionary)\n",
    "\n",
    "sets can contain elements of different types, but the types must be immutable (e.g., strings, tuples, ints, floats, but NOT lists or dictionairies)\n",
    "\n",
    "len() function returns number of elements in a set, and in and not in operators can be used to test for membership"
   ]
  },
  {
   "cell_type": "markdown",
   "id": "4c08dece-906c-46de-b6d8-4251bf5f113e",
   "metadata": {},
   "source": [
    "# Operating on a Set"
   ]
  },
  {
   "cell_type": "markdown",
   "id": "dcb4e6e8-2718-43fe-b9d1-d8545d7038de",
   "metadata": {},
   "source": [
    "## Union"
   ]
  },
  {
   "cell_type": "code",
   "execution_count": 18,
   "id": "11adc1e6-0e5e-4011-8dd9-f001004f54f1",
   "metadata": {},
   "outputs": [
    {
     "data": {
      "text/plain": [
       "{'bar', 'baz', 'foo', 'quux', 'qux'}"
      ]
     },
     "execution_count": 18,
     "metadata": {},
     "output_type": "execute_result"
    }
   ],
   "source": [
    "x1 = {'foo','bar','baz'}\n",
    "x2 = {'baz','qux','quux'}\n",
    "x1 | x2 #operator - both operands must be sets"
   ]
  },
  {
   "cell_type": "code",
   "execution_count": 15,
   "id": "8b8f79ee-f46c-4c3d-b727-db29d694dbab",
   "metadata": {},
   "outputs": [
    {
     "data": {
      "text/plain": [
       "{'bar', 'baz', 'foo', 'quux', 'qux'}"
      ]
     },
     "execution_count": 15,
     "metadata": {},
     "output_type": "execute_result"
    }
   ],
   "source": [
    "x1.union(x2) #method - the argument can be any iterable"
   ]
  },
  {
   "cell_type": "code",
   "execution_count": 17,
   "id": "3ff7583e-3edc-4750-acc7-0c2deb754795",
   "metadata": {},
   "outputs": [
    {
     "data": {
      "text/plain": [
       "{1, 2, 3, 'bar', 'baz', 'foo'}"
      ]
     },
     "execution_count": 17,
     "metadata": {},
     "output_type": "execute_result"
    }
   ],
   "source": [
    "x1.union((1,2,3))"
   ]
  },
  {
   "cell_type": "markdown",
   "id": "f94386af-dc1f-40c7-b74d-59d38e87a804",
   "metadata": {},
   "source": [
    "more than two sets can be specified with either the operator or the method"
   ]
  },
  {
   "cell_type": "markdown",
   "id": "7552f58f-20b9-4ca4-98e6-3757531421de",
   "metadata": {},
   "source": [
    "## Intersection"
   ]
  },
  {
   "cell_type": "code",
   "execution_count": 19,
   "id": "e9bb2f47-0462-4161-9a25-af72c8cbdf8e",
   "metadata": {},
   "outputs": [
    {
     "data": {
      "text/plain": [
       "{'baz'}"
      ]
     },
     "execution_count": 19,
     "metadata": {},
     "output_type": "execute_result"
    }
   ],
   "source": [
    "x1 & x2"
   ]
  },
  {
   "cell_type": "code",
   "execution_count": 20,
   "id": "ad5a3a06-a0c6-4a6b-93f2-c611637884d1",
   "metadata": {},
   "outputs": [
    {
     "data": {
      "text/plain": [
       "{'baz'}"
      ]
     },
     "execution_count": 20,
     "metadata": {},
     "output_type": "execute_result"
    }
   ],
   "source": [
    "x1.intersection(x2)"
   ]
  },
  {
   "cell_type": "markdown",
   "id": "7551ca23-c1eb-4e1a-b9c6-805f60d72cb8",
   "metadata": {},
   "source": [
    "## Difference"
   ]
  },
  {
   "cell_type": "code",
   "execution_count": 54,
   "id": "c6c11ad1-6361-4542-8774-743dbb09946c",
   "metadata": {},
   "outputs": [
    {
     "data": {
      "text/plain": [
       "{'baz'}"
      ]
     },
     "execution_count": 54,
     "metadata": {},
     "output_type": "execute_result"
    }
   ],
   "source": [
    "x1 - x2 # returns all the elements that are in set 1 but NOT in set 2 aka, returns the set that results when any elements in x2 are removed or subtracted from x1"
   ]
  },
  {
   "cell_type": "code",
   "execution_count": 25,
   "id": "a316c97b-c288-4bc6-8e78-89320fe2af51",
   "metadata": {},
   "outputs": [
    {
     "data": {
      "text/plain": [
       "{'bar', 'foo'}"
      ]
     },
     "execution_count": 25,
     "metadata": {},
     "output_type": "execute_result"
    }
   ],
   "source": [
    "x1.difference(x2)"
   ]
  },
  {
   "cell_type": "code",
   "execution_count": 28,
   "id": "ba1ff03a-be2e-4915-b4a1-e8ef4dddc347",
   "metadata": {},
   "outputs": [
    {
     "data": {
      "text/plain": [
       "{1, 2, 3}"
      ]
     },
     "execution_count": 28,
     "metadata": {},
     "output_type": "execute_result"
    }
   ],
   "source": [
    "a = {1, 2, 3, 30, 300}\n",
    "b = {10, 20, 30, 40}\n",
    "c = {100, 200, 300, 400}\n",
    "\n",
    "a - b - c # operation is performed from left to right (a-b is computed first, the c is subracted from that set)"
   ]
  },
  {
   "cell_type": "code",
   "execution_count": 29,
   "id": "3701ebda-32f4-4184-bf71-8cbd1bb8d32c",
   "metadata": {},
   "outputs": [
    {
     "data": {
      "text/plain": [
       "{1, 2, 3}"
      ]
     },
     "execution_count": 29,
     "metadata": {},
     "output_type": "execute_result"
    }
   ],
   "source": [
    "a.difference(b,c)"
   ]
  },
  {
   "cell_type": "markdown",
   "id": "2fa5f8be-4f12-4ef1-8374-acaf6b2c99f0",
   "metadata": {},
   "source": [
    "## Symmetric Difference"
   ]
  },
  {
   "cell_type": "code",
   "execution_count": 30,
   "id": "fdbb09cb-bd89-436c-962b-52255da6fe4a",
   "metadata": {},
   "outputs": [
    {
     "data": {
      "text/plain": [
       "{'bar', 'foo', 'quux', 'qux'}"
      ]
     },
     "execution_count": 30,
     "metadata": {},
     "output_type": "execute_result"
    }
   ],
   "source": [
    "x1 ^ x2"
   ]
  },
  {
   "cell_type": "code",
   "execution_count": 35,
   "id": "f436e891-6020-447a-9f78-94f8d22e13e4",
   "metadata": {},
   "outputs": [
    {
     "data": {
      "text/plain": [
       "{'bar', 'foo', 'quux', 'qux'}"
      ]
     },
     "execution_count": 35,
     "metadata": {},
     "output_type": "execute_result"
    }
   ],
   "source": [
    "x1.symmetric_difference(x2) # can only use with one set in the arguments"
   ]
  },
  {
   "cell_type": "code",
   "execution_count": 34,
   "id": "a6c8a939-2322-4aba-9d54-2b65607e4c0b",
   "metadata": {},
   "outputs": [],
   "source": [
    "# everything that doesn't overlap"
   ]
  },
  {
   "cell_type": "markdown",
   "id": "2f836bcc-b4a1-4d01-9692-8cbecbfcb2fe",
   "metadata": {},
   "source": [
    "## Disjoint"
   ]
  },
  {
   "cell_type": "code",
   "execution_count": 36,
   "id": "ac8cf60a-8a73-4489-8e82-27e158c30818",
   "metadata": {},
   "outputs": [
    {
     "data": {
      "text/plain": [
       "False"
      ]
     },
     "execution_count": 36,
     "metadata": {},
     "output_type": "execute_result"
    }
   ],
   "source": [
    "x1.isdisjoint(x2) # returns if x1 and x2 have NO elements in common"
   ]
  },
  {
   "cell_type": "code",
   "execution_count": 37,
   "id": "8067db6e-54de-4921-8533-a5d551730dd2",
   "metadata": {},
   "outputs": [],
   "source": [
    "# if x1.disjoint(x2) is True, the x1 & x2 is the empty set"
   ]
  },
  {
   "cell_type": "markdown",
   "id": "6b308821-d195-428e-bf5a-f4ad67919096",
   "metadata": {},
   "source": [
    "## Subset"
   ]
  },
  {
   "cell_type": "code",
   "execution_count": 38,
   "id": "ac5c3afa-70b6-4c22-97ed-dadfb9f9fe30",
   "metadata": {},
   "outputs": [],
   "source": [
    "# set x1 is considered a subset of another set x2 if every element of x1 is in x2"
   ]
  },
  {
   "cell_type": "code",
   "execution_count": 43,
   "id": "1b455aa3-9fb1-4c59-b8f5-8b557f49ada6",
   "metadata": {},
   "outputs": [
    {
     "data": {
      "text/plain": [
       "True"
      ]
     },
     "execution_count": 43,
     "metadata": {},
     "output_type": "execute_result"
    }
   ],
   "source": [
    "x1.issubset({'foo','bar','baz','qux'})"
   ]
  },
  {
   "cell_type": "code",
   "execution_count": 44,
   "id": "90c24b8b-36ad-42c9-bde5-e9814b4ac228",
   "metadata": {},
   "outputs": [
    {
     "data": {
      "text/plain": [
       "False"
      ]
     },
     "execution_count": 44,
     "metadata": {},
     "output_type": "execute_result"
    }
   ],
   "source": [
    "x2 <= x1"
   ]
  },
  {
   "cell_type": "code",
   "execution_count": 45,
   "id": "7d8994de-2673-4fc8-ac34-bb7a0ce85c50",
   "metadata": {},
   "outputs": [],
   "source": [
    "# a subset is considered to be a subset of itself"
   ]
  },
  {
   "cell_type": "code",
   "execution_count": 46,
   "id": "30af0b60-ed3f-4882-ae5f-e726a4c55bdf",
   "metadata": {},
   "outputs": [],
   "source": [
    "# a proper subset is a subset where the sets aren't identical. x1 < x2 returns Ture if x1 is a proper subset of x2"
   ]
  },
  {
   "cell_type": "code",
   "execution_count": 48,
   "id": "540286f8-6e86-4c40-b8de-3382611703f3",
   "metadata": {},
   "outputs": [
    {
     "data": {
      "text/plain": [
       "True"
      ]
     },
     "execution_count": 48,
     "metadata": {},
     "output_type": "execute_result"
    }
   ],
   "source": [
    "x1 = {'foo', 'bar'}\n",
    "x2 = {'foo', 'bar', 'baz'}\n",
    "\n",
    "x1 < x2"
   ]
  },
  {
   "cell_type": "markdown",
   "id": "85a9859f-e791-4f1a-a1dc-cb47b66e0690",
   "metadata": {},
   "source": [
    "## Superset"
   ]
  },
  {
   "cell_type": "code",
   "execution_count": 49,
   "id": "bfae9e47-e53f-4fd1-a094-26ad7e9ccaf3",
   "metadata": {},
   "outputs": [],
   "source": [
    "# reverse of a subset - set x1 considered superset of set x2 if x1 contains every element of x2"
   ]
  },
  {
   "cell_type": "code",
   "execution_count": 50,
   "id": "305e6e01-c87d-4379-8962-8894ddda80e1",
   "metadata": {},
   "outputs": [
    {
     "data": {
      "text/plain": [
       "True"
      ]
     },
     "execution_count": 50,
     "metadata": {},
     "output_type": "execute_result"
    }
   ],
   "source": [
    "x1 = {'foo', 'bar', 'baz'}\n",
    "x1.issuperset({'foo','bar'})"
   ]
  },
  {
   "cell_type": "code",
   "execution_count": 51,
   "id": "962b98b5-e429-416f-bc5a-6819db90666f",
   "metadata": {},
   "outputs": [
    {
     "data": {
      "text/plain": [
       "True"
      ]
     },
     "execution_count": 51,
     "metadata": {},
     "output_type": "execute_result"
    }
   ],
   "source": [
    "x2 = {'foo','bar'}\n",
    "x1 >= x2"
   ]
  },
  {
   "cell_type": "code",
   "execution_count": 52,
   "id": "b43dc68f-c5b8-4672-88dc-14223cf38e76",
   "metadata": {},
   "outputs": [],
   "source": [
    "# set is also a superset of itself, but proper superset means sets can't be identical"
   ]
  },
  {
   "cell_type": "markdown",
   "id": "5e1082a8-510e-4ad9-a34d-ce44f3f7332c",
   "metadata": {},
   "source": [
    "# Modifying a Set"
   ]
  },
  {
   "cell_type": "code",
   "execution_count": 55,
   "id": "4e1a61b3-36ad-47eb-90c4-db523a596351",
   "metadata": {},
   "outputs": [],
   "source": [
    "# modify a set by a union"
   ]
  },
  {
   "cell_type": "code",
   "execution_count": 57,
   "id": "39289816-63b7-4990-837f-9627545ca0f3",
   "metadata": {},
   "outputs": [
    {
     "data": {
      "text/plain": [
       "{'bar', 'baz', 'foo', 'qux'}"
      ]
     },
     "execution_count": 57,
     "metadata": {},
     "output_type": "execute_result"
    }
   ],
   "source": [
    "x1 = {'foo', 'bar', 'baz'}\n",
    "x2 = {'foo', 'baz', 'qux'}\n",
    "\n",
    "x1 |= x2\n",
    "x1"
   ]
  },
  {
   "cell_type": "code",
   "execution_count": 58,
   "id": "303f944f-1c98-4a89-8802-35c3246c3a45",
   "metadata": {},
   "outputs": [],
   "source": [
    "x1.update(['corge','garply'])"
   ]
  },
  {
   "cell_type": "code",
   "execution_count": 59,
   "id": "f6ff9b1c-5ba0-471c-869e-9d6ef54aa42d",
   "metadata": {},
   "outputs": [
    {
     "data": {
      "text/plain": [
       "{'bar', 'baz', 'corge', 'foo', 'garply', 'qux'}"
      ]
     },
     "execution_count": 59,
     "metadata": {},
     "output_type": "execute_result"
    }
   ],
   "source": [
    "x1"
   ]
  },
  {
   "cell_type": "code",
   "execution_count": 60,
   "id": "fb081f85-a797-4a66-8136-677b9c05c064",
   "metadata": {},
   "outputs": [
    {
     "data": {
      "text/plain": [
       "{'baz', 'foo'}"
      ]
     },
     "execution_count": 60,
     "metadata": {},
     "output_type": "execute_result"
    }
   ],
   "source": [
    "# modify by intersection\n",
    "\n",
    "x1 = {'foo', 'bar', 'baz'}\n",
    "x2 = {'foo', 'baz', 'qux'}\n",
    "\n",
    "x1 &= x2\n",
    "x1"
   ]
  },
  {
   "cell_type": "code",
   "execution_count": 63,
   "id": "de54d9e9-89fc-4946-b562-fe4976d782ee",
   "metadata": {},
   "outputs": [
    {
     "data": {
      "text/plain": [
       "{'baz'}"
      ]
     },
     "execution_count": 63,
     "metadata": {},
     "output_type": "execute_result"
    }
   ],
   "source": [
    "x1.intersection_update(['baz', 'qux'])\n",
    "x1"
   ]
  },
  {
   "cell_type": "code",
   "execution_count": 64,
   "id": "5ee086d9-2dcb-4b2b-b7dd-3714d8e408eb",
   "metadata": {},
   "outputs": [],
   "source": [
    "# can do the same with difference, symmetric difference, "
   ]
  },
  {
   "cell_type": "code",
   "execution_count": 65,
   "id": "b21b7b92-a63c-4a23-a9ea-d80abb1c87cc",
   "metadata": {},
   "outputs": [],
   "source": [
    "x = {'foo', 'bar', 'baz'}\n",
    "x.add('qux')"
   ]
  },
  {
   "cell_type": "code",
   "execution_count": 66,
   "id": "f5320bdc-2da4-4d77-acea-d933c0660429",
   "metadata": {},
   "outputs": [
    {
     "data": {
      "text/plain": [
       "{'bar', 'baz', 'foo', 'qux'}"
      ]
     },
     "execution_count": 66,
     "metadata": {},
     "output_type": "execute_result"
    }
   ],
   "source": [
    "x"
   ]
  },
  {
   "cell_type": "code",
   "execution_count": 67,
   "id": "f31577a1-b5f4-4e07-829f-a42ef3bb36ae",
   "metadata": {},
   "outputs": [
    {
     "data": {
      "text/plain": [
       "{'bar', 'baz', 'foo'}"
      ]
     },
     "execution_count": 67,
     "metadata": {},
     "output_type": "execute_result"
    }
   ],
   "source": [
    "x.remove('qux')\n",
    "x"
   ]
  },
  {
   "cell_type": "code",
   "execution_count": 69,
   "id": "79af823a-92f7-444e-b9e6-88202eafe6fe",
   "metadata": {},
   "outputs": [],
   "source": [
    "x.discard('qux') #same as remove, but doesn't raise exception if argument is not in set"
   ]
  },
  {
   "cell_type": "code",
   "execution_count": 71,
   "id": "c832aa18-4056-4f26-85c7-b5bd562ad32f",
   "metadata": {},
   "outputs": [
    {
     "data": {
      "text/plain": [
       "{'bar'}"
      ]
     },
     "execution_count": 71,
     "metadata": {},
     "output_type": "execute_result"
    }
   ],
   "source": [
    "x.pop() # removes and returns arbitrary element\n",
    "x"
   ]
  },
  {
   "cell_type": "code",
   "execution_count": 72,
   "id": "71c44b48-9a99-43d4-8e21-e1489a015399",
   "metadata": {},
   "outputs": [
    {
     "data": {
      "text/plain": [
       "set()"
      ]
     },
     "execution_count": 72,
     "metadata": {},
     "output_type": "execute_result"
    }
   ],
   "source": [
    "x.clear()\n",
    "x"
   ]
  },
  {
   "cell_type": "markdown",
   "id": "6957322d-c566-49f9-9fdf-5e72774dc1c8",
   "metadata": {},
   "source": [
    "## Frozen Set"
   ]
  },
  {
   "cell_type": "code",
   "execution_count": 73,
   "id": "39cf56d0-abbf-4ea6-a706-4fd0d46fb78b",
   "metadata": {},
   "outputs": [],
   "source": [
    "#same as set except it's immutable"
   ]
  },
  {
   "cell_type": "code",
   "execution_count": 75,
   "id": "20d4d47a-48d3-4d54-97c6-c029aca23916",
   "metadata": {},
   "outputs": [
    {
     "data": {
      "text/plain": [
       "frozenset({'bar', 'baz', 'foo'})"
      ]
     },
     "execution_count": 75,
     "metadata": {},
     "output_type": "execute_result"
    }
   ],
   "source": [
    "x = frozenset(['foo', 'bar', 'baz'])\n",
    "x"
   ]
  },
  {
   "cell_type": "code",
   "execution_count": 76,
   "id": "c533974b-6745-4483-b66f-0952eeac51d2",
   "metadata": {},
   "outputs": [
    {
     "data": {
      "text/plain": [
       "3"
      ]
     },
     "execution_count": 76,
     "metadata": {},
     "output_type": "execute_result"
    }
   ],
   "source": [
    "len(x)"
   ]
  },
  {
   "cell_type": "code",
   "execution_count": 77,
   "id": "741375cf-b4b5-4cb4-afcc-67917f5403ef",
   "metadata": {},
   "outputs": [
    {
     "data": {
      "text/plain": [
       "frozenset({'baz'})"
      ]
     },
     "execution_count": 77,
     "metadata": {},
     "output_type": "execute_result"
    }
   ],
   "source": [
    "x & {'baz', 'qux', 'quux'}"
   ]
  },
  {
   "cell_type": "code",
   "execution_count": 78,
   "id": "3ef0c5da-ed76-4fc5-987c-d113aa5af083",
   "metadata": {},
   "outputs": [
    {
     "ename": "AttributeError",
     "evalue": "'frozenset' object has no attribute 'add'",
     "output_type": "error",
     "traceback": [
      "\u001b[1;31m---------------------------------------------------------------------------\u001b[0m",
      "\u001b[1;31mAttributeError\u001b[0m                            Traceback (most recent call last)",
      "Cell \u001b[1;32mIn [78], line 1\u001b[0m\n\u001b[1;32m----> 1\u001b[0m \u001b[43mx\u001b[49m\u001b[38;5;241;43m.\u001b[39;49m\u001b[43madd\u001b[49m(\u001b[38;5;124m'\u001b[39m\u001b[38;5;124mqux\u001b[39m\u001b[38;5;124m'\u001b[39m)\n",
      "\u001b[1;31mAttributeError\u001b[0m: 'frozenset' object has no attribute 'add'"
     ]
    }
   ],
   "source": [
    "x.add('qux')"
   ]
  },
  {
   "cell_type": "code",
   "execution_count": 79,
   "id": "23105969-d7f1-4fa5-a224-7d6fd3c6bf46",
   "metadata": {},
   "outputs": [],
   "source": [
    "# useful in stuations where you want to use a set, but need it to be immutable (e.g., for dictionary keys, or creating a set of sets)"
   ]
  },
  {
   "cell_type": "code",
   "execution_count": null,
   "id": "d686707d-75e6-41e0-9608-b2b0aea06b2a",
   "metadata": {},
   "outputs": [],
   "source": []
  }
 ],
 "metadata": {
  "kernelspec": {
   "display_name": "LHL_env",
   "language": "python",
   "name": "lhl_env"
  },
  "language_info": {
   "codemirror_mode": {
    "name": "ipython",
    "version": 3
   },
   "file_extension": ".py",
   "mimetype": "text/x-python",
   "name": "python",
   "nbconvert_exporter": "python",
   "pygments_lexer": "ipython3",
   "version": "3.9.13"
  }
 },
 "nbformat": 4,
 "nbformat_minor": 5
}
