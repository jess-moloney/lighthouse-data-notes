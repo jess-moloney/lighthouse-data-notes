{
 "cells": [
  {
   "cell_type": "markdown",
   "id": "a1ccef7c-5a2a-48d0-a2ad-c6a466047400",
   "metadata": {},
   "source": [
    "# APIs in Python"
   ]
  },
  {
   "cell_type": "code",
   "execution_count": 2,
   "id": "93b82338-0199-4e8d-b775-c0f75f626e6c",
   "metadata": {},
   "outputs": [],
   "source": [
    "import requests as re"
   ]
  },
  {
   "cell_type": "code",
   "execution_count": 3,
   "id": "a7029926-2cb3-49ce-97c4-af7180daff69",
   "metadata": {},
   "outputs": [],
   "source": [
    "import os"
   ]
  },
  {
   "cell_type": "code",
   "execution_count": 4,
   "id": "16fa3e40-d39a-4334-897a-0edd8c2d7ffe",
   "metadata": {},
   "outputs": [],
   "source": [
    "api_key = os.environ[\"FOURSQUARE_API_KEY\"]"
   ]
  },
  {
   "cell_type": "code",
   "execution_count": 5,
   "id": "eeb810a7-840e-4dba-b608-9281f74305ed",
   "metadata": {},
   "outputs": [],
   "source": [
    "location = \"Toronto,Canada\""
   ]
  },
  {
   "cell_type": "code",
   "execution_count": 6,
   "id": "e799cc34-75f0-482f-a17c-d06cfd188c35",
   "metadata": {},
   "outputs": [],
   "source": [
    "url = \"https://api.foursquare.com/v3/places/search?near=\"+location"
   ]
  },
  {
   "cell_type": "code",
   "execution_count": 7,
   "id": "5c5c2366-6ee4-4f8c-8436-85e262652216",
   "metadata": {},
   "outputs": [],
   "source": [
    "#create dictionary for headers\n",
    "headers = {\"Accept\": \"application/json\"}\n",
    "#add key with our API KEY\n",
    "headers['Authorization'] = api_key"
   ]
  },
  {
   "cell_type": "code",
   "execution_count": 9,
   "id": "13d5f19e-34dd-4b3d-a2bf-f691c7269025",
   "metadata": {},
   "outputs": [],
   "source": [
    "res = re.get(url, headers=headers)"
   ]
  },
  {
   "cell_type": "code",
   "execution_count": 11,
   "id": "cb22474d-1a39-40f1-8b46-81e53b173453",
   "metadata": {},
   "outputs": [
    {
     "name": "stdout",
     "output_type": "stream",
     "text": [
      "{'results': [{'fsq_id': '4fdc0e98e4b05197cd14912b', 'categories': [{'id': 13003, 'name': 'Bar', 'icon': {'prefix': 'https://ss3.4sqi.net/img/categories_v2/nightlife/pub_', 'suffix': '.png'}}, {'id': 13051, 'name': 'Fish and Chips Shop', 'icon': {'prefix': 'https://ss3.4sqi.net/img/categories_v2/food/fishandchips_', 'suffix': '.png'}}, {'id': 13057, 'name': 'Gastropub', 'icon': {'prefix': 'https://ss3.4sqi.net/img/categories_v2/food/gastropub_', 'suffix': '.png'}}], 'chains': [], 'distance': 457, 'geocodes': {'main': {'latitude': 43.703719, 'longitude': -79.413372}, 'roof': {'latitude': 43.703719, 'longitude': -79.413372}}, 'link': '/v3/places/4fdc0e98e4b05197cd14912b', 'location': {'address': '508 Eglinton Ave W', 'country': 'CA', 'cross_street': 'Heddington Ave', 'formatted_address': '508 Eglinton Ave W (Heddington Ave), Toronto ON M5N 1A5', 'locality': 'Toronto', 'neighborhood': ['Allenby'], 'postcode': 'M5N 1A5', 'region': 'ON'}, 'name': 'The Abbot on Eglinton', 'related_places': {}, 'timezone': 'America/Toronto'}, {'fsq_id': '4b0afc19f964a520212b23e3', 'categories': [{'id': 16000, 'name': 'Landmarks and Outdoors', 'icon': {'prefix': 'https://ss3.4sqi.net/img/categories_v2/parks_outdoors/field_', 'suffix': '.png'}}, {'id': 16033, 'name': 'Dog Park', 'icon': {'prefix': 'https://ss3.4sqi.net/img/categories_v2/parks_outdoors/dogrun_', 'suffix': '.png'}}], 'chains': [], 'distance': 1304, 'geocodes': {'main': {'latitude': 43.678243, 'longitude': -79.375198}, 'roof': {'latitude': 43.678243, 'longitude': -79.375198}}, 'link': '/v3/places/4b0afc19f964a520212b23e3', 'location': {'address': '100 Glen Rd', 'country': 'CA', 'cross_street': 'Strathearn', 'formatted_address': '100 Glen Rd (Strathearn), Toronto ON M4W 2V7', 'locality': 'Toronto', 'postcode': 'M4W 2V7', 'region': 'ON'}, 'name': 'Cedarvale Park', 'related_places': {'children': [{'fsq_id': '61c4f0b4e565fe05c7572a44', 'name': 'Toboggan Hill'}, {'fsq_id': '5050f634e4b092c65b899303', 'name': 'Cedarvale Dog Park'}]}, 'timezone': 'America/Toronto'}, {'fsq_id': '502e3a9e90e75889381c35ef', 'categories': [{'id': 13097, 'name': 'Caribbean Restaurant', 'icon': {'prefix': 'https://ss3.4sqi.net/img/categories_v2/food/caribbean_', 'suffix': '.png'}}], 'chains': [], 'distance': 1437, 'geocodes': {'main': {'latitude': 43.709145, 'longitude': -79.403493}}, 'link': '/v3/places/502e3a9e90e75889381c35ef', 'location': {'address': '211 Yonge St', 'country': 'CA', 'cross_street': 'Shuter', 'formatted_address': '211 Yonge St (Shuter), Toronto ON', 'locality': 'Toronto', 'region': 'ON'}, 'name': 'Ritz Caribbean Foods', 'related_places': {}, 'timezone': 'America/Toronto'}, {'fsq_id': '52418b0b7e48222eea81d2d2', 'categories': [{'id': 13199, 'name': 'Indian Restaurant', 'icon': {'prefix': 'https://ss3.4sqi.net/img/categories_v2/food/indian_', 'suffix': '.png'}}], 'chains': [], 'distance': 2357, 'geocodes': {'main': {'latitude': 43.681157, 'longitude': -79.429366}, 'roof': {'latitude': 43.681157, 'longitude': -79.429366}}, 'link': '/v3/places/52418b0b7e48222eea81d2d2', 'location': {'address': '778 Saint Clair Ave W', 'country': 'CA', 'cross_street': 'St Clair West & Arlington Ave', 'formatted_address': '778 Saint Clair Ave W (St Clair West & Arlington Ave), Toronto ON M6C 1B6', 'locality': 'Toronto', 'neighborhood': ['York'], 'postcode': 'M6C 1B6', 'region': 'ON'}, 'name': 'Pukka', 'related_places': {}, 'timezone': 'America/Toronto'}, {'fsq_id': '4afdecd4f964a5201c2c22e3', 'categories': [{'id': 17101, 'name': 'Garden Center', 'icon': {'prefix': 'https://ss3.4sqi.net/img/categories_v2/parks_outdoors/gardencenter_', 'suffix': '.png'}}], 'chains': [], 'distance': 2453, 'geocodes': {'main': {'latitude': 43.719016, 'longitude': -79.400743}, 'roof': {'latitude': 43.719016, 'longitude': -79.400743}}, 'link': '/v3/places/4afdecd4f964a5201c2c22e3', 'location': {'address': '2827 Yonge St', 'country': 'CA', 'formatted_address': '2827 Yonge St, Toronto ON M4N 2J4', 'locality': 'Toronto', 'neighborhood': ['North Toronto'], 'postcode': 'M4N 2J4', 'region': 'ON'}, 'name': 'Sheridan Nurseries Ltd', 'related_places': {}, 'timezone': 'America/Toronto'}, {'fsq_id': '59f655cca87921744858ec5d', 'categories': [{'id': 10015, 'name': 'Escape Room', 'icon': {'prefix': 'https://ss3.4sqi.net/img/categories_v2/arts_entertainment/default_', 'suffix': '.png'}}], 'chains': [], 'distance': 2451, 'geocodes': {'main': {'latitude': 43.678569, 'longitude': -79.409729}}, 'link': '/v3/places/59f655cca87921744858ec5d', 'location': {'address': '1 Austin Terr', 'country': 'CA', 'cross_street': '', 'formatted_address': '1 Austin Terr, Toronto ON M5R 1X8', 'locality': 'Toronto', 'postcode': 'M5R 1X8', 'region': 'ON'}, 'name': 'Escape Casa Loma', 'related_places': {'parent': {'fsq_id': '4bef48fcc80dc9284ec827e3', 'name': 'Casa Loma'}}, 'timezone': 'America/Toronto'}, {'fsq_id': '4bef48fcc80dc9284ec827e3', 'categories': [{'id': 16007, 'name': 'Building / Structure', 'icon': {'prefix': 'https://ss3.4sqi.net/img/categories_v2/building/default_', 'suffix': '.png'}}], 'chains': [], 'distance': 2523, 'geocodes': {'main': {'latitude': 43.678111, 'longitude': -79.409512}, 'roof': {'latitude': 43.678111, 'longitude': -79.409512}}, 'link': '/v3/places/4bef48fcc80dc9284ec827e3', 'location': {'address': '1 Austin Terr', 'country': 'CA', 'cross_street': 'at Walmer Rd', 'formatted_address': '1 Austin Terr (at Walmer Rd), Toronto ON M5R 1X8', 'locality': 'Toronto', 'neighborhood': ['Rathnelly'], 'postcode': 'M5R 1X8', 'region': 'ON'}, 'name': 'Casa Loma', 'related_places': {'children': [{'fsq_id': '59f655cca87921744858ec5d', 'name': 'Escape Casa Loma'}, {'fsq_id': '4ca82201b0b8236a82dfb0e6', 'name': 'Casa Loma Stables'}, {'fsq_id': '612590f69adefa464710719c', 'name': 'Don Alfonso 1890'}, {'fsq_id': '5b9e9785894eac002c3cd302', 'name': 'Casa Loma Liberty Caffé'}, {'fsq_id': '59e6cdb1cf72a013dca8a7c8', 'name': 'BlueBlood Steakhouse'}]}, 'timezone': 'America/Toronto'}, {'fsq_id': '4aea405ef964a52082ba21e3', 'categories': [{'id': 17058, 'name': 'Beer Store', 'icon': {'prefix': 'https://ss3.4sqi.net/img/categories_v2/nightlife/beergarden_', 'suffix': '.png'}}, {'id': 17069, 'name': 'Grocery Store / Supermarket', 'icon': {'prefix': 'https://ss3.4sqi.net/img/categories_v2/shops/food_grocery_', 'suffix': '.png'}}, {'id': 17076, 'name': 'Liquor Store', 'icon': {'prefix': 'https://ss3.4sqi.net/img/categories_v2/shops/food_liquor_', 'suffix': '.png'}}], 'chains': [], 'distance': 2885, 'geocodes': {'main': {'latitude': 43.680952, 'longitude': -79.390505}, 'roof': {'latitude': 43.680952, 'longitude': -79.390505}}, 'link': '/v3/places/4aea405ef964a52082ba21e3', 'location': {'address': '10 Scrivener Sq', 'country': 'CA', 'cross_street': 'at Yonge St.', 'formatted_address': '10 Scrivener Sq (at Yonge St.), Toronto ON M4W 3Y9', 'locality': 'Toronto', 'neighborhood': ['Rathnelly'], 'postcode': 'M4W 3Y9', 'region': 'ON'}, 'name': 'Lcbo', 'related_places': {}, 'timezone': 'America/Toronto'}, {'fsq_id': '5282572111d2f33612220715', 'categories': [{'id': 13025, 'name': 'Wine Bar', 'icon': {'prefix': 'https://ss3.4sqi.net/img/categories_v2/food/winery_', 'suffix': '.png'}}, {'id': 13035, 'name': 'Coffee Shop', 'icon': {'prefix': 'https://ss3.4sqi.net/img/categories_v2/food/coffeeshop_', 'suffix': '.png'}}, {'id': 13065, 'name': 'Restaurant', 'icon': {'prefix': 'https://ss3.4sqi.net/img/categories_v2/food/default_', 'suffix': '.png'}}], 'chains': [], 'distance': 2854, 'geocodes': {'main': {'latitude': 43.681818, 'longitude': -79.391719}, 'roof': {'latitude': 43.681818, 'longitude': -79.391719}}, 'link': '/v3/places/5282572111d2f33612220715', 'location': {'address': '1208 Yonge St', 'country': 'CA', 'cross_street': 'Summerhill', 'formatted_address': '1208 Yonge St (Summerhill), Toronto ON M4T 1W1', 'locality': 'Toronto', 'neighborhood': ['Midtown Toronto'], 'postcode': 'M4T 1W1', 'region': 'ON'}, 'name': 'Boxcar Social', 'related_places': {}, 'timezone': 'America/Toronto'}, {'fsq_id': '52ced2c9498e67e1059cf3b2', 'categories': [{'id': 13059, 'name': 'Juice Bar', 'icon': {'prefix': 'https://ss3.4sqi.net/img/categories_v2/food/juicebar_', 'suffix': '.png'}}], 'chains': [], 'distance': 3112, 'geocodes': {'main': {'latitude': 43.67892, 'longitude': -79.390649}, 'roof': {'latitude': 43.67892, 'longitude': -79.390649}}, 'link': '/v3/places/52ced2c9498e67e1059cf3b2', 'location': {'address': '5 MacPherson Ave', 'country': 'CA', 'cross_street': 'Yonge St.', 'formatted_address': '5 MacPherson Ave (Yonge St.), Toronto ON M5R 1W7', 'locality': 'Toronto', 'neighborhood': ['Downtown Toronto'], 'postcode': 'M5R 1W7', 'region': 'ON'}, 'name': 'Greenhouse Juice Co', 'related_places': {}, 'timezone': 'America/Toronto'}], 'context': {'geo_bounds': {'circle': {'center': {'latitude': 43.70011, 'longitude': -79.4163}, 'radius': 16290}}}}\n"
     ]
    }
   ],
   "source": [
    "print(res.json())"
   ]
  },
  {
   "cell_type": "code",
   "execution_count": null,
   "id": "26b183a2-96e6-42c2-8923-d56e706e6509",
   "metadata": {},
   "outputs": [],
   "source": []
  }
 ],
 "metadata": {
  "kernelspec": {
   "display_name": "LHL_env",
   "language": "python",
   "name": "lhl_env"
  },
  "language_info": {
   "codemirror_mode": {
    "name": "ipython",
    "version": 3
   },
   "file_extension": ".py",
   "mimetype": "text/x-python",
   "name": "python",
   "nbconvert_exporter": "python",
   "pygments_lexer": "ipython3",
   "version": "3.9.13"
  }
 },
 "nbformat": 4,
 "nbformat_minor": 5
}
