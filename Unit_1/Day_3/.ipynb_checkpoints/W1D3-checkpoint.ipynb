{
 "cells": [
  {
   "cell_type": "markdown",
   "metadata": {
    "id": "bWzV4Smmwzs4"
   },
   "source": [
    "# W01D3\n",
    "## APIs"
   ]
  },
  {
   "cell_type": "markdown",
   "metadata": {
    "id": "9Yx3A2MZwzs7"
   },
   "source": [
    "# Outline for today\n",
    "\n",
    "<ul>\n",
    "    <li>Introductions</li>\n",
    "    <li>What are APIs, and why do we need them?</li>\n",
    "    <li>Navigating an API and examples</li>\n",
    "    <li>Break</li>\n",
    "    <li>Demo</li>\n",
    "    <li>Using the command line (terminal)</li>\n",
    "    <li>Using Postman</li>\n",
    "    <li>Using Python</li>\n",
    "</ul>"
   ]
  },
  {
   "cell_type": "markdown",
   "metadata": {
    "id": "5O_8v8-ewzs7"
   },
   "source": [
    "# Where do we get our data?\n",
    "\n",
    "- Publicly available datasets (e.g. check out Kaggle)\n",
    "    - Good for benchmarking, but limited for real use-case\n",
    "- Company’s database (e.g. transaction history)\n",
    "    - SQL, MongoDB, etc.\n",
    "- From the web\n",
    "    - Collected manually\n",
    "    - Collected automatically (code)\n"
   ]
  },
  {
   "cell_type": "markdown",
   "metadata": {
    "id": "J27oQfD-wzs8"
   },
   "source": [
    "# Data mining\n",
    "\n",
    "- Program that goes to URLs and parses the HTML to extract data\n",
    "    - Effortful\n",
    "    - HTML is difficult to parse\n",
    "    - Almost all information is irrelevant (e.g. UI-related)\n",
    "    - Websites often require interaction (e.g. “Load More” button)\n",
    "    - When websites update, your code will break\n",
    "    - Every website is different\n",
    "    - Companies try to stop data miners\n"
   ]
  },
  {
   "cell_type": "markdown",
   "metadata": {
    "id": "v9fSPxsEwzs9"
   },
   "source": [
    "# APIs to the rescue\n",
    "- Application Programming Interface\n",
    "- Programmer-friendly version of websites\n",
    "- Go to a URL composed of\n",
    "![](website_in_html.png)"
   ]
  },
  {
   "cell_type": "markdown",
   "metadata": {
    "id": "92f0OQX-wzs9"
   },
   "source": [
    "# Examples of APIs\n",
    "- Translink API: https://developer.translink.ca/\n",
    "- GitHub API: https://developer.github.com/v3/\n",
    "- Weather API: https://openweathermap.org/api\n",
    "- Stock price API (Alpha Vantage): https://www.alphavantage.co/\n",
    "\n",
    "Many, many others!\n"
   ]
  },
  {
   "cell_type": "markdown",
   "metadata": {
    "id": "q6DLaSe8wzs-"
   },
   "source": [
    "# HTTP Requests\n",
    "\n",
    "- Hypertext Transfer Protocol (how one server connects to another)\n",
    "- When you access a website (through a URL), you are:\n",
    "    - Sending a HTTP GET request to the server to retrieve data\n",
    "    - \"data\" can be a webpage that is displayed, it can be JSON, etc.\n",
    "- GET is not the only request type (e.g. POST for sending information)\n",
    "- Status codes are helpful when you're working with code\n",
    "    - 200 OK\n",
    "    - 400 Bad Request (sending parameter that's not accepted)\n",
    "    - 401 Unauthorized (API key isn't authorized, or don't have a key)\n",
    "    - 404 Not Found \n",
    "    - 500 errors mean it's the server that has an issue\n"
   ]
  },
  {
   "cell_type": "markdown",
   "metadata": {
    "id": "0t6DGgp3wzs-"
   },
   "source": [
    "# Demo: using the command line\n",
    "\n",
    "- curl https://api.translink.ca/rttiapi/v1/stops/55612?apikey=[key]\n",
    "- It is best practice to set your API key as an environment variable\n",
    "- export TRANSLINK_API=YOURAPIKEY\n",
    "- echo `$TRANSLINK_API` (should print out your API key)\n",
    "- Note: not permanent, have to redo this every time you close the command line! (Google how to “set environment variable permanently” for your operating system.\n",
    "- curl https://api.translink.ca/rttiapi/v1/stops/55612?apikey=$TRANSLINK_API\n",
    "- Want to know more about curl? Understand curl more | Documenting APIs (https://idratherbewriting.com/learnapidoc/docapis_understand_curl.html)"
   ]
  },
  {
   "cell_type": "markdown",
   "metadata": {
    "id": "XKCOkhIswzs_"
   },
   "source": [
    "# Demo: using Postman \n",
    "- Get it here: https://www.postman.com/\n",
    "- Easy to use GUI which:\n",
    "    - Stores your API key\n",
    "    - Let’s you neatly specify parameter keys + values\n",
    "    - Saves your past API calls\n"
   ]
  },
  {
   "cell_type": "markdown",
   "metadata": {
    "id": "yWo-6g6Iwzs_"
   },
   "source": [
    "# Demo: using Python\n"
   ]
  },
  {
   "cell_type": "code",
   "execution_count": null,
   "metadata": {
    "id": "Nim9hB1Fwzs_",
    "outputId": "bf7630cc-625c-43a4-87f9-a6b0c2966c21"
   },
   "outputs": [
    {
     "name": "stdout",
     "output_type": "stream",
     "text": [
      "u3Z29ybv2LquQbQavpsV\n"
     ]
    }
   ],
   "source": [
    "import requests     # To get HTTP request\n",
    "import os           # To use environmental variables\n",
    "\n",
    "apikey = os.environ.get('TRANSLINK_API')\n",
    "print(apikey)      # To check that environmental variable has been loaded"
   ]
  },
  {
   "cell_type": "code",
   "execution_count": null,
   "metadata": {
    "id": "hfj9C12bwztA",
    "outputId": "e005bd9d-c0dd-4e64-f4f6-1179f19c14ab"
   },
   "outputs": [
    {
     "name": "stdout",
     "output_type": "stream",
     "text": [
      "env: TRANSLINK_API=u3Z29ybv2LquQbQavpsV\n"
     ]
    }
   ],
   "source": [
    "#set environmental variable\n",
    "%env TRANSLINK_API=XCr9liAWwfvPprjYBiCz"
   ]
  },
  {
   "cell_type": "markdown",
   "metadata": {
    "id": "R_GdoFR6wztB"
   },
   "source": [
    "## Lets look at some basic examples where we just format the url with our parameters"
   ]
  },
  {
   "cell_type": "code",
   "execution_count": null,
   "metadata": {
    "id": "xLomtqhf4_Pc"
   },
   "outputs": [],
   "source": [
    "#Docs\n",
    "#https://www.translink.ca/about-us/doing-business-with-translink/app-developer-resources/rtti#stop-estimates"
   ]
  },
  {
   "cell_type": "code",
   "execution_count": null,
   "metadata": {
    "id": "aEbSqOGJwztB",
    "outputId": "53ded142-49eb-429c-dbe5-afdc0d03d284"
   },
   "outputs": [
    {
     "data": {
      "text/plain": [
       "{'StopNo': 61935,\n",
       " 'Name': 'UBC EXCHANGE BAY 7 ',\n",
       " 'BayNo': '4',\n",
       " 'City': 'VANCOUVER',\n",
       " 'OnStreet': 'UBC EXCHANGE',\n",
       " 'AtStreet': 'BAY 7',\n",
       " 'Latitude': 49.267419,\n",
       " 'Longitude': -123.246831,\n",
       " 'WheelchairAccess': 1,\n",
       " 'Distance': -1,\n",
       " 'Routes': '099'}"
      ]
     },
     "execution_count": 6,
     "metadata": {},
     "output_type": "execute_result"
    }
   ],
   "source": [
    "# Example 1: get information about a specific bus stop\n",
    "request_url = 'http://api.translink.ca/rttiapi/v1/stops/61935?apikey={}'.format(apikey)\n",
    "response = requests.get(request_url, headers={'accept': 'application/JSON'}).json()\n",
    "response"
   ]
  },
  {
   "cell_type": "code",
   "execution_count": null,
   "metadata": {
    "id": "x_hMrLbuwztB",
    "outputId": "819bd33e-7e2f-4923-a856-eb6d3da0f3aa"
   },
   "outputs": [
    {
     "data": {
      "text/plain": [
       "'http://api.translink.ca/rttiapi/v1/stops/61935?apikey=u3Z29ybv2LquQbQavpsV'"
      ]
     },
     "execution_count": 52,
     "metadata": {},
     "output_type": "execute_result"
    }
   ],
   "source": [
    "request_url"
   ]
  },
  {
   "cell_type": "code",
   "execution_count": null,
   "metadata": {
    "id": "XgmuMukowztB",
    "outputId": "3a281805-110e-4984-b0f6-905617453c0f"
   },
   "outputs": [
    {
     "data": {
      "text/plain": [
       "[{'RouteNo': '099',\n",
       "  'RouteName': 'COMMERCIAL-BROADWAY/UBC (B-LINE)',\n",
       "  'Direction': 'EAST',\n",
       "  'RouteMap': {'Href': 'https://nb.translink.ca/geodata/099.kmz'},\n",
       "  'Schedules': [{'Pattern': 'E1',\n",
       "    'Destination': \"COMM'L-BDWAY STN\",\n",
       "    'ExpectedLeaveTime': '11:04pm 2022-05-03',\n",
       "    'ExpectedCountdown': 2,\n",
       "    'ScheduleStatus': '*',\n",
       "    'CancelledTrip': False,\n",
       "    'CancelledStop': False,\n",
       "    'AddedTrip': False,\n",
       "    'AddedStop': True,\n",
       "    'LastUpdate': '10:04:08 pm'},\n",
       "   {'Pattern': 'E1',\n",
       "    'Destination': \"COMM'L-BDWAY STN\",\n",
       "    'ExpectedLeaveTime': '11:16pm 2022-05-03',\n",
       "    'ExpectedCountdown': 14,\n",
       "    'ScheduleStatus': '*',\n",
       "    'CancelledTrip': False,\n",
       "    'CancelledStop': False,\n",
       "    'AddedTrip': False,\n",
       "    'AddedStop': True,\n",
       "    'LastUpdate': '10:16:15 pm'},\n",
       "   {'Pattern': 'E8FL2',\n",
       "    'Destination': 'TO BOUNDARY B-LINE',\n",
       "    'ExpectedLeaveTime': '11:28pm 2022-05-03',\n",
       "    'ExpectedCountdown': 26,\n",
       "    'ScheduleStatus': '*',\n",
       "    'CancelledTrip': False,\n",
       "    'CancelledStop': False,\n",
       "    'AddedTrip': False,\n",
       "    'AddedStop': True,\n",
       "    'LastUpdate': '10:28:02 pm'},\n",
       "   {'Pattern': 'E1',\n",
       "    'Destination': \"COMM'L-BDWAY STN\",\n",
       "    'ExpectedLeaveTime': '11:40pm 2022-05-03',\n",
       "    'ExpectedCountdown': 38,\n",
       "    'ScheduleStatus': ' ',\n",
       "    'CancelledTrip': False,\n",
       "    'CancelledStop': False,\n",
       "    'AddedTrip': False,\n",
       "    'AddedStop': True,\n",
       "    'LastUpdate': '10:40:16 pm'},\n",
       "   {'Pattern': 'E1',\n",
       "    'Destination': \"COMM'L-BDWAY STN\",\n",
       "    'ExpectedLeaveTime': '11:52pm 2022-05-03',\n",
       "    'ExpectedCountdown': 50,\n",
       "    'ScheduleStatus': ' ',\n",
       "    'CancelledTrip': False,\n",
       "    'CancelledStop': False,\n",
       "    'AddedTrip': False,\n",
       "    'AddedStop': True,\n",
       "    'LastUpdate': '10:52:02 pm'},\n",
       "   {'Pattern': 'E1',\n",
       "    'Destination': \"COMM'L-BDWAY STN\",\n",
       "    'ExpectedLeaveTime': '12:04am',\n",
       "    'ExpectedCountdown': 62,\n",
       "    'ScheduleStatus': '*',\n",
       "    'CancelledTrip': False,\n",
       "    'CancelledStop': False,\n",
       "    'AddedTrip': False,\n",
       "    'AddedStop': False,\n",
       "    'LastUpdate': '12:08:02 am'}]}]"
      ]
     },
     "execution_count": 37,
     "metadata": {},
     "output_type": "execute_result"
    }
   ],
   "source": [
    "# Example 2: get estimates of bus schedules at a specific stop\n",
    "request_url = 'http://api.translink.ca/rttiapi/v1/stops/61935/estimates?apikey={}'.format(apikey)\n",
    "response = requests.get(request_url, headers={'accept': 'application/JSON'}).json()\n",
    "response"
   ]
  },
  {
   "cell_type": "code",
   "execution_count": null,
   "metadata": {
    "id": "Y4Lrxdt7wztC",
    "outputId": "ce7cbc7c-6c3b-4d5a-c089-fb009f113995"
   },
   "outputs": [
    {
     "data": {
      "text/plain": [
       "[{'StopNo': 54997,\n",
       "  'Name': 'SB KING GEORGE BLVD FS 98 AVE',\n",
       "  'BayNo': 'N',\n",
       "  'City': 'SURREY',\n",
       "  'OnStreet': 'KING GEORGE BLVD',\n",
       "  'AtStreet': '98 AVE',\n",
       "  'Latitude': 49.179601,\n",
       "  'Longitude': -122.845814,\n",
       "  'WheelchairAccess': 1,\n",
       "  'Distance': 307,\n",
       "  'Routes': '314, 321, 329'},\n",
       " {'StopNo': 54986,\n",
       "  'Name': 'EB 96 AVE FS 134 ST',\n",
       "  'BayNo': 'N',\n",
       "  'City': 'SURREY',\n",
       "  'OnStreet': '96 AVE',\n",
       "  'AtStreet': '134 ST',\n",
       "  'Latitude': 49.176992,\n",
       "  'Longitude': -122.850709,\n",
       "  'WheelchairAccess': 0,\n",
       "  'Distance': 338,\n",
       "  'Routes': '314, 329'},\n",
       " {'StopNo': 54999,\n",
       "  'Name': 'WB 96 AVE FS 134 ST',\n",
       "  'BayNo': 'N',\n",
       "  'City': 'SURREY',\n",
       "  'OnStreet': '96 AVE',\n",
       "  'AtStreet': '134 ST',\n",
       "  'Latitude': 49.177159,\n",
       "  'Longitude': -122.851794,\n",
       "  'WheelchairAccess': 0,\n",
       "  'Distance': 342,\n",
       "  'Routes': '314, 329'},\n",
       " {'StopNo': 54989,\n",
       "  'Name': 'NB KING GEORGE BLVD FS FRASER HWY',\n",
       "  'BayNo': 'N',\n",
       "  'City': 'SURREY',\n",
       "  'OnStreet': 'KING GEORGE BLVD',\n",
       "  'AtStreet': 'FRASER HWY',\n",
       "  'Latitude': 49.181116,\n",
       "  'Longitude': -122.845247,\n",
       "  'WheelchairAccess': 1,\n",
       "  'Distance': 367,\n",
       "  'Routes': ''},\n",
       " {'StopNo': 54998,\n",
       "  'Name': 'WB 96 AVE FS KING GEORGE BLVD',\n",
       "  'BayNo': 'N',\n",
       "  'City': 'SURREY',\n",
       "  'OnStreet': '96 AVE',\n",
       "  'AtStreet': 'KING GEORGE BLVD',\n",
       "  'Latitude': 49.177135,\n",
       "  'Longitude': -122.847002,\n",
       "  'WheelchairAccess': 1,\n",
       "  'Distance': 386,\n",
       "  'Routes': '314, 329'},\n",
       " {'StopNo': 54988,\n",
       "  'Name': 'NB KING GEORGE BLVD FS 96 AVE',\n",
       "  'BayNo': 'N',\n",
       "  'City': 'SURREY',\n",
       "  'OnStreet': 'KING GEORGE BLVD',\n",
       "  'AtStreet': '96 AVE',\n",
       "  'Latitude': 49.177621,\n",
       "  'Longitude': -122.845422,\n",
       "  'WheelchairAccess': 1,\n",
       "  'Distance': 425,\n",
       "  'Routes': '314, 321, 326, 329, 394, R1'},\n",
       " {'StopNo': 59339,\n",
       "  'Name': 'KING GEORGE STN BAY 4',\n",
       "  'BayNo': '4',\n",
       "  'City': 'SURREY',\n",
       "  'OnStreet': 'KING GEORGE STN',\n",
       "  'AtStreet': 'BAY 4',\n",
       "  'Latitude': 49.182677,\n",
       "  'Longitude': -122.845166,\n",
       "  'WheelchairAccess': 1,\n",
       "  'Distance': 460,\n",
       "  'Routes': '314, 321, 326, 329, 502, 503, R1'},\n",
       " {'StopNo': 54996,\n",
       "  'Name': 'KING GEORGE STN BAY 1',\n",
       "  'BayNo': '1',\n",
       "  'City': 'SURREY',\n",
       "  'OnStreet': 'KING GEORGE STN',\n",
       "  'AtStreet': 'BAY 1',\n",
       "  'Latitude': 49.183201,\n",
       "  'Longitude': -122.845706,\n",
       "  'WheelchairAccess': 1,\n",
       "  'Distance': 473,\n",
       "  'Routes': '314, 321, 326, 329, R1'},\n",
       " {'StopNo': 57983,\n",
       "  'Name': 'KING GEORGE STATION PLATFORM 2',\n",
       "  'BayNo': 'N',\n",
       "  'City': 'SURREY',\n",
       "  'OnStreet': 'KING GEORGE STATION',\n",
       "  'AtStreet': 'PLATFORM 2',\n",
       "  'Latitude': 49.182755,\n",
       "  'Longitude': -122.844744,\n",
       "  'WheelchairAccess': 0,\n",
       "  'Distance': 490,\n",
       "  'Routes': ''},\n",
       " {'StopNo': 55665,\n",
       "  'Name': 'NB 132 ST NS 98 AVE',\n",
       "  'BayNo': 'N',\n",
       "  'City': 'SURREY',\n",
       "  'OnStreet': '132 ST',\n",
       "  'AtStreet': '98 AVE',\n",
       "  'Latitude': 49.181077,\n",
       "  'Longitude': -122.856552,\n",
       "  'WheelchairAccess': 1,\n",
       "  'Distance': 491,\n",
       "  'Routes': '324'},\n",
       " {'StopNo': 55669,\n",
       "  'Name': 'SB 132 ST FS 98 AVE',\n",
       "  'BayNo': 'N',\n",
       "  'City': 'SURREY',\n",
       "  'OnStreet': '132 ST',\n",
       "  'AtStreet': '98 AVE',\n",
       "  'Latitude': 49.180401,\n",
       "  'Longitude': -122.856803,\n",
       "  'WheelchairAccess': 0,\n",
       "  'Distance': 496,\n",
       "  'Routes': '324'},\n",
       " {'StopNo': 54990,\n",
       "  'Name': 'KING GEORGE STN BAY 2',\n",
       "  'BayNo': '2',\n",
       "  'City': 'SURREY',\n",
       "  'OnStreet': 'KING GEORGE STN',\n",
       "  'AtStreet': 'BAY 2',\n",
       "  'Latitude': 49.183124,\n",
       "  'Longitude': -122.845136,\n",
       "  'WheelchairAccess': 1,\n",
       "  'Distance': 496,\n",
       "  'Routes': '345, 394, 395'},\n",
       " {'StopNo': 57984,\n",
       "  'Name': 'KING GEORGE STATION PLATFORM 1',\n",
       "  'BayNo': 'N',\n",
       "  'City': 'SURREY',\n",
       "  'OnStreet': 'KING GEORGE STATION',\n",
       "  'AtStreet': 'PLATFORM 1',\n",
       "  'Latitude': 49.182812,\n",
       "  'Longitude': -122.844691,\n",
       "  'WheelchairAccess': 0,\n",
       "  'Distance': 497,\n",
       "  'Routes': ''}]"
      ]
     },
     "execution_count": 9,
     "metadata": {},
     "output_type": "execute_result"
    }
   ],
   "source": [
    "# Example 3: get all bus stops near a (latitude, longitude) coordinate (more parameters)\n",
    "request_url = 'https://api.translink.ca/rttiapi/v1/stops?apikey={}&lat={}&long={}'.format(apikey, 49.18, -122.85)\n",
    "response = requests.get(request_url, headers={'accept': 'application/JSON'}).json()\n",
    "response"
   ]
  },
  {
   "cell_type": "markdown",
   "metadata": {
    "id": "ZdcjM5huwztC"
   },
   "source": [
    "## The requests.get function allows us to specify our parameters in a more organized way, using the \"params\" argument"
   ]
  },
  {
   "cell_type": "code",
   "execution_count": null,
   "metadata": {
    "id": "MTflxHP1wztC",
    "outputId": "f5bffb7e-704e-4618-bd4a-7d2f010679d2"
   },
   "outputs": [
    {
     "data": {
      "text/plain": [
       "[{'StopNo': 54997,\n",
       "  'Name': 'SB KING GEORGE BLVD FS 98 AVE',\n",
       "  'BayNo': 'N',\n",
       "  'City': 'SURREY',\n",
       "  'OnStreet': 'KING GEORGE BLVD',\n",
       "  'AtStreet': '98 AVE',\n",
       "  'Latitude': 49.179601,\n",
       "  'Longitude': -122.845814,\n",
       "  'WheelchairAccess': 1,\n",
       "  'Distance': 307,\n",
       "  'Routes': '314, 321, 329'},\n",
       " {'StopNo': 54986,\n",
       "  'Name': 'EB 96 AVE FS 134 ST',\n",
       "  'BayNo': 'N',\n",
       "  'City': 'SURREY',\n",
       "  'OnStreet': '96 AVE',\n",
       "  'AtStreet': '134 ST',\n",
       "  'Latitude': 49.176992,\n",
       "  'Longitude': -122.850709,\n",
       "  'WheelchairAccess': 0,\n",
       "  'Distance': 338,\n",
       "  'Routes': '314, 329'},\n",
       " {'StopNo': 54999,\n",
       "  'Name': 'WB 96 AVE FS 134 ST',\n",
       "  'BayNo': 'N',\n",
       "  'City': 'SURREY',\n",
       "  'OnStreet': '96 AVE',\n",
       "  'AtStreet': '134 ST',\n",
       "  'Latitude': 49.177159,\n",
       "  'Longitude': -122.851794,\n",
       "  'WheelchairAccess': 0,\n",
       "  'Distance': 342,\n",
       "  'Routes': '314, 329'},\n",
       " {'StopNo': 54989,\n",
       "  'Name': 'NB KING GEORGE BLVD FS FRASER HWY',\n",
       "  'BayNo': 'N',\n",
       "  'City': 'SURREY',\n",
       "  'OnStreet': 'KING GEORGE BLVD',\n",
       "  'AtStreet': 'FRASER HWY',\n",
       "  'Latitude': 49.181116,\n",
       "  'Longitude': -122.845247,\n",
       "  'WheelchairAccess': 1,\n",
       "  'Distance': 367,\n",
       "  'Routes': ''},\n",
       " {'StopNo': 54998,\n",
       "  'Name': 'WB 96 AVE FS KING GEORGE BLVD',\n",
       "  'BayNo': 'N',\n",
       "  'City': 'SURREY',\n",
       "  'OnStreet': '96 AVE',\n",
       "  'AtStreet': 'KING GEORGE BLVD',\n",
       "  'Latitude': 49.177135,\n",
       "  'Longitude': -122.847002,\n",
       "  'WheelchairAccess': 1,\n",
       "  'Distance': 386,\n",
       "  'Routes': '314, 329'},\n",
       " {'StopNo': 54988,\n",
       "  'Name': 'NB KING GEORGE BLVD FS 96 AVE',\n",
       "  'BayNo': 'N',\n",
       "  'City': 'SURREY',\n",
       "  'OnStreet': 'KING GEORGE BLVD',\n",
       "  'AtStreet': '96 AVE',\n",
       "  'Latitude': 49.177621,\n",
       "  'Longitude': -122.845422,\n",
       "  'WheelchairAccess': 1,\n",
       "  'Distance': 425,\n",
       "  'Routes': '314, 321, 326, 329, 394, R1'},\n",
       " {'StopNo': 59339,\n",
       "  'Name': 'KING GEORGE STN BAY 4',\n",
       "  'BayNo': '4',\n",
       "  'City': 'SURREY',\n",
       "  'OnStreet': 'KING GEORGE STN',\n",
       "  'AtStreet': 'BAY 4',\n",
       "  'Latitude': 49.182677,\n",
       "  'Longitude': -122.845166,\n",
       "  'WheelchairAccess': 1,\n",
       "  'Distance': 460,\n",
       "  'Routes': '314, 321, 326, 329, 502, 503, R1'},\n",
       " {'StopNo': 54996,\n",
       "  'Name': 'KING GEORGE STN BAY 1',\n",
       "  'BayNo': '1',\n",
       "  'City': 'SURREY',\n",
       "  'OnStreet': 'KING GEORGE STN',\n",
       "  'AtStreet': 'BAY 1',\n",
       "  'Latitude': 49.183201,\n",
       "  'Longitude': -122.845706,\n",
       "  'WheelchairAccess': 1,\n",
       "  'Distance': 473,\n",
       "  'Routes': '314, 321, 326, 329, R1'},\n",
       " {'StopNo': 57983,\n",
       "  'Name': 'KING GEORGE STATION PLATFORM 2',\n",
       "  'BayNo': 'N',\n",
       "  'City': 'SURREY',\n",
       "  'OnStreet': 'KING GEORGE STATION',\n",
       "  'AtStreet': 'PLATFORM 2',\n",
       "  'Latitude': 49.182755,\n",
       "  'Longitude': -122.844744,\n",
       "  'WheelchairAccess': 0,\n",
       "  'Distance': 490,\n",
       "  'Routes': ''},\n",
       " {'StopNo': 55665,\n",
       "  'Name': 'NB 132 ST NS 98 AVE',\n",
       "  'BayNo': 'N',\n",
       "  'City': 'SURREY',\n",
       "  'OnStreet': '132 ST',\n",
       "  'AtStreet': '98 AVE',\n",
       "  'Latitude': 49.181077,\n",
       "  'Longitude': -122.856552,\n",
       "  'WheelchairAccess': 1,\n",
       "  'Distance': 491,\n",
       "  'Routes': '324'},\n",
       " {'StopNo': 55669,\n",
       "  'Name': 'SB 132 ST FS 98 AVE',\n",
       "  'BayNo': 'N',\n",
       "  'City': 'SURREY',\n",
       "  'OnStreet': '132 ST',\n",
       "  'AtStreet': '98 AVE',\n",
       "  'Latitude': 49.180401,\n",
       "  'Longitude': -122.856803,\n",
       "  'WheelchairAccess': 0,\n",
       "  'Distance': 496,\n",
       "  'Routes': '324'},\n",
       " {'StopNo': 54990,\n",
       "  'Name': 'KING GEORGE STN BAY 2',\n",
       "  'BayNo': '2',\n",
       "  'City': 'SURREY',\n",
       "  'OnStreet': 'KING GEORGE STN',\n",
       "  'AtStreet': 'BAY 2',\n",
       "  'Latitude': 49.183124,\n",
       "  'Longitude': -122.845136,\n",
       "  'WheelchairAccess': 1,\n",
       "  'Distance': 496,\n",
       "  'Routes': '345, 394, 395'},\n",
       " {'StopNo': 57984,\n",
       "  'Name': 'KING GEORGE STATION PLATFORM 1',\n",
       "  'BayNo': 'N',\n",
       "  'City': 'SURREY',\n",
       "  'OnStreet': 'KING GEORGE STATION',\n",
       "  'AtStreet': 'PLATFORM 1',\n",
       "  'Latitude': 49.182812,\n",
       "  'Longitude': -122.844691,\n",
       "  'WheelchairAccess': 0,\n",
       "  'Distance': 497,\n",
       "  'Routes': ''}]"
      ]
     },
     "execution_count": 10,
     "metadata": {},
     "output_type": "execute_result"
    }
   ],
   "source": [
    "# Example 3, but using the 'params' argument to specify the parameters\n",
    "api_endpoint = 'https://api.translink.ca/rttiapi/v1/stops'\n",
    "response = requests.get(api_endpoint, \n",
    "                        params={'apikey': apikey, 'lat': 49.18, 'long': -122.85},\n",
    "                        headers={'accept': 'application/JSON'}).json()\n",
    "response"
   ]
  },
  {
   "cell_type": "code",
   "execution_count": null,
   "metadata": {
    "id": "NlEJo_ZHwztC",
    "outputId": "f78e34c7-f8b9-4a24-e523-7d28bdaaf2f5"
   },
   "outputs": [
    {
     "data": {
      "text/plain": [
       "{'StopNo': 57984,\n",
       " 'Name': 'KING GEORGE STATION PLATFORM 1',\n",
       " 'BayNo': 'N',\n",
       " 'City': 'SURREY',\n",
       " 'OnStreet': 'KING GEORGE STATION',\n",
       " 'AtStreet': 'PLATFORM 1',\n",
       " 'Latitude': 49.182812,\n",
       " 'Longitude': -122.844691,\n",
       " 'WheelchairAccess': 0,\n",
       " 'Distance': 497,\n",
       " 'Routes': ''}"
      ]
     },
     "execution_count": 25,
     "metadata": {},
     "output_type": "execute_result"
    }
   ],
   "source": [
    "response[12]"
   ]
  },
  {
   "cell_type": "code",
   "execution_count": null,
   "metadata": {
    "id": "ZezNNGLHwztD"
   },
   "outputs": [],
   "source": []
  }
 ],
 "metadata": {
  "celltoolbar": "Slideshow",
  "colab": {
   "collapsed_sections": [],
   "provenance": []
  },
  "kernelspec": {
   "display_name": "Python 3 (ipykernel)",
   "language": "python",
   "name": "python3"
  },
  "language_info": {
   "codemirror_mode": {
    "name": "ipython",
    "version": 3
   },
   "file_extension": ".py",
   "mimetype": "text/x-python",
   "name": "python",
   "nbconvert_exporter": "python",
   "pygments_lexer": "ipython3",
   "version": "3.9.12"
  }
 },
 "nbformat": 4,
 "nbformat_minor": 4
}
