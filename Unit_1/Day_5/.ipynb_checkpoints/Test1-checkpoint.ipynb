{
 "cells": [
  {
   "cell_type": "markdown",
   "id": "0fd0a348-c876-431a-ae0a-6618040dd608",
   "metadata": {},
   "source": [
    "# Question 0"
   ]
  },
  {
   "cell_type": "code",
   "execution_count": 2,
   "id": "b29a233a-0ee8-4427-82f9-a0e0bceff700",
   "metadata": {},
   "outputs": [],
   "source": [
    "# \"\"\"\n",
    "# Create a function that determines whether or not it’s possible to split a pie fairly given these three parameters:\n",
    "#   - Total number of slices\n",
    "#   - Number of recipients\n",
    "#   - How many slices each person gets \n",
    "\n",
    "# Form of the function:\n",
    "#     equal_slices(total_ slices, no_recipients, slices_each)\n",
    "\n",
    "# Examples:\n",
    "#     equal_slices(11, 5, 2) ➞ True\n",
    "#     5 people x 2 slices each = 10 slices < 11 slices \n",
    "\n",
    "#     equal_slices(11, 5, 3) ➞ False\n",
    "#     5 people x 3 slices each = 15 slices > 11 slices\n",
    "\n",
    "\n",
    "#     equal_slices(8, 3, 2) ➞ True\n",
    "\n",
    "#     equal_slices(8, 3, 3) ➞ False\n",
    "\n",
    "#     equal_slices(24, 12, 2) ➞ True\n",
    "\n",
    "# Notes:\n",
    "#  - Return True if there are zero people.\n",
    "#  - It's fine not to use the entire pie.\n",
    "#  - All parameters are integers\n",
    "# \"\"\""
   ]
  },
  {
   "cell_type": "code",
   "execution_count": 104,
   "id": "7b8d7d9b-7757-43c9-869a-fee9e9359da5",
   "metadata": {},
   "outputs": [],
   "source": [
    "def equal_slices(total_slices, no_recipients, slices_each):\n",
    "    total_to_split = no_recipients*slices_each\n",
    "    if total_to_split <= total_slices:\n",
    "        return True\n",
    "    else:\n",
    "        return False\n",
    "    "
   ]
  },
  {
   "cell_type": "code",
   "execution_count": 105,
   "id": "8cde90cf-f6cf-4635-8a31-9f44162b95ef",
   "metadata": {},
   "outputs": [],
   "source": [
    "total_slices = 11\n",
    "no_recipients = 0\n",
    "slices_each = 3"
   ]
  },
  {
   "cell_type": "code",
   "execution_count": 106,
   "id": "59a23503-2828-4ec8-abb8-339831a215c9",
   "metadata": {},
   "outputs": [
    {
     "data": {
      "text/plain": [
       "0"
      ]
     },
     "execution_count": 106,
     "metadata": {},
     "output_type": "execute_result"
    }
   ],
   "source": [
    "total_to_split = no_recipients*slices_each\n",
    "total_to_split"
   ]
  },
  {
   "cell_type": "code",
   "execution_count": 107,
   "id": "8fd0a69b-7d32-46e5-a201-5deda0c32e01",
   "metadata": {},
   "outputs": [
    {
     "name": "stdout",
     "output_type": "stream",
     "text": [
      "True\n"
     ]
    }
   ],
   "source": [
    "print(equal_slices(total_slices, no_recipients, slices_each))"
   ]
  },
  {
   "cell_type": "markdown",
   "id": "2adaa12d-e18d-4c1f-9852-82b9659ab5f1",
   "metadata": {},
   "source": [
    "# Question 1"
   ]
  },
  {
   "cell_type": "code",
   "execution_count": 17,
   "id": "a364cb8b-a846-41eb-921a-896288479d88",
   "metadata": {},
   "outputs": [],
   "source": [
    "# \"\"\"\n",
    "# Adjust the function 'equal_slices' from question_00 to return number of pieces left as well.\n",
    "\n",
    "# Examples:\n",
    "#     equal_slices(11, 5, 2) ➞ (True, 1)\n",
    "#     # 5 people x 2 slices each = 10 slices < 11 slices \n",
    "\n",
    "#     equal_slices(11, 5, 3) ➞ (False,None)\n",
    "#     # 5 people x 3 slices each = 15 slices > 11 slicess\n",
    "\n",
    "#     equal_slices(8, 3, 2) ➞ (True, 2)\n",
    "\n",
    "#     equal_slices(8, 3, 3) ➞ (False, None)\n",
    "\n",
    "#     equal_slices(24, 12, 2) ➞ (True, 0)\n",
    "\n",
    "# Notes:\n",
    "#  - Return (True, total_slices) if there are zero people.\n",
    "#  - All parameters are integers.\n",
    "\n",
    "# \"\"\""
   ]
  },
  {
   "cell_type": "code",
   "execution_count": 100,
   "id": "faf96252-d9db-49ee-9e45-cd29a7dd282c",
   "metadata": {},
   "outputs": [],
   "source": [
    "total_slices = 11\n",
    "no_recipients = 5\n",
    "slices_each = 2"
   ]
  },
  {
   "cell_type": "code",
   "execution_count": 101,
   "id": "ea8fe527-12ba-498a-8738-122354b1f42b",
   "metadata": {},
   "outputs": [],
   "source": [
    "# attempt 1\n",
    "\n",
    "# def equal_slices(total_slices, no_recipients, slices_each):\n",
    "#     total_to_split = no_recipients*slices_each\n",
    "#     if total_to_split < total_slices:\n",
    "#         print(f'True, {total_slices-total_to_split}')\n",
    "#     else:\n",
    "#         print(f'False, None')"
   ]
  },
  {
   "cell_type": "code",
   "execution_count": 102,
   "id": "edc679c5-88b3-4c7e-9238-34d5ab0d3f50",
   "metadata": {},
   "outputs": [],
   "source": [
    "def equal_slices(total_slices, no_recipients, slices_each):\n",
    "    total_to_split = no_recipients*slices_each\n",
    "    res = []\n",
    "    if total_to_split <= total_slices:\n",
    "        res.append(True)\n",
    "        res.append(total_slices-total_to_split)\n",
    "    else:\n",
    "        res.append(False)\n",
    "        res.append(None)\n",
    "    return tuple(res)"
   ]
  },
  {
   "cell_type": "code",
   "execution_count": 103,
   "id": "ba7b5bd0-b501-4209-a672-c4a0a902b9f5",
   "metadata": {},
   "outputs": [
    {
     "data": {
      "text/plain": [
       "(True, 1)"
      ]
     },
     "execution_count": 103,
     "metadata": {},
     "output_type": "execute_result"
    }
   ],
   "source": [
    "equal_slices(total_slices, no_recipients, slices_each)"
   ]
  },
  {
   "cell_type": "markdown",
   "id": "b53e0ff4-904a-42cf-8097-c18925bf7e3a",
   "metadata": {},
   "source": [
    "# Question 2"
   ]
  },
  {
   "cell_type": "code",
   "execution_count": 45,
   "id": "041cb22e-1f4d-49a7-9696-5bc2c0e72a4b",
   "metadata": {},
   "outputs": [],
   "source": [
    "# \"\"\"\n",
    "# Given two strings, create a function that returns the total number of unique characters from the combined string.\n",
    "\n",
    "# Examples:\n",
    "#     count_unique_chars(\"apple\", \"play\") ➞ 5\n",
    "#     \"appleplay\" has 5 unique characters:  \"a\", \"e\", \"l\", \"p\", \"y\"\n",
    "\n",
    "#     count_unique_chars(\"sore\", \"zebra\") ➞ 7\n",
    "\n",
    "#     count_unique_chars(\"a\", \"soup\") ➞ 5\n",
    "\n",
    "# Notes:\n",
    "#  - Careful with empty strings\n",
    "#  - All characters will be lowercase.\n",
    "\n",
    "# \"\"\""
   ]
  },
  {
   "cell_type": "code",
   "execution_count": 67,
   "id": "11d5101f-8d76-4692-8ea6-aa4fdfc75511",
   "metadata": {},
   "outputs": [],
   "source": [
    "string_1 = \"\"\n",
    "string_2 = \"zebra\""
   ]
  },
  {
   "cell_type": "code",
   "execution_count": 68,
   "id": "0d672a8a-e5a6-4d69-8c38-bd7e949fa8d2",
   "metadata": {},
   "outputs": [],
   "source": [
    "s1 = list(string_1)\n",
    "s2 = list(string_2)"
   ]
  },
  {
   "cell_type": "code",
   "execution_count": 69,
   "id": "cf7ecd89-f0b1-4e01-9a06-f54760314520",
   "metadata": {},
   "outputs": [
    {
     "data": {
      "text/plain": [
       "5"
      ]
     },
     "execution_count": 69,
     "metadata": {},
     "output_type": "execute_result"
    }
   ],
   "source": [
    "len(set(s1+s2))"
   ]
  },
  {
   "cell_type": "code",
   "execution_count": 70,
   "id": "cdff6c93-38d6-452a-8387-f5af056f1e25",
   "metadata": {},
   "outputs": [],
   "source": [
    "def count_unique_chars(string_1, string_2):\n",
    "    return len(set(list(string_1)+list(string_2)))"
   ]
  },
  {
   "cell_type": "code",
   "execution_count": 71,
   "id": "3d3f4ba2-586a-4912-ae19-f48a302df75d",
   "metadata": {},
   "outputs": [
    {
     "data": {
      "text/plain": [
       "5"
      ]
     },
     "execution_count": 71,
     "metadata": {},
     "output_type": "execute_result"
    }
   ],
   "source": [
    "count_unique_chars(string_1, string_2)"
   ]
  },
  {
   "cell_type": "markdown",
   "id": "757731aa-647e-4e44-990e-dcbd4c57c4b7",
   "metadata": {},
   "source": [
    "# Question 3"
   ]
  },
  {
   "cell_type": "code",
   "execution_count": 73,
   "id": "ef23d5bb-d96b-40f6-bdeb-8c8737586fc3",
   "metadata": {},
   "outputs": [],
   "source": [
    "# \"\"\"\n",
    "# Create a function that takes a string of lowercase characters and returns that string reversed and in upper case.\n",
    "\n",
    "# Examples:\n",
    "#     reverse_capitalize(\"abc\") ➞ \"CBA\"\n",
    "\n",
    "#     reverse_capitalize(\"hellothere\") ➞ \"EREHTOLLEH\"\n",
    "\n",
    "#     reverse_capitalize(\"input\") ➞ \"TUPNI\"\n",
    "# \"\"\""
   ]
  },
  {
   "cell_type": "code",
   "execution_count": 86,
   "id": "78ed6b44-600f-4aea-970f-672caa964f26",
   "metadata": {},
   "outputs": [],
   "source": [
    "def reverse_capitalize(string):\n",
    "    return string.upper()[::-1]"
   ]
  },
  {
   "cell_type": "code",
   "execution_count": 84,
   "id": "c6be4855-a53d-464f-9cbf-fada14020c6d",
   "metadata": {},
   "outputs": [],
   "source": []
  },
  {
   "cell_type": "code",
   "execution_count": 79,
   "id": "e0c16723-d01e-40dd-860b-6275a7debd19",
   "metadata": {},
   "outputs": [],
   "source": [
    "ur = string.upper()[::-1]"
   ]
  },
  {
   "cell_type": "code",
   "execution_count": 81,
   "id": "d0a38e6e-df37-45af-b43e-8a464ab79d31",
   "metadata": {},
   "outputs": [
    {
     "data": {
      "text/plain": [
       "'CBA'"
      ]
     },
     "execution_count": 81,
     "metadata": {},
     "output_type": "execute_result"
    }
   ],
   "source": [
    "ur"
   ]
  },
  {
   "cell_type": "code",
   "execution_count": 78,
   "id": "bde3dd96-b62b-4c6d-bd34-539b79a893c3",
   "metadata": {},
   "outputs": [
    {
     "data": {
      "text/plain": [
       "'CBA'"
      ]
     },
     "execution_count": 78,
     "metadata": {},
     "output_type": "execute_result"
    }
   ],
   "source": [
    "u[::-1]"
   ]
  },
  {
   "cell_type": "code",
   "execution_count": 85,
   "id": "6bcec56d-29a1-4f60-8a8b-5e72ba1aac24",
   "metadata": {},
   "outputs": [
    {
     "name": "stdout",
     "output_type": "stream",
     "text": [
      "None\n"
     ]
    }
   ],
   "source": [
    "string = \"abc\"\n",
    "\n",
    "print(reverse_capitalize(string))"
   ]
  },
  {
   "cell_type": "markdown",
   "id": "30287691-c822-4c64-b8db-cfd80e3b00ee",
   "metadata": {},
   "source": [
    "# Question 4"
   ]
  },
  {
   "cell_type": "code",
   "execution_count": 88,
   "id": "7bb598cf-fc64-45bf-9cd1-78362eb5d379",
   "metadata": {},
   "outputs": [],
   "source": [
    "# \"\"\"\n",
    "# Create a function that takes an integer and returns True if it's divisible by 100, otherwise return False.\n",
    "\n",
    "# Examples:\n",
    "#     divisible(1) ➞ False\n",
    "\n",
    "#     divisible(1000) ➞ True\n",
    "\n",
    "#     divisible(100) ➞ True\n",
    "\n",
    "# \"\"\""
   ]
  },
  {
   "cell_type": "code",
   "execution_count": 93,
   "id": "5c70d243-12b6-46b1-8b54-e6c2b4ca6973",
   "metadata": {},
   "outputs": [
    {
     "data": {
      "text/plain": [
       "True"
      ]
     },
     "execution_count": 93,
     "metadata": {},
     "output_type": "execute_result"
    }
   ],
   "source": [
    "integer = 1\n",
    "\n",
    "1000%100==0"
   ]
  },
  {
   "cell_type": "code",
   "execution_count": 94,
   "id": "56ff1716-ccdd-421d-b37a-b274dbfb4295",
   "metadata": {},
   "outputs": [],
   "source": [
    "def divisible(integer):\n",
    "    if integer % 100 == 0:\n",
    "        return True\n",
    "    else:\n",
    "        return False"
   ]
  },
  {
   "cell_type": "code",
   "execution_count": 95,
   "id": "69ead493-3824-43f7-8d7f-ef57612ff195",
   "metadata": {},
   "outputs": [
    {
     "data": {
      "text/plain": [
       "False"
      ]
     },
     "execution_count": 95,
     "metadata": {},
     "output_type": "execute_result"
    }
   ],
   "source": [
    "divisible(integer)"
   ]
  },
  {
   "cell_type": "code",
   "execution_count": 96,
   "id": "5ad9c9cc-9e67-4dfa-85d2-b0effd5c8e03",
   "metadata": {},
   "outputs": [
    {
     "data": {
      "text/plain": [
       "NoneType"
      ]
     },
     "execution_count": 96,
     "metadata": {},
     "output_type": "execute_result"
    }
   ],
   "source": [
    "type(None)"
   ]
  },
  {
   "cell_type": "code",
   "execution_count": 97,
   "id": "167782cc-56e1-423a-93c1-ab3b37ce0e2a",
   "metadata": {},
   "outputs": [
    {
     "ename": "TypeError",
     "evalue": "int() argument must be a string, a bytes-like object or a number, not 'NoneType'",
     "output_type": "error",
     "traceback": [
      "\u001b[1;31m---------------------------------------------------------------------------\u001b[0m",
      "\u001b[1;31mTypeError\u001b[0m                                 Traceback (most recent call last)",
      "Cell \u001b[1;32mIn [97], line 1\u001b[0m\n\u001b[1;32m----> 1\u001b[0m \u001b[38;5;28;43mint\u001b[39;49m\u001b[43m(\u001b[49m\u001b[38;5;28;43;01mNone\u001b[39;49;00m\u001b[43m)\u001b[49m\n",
      "\u001b[1;31mTypeError\u001b[0m: int() argument must be a string, a bytes-like object or a number, not 'NoneType'"
     ]
    }
   ],
   "source": [
    "int(None)"
   ]
  },
  {
   "cell_type": "code",
   "execution_count": null,
   "id": "3ea54bdd-d377-43b2-9338-a3aa76646e49",
   "metadata": {},
   "outputs": [],
   "source": []
  }
 ],
 "metadata": {
  "kernelspec": {
   "display_name": "LHL_env",
   "language": "python",
   "name": "lhl_env"
  },
  "language_info": {
   "codemirror_mode": {
    "name": "ipython",
    "version": 3
   },
   "file_extension": ".py",
   "mimetype": "text/x-python",
   "name": "python",
   "nbconvert_exporter": "python",
   "pygments_lexer": "ipython3",
   "version": "3.9.13"
  }
 },
 "nbformat": 4,
 "nbformat_minor": 5
}
