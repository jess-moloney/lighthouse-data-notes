{
 "cells": [
  {
   "cell_type": "markdown",
   "metadata": {},
   "source": [
    "## Central Limit Theorem Exercise"
   ]
  },
  {
   "cell_type": "code",
   "execution_count": 2,
   "metadata": {},
   "outputs": [
    {
     "name": "stdout",
     "output_type": "stream",
     "text": [
      "Defaulting to user installation because normal site-packages is not writeable\n",
      "Collecting matplotlib\n",
      "  Downloading matplotlib-3.6.0-cp39-cp39-win_amd64.whl (7.2 MB)\n",
      "     ---------------------------------------- 7.2/7.2 MB 893.1 kB/s eta 0:00:00\n",
      "Collecting cycler>=0.10\n",
      "  Downloading cycler-0.11.0-py3-none-any.whl (6.4 kB)\n",
      "Collecting kiwisolver>=1.0.1\n",
      "  Downloading kiwisolver-1.4.4-cp39-cp39-win_amd64.whl (55 kB)\n",
      "     -------------------------------------- 55.4/55.4 kB 961.1 kB/s eta 0:00:00\n",
      "Collecting pillow>=6.2.0\n",
      "  Downloading Pillow-9.2.0-cp39-cp39-win_amd64.whl (3.3 MB)\n",
      "     ---------------------------------------- 3.3/3.3 MB 893.4 kB/s eta 0:00:00\n",
      "Requirement already satisfied: python-dateutil>=2.7 in c:\\users\\user\\appdata\\roaming\\python\\python39\\site-packages (from matplotlib) (2.8.2)\n",
      "Collecting contourpy>=1.0.1\n",
      "  Downloading contourpy-1.0.5-cp39-cp39-win_amd64.whl (161 kB)\n",
      "     ------------------------------------ 162.0/162.0 kB 887.3 kB/s eta 0:00:00\n",
      "Requirement already satisfied: pyparsing>=2.2.1 in c:\\users\\user\\appdata\\roaming\\python\\python39\\site-packages (from matplotlib) (3.0.9)\n",
      "Collecting fonttools>=4.22.0\n",
      "  Downloading fonttools-4.37.3-py3-none-any.whl (959 kB)\n",
      "     ------------------------------------ 960.0/960.0 kB 907.1 kB/s eta 0:00:00\n",
      "Requirement already satisfied: packaging>=20.0 in c:\\users\\user\\appdata\\roaming\\python\\python39\\site-packages (from matplotlib) (21.3)\n",
      "Requirement already satisfied: numpy>=1.19 in c:\\users\\user\\appdata\\roaming\\python\\python39\\site-packages (from matplotlib) (1.23.3)\n",
      "Requirement already satisfied: six>=1.5 in c:\\users\\user\\appdata\\roaming\\python\\python39\\site-packages (from python-dateutil>=2.7->matplotlib) (1.16.0)\n",
      "Installing collected packages: pillow, kiwisolver, fonttools, cycler, contourpy, matplotlib\n",
      "Successfully installed contourpy-1.0.5 cycler-0.11.0 fonttools-4.37.3 kiwisolver-1.4.4 matplotlib-3.6.0 pillow-9.2.0\n"
     ]
    },
    {
     "name": "stderr",
     "output_type": "stream",
     "text": [
      "  WARNING: The scripts fonttools.exe, pyftmerge.exe, pyftsubset.exe and ttx.exe are installed in 'C:\\Users\\User\\AppData\\Roaming\\Python\\Python39\\Scripts' which is not on PATH.\n",
      "  Consider adding this directory to PATH or, if you prefer to suppress this warning, use --no-warn-script-location.\n"
     ]
    }
   ],
   "source": [
    "!pip install matplotlib"
   ]
  },
  {
   "cell_type": "code",
   "execution_count": 1,
   "metadata": {},
   "outputs": [],
   "source": [
    "import pandas as pd\n",
    "import numpy as np\n",
    "# package with hypothesis tests\n",
    "import scipy.stats as st\n",
    "import matplotlib.pyplot as plt"
   ]
  },
  {
   "cell_type": "code",
   "execution_count": 2,
   "metadata": {},
   "outputs": [
    {
     "name": "stderr",
     "output_type": "stream",
     "text": [
      "C:\\Users\\User\\AppData\\Local\\Temp\\ipykernel_21552\\3413091114.py:13: UserWarning: Matplotlib is currently using module://matplotlib_inline.backend_inline, which is a non-GUI backend, so cannot show the figure.\n",
      "  fig.show();\n"
     ]
    },
    {
     "data": {
      "image/png": "[encoded data removed]",
      "text/plain": [
       "<Figure size 1400x500 with 2 Axes>"
      ]
     },
     "metadata": {},
     "output_type": "display_data"
    }
   ],
   "source": [
    "#\n",
    "uniform = np.random.rand(10000)\n",
    "normal = np.random.randn(10000)\n",
    "\n",
    "fig = plt.figure(figsize=(14,5))\n",
    "ax1 = fig.add_subplot(1,2,1)\n",
    "ax2 = fig.add_subplot(1,2,2)\n",
    "ax1.hist(uniform, 20)\n",
    "ax1.set_title('Uniform data')\n",
    "ax2.hist(normal, 20)\n",
    "ax2.set_title('Normal data')\n",
    "fig.tight_layout()\n",
    "fig.show();"
   ]
  },
  {
   "cell_type": "markdown",
   "metadata": {},
   "source": [
    "### CLT - simulation"
   ]
  },
  {
   "cell_type": "markdown",
   "metadata": {},
   "source": [
    "### How many samples do we need to take, so that the distribution of means for these samples will pass the shapiro-wilk test for normality if the population is from a Uniform or a Normal distribution?\n",
    "\n",
    "+ Assume the population has 10,000 observation.\n",
    "+ Assume sample size is always 50.\n",
    "\n",
    "We will be suprised to see how fast the test passes for both distributions."
   ]
  },
  {
   "cell_type": "code",
   "execution_count": null,
   "metadata": {},
   "outputs": [],
   "source": [
    "# Shapiro-Wilk Test tests if a distribution is normally distributed\n",
    "# H0 = distribution is normally distributed\n",
    "# HA = distribution is not normally distributed"
   ]
  },
  {
   "cell_type": "code",
   "execution_count": 62,
   "metadata": {},
   "outputs": [],
   "source": [
    "# get the mean of a sample from the distribution\n",
    "\n",
    "sample_uniform1 = np.random.rand(50)\n",
    "\n",
    "# keep getting the mean of samples from the uniform distribution until the the distribution of the means passes the shapiro test (AKA until the p-value is GREATER THAN alpha)\n",
    "\n",
    "sample_uniform2 = np.random.rand(50)\n",
    "sample_uniform3 = np.random.rand(50)\n",
    "\n",
    "# if p-value is < alpha, we will reject the null - and this means that the distribution is NOT normally distributed\n",
    "\n",
    "# we want to know when p-value is > alpha"
   ]
  },
  {
   "cell_type": "code",
   "execution_count": 78,
   "metadata": {},
   "outputs": [
    {
     "data": {
      "text/plain": [
       "array([0.80441149, 0.40972446, 0.14643446, 0.63409482, 0.63475709,\n",
       "       0.44780218, 0.17994256, 0.64374659, 0.2368954 , 0.33381897,\n",
       "       0.75761434, 0.31984993, 0.18658659, 0.11346987, 0.49631036,\n",
       "       0.82105415, 0.66696473, 0.54071521, 0.13051122, 0.02774786,\n",
       "       0.69126789, 0.05392075, 0.60102805, 0.23521156, 0.34564653,\n",
       "       0.01367108, 0.31170272, 0.85089202, 0.13555576, 0.30631792,\n",
       "       0.50312373, 0.01823057, 0.5865754 , 0.01311686, 0.57316629,\n",
       "       0.98856787, 0.58692332, 0.43139552, 0.38211433, 0.32801035,\n",
       "       0.79400726, 0.64808789, 0.97664251, 0.78022316, 0.63182096,\n",
       "       0.1545526 , 0.16541653, 0.94220092, 0.80981209, 0.66506916])"
      ]
     },
     "execution_count": 78,
     "metadata": {},
     "output_type": "execute_result"
    }
   ],
   "source": [
    "sample_uniform1"
   ]
  },
  {
   "cell_type": "code",
   "execution_count": 80,
   "metadata": {},
   "outputs": [
    {
     "data": {
      "text/plain": [
       "0.46113447788406725"
      ]
     },
     "execution_count": 80,
     "metadata": {},
     "output_type": "execute_result"
    }
   ],
   "source": [
    "sample_mean1 = np.mean(sample_uniform1)\n",
    "sample_mean1"
   ]
  },
  {
   "cell_type": "code",
   "execution_count": 81,
   "metadata": {},
   "outputs": [
    {
     "data": {
      "text/plain": [
       "array([4.36127173e-01, 3.62207928e-01, 4.21652401e-01, 3.28220373e-01,\n",
       "       1.88544626e-01, 6.49358447e-01, 3.35548666e-01, 6.88525578e-02,\n",
       "       1.38777633e-01, 9.31179802e-01, 7.93018579e-01, 2.51154903e-01,\n",
       "       5.12485974e-01, 7.03894865e-01, 1.13395226e-01, 5.15815318e-01,\n",
       "       4.81215337e-01, 1.55560124e-01, 4.92270822e-01, 6.83532111e-01,\n",
       "       5.66811048e-01, 1.63111261e-01, 9.21729160e-01, 9.49552495e-01,\n",
       "       8.24832430e-01, 7.70926046e-01, 6.41418982e-01, 2.27217420e-01,\n",
       "       6.29857134e-01, 4.20658025e-01, 7.73173689e-01, 2.60768198e-01,\n",
       "       2.59121397e-01, 1.83999658e-01, 7.16021171e-04, 3.58886215e-01,\n",
       "       2.28267207e-01, 1.47718330e-01, 5.53967567e-02, 1.57115593e-01,\n",
       "       1.68267953e-01, 1.78396468e-01, 9.96030980e-01, 4.92100660e-01,\n",
       "       5.23840875e-01, 4.43567429e-01, 7.08299046e-01, 6.18768626e-01,\n",
       "       3.33854695e-01, 5.24022436e-01])"
      ]
     },
     "execution_count": 81,
     "metadata": {},
     "output_type": "execute_result"
    }
   ],
   "source": [
    "sample_uniform2"
   ]
  },
  {
   "cell_type": "code",
   "execution_count": 83,
   "metadata": {},
   "outputs": [
    {
     "data": {
      "text/plain": [
       "0.4418247820068004"
      ]
     },
     "execution_count": 83,
     "metadata": {},
     "output_type": "execute_result"
    }
   ],
   "source": [
    "sample_mean2 = np.mean(sample_uniform2)\n",
    "sample_mean2"
   ]
  },
  {
   "cell_type": "code",
   "execution_count": 84,
   "metadata": {},
   "outputs": [
    {
     "data": {
      "text/plain": [
       "array([0.41257406, 0.87860988, 0.36111443, 0.67764749, 0.01161187,\n",
       "       0.39955628, 0.62694179, 0.11883315, 0.65952263, 0.51827494,\n",
       "       0.65528375, 0.14986053, 0.25786871, 0.59303115, 0.03169395,\n",
       "       0.91089246, 0.91145369, 0.60415005, 0.54722546, 0.83678196,\n",
       "       0.85427974, 0.28114326, 0.01897835, 0.16910389, 0.26823295,\n",
       "       0.7569447 , 0.52230704, 0.91054111, 0.69606576, 0.35580305,\n",
       "       0.01949243, 0.96365715, 0.98902323, 0.6441181 , 0.02115758,\n",
       "       0.15664025, 0.87886527, 0.56750759, 0.67982294, 0.62715853,\n",
       "       0.02017228, 0.86525879, 0.91344791, 0.43041244, 0.76439036,\n",
       "       0.37689554, 0.79510884, 0.33564318, 0.49484274, 0.76219673])"
      ]
     },
     "execution_count": 84,
     "metadata": {},
     "output_type": "execute_result"
    }
   ],
   "source": [
    "sample_uniform3"
   ]
  },
  {
   "cell_type": "code",
   "execution_count": 85,
   "metadata": {},
   "outputs": [
    {
     "data": {
      "text/plain": [
       "0.5260427996459714"
      ]
     },
     "execution_count": 85,
     "metadata": {},
     "output_type": "execute_result"
    }
   ],
   "source": [
    "sample_mean3 = np.mean(sample_uniform3)\n",
    "sample_mean3"
   ]
  },
  {
   "cell_type": "code",
   "execution_count": 86,
   "metadata": {},
   "outputs": [],
   "source": [
    "sample_mean_list = [sample_mean1,sample_mean2,sample_mean3]"
   ]
  },
  {
   "cell_type": "code",
   "execution_count": 87,
   "metadata": {},
   "outputs": [
    {
     "data": {
      "text/plain": [
       "[0.46113447788406725, 0.4418247820068004, 0.5260427996459714]"
      ]
     },
     "execution_count": 87,
     "metadata": {},
     "output_type": "execute_result"
    }
   ],
   "source": [
    "sample_mean_list"
   ]
  },
  {
   "cell_type": "code",
   "execution_count": 89,
   "metadata": {},
   "outputs": [
    {
     "data": {
      "text/plain": [
       "ShapiroResult(statistic=0.9109813570976257, pvalue=0.42136135697364807)"
      ]
     },
     "execution_count": 89,
     "metadata": {},
     "output_type": "execute_result"
    }
   ],
   "source": [
    "shapiro_test = st.shapiro(sample_mean_list)\n",
    "shapiro_test"
   ]
  },
  {
   "cell_type": "code",
   "execution_count": 131,
   "metadata": {},
   "outputs": [],
   "source": [
    "# define function to figure out how many samples are required to pass the shapiro-wilks test\n",
    "\n",
    "def samples_required_uniform(s, alpha):\n",
    "    sample_dist = []\n",
    "    samples = 0\n",
    "    while len(sample_dist) < 3:\n",
    "        samples += 1\n",
    "        sample_dist.append(np.mean(np.random.rand(s)))\n",
    "    shapiro_test = st.shapiro(sample_dist)\n",
    "    while shapiro_test[1] <= alpha:\n",
    "        samples += 1\n",
    "        sample_dist.append(np.mean(np.random.rand(s)))\n",
    "        shapiro_test = st.shapiro(sample_dist)\n",
    "    print(f'{samples} sample means {sample_dist} are required for the distribution of the means to pass the shapiro-wilks test.')\n",
    "    print(f'With {samples} samples, these are the results of the shapiro test: {shapiro_test}')"
   ]
  },
  {
   "cell_type": "code",
   "execution_count": 132,
   "metadata": {},
   "outputs": [
    {
     "name": "stdout",
     "output_type": "stream",
     "text": [
      "3 sample means [0.4947855155076957, 0.4933807552363142, 0.4853284909908029] are required for the distribution of the means to pass the shapiro-wilks test.\n",
      "With 3 samples, these are the results of the shapiro test: ShapiroResult(statistic=0.85859215259552, pvalue=0.26370739936828613)\n"
     ]
    }
   ],
   "source": [
    "# set alpha, sample size for the test\n",
    "alpha = 0.05\n",
    "s = 50\n",
    "\n",
    "# run test\n",
    "samples_required_uniform(s, alpha)"
   ]
  },
  {
   "cell_type": "code",
   "execution_count": 133,
   "metadata": {},
   "outputs": [],
   "source": [
    "# define function to figure out how many samples are required to pass the shapiro-wilks test\n",
    "\n",
    "def samples_required_normal(s, alpha):\n",
    "    sample_dist = []\n",
    "    samples = 0\n",
    "    while len(sample_dist) < 3:\n",
    "        samples += 1\n",
    "        sample_dist.append(np.mean(np.random.randn(s)))\n",
    "    shapiro_test = st.shapiro(sample_dist)\n",
    "    while shapiro_test[1] <= alpha:\n",
    "        samples += 1\n",
    "        sample_dist.append(np.mean(np.random.randn(s)))\n",
    "        shapiro_test = st.shapiro(sample_dist)\n",
    "    print(f'{samples} sample means {sample_dist} are required for the distribution of the means to pass the shapiro-wilks test.')\n",
    "    print(f'With {samples} samples, these are the results of the shapiro test: {shapiro_test}')"
   ]
  },
  {
   "cell_type": "code",
   "execution_count": 134,
   "metadata": {},
   "outputs": [
    {
     "name": "stdout",
     "output_type": "stream",
     "text": [
      "3 sample means [-0.09475009732102398, -0.13133860722393426, 0.09929225311735275] are required for the distribution of the means to pass the shapiro-wilks test.\n",
      "With 3 samples, these are the results of the shapiro test: ShapiroResult(statistic=0.8655281066894531, pvalue=0.28291571140289307)\n"
     ]
    }
   ],
   "source": [
    "# set alpha, sample size for the test\n",
    "alpha = 0.05\n",
    "s = 50\n",
    "\n",
    "# run test\n",
    "samples_required_normal(s, alpha)"
   ]
  },
  {
   "cell_type": "code",
   "execution_count": null,
   "metadata": {},
   "outputs": [],
   "source": []
  }
 ],
 "metadata": {
  "kernelspec": {
   "display_name": "Python 3 (ipykernel)",
   "language": "python",
   "name": "python3"
  },
  "language_info": {
   "codemirror_mode": {
    "name": "ipython",
    "version": 3
   },
   "file_extension": ".py",
   "mimetype": "text/x-python",
   "name": "python",
   "nbconvert_exporter": "python",
   "pygments_lexer": "ipython3",
   "version": "3.9.13"
  }
 },
 "nbformat": 4,
 "nbformat_minor": 4
}
