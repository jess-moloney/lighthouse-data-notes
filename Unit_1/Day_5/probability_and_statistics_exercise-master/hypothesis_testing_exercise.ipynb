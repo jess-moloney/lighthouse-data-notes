{
 "cells": [
  {
   "cell_type": "markdown",
   "metadata": {},
   "source": [
    "## Hypothesis Testing Assignment"
   ]
  },
  {
   "cell_type": "code",
   "execution_count": 2,
   "metadata": {},
   "outputs": [
    {
     "name": "stdout",
     "output_type": "stream",
     "text": [
      "Defaulting to user installation because normal site-packages is not writeable\n",
      "Collecting scipy\n",
      "  Downloading scipy-1.9.1-cp39-cp39-win_amd64.whl (38.6 MB)\n",
      "     -------------------------------------- 38.6/38.6 MB 677.3 kB/s eta 0:00:00\n",
      "Requirement already satisfied: numpy<1.25.0,>=1.18.5 in c:\\users\\user\\appdata\\roaming\\python\\python39\\site-packages (from scipy) (1.23.3)\n",
      "Installing collected packages: scipy\n",
      "Successfully installed scipy-1.9.1\n"
     ]
    }
   ],
   "source": [
    "!pip install scipy"
   ]
  },
  {
   "cell_type": "code",
   "execution_count": 2,
   "metadata": {},
   "outputs": [],
   "source": [
    "#Importing necessary packages\n",
    "import pandas as pd\n",
    "import numpy as np\n",
    "# package with hypothesis tests\n",
    "import scipy.stats as st"
   ]
  },
  {
   "cell_type": "markdown",
   "metadata": {},
   "source": [
    "### Data"
   ]
  },
  {
   "cell_type": "markdown",
   "metadata": {},
   "source": [
    "You can download the data from [**here**](https://drive.google.com/file/d/0Bz9_0VdXvv9bUUNlUTVrMF9VcVU/view?usp=sharing&resourcekey=0-16O9Fc5eaJH99-M7AHqHOg). The data contains results of all NBA games from seasons 2013/2014 to 2015/2016."
   ]
  },
  {
   "cell_type": "code",
   "execution_count": null,
   "metadata": {},
   "outputs": [],
   "source": []
  },
  {
   "cell_type": "code",
   "execution_count": null,
   "metadata": {},
   "outputs": [],
   "source": []
  },
  {
   "cell_type": "markdown",
   "metadata": {},
   "source": [
    "--------------\n",
    "### Task 1\n",
    "Split the data into **3** separate dataframes for each NBA season!"
   ]
  },
  {
   "cell_type": "code",
   "execution_count": 3,
   "metadata": {},
   "outputs": [],
   "source": [
    "df = pd.read_csv('nba_games_2013_2015.csv', sep = ';')"
   ]
  },
  {
   "cell_type": "code",
   "execution_count": 4,
   "metadata": {},
   "outputs": [],
   "source": [
    "# df = df.sort_values(by=['SEASON_ID'])"
   ]
  },
  {
   "cell_type": "code",
   "execution_count": 5,
   "metadata": {},
   "outputs": [],
   "source": [
    "df13 = df[df['SEASON_ID'] == 22013]\n",
    "df14 = df[df['SEASON_ID'] == 22014]\n",
    "df15 = df[df['SEASON_ID'] == 22015]"
   ]
  },
  {
   "cell_type": "code",
   "execution_count": 6,
   "metadata": {},
   "outputs": [
    {
     "data": {
      "text/html": [
       "<div>\n",
       "<style scoped>\n",
       "    .dataframe tbody tr th:only-of-type {\n",
       "        vertical-align: middle;\n",
       "    }\n",
       "\n",
       "    .dataframe tbody tr th {\n",
       "        vertical-align: top;\n",
       "    }\n",
       "\n",
       "    .dataframe thead th {\n",
       "        text-align: right;\n",
       "    }\n",
       "</style>\n",
       "<table border=\"1\" class=\"dataframe\">\n",
       "  <thead>\n",
       "    <tr style=\"text-align: right;\">\n",
       "      <th></th>\n",
       "      <th>SEASON_ID</th>\n",
       "      <th>TEAM_ID</th>\n",
       "      <th>TEAM_ABBREVIATION</th>\n",
       "      <th>TEAM_NAME</th>\n",
       "      <th>GAME_ID</th>\n",
       "      <th>GAME_DATE</th>\n",
       "      <th>MATCHUP</th>\n",
       "      <th>WL</th>\n",
       "      <th>MIN</th>\n",
       "      <th>PTS</th>\n",
       "      <th>...</th>\n",
       "      <th>FT_PCT</th>\n",
       "      <th>OREB</th>\n",
       "      <th>DREB</th>\n",
       "      <th>REB</th>\n",
       "      <th>AST</th>\n",
       "      <th>STL</th>\n",
       "      <th>BLK</th>\n",
       "      <th>TOV</th>\n",
       "      <th>PF</th>\n",
       "      <th>PLUS_MINUS</th>\n",
       "    </tr>\n",
       "  </thead>\n",
       "  <tbody>\n",
       "    <tr>\n",
       "      <th>0</th>\n",
       "      <td>22015</td>\n",
       "      <td>1610612750</td>\n",
       "      <td>MIN</td>\n",
       "      <td>Minnesota Timberwolves</td>\n",
       "      <td>21501226</td>\n",
       "      <td>2016-04-13</td>\n",
       "      <td>MIN vs. NOP</td>\n",
       "      <td>W</td>\n",
       "      <td>240</td>\n",
       "      <td>144</td>\n",
       "      <td>...</td>\n",
       "      <td>0.826</td>\n",
       "      <td>5</td>\n",
       "      <td>38</td>\n",
       "      <td>43</td>\n",
       "      <td>41</td>\n",
       "      <td>14</td>\n",
       "      <td>8</td>\n",
       "      <td>13</td>\n",
       "      <td>20</td>\n",
       "      <td>35.0</td>\n",
       "    </tr>\n",
       "    <tr>\n",
       "      <th>1</th>\n",
       "      <td>22015</td>\n",
       "      <td>1610612749</td>\n",
       "      <td>MIL</td>\n",
       "      <td>Milwaukee Bucks</td>\n",
       "      <td>21501225</td>\n",
       "      <td>2016-04-13</td>\n",
       "      <td>MIL vs. IND</td>\n",
       "      <td>L</td>\n",
       "      <td>240</td>\n",
       "      <td>92</td>\n",
       "      <td>...</td>\n",
       "      <td>0.846</td>\n",
       "      <td>7</td>\n",
       "      <td>36</td>\n",
       "      <td>43</td>\n",
       "      <td>23</td>\n",
       "      <td>8</td>\n",
       "      <td>3</td>\n",
       "      <td>15</td>\n",
       "      <td>15</td>\n",
       "      <td>-5.0</td>\n",
       "    </tr>\n",
       "    <tr>\n",
       "      <th>2</th>\n",
       "      <td>22015</td>\n",
       "      <td>1610612738</td>\n",
       "      <td>BOS</td>\n",
       "      <td>Boston Celtics</td>\n",
       "      <td>21501217</td>\n",
       "      <td>2016-04-13</td>\n",
       "      <td>BOS vs. MIA</td>\n",
       "      <td>W</td>\n",
       "      <td>240</td>\n",
       "      <td>98</td>\n",
       "      <td>...</td>\n",
       "      <td>0.864</td>\n",
       "      <td>10</td>\n",
       "      <td>29</td>\n",
       "      <td>39</td>\n",
       "      <td>20</td>\n",
       "      <td>7</td>\n",
       "      <td>3</td>\n",
       "      <td>7</td>\n",
       "      <td>20</td>\n",
       "      <td>10.0</td>\n",
       "    </tr>\n",
       "    <tr>\n",
       "      <th>3</th>\n",
       "      <td>22015</td>\n",
       "      <td>1610612747</td>\n",
       "      <td>LAL</td>\n",
       "      <td>Los Angeles Lakers</td>\n",
       "      <td>21501228</td>\n",
       "      <td>2016-04-13</td>\n",
       "      <td>LAL vs. UTA</td>\n",
       "      <td>W</td>\n",
       "      <td>239</td>\n",
       "      <td>101</td>\n",
       "      <td>...</td>\n",
       "      <td>0.867</td>\n",
       "      <td>8</td>\n",
       "      <td>39</td>\n",
       "      <td>47</td>\n",
       "      <td>19</td>\n",
       "      <td>6</td>\n",
       "      <td>3</td>\n",
       "      <td>13</td>\n",
       "      <td>17</td>\n",
       "      <td>5.0</td>\n",
       "    </tr>\n",
       "    <tr>\n",
       "      <th>4</th>\n",
       "      <td>22015</td>\n",
       "      <td>1610612739</td>\n",
       "      <td>CLE</td>\n",
       "      <td>Cleveland Cavaliers</td>\n",
       "      <td>21501220</td>\n",
       "      <td>2016-04-13</td>\n",
       "      <td>CLE vs. DET</td>\n",
       "      <td>L</td>\n",
       "      <td>265</td>\n",
       "      <td>110</td>\n",
       "      <td>...</td>\n",
       "      <td>0.733</td>\n",
       "      <td>8</td>\n",
       "      <td>35</td>\n",
       "      <td>43</td>\n",
       "      <td>21</td>\n",
       "      <td>4</td>\n",
       "      <td>7</td>\n",
       "      <td>10</td>\n",
       "      <td>23</td>\n",
       "      <td>-2.0</td>\n",
       "    </tr>\n",
       "    <tr>\n",
       "      <th>...</th>\n",
       "      <td>...</td>\n",
       "      <td>...</td>\n",
       "      <td>...</td>\n",
       "      <td>...</td>\n",
       "      <td>...</td>\n",
       "      <td>...</td>\n",
       "      <td>...</td>\n",
       "      <td>...</td>\n",
       "      <td>...</td>\n",
       "      <td>...</td>\n",
       "      <td>...</td>\n",
       "      <td>...</td>\n",
       "      <td>...</td>\n",
       "      <td>...</td>\n",
       "      <td>...</td>\n",
       "      <td>...</td>\n",
       "      <td>...</td>\n",
       "      <td>...</td>\n",
       "      <td>...</td>\n",
       "      <td>...</td>\n",
       "      <td>...</td>\n",
       "    </tr>\n",
       "    <tr>\n",
       "      <th>2455</th>\n",
       "      <td>22015</td>\n",
       "      <td>1610612744</td>\n",
       "      <td>GSW</td>\n",
       "      <td>Golden State Warriors</td>\n",
       "      <td>21500003</td>\n",
       "      <td>2015-10-27</td>\n",
       "      <td>GSW vs. NOP</td>\n",
       "      <td>W</td>\n",
       "      <td>241</td>\n",
       "      <td>111</td>\n",
       "      <td>...</td>\n",
       "      <td>0.909</td>\n",
       "      <td>21</td>\n",
       "      <td>35</td>\n",
       "      <td>56</td>\n",
       "      <td>29</td>\n",
       "      <td>8</td>\n",
       "      <td>7</td>\n",
       "      <td>20</td>\n",
       "      <td>29</td>\n",
       "      <td>16.0</td>\n",
       "    </tr>\n",
       "    <tr>\n",
       "      <th>2456</th>\n",
       "      <td>22015</td>\n",
       "      <td>1610612739</td>\n",
       "      <td>CLE</td>\n",
       "      <td>Cleveland Cavaliers</td>\n",
       "      <td>21500002</td>\n",
       "      <td>2015-10-27</td>\n",
       "      <td>CLE @ CHI</td>\n",
       "      <td>L</td>\n",
       "      <td>240</td>\n",
       "      <td>95</td>\n",
       "      <td>...</td>\n",
       "      <td>0.588</td>\n",
       "      <td>11</td>\n",
       "      <td>39</td>\n",
       "      <td>50</td>\n",
       "      <td>26</td>\n",
       "      <td>5</td>\n",
       "      <td>7</td>\n",
       "      <td>10</td>\n",
       "      <td>21</td>\n",
       "      <td>-2.0</td>\n",
       "    </tr>\n",
       "    <tr>\n",
       "      <th>2457</th>\n",
       "      <td>22015</td>\n",
       "      <td>1610612740</td>\n",
       "      <td>NOP</td>\n",
       "      <td>New Orleans Pelicans</td>\n",
       "      <td>21500003</td>\n",
       "      <td>2015-10-27</td>\n",
       "      <td>NOP @ GSW</td>\n",
       "      <td>L</td>\n",
       "      <td>241</td>\n",
       "      <td>95</td>\n",
       "      <td>...</td>\n",
       "      <td>0.704</td>\n",
       "      <td>8</td>\n",
       "      <td>25</td>\n",
       "      <td>33</td>\n",
       "      <td>21</td>\n",
       "      <td>9</td>\n",
       "      <td>3</td>\n",
       "      <td>18</td>\n",
       "      <td>26</td>\n",
       "      <td>-16.0</td>\n",
       "    </tr>\n",
       "    <tr>\n",
       "      <th>2458</th>\n",
       "      <td>22015</td>\n",
       "      <td>1610612741</td>\n",
       "      <td>CHI</td>\n",
       "      <td>Chicago Bulls</td>\n",
       "      <td>21500002</td>\n",
       "      <td>2015-10-27</td>\n",
       "      <td>CHI vs. CLE</td>\n",
       "      <td>W</td>\n",
       "      <td>240</td>\n",
       "      <td>97</td>\n",
       "      <td>...</td>\n",
       "      <td>0.696</td>\n",
       "      <td>7</td>\n",
       "      <td>40</td>\n",
       "      <td>47</td>\n",
       "      <td>13</td>\n",
       "      <td>6</td>\n",
       "      <td>10</td>\n",
       "      <td>13</td>\n",
       "      <td>22</td>\n",
       "      <td>2.0</td>\n",
       "    </tr>\n",
       "    <tr>\n",
       "      <th>2459</th>\n",
       "      <td>22015</td>\n",
       "      <td>1610612737</td>\n",
       "      <td>ATL</td>\n",
       "      <td>Atlanta Hawks</td>\n",
       "      <td>21500001</td>\n",
       "      <td>2015-10-27</td>\n",
       "      <td>ATL vs. DET</td>\n",
       "      <td>L</td>\n",
       "      <td>239</td>\n",
       "      <td>94</td>\n",
       "      <td>...</td>\n",
       "      <td>0.800</td>\n",
       "      <td>7</td>\n",
       "      <td>33</td>\n",
       "      <td>40</td>\n",
       "      <td>22</td>\n",
       "      <td>9</td>\n",
       "      <td>4</td>\n",
       "      <td>15</td>\n",
       "      <td>25</td>\n",
       "      <td>-12.0</td>\n",
       "    </tr>\n",
       "  </tbody>\n",
       "</table>\n",
       "<p>2460 rows × 28 columns</p>\n",
       "</div>"
      ],
      "text/plain": [
       "      SEASON_ID     TEAM_ID TEAM_ABBREVIATION               TEAM_NAME  \\\n",
       "0         22015  1610612750               MIN  Minnesota Timberwolves   \n",
       "1         22015  1610612749               MIL         Milwaukee Bucks   \n",
       "2         22015  1610612738               BOS          Boston Celtics   \n",
       "3         22015  1610612747               LAL      Los Angeles Lakers   \n",
       "4         22015  1610612739               CLE     Cleveland Cavaliers   \n",
       "...         ...         ...               ...                     ...   \n",
       "2455      22015  1610612744               GSW   Golden State Warriors   \n",
       "2456      22015  1610612739               CLE     Cleveland Cavaliers   \n",
       "2457      22015  1610612740               NOP    New Orleans Pelicans   \n",
       "2458      22015  1610612741               CHI           Chicago Bulls   \n",
       "2459      22015  1610612737               ATL           Atlanta Hawks   \n",
       "\n",
       "       GAME_ID   GAME_DATE      MATCHUP WL  MIN  PTS  ...  FT_PCT  OREB  DREB  \\\n",
       "0     21501226  2016-04-13  MIN vs. NOP  W  240  144  ...   0.826     5    38   \n",
       "1     21501225  2016-04-13  MIL vs. IND  L  240   92  ...   0.846     7    36   \n",
       "2     21501217  2016-04-13  BOS vs. MIA  W  240   98  ...   0.864    10    29   \n",
       "3     21501228  2016-04-13  LAL vs. UTA  W  239  101  ...   0.867     8    39   \n",
       "4     21501220  2016-04-13  CLE vs. DET  L  265  110  ...   0.733     8    35   \n",
       "...        ...         ...          ... ..  ...  ...  ...     ...   ...   ...   \n",
       "2455  21500003  2015-10-27  GSW vs. NOP  W  241  111  ...   0.909    21    35   \n",
       "2456  21500002  2015-10-27    CLE @ CHI  L  240   95  ...   0.588    11    39   \n",
       "2457  21500003  2015-10-27    NOP @ GSW  L  241   95  ...   0.704     8    25   \n",
       "2458  21500002  2015-10-27  CHI vs. CLE  W  240   97  ...   0.696     7    40   \n",
       "2459  21500001  2015-10-27  ATL vs. DET  L  239   94  ...   0.800     7    33   \n",
       "\n",
       "      REB  AST  STL  BLK  TOV  PF  PLUS_MINUS  \n",
       "0      43   41   14    8   13  20        35.0  \n",
       "1      43   23    8    3   15  15        -5.0  \n",
       "2      39   20    7    3    7  20        10.0  \n",
       "3      47   19    6    3   13  17         5.0  \n",
       "4      43   21    4    7   10  23        -2.0  \n",
       "...   ...  ...  ...  ...  ...  ..         ...  \n",
       "2455   56   29    8    7   20  29        16.0  \n",
       "2456   50   26    5    7   10  21        -2.0  \n",
       "2457   33   21    9    3   18  26       -16.0  \n",
       "2458   47   13    6   10   13  22         2.0  \n",
       "2459   40   22    9    4   15  25       -12.0  \n",
       "\n",
       "[2460 rows x 28 columns]"
      ]
     },
     "execution_count": 6,
     "metadata": {},
     "output_type": "execute_result"
    }
   ],
   "source": [
    "df15"
   ]
  },
  {
   "cell_type": "markdown",
   "metadata": {},
   "source": [
    "---------------\n",
    "### Task 2\n",
    "Test the hypothesis that the offensive productions stats of the Cleveland Cavaliers and Golden State Warriors (the teams that met in the finals that year) were from the same distribution in the 2015/2016 season.\n",
    "\n",
    "Offensive production refers to two variables: **PTS (Points)** and **FG_PCT (Field Goal Percentage)**. We will need to do two separate hypothesis tests, one for each variable."
   ]
  },
  {
   "cell_type": "code",
   "execution_count": 7,
   "metadata": {
    "tags": []
   },
   "outputs": [],
   "source": [
    "#PTS for both teams\n",
    "clePTS = df15[df15['TEAM_NAME'] == 'Cleveland Cavaliers']['PTS']\n",
    "gswPTS = df15[df15['TEAM_NAME'] == 'Golden State Warriors']['PTS']\n",
    "\n",
    "#FG_PCT for both teams\n",
    "cleFG = df15[df15['TEAM_NAME'] == 'Cleveland Cavaliers']['FG_PCT']\n",
    "gswFG = df15[df15['TEAM_NAME'] == 'Golden State Warriors']['FG_PCT']"
   ]
  },
  {
   "cell_type": "markdown",
   "metadata": {},
   "source": [
    "This is a test for the null hypothesis that 2 independent samples have identical average (expected) values. This test assumes that the populations have identical variances by default."
   ]
  },
  {
   "cell_type": "code",
   "execution_count": 8,
   "metadata": {},
   "outputs": [
    {
     "name": "stdout",
     "output_type": "stream",
     "text": [
      "H0 is rejected.\n",
      "t-statistic: -5.973920595717936; p-value: 1.4233420547764935e-08\n"
     ]
    }
   ],
   "source": [
    "#H0: AVG(clePTS) = AVG(gswPTS)\n",
    "#HA: AVG(clePTS) != AVG(gswPTS)\n",
    "\n",
    "# assign alpha\n",
    "\n",
    "alpha = 0.05\n",
    "\n",
    "# calculate t-statistic and p-value\n",
    "\n",
    "t1,p1 = st.ttest_ind(clePTS, gswPTS)\n",
    "\n",
    "# evaluate results\n",
    "\n",
    "def hypothesis_test(t,p,alpha):\n",
    "    if p < alpha:\n",
    "        print('H0 is rejected.')\n",
    "    else:\n",
    "        print('H0 is not rejected.')\n",
    "    print(f't-statistic: {t}; p-value: {p}')\n",
    "hypothesis_test(t1,p1,alpha)"
   ]
  },
  {
   "cell_type": "code",
   "execution_count": 9,
   "metadata": {},
   "outputs": [],
   "source": [
    "# reject H0 - low probability that these results would be seen if cleveland and golden state were part of the same distribution"
   ]
  },
  {
   "cell_type": "code",
   "execution_count": 10,
   "metadata": {},
   "outputs": [
    {
     "name": "stdout",
     "output_type": "stream",
     "text": [
      "H0 is rejected.\n",
      "t-statistic: -3.13195297595825; p-value: 0.00206097581047554\n"
     ]
    }
   ],
   "source": [
    "#H0: AVG(cleFG) = AVG(gswFG)\n",
    "#HA: AVG(cleFG) != AVG(gswFG)\n",
    "\n",
    "t2,p2 = st.ttest_ind(cleFG, gswFG)\n",
    "\n",
    "# evaluate\n",
    "\n",
    "hypothesis_test(t2,p2,alpha)"
   ]
  },
  {
   "cell_type": "code",
   "execution_count": 11,
   "metadata": {},
   "outputs": [],
   "source": [
    "# reject H0 - low probability that these results would be seen if cleveland and golden state were part of the same distribution"
   ]
  },
  {
   "cell_type": "markdown",
   "metadata": {},
   "source": [
    "**We reject the null hypothesis that the offensive productions stats of the Cleveland Cavaliers and Golden State Warriors (the teams that met in the finals that year) were from the same distribution in the 2015/2016 season**"
   ]
  },
  {
   "cell_type": "code",
   "execution_count": 12,
   "metadata": {},
   "outputs": [
    {
     "name": "stdout",
     "output_type": "stream",
     "text": [
      "104.32926829268293\n",
      "114.89024390243902\n",
      "0.46195121951219514\n",
      "0.48847560975609755\n"
     ]
    }
   ],
   "source": [
    "print(np.mean(clePTS))\n",
    "print(np.mean(gswPTS))\n",
    "\n",
    "print(np.mean(cleFG))\n",
    "print(np.mean(gswFG))"
   ]
  },
  {
   "cell_type": "markdown",
   "metadata": {},
   "source": [
    "-----------------\n",
    "### Task 3\n",
    "Test the hypothesis that the number of points (PTS) scored by Cleveland Cavaliers changed significantly after the head coach changed in the 2015/2016 season.\n",
    "\n",
    "- **Coach Blatt was fired on 24th of Jan, 2016**. \n",
    "\n",
    "Use the data from seasons 2014/2015 and 2015/2016 - those are years when Cleveland was coached by Blatt. \n",
    "\n",
    "**We have two possible solutions to try here:**\n",
    "- Take the same amount of games from before and after and try t-test.\n",
    "- Take all the games from before and after and look for the right test to compare two samples with different sizes. (You will need to go through the scipy documentation or google to figure out what kind of test is required.)"
   ]
  },
  {
   "cell_type": "code",
   "execution_count": 13,
   "metadata": {},
   "outputs": [],
   "source": [
    "# Pts from games where Blatt is coach in 2015\n",
    "\n",
    "df_b15 = df15[(df15['TEAM_NAME'] == 'Cleveland Cavaliers') & (df15['GAME_DATE'] < '2016-01-24')]['PTS']"
   ]
  },
  {
   "cell_type": "code",
   "execution_count": 14,
   "metadata": {},
   "outputs": [],
   "source": [
    "# Pts from games where Blatt is coach in 2014 \n",
    "\n",
    "df_b14 = df14[df14['TEAM_NAME'] == 'Cleveland Cavaliers']['PTS']"
   ]
  },
  {
   "cell_type": "code",
   "execution_count": 15,
   "metadata": {},
   "outputs": [
    {
     "data": {
      "text/plain": [
       "102.39516129032258"
      ]
     },
     "execution_count": 15,
     "metadata": {},
     "output_type": "execute_result"
    }
   ],
   "source": [
    "# Concatenate both dfs with games under coach Blatt, pass in a list with objs, specify axis\n",
    "# axis=0 means concat on rows, axis=1 means concat on columns\n",
    "\n",
    "df_Blatt = pd.concat([df_b14,df_b15], axis=0)\n",
    "np.mean(df_Blatt)"
   ]
  },
  {
   "cell_type": "code",
   "execution_count": 16,
   "metadata": {},
   "outputs": [
    {
     "data": {
      "text/plain": [
       "107.875"
      ]
     },
     "execution_count": 16,
     "metadata": {},
     "output_type": "execute_result"
    }
   ],
   "source": [
    "# Pts from games where Blatt is not coach\n",
    "\n",
    "df_NoBlatt = df[(df['TEAM_NAME'] == 'Cleveland Cavaliers') & (df['GAME_DATE'] >='2016-01-24')]['PTS']\n",
    "np.mean(df_NoBlatt)"
   ]
  },
  {
   "cell_type": "code",
   "execution_count": 20,
   "metadata": {},
   "outputs": [
    {
     "name": "stdout",
     "output_type": "stream",
     "text": [
      "H0 is rejected.\n",
      "t-statistic: -3.020359501985649; p-value: 0.0032905001945984953\n"
     ]
    }
   ],
   "source": [
    "#H0: AVG(PTS_Blatt) = AVG(PTS_NoBlatt)\n",
    "#HA: AVG(PTS_Blatt) != AVG(PTS_NoBlatt)\n",
    "\n",
    "# assign alpha\n",
    "\n",
    "alpha = 0.05\n",
    "\n",
    "# Since samples have different size, we need to perform a Welch's t-test (https://www.statology.org/t-test-unequal-sample-size/)\n",
    "# We can use the same ttest_ind method, however we need to specify parameter equal_var=False\n",
    "# This is because larger samples will have less variance than smaller samples. Since one sample is larger than the other, we know that they will not have equal variance.\n",
    "\n",
    "t3,p3 = st.ttest_ind(df_Blatt, df_NoBlatt, equal_var=False)\n",
    "\n",
    "# evaluate\n",
    "\n",
    "hypothesis_test(t3,p3,alpha)"
   ]
  },
  {
   "cell_type": "markdown",
   "metadata": {},
   "source": [
    "p-value of 0.0033 tells us that there is about a 0.3% chance that we would get the difference of means observed before and after Blatt was fired if there was no significant difference between the points score before and after Blatt was fired.\n",
    "**We reject the null hypothesis that the number of points (PTS) scored by Cleveland Cavaliers did not change significantly after the head coach changed in the 2015/2016 season**"
   ]
  },
  {
   "cell_type": "markdown",
   "metadata": {},
   "source": [
    "----------------\n",
    "\n",
    "\n",
    "### Task 4\n",
    "Download [**the similar dataset**](https://drive.google.com/file/d/0Bz9_0VdXvv9bRHhuRTI1aXBQcTA/view?usp=sharing&resourcekey=0-jGIaWyk0bXyECNSzB3x38w) with scores from playoff games in 2016."
   ]
  },
  {
   "cell_type": "code",
   "execution_count": 25,
   "metadata": {},
   "outputs": [
    {
     "data": {
      "text/html": [
       "<div>\n",
       "<style scoped>\n",
       "    .dataframe tbody tr th:only-of-type {\n",
       "        vertical-align: middle;\n",
       "    }\n",
       "\n",
       "    .dataframe tbody tr th {\n",
       "        vertical-align: top;\n",
       "    }\n",
       "\n",
       "    .dataframe thead th {\n",
       "        text-align: right;\n",
       "    }\n",
       "</style>\n",
       "<table border=\"1\" class=\"dataframe\">\n",
       "  <thead>\n",
       "    <tr style=\"text-align: right;\">\n",
       "      <th></th>\n",
       "      <th>SEASON_ID</th>\n",
       "      <th>TEAM_ID</th>\n",
       "      <th>TEAM_ABBREVIATION</th>\n",
       "      <th>TEAM_NAME</th>\n",
       "      <th>GAME_ID</th>\n",
       "      <th>GAME_DATE</th>\n",
       "      <th>MATCHUP</th>\n",
       "      <th>WL</th>\n",
       "      <th>MIN</th>\n",
       "      <th>PTS</th>\n",
       "      <th>...</th>\n",
       "      <th>FT_PCT</th>\n",
       "      <th>OREB</th>\n",
       "      <th>DREB</th>\n",
       "      <th>REB</th>\n",
       "      <th>AST</th>\n",
       "      <th>STL</th>\n",
       "      <th>BLK</th>\n",
       "      <th>TOV</th>\n",
       "      <th>PF</th>\n",
       "      <th>PLUS_MINUS</th>\n",
       "    </tr>\n",
       "  </thead>\n",
       "  <tbody>\n",
       "    <tr>\n",
       "      <th>0</th>\n",
       "      <td>42015</td>\n",
       "      <td>1610612739</td>\n",
       "      <td>CLE</td>\n",
       "      <td>Cleveland Cavaliers</td>\n",
       "      <td>41500407</td>\n",
       "      <td>2016-06-19</td>\n",
       "      <td>CLE @ GSW</td>\n",
       "      <td>W</td>\n",
       "      <td>241</td>\n",
       "      <td>93</td>\n",
       "      <td>...</td>\n",
       "      <td>0.840</td>\n",
       "      <td>9</td>\n",
       "      <td>39</td>\n",
       "      <td>48</td>\n",
       "      <td>17</td>\n",
       "      <td>7</td>\n",
       "      <td>6</td>\n",
       "      <td>11</td>\n",
       "      <td>15</td>\n",
       "      <td>4.0</td>\n",
       "    </tr>\n",
       "    <tr>\n",
       "      <th>1</th>\n",
       "      <td>42015</td>\n",
       "      <td>1610612744</td>\n",
       "      <td>GSW</td>\n",
       "      <td>Golden State Warriors</td>\n",
       "      <td>41500407</td>\n",
       "      <td>2016-06-19</td>\n",
       "      <td>GSW vs. CLE</td>\n",
       "      <td>L</td>\n",
       "      <td>239</td>\n",
       "      <td>89</td>\n",
       "      <td>...</td>\n",
       "      <td>0.769</td>\n",
       "      <td>7</td>\n",
       "      <td>32</td>\n",
       "      <td>39</td>\n",
       "      <td>22</td>\n",
       "      <td>7</td>\n",
       "      <td>5</td>\n",
       "      <td>10</td>\n",
       "      <td>23</td>\n",
       "      <td>-4.0</td>\n",
       "    </tr>\n",
       "    <tr>\n",
       "      <th>2</th>\n",
       "      <td>42015</td>\n",
       "      <td>1610612744</td>\n",
       "      <td>GSW</td>\n",
       "      <td>Golden State Warriors</td>\n",
       "      <td>41500406</td>\n",
       "      <td>2016-06-16</td>\n",
       "      <td>GSW @ CLE</td>\n",
       "      <td>L</td>\n",
       "      <td>238</td>\n",
       "      <td>101</td>\n",
       "      <td>...</td>\n",
       "      <td>0.690</td>\n",
       "      <td>9</td>\n",
       "      <td>26</td>\n",
       "      <td>35</td>\n",
       "      <td>19</td>\n",
       "      <td>5</td>\n",
       "      <td>3</td>\n",
       "      <td>14</td>\n",
       "      <td>25</td>\n",
       "      <td>-14.0</td>\n",
       "    </tr>\n",
       "    <tr>\n",
       "      <th>3</th>\n",
       "      <td>42015</td>\n",
       "      <td>1610612739</td>\n",
       "      <td>CLE</td>\n",
       "      <td>Cleveland Cavaliers</td>\n",
       "      <td>41500406</td>\n",
       "      <td>2016-06-16</td>\n",
       "      <td>CLE vs. GSW</td>\n",
       "      <td>W</td>\n",
       "      <td>240</td>\n",
       "      <td>115</td>\n",
       "      <td>...</td>\n",
       "      <td>0.781</td>\n",
       "      <td>8</td>\n",
       "      <td>37</td>\n",
       "      <td>45</td>\n",
       "      <td>24</td>\n",
       "      <td>12</td>\n",
       "      <td>7</td>\n",
       "      <td>10</td>\n",
       "      <td>25</td>\n",
       "      <td>14.0</td>\n",
       "    </tr>\n",
       "    <tr>\n",
       "      <th>4</th>\n",
       "      <td>42015</td>\n",
       "      <td>1610612739</td>\n",
       "      <td>CLE</td>\n",
       "      <td>Cleveland Cavaliers</td>\n",
       "      <td>41500405</td>\n",
       "      <td>2016-06-13</td>\n",
       "      <td>CLE @ GSW</td>\n",
       "      <td>W</td>\n",
       "      <td>241</td>\n",
       "      <td>112</td>\n",
       "      <td>...</td>\n",
       "      <td>0.609</td>\n",
       "      <td>8</td>\n",
       "      <td>33</td>\n",
       "      <td>41</td>\n",
       "      <td>15</td>\n",
       "      <td>11</td>\n",
       "      <td>9</td>\n",
       "      <td>16</td>\n",
       "      <td>22</td>\n",
       "      <td>15.0</td>\n",
       "    </tr>\n",
       "  </tbody>\n",
       "</table>\n",
       "<p>5 rows × 28 columns</p>\n",
       "</div>"
      ],
      "text/plain": [
       "   SEASON_ID     TEAM_ID TEAM_ABBREVIATION              TEAM_NAME   GAME_ID  \\\n",
       "0      42015  1610612739               CLE    Cleveland Cavaliers  41500407   \n",
       "1      42015  1610612744               GSW  Golden State Warriors  41500407   \n",
       "2      42015  1610612744               GSW  Golden State Warriors  41500406   \n",
       "3      42015  1610612739               CLE    Cleveland Cavaliers  41500406   \n",
       "4      42015  1610612739               CLE    Cleveland Cavaliers  41500405   \n",
       "\n",
       "    GAME_DATE      MATCHUP WL  MIN  PTS  ...  FT_PCT  OREB  DREB  REB  AST  \\\n",
       "0  2016-06-19    CLE @ GSW  W  241   93  ...   0.840     9    39   48   17   \n",
       "1  2016-06-19  GSW vs. CLE  L  239   89  ...   0.769     7    32   39   22   \n",
       "2  2016-06-16    GSW @ CLE  L  238  101  ...   0.690     9    26   35   19   \n",
       "3  2016-06-16  CLE vs. GSW  W  240  115  ...   0.781     8    37   45   24   \n",
       "4  2016-06-13    CLE @ GSW  W  241  112  ...   0.609     8    33   41   15   \n",
       "\n",
       "   STL  BLK  TOV  PF  PLUS_MINUS  \n",
       "0    7    6   11  15         4.0  \n",
       "1    7    5   10  23        -4.0  \n",
       "2    5    3   14  25       -14.0  \n",
       "3   12    7   10  25        14.0  \n",
       "4   11    9   16  22        15.0  \n",
       "\n",
       "[5 rows x 28 columns]"
      ]
     },
     "execution_count": 25,
     "metadata": {},
     "output_type": "execute_result"
    }
   ],
   "source": [
    "playoff_df = pd.read_csv(\"nba_playoff_games_2016.csv\", sep = ';')\n",
    "playoff_df.head()"
   ]
  },
  {
   "cell_type": "markdown",
   "metadata": {},
   "source": [
    "------------\n",
    "### Task 5\n",
    "Test the hypothesis that **number of blocks (BLK)** are from the same distribution in both the NBA playoffs and in the NBA regular season for 2015/2016 seaon for the **Toronto Raptors**. \n",
    "\n",
    "- We will be working with two samples with different sizes again."
   ]
  },
  {
   "cell_type": "code",
   "execution_count": 26,
   "metadata": {},
   "outputs": [],
   "source": [
    "# H0: BLK_reg_season = BLK_playoff_season\n",
    "# HA: BLK_reg_season != BLK_playoff_season"
   ]
  },
  {
   "cell_type": "code",
   "execution_count": 27,
   "metadata": {},
   "outputs": [
    {
     "data": {
      "text/plain": [
       "9       10\n",
       "28       5\n",
       "71       6\n",
       "96       5\n",
       "110      4\n",
       "        ..\n",
       "2323     3\n",
       "2346     6\n",
       "2370     3\n",
       "2414     3\n",
       "2448     2\n",
       "Name: BLK, Length: 82, dtype: int64"
      ]
     },
     "execution_count": 27,
     "metadata": {},
     "output_type": "execute_result"
    }
   ],
   "source": [
    "# Get the number of BLKs for the 2015/2016 regular season for Toronto Raptors\n",
    "\n",
    "df_reg_season = df15[df15['TEAM_NAME'] == 'Toronto Raptors']['BLK']\n",
    "df_reg_season"
   ]
  },
  {
   "cell_type": "code",
   "execution_count": 28,
   "metadata": {},
   "outputs": [
    {
     "data": {
      "text/plain": [
       "19     2\n",
       "22     3\n",
       "26     3\n",
       "31     4\n",
       "32     4\n",
       "36     1\n",
       "40     4\n",
       "43     4\n",
       "46     7\n",
       "55     2\n",
       "61     0\n",
       "69     1\n",
       "72     6\n",
       "84     7\n",
       "91     5\n",
       "102    3\n",
       "123    3\n",
       "135    4\n",
       "152    5\n",
       "166    5\n",
       "Name: BLK, dtype: int64"
      ]
     },
     "execution_count": 28,
     "metadata": {},
     "output_type": "execute_result"
    }
   ],
   "source": [
    "# Get the number of BLKs for the playoff season for Toronto Raptors\n",
    "\n",
    "df_playoff_season = playoff_df[playoff_df['TEAM_NAME'] == 'Toronto Raptors']['BLK']\n",
    "df_playoff_season"
   ]
  },
  {
   "cell_type": "code",
   "execution_count": 29,
   "metadata": {},
   "outputs": [
    {
     "name": "stdout",
     "output_type": "stream",
     "text": [
      "H0 is rejected.\n",
      "t-statistic: 3.5004381368704727; p-value: 0.0011403514552816166\n"
     ]
    }
   ],
   "source": [
    "# set alpha\n",
    "\n",
    "alpha = 0.05\n",
    "\n",
    "# Since samples have different size, we need to perform a Welch's t-test\n",
    "\n",
    "t4,p4 = st.ttest_ind(df_reg_season, df_playoff_season, equal_var=False)\n",
    "\n",
    "# evaluate\n",
    "\n",
    "hypothesis_test(t4,p4,alpha)"
   ]
  },
  {
   "cell_type": "markdown",
   "metadata": {},
   "source": [
    "**We reject the null hypothesis that number of blocks (BLK) are from the same distribution in both the NBA playoffs and in the NBA regular season for 2015/2016 seaon for the Toronto Raptors**"
   ]
  },
  {
   "cell_type": "markdown",
   "metadata": {},
   "source": [
    "\n",
    "-----------------\n",
    "### Task 6\n",
    "Test the hypothesis that the number of points (PTS) scored by Cleveland Cavaliers is equally distributed for all 3 seasons. \n",
    "\n",
    "- In this case, we need a hypothesis test that compares more than 2 distributions at the same. (You will need to go through the scipy documentation or google to figure out what kind of test is required.)"
   ]
  },
  {
   "cell_type": "code",
   "execution_count": 30,
   "metadata": {},
   "outputs": [],
   "source": [
    "# H0: ClePTS13 = ClePTS14 = ClePTS15\n",
    "# HA: ClePTS13 != ClePTS14 != ClePTS15"
   ]
  },
  {
   "cell_type": "code",
   "execution_count": 31,
   "metadata": {},
   "outputs": [],
   "source": [
    "# Find Cleveland Cavaliers PTS from all three seasons:\n",
    "\n",
    "ClePTS13 = df13[df13['TEAM_NAME'] == 'Cleveland Cavaliers']['PTS']\n",
    "ClePTS14 = df14[df14['TEAM_NAME'] == 'Cleveland Cavaliers']['PTS']\n",
    "ClePTS15 = df15[df15['TEAM_NAME'] == 'Cleveland Cavaliers']['PTS']"
   ]
  },
  {
   "cell_type": "code",
   "execution_count": 32,
   "metadata": {},
   "outputs": [
    {
     "name": "stdout",
     "output_type": "stream",
     "text": [
      "H0 is rejected.\n",
      "t-statistic: 5.9200250318080885; p-value: 0.003087727119983984\n"
     ]
    }
   ],
   "source": [
    "# set alpha\n",
    "\n",
    "alpha = 0.05\n",
    "\n",
    "# The one-way ANOVA tests the null hypothesis that two or more groups have the same population mean. The test is applied to samples from two or more groups, possibly with differing sizes.\n",
    "\n",
    "F, p = st.f_oneway(ClePTS13, ClePTS14, ClePTS15)\n",
    "\n",
    "# evaluate\n",
    "\n",
    "hypothesis_test(F,p,alpha)"
   ]
  },
  {
   "cell_type": "markdown",
   "metadata": {},
   "source": [
    "**We rejct the null hypothesis that the number of points (PTS) scored by Cleveland Cavaliers is equally distributed for all 3 season.**"
   ]
  },
  {
   "cell_type": "markdown",
   "metadata": {},
   "source": [
    "#### Follow Up\n",
    "**Between which seasons can we see the significant difference?**\n",
    "\n",
    "+ Unfortunatelly, this is not the output of an ANOVA test and further tests are needed to be run.\n",
    "+ Note: Lebron James came back to the Cleveland Caveliers prior to season 2014/2015. We can use this fact to interpret our results correctly."
   ]
  },
  {
   "cell_type": "code",
   "execution_count": 33,
   "metadata": {},
   "outputs": [
    {
     "name": "stdout",
     "output_type": "stream",
     "text": [
      "98.21951219512195\n",
      "103.13414634146342\n",
      "104.32926829268293\n"
     ]
    }
   ],
   "source": [
    "print(np.mean(ClePTS13))\n",
    "print(np.mean(ClePTS14))\n",
    "print(np.mean(ClePTS15))"
   ]
  },
  {
   "cell_type": "code",
   "execution_count": 34,
   "metadata": {},
   "outputs": [
    {
     "name": "stdout",
     "output_type": "stream",
     "text": [
      "H0 is rejected.\n",
      "t-statistic: -2.508958204796911; p-value: 0.013092273648525245\n",
      "H0 is rejected.\n",
      "t-statistic: -2.508958204796911; p-value: 0.013091680534336523\n"
     ]
    }
   ],
   "source": [
    "# do t-test between samples from each season\n",
    "# H0: ClePTS13 = ClePTS14\n",
    "# HA: ClePTS13 != ClePTS14\n",
    "\n",
    "## 2013 and 2014\n",
    "\n",
    "# set alpha\n",
    "\n",
    "alpha = 0.05\n",
    "\n",
    "# Since samples have different size, we need to perform a Welch's t-test\n",
    "\n",
    "t5,p5 = st.ttest_ind(ClePTS13, ClePTS14, equal_var=False)\n",
    "\n",
    "# evaluate\n",
    "hypothesis_test(t5,p5,alpha)\n",
    "hypothesis_test(t5a,p5a,alpha)"
   ]
  },
  {
   "cell_type": "code",
   "execution_count": 36,
   "metadata": {},
   "outputs": [
    {
     "name": "stdout",
     "output_type": "stream",
     "text": [
      "H0 is not rejected.\n",
      "t-statistic: -0.6442093460555935; p-value: 0.5203691269861739\n",
      "H0 is not rejected.\n",
      "t-statistic: -0.6442093460555935; p-value: 0.5203507617734474\n"
     ]
    }
   ],
   "source": [
    "## 2014 and 2015\n",
    "\n",
    "# set alpha\n",
    "\n",
    "alpha = 0.05\n",
    "\n",
    "# Since samples have different size, we need to perform a Welch's t-test\n",
    "\n",
    "t6,p6 = st.ttest_ind(ClePTS14, ClePTS15, equal_var=False)\n",
    "\n",
    "# evaluate\n",
    "hypothesis_test(t6,p6,alpha)\n",
    "hypothesis_test(t6a,p6a,alpha)"
   ]
  },
  {
   "cell_type": "markdown",
   "metadata": {},
   "source": [
    "**We see the most significant difference between the 2013/2014 season and the 2014/2015 season.**"
   ]
  },
  {
   "cell_type": "code",
   "execution_count": null,
   "metadata": {},
   "outputs": [],
   "source": []
  }
 ],
 "metadata": {
  "kernelspec": {
   "display_name": "Python 3 (ipykernel)",
   "language": "python",
   "name": "python3"
  },
  "language_info": {
   "codemirror_mode": {
    "name": "ipython",
    "version": 3
   },
   "file_extension": ".py",
   "mimetype": "text/x-python",
   "name": "python",
   "nbconvert_exporter": "python",
   "pygments_lexer": "ipython3",
   "version": "3.9.13"
  }
 },
 "nbformat": 4,
 "nbformat_minor": 4
}
