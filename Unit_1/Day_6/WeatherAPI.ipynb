{
 "cells": [
  {
   "cell_type": "code",
   "execution_count": 2,
   "id": "6e8f3e3f-aaea-495a-be1b-f6675921269b",
   "metadata": {},
   "outputs": [],
   "source": [
    "import requests\n",
    "import os\n",
    "import json"
   ]
  },
  {
   "cell_type": "code",
   "execution_count": 3,
   "id": "696ad4d6-d6f1-404f-9746-d4acb79ce69d",
   "metadata": {},
   "outputs": [],
   "source": [
    "key = os.environ[\"WWO_API_KEY\"]"
   ]
  },
  {
   "cell_type": "code",
   "execution_count": 6,
   "id": "f77cf239-b2cd-4910-a564-30642692a765",
   "metadata": {},
   "outputs": [],
   "source": [
    "url = 'https://api.worldweatheronline.com/premium/v1/past-weather.ashx'\n",
    "location = 'Vancouver+Island'\n",
    "date = '2020-07-01'\n",
    "frmt = 'json'\n",
    "\n",
    "url_append = f'?q={location}&date={date}&format={frmt}&key={key}'"
   ]
  },
  {
   "cell_type": "code",
   "execution_count": 7,
   "id": "032a2e57-5487-482d-8891-e15ca46ea3f3",
   "metadata": {},
   "outputs": [],
   "source": [
    "response = requests.get(url+url_append)"
   ]
  },
  {
   "cell_type": "code",
   "execution_count": 10,
   "id": "ff864890-48d1-4a65-975d-d469e6c1b351",
   "metadata": {},
   "outputs": [
    {
     "data": {
      "text/plain": [
       "200"
      ]
     },
     "execution_count": 10,
     "metadata": {},
     "output_type": "execute_result"
    }
   ],
   "source": [
    "response.status_code"
   ]
  },
  {
   "cell_type": "code",
   "execution_count": 13,
   "id": "f955e77c-99ea-4470-8558-17efd8ace78b",
   "metadata": {},
   "outputs": [],
   "source": [
    "from IPython.display import JSON"
   ]
  },
  {
   "cell_type": "code",
   "execution_count": 18,
   "id": "edb58612-5bf7-4fe5-914f-03f0d9315868",
   "metadata": {},
   "outputs": [],
   "source": [
    "r = response.json()"
   ]
  },
  {
   "cell_type": "code",
   "execution_count": 19,
   "id": "b2df00ee-92d1-471f-a3e8-7a08fe001c81",
   "metadata": {
    "tags": []
   },
   "outputs": [
    {
     "data": {
      "application/json": {
       "data": {
        "request": [
         {
          "query": "Vancouver, Canada",
          "type": "City"
         }
        ],
        "weather": [
         {
          "astronomy": [
           {
            "moon_illumination": "71",
            "moon_phase": "First Quarter",
            "moonrise": "05:50 PM",
            "moonset": "02:37 AM",
            "sunrise": "05:12 AM",
            "sunset": "09:21 PM"
           }
          ],
          "avgtempC": "14",
          "avgtempF": "56",
          "date": "2020-07-01",
          "hourly": [
           {
            "DewPointC": "11",
            "DewPointF": "52",
            "FeelsLikeC": "8",
            "FeelsLikeF": "47",
            "HeatIndexC": "10",
            "HeatIndexF": "50",
            "WindChillC": "8",
            "WindChillF": "47",
            "WindGustKmph": "16",
            "WindGustMiles": "10",
            "cloudcover": "83",
            "humidity": "84",
            "precipInches": "0.0",
            "precipMM": "0.0",
            "pressure": "1014",
            "pressureInches": "30",
            "tempC": "9",
            "tempF": "47",
            "time": "0",
            "uvIndex": "1",
            "visibility": "10",
            "visibilityMiles": "6",
            "weatherCode": "122",
            "weatherDesc": [
             {
              "value": "Overcast"
             }
            ],
            "weatherIconUrl": [
             {
              "value": "http://cdn.worldweatheronline.com/images/wsymbols01_png_64/wsymbol_0004_black_low_cloud.png"
             }
            ],
            "winddir16Point": "ESE",
            "winddirDegree": "102",
            "windspeedKmph": "12",
            "windspeedMiles": "7"
           },
           {
            "DewPointC": "11",
            "DewPointF": "52",
            "FeelsLikeC": "13",
            "FeelsLikeF": "55",
            "HeatIndexC": "14",
            "HeatIndexF": "56",
            "WindChillC": "13",
            "WindChillF": "55",
            "WindGustKmph": "13",
            "WindGustMiles": "8",
            "cloudcover": "90",
            "humidity": "85",
            "precipInches": "0.0",
            "precipMM": "0.0",
            "pressure": "1013",
            "pressureInches": "30",
            "tempC": "14",
            "tempF": "56",
            "time": "300",
            "uvIndex": "1",
            "visibility": "10",
            "visibilityMiles": "6",
            "weatherCode": "119",
            "weatherDesc": [
             {
              "value": "Cloudy"
             }
            ],
            "weatherIconUrl": [
             {
              "value": "http://cdn.worldweatheronline.com/images/wsymbols01_png_64/wsymbol_0003_white_cloud.png"
             }
            ],
            "winddir16Point": "E",
            "winddirDegree": "91",
            "windspeedKmph": "10",
            "windspeedMiles": "6"
           },
           {
            "DewPointC": "11",
            "DewPointF": "52",
            "FeelsLikeC": "13",
            "FeelsLikeF": "55",
            "HeatIndexC": "13",
            "HeatIndexF": "56",
            "WindChillC": "13",
            "WindChillF": "55",
            "WindGustKmph": "10",
            "WindGustMiles": "6",
            "cloudcover": "79",
            "humidity": "85",
            "precipInches": "0.0",
            "precipMM": "0.0",
            "pressure": "1012",
            "pressureInches": "30",
            "tempC": "13",
            "tempF": "56",
            "time": "600",
            "uvIndex": "3",
            "visibility": "10",
            "visibilityMiles": "6",
            "weatherCode": "122",
            "weatherDesc": [
             {
              "value": "Overcast"
             }
            ],
            "weatherIconUrl": [
             {
              "value": "http://cdn.worldweatheronline.com/images/wsymbols01_png_64/wsymbol_0004_black_low_cloud.png"
             }
            ],
            "winddir16Point": "E",
            "winddirDegree": "94",
            "windspeedKmph": "8",
            "windspeedMiles": "5"
           },
           {
            "DewPointC": "11",
            "DewPointF": "52",
            "FeelsLikeC": "14",
            "FeelsLikeF": "57",
            "HeatIndexC": "14",
            "HeatIndexF": "57",
            "WindChillC": "14",
            "WindChillF": "57",
            "WindGustKmph": "8",
            "WindGustMiles": "5",
            "cloudcover": "100",
            "humidity": "84",
            "precipInches": "0.0",
            "precipMM": "0.0",
            "pressure": "1011",
            "pressureInches": "30",
            "tempC": "14",
            "tempF": "57",
            "time": "900",
            "uvIndex": "3",
            "visibility": "10",
            "visibilityMiles": "6",
            "weatherCode": "122",
            "weatherDesc": [
             {
              "value": "Overcast"
             }
            ],
            "weatherIconUrl": [
             {
              "value": "http://cdn.worldweatheronline.com/images/wsymbols01_png_64/wsymbol_0004_black_low_cloud.png"
             }
            ],
            "winddir16Point": "SE",
            "winddirDegree": "135",
            "windspeedKmph": "6",
            "windspeedMiles": "4"
           },
           {
            "DewPointC": "11",
            "DewPointF": "52",
            "FeelsLikeC": "14",
            "FeelsLikeF": "56",
            "HeatIndexC": "14",
            "HeatIndexF": "57",
            "WindChillC": "14",
            "WindChillF": "56",
            "WindGustKmph": "11",
            "WindGustMiles": "7",
            "cloudcover": "100",
            "humidity": "84",
            "precipInches": "0.0",
            "precipMM": "0.1",
            "pressure": "1010",
            "pressureInches": "30",
            "tempC": "14",
            "tempF": "57",
            "time": "1200",
            "uvIndex": "3",
            "visibility": "7",
            "visibilityMiles": "4",
            "weatherCode": "266",
            "weatherDesc": [
             {
              "value": "Light drizzle"
             }
            ],
            "weatherIconUrl": [
             {
              "value": "http://cdn.worldweatheronline.com/images/wsymbols01_png_64/wsymbol_0017_cloudy_with_light_rain.png"
             }
            ],
            "winddir16Point": "SSW",
            "winddirDegree": "192",
            "windspeedKmph": "9",
            "windspeedMiles": "6"
           },
           {
            "DewPointC": "11",
            "DewPointF": "53",
            "FeelsLikeC": "13",
            "FeelsLikeF": "55",
            "HeatIndexC": "14",
            "HeatIndexF": "56",
            "WindChillC": "13",
            "WindChillF": "55",
            "WindGustKmph": "17",
            "WindGustMiles": "10",
            "cloudcover": "100",
            "humidity": "87",
            "precipInches": "0.0",
            "precipMM": "0.1",
            "pressure": "1009",
            "pressureInches": "30",
            "tempC": "14",
            "tempF": "56",
            "time": "1500",
            "uvIndex": "3",
            "visibility": "5",
            "visibilityMiles": "2",
            "weatherCode": "122",
            "weatherDesc": [
             {
              "value": "Overcast"
             }
            ],
            "weatherIconUrl": [
             {
              "value": "http://cdn.worldweatheronline.com/images/wsymbols01_png_64/wsymbol_0004_black_low_cloud.png"
             }
            ],
            "winddir16Point": "SSE",
            "winddirDegree": "153",
            "windspeedKmph": "13",
            "windspeedMiles": "8"
           },
           {
            "DewPointC": "11",
            "DewPointF": "52",
            "FeelsLikeC": "12",
            "FeelsLikeF": "54",
            "HeatIndexC": "13",
            "HeatIndexF": "56",
            "WindChillC": "12",
            "WindChillF": "54",
            "WindGustKmph": "19",
            "WindGustMiles": "12",
            "cloudcover": "100",
            "humidity": "88",
            "precipInches": "0.0",
            "precipMM": "0.2",
            "pressure": "1008",
            "pressureInches": "30",
            "tempC": "13",
            "tempF": "56",
            "time": "1800",
            "uvIndex": "1",
            "visibility": "7",
            "visibilityMiles": "4",
            "weatherCode": "266",
            "weatherDesc": [
             {
              "value": "Light drizzle"
             }
            ],
            "weatherIconUrl": [
             {
              "value": "http://cdn.worldweatheronline.com/images/wsymbols01_png_64/wsymbol_0033_cloudy_with_light_rain_night.png"
             }
            ],
            "winddir16Point": "ESE",
            "winddirDegree": "120",
            "windspeedKmph": "14",
            "windspeedMiles": "9"
           },
           {
            "DewPointC": "11",
            "DewPointF": "52",
            "FeelsLikeC": "12",
            "FeelsLikeF": "53",
            "HeatIndexC": "13",
            "HeatIndexF": "55",
            "WindChillC": "12",
            "WindChillF": "53",
            "WindGustKmph": "19",
            "WindGustMiles": "12",
            "cloudcover": "100",
            "humidity": "90",
            "precipInches": "0.0",
            "precipMM": "0.4",
            "pressure": "1008",
            "pressureInches": "30",
            "tempC": "13",
            "tempF": "55",
            "time": "2100",
            "uvIndex": "1",
            "visibility": "5",
            "visibilityMiles": "2",
            "weatherCode": "122",
            "weatherDesc": [
             {
              "value": "Overcast"
             }
            ],
            "weatherIconUrl": [
             {
              "value": "http://cdn.worldweatheronline.com/images/wsymbols01_png_64/wsymbol_0004_black_low_cloud.png"
             }
            ],
            "winddir16Point": "E",
            "winddirDegree": "96",
            "windspeedKmph": "13",
            "windspeedMiles": "8"
           }
          ],
          "maxtempC": "14",
          "maxtempF": "57",
          "mintempC": "9",
          "mintempF": "47",
          "sunHour": "12.1",
          "totalSnow_cm": "0.0",
          "uvIndex": "3"
         }
        ]
       }
      },
      "text/plain": [
       "<IPython.core.display.JSON object>"
      ]
     },
     "execution_count": 19,
     "metadata": {
      "application/json": {
       "expanded": false,
       "root": "root"
      }
     },
     "output_type": "execute_result"
    }
   ],
   "source": [
    "JSON(r)"
   ]
  },
  {
   "cell_type": "code",
   "execution_count": 22,
   "id": "0682ec8e-f2d7-4073-ac7a-2d496ec667ae",
   "metadata": {},
   "outputs": [
    {
     "data": {
      "text/plain": [
       "'Vancouver, Canada'"
      ]
     },
     "execution_count": 22,
     "metadata": {},
     "output_type": "execute_result"
    }
   ],
   "source": [
    "r['data']['request'][0]['query']"
   ]
  },
  {
   "cell_type": "code",
   "execution_count": 16,
   "id": "28a84185-c9a2-4937-8551-cc186b5b9211",
   "metadata": {},
   "outputs": [
    {
     "data": {
      "text/plain": [
       "{'data': {'request': [{'type': 'City', 'query': 'Vancouver, Canada'}],\n",
       "  'weather': [{'date': '2020-07-01',\n",
       "    'astronomy': [{'sunrise': '05:12 AM',\n",
       "      'sunset': '09:21 PM',\n",
       "      'moonrise': '05:50 PM',\n",
       "      'moonset': '02:37 AM',\n",
       "      'moon_phase': 'First Quarter',\n",
       "      'moon_illumination': '71'}],\n",
       "    'maxtempC': '14',\n",
       "    'maxtempF': '57',\n",
       "    'mintempC': '9',\n",
       "    'mintempF': '47',\n",
       "    'avgtempC': '14',\n",
       "    'avgtempF': '56',\n",
       "    'totalSnow_cm': '0.0',\n",
       "    'sunHour': '12.1',\n",
       "    'uvIndex': '3',\n",
       "    'hourly': [{'time': '0',\n",
       "      'tempC': '9',\n",
       "      'tempF': '47',\n",
       "      'windspeedMiles': '7',\n",
       "      'windspeedKmph': '12',\n",
       "      'winddirDegree': '102',\n",
       "      'winddir16Point': 'ESE',\n",
       "      'weatherCode': '122',\n",
       "      'weatherIconUrl': [{'value': 'http://cdn.worldweatheronline.com/images/wsymbols01_png_64/wsymbol_0004_black_low_cloud.png'}],\n",
       "      'weatherDesc': [{'value': 'Overcast'}],\n",
       "      'precipMM': '0.0',\n",
       "      'precipInches': '0.0',\n",
       "      'humidity': '84',\n",
       "      'visibility': '10',\n",
       "      'visibilityMiles': '6',\n",
       "      'pressure': '1014',\n",
       "      'pressureInches': '30',\n",
       "      'cloudcover': '83',\n",
       "      'HeatIndexC': '10',\n",
       "      'HeatIndexF': '50',\n",
       "      'DewPointC': '11',\n",
       "      'DewPointF': '52',\n",
       "      'WindChillC': '8',\n",
       "      'WindChillF': '47',\n",
       "      'WindGustMiles': '10',\n",
       "      'WindGustKmph': '16',\n",
       "      'FeelsLikeC': '8',\n",
       "      'FeelsLikeF': '47',\n",
       "      'uvIndex': '1'},\n",
       "     {'time': '300',\n",
       "      'tempC': '14',\n",
       "      'tempF': '56',\n",
       "      'windspeedMiles': '6',\n",
       "      'windspeedKmph': '10',\n",
       "      'winddirDegree': '91',\n",
       "      'winddir16Point': 'E',\n",
       "      'weatherCode': '119',\n",
       "      'weatherIconUrl': [{'value': 'http://cdn.worldweatheronline.com/images/wsymbols01_png_64/wsymbol_0003_white_cloud.png'}],\n",
       "      'weatherDesc': [{'value': 'Cloudy'}],\n",
       "      'precipMM': '0.0',\n",
       "      'precipInches': '0.0',\n",
       "      'humidity': '85',\n",
       "      'visibility': '10',\n",
       "      'visibilityMiles': '6',\n",
       "      'pressure': '1013',\n",
       "      'pressureInches': '30',\n",
       "      'cloudcover': '90',\n",
       "      'HeatIndexC': '14',\n",
       "      'HeatIndexF': '56',\n",
       "      'DewPointC': '11',\n",
       "      'DewPointF': '52',\n",
       "      'WindChillC': '13',\n",
       "      'WindChillF': '55',\n",
       "      'WindGustMiles': '8',\n",
       "      'WindGustKmph': '13',\n",
       "      'FeelsLikeC': '13',\n",
       "      'FeelsLikeF': '55',\n",
       "      'uvIndex': '1'},\n",
       "     {'time': '600',\n",
       "      'tempC': '13',\n",
       "      'tempF': '56',\n",
       "      'windspeedMiles': '5',\n",
       "      'windspeedKmph': '8',\n",
       "      'winddirDegree': '94',\n",
       "      'winddir16Point': 'E',\n",
       "      'weatherCode': '122',\n",
       "      'weatherIconUrl': [{'value': 'http://cdn.worldweatheronline.com/images/wsymbols01_png_64/wsymbol_0004_black_low_cloud.png'}],\n",
       "      'weatherDesc': [{'value': 'Overcast'}],\n",
       "      'precipMM': '0.0',\n",
       "      'precipInches': '0.0',\n",
       "      'humidity': '85',\n",
       "      'visibility': '10',\n",
       "      'visibilityMiles': '6',\n",
       "      'pressure': '1012',\n",
       "      'pressureInches': '30',\n",
       "      'cloudcover': '79',\n",
       "      'HeatIndexC': '13',\n",
       "      'HeatIndexF': '56',\n",
       "      'DewPointC': '11',\n",
       "      'DewPointF': '52',\n",
       "      'WindChillC': '13',\n",
       "      'WindChillF': '55',\n",
       "      'WindGustMiles': '6',\n",
       "      'WindGustKmph': '10',\n",
       "      'FeelsLikeC': '13',\n",
       "      'FeelsLikeF': '55',\n",
       "      'uvIndex': '3'},\n",
       "     {'time': '900',\n",
       "      'tempC': '14',\n",
       "      'tempF': '57',\n",
       "      'windspeedMiles': '4',\n",
       "      'windspeedKmph': '6',\n",
       "      'winddirDegree': '135',\n",
       "      'winddir16Point': 'SE',\n",
       "      'weatherCode': '122',\n",
       "      'weatherIconUrl': [{'value': 'http://cdn.worldweatheronline.com/images/wsymbols01_png_64/wsymbol_0004_black_low_cloud.png'}],\n",
       "      'weatherDesc': [{'value': 'Overcast'}],\n",
       "      'precipMM': '0.0',\n",
       "      'precipInches': '0.0',\n",
       "      'humidity': '84',\n",
       "      'visibility': '10',\n",
       "      'visibilityMiles': '6',\n",
       "      'pressure': '1011',\n",
       "      'pressureInches': '30',\n",
       "      'cloudcover': '100',\n",
       "      'HeatIndexC': '14',\n",
       "      'HeatIndexF': '57',\n",
       "      'DewPointC': '11',\n",
       "      'DewPointF': '52',\n",
       "      'WindChillC': '14',\n",
       "      'WindChillF': '57',\n",
       "      'WindGustMiles': '5',\n",
       "      'WindGustKmph': '8',\n",
       "      'FeelsLikeC': '14',\n",
       "      'FeelsLikeF': '57',\n",
       "      'uvIndex': '3'},\n",
       "     {'time': '1200',\n",
       "      'tempC': '14',\n",
       "      'tempF': '57',\n",
       "      'windspeedMiles': '6',\n",
       "      'windspeedKmph': '9',\n",
       "      'winddirDegree': '192',\n",
       "      'winddir16Point': 'SSW',\n",
       "      'weatherCode': '266',\n",
       "      'weatherIconUrl': [{'value': 'http://cdn.worldweatheronline.com/images/wsymbols01_png_64/wsymbol_0017_cloudy_with_light_rain.png'}],\n",
       "      'weatherDesc': [{'value': 'Light drizzle'}],\n",
       "      'precipMM': '0.1',\n",
       "      'precipInches': '0.0',\n",
       "      'humidity': '84',\n",
       "      'visibility': '7',\n",
       "      'visibilityMiles': '4',\n",
       "      'pressure': '1010',\n",
       "      'pressureInches': '30',\n",
       "      'cloudcover': '100',\n",
       "      'HeatIndexC': '14',\n",
       "      'HeatIndexF': '57',\n",
       "      'DewPointC': '11',\n",
       "      'DewPointF': '52',\n",
       "      'WindChillC': '14',\n",
       "      'WindChillF': '56',\n",
       "      'WindGustMiles': '7',\n",
       "      'WindGustKmph': '11',\n",
       "      'FeelsLikeC': '14',\n",
       "      'FeelsLikeF': '56',\n",
       "      'uvIndex': '3'},\n",
       "     {'time': '1500',\n",
       "      'tempC': '14',\n",
       "      'tempF': '56',\n",
       "      'windspeedMiles': '8',\n",
       "      'windspeedKmph': '13',\n",
       "      'winddirDegree': '153',\n",
       "      'winddir16Point': 'SSE',\n",
       "      'weatherCode': '122',\n",
       "      'weatherIconUrl': [{'value': 'http://cdn.worldweatheronline.com/images/wsymbols01_png_64/wsymbol_0004_black_low_cloud.png'}],\n",
       "      'weatherDesc': [{'value': 'Overcast'}],\n",
       "      'precipMM': '0.1',\n",
       "      'precipInches': '0.0',\n",
       "      'humidity': '87',\n",
       "      'visibility': '5',\n",
       "      'visibilityMiles': '2',\n",
       "      'pressure': '1009',\n",
       "      'pressureInches': '30',\n",
       "      'cloudcover': '100',\n",
       "      'HeatIndexC': '14',\n",
       "      'HeatIndexF': '56',\n",
       "      'DewPointC': '11',\n",
       "      'DewPointF': '53',\n",
       "      'WindChillC': '13',\n",
       "      'WindChillF': '55',\n",
       "      'WindGustMiles': '10',\n",
       "      'WindGustKmph': '17',\n",
       "      'FeelsLikeC': '13',\n",
       "      'FeelsLikeF': '55',\n",
       "      'uvIndex': '3'},\n",
       "     {'time': '1800',\n",
       "      'tempC': '13',\n",
       "      'tempF': '56',\n",
       "      'windspeedMiles': '9',\n",
       "      'windspeedKmph': '14',\n",
       "      'winddirDegree': '120',\n",
       "      'winddir16Point': 'ESE',\n",
       "      'weatherCode': '266',\n",
       "      'weatherIconUrl': [{'value': 'http://cdn.worldweatheronline.com/images/wsymbols01_png_64/wsymbol_0033_cloudy_with_light_rain_night.png'}],\n",
       "      'weatherDesc': [{'value': 'Light drizzle'}],\n",
       "      'precipMM': '0.2',\n",
       "      'precipInches': '0.0',\n",
       "      'humidity': '88',\n",
       "      'visibility': '7',\n",
       "      'visibilityMiles': '4',\n",
       "      'pressure': '1008',\n",
       "      'pressureInches': '30',\n",
       "      'cloudcover': '100',\n",
       "      'HeatIndexC': '13',\n",
       "      'HeatIndexF': '56',\n",
       "      'DewPointC': '11',\n",
       "      'DewPointF': '52',\n",
       "      'WindChillC': '12',\n",
       "      'WindChillF': '54',\n",
       "      'WindGustMiles': '12',\n",
       "      'WindGustKmph': '19',\n",
       "      'FeelsLikeC': '12',\n",
       "      'FeelsLikeF': '54',\n",
       "      'uvIndex': '1'},\n",
       "     {'time': '2100',\n",
       "      'tempC': '13',\n",
       "      'tempF': '55',\n",
       "      'windspeedMiles': '8',\n",
       "      'windspeedKmph': '13',\n",
       "      'winddirDegree': '96',\n",
       "      'winddir16Point': 'E',\n",
       "      'weatherCode': '122',\n",
       "      'weatherIconUrl': [{'value': 'http://cdn.worldweatheronline.com/images/wsymbols01_png_64/wsymbol_0004_black_low_cloud.png'}],\n",
       "      'weatherDesc': [{'value': 'Overcast'}],\n",
       "      'precipMM': '0.4',\n",
       "      'precipInches': '0.0',\n",
       "      'humidity': '90',\n",
       "      'visibility': '5',\n",
       "      'visibilityMiles': '2',\n",
       "      'pressure': '1008',\n",
       "      'pressureInches': '30',\n",
       "      'cloudcover': '100',\n",
       "      'HeatIndexC': '13',\n",
       "      'HeatIndexF': '55',\n",
       "      'DewPointC': '11',\n",
       "      'DewPointF': '52',\n",
       "      'WindChillC': '12',\n",
       "      'WindChillF': '53',\n",
       "      'WindGustMiles': '12',\n",
       "      'WindGustKmph': '19',\n",
       "      'FeelsLikeC': '12',\n",
       "      'FeelsLikeF': '53',\n",
       "      'uvIndex': '1'}]}]}}"
      ]
     },
     "execution_count": 16,
     "metadata": {},
     "output_type": "execute_result"
    }
   ],
   "source": [
    "response.json()"
   ]
  },
  {
   "cell_type": "code",
   "execution_count": null,
   "id": "e57b1ba7-d51d-4e8e-883d-1be66057e539",
   "metadata": {},
   "outputs": [],
   "source": []
  }
 ],
 "metadata": {
  "kernelspec": {
   "display_name": "Python 3 (ipykernel)",
   "language": "python",
   "name": "python3"
  },
  "language_info": {
   "codemirror_mode": {
    "name": "ipython",
    "version": 3
   },
   "file_extension": ".py",
   "mimetype": "text/x-python",
   "name": "python",
   "nbconvert_exporter": "python",
   "pygments_lexer": "ipython3",
   "version": "3.9.13"
  }
 },
 "nbformat": 4,
 "nbformat_minor": 5
}
