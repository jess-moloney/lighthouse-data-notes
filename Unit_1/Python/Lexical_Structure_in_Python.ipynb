{
 "cells": [
  {
   "cell_type": "markdown",
   "id": "82030fa5-adab-4e7b-89d6-96d610ac066a",
   "metadata": {},
   "source": [
    "# Python Statements\n",
    "\n",
    "End of statement typically delimited by the newline character"
   ]
  },
  {
   "cell_type": "code",
   "execution_count": 1,
   "id": "a6c6f54c-874a-414d-88f7-6d8b4454b193",
   "metadata": {},
   "outputs": [
    {
     "name": "stdout",
     "output_type": "stream",
     "text": [
      "Hello, World!\n"
     ]
    }
   ],
   "source": [
    "print('Hello, World!')"
   ]
  },
  {
   "cell_type": "markdown",
   "id": "deacec52-d6c8-4af8-9e20-60db264b3d0d",
   "metadata": {},
   "source": [
    "# Line Continuation\n",
    "## Implicit Line Continuation"
   ]
  },
  {
   "cell_type": "markdown",
   "id": "eff71e90-abbf-4901-a2f0-db392c7c95f0",
   "metadata": {},
   "source": [
    "Statements with opening parentheses, brackets or curly braces are presumed to be incomplete until there's a matching parenthesis, bracket or curly brace encountered.\n",
    "\n",
    "This means you can split these types of statements up over several lines."
   ]
  },
  {
   "cell_type": "code",
   "execution_count": 2,
   "id": "bf22c562-37ce-495c-9d17-419936551ab8",
   "metadata": {},
   "outputs": [],
   "source": [
    "a = [\n",
    "...     [1, 2, 3, 4, 5],\n",
    "...     [6, 7, 8, 9, 10],\n",
    "...     [11, 12, 13, 14, 15],\n",
    "...     [16, 17, 18, 19, 20],\n",
    "...     [21, 22, 23, 24, 25]\n",
    "... ]"
   ]
  },
  {
   "cell_type": "code",
   "execution_count": 3,
   "id": "6e1be63b-f2f2-426e-8d26-c6181895e375",
   "metadata": {},
   "outputs": [
    {
     "data": {
      "text/plain": [
       "[[1, 2, 3, 4, 5],\n",
       " [6, 7, 8, 9, 10],\n",
       " [11, 12, 13, 14, 15],\n",
       " [16, 17, 18, 19, 20],\n",
       " [21, 22, 23, 24, 25]]"
      ]
     },
     "execution_count": 3,
     "metadata": {},
     "output_type": "execute_result"
    }
   ],
   "source": [
    "a"
   ]
  },
  {
   "cell_type": "markdown",
   "id": "549b6566-d74f-46cf-88ba-d353863ccd72",
   "metadata": {},
   "source": [
    "# Explicit Line Continuation"
   ]
  },
  {
   "cell_type": "markdown",
   "id": "07bff728-b142-4e75-ae3f-d7da9888b946",
   "metadata": {},
   "source": [
    "Use a backslash character at the end of the line to tell python to ignore the newline character. Only recommended if implicit line continuation is not feasible."
   ]
  },
  {
   "cell_type": "code",
   "execution_count": 6,
   "id": "4e8813f9-6117-4a92-93c7-d8fc89c89a75",
   "metadata": {},
   "outputs": [
    {
     "data": {
      "text/plain": [
       "'Hello World'"
      ]
     },
     "execution_count": 6,
     "metadata": {},
     "output_type": "execute_result"
    }
   ],
   "source": [
    "s = \\\n",
    "\"Hello World\"\n",
    "s"
   ]
  },
  {
   "cell_type": "markdown",
   "id": "ae5bd1a8-fc44-4a7a-9ca4-9fecf64c04df",
   "metadata": {},
   "source": [
    "# Multiple Statements Per Line"
   ]
  },
  {
   "cell_type": "markdown",
   "id": "9322a2d2-7bc1-4de1-9eb0-6becd1976174",
   "metadata": {},
   "source": [
    "Possible if separated by semicolon. Not encouraged."
   ]
  },
  {
   "cell_type": "code",
   "execution_count": 7,
   "id": "1e874609-2fd1-4c70-b5c0-0b03037fb387",
   "metadata": {},
   "outputs": [],
   "source": [
    "x= 1; y = 2; z = 3"
   ]
  },
  {
   "cell_type": "code",
   "execution_count": 8,
   "id": "cfbd6004-e684-411a-9049-d809c80dc7b6",
   "metadata": {},
   "outputs": [
    {
     "name": "stdout",
     "output_type": "stream",
     "text": [
      "1\n",
      "2\n",
      "3\n"
     ]
    }
   ],
   "source": [
    "print(x); print(y); print(z)"
   ]
  },
  {
   "cell_type": "markdown",
   "id": "f9850911-5cce-466e-b41b-2445871a4c6b",
   "metadata": {},
   "source": [
    "# Comments"
   ]
  },
  {
   "cell_type": "markdown",
   "id": "466805a4-ae62-452c-ad1b-95a641892d9d",
   "metadata": {},
   "source": [
    "Indicated by has character. Way to provide explanations for code. (The 'why')"
   ]
  },
  {
   "cell_type": "code",
   "execution_count": 10,
   "id": "2be99892-6033-4a7f-8902-e48b5a617ae5",
   "metadata": {},
   "outputs": [],
   "source": [
    "a = ['foo','bar','baz'] # I am a comment"
   ]
  },
  {
   "cell_type": "code",
   "execution_count": 11,
   "id": "03915cdd-9abe-4501-ab99-bc55c6487f69",
   "metadata": {},
   "outputs": [
    {
     "data": {
      "text/plain": [
       "['foo', 'bar', 'baz']"
      ]
     },
     "execution_count": 11,
     "metadata": {},
     "output_type": "execute_result"
    }
   ],
   "source": [
    "a"
   ]
  },
  {
   "cell_type": "code",
   "execution_count": 12,
   "id": "fd1340d4-c985-4ccb-9abe-9f7befb2cb86",
   "metadata": {},
   "outputs": [],
   "source": [
    "# Create block comments\n",
    "# by putting a hash\n",
    "# on each new line"
   ]
  },
  {
   "cell_type": "code",
   "execution_count": 14,
   "id": "d2f22faf-a795-465a-a34b-f28cc1610d2e",
   "metadata": {},
   "outputs": [
    {
     "data": {
      "text/plain": [
       "'Or use a triple-quoted \\nstring literal\\nto write a multiline comment. But the hash way is recommended.\\n'"
      ]
     },
     "execution_count": 14,
     "metadata": {},
     "output_type": "execute_result"
    }
   ],
   "source": [
    "\"\"\"Or use a triple-quoted \n",
    "string literal\n",
    "to write a multiline comment. But the hash way is recommended.\n",
    "\"\"\""
   ]
  },
  {
   "cell_type": "markdown",
   "id": "39a51a9a-b1ee-4c16-bd5d-90361c65816b",
   "metadata": {},
   "source": [
    "# Whitespace"
   ]
  },
  {
   "cell_type": "markdown",
   "id": "b84bdb9b-a335-4240-b9bc-1ee523adce6b",
   "metadata": {},
   "source": [
    "Most common are space ' ', tab '\\t' and newline '\\n'. Use to improve readability. Required between identifiers and keywords."
   ]
  },
  {
   "cell_type": "markdown",
   "id": "7feb2a21-648e-4512-a36a-11d47a9f0376",
   "metadata": {},
   "source": [
    "# Whitespace as Indentation"
   ]
  },
  {
   "cell_type": "markdown",
   "id": "21068692-55eb-429c-b887-af602347b5b6",
   "metadata": {},
   "source": [
    "Used to determine grouping of statements"
   ]
  },
  {
   "cell_type": "code",
   "execution_count": null,
   "id": "24c2144a-a47e-47f3-8aa4-5e8be29dcc8a",
   "metadata": {},
   "outputs": [],
   "source": []
  }
 ],
 "metadata": {
  "kernelspec": {
   "display_name": "LHL_env",
   "language": "python",
   "name": "lhl_env"
  },
  "language_info": {
   "codemirror_mode": {
    "name": "ipython",
    "version": 3
   },
   "file_extension": ".py",
   "mimetype": "text/x-python",
   "name": "python",
   "nbconvert_exporter": "python",
   "pygments_lexer": "ipython3",
   "version": "3.9.13"
  }
 },
 "nbformat": 4,
 "nbformat_minor": 5
}
