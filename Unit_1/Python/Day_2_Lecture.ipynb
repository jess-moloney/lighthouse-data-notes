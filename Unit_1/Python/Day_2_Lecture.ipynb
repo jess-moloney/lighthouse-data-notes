{
 "cells": [
  {
   "cell_type": "markdown",
   "id": "654a97b2-04c5-4c19-b173-4af785db5967",
   "metadata": {},
   "source": [
    "# Arithmetics"
   ]
  },
  {
   "cell_type": "code",
   "execution_count": 15,
   "id": "32a050e4-baf7-4f99-83e1-be924be41800",
   "metadata": {},
   "outputs": [
    {
     "data": {
      "text/plain": [
       "8.9"
      ]
     },
     "execution_count": 15,
     "metadata": {},
     "output_type": "execute_result"
    }
   ],
   "source": [
    "#right of equation evaluated first\n",
    "\n",
    "a= -2\n",
    "b=12.9\n",
    "\n",
    "c = a + b\n",
    "c = c + a\n",
    "c\n"
   ]
  },
  {
   "cell_type": "code",
   "execution_count": 4,
   "id": "c6c5b2a9-5dbf-44e9-b843-0287d21b2b0e",
   "metadata": {},
   "outputs": [],
   "source": [
    "# floor division - always rounds down.\n",
    "\n",
    "c = b // a"
   ]
  },
  {
   "cell_type": "code",
   "execution_count": 5,
   "id": "0b7d1c72-cd28-4751-a6f0-b1a197c285d2",
   "metadata": {},
   "outputs": [
    {
     "data": {
      "text/plain": [
       "-7.0"
      ]
     },
     "execution_count": 5,
     "metadata": {},
     "output_type": "execute_result"
    }
   ],
   "source": [
    "c"
   ]
  },
  {
   "cell_type": "code",
   "execution_count": 8,
   "id": "2406107a-1fba-4706-83d0-541f86593f5d",
   "metadata": {},
   "outputs": [],
   "source": [
    "c = round(8.187,2) # round to second decimal point"
   ]
  },
  {
   "cell_type": "code",
   "execution_count": 9,
   "id": "4703eafa-ce9d-40ae-8511-3eb75164c183",
   "metadata": {},
   "outputs": [
    {
     "data": {
      "text/plain": [
       "8.19"
      ]
     },
     "execution_count": 9,
     "metadata": {},
     "output_type": "execute_result"
    }
   ],
   "source": [
    "c"
   ]
  },
  {
   "cell_type": "code",
   "execution_count": 11,
   "id": "8a516937-cb39-427a-8c02-8430ac026725",
   "metadata": {},
   "outputs": [],
   "source": [
    "# casting between integers and floats\n",
    "c = float(a)"
   ]
  },
  {
   "cell_type": "code",
   "execution_count": 12,
   "id": "03218d37-7018-4dd0-8b12-938386fc9542",
   "metadata": {},
   "outputs": [
    {
     "data": {
      "text/plain": [
       "-2.0"
      ]
     },
     "execution_count": 12,
     "metadata": {},
     "output_type": "execute_result"
    }
   ],
   "source": [
    "c"
   ]
  },
  {
   "cell_type": "code",
   "execution_count": 13,
   "id": "b34df965-14af-414d-8470-a62fa0c50793",
   "metadata": {},
   "outputs": [],
   "source": [
    "d = int(b) # rounds it down"
   ]
  },
  {
   "cell_type": "code",
   "execution_count": 14,
   "id": "4436a10d-5b21-4b97-b8ad-d358b0120e6f",
   "metadata": {},
   "outputs": [
    {
     "data": {
      "text/plain": [
       "12"
      ]
     },
     "execution_count": 14,
     "metadata": {},
     "output_type": "execute_result"
    }
   ],
   "source": [
    "d"
   ]
  },
  {
   "cell_type": "markdown",
   "id": "86854cb0-82e9-41bd-b17b-37522bd1257f",
   "metadata": {},
   "source": [
    "# Strings"
   ]
  },
  {
   "cell_type": "code",
   "execution_count": 16,
   "id": "c3fa9f9f-61c0-4ead-ac1e-e2a17964182a",
   "metadata": {},
   "outputs": [
    {
     "data": {
      "text/plain": [
       "'this\\nis a\\nmultiline'"
      ]
     },
     "execution_count": 16,
     "metadata": {},
     "output_type": "execute_result"
    }
   ],
   "source": [
    "c = '''this\n",
    "is a\n",
    "multiline'''\n",
    "c #allows for line breaks within a string"
   ]
  },
  {
   "cell_type": "markdown",
   "id": "51c8d410-ae5a-4c9c-af40-9ce89a8291d3",
   "metadata": {},
   "source": [
    "# Lists"
   ]
  },
  {
   "cell_type": "code",
   "execution_count": 17,
   "id": "6fb56313-ce45-4116-a645-9abc073d97b5",
   "metadata": {},
   "outputs": [
    {
     "data": {
      "text/plain": [
       "2"
      ]
     },
     "execution_count": 17,
     "metadata": {},
     "output_type": "execute_result"
    }
   ],
   "source": [
    "# .index() method returns the index of the item\n",
    "\n",
    "people = ['mal','zoe','wash']\n",
    "people.index('wash')"
   ]
  },
  {
   "cell_type": "code",
   "execution_count": 18,
   "id": "2000de8a-14b0-4cae-971f-bd1d2b809472",
   "metadata": {},
   "outputs": [
    {
     "data": {
      "text/plain": [
       "['Jessica', 'zoe', 'wash']"
      ]
     },
     "execution_count": 18,
     "metadata": {},
     "output_type": "execute_result"
    }
   ],
   "source": [
    "# change single values at a time in a list\n",
    "\n",
    "people[0] = 'Jessica'\n",
    "people"
   ]
  },
  {
   "cell_type": "code",
   "execution_count": 19,
   "id": "f52eb65e-f826-44f8-9a40-903a139db0ff",
   "metadata": {},
   "outputs": [
    {
     "data": {
      "text/plain": [
       "['Jessica', 'zoe']"
      ]
     },
     "execution_count": 19,
     "metadata": {},
     "output_type": "execute_result"
    }
   ],
   "source": [
    "# use del to delete list items\n",
    "\n",
    "del people[2]\n",
    "people"
   ]
  },
  {
   "cell_type": "code",
   "execution_count": 20,
   "id": "6fe1d669-48c6-4c04-a24b-abbd8aa8ce7d",
   "metadata": {},
   "outputs": [],
   "source": [
    "# append\n",
    "\n",
    "people.append('John')"
   ]
  },
  {
   "cell_type": "code",
   "execution_count": 21,
   "id": "38d2294f-5a98-4e97-83d8-f04a6791b4e6",
   "metadata": {},
   "outputs": [
    {
     "data": {
      "text/plain": [
       "['Jessica', 'zoe', 'John']"
      ]
     },
     "execution_count": 21,
     "metadata": {},
     "output_type": "execute_result"
    }
   ],
   "source": [
    "people"
   ]
  },
  {
   "cell_type": "code",
   "execution_count": 23,
   "id": "516b3904-7a63-4186-947f-5562fdc57bc0",
   "metadata": {},
   "outputs": [],
   "source": [
    "more_people = people + ['Simon', 'Brandon']"
   ]
  },
  {
   "cell_type": "code",
   "execution_count": 24,
   "id": "5d57508b-3b7d-4fbf-9309-0ca46eba5034",
   "metadata": {},
   "outputs": [
    {
     "data": {
      "text/plain": [
       "['Jessica', 'zoe', 'John', 'Simon', 'Brandon']"
      ]
     },
     "execution_count": 24,
     "metadata": {},
     "output_type": "execute_result"
    }
   ],
   "source": [
    "more_people"
   ]
  },
  {
   "cell_type": "code",
   "execution_count": 27,
   "id": "0c62ce00-2c14-418f-8c53-49c5f044744c",
   "metadata": {},
   "outputs": [
    {
     "data": {
      "text/plain": [
       "['strings',\n",
       " 'work',\n",
       " 'a',\n",
       " 'lot',\n",
       " 'like',\n",
       " 'lists',\n",
       " 'in',\n",
       " 'terms',\n",
       " 'of',\n",
       " 'iteration']"
      ]
     },
     "execution_count": 27,
     "metadata": {},
     "output_type": "execute_result"
    }
   ],
   "source": [
    "s = 'strings work a lot like lists in terms of iteration'\n",
    "\n",
    "# split a string into a list using string method .split()\n",
    "\n",
    "s.split()"
   ]
  },
  {
   "cell_type": "code",
   "execution_count": 29,
   "id": "07f054cb-ccad-4f6d-b7f8-1170b36497a2",
   "metadata": {},
   "outputs": [
    {
     "data": {
      "text/plain": [
       "['string', 'work a lot like list', 'in term', 'of iteration']"
      ]
     },
     "execution_count": 29,
     "metadata": {},
     "output_type": "execute_result"
    }
   ],
   "source": [
    "# default substring to split on is a space\n",
    "\n",
    "# can also split on other substrings\n",
    "\n",
    "s.split('s ')"
   ]
  },
  {
   "cell_type": "markdown",
   "id": "0bf72705-acd8-4746-b8be-ef2d9dc26c77",
   "metadata": {},
   "source": [
    "# Tuples"
   ]
  },
  {
   "cell_type": "code",
   "execution_count": 36,
   "id": "8b371083-1b5f-4e82-a5e6-93ff9b122e1e",
   "metadata": {},
   "outputs": [],
   "source": [
    "# helpful because can unpack items into a variables - have to have the same number of variables and items\n",
    "\n",
    "x = ('simon','python','canada')\n",
    "name, language, country = x"
   ]
  },
  {
   "cell_type": "code",
   "execution_count": 33,
   "id": "a44ce3ee-bed0-46ab-acf9-7984b78cc4af",
   "metadata": {},
   "outputs": [
    {
     "data": {
      "text/plain": [
       "'simon'"
      ]
     },
     "execution_count": 33,
     "metadata": {},
     "output_type": "execute_result"
    }
   ],
   "source": [
    "name"
   ]
  },
  {
   "cell_type": "code",
   "execution_count": 34,
   "id": "f4919a11-d774-403e-8570-ba2c2df3db28",
   "metadata": {},
   "outputs": [
    {
     "data": {
      "text/plain": [
       "'python'"
      ]
     },
     "execution_count": 34,
     "metadata": {},
     "output_type": "execute_result"
    }
   ],
   "source": [
    "language"
   ]
  },
  {
   "cell_type": "markdown",
   "id": "4ff8d49c-8210-4013-a95d-44e556a3a257",
   "metadata": {},
   "source": [
    "# Dictionaries"
   ]
  },
  {
   "cell_type": "code",
   "execution_count": 37,
   "id": "3437a288-2b7c-4996-bb9e-4125eb340b00",
   "metadata": {},
   "outputs": [
    {
     "name": "stdout",
     "output_type": "stream",
     "text": [
      "1 | 2\n",
      "2 | 3\n"
     ]
    }
   ],
   "source": [
    "# .items() returns key value pairs from a dictionary\n",
    "\n",
    "# good opportunity to use tuple unpacking\n",
    "x = {1:2,2:3}\n",
    "\n",
    "for key, value in x.items():\n",
    "    print(str(key) + ' | ' + str(value))"
   ]
  },
  {
   "cell_type": "markdown",
   "id": "6e0213d7-274a-442c-9a69-877a6a8d609b",
   "metadata": {},
   "source": [
    "# Sets"
   ]
  },
  {
   "cell_type": "code",
   "execution_count": 39,
   "id": "938f4057-67b5-4f88-96c0-b7beb77a68af",
   "metadata": {},
   "outputs": [],
   "source": [
    "# doesn't contain any duplicates"
   ]
  },
  {
   "cell_type": "code",
   "execution_count": 40,
   "id": "2ef68b03-2fd1-45d3-8fc5-b8d0a70aec61",
   "metadata": {},
   "outputs": [
    {
     "data": {
      "text/plain": [
       "{1.0, 2, 'apPle', 'apple'}"
      ]
     },
     "execution_count": 40,
     "metadata": {},
     "output_type": "execute_result"
    }
   ],
   "source": [
    "# when you put something in a set, all the duplicates are removed\n",
    "my_set = {2,1.0,'apple',1.0,'apPle'}\n",
    "my_set"
   ]
  },
  {
   "cell_type": "markdown",
   "id": "b3f08ba7-ec7b-4d61-bffc-6b023f9fcc66",
   "metadata": {},
   "source": [
    "# For Loops"
   ]
  },
  {
   "cell_type": "code",
   "execution_count": null,
   "id": "c829e820-c6ac-4cd1-9f8b-2f11c1324818",
   "metadata": {},
   "outputs": [],
   "source": [
    "# for [variable] in [iterable data structure (like a list):\n",
    "#     [what you want to do using the current value in each iteration]"
   ]
  },
  {
   "cell_type": "code",
   "execution_count": 42,
   "id": "871620ad-e4be-48d7-aaa1-eecee2776b6c",
   "metadata": {},
   "outputs": [
    {
     "name": "stdout",
     "output_type": "stream",
     "text": [
      "j*\n",
      "e*\n",
      "s*\n",
      "s*\n",
      "i*\n",
      "c*\n",
      "a*\n"
     ]
    }
   ],
   "source": [
    "my_name = 'jessica'\n",
    "\n",
    "for char in my_name:\n",
    "    print(char + '*')"
   ]
  },
  {
   "cell_type": "code",
   "execution_count": 43,
   "id": "31da5b92-f9df-4d6b-96db-b1768318fc3f",
   "metadata": {},
   "outputs": [
    {
     "name": "stdout",
     "output_type": "stream",
     "text": [
      "91.25\n"
     ]
    }
   ],
   "source": [
    "course_marks = [100, 90, 95, 80]\n",
    "marks_sum = 0 # accumulator\n",
    "\n",
    "for mark in course_marks:\n",
    "    marks_sum += mark\n",
    "    \n",
    "print(marks_sum / len(course_marks))"
   ]
  },
  {
   "cell_type": "code",
   "execution_count": 44,
   "id": "7a81d135-07fb-4640-8729-1d06f2168384",
   "metadata": {},
   "outputs": [
    {
     "name": "stdout",
     "output_type": "stream",
     "text": [
      "[90, 80, 85, 70]\n"
     ]
    }
   ],
   "source": [
    "for index in range(len(course_marks)):\n",
    "    course_marks[index] -= 10\n",
    "print(course_marks)"
   ]
  },
  {
   "cell_type": "markdown",
   "id": "83fd0de8-6727-422c-85d2-1cb69f3df8ea",
   "metadata": {},
   "source": [
    "# Functions"
   ]
  },
  {
   "cell_type": "code",
   "execution_count": 45,
   "id": "74ed6e1f-8be8-4c35-89f8-baec3ff1d813",
   "metadata": {},
   "outputs": [
    {
     "name": "stdout",
     "output_type": "stream",
     "text": [
      "Your name is Name\n"
     ]
    }
   ],
   "source": [
    "def what_is_my_name(name='Name'):\n",
    "    print(\"Your name is \"+ str(name))\n",
    "\n",
    "what_is_my_name() # since we specified a default parameter, function will work even if you don't pass an argument to the parameter"
   ]
  },
  {
   "cell_type": "code",
   "execution_count": 46,
   "id": "02311f16-cfbe-4ee8-9430-4221e55944af",
   "metadata": {},
   "outputs": [
    {
     "name": "stdout",
     "output_type": "stream",
     "text": [
      "Your name is 1\n"
     ]
    }
   ],
   "source": [
    "what_is_my_name(1)"
   ]
  },
  {
   "cell_type": "code",
   "execution_count": 47,
   "id": "b6dec1e9-4650-425b-9456-ed64cd15717e",
   "metadata": {},
   "outputs": [
    {
     "data": {
      "text/plain": [
       "'use triple single quotes around explanation after defining function to create a docstring'"
      ]
     },
     "execution_count": 47,
     "metadata": {},
     "output_type": "execute_result"
    }
   ],
   "source": [
    "'''use triple single quotes around explanation after defining function to create a docstring'''"
   ]
  },
  {
   "cell_type": "code",
   "execution_count": 48,
   "id": "1b8d2ba6-93ff-4c87-bc0f-b9265be9faa9",
   "metadata": {},
   "outputs": [],
   "source": [
    "# access docstring with Shift + Tab"
   ]
  },
  {
   "cell_type": "code",
   "execution_count": 49,
   "id": "a0260ab9-65f0-4f36-ac26-b74f375207f6",
   "metadata": {},
   "outputs": [],
   "source": [
    "import datetime as dt"
   ]
  },
  {
   "cell_type": "code",
   "execution_count": 50,
   "id": "f070bb61-18b1-474d-a324-10cc6f468fa6",
   "metadata": {},
   "outputs": [
    {
     "ename": "ModuleNotFoundError",
     "evalue": "No module named 'pandas'",
     "output_type": "error",
     "traceback": [
      "\u001b[1;31m---------------------------------------------------------------------------\u001b[0m",
      "\u001b[1;31mModuleNotFoundError\u001b[0m                       Traceback (most recent call last)",
      "Cell \u001b[1;32mIn [50], line 1\u001b[0m\n\u001b[1;32m----> 1\u001b[0m \u001b[38;5;28;01mimport\u001b[39;00m \u001b[38;5;21;01mpandas\u001b[39;00m \u001b[38;5;28;01mas\u001b[39;00m \u001b[38;5;21;01mpd\u001b[39;00m\n",
      "\u001b[1;31mModuleNotFoundError\u001b[0m: No module named 'pandas'"
     ]
    }
   ],
   "source": [
    "import pandas as pd"
   ]
  },
  {
   "cell_type": "code",
   "execution_count": 51,
   "id": "28a2dbeb-5db5-41b0-b1b3-b1c9093e30de",
   "metadata": {},
   "outputs": [],
   "source": [
    "import numpy as np"
   ]
  },
  {
   "cell_type": "code",
   "execution_count": 53,
   "id": "e9f81f06-1d07-4d52-913a-dc7dbc4c3571",
   "metadata": {},
   "outputs": [],
   "source": [
    "# sharing python code in discord\n",
    "\n",
    "# ```python\n",
    "# some code\n",
    "# some code\n",
    "# some code\n",
    "# # ```"
   ]
  },
  {
   "cell_type": "code",
   "execution_count": null,
   "id": "69ae5030-2947-4479-93c3-b91221f90fba",
   "metadata": {},
   "outputs": [],
   "source": []
  }
 ],
 "metadata": {
  "kernelspec": {
   "display_name": "LHL_env",
   "language": "python",
   "name": "lhl_env"
  },
  "language_info": {
   "codemirror_mode": {
    "name": "ipython",
    "version": 3
   },
   "file_extension": ".py",
   "mimetype": "text/x-python",
   "name": "python",
   "nbconvert_exporter": "python",
   "pygments_lexer": "ipython3",
   "version": "3.9.13"
  }
 },
 "nbformat": 4,
 "nbformat_minor": 5
}
