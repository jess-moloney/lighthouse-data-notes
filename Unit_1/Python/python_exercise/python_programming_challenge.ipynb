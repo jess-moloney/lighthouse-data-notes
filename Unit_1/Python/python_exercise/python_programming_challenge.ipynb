{
 "cells": [
  {
   "cell_type": "markdown",
   "metadata": {},
   "source": [
    "# Python Programming Challenge\n",
    "\n",
    "## Poker Hand\n",
    "\n",
    "In this challenge, we have to determine which kind of Poker combination is present in a deck of 5 cards. Every card is a string containing the card value **with the upper-case initial for face-cards** and the **lower-case initial for the suit**, as seen in the examples below:\n",
    "\n",
    "> \"Ah\" ➞ Ace of hearts <br>\n",
    "> \"Ks\" ➞ King of spades<br>\n",
    "> \"3d\" ➞ Three of diamonds<br>\n",
    "> \"Qc\" ➞ Queen of clubs <br>\n",
    "\n",
    "There are 10 different combinations. Here's the list, in descending order of importance:"
   ]
  },
  {
   "cell_type": "markdown",
   "metadata": {},
   "source": [
    "| Name            | Description                                         |\n",
    "|-----------------|-----------------------------------------------------|\n",
    "| Royal Flush     | A, K, Q, J, 10, all with the same suit.             |\n",
    "| Straight Flush  | Five cards in sequence, all with the same suit.     |\n",
    "| Four of a Kind  | Four cards of the same rank.                        |\n",
    "| Full House      | Three of a Kind with a Pair.                        |\n",
    "| Flush           | Any five cards of the same suit, not in sequence    |\n",
    "| Straight        | Five cards in a sequence, but not of the same suit. |\n",
    "| Three of a Kind | Three cards of the same rank.                       |\n",
    "| Two Pair        | Two different Pairs.                                |\n",
    "| Pair            | Two cards of the same rank.                         |\n",
    "| High Card       | No other valid combination.                         |\n",
    "\n",
    "---------"
   ]
  },
  {
   "cell_type": "markdown",
   "metadata": {},
   "source": [
    "#### 1. Given a list `hand` containing five strings being the cards. Implement a function called `poker_hand_ranking` that **returns a string with the name of the highest combination obtained.** According to the table above.\n",
    "\n",
    "**Examples:**\n",
    "\n",
    "> poker_hand_ranking([\"10h\", \"Jh\", \"Qh\", \"Ah\", \"Kh\"]) ➞ \"Royal Flush\"<br>\n",
    "> poker_hand_ranking([\"3h\", \"5h\", \"Qs\", \"9h\", \"Ad\"]) ➞ \"High Card\"<br>\n",
    "> poker_hand_ranking([\"10s\", \"10c\", \"8d\", \"10d\", \"10h\"]) ➞ \"Four of a Kind\"<br>"
   ]
  },
  {
   "cell_type": "code",
   "execution_count": 67,
   "metadata": {},
   "outputs": [
    {
     "data": {
      "text/plain": [
       "'Full House'"
      ]
     },
     "execution_count": 67,
     "metadata": {},
     "output_type": "execute_result"
    }
   ],
   "source": [
    "from collections import Counter\n",
    "def poker_hand_ranking(hand):\n",
    "    '''\n",
    "    Input is a list 'hand' containing five strings being the cards.\n",
    "    Output is a string with the name of the highest combination obtained\n",
    "    '''\n",
    "\n",
    "# three different types of hand:\n",
    "\n",
    "# 1 - VALUE-BASED: use counter to get count of most common card values\n",
    "    # Four of a Kind\n",
    "    # Full House (three of a kind with a pair)\n",
    "    # Three of a Kind\n",
    "    # Two Pair\n",
    "    # Pair\n",
    "    # High Card (all different values)\n",
    "\n",
    "# 2 - SAME SUIT: use counter to get count of most common suit\n",
    "    # Flush (all same suit)\n",
    "\n",
    "# 3 - SEQUENCE: \n",
    "    # Royal Flush (A, K, Q, J, 10), all same suit\n",
    "    # Straight Flush (five cards in sequence), all same suit\n",
    "    # Straight (any five cards in sequence)\n",
    "\n",
    "    # start empty card value and suit list\n",
    "    card_value = []\n",
    "    suit_list = []\n",
    "\n",
    "    # loop through the cards in the hand\n",
    "    for card in hand: \n",
    "\n",
    "        # add the suit of each card to the suit_list (this is at the last index in the string representing the hand)\n",
    "        suit_list.append(card[-1])\n",
    "\n",
    "        # add the value of each card to the card_list (this is everything except the last index in the string representing the hand)\n",
    "        card_value.append(card[:-1])\n",
    "\n",
    "    # use Counter to generate a dictionary, with the suits in the hand as the keys and the count of each suit as the values\n",
    "    suit_cnt = Counter(suit_list)\n",
    "\n",
    "    # use Counter to generate a dictionary, with the values in the hand as the keys and the count of each value as the values\n",
    "    value_cnt = Counter(card_value)\n",
    "\n",
    "    # For SEQUENCE hands, need to rank the card values\n",
    "    rank = [ '2', '3', '4', '5', '6', '7', '8', '9', '10', 'J', 'Q', 'K', 'A']\n",
    "    # index   0    1    2    3    4    5    6    7    8     9    10   11   12\n",
    "\n",
    "    # the value_sorted list sorts the card_value list by the rank\n",
    "    value_sorted = sorted(card_value, key=rank.index)\n",
    "\n",
    "    # to know if the cards are in sequence, need to find the difference in the rank index of the first and last cards in the sorted hand.\n",
    "    diff = rank.index(value_sorted[4]) - rank.index(value_sorted[0])\n",
    "        \n",
    "    if diff == 4 and len(value_cnt) == 5:\n",
    "    # this means five cards in sequence\n",
    "        if suit_cnt.most_common(1)[0][1] == 5:\n",
    "            # this means all five cards are the same suit\n",
    "            if 'A' in card_value:\n",
    "                # the royal flush needs to have the Ace\n",
    "                return \"Royal Flush\"\n",
    "            else:\n",
    "                return \"Straight Flush\"\n",
    "        else:\n",
    "            # not all five cards are the same suit\n",
    "            return \"Straight\"\n",
    "            \n",
    "    elif diff == 12 and (rank.index(value_sorted[3]) - rank.index(value_sorted[0]) == 3):\n",
    "        if suit_cnt.most_common(1)[0][1]==5:\n",
    "            return \"Bicycle Straight Flush\"\n",
    "        else:\n",
    "            return \"Bicycle Straight\"\n",
    "\n",
    "    elif value_cnt.most_common(1)[0][1]==4:\n",
    "        return \"Four of a kind\"\n",
    "\n",
    "    elif value_cnt.most_common(2)[0][1]==3 and value_cnt.most_common(2)[1][1]==2:\n",
    "        return \"Full House\"\n",
    "\n",
    "    elif suit_cnt.most_common(1)[0][1]==5:\n",
    "        return \"Flush\"\n",
    "\n",
    "    elif value_cnt.most_common(1)[0][1]==3:\n",
    "        return \"Three of a kind\"\n",
    "\n",
    "    elif value_cnt.most_common(2)[0][1]==2 and value_cnt.most_common(2)[1][1]==2:\n",
    "        return \"Two Pair\"\n",
    "\n",
    "    elif value_cnt.most_common(1)[0][1]==2:\n",
    "        return \"Pair\"\n",
    "\n",
    "    else:\n",
    "        return \"High Card\"\n",
    "\n",
    "poker_hand_ranking([\"10h\", \"Jh\", \"Qh\", \"Ah\", \"Kh\"])\n",
    "poker_hand_ranking([\"3h\", \"4h\", \"5h\", \"6h\", \"7h\"])\n",
    "poker_hand_ranking([\"3h\", \"2h\", \"4h\", \"Ah\", \"5h\"])\n",
    "poker_hand_ranking([\"Qh\", \"Qh\", \"Qs\", \"Qh\", \"Ad\"])\n",
    "poker_hand_ranking([\"10s\", \"9c\", \"9d\", \"10d\", \"10h\"])\n",
    "poker_hand_ranking([\"3s\", \"9s\", \"7s\", \"10s\", \"Qs\"])\n",
    "poker_hand_ranking([\"8s\", \"7h\", \"9h\", \"Jh\", \"10h\"])\n",
    "poker_hand_ranking([\"3s\", \"2h\", \"4h\", \"Ah\", \"5h\"])\n",
    "poker_hand_ranking([\"3s\", \"3h\", \"3h\", \"Ah\", \"6h\"])\n",
    "poker_hand_ranking([\"3s\", \"Ah\", \"6h\", \"Ah\", \"6h\"])\n",
    "poker_hand_ranking([\"3s\", \"Ah\", \"5h\", \"Ah\", \"6h\"])\n",
    "poker_hand_ranking([\"3s\", \"2h\", \"4h\", \"Ah\", \"6h\"])\n",
    "poker_hand_ranking([\"4s\", \"4h\", \"4h\", \"9h\", \"9h\"])"
   ]
  },
  {
   "cell_type": "markdown",
   "metadata": {},
   "source": [
    "------------\n",
    "### **Stretch Content**\n",
    "\n",
    "#### 2.  Implement a function `winner_is` that returns the winner given a dictionary with different players and their hands. \n",
    "**Example**\n",
    "\n",
    "We define dictionary like\n",
    "```python\n",
    "round_1 = {\"John\" = [\"10h\", \"Jh\", \"Qh\", \"Ah\", \"Kh\"], \n",
    "        \"Peter\" = [\"3h\", \"5h\", \"Qs\", \"9h\", \"Ad\"]}\n",
    "```\n",
    "\n",
    "Our function returns the name of the winner:\n",
    "> winner_is(round_1) --> \"John\"\n",
    "\n",
    "One table can have up to 10 players.\n"
   ]
  },
  {
   "cell_type": "code",
   "execution_count": 92,
   "metadata": {},
   "outputs": [],
   "source": [
    "def winner_is(roundx):\n",
    "    '''\n",
    "    Input is a dictionary with different players as the keys and their hands as the values\n",
    "    Output is a key from the dictionary representing the player with the winning hand\n",
    "    '''\n",
    "\n",
    "    # ranked list of poker hands from best to worst\n",
    "    ranked_combos = [\n",
    "    'Royal Flush',\n",
    "    'Straight Flush',\n",
    "    'Bicycle Straight Flush'\n",
    "    'Four of a Kind',\n",
    "    'Full House',\n",
    "    'Flush',\n",
    "    'Straight',\n",
    "    'Three of a Kind',\n",
    "    'Two Pair',\n",
    "    'Pair',\n",
    "    'High Card']\n",
    "\n",
    "    # empty list of hands, players; empty hand ranking dictionary:\n",
    "    hands = []\n",
    "    players = []\n",
    "    hand_rank = {}\n",
    "    \n",
    "    # populate the hands and players lists\n",
    "    for player in roundx:\n",
    "        hands.append(roundx[player])\n",
    "        players.append(player)\n",
    "    \n",
    "    # populate the hand ranking dictionary\n",
    "    for i in range(len(hands)):\n",
    "        best_combo = poker_hand_ranking(hands[i])\n",
    "        rank = ranked_combos.index(best_combo)\n",
    "        hand_rank[players[i]] = rank\n",
    "    \n",
    "    # sort the hand rankings, best to worst\n",
    "    sorted_values = sorted(hand_rank.values())\n",
    "\n",
    "    # list out hand ranking dictionary keys and values separately\n",
    "    key_list = list(hand_rank.keys())\n",
    "    val_list = list(hand_rank.values())\n",
    "    \n",
    "    # print name of player with highest value hand\n",
    "    position = val_list.index(sorted_values[0])\n",
    "    print(f'The winner is {key_list[position]}')\n"
   ]
  },
  {
   "cell_type": "code",
   "execution_count": 93,
   "metadata": {},
   "outputs": [
    {
     "name": "stdout",
     "output_type": "stream",
     "text": [
      "The winner is John\n"
     ]
    }
   ],
   "source": [
    "round1 = {\n",
    "    \"John\" : [\"10h\", \"Jh\", \"Qh\", \"Ah\", \"Kh\"], \n",
    "    \"Peter\" : [\"3h\", \"5h\", \"Qs\", \"9h\", \"Ad\"]\n",
    "}\n",
    "\n",
    "winner_is(round1)"
   ]
  },
  {
   "cell_type": "markdown",
   "metadata": {},
   "source": [
    "#### 3. Create a function `distribute_cards` that randomly generates and gives 5 cards to every player given a list of player names.\n",
    "\n",
    "**Example**\n",
    "\n",
    "> distribute_cards([\"John\",\"Peter\"])  -> round_1 = {\"John\" = [\"10h\", \"Jh\", \"Qh\", \"Ah\", \"Kh\"], \n",
    "        \"Peter\" = [\"3h\", \"5h\", \"Qs\", \"9h\", \"Ad\"]\n",
    "}"
   ]
  },
  {
   "cell_type": "code",
   "execution_count": null,
   "metadata": {},
   "outputs": [],
   "source": []
  },
  {
   "cell_type": "code",
   "execution_count": null,
   "metadata": {},
   "outputs": [],
   "source": []
  },
  {
   "cell_type": "code",
   "execution_count": null,
   "metadata": {},
   "outputs": [],
   "source": []
  },
  {
   "cell_type": "code",
   "execution_count": null,
   "metadata": {},
   "outputs": [],
   "source": []
  }
 ],
 "metadata": {
  "kernelspec": {
   "display_name": "Python 3",
   "language": "python",
   "name": "python3"
  },
  "language_info": {
   "codemirror_mode": {
    "name": "ipython",
    "version": 3
   },
   "file_extension": ".py",
   "mimetype": "text/x-python",
   "name": "python",
   "nbconvert_exporter": "python",
   "pygments_lexer": "ipython3",
   "version": "3.9.13"
  },
  "vscode": {
   "interpreter": {
    "hash": "11938c6bc6919ae2720b4d5011047913343b08a43b18698fd82dedb0d4417594"
   }
  }
 },
 "nbformat": 4,
 "nbformat_minor": 4
}
