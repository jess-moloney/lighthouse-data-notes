{
 "cells": [
  {
   "cell_type": "code",
   "execution_count": 1,
   "metadata": {},
   "outputs": [
    {
     "name": "stdout",
     "output_type": "stream",
     "text": [
      "Defaulting to user installation because normal site-packages is not writeable\n",
      "Collecting pymongo\n",
      "  Downloading pymongo-4.3.2-cp39-cp39-win_amd64.whl (381 kB)\n",
      "     ------------------------------------ 382.0/382.0 kB 915.6 kB/s eta 0:00:00\n",
      "Collecting dnspython<3.0.0,>=1.16.0\n",
      "  Downloading dnspython-2.2.1-py3-none-any.whl (269 kB)\n",
      "     ------------------------------------ 269.1/269.1 kB 871.5 kB/s eta 0:00:00\n",
      "Installing collected packages: dnspython, pymongo\n",
      "Successfully installed dnspython-2.2.1 pymongo-4.3.2\n"
     ]
    }
   ],
   "source": [
    "!pip install pymongo"
   ]
  },
  {
   "cell_type": "code",
   "execution_count": 2,
   "metadata": {},
   "outputs": [],
   "source": [
    "import pymongo"
   ]
  },
  {
   "cell_type": "code",
   "execution_count": 3,
   "metadata": {},
   "outputs": [],
   "source": [
    "from pymongo import MongoClient"
   ]
  },
  {
   "cell_type": "code",
   "execution_count": 4,
   "metadata": {},
   "outputs": [],
   "source": [
    "# creating a client object to communicate with the currently running MongoDB instance\n",
    "client=MongoClient()"
   ]
  },
  {
   "cell_type": "code",
   "execution_count": 5,
   "metadata": {},
   "outputs": [
    {
     "data": {
      "text/plain": [
       "MongoClient(host=['localhost:27017'], document_class=dict, tz_aware=False, connect=True)"
      ]
     },
     "execution_count": 5,
     "metadata": {},
     "output_type": "execute_result"
    }
   ],
   "source": [
    "client"
   ]
  },
  {
   "cell_type": "code",
   "execution_count": 6,
   "metadata": {},
   "outputs": [
    {
     "data": {
      "text/plain": [
       "MongoClient(host=['localhost:27017'], document_class=dict, tz_aware=False, connect=True)"
      ]
     },
     "execution_count": 6,
     "metadata": {},
     "output_type": "execute_result"
    }
   ],
   "source": [
    "# another option for connecting to current MongoDB instance\n",
    "client = MongoClient(host=\"localhost\", port=27017)\n",
    "client"
   ]
  },
  {
   "cell_type": "code",
   "execution_count": 7,
   "metadata": {},
   "outputs": [
    {
     "data": {
      "text/plain": [
       "MongoClient(host=['localhost:27017'], document_class=dict, tz_aware=False, connect=True)"
      ]
     },
     "execution_count": 7,
     "metadata": {},
     "output_type": "execute_result"
    }
   ],
   "source": [
    "# another option for connecting to current MongoDB instance\n",
    "client = MongoClient(\"mongodb://localhost:27017\")\n",
    "client"
   ]
  },
  {
   "cell_type": "code",
   "execution_count": 8,
   "metadata": {},
   "outputs": [],
   "source": [
    "# creating a database called rptutorials\n",
    "db = client.rptutorials"
   ]
  },
  {
   "cell_type": "code",
   "execution_count": 10,
   "metadata": {},
   "outputs": [
    {
     "data": {
      "text/plain": [
       "Database(MongoClient(host=['localhost:27017'], document_class=dict, tz_aware=False, connect=True), 'rptutorials')"
      ]
     },
     "execution_count": 10,
     "metadata": {},
     "output_type": "execute_result"
    }
   ],
   "source": [
    "db"
   ]
  },
  {
   "cell_type": "code",
   "execution_count": 11,
   "metadata": {},
   "outputs": [],
   "source": [
    "# another way to create a database called rptutorials\n",
    "db = client['rptutorials']"
   ]
  },
  {
   "cell_type": "code",
   "execution_count": 12,
   "metadata": {},
   "outputs": [],
   "source": [
    "# creating a document as dict\n",
    "tutorial1 = {\n",
    "\"title\": \"Working With JSON Data in Python\",\n",
    "\"author\": \"Lucas\",\n",
    "\"contributors\": [\n",
    "    \"Aldren\",\n",
    "    \"Dan\",\n",
    "    \"Joanna\"\n",
    "],\n",
    "\"url\": \"https://realpython.com/python-json/\"\n",
    "}"
   ]
  },
  {
   "cell_type": "code",
   "execution_count": 14,
   "metadata": {},
   "outputs": [
    {
     "data": {
      "text/plain": [
       "Collection(Database(MongoClient(host=['localhost:27017'], document_class=dict, tz_aware=False, connect=True), 'rptutorials'), 'tutorial')"
      ]
     },
     "execution_count": 14,
     "metadata": {},
     "output_type": "execute_result"
    }
   ],
   "source": [
    "# create a collection called tutorial with the db database, to add documents to\n",
    "\n",
    "tutorial = db.tutorial\n",
    "tutorial"
   ]
  },
  {
   "cell_type": "code",
   "execution_count": 19,
   "metadata": {},
   "outputs": [
    {
     "ename": "DuplicateKeyError",
     "evalue": "E11000 duplicate key error collection: rptutorials.tutorial index: _id_ dup key: { _id: ObjectId('6362ac47feba4d140051c0f4') }, full error: {'index': 0, 'code': 11000, 'errmsg': \"E11000 duplicate key error collection: rptutorials.tutorial index: _id_ dup key: { _id: ObjectId('6362ac47feba4d140051c0f4') }\", 'keyPattern': {'_id': 1}, 'keyValue': {'_id': ObjectId('6362ac47feba4d140051c0f4')}}",
     "output_type": "error",
     "traceback": [
      "\u001b[1;31m---------------------------------------------------------------------------\u001b[0m",
      "\u001b[1;31mDuplicateKeyError\u001b[0m                         Traceback (most recent call last)",
      "Cell \u001b[1;32mIn [19], line 3\u001b[0m\n\u001b[0;32m      1\u001b[0m \u001b[39m# add one document to tutorial collection at a time\u001b[39;00m\n\u001b[1;32m----> 3\u001b[0m result \u001b[39m=\u001b[39m tutorial\u001b[39m.\u001b[39;49minsert_one(tutorial1)\n\u001b[0;32m      4\u001b[0m result\n",
      "File \u001b[1;32m~\\AppData\\Roaming\\Python\\Python39\\site-packages\\pymongo\\collection.py:621\u001b[0m, in \u001b[0;36mCollection.insert_one\u001b[1;34m(self, document, bypass_document_validation, session, comment)\u001b[0m\n\u001b[0;32m    617\u001b[0m     document[\u001b[39m\"\u001b[39m\u001b[39m_id\u001b[39m\u001b[39m\"\u001b[39m] \u001b[39m=\u001b[39m ObjectId()\n\u001b[0;32m    619\u001b[0m write_concern \u001b[39m=\u001b[39m \u001b[39mself\u001b[39m\u001b[39m.\u001b[39m_write_concern_for(session)\n\u001b[0;32m    620\u001b[0m \u001b[39mreturn\u001b[39;00m InsertOneResult(\n\u001b[1;32m--> 621\u001b[0m     \u001b[39mself\u001b[39;49m\u001b[39m.\u001b[39;49m_insert_one(\n\u001b[0;32m    622\u001b[0m         document,\n\u001b[0;32m    623\u001b[0m         ordered\u001b[39m=\u001b[39;49m\u001b[39mTrue\u001b[39;49;00m,\n\u001b[0;32m    624\u001b[0m         write_concern\u001b[39m=\u001b[39;49mwrite_concern,\n\u001b[0;32m    625\u001b[0m         op_id\u001b[39m=\u001b[39;49m\u001b[39mNone\u001b[39;49;00m,\n\u001b[0;32m    626\u001b[0m         bypass_doc_val\u001b[39m=\u001b[39;49mbypass_document_validation,\n\u001b[0;32m    627\u001b[0m         session\u001b[39m=\u001b[39;49msession,\n\u001b[0;32m    628\u001b[0m         comment\u001b[39m=\u001b[39;49mcomment,\n\u001b[0;32m    629\u001b[0m     ),\n\u001b[0;32m    630\u001b[0m     write_concern\u001b[39m.\u001b[39macknowledged,\n\u001b[0;32m    631\u001b[0m )\n",
      "File \u001b[1;32m~\\AppData\\Roaming\\Python\\Python39\\site-packages\\pymongo\\collection.py:562\u001b[0m, in \u001b[0;36mCollection._insert_one\u001b[1;34m(self, doc, ordered, write_concern, op_id, bypass_doc_val, session, comment)\u001b[0m\n\u001b[0;32m    550\u001b[0m     result \u001b[39m=\u001b[39m sock_info\u001b[39m.\u001b[39mcommand(\n\u001b[0;32m    551\u001b[0m         \u001b[39mself\u001b[39m\u001b[39m.\u001b[39m__database\u001b[39m.\u001b[39mname,\n\u001b[0;32m    552\u001b[0m         command,\n\u001b[1;32m   (...)\u001b[0m\n\u001b[0;32m    557\u001b[0m         retryable_write\u001b[39m=\u001b[39mretryable_write,\n\u001b[0;32m    558\u001b[0m     )\n\u001b[0;32m    560\u001b[0m     _check_write_command_response(result)\n\u001b[1;32m--> 562\u001b[0m \u001b[39mself\u001b[39;49m\u001b[39m.\u001b[39;49m__database\u001b[39m.\u001b[39;49mclient\u001b[39m.\u001b[39;49m_retryable_write(acknowledged, _insert_command, session)\n\u001b[0;32m    564\u001b[0m \u001b[39mif\u001b[39;00m \u001b[39mnot\u001b[39;00m \u001b[39misinstance\u001b[39m(doc, RawBSONDocument):\n\u001b[0;32m    565\u001b[0m     \u001b[39mreturn\u001b[39;00m doc\u001b[39m.\u001b[39mget(\u001b[39m\"\u001b[39m\u001b[39m_id\u001b[39m\u001b[39m\"\u001b[39m)\n",
      "File \u001b[1;32m~\\AppData\\Roaming\\Python\\Python39\\site-packages\\pymongo\\mongo_client.py:1476\u001b[0m, in \u001b[0;36mMongoClient._retryable_write\u001b[1;34m(self, retryable, func, session)\u001b[0m\n\u001b[0;32m   1474\u001b[0m \u001b[39m\"\"\"Internal retryable write helper.\"\"\"\u001b[39;00m\n\u001b[0;32m   1475\u001b[0m \u001b[39mwith\u001b[39;00m \u001b[39mself\u001b[39m\u001b[39m.\u001b[39m_tmp_session(session) \u001b[39mas\u001b[39;00m s:\n\u001b[1;32m-> 1476\u001b[0m     \u001b[39mreturn\u001b[39;00m \u001b[39mself\u001b[39;49m\u001b[39m.\u001b[39;49m_retry_with_session(retryable, func, s, \u001b[39mNone\u001b[39;49;00m)\n",
      "File \u001b[1;32m~\\AppData\\Roaming\\Python\\Python39\\site-packages\\pymongo\\mongo_client.py:1349\u001b[0m, in \u001b[0;36mMongoClient._retry_with_session\u001b[1;34m(self, retryable, func, session, bulk)\u001b[0m\n\u001b[0;32m   1339\u001b[0m \u001b[39m\"\"\"Execute an operation with at most one consecutive retries\u001b[39;00m\n\u001b[0;32m   1340\u001b[0m \n\u001b[0;32m   1341\u001b[0m \u001b[39mReturns func()'s return value on success. On error retries the same\u001b[39;00m\n\u001b[1;32m   (...)\u001b[0m\n\u001b[0;32m   1344\u001b[0m \u001b[39mRe-raises any exception thrown by func().\u001b[39;00m\n\u001b[0;32m   1345\u001b[0m \u001b[39m\"\"\"\u001b[39;00m\n\u001b[0;32m   1346\u001b[0m retryable \u001b[39m=\u001b[39m (\n\u001b[0;32m   1347\u001b[0m     retryable \u001b[39mand\u001b[39;00m \u001b[39mself\u001b[39m\u001b[39m.\u001b[39moptions\u001b[39m.\u001b[39mretry_writes \u001b[39mand\u001b[39;00m session \u001b[39mand\u001b[39;00m \u001b[39mnot\u001b[39;00m session\u001b[39m.\u001b[39min_transaction\n\u001b[0;32m   1348\u001b[0m )\n\u001b[1;32m-> 1349\u001b[0m \u001b[39mreturn\u001b[39;00m \u001b[39mself\u001b[39;49m\u001b[39m.\u001b[39;49m_retry_internal(retryable, func, session, bulk)\n",
      "File \u001b[1;32m~\\AppData\\Roaming\\Python\\Python39\\site-packages\\pymongo\\_csot.py:105\u001b[0m, in \u001b[0;36mapply.<locals>.csot_wrapper\u001b[1;34m(self, *args, **kwargs)\u001b[0m\n\u001b[0;32m    103\u001b[0m         \u001b[39mwith\u001b[39;00m _TimeoutContext(timeout):\n\u001b[0;32m    104\u001b[0m             \u001b[39mreturn\u001b[39;00m func(\u001b[39mself\u001b[39m, \u001b[39m*\u001b[39margs, \u001b[39m*\u001b[39m\u001b[39m*\u001b[39mkwargs)\n\u001b[1;32m--> 105\u001b[0m \u001b[39mreturn\u001b[39;00m func(\u001b[39mself\u001b[39m, \u001b[39m*\u001b[39margs, \u001b[39m*\u001b[39m\u001b[39m*\u001b[39mkwargs)\n",
      "File \u001b[1;32m~\\AppData\\Roaming\\Python\\Python39\\site-packages\\pymongo\\mongo_client.py:1390\u001b[0m, in \u001b[0;36mMongoClient._retry_internal\u001b[1;34m(self, retryable, func, session, bulk)\u001b[0m\n\u001b[0;32m   1388\u001b[0m                 \u001b[39mraise\u001b[39;00m last_error\n\u001b[0;32m   1389\u001b[0m             retryable \u001b[39m=\u001b[39m \u001b[39mFalse\u001b[39;00m\n\u001b[1;32m-> 1390\u001b[0m         \u001b[39mreturn\u001b[39;00m func(session, sock_info, retryable)\n\u001b[0;32m   1391\u001b[0m \u001b[39mexcept\u001b[39;00m ServerSelectionTimeoutError:\n\u001b[0;32m   1392\u001b[0m     \u001b[39mif\u001b[39;00m is_retrying():\n\u001b[0;32m   1393\u001b[0m         \u001b[39m# The application may think the write was never attempted\u001b[39;00m\n\u001b[0;32m   1394\u001b[0m         \u001b[39m# if we raise ServerSelectionTimeoutError on the retry\u001b[39;00m\n\u001b[0;32m   1395\u001b[0m         \u001b[39m# attempt. Raise the original exception instead.\u001b[39;00m\n",
      "File \u001b[1;32m~\\AppData\\Roaming\\Python\\Python39\\site-packages\\pymongo\\collection.py:560\u001b[0m, in \u001b[0;36mCollection._insert_one.<locals>._insert_command\u001b[1;34m(session, sock_info, retryable_write)\u001b[0m\n\u001b[0;32m    548\u001b[0m     command[\u001b[39m\"\u001b[39m\u001b[39mbypassDocumentValidation\u001b[39m\u001b[39m\"\u001b[39m] \u001b[39m=\u001b[39m \u001b[39mTrue\u001b[39;00m\n\u001b[0;32m    550\u001b[0m result \u001b[39m=\u001b[39m sock_info\u001b[39m.\u001b[39mcommand(\n\u001b[0;32m    551\u001b[0m     \u001b[39mself\u001b[39m\u001b[39m.\u001b[39m__database\u001b[39m.\u001b[39mname,\n\u001b[0;32m    552\u001b[0m     command,\n\u001b[1;32m   (...)\u001b[0m\n\u001b[0;32m    557\u001b[0m     retryable_write\u001b[39m=\u001b[39mretryable_write,\n\u001b[0;32m    558\u001b[0m )\n\u001b[1;32m--> 560\u001b[0m _check_write_command_response(result)\n",
      "File \u001b[1;32m~\\AppData\\Roaming\\Python\\Python39\\site-packages\\pymongo\\helpers.py:217\u001b[0m, in \u001b[0;36m_check_write_command_response\u001b[1;34m(result)\u001b[0m\n\u001b[0;32m    215\u001b[0m write_errors \u001b[39m=\u001b[39m result\u001b[39m.\u001b[39mget(\u001b[39m\"\u001b[39m\u001b[39mwriteErrors\u001b[39m\u001b[39m\"\u001b[39m)\n\u001b[0;32m    216\u001b[0m \u001b[39mif\u001b[39;00m write_errors:\n\u001b[1;32m--> 217\u001b[0m     _raise_last_write_error(write_errors)\n\u001b[0;32m    219\u001b[0m wce \u001b[39m=\u001b[39m _get_wce_doc(result)\n\u001b[0;32m    220\u001b[0m \u001b[39mif\u001b[39;00m wce:\n",
      "File \u001b[1;32m~\\AppData\\Roaming\\Python\\Python39\\site-packages\\pymongo\\helpers.py:189\u001b[0m, in \u001b[0;36m_raise_last_write_error\u001b[1;34m(write_errors)\u001b[0m\n\u001b[0;32m    187\u001b[0m error \u001b[39m=\u001b[39m write_errors[\u001b[39m-\u001b[39m\u001b[39m1\u001b[39m]\n\u001b[0;32m    188\u001b[0m \u001b[39mif\u001b[39;00m error\u001b[39m.\u001b[39mget(\u001b[39m\"\u001b[39m\u001b[39mcode\u001b[39m\u001b[39m\"\u001b[39m) \u001b[39m==\u001b[39m \u001b[39m11000\u001b[39m:\n\u001b[1;32m--> 189\u001b[0m     \u001b[39mraise\u001b[39;00m DuplicateKeyError(error\u001b[39m.\u001b[39mget(\u001b[39m\"\u001b[39m\u001b[39merrmsg\u001b[39m\u001b[39m\"\u001b[39m), \u001b[39m11000\u001b[39m, error)\n\u001b[0;32m    190\u001b[0m \u001b[39mraise\u001b[39;00m WriteError(error\u001b[39m.\u001b[39mget(\u001b[39m\"\u001b[39m\u001b[39merrmsg\u001b[39m\u001b[39m\"\u001b[39m), error\u001b[39m.\u001b[39mget(\u001b[39m\"\u001b[39m\u001b[39mcode\u001b[39m\u001b[39m\"\u001b[39m), error)\n",
      "\u001b[1;31mDuplicateKeyError\u001b[0m: E11000 duplicate key error collection: rptutorials.tutorial index: _id_ dup key: { _id: ObjectId('6362ac47feba4d140051c0f4') }, full error: {'index': 0, 'code': 11000, 'errmsg': \"E11000 duplicate key error collection: rptutorials.tutorial index: _id_ dup key: { _id: ObjectId('6362ac47feba4d140051c0f4') }\", 'keyPattern': {'_id': 1}, 'keyValue': {'_id': ObjectId('6362ac47feba4d140051c0f4')}}"
     ]
    }
   ],
   "source": [
    "# add one document to tutorial collection at a time\n",
    "\n",
    "result = tutorial.insert_one(tutorial1)\n",
    "result"
   ]
  },
  {
   "cell_type": "code",
   "execution_count": 20,
   "metadata": {},
   "outputs": [],
   "source": [
    "# add more than one document to collection at a time\n",
    "\n",
    "tutorial2 = {\n",
    "\"title\": \"Python's Requests Library (Guide)\",\n",
    "\"author\": \"Alex\",\n",
    "\"contributors\": [\n",
    "    \"Aldren\",\n",
    "    \"Brad\",\n",
    "    \"Joanna\"\n",
    "],\n",
    "\"url\": \"https://realpython.com/python-requests/\"\n",
    "}\n",
    "\n",
    "tutorial3 = {\n",
    "\"title\": \"Object-Oriented Programming (OOP) in Python 3\",\n",
    "\"author\": \"David\",\n",
    "\"contributors\": [\n",
    "    \"Aldren\",\n",
    "    \"Joanna\",\n",
    "    \"Jacob\"\n",
    "],\n",
    "\"url\": \"https://realpython.com/python3-object-oriented-programming/\"\n",
    "}\n",
    "\n",
    "new_result = tutorial.insert_many([tutorial2, tutorial3])"
   ]
  },
  {
   "cell_type": "code",
   "execution_count": 18,
   "metadata": {},
   "outputs": [
    {
     "name": "stdout",
     "output_type": "stream",
     "text": [
      "Multiple tutorials: [ObjectId('6362aca2feba4d140051c0f5'), ObjectId('6362aca2feba4d140051c0f6')]\n"
     ]
    }
   ],
   "source": [
    "print(f\"Multiple tutorials: {new_result.inserted_ids}\")"
   ]
  },
  {
   "cell_type": "code",
   "execution_count": 21,
   "metadata": {},
   "outputs": [],
   "source": [
    "import pprint"
   ]
  },
  {
   "cell_type": "code",
   "execution_count": 23,
   "metadata": {},
   "outputs": [
    {
     "name": "stdout",
     "output_type": "stream",
     "text": [
      "{'_id': ObjectId('6362a6061e1f70b6d1f444de'),\n",
      " 'author': 'Leodanis',\n",
      " 'contributors': ['Aldren', 'Jim', 'Joanna'],\n",
      " 'title': 'How to Iterate Through a Dictionary in Python',\n",
      " 'url': 'https://realpython.com/iterate-through-dictionary-python/'}\n",
      "{'_id': ObjectId('6362ac47feba4d140051c0f4'),\n",
      " 'author': 'Lucas',\n",
      " 'contributors': ['Aldren', 'Dan', 'Joanna'],\n",
      " 'title': 'Working With JSON Data in Python',\n",
      " 'url': 'https://realpython.com/python-json/'}\n",
      "{'_id': ObjectId('6362aca2feba4d140051c0f5'),\n",
      " 'author': 'Alex',\n",
      " 'contributors': ['Aldren', 'Brad', 'Joanna'],\n",
      " 'title': \"Python's Requests Library (Guide)\",\n",
      " 'url': 'https://realpython.com/python-requests/'}\n",
      "{'_id': ObjectId('6362aca2feba4d140051c0f6'),\n",
      " 'author': 'David',\n",
      " 'contributors': ['Aldren', 'Joanna', 'Jacob'],\n",
      " 'title': 'Object-Oriented Programming (OOP) in Python 3',\n",
      " 'url': 'https://realpython.com/python3-object-oriented-programming/'}\n",
      "{'_id': ObjectId('6362acdafeba4d140051c0f7'),\n",
      " 'author': 'Alex',\n",
      " 'contributors': ['Aldren', 'Brad', 'Joanna'],\n",
      " 'title': \"Python's Requests Library (Guide)\",\n",
      " 'url': 'https://realpython.com/python-requests/'}\n",
      "{'_id': ObjectId('6362acdafeba4d140051c0f8'),\n",
      " 'author': 'David',\n",
      " 'contributors': ['Aldren', 'Joanna', 'Jacob'],\n",
      " 'title': 'Object-Oriented Programming (OOP) in Python 3',\n",
      " 'url': 'https://realpython.com/python3-object-oriented-programming/'}\n"
     ]
    }
   ],
   "source": [
    "# .find() without arguments returns a cursor object that yields the documents in the collection\n",
    "for doc in tutorial.find():\n",
    "    pprint.pprint(doc)"
   ]
  },
  {
   "cell_type": "code",
   "execution_count": 25,
   "metadata": {},
   "outputs": [
    {
     "name": "stdout",
     "output_type": "stream",
     "text": [
      "{'_id': ObjectId('6362ac47feba4d140051c0f4'),\n",
      " 'author': 'Lucas',\n",
      " 'contributors': ['Aldren', 'Dan', 'Joanna'],\n",
      " 'title': 'Working With JSON Data in Python',\n",
      " 'url': 'https://realpython.com/python-json/'}\n"
     ]
    }
   ],
   "source": [
    "# use .find_one() to retrieve a single document\n",
    "\n",
    "import pprint\n",
    "jon_tutorial = tutorial.find_one({\"author\": \"Lucas\"})\n",
    "pprint.pprint(jon_tutorial)\n"
   ]
  },
  {
   "cell_type": "code",
   "execution_count": 26,
   "metadata": {},
   "outputs": [],
   "source": [
    "# close connection before exiting application\n",
    "\n",
    "client.close()"
   ]
  },
  {
   "cell_type": "code",
   "execution_count": 27,
   "metadata": {},
   "outputs": [
    {
     "name": "stdout",
     "output_type": "stream",
     "text": [
      "{'_id': ObjectId('6362a6061e1f70b6d1f444de'),\n",
      " 'author': 'Leodanis',\n",
      " 'contributors': ['Aldren', 'Jim', 'Joanna'],\n",
      " 'title': 'How to Iterate Through a Dictionary in Python',\n",
      " 'url': 'https://realpython.com/iterate-through-dictionary-python/'}\n",
      "{'_id': ObjectId('6362ac47feba4d140051c0f4'),\n",
      " 'author': 'Lucas',\n",
      " 'contributors': ['Aldren', 'Dan', 'Joanna'],\n",
      " 'title': 'Working With JSON Data in Python',\n",
      " 'url': 'https://realpython.com/python-json/'}\n",
      "{'_id': ObjectId('6362aca2feba4d140051c0f5'),\n",
      " 'author': 'Alex',\n",
      " 'contributors': ['Aldren', 'Brad', 'Joanna'],\n",
      " 'title': \"Python's Requests Library (Guide)\",\n",
      " 'url': 'https://realpython.com/python-requests/'}\n",
      "{'_id': ObjectId('6362aca2feba4d140051c0f6'),\n",
      " 'author': 'David',\n",
      " 'contributors': ['Aldren', 'Joanna', 'Jacob'],\n",
      " 'title': 'Object-Oriented Programming (OOP) in Python 3',\n",
      " 'url': 'https://realpython.com/python3-object-oriented-programming/'}\n",
      "{'_id': ObjectId('6362acdafeba4d140051c0f7'),\n",
      " 'author': 'Alex',\n",
      " 'contributors': ['Aldren', 'Brad', 'Joanna'],\n",
      " 'title': \"Python's Requests Library (Guide)\",\n",
      " 'url': 'https://realpython.com/python-requests/'}\n",
      "{'_id': ObjectId('6362acdafeba4d140051c0f8'),\n",
      " 'author': 'David',\n",
      " 'contributors': ['Aldren', 'Joanna', 'Jacob'],\n",
      " 'title': 'Object-Oriented Programming (OOP) in Python 3',\n",
      " 'url': 'https://realpython.com/python3-object-oriented-programming/'}\n"
     ]
    }
   ],
   "source": [
    "import pprint\n",
    "from pymongo import MongoClient\n",
    "\n",
    "with MongoClient() as client:\n",
    "    db = client.rptutorials\n",
    "    for doc in db.tutorial.find():\n",
    "        pprint.pprint(doc)"
   ]
  },
  {
   "cell_type": "code",
   "execution_count": 28,
   "metadata": {},
   "outputs": [
    {
     "data": {
      "text/plain": [
       "MongoClient(host=['localhost:27017'], document_class=dict, tz_aware=False, connect=True)"
      ]
     },
     "execution_count": 28,
     "metadata": {},
     "output_type": "execute_result"
    }
   ],
   "source": [
    "client"
   ]
  },
  {
   "cell_type": "code",
   "execution_count": 29,
   "metadata": {},
   "outputs": [
    {
     "name": "stdout",
     "output_type": "stream",
     "text": [
      "Defaulting to user installation because normal site-packages is not writeable\n",
      "Collecting mongoengine\n",
      "  Downloading mongoengine-0.24.2-py3-none-any.whl (108 kB)\n",
      "     ------------------------------------ 108.9/108.9 kB 905.4 kB/s eta 0:00:00\n",
      "Requirement already satisfied: pymongo<5.0,>=3.4 in c:\\users\\user\\appdata\\roaming\\python\\python39\\site-packages (from mongoengine) (4.3.2)\n",
      "Requirement already satisfied: dnspython<3.0.0,>=1.16.0 in c:\\users\\user\\appdata\\roaming\\python\\python39\\site-packages (from pymongo<5.0,>=3.4->mongoengine) (2.2.1)\n",
      "Installing collected packages: mongoengine\n",
      "Successfully installed mongoengine-0.24.2\n"
     ]
    }
   ],
   "source": [
    "!pip install mongoengine"
   ]
  },
  {
   "cell_type": "code",
   "execution_count": 30,
   "metadata": {},
   "outputs": [
    {
     "data": {
      "text/plain": [
       "MongoClient(host=['localhost:27017'], document_class=dict, tz_aware=False, connect=True, read_preference=Primary(), uuidrepresentation=3)"
      ]
     },
     "execution_count": 30,
     "metadata": {},
     "output_type": "execute_result"
    }
   ],
   "source": [
    "from mongoengine import connect\n",
    "connect(db=\"rptutorials\", host=\"localhost\", port=27017)"
   ]
  },
  {
   "cell_type": "code",
   "execution_count": 32,
   "metadata": {},
   "outputs": [],
   "source": [
    "# defining a document schema - how the data needs to be entered\n",
    "\n",
    "from mongoengine import Document, ListField, StringField, URLField\n",
    "\n",
    "class Tutorial(Document):\n",
    "     title = StringField(required=True, max_length=70)\n",
    "     author = StringField(required=True, max_length=20)\n",
    "     contributors = ListField(StringField(max_length=20))\n",
    "     url = URLField(required=True)"
   ]
  },
  {
   "cell_type": "code",
   "execution_count": 34,
   "metadata": {},
   "outputs": [
    {
     "data": {
      "text/plain": [
       "<Tutorial: Tutorial object>"
      ]
     },
     "execution_count": 34,
     "metadata": {},
     "output_type": "execute_result"
    }
   ],
   "source": [
    "tutorial1 = Tutorial(\n",
    "     title=\"Beautiful Soup: Build a Web Scraper With Python\",\n",
    "     author=\"Martin\",\n",
    "     contributors=[\"Aldren\", \"Geir Arne\", \"Jaya\", \"Joanna\", \"Mike\"],\n",
    "     url=\"https://realpython.com/beautiful-soup-web-scraper-python/\"\n",
    " )\n",
    "\n",
    "tutorial1.save()  # Insert the new tutorial, checks it against the schema declared in the Tutorial model class"
   ]
  },
  {
   "cell_type": "code",
   "execution_count": 36,
   "metadata": {},
   "outputs": [
    {
     "ename": "ValidationError",
     "evalue": "ValidationError (Tutorial:None) (Field is required: ['title'])",
     "output_type": "error",
     "traceback": [
      "\u001b[1;31m---------------------------------------------------------------------------\u001b[0m",
      "\u001b[1;31mValidationError\u001b[0m                           Traceback (most recent call last)",
      "Cell \u001b[1;32mIn [36], line 7\u001b[0m\n\u001b[0;32m      5\u001b[0m tutorial2\u001b[39m.\u001b[39mcontributors \u001b[39m=\u001b[39m [\u001b[39m\"\u001b[39m\u001b[39mAldren\u001b[39m\u001b[39m\"\u001b[39m, \u001b[39m\"\u001b[39m\u001b[39mJon\u001b[39m\u001b[39m\"\u001b[39m, \u001b[39m\"\u001b[39m\u001b[39mJoanna\u001b[39m\u001b[39m\"\u001b[39m]\n\u001b[0;32m      6\u001b[0m tutorial2\u001b[39m.\u001b[39murl \u001b[39m=\u001b[39m \u001b[39m\"\u001b[39m\u001b[39mhttps://realpython.com/convert-python-string-to-int/\u001b[39m\u001b[39m\"\u001b[39m\n\u001b[1;32m----> 7\u001b[0m tutorial2\u001b[39m.\u001b[39;49msave()\n",
      "File \u001b[1;32m~\\AppData\\Roaming\\Python\\Python39\\site-packages\\mongoengine\\document.py:396\u001b[0m, in \u001b[0;36mDocument.save\u001b[1;34m(self, force_insert, validate, clean, write_concern, cascade, cascade_kwargs, _refs, save_condition, signal_kwargs, **kwargs)\u001b[0m\n\u001b[0;32m    393\u001b[0m signals\u001b[39m.\u001b[39mpre_save\u001b[39m.\u001b[39msend(\u001b[39mself\u001b[39m\u001b[39m.\u001b[39m\u001b[39m__class__\u001b[39m, document\u001b[39m=\u001b[39m\u001b[39mself\u001b[39m, \u001b[39m*\u001b[39m\u001b[39m*\u001b[39msignal_kwargs)\n\u001b[0;32m    395\u001b[0m \u001b[39mif\u001b[39;00m validate:\n\u001b[1;32m--> 396\u001b[0m     \u001b[39mself\u001b[39;49m\u001b[39m.\u001b[39;49mvalidate(clean\u001b[39m=\u001b[39;49mclean)\n\u001b[0;32m    398\u001b[0m \u001b[39mif\u001b[39;00m write_concern \u001b[39mis\u001b[39;00m \u001b[39mNone\u001b[39;00m:\n\u001b[0;32m    399\u001b[0m     write_concern \u001b[39m=\u001b[39m {}\n",
      "File \u001b[1;32m~\\AppData\\Roaming\\Python\\Python39\\site-packages\\mongoengine\\base\\document.py:439\u001b[0m, in \u001b[0;36mBaseDocument.validate\u001b[1;34m(self, clean)\u001b[0m\n\u001b[0;32m    437\u001b[0m     pk \u001b[39m=\u001b[39m \u001b[39mself\u001b[39m\u001b[39m.\u001b[39m_instance\u001b[39m.\u001b[39mpk\n\u001b[0;32m    438\u001b[0m message \u001b[39m=\u001b[39m \u001b[39mf\u001b[39m\u001b[39m\"\u001b[39m\u001b[39mValidationError (\u001b[39m\u001b[39m{\u001b[39;00m\u001b[39mself\u001b[39m\u001b[39m.\u001b[39m_class_name\u001b[39m}\u001b[39;00m\u001b[39m:\u001b[39m\u001b[39m{\u001b[39;00mpk\u001b[39m}\u001b[39;00m\u001b[39m) \u001b[39m\u001b[39m\"\u001b[39m\n\u001b[1;32m--> 439\u001b[0m \u001b[39mraise\u001b[39;00m ValidationError(message, errors\u001b[39m=\u001b[39merrors)\n",
      "\u001b[1;31mValidationError\u001b[0m: ValidationError (Tutorial:None) (Field is required: ['title'])"
     ]
    }
   ],
   "source": [
    "# this is what happens if you try to save a tutorial without providing a title\n",
    "\n",
    "tutorial2 = Tutorial()\n",
    "tutorial2.author = \"Alex\"\n",
    "tutorial2.contributors = [\"Aldren\", \"Jon\", \"Joanna\"]\n",
    "tutorial2.url = \"https://realpython.com/convert-python-string-to-int/\"\n",
    "tutorial2.save()"
   ]
  },
  {
   "cell_type": "code",
   "execution_count": 37,
   "metadata": {},
   "outputs": [
    {
     "name": "stdout",
     "output_type": "stream",
     "text": [
      "How to Iterate Through a Dictionary in Python\n",
      "Working With JSON Data in Python\n",
      "Python's Requests Library (Guide)\n",
      "Object-Oriented Programming (OOP) in Python 3\n",
      "Python's Requests Library (Guide)\n",
      "Object-Oriented Programming (OOP) in Python 3\n",
      "Beautiful Soup: Build a Web Scraper With Python\n",
      "Beautiful Soup: Build a Web Scraper With Python\n"
     ]
    }
   ],
   "source": [
    "for doc in Tutorial.objects:\n",
    "     print(doc.title)"
   ]
  },
  {
   "cell_type": "code",
   "execution_count": 38,
   "metadata": {},
   "outputs": [
    {
     "name": "stdout",
     "output_type": "stream",
     "text": [
      "Python's Requests Library (Guide)\n",
      "Python's Requests Library (Guide)\n"
     ]
    }
   ],
   "source": [
    "for doc in Tutorial.objects(author=\"Alex\"):\n",
    "    print(doc.title)\n"
   ]
  },
  {
   "cell_type": "code",
   "execution_count": null,
   "metadata": {},
   "outputs": [],
   "source": []
  }
 ],
 "metadata": {
  "kernelspec": {
   "display_name": "Python 3.9.13 64-bit",
   "language": "python",
   "name": "python3"
  },
  "language_info": {
   "codemirror_mode": {
    "name": "ipython",
    "version": 3
   },
   "file_extension": ".py",
   "mimetype": "text/x-python",
   "name": "python",
   "nbconvert_exporter": "python",
   "pygments_lexer": "ipython3",
   "version": "3.9.13"
  },
  "orig_nbformat": 4,
  "vscode": {
   "interpreter": {
    "hash": "11938c6bc6919ae2720b4d5011047913343b08a43b18698fd82dedb0d4417594"
   }
  }
 },
 "nbformat": 4,
 "nbformat_minor": 2
}
